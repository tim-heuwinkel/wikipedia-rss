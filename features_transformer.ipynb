{
 "cells": [
  {
   "cell_type": "markdown",
   "metadata": {},
   "source": [
    "# Feature Engineering for Transformer Model"
   ]
  },
  {
   "cell_type": "markdown",
   "metadata": {},
   "source": [
    "This notebook processes the downloaded and decompressed Wikipedia articles and should therefore be run __after__ ``download_wikipedia.ipynb`` and ``download_foursquare.ipynb``. Transformer features will be created."
   ]
  },
  {
   "cell_type": "markdown",
   "metadata": {},
   "source": [
    "### Import packages"
   ]
  },
  {
   "cell_type": "code",
   "execution_count": 1,
   "metadata": {},
   "outputs": [],
   "source": [
    "%load_ext autoreload\n",
    "%autoreload 2"
   ]
  },
  {
   "cell_type": "code",
   "execution_count": 2,
   "metadata": {},
   "outputs": [],
   "source": [
    "import os\n",
    "import gc\n",
    "import json\n",
    "import re\n",
    "import math\n",
    "from collections import Counter\n",
    "import warnings\n",
    "warnings.filterwarnings(action=\"ignore\")\n",
    "\n",
    "from tqdm.notebook import tqdm\n",
    "from nltk.tokenize import RegexpTokenizer\n",
    "from nltk.corpus import stopwords\n",
    "from nltk.stem.wordnet import WordNetLemmatizer\n",
    "from transformers import AutoTokenizer\n",
    "from transformers import AutoModel\n",
    "import torch\n",
    "from datasets import load_dataset\n",
    "import pandas as pd\n",
    "import matplotlib.pyplot as plt\n",
    "import numpy as np\n",
    "from geopy import distance\n",
    "import seaborn as sns\n",
    "sns.set_style(\"ticks\",{'axes.grid' : True})\n",
    "\n",
    "import multiprocessor_wiki"
   ]
  },
  {
   "cell_type": "markdown",
   "metadata": {},
   "source": [
    "Define constants.\n",
    "\n",
    "- ``PATH``: Path to the base data folder\n",
    "- ``REGION_NAME``: Name of the region to consider\n",
    "- ``CPU_CORES``: How many cores to use to process data, default=all - 1\n",
    "- ``MODEL_NAME``: Which HuggingFace model to use for creating the embeddings\n",
    "- ``ONLY_SUMMARY``: Whether to use only the summary or the full article\n",
    "- ``WEIGHTING``: Whether to employ weighting strategy for subdocuments\n",
    "- ``MEAN``: Whether to calculate the mean of subdocuments\n",
    "- ``DEVICE``: Which device to use for Transformer model (CPU/GPU/TPU)\n",
    "- ``MAX_LENGTH``: Maximum sequence input length for Transformer\n",
    "- ``WEIGHT_FUNC``: Which weighting function to use (\"tanh\", \"linear\" or \"cubic\")\n",
    "- ``LAST_K_HIDDEN``: From how many last hidden layers to extract embeddings\n",
    "- ``MAX_DIST``: Maximum radius around each venue for Wikipedia articles to be considered\n",
    "- ``K_CLOSEST``:  Cutoff/upper bound for number of articles in range"
   ]
  },
  {
   "cell_type": "code",
   "execution_count": 3,
   "metadata": {},
   "outputs": [],
   "source": [
    "PATH = \"C:/Users/Tim/.keras/datasets/wikipedia_rss/\"\n",
    "REGION_NAME = \"NY\"\n",
    "CPU_CORES = os.cpu_count() - 1\n",
    "MODEL_NAME = \"distilbert-base-uncased\"\n",
    "ONLY_SUMMARY = True\n",
    "WEIGHTING = True\n",
    "MEAN = True\n",
    "DEVICE = \"cpu\"\n",
    "MAX_LENGTH = 512\n",
    "WEIGHT_FUNC = \"tanh\"\n",
    "LAST_K_HIDDEN = 4\n",
    "MAX_DIST = 2000\n",
    "K_CLOSEST = math.inf"
   ]
  },
  {
   "cell_type": "markdown",
   "metadata": {},
   "source": [
    "Load data."
   ]
  },
  {
   "cell_type": "code",
   "execution_count": 4,
   "metadata": {},
   "outputs": [],
   "source": [
    "with open(PATH+f\"wikipedia/wikipedia_selected_{REGION_NAME}.ndjson\") as fin:\n",
    "    data_loaded = json.load(fin)"
   ]
  },
  {
   "cell_type": "code",
   "execution_count": 5,
   "metadata": {
    "scrolled": false
   },
   "outputs": [
    {
     "name": "stdout",
     "output_type": "stream",
     "text": [
      "(13243, 7)\n"
     ]
    },
    {
     "data": {
      "text/html": [
       "<div>\n",
       "<style scoped>\n",
       "    .dataframe tbody tr th:only-of-type {\n",
       "        vertical-align: middle;\n",
       "    }\n",
       "\n",
       "    .dataframe tbody tr th {\n",
       "        vertical-align: top;\n",
       "    }\n",
       "\n",
       "    .dataframe thead th {\n",
       "        text-align: right;\n",
       "    }\n",
       "</style>\n",
       "<table border=\"1\" class=\"dataframe\">\n",
       "  <thead>\n",
       "    <tr style=\"text-align: right;\">\n",
       "      <th></th>\n",
       "      <th>name</th>\n",
       "      <th>coords</th>\n",
       "      <th>templates</th>\n",
       "      <th>text</th>\n",
       "      <th>wikilinks</th>\n",
       "      <th>ext_links</th>\n",
       "      <th>text_length</th>\n",
       "    </tr>\n",
       "  </thead>\n",
       "  <tbody>\n",
       "    <tr>\n",
       "      <th>0</th>\n",
       "      <td>Rose Hill, Manhattan</td>\n",
       "      <td>[40.742, -73.983]</td>\n",
       "      <td>None</td>\n",
       "      <td>thumb|right|300px|The 69th Regiment Armory on ...</td>\n",
       "      <td>[File:69th-regiment-armory.JPG, 69th Regiment ...</td>\n",
       "      <td>[https://query.nytimes.com/gst/fullpage.html?r...</td>\n",
       "      <td>10789</td>\n",
       "    </tr>\n",
       "    <tr>\n",
       "      <th>1</th>\n",
       "      <td>American Surety Building</td>\n",
       "      <td>[40.7081, -74.0112]</td>\n",
       "      <td>{'name': 'American Surety Building', 'image': ...</td>\n",
       "      <td>The American Surety Building (also known as th...</td>\n",
       "      <td>[Manhattan, Neoclassical architecture, Bruce P...</td>\n",
       "      <td>[http://maps.nyc.gov/, https://www.nytimes.com...</td>\n",
       "      <td>26150</td>\n",
       "    </tr>\n",
       "    <tr>\n",
       "      <th>2</th>\n",
       "      <td>Lenox Hill</td>\n",
       "      <td>[40.769, -73.962]</td>\n",
       "      <td>None</td>\n",
       "      <td>thumb|200px|1st Avenue in Lenox Hill \\n \\n Len...</td>\n",
       "      <td>[File:1st Avenue - Manhattan.jpg, Manhattan, U...</td>\n",
       "      <td>[https://www.nytimes.com/1995/12/31/realestate...</td>\n",
       "      <td>7467</td>\n",
       "    </tr>\n",
       "    <tr>\n",
       "      <th>3</th>\n",
       "      <td>Miller Field (Staten Island)</td>\n",
       "      <td>[40.564166666666665, -74.09555555555555]</td>\n",
       "      <td>{'name': 'Miller Army Air Field Historic Distr...</td>\n",
       "      <td>Miller Field was a United States Army facility...</td>\n",
       "      <td>[New Dorp, Staten Island, Staten Island, New Y...</td>\n",
       "      <td>[https://cris.parks.ny.gov/, http://webarchive...</td>\n",
       "      <td>4516</td>\n",
       "    </tr>\n",
       "    <tr>\n",
       "      <th>4</th>\n",
       "      <td>Myrtle Avenue station (BMT Fourth Avenue Line)</td>\n",
       "      <td>[40.6937, -73.9833]</td>\n",
       "      <td>{'type': 'former', 'name': 'Myrtle Avenue', 'b...</td>\n",
       "      <td>Myrtle Avenue was a local station on the Manha...</td>\n",
       "      <td>[BMT Fourth Avenue Line, side platform, Brookl...</td>\n",
       "      <td>[https://www.newspapers.com/clip/48814840/, ht...</td>\n",
       "      <td>4636</td>\n",
       "    </tr>\n",
       "  </tbody>\n",
       "</table>\n",
       "</div>"
      ],
      "text/plain": [
       "                                             name  \\\n",
       "0                            Rose Hill, Manhattan   \n",
       "1                        American Surety Building   \n",
       "2                                      Lenox Hill   \n",
       "3                    Miller Field (Staten Island)   \n",
       "4  Myrtle Avenue station (BMT Fourth Avenue Line)   \n",
       "\n",
       "                                     coords  \\\n",
       "0                         [40.742, -73.983]   \n",
       "1                       [40.7081, -74.0112]   \n",
       "2                         [40.769, -73.962]   \n",
       "3  [40.564166666666665, -74.09555555555555]   \n",
       "4                       [40.6937, -73.9833]   \n",
       "\n",
       "                                           templates  \\\n",
       "0                                               None   \n",
       "1  {'name': 'American Surety Building', 'image': ...   \n",
       "2                                               None   \n",
       "3  {'name': 'Miller Army Air Field Historic Distr...   \n",
       "4  {'type': 'former', 'name': 'Myrtle Avenue', 'b...   \n",
       "\n",
       "                                                text  \\\n",
       "0  thumb|right|300px|The 69th Regiment Armory on ...   \n",
       "1  The American Surety Building (also known as th...   \n",
       "2  thumb|200px|1st Avenue in Lenox Hill \\n \\n Len...   \n",
       "3  Miller Field was a United States Army facility...   \n",
       "4  Myrtle Avenue was a local station on the Manha...   \n",
       "\n",
       "                                           wikilinks  \\\n",
       "0  [File:69th-regiment-armory.JPG, 69th Regiment ...   \n",
       "1  [Manhattan, Neoclassical architecture, Bruce P...   \n",
       "2  [File:1st Avenue - Manhattan.jpg, Manhattan, U...   \n",
       "3  [New Dorp, Staten Island, Staten Island, New Y...   \n",
       "4  [BMT Fourth Avenue Line, side platform, Brookl...   \n",
       "\n",
       "                                           ext_links  text_length  \n",
       "0  [https://query.nytimes.com/gst/fullpage.html?r...        10789  \n",
       "1  [http://maps.nyc.gov/, https://www.nytimes.com...        26150  \n",
       "2  [https://www.nytimes.com/1995/12/31/realestate...         7467  \n",
       "3  [https://cris.parks.ny.gov/, http://webarchive...         4516  \n",
       "4  [https://www.newspapers.com/clip/48814840/, ht...         4636  "
      ]
     },
     "execution_count": 5,
     "metadata": {},
     "output_type": "execute_result"
    }
   ],
   "source": [
    "df = pd.DataFrame(data_loaded).rename(columns={0: \"name\", 1: \"coords\", 2: \"templates\", 3: \"text\",\n",
    "                                               4: \"wikilinks\", 5: \"ext_links\", 6: \"text_length\"})\n",
    "print(df.shape)\n",
    "df.head(5)"
   ]
  },
  {
   "cell_type": "markdown",
   "metadata": {},
   "source": [
    "Load venue data."
   ]
  },
  {
   "cell_type": "code",
   "execution_count": 6,
   "metadata": {},
   "outputs": [
    {
     "name": "stdout",
     "output_type": "stream",
     "text": [
      "(2836, 7)\n"
     ]
    },
    {
     "data": {
      "text/html": [
       "<div>\n",
       "<style scoped>\n",
       "    .dataframe tbody tr th:only-of-type {\n",
       "        vertical-align: middle;\n",
       "    }\n",
       "\n",
       "    .dataframe tbody tr th {\n",
       "        vertical-align: top;\n",
       "    }\n",
       "\n",
       "    .dataframe thead th {\n",
       "        text-align: right;\n",
       "    }\n",
       "</style>\n",
       "<table border=\"1\" class=\"dataframe\">\n",
       "  <thead>\n",
       "    <tr style=\"text-align: right;\">\n",
       "      <th></th>\n",
       "      <th>venue_id</th>\n",
       "      <th>latitude</th>\n",
       "      <th>longitude</th>\n",
       "      <th>borough</th>\n",
       "      <th>category</th>\n",
       "      <th>org_category</th>\n",
       "      <th>total_visits</th>\n",
       "    </tr>\n",
       "  </thead>\n",
       "  <tbody>\n",
       "    <tr>\n",
       "      <th>0</th>\n",
       "      <td>3fd66200f964a52001e51ee3</td>\n",
       "      <td>40.726961</td>\n",
       "      <td>-73.980039</td>\n",
       "      <td>Manhattan</td>\n",
       "      <td>Bar</td>\n",
       "      <td>Dive Bar</td>\n",
       "      <td>1</td>\n",
       "    </tr>\n",
       "    <tr>\n",
       "      <th>1</th>\n",
       "      <td>3fd66200f964a52003e51ee3</td>\n",
       "      <td>40.724822</td>\n",
       "      <td>-73.981456</td>\n",
       "      <td>Manhattan</td>\n",
       "      <td>Bar</td>\n",
       "      <td>Dive Bar</td>\n",
       "      <td>15</td>\n",
       "    </tr>\n",
       "    <tr>\n",
       "      <th>2</th>\n",
       "      <td>3fd66200f964a52010e51ee3</td>\n",
       "      <td>40.727027</td>\n",
       "      <td>-73.982702</td>\n",
       "      <td>Manhattan</td>\n",
       "      <td>Bar</td>\n",
       "      <td>Dive Bar</td>\n",
       "      <td>14</td>\n",
       "    </tr>\n",
       "    <tr>\n",
       "      <th>3</th>\n",
       "      <td>3fd66200f964a52011e81ee3</td>\n",
       "      <td>40.762812</td>\n",
       "      <td>-73.967519</td>\n",
       "      <td>Manhattan</td>\n",
       "      <td>Bar</td>\n",
       "      <td>Dive Bar</td>\n",
       "      <td>18</td>\n",
       "    </tr>\n",
       "    <tr>\n",
       "      <th>4</th>\n",
       "      <td>3fd66200f964a52018e51ee3</td>\n",
       "      <td>40.725112</td>\n",
       "      <td>-73.981278</td>\n",
       "      <td>Manhattan</td>\n",
       "      <td>Bar</td>\n",
       "      <td>Dive Bar</td>\n",
       "      <td>29</td>\n",
       "    </tr>\n",
       "  </tbody>\n",
       "</table>\n",
       "</div>"
      ],
      "text/plain": [
       "                   venue_id   latitude  longitude    borough category  \\\n",
       "0  3fd66200f964a52001e51ee3  40.726961 -73.980039  Manhattan      Bar   \n",
       "1  3fd66200f964a52003e51ee3  40.724822 -73.981456  Manhattan      Bar   \n",
       "2  3fd66200f964a52010e51ee3  40.727027 -73.982702  Manhattan      Bar   \n",
       "3  3fd66200f964a52011e81ee3  40.762812 -73.967519  Manhattan      Bar   \n",
       "4  3fd66200f964a52018e51ee3  40.725112 -73.981278  Manhattan      Bar   \n",
       "\n",
       "  org_category  total_visits  \n",
       "0     Dive Bar             1  \n",
       "1     Dive Bar            15  \n",
       "2     Dive Bar            14  \n",
       "3     Dive Bar            18  \n",
       "4     Dive Bar            29  "
      ]
     },
     "execution_count": 6,
     "metadata": {},
     "output_type": "execute_result"
    }
   ],
   "source": [
    "df_structured = pd.read_csv(PATH + \"structured_preprocessed.csv\")\n",
    "df_structured.rename(columns={\"lat\":\"latitude\", \"long\":\"longitude\"}, inplace=True)\n",
    "print(df_structured.shape)\n",
    "df_structured.head()"
   ]
  },
  {
   "cell_type": "markdown",
   "metadata": {},
   "source": [
    "Remove additional tags and Wikipedia formatting."
   ]
  },
  {
   "cell_type": "code",
   "execution_count": 7,
   "metadata": {},
   "outputs": [
    {
     "name": "stdout",
     "output_type": "stream",
     "text": [
      "(13226, 7)\n"
     ]
    }
   ],
   "source": [
    "def clean_str(text, only_summary):\n",
    "    subbed_1 = subbed = re.sub('<.*>',  '', text)\n",
    "    subbed_2 = re.sub('thumb|',  '', subbed_1)\n",
    "    if only_summary:\n",
    "        subbed_2 = subbed_2.split(\"==\")[0]  \n",
    "    return subbed_2 if len(subbed_2) > 10 else pd.NA\n",
    "\n",
    "df[\"text\"] = df[\"text\"].apply(clean_str, args=[ONLY_SUMMARY])\n",
    "df = df.dropna(axis=0, subset=[\"text\"])  # drop NA rows\n",
    "print(df.shape)"
   ]
  },
  {
   "cell_type": "markdown",
   "metadata": {},
   "source": [
    "Save one dimensional file."
   ]
  },
  {
   "cell_type": "code",
   "execution_count": 8,
   "metadata": {},
   "outputs": [
    {
     "data": {
      "text/html": [
       "<div>\n",
       "<style scoped>\n",
       "    .dataframe tbody tr th:only-of-type {\n",
       "        vertical-align: middle;\n",
       "    }\n",
       "\n",
       "    .dataframe tbody tr th {\n",
       "        vertical-align: top;\n",
       "    }\n",
       "\n",
       "    .dataframe thead th {\n",
       "        text-align: right;\n",
       "    }\n",
       "</style>\n",
       "<table border=\"1\" class=\"dataframe\">\n",
       "  <thead>\n",
       "    <tr style=\"text-align: right;\">\n",
       "      <th></th>\n",
       "      <th>name</th>\n",
       "      <th>text</th>\n",
       "      <th>text_length</th>\n",
       "      <th>lat</th>\n",
       "      <th>long</th>\n",
       "    </tr>\n",
       "  </thead>\n",
       "  <tbody>\n",
       "    <tr>\n",
       "      <th>0</th>\n",
       "      <td>Rose Hill, Manhattan</td>\n",
       "      <td>|right|300px|The 69th Regiment Armory on Lexin...</td>\n",
       "      <td>10789</td>\n",
       "      <td>40.742000</td>\n",
       "      <td>-73.983000</td>\n",
       "    </tr>\n",
       "    <tr>\n",
       "      <th>1</th>\n",
       "      <td>American Surety Building</td>\n",
       "      <td>The American Surety Building (also known as th...</td>\n",
       "      <td>26150</td>\n",
       "      <td>40.708100</td>\n",
       "      <td>-74.011200</td>\n",
       "    </tr>\n",
       "    <tr>\n",
       "      <th>2</th>\n",
       "      <td>Lenox Hill</td>\n",
       "      <td>|200px|1st Avenue in Lenox Hill \\n \\n Lenox Hi...</td>\n",
       "      <td>7467</td>\n",
       "      <td>40.769000</td>\n",
       "      <td>-73.962000</td>\n",
       "    </tr>\n",
       "    <tr>\n",
       "      <th>3</th>\n",
       "      <td>Miller Field (Staten Island)</td>\n",
       "      <td>Miller Field was a United States Army facility...</td>\n",
       "      <td>4516</td>\n",
       "      <td>40.564167</td>\n",
       "      <td>-74.095556</td>\n",
       "    </tr>\n",
       "    <tr>\n",
       "      <th>4</th>\n",
       "      <td>Myrtle Avenue station (BMT Fourth Avenue Line)</td>\n",
       "      <td>Myrtle Avenue was a local station on the Manha...</td>\n",
       "      <td>4636</td>\n",
       "      <td>40.693700</td>\n",
       "      <td>-73.983300</td>\n",
       "    </tr>\n",
       "  </tbody>\n",
       "</table>\n",
       "</div>"
      ],
      "text/plain": [
       "                                             name  \\\n",
       "0                            Rose Hill, Manhattan   \n",
       "1                        American Surety Building   \n",
       "2                                      Lenox Hill   \n",
       "3                    Miller Field (Staten Island)   \n",
       "4  Myrtle Avenue station (BMT Fourth Avenue Line)   \n",
       "\n",
       "                                                text  text_length        lat  \\\n",
       "0  |right|300px|The 69th Regiment Armory on Lexin...        10789  40.742000   \n",
       "1  The American Surety Building (also known as th...        26150  40.708100   \n",
       "2  |200px|1st Avenue in Lenox Hill \\n \\n Lenox Hi...         7467  40.769000   \n",
       "3  Miller Field was a United States Army facility...         4516  40.564167   \n",
       "4  Myrtle Avenue was a local station on the Manha...         4636  40.693700   \n",
       "\n",
       "        long  \n",
       "0 -73.983000  \n",
       "1 -74.011200  \n",
       "2 -73.962000  \n",
       "3 -74.095556  \n",
       "4 -73.983300  "
      ]
     },
     "execution_count": 8,
     "metadata": {},
     "output_type": "execute_result"
    }
   ],
   "source": [
    "df_dropped = df.drop([\"templates\", \"wikilinks\", \"ext_links\"], axis=1, inplace=False)\n",
    "df_dropped[\"lat\"] = [x[0] for x in df[\"coords\"]]\n",
    "df_dropped[\"long\"] = [x[1] for x in df[\"coords\"]]\n",
    "df_dropped = df_dropped.drop([\"coords\"], axis=1, inplace=False)\n",
    "if ONLY_SUMMARY:\n",
    "    df_dropped.to_csv(PATH+f\"wikipedia/wikipedia_selected_{REGION_NAME}.csv\", index=False)\n",
    "else:\n",
    "    df_dropped.to_csv(PATH+f\"wikipedia/wikipedia_selected_{REGION_NAME}_FULL.csv\", index=False)\n",
    "df_dropped.head()"
   ]
  },
  {
   "cell_type": "markdown",
   "metadata": {},
   "source": [
    "Load tokenizer and pretrained model."
   ]
  },
  {
   "cell_type": "code",
   "execution_count": 9,
   "metadata": {},
   "outputs": [
    {
     "name": "stderr",
     "output_type": "stream",
     "text": [
      "Some weights of the model checkpoint at distilbert-base-uncased were not used when initializing DistilBertModel: ['vocab_projector.weight', 'vocab_transform.bias', 'vocab_layer_norm.bias', 'vocab_layer_norm.weight', 'vocab_transform.weight', 'vocab_projector.bias']\n",
      "- This IS expected if you are initializing DistilBertModel from the checkpoint of a model trained on another task or with another architecture (e.g. initializing a BertForSequenceClassification model from a BertForPreTraining model).\n",
      "- This IS NOT expected if you are initializing DistilBertModel from the checkpoint of a model that you expect to be exactly identical (initializing a BertForSequenceClassification model from a BertForSequenceClassification model).\n"
     ]
    },
    {
     "name": "stdout",
     "output_type": "stream",
     "text": [
      "Max length: 512\n"
     ]
    }
   ],
   "source": [
    "model = AutoModel.from_pretrained(MODEL_NAME).to(DEVICE)\n",
    "tokenizer = AutoTokenizer.from_pretrained(MODEL_NAME)\n",
    "print(f\"Max length: {tokenizer.model_max_length}\")"
   ]
  },
  {
   "cell_type": "code",
   "execution_count": 10,
   "metadata": {
    "scrolled": false
   },
   "outputs": [
    {
     "name": "stderr",
     "output_type": "stream",
     "text": [
      "Using custom data configuration default-48f798b5196f486d\n"
     ]
    },
    {
     "name": "stdout",
     "output_type": "stream",
     "text": [
      "Downloading and preparing dataset csv/default to C:\\Users\\Tim\\.cache\\huggingface\\datasets\\csv\\default-48f798b5196f486d\\0.0.0\\6b9057d9e23d9d8a2f05b985917a0da84d70c5dae3d22ddd8a3f22fb01c69d9e...\n"
     ]
    },
    {
     "data": {
      "application/vnd.jupyter.widget-view+json": {
       "model_id": "49aadf77ff894e2abaf807c79aceb886",
       "version_major": 2,
       "version_minor": 0
      },
      "text/plain": [
       "  0%|          | 0/1 [00:00<?, ?it/s]"
      ]
     },
     "metadata": {},
     "output_type": "display_data"
    },
    {
     "data": {
      "application/vnd.jupyter.widget-view+json": {
       "model_id": "452361b27dde4f799519462f7aecb65c",
       "version_major": 2,
       "version_minor": 0
      },
      "text/plain": [
       "  0%|          | 0/1 [00:00<?, ?it/s]"
      ]
     },
     "metadata": {},
     "output_type": "display_data"
    },
    {
     "name": "stdout",
     "output_type": "stream",
     "text": [
      "Dataset csv downloaded and prepared to C:\\Users\\Tim\\.cache\\huggingface\\datasets\\csv\\default-48f798b5196f486d\\0.0.0\\6b9057d9e23d9d8a2f05b985917a0da84d70c5dae3d22ddd8a3f22fb01c69d9e. Subsequent calls will reuse this data.\n"
     ]
    },
    {
     "data": {
      "application/vnd.jupyter.widget-view+json": {
       "model_id": "5ddd3024b7d2441db5eff90db471caeb",
       "version_major": 2,
       "version_minor": 0
      },
      "text/plain": [
       "  0%|          | 0/1 [00:00<?, ?it/s]"
      ]
     },
     "metadata": {},
     "output_type": "display_data"
    },
    {
     "data": {
      "text/plain": [
       "DatasetDict({\n",
       "    train: Dataset({\n",
       "        features: ['name', 'text', 'text_length', 'lat', 'long'],\n",
       "        num_rows: 13226\n",
       "    })\n",
       "})"
      ]
     },
     "execution_count": 10,
     "metadata": {},
     "output_type": "execute_result"
    }
   ],
   "source": [
    "if ONLY_SUMMARY:\n",
    "    hf_data = load_dataset('csv', data_files=PATH+f\"wikipedia/wikipedia_selected_{REGION_NAME}.csv\")\n",
    "else:\n",
    "    hf_data = load_dataset('csv', data_files=PATH+f\"wikipedia/wikipedia_selected_{REGION_NAME}_FULL.csv\")\n",
    "hf_data"
   ]
  },
  {
   "cell_type": "code",
   "execution_count": 11,
   "metadata": {
    "scrolled": true
   },
   "outputs": [
    {
     "data": {
      "application/vnd.jupyter.widget-view+json": {
       "model_id": "ca4eeaedbf424f408415a268fbe883b2",
       "version_major": 2,
       "version_minor": 0
      },
      "text/plain": [
       "  0%|          | 0/1 [00:00<?, ?ba/s]"
      ]
     },
     "metadata": {},
     "output_type": "display_data"
    }
   ],
   "source": [
    "def tokenize(batch):\n",
    "    return tokenizer(\n",
    "        batch[\"text\"],\n",
    "        add_special_tokens=True,\n",
    "        padding=True, truncation=True,\n",
    "        max_length=MAX_LENGTH,\n",
    "        # return_tensors=\"pt\"\n",
    "    )\n",
    "\n",
    "hf_data_encoded = hf_data.map(tokenize, batched=True, batch_size=df.shape[0])"
   ]
  },
  {
   "cell_type": "code",
   "execution_count": 12,
   "metadata": {
    "scrolled": false
   },
   "outputs": [
    {
     "data": {
      "text/plain": [
       "512"
      ]
     },
     "execution_count": 12,
     "metadata": {},
     "output_type": "execute_result"
    }
   ],
   "source": [
    "len(hf_data_encoded[\"train\"][\"input_ids\"][1])"
   ]
  },
  {
   "cell_type": "markdown",
   "metadata": {},
   "source": [
    "Define function for extracting the \\[cls\\] token for the last four hidden layers."
   ]
  },
  {
   "cell_type": "code",
   "execution_count": 13,
   "metadata": {},
   "outputs": [],
   "source": [
    "def extract_features_cls(batch):\n",
    "    # store inputs in separate variables\n",
    "    input_ids = torch.tensor(batch[\"input_ids\"]).to(DEVICE)\n",
    "    attention_mask = torch.tensor(batch[\"attention_mask\"]).to(DEVICE)\n",
    "\n",
    "    # feed inputs into model and save outputs\n",
    "    with torch.no_grad():\n",
    "        output = model(input_ids, attention_mask, output_hidden_states=True)\n",
    "        hidden_states = output.hidden_states[-LAST_K_HIDDEN:]\n",
    "        concatted_states = torch.concat(hidden_states, axis=2).cpu().numpy()\n",
    "\n",
    "    # extract the hidden states for the CLS token only\n",
    "    cls_lhs = concatted_states[:, 0, :]\n",
    "\n",
    "    # return results\n",
    "    batch[\"cls_hidden_state\"] = cls_lhs\n",
    "    return batch"
   ]
  },
  {
   "cell_type": "markdown",
   "metadata": {},
   "source": [
    "Find out mean token length of article."
   ]
  },
  {
   "cell_type": "code",
   "execution_count": 14,
   "metadata": {
    "scrolled": false
   },
   "outputs": [
    {
     "name": "stdout",
     "output_type": "stream",
     "text": [
      "The average article has 133.58241342809617 tokens\n"
     ]
    }
   ],
   "source": [
    "att_mask = hf_data_encoded[\"train\"][\"attention_mask\"]\n",
    "mask_lens = [sum(mask) for mask in att_mask]\n",
    "print(f\"The average article has {np.mean(mask_lens)} tokens\")"
   ]
  },
  {
   "cell_type": "markdown",
   "metadata": {},
   "source": [
    "Create word embeddings for each article."
   ]
  },
  {
   "cell_type": "code",
   "execution_count": 15,
   "metadata": {
    "scrolled": false
   },
   "outputs": [],
   "source": [
    "# hf_encoded = hf_data_encoded.map(extract_features_cls, \n",
    "#                                  batched=True,\n",
    "#                                  batch_size=128)\n",
    "# embeddings = np.array(hf_encoded[\"train\"][\"cls_hidden_state\"])\n",
    "# embeddings.shape"
   ]
  },
  {
   "cell_type": "code",
   "execution_count": 16,
   "metadata": {},
   "outputs": [],
   "source": [
    "# embeddings = np.array(hf_encoded[\"train\"][\"cls_hidden_state\"])\n",
    "# embedding_df = pd.DataFrame(data=embeddings)\n",
    "# emb_col_names = [f\"embedding_{i}\" for i in range(embeddings.shape[1])]\n",
    "# embedding_df.columns = emb_col_names\n",
    "# if ONLY_SUMMARY:\n",
    "#     embedding_df.to_csv(PATH+f\"venues_bert_vectors_LAST_{LAST_K_HIDDEN}.csv\", index=False)\n",
    "# else:\n",
    "#     embedding_df.to_csv(PATH+f\"venues_bert_vectors_LAST_{LAST_K_HIDDEN}_FULL.csv\", index=False)\n",
    "# print(embedding_df.shape)\n",
    "# embedding_df.head()"
   ]
  },
  {
   "cell_type": "markdown",
   "metadata": {},
   "source": [
    "Alternatively load processed embeddings."
   ]
  },
  {
   "cell_type": "code",
   "execution_count": 17,
   "metadata": {},
   "outputs": [
    {
     "name": "stdout",
     "output_type": "stream",
     "text": [
      "(13226, 3072)\n"
     ]
    },
    {
     "data": {
      "text/html": [
       "<div>\n",
       "<style scoped>\n",
       "    .dataframe tbody tr th:only-of-type {\n",
       "        vertical-align: middle;\n",
       "    }\n",
       "\n",
       "    .dataframe tbody tr th {\n",
       "        vertical-align: top;\n",
       "    }\n",
       "\n",
       "    .dataframe thead th {\n",
       "        text-align: right;\n",
       "    }\n",
       "</style>\n",
       "<table border=\"1\" class=\"dataframe\">\n",
       "  <thead>\n",
       "    <tr style=\"text-align: right;\">\n",
       "      <th></th>\n",
       "      <th>embedding_0</th>\n",
       "      <th>embedding_1</th>\n",
       "      <th>embedding_2</th>\n",
       "      <th>embedding_3</th>\n",
       "      <th>embedding_4</th>\n",
       "      <th>embedding_5</th>\n",
       "      <th>embedding_6</th>\n",
       "      <th>embedding_7</th>\n",
       "      <th>embedding_8</th>\n",
       "      <th>embedding_9</th>\n",
       "      <th>...</th>\n",
       "      <th>embedding_3062</th>\n",
       "      <th>embedding_3063</th>\n",
       "      <th>embedding_3064</th>\n",
       "      <th>embedding_3065</th>\n",
       "      <th>embedding_3066</th>\n",
       "      <th>embedding_3067</th>\n",
       "      <th>embedding_3068</th>\n",
       "      <th>embedding_3069</th>\n",
       "      <th>embedding_3070</th>\n",
       "      <th>embedding_3071</th>\n",
       "    </tr>\n",
       "  </thead>\n",
       "  <tbody>\n",
       "    <tr>\n",
       "      <th>0</th>\n",
       "      <td>-0.526676</td>\n",
       "      <td>-0.702344</td>\n",
       "      <td>-0.392028</td>\n",
       "      <td>0.046045</td>\n",
       "      <td>0.189469</td>\n",
       "      <td>-0.106948</td>\n",
       "      <td>-0.420722</td>\n",
       "      <td>-0.168178</td>\n",
       "      <td>-0.623543</td>\n",
       "      <td>-0.676071</td>\n",
       "      <td>...</td>\n",
       "      <td>0.045866</td>\n",
       "      <td>-0.017992</td>\n",
       "      <td>0.084301</td>\n",
       "      <td>-0.562944</td>\n",
       "      <td>0.258235</td>\n",
       "      <td>-0.074027</td>\n",
       "      <td>-0.161628</td>\n",
       "      <td>0.273979</td>\n",
       "      <td>0.352641</td>\n",
       "      <td>0.775011</td>\n",
       "    </tr>\n",
       "    <tr>\n",
       "      <th>1</th>\n",
       "      <td>-0.457073</td>\n",
       "      <td>-0.618344</td>\n",
       "      <td>-0.561515</td>\n",
       "      <td>0.205052</td>\n",
       "      <td>0.218935</td>\n",
       "      <td>0.062639</td>\n",
       "      <td>-0.624263</td>\n",
       "      <td>-0.543638</td>\n",
       "      <td>-0.732029</td>\n",
       "      <td>-0.317487</td>\n",
       "      <td>...</td>\n",
       "      <td>0.188706</td>\n",
       "      <td>-0.347753</td>\n",
       "      <td>0.150500</td>\n",
       "      <td>-0.483816</td>\n",
       "      <td>0.224380</td>\n",
       "      <td>-0.209450</td>\n",
       "      <td>-0.180172</td>\n",
       "      <td>0.421988</td>\n",
       "      <td>0.171194</td>\n",
       "      <td>0.552664</td>\n",
       "    </tr>\n",
       "    <tr>\n",
       "      <th>2</th>\n",
       "      <td>-0.468631</td>\n",
       "      <td>-0.737294</td>\n",
       "      <td>-0.570606</td>\n",
       "      <td>0.084071</td>\n",
       "      <td>0.291877</td>\n",
       "      <td>-0.070572</td>\n",
       "      <td>-0.494196</td>\n",
       "      <td>-0.228723</td>\n",
       "      <td>-0.610233</td>\n",
       "      <td>-0.503486</td>\n",
       "      <td>...</td>\n",
       "      <td>0.048750</td>\n",
       "      <td>-0.133502</td>\n",
       "      <td>0.041183</td>\n",
       "      <td>-0.592192</td>\n",
       "      <td>0.297426</td>\n",
       "      <td>-0.123245</td>\n",
       "      <td>-0.241094</td>\n",
       "      <td>0.242403</td>\n",
       "      <td>0.320455</td>\n",
       "      <td>0.607622</td>\n",
       "    </tr>\n",
       "    <tr>\n",
       "      <th>3</th>\n",
       "      <td>-0.361590</td>\n",
       "      <td>-0.536362</td>\n",
       "      <td>-0.508738</td>\n",
       "      <td>-0.024905</td>\n",
       "      <td>0.336211</td>\n",
       "      <td>0.014100</td>\n",
       "      <td>-0.418654</td>\n",
       "      <td>-0.210742</td>\n",
       "      <td>-0.682765</td>\n",
       "      <td>-0.230468</td>\n",
       "      <td>...</td>\n",
       "      <td>0.034016</td>\n",
       "      <td>-0.362666</td>\n",
       "      <td>0.337491</td>\n",
       "      <td>-0.656979</td>\n",
       "      <td>0.131086</td>\n",
       "      <td>0.232773</td>\n",
       "      <td>-0.149192</td>\n",
       "      <td>0.536848</td>\n",
       "      <td>0.123052</td>\n",
       "      <td>0.608280</td>\n",
       "    </tr>\n",
       "    <tr>\n",
       "      <th>4</th>\n",
       "      <td>-0.412264</td>\n",
       "      <td>-0.873946</td>\n",
       "      <td>-0.540666</td>\n",
       "      <td>-0.041418</td>\n",
       "      <td>0.374387</td>\n",
       "      <td>0.024146</td>\n",
       "      <td>-0.389521</td>\n",
       "      <td>-0.230020</td>\n",
       "      <td>-0.722442</td>\n",
       "      <td>-0.187966</td>\n",
       "      <td>...</td>\n",
       "      <td>-0.097683</td>\n",
       "      <td>-0.457972</td>\n",
       "      <td>0.226274</td>\n",
       "      <td>-0.529338</td>\n",
       "      <td>0.394718</td>\n",
       "      <td>0.011816</td>\n",
       "      <td>-0.242552</td>\n",
       "      <td>0.447886</td>\n",
       "      <td>0.403720</td>\n",
       "      <td>0.524198</td>\n",
       "    </tr>\n",
       "  </tbody>\n",
       "</table>\n",
       "<p>5 rows × 3072 columns</p>\n",
       "</div>"
      ],
      "text/plain": [
       "   embedding_0  embedding_1  embedding_2  embedding_3  embedding_4  \\\n",
       "0    -0.526676    -0.702344    -0.392028     0.046045     0.189469   \n",
       "1    -0.457073    -0.618344    -0.561515     0.205052     0.218935   \n",
       "2    -0.468631    -0.737294    -0.570606     0.084071     0.291877   \n",
       "3    -0.361590    -0.536362    -0.508738    -0.024905     0.336211   \n",
       "4    -0.412264    -0.873946    -0.540666    -0.041418     0.374387   \n",
       "\n",
       "   embedding_5  embedding_6  embedding_7  embedding_8  embedding_9  ...  \\\n",
       "0    -0.106948    -0.420722    -0.168178    -0.623543    -0.676071  ...   \n",
       "1     0.062639    -0.624263    -0.543638    -0.732029    -0.317487  ...   \n",
       "2    -0.070572    -0.494196    -0.228723    -0.610233    -0.503486  ...   \n",
       "3     0.014100    -0.418654    -0.210742    -0.682765    -0.230468  ...   \n",
       "4     0.024146    -0.389521    -0.230020    -0.722442    -0.187966  ...   \n",
       "\n",
       "   embedding_3062  embedding_3063  embedding_3064  embedding_3065  \\\n",
       "0        0.045866       -0.017992        0.084301       -0.562944   \n",
       "1        0.188706       -0.347753        0.150500       -0.483816   \n",
       "2        0.048750       -0.133502        0.041183       -0.592192   \n",
       "3        0.034016       -0.362666        0.337491       -0.656979   \n",
       "4       -0.097683       -0.457972        0.226274       -0.529338   \n",
       "\n",
       "   embedding_3066  embedding_3067  embedding_3068  embedding_3069  \\\n",
       "0        0.258235       -0.074027       -0.161628        0.273979   \n",
       "1        0.224380       -0.209450       -0.180172        0.421988   \n",
       "2        0.297426       -0.123245       -0.241094        0.242403   \n",
       "3        0.131086        0.232773       -0.149192        0.536848   \n",
       "4        0.394718        0.011816       -0.242552        0.447886   \n",
       "\n",
       "   embedding_3070  embedding_3071  \n",
       "0        0.352641        0.775011  \n",
       "1        0.171194        0.552664  \n",
       "2        0.320455        0.607622  \n",
       "3        0.123052        0.608280  \n",
       "4        0.403720        0.524198  \n",
       "\n",
       "[5 rows x 3072 columns]"
      ]
     },
     "execution_count": 17,
     "metadata": {},
     "output_type": "execute_result"
    }
   ],
   "source": [
    "if ONLY_SUMMARY:\n",
    "    embedding_df = pd.read_csv(PATH+f\"venues_bert_vectors_LAST_{LAST_K_HIDDEN}.csv\")\n",
    "else:\n",
    "    embedding_df = pd.read_csv(PATH+f\"venues_bert_vectors_LAST_{LAST_K_HIDDEN}_FULL.csv\")\n",
    "emb_col_names = embedding_df.columns\n",
    "print(embedding_df.shape)\n",
    "embedding_df.head()"
   ]
  },
  {
   "cell_type": "markdown",
   "metadata": {},
   "source": [
    "Create feature vectors for each venue by spatially weighting article embeddings."
   ]
  },
  {
   "cell_type": "code",
   "execution_count": 18,
   "metadata": {
    "scrolled": false
   },
   "outputs": [
    {
     "data": {
      "application/vnd.jupyter.widget-view+json": {
       "model_id": "9cdca675b85e46579b0dff1a16efb3f1",
       "version_major": 2,
       "version_minor": 0
      },
      "text/plain": [
       "  0%|          | 0/100 [00:00<?, ?it/s]"
      ]
     },
     "metadata": {},
     "output_type": "display_data"
    }
   ],
   "source": [
    "df.reset_index(drop=True, inplace=True)  # make sure index is from 0 to n-1\n",
    "structured_features = multiprocessor_wiki.process_text_features(df_structured, df, embedding_df.to_numpy(),\n",
    "                                                                emb_col_names, MAX_DIST, CPU_CORES,\n",
    "                                                                WEIGHTING, MEAN, WEIGHT_FUNC, K_CLOSEST)"
   ]
  },
  {
   "cell_type": "code",
   "execution_count": 19,
   "metadata": {},
   "outputs": [
    {
     "name": "stdout",
     "output_type": "stream",
     "text": [
      "(2836, 3080)\n"
     ]
    },
    {
     "data": {
      "text/html": [
       "<div>\n",
       "<style scoped>\n",
       "    .dataframe tbody tr th:only-of-type {\n",
       "        vertical-align: middle;\n",
       "    }\n",
       "\n",
       "    .dataframe tbody tr th {\n",
       "        vertical-align: top;\n",
       "    }\n",
       "\n",
       "    .dataframe thead th {\n",
       "        text-align: right;\n",
       "    }\n",
       "</style>\n",
       "<table border=\"1\" class=\"dataframe\">\n",
       "  <thead>\n",
       "    <tr style=\"text-align: right;\">\n",
       "      <th></th>\n",
       "      <th>venue_id</th>\n",
       "      <th>latitude</th>\n",
       "      <th>longitude</th>\n",
       "      <th>borough</th>\n",
       "      <th>category</th>\n",
       "      <th>org_category</th>\n",
       "      <th>total_visits</th>\n",
       "      <th>embedding_0</th>\n",
       "      <th>embedding_1</th>\n",
       "      <th>embedding_2</th>\n",
       "      <th>...</th>\n",
       "      <th>embedding_3063</th>\n",
       "      <th>embedding_3064</th>\n",
       "      <th>embedding_3065</th>\n",
       "      <th>embedding_3066</th>\n",
       "      <th>embedding_3067</th>\n",
       "      <th>embedding_3068</th>\n",
       "      <th>embedding_3069</th>\n",
       "      <th>embedding_3070</th>\n",
       "      <th>embedding_3071</th>\n",
       "      <th>article_count</th>\n",
       "    </tr>\n",
       "  </thead>\n",
       "  <tbody>\n",
       "    <tr>\n",
       "      <th>0</th>\n",
       "      <td>3fd66200f964a52001e51ee3</td>\n",
       "      <td>40.726961</td>\n",
       "      <td>-73.980039</td>\n",
       "      <td>Manhattan</td>\n",
       "      <td>Bar</td>\n",
       "      <td>Dive Bar</td>\n",
       "      <td>1</td>\n",
       "      <td>-0.062071</td>\n",
       "      <td>-0.097178</td>\n",
       "      <td>-0.069577</td>\n",
       "      <td>...</td>\n",
       "      <td>-0.052685</td>\n",
       "      <td>0.010986</td>\n",
       "      <td>-0.069755</td>\n",
       "      <td>0.026353</td>\n",
       "      <td>-0.019935</td>\n",
       "      <td>-0.030799</td>\n",
       "      <td>0.043548</td>\n",
       "      <td>0.050848</td>\n",
       "      <td>0.068039</td>\n",
       "      <td>856</td>\n",
       "    </tr>\n",
       "    <tr>\n",
       "      <th>1</th>\n",
       "      <td>3fd66200f964a52003e51ee3</td>\n",
       "      <td>40.724822</td>\n",
       "      <td>-73.981456</td>\n",
       "      <td>Manhattan</td>\n",
       "      <td>Bar</td>\n",
       "      <td>Dive Bar</td>\n",
       "      <td>15</td>\n",
       "      <td>-0.069718</td>\n",
       "      <td>-0.11177</td>\n",
       "      <td>-0.078443</td>\n",
       "      <td>...</td>\n",
       "      <td>-0.059709</td>\n",
       "      <td>0.01233</td>\n",
       "      <td>-0.079474</td>\n",
       "      <td>0.030337</td>\n",
       "      <td>-0.022145</td>\n",
       "      <td>-0.034773</td>\n",
       "      <td>0.048387</td>\n",
       "      <td>0.057833</td>\n",
       "      <td>0.07536</td>\n",
       "      <td>852</td>\n",
       "    </tr>\n",
       "    <tr>\n",
       "      <th>2</th>\n",
       "      <td>3fd66200f964a52010e51ee3</td>\n",
       "      <td>40.727027</td>\n",
       "      <td>-73.982702</td>\n",
       "      <td>Manhattan</td>\n",
       "      <td>Bar</td>\n",
       "      <td>Dive Bar</td>\n",
       "      <td>14</td>\n",
       "      <td>-0.074433</td>\n",
       "      <td>-0.116254</td>\n",
       "      <td>-0.082995</td>\n",
       "      <td>...</td>\n",
       "      <td>-0.062746</td>\n",
       "      <td>0.013605</td>\n",
       "      <td>-0.081564</td>\n",
       "      <td>0.030894</td>\n",
       "      <td>-0.023386</td>\n",
       "      <td>-0.035927</td>\n",
       "      <td>0.050782</td>\n",
       "      <td>0.06123</td>\n",
       "      <td>0.081813</td>\n",
       "      <td>982</td>\n",
       "    </tr>\n",
       "    <tr>\n",
       "      <th>3</th>\n",
       "      <td>3fd66200f964a52011e81ee3</td>\n",
       "      <td>40.762812</td>\n",
       "      <td>-73.967519</td>\n",
       "      <td>Manhattan</td>\n",
       "      <td>Bar</td>\n",
       "      <td>Dive Bar</td>\n",
       "      <td>18</td>\n",
       "      <td>-0.094893</td>\n",
       "      <td>-0.144206</td>\n",
       "      <td>-0.103662</td>\n",
       "      <td>...</td>\n",
       "      <td>-0.067645</td>\n",
       "      <td>0.023879</td>\n",
       "      <td>-0.107948</td>\n",
       "      <td>0.039623</td>\n",
       "      <td>-0.027029</td>\n",
       "      <td>-0.032887</td>\n",
       "      <td>0.063146</td>\n",
       "      <td>0.078024</td>\n",
       "      <td>0.105435</td>\n",
       "      <td>1221</td>\n",
       "    </tr>\n",
       "    <tr>\n",
       "      <th>4</th>\n",
       "      <td>3fd66200f964a52018e51ee3</td>\n",
       "      <td>40.725112</td>\n",
       "      <td>-73.981278</td>\n",
       "      <td>Manhattan</td>\n",
       "      <td>Bar</td>\n",
       "      <td>Dive Bar</td>\n",
       "      <td>29</td>\n",
       "      <td>-0.068102</td>\n",
       "      <td>-0.108868</td>\n",
       "      <td>-0.076608</td>\n",
       "      <td>...</td>\n",
       "      <td>-0.058303</td>\n",
       "      <td>0.012036</td>\n",
       "      <td>-0.077477</td>\n",
       "      <td>0.029539</td>\n",
       "      <td>-0.021663</td>\n",
       "      <td>-0.033969</td>\n",
       "      <td>0.047322</td>\n",
       "      <td>0.056421</td>\n",
       "      <td>0.073728</td>\n",
       "      <td>863</td>\n",
       "    </tr>\n",
       "    <tr>\n",
       "      <th>5</th>\n",
       "      <td>3fd66200f964a5201be41ee3</td>\n",
       "      <td>40.719238</td>\n",
       "      <td>-73.985588</td>\n",
       "      <td>Manhattan</td>\n",
       "      <td>Bar</td>\n",
       "      <td>Dive Bar</td>\n",
       "      <td>17</td>\n",
       "      <td>-0.074527</td>\n",
       "      <td>-0.122512</td>\n",
       "      <td>-0.083022</td>\n",
       "      <td>...</td>\n",
       "      <td>-0.06169</td>\n",
       "      <td>0.01346</td>\n",
       "      <td>-0.086967</td>\n",
       "      <td>0.034429</td>\n",
       "      <td>-0.02353</td>\n",
       "      <td>-0.035387</td>\n",
       "      <td>0.050915</td>\n",
       "      <td>0.061384</td>\n",
       "      <td>0.080623</td>\n",
       "      <td>874</td>\n",
       "    </tr>\n",
       "    <tr>\n",
       "      <th>6</th>\n",
       "      <td>3fd66200f964a52025e41ee3</td>\n",
       "      <td>40.72488</td>\n",
       "      <td>-73.994685</td>\n",
       "      <td>Manhattan</td>\n",
       "      <td>Bar</td>\n",
       "      <td>Dive Bar</td>\n",
       "      <td>26</td>\n",
       "      <td>-0.111875</td>\n",
       "      <td>-0.174933</td>\n",
       "      <td>-0.120087</td>\n",
       "      <td>...</td>\n",
       "      <td>-0.088188</td>\n",
       "      <td>0.021318</td>\n",
       "      <td>-0.116937</td>\n",
       "      <td>0.044632</td>\n",
       "      <td>-0.030874</td>\n",
       "      <td>-0.047606</td>\n",
       "      <td>0.068924</td>\n",
       "      <td>0.088975</td>\n",
       "      <td>0.125505</td>\n",
       "      <td>1193</td>\n",
       "    </tr>\n",
       "    <tr>\n",
       "      <th>7</th>\n",
       "      <td>3fd66200f964a52029e31ee3</td>\n",
       "      <td>40.725638</td>\n",
       "      <td>-73.984561</td>\n",
       "      <td>Manhattan</td>\n",
       "      <td>Bar</td>\n",
       "      <td>Dive Bar</td>\n",
       "      <td>15</td>\n",
       "      <td>-0.082956</td>\n",
       "      <td>-0.1312</td>\n",
       "      <td>-0.092229</td>\n",
       "      <td>...</td>\n",
       "      <td>-0.069818</td>\n",
       "      <td>0.015339</td>\n",
       "      <td>-0.090974</td>\n",
       "      <td>0.034611</td>\n",
       "      <td>-0.025585</td>\n",
       "      <td>-0.039598</td>\n",
       "      <td>0.055665</td>\n",
       "      <td>0.068519</td>\n",
       "      <td>0.090649</td>\n",
       "      <td>1019</td>\n",
       "    </tr>\n",
       "    <tr>\n",
       "      <th>8</th>\n",
       "      <td>3fd66200f964a5202ee41ee3</td>\n",
       "      <td>40.728543</td>\n",
       "      <td>-73.984699</td>\n",
       "      <td>Manhattan</td>\n",
       "      <td>Bar</td>\n",
       "      <td>Dive Bar</td>\n",
       "      <td>34</td>\n",
       "      <td>-0.086315</td>\n",
       "      <td>-0.132255</td>\n",
       "      <td>-0.095396</td>\n",
       "      <td>...</td>\n",
       "      <td>-0.07121</td>\n",
       "      <td>0.016312</td>\n",
       "      <td>-0.09156</td>\n",
       "      <td>0.0345</td>\n",
       "      <td>-0.026654</td>\n",
       "      <td>-0.040059</td>\n",
       "      <td>0.057359</td>\n",
       "      <td>0.07048</td>\n",
       "      <td>0.096252</td>\n",
       "      <td>1061</td>\n",
       "    </tr>\n",
       "    <tr>\n",
       "      <th>9</th>\n",
       "      <td>3fd66200f964a52033e61ee3</td>\n",
       "      <td>40.72478</td>\n",
       "      <td>-73.994703</td>\n",
       "      <td>Manhattan</td>\n",
       "      <td>Bar</td>\n",
       "      <td>Dive Bar</td>\n",
       "      <td>10</td>\n",
       "      <td>-0.111822</td>\n",
       "      <td>-0.174947</td>\n",
       "      <td>-0.120036</td>\n",
       "      <td>...</td>\n",
       "      <td>-0.088104</td>\n",
       "      <td>0.02128</td>\n",
       "      <td>-0.116991</td>\n",
       "      <td>0.044704</td>\n",
       "      <td>-0.030856</td>\n",
       "      <td>-0.047577</td>\n",
       "      <td>0.068944</td>\n",
       "      <td>0.088897</td>\n",
       "      <td>0.125438</td>\n",
       "      <td>1190</td>\n",
       "    </tr>\n",
       "  </tbody>\n",
       "</table>\n",
       "<p>10 rows × 3080 columns</p>\n",
       "</div>"
      ],
      "text/plain": [
       "                   venue_id   latitude  longitude    borough category  \\\n",
       "0  3fd66200f964a52001e51ee3  40.726961 -73.980039  Manhattan      Bar   \n",
       "1  3fd66200f964a52003e51ee3  40.724822 -73.981456  Manhattan      Bar   \n",
       "2  3fd66200f964a52010e51ee3  40.727027 -73.982702  Manhattan      Bar   \n",
       "3  3fd66200f964a52011e81ee3  40.762812 -73.967519  Manhattan      Bar   \n",
       "4  3fd66200f964a52018e51ee3  40.725112 -73.981278  Manhattan      Bar   \n",
       "5  3fd66200f964a5201be41ee3  40.719238 -73.985588  Manhattan      Bar   \n",
       "6  3fd66200f964a52025e41ee3   40.72488 -73.994685  Manhattan      Bar   \n",
       "7  3fd66200f964a52029e31ee3  40.725638 -73.984561  Manhattan      Bar   \n",
       "8  3fd66200f964a5202ee41ee3  40.728543 -73.984699  Manhattan      Bar   \n",
       "9  3fd66200f964a52033e61ee3   40.72478 -73.994703  Manhattan      Bar   \n",
       "\n",
       "  org_category total_visits embedding_0 embedding_1 embedding_2  ...  \\\n",
       "0     Dive Bar            1   -0.062071   -0.097178   -0.069577  ...   \n",
       "1     Dive Bar           15   -0.069718    -0.11177   -0.078443  ...   \n",
       "2     Dive Bar           14   -0.074433   -0.116254   -0.082995  ...   \n",
       "3     Dive Bar           18   -0.094893   -0.144206   -0.103662  ...   \n",
       "4     Dive Bar           29   -0.068102   -0.108868   -0.076608  ...   \n",
       "5     Dive Bar           17   -0.074527   -0.122512   -0.083022  ...   \n",
       "6     Dive Bar           26   -0.111875   -0.174933   -0.120087  ...   \n",
       "7     Dive Bar           15   -0.082956     -0.1312   -0.092229  ...   \n",
       "8     Dive Bar           34   -0.086315   -0.132255   -0.095396  ...   \n",
       "9     Dive Bar           10   -0.111822   -0.174947   -0.120036  ...   \n",
       "\n",
       "  embedding_3063 embedding_3064 embedding_3065 embedding_3066 embedding_3067  \\\n",
       "0      -0.052685       0.010986      -0.069755       0.026353      -0.019935   \n",
       "1      -0.059709        0.01233      -0.079474       0.030337      -0.022145   \n",
       "2      -0.062746       0.013605      -0.081564       0.030894      -0.023386   \n",
       "3      -0.067645       0.023879      -0.107948       0.039623      -0.027029   \n",
       "4      -0.058303       0.012036      -0.077477       0.029539      -0.021663   \n",
       "5       -0.06169        0.01346      -0.086967       0.034429       -0.02353   \n",
       "6      -0.088188       0.021318      -0.116937       0.044632      -0.030874   \n",
       "7      -0.069818       0.015339      -0.090974       0.034611      -0.025585   \n",
       "8       -0.07121       0.016312       -0.09156         0.0345      -0.026654   \n",
       "9      -0.088104        0.02128      -0.116991       0.044704      -0.030856   \n",
       "\n",
       "  embedding_3068 embedding_3069 embedding_3070 embedding_3071 article_count  \n",
       "0      -0.030799       0.043548       0.050848       0.068039           856  \n",
       "1      -0.034773       0.048387       0.057833        0.07536           852  \n",
       "2      -0.035927       0.050782        0.06123       0.081813           982  \n",
       "3      -0.032887       0.063146       0.078024       0.105435          1221  \n",
       "4      -0.033969       0.047322       0.056421       0.073728           863  \n",
       "5      -0.035387       0.050915       0.061384       0.080623           874  \n",
       "6      -0.047606       0.068924       0.088975       0.125505          1193  \n",
       "7      -0.039598       0.055665       0.068519       0.090649          1019  \n",
       "8      -0.040059       0.057359        0.07048       0.096252          1061  \n",
       "9      -0.047577       0.068944       0.088897       0.125438          1190  \n",
       "\n",
       "[10 rows x 3080 columns]"
      ]
     },
     "execution_count": 19,
     "metadata": {},
     "output_type": "execute_result"
    }
   ],
   "source": [
    "print(structured_features.shape)\n",
    "structured_features.head(10)"
   ]
  },
  {
   "cell_type": "markdown",
   "metadata": {},
   "source": [
    "See how many venues have no Wikipedia articles nearby."
   ]
  },
  {
   "cell_type": "code",
   "execution_count": 20,
   "metadata": {},
   "outputs": [
    {
     "name": "stdout",
     "output_type": "stream",
     "text": [
      "Number of venues without a Wikipedia article nearby for radius 2000m: 0\n"
     ]
    }
   ],
   "source": [
    "no_articles = structured_features[structured_features.isna().any(axis=1)].shape[0]\n",
    "print(f\"Number of venues without a Wikipedia article nearby for radius {MAX_DIST}m: {no_articles}\")"
   ]
  },
  {
   "cell_type": "markdown",
   "metadata": {},
   "source": [
    "Distribution of number of articles in range."
   ]
  },
  {
   "cell_type": "code",
   "execution_count": 21,
   "metadata": {},
   "outputs": [
    {
     "data": {
      "image/png": "[encoded data removed]",
      "text/plain": [
       "<Figure size 432x288 with 1 Axes>"
      ]
     },
     "metadata": {},
     "output_type": "display_data"
    }
   ],
   "source": [
    "ax = sns.violinplot(list(structured_features[\"article_count\"]), inner=\"box\", linewidth=2.5)\n",
    "plt.title(f\"Distribution of number of articles in {MAX_DIST}m radius around venues\")\n",
    "plt.savefig(f\"visualizations/article_distribution_{MAX_DIST}m.png\", width=700, height=600, scale=1.5)"
   ]
  },
  {
   "cell_type": "markdown",
   "metadata": {},
   "source": [
    "Save structured + text based features."
   ]
  },
  {
   "cell_type": "code",
   "execution_count": 22,
   "metadata": {},
   "outputs": [],
   "source": [
    "if ONLY_SUMMARY:\n",
    "    structured_features.to_csv(PATH + f\"structured_bert_{str(MAX_DIST)}_{WEIGHT_FUNC}.csv\", index=False)\n",
    "else:\n",
    "    structured_features.to_csv(PATH + f\"structured_bert_{str(MAX_DIST)}_{WEIGHT_FUNC}_FULL.csv\", index=False)"
   ]
  },
  {
   "cell_type": "markdown",
   "metadata": {},
   "source": [
    "### Create Embeddings for out of sample data for RFECV"
   ]
  },
  {
   "cell_type": "code",
   "execution_count": 23,
   "metadata": {},
   "outputs": [
    {
     "name": "stdout",
     "output_type": "stream",
     "text": [
      "(241, 7)\n"
     ]
    },
    {
     "data": {
      "text/html": [
       "<div>\n",
       "<style scoped>\n",
       "    .dataframe tbody tr th:only-of-type {\n",
       "        vertical-align: middle;\n",
       "    }\n",
       "\n",
       "    .dataframe tbody tr th {\n",
       "        vertical-align: top;\n",
       "    }\n",
       "\n",
       "    .dataframe thead th {\n",
       "        text-align: right;\n",
       "    }\n",
       "</style>\n",
       "<table border=\"1\" class=\"dataframe\">\n",
       "  <thead>\n",
       "    <tr style=\"text-align: right;\">\n",
       "      <th></th>\n",
       "      <th>venue_id</th>\n",
       "      <th>latitude</th>\n",
       "      <th>longitude</th>\n",
       "      <th>borough</th>\n",
       "      <th>category</th>\n",
       "      <th>org_category</th>\n",
       "      <th>total_visits</th>\n",
       "    </tr>\n",
       "  </thead>\n",
       "  <tbody>\n",
       "    <tr>\n",
       "      <th>0</th>\n",
       "      <td>4b088119f964a520420d23e3</td>\n",
       "      <td>40.891799</td>\n",
       "      <td>-74.211735</td>\n",
       "      <td>NaN</td>\n",
       "      <td>Bar</td>\n",
       "      <td>Dive Bar</td>\n",
       "      <td>1</td>\n",
       "    </tr>\n",
       "    <tr>\n",
       "      <th>1</th>\n",
       "      <td>4b3e11e8f964a5201d9825e3</td>\n",
       "      <td>40.876140</td>\n",
       "      <td>-74.139872</td>\n",
       "      <td>NaN</td>\n",
       "      <td>Bar</td>\n",
       "      <td>Dive Bar</td>\n",
       "      <td>3</td>\n",
       "    </tr>\n",
       "    <tr>\n",
       "      <th>2</th>\n",
       "      <td>4b8c7598f964a520dbd132e3</td>\n",
       "      <td>40.871631</td>\n",
       "      <td>-74.087548</td>\n",
       "      <td>NaN</td>\n",
       "      <td>Bar</td>\n",
       "      <td>Dive Bar</td>\n",
       "      <td>2</td>\n",
       "    </tr>\n",
       "    <tr>\n",
       "      <th>3</th>\n",
       "      <td>4ba24e91f964a520b8eb37e3</td>\n",
       "      <td>40.811090</td>\n",
       "      <td>-74.122510</td>\n",
       "      <td>NaN</td>\n",
       "      <td>Bar</td>\n",
       "      <td>Dive Bar</td>\n",
       "      <td>9</td>\n",
       "    </tr>\n",
       "    <tr>\n",
       "      <th>4</th>\n",
       "      <td>4bca54b7cc8cd13a108ebdcf</td>\n",
       "      <td>40.662233</td>\n",
       "      <td>-74.264004</td>\n",
       "      <td>NaN</td>\n",
       "      <td>Bar</td>\n",
       "      <td>Dive Bar</td>\n",
       "      <td>2</td>\n",
       "    </tr>\n",
       "  </tbody>\n",
       "</table>\n",
       "</div>"
      ],
      "text/plain": [
       "                   venue_id   latitude  longitude  borough category  \\\n",
       "0  4b088119f964a520420d23e3  40.891799 -74.211735      NaN      Bar   \n",
       "1  4b3e11e8f964a5201d9825e3  40.876140 -74.139872      NaN      Bar   \n",
       "2  4b8c7598f964a520dbd132e3  40.871631 -74.087548      NaN      Bar   \n",
       "3  4ba24e91f964a520b8eb37e3  40.811090 -74.122510      NaN      Bar   \n",
       "4  4bca54b7cc8cd13a108ebdcf  40.662233 -74.264004      NaN      Bar   \n",
       "\n",
       "  org_category  total_visits  \n",
       "0     Dive Bar             1  \n",
       "1     Dive Bar             3  \n",
       "2     Dive Bar             2  \n",
       "3     Dive Bar             9  \n",
       "4     Dive Bar             2  "
      ]
     },
     "execution_count": 23,
     "metadata": {},
     "output_type": "execute_result"
    }
   ],
   "source": [
    "df_structured = pd.read_csv(PATH + \"structured_preprocessed_out_borough.csv\")\n",
    "df_structured.rename(columns={\"lat\":\"latitude\", \"long\":\"longitude\"}, inplace=True)\n",
    "print(df_structured.shape)\n",
    "df_structured.head()"
   ]
  },
  {
   "cell_type": "code",
   "execution_count": 24,
   "metadata": {},
   "outputs": [
    {
     "data": {
      "application/vnd.jupyter.widget-view+json": {
       "model_id": "454311d7d911496eb5a50f4a7984f545",
       "version_major": 2,
       "version_minor": 0
      },
      "text/plain": [
       "  0%|          | 0/100 [00:00<?, ?it/s]"
      ]
     },
     "metadata": {},
     "output_type": "display_data"
    },
    {
     "name": "stdout",
     "output_type": "stream",
     "text": [
      "(241, 3080)\n"
     ]
    },
    {
     "data": {
      "text/html": [
       "<div>\n",
       "<style scoped>\n",
       "    .dataframe tbody tr th:only-of-type {\n",
       "        vertical-align: middle;\n",
       "    }\n",
       "\n",
       "    .dataframe tbody tr th {\n",
       "        vertical-align: top;\n",
       "    }\n",
       "\n",
       "    .dataframe thead th {\n",
       "        text-align: right;\n",
       "    }\n",
       "</style>\n",
       "<table border=\"1\" class=\"dataframe\">\n",
       "  <thead>\n",
       "    <tr style=\"text-align: right;\">\n",
       "      <th></th>\n",
       "      <th>venue_id</th>\n",
       "      <th>latitude</th>\n",
       "      <th>longitude</th>\n",
       "      <th>borough</th>\n",
       "      <th>category</th>\n",
       "      <th>org_category</th>\n",
       "      <th>total_visits</th>\n",
       "      <th>embedding_0</th>\n",
       "      <th>embedding_1</th>\n",
       "      <th>embedding_2</th>\n",
       "      <th>...</th>\n",
       "      <th>embedding_3063</th>\n",
       "      <th>embedding_3064</th>\n",
       "      <th>embedding_3065</th>\n",
       "      <th>embedding_3066</th>\n",
       "      <th>embedding_3067</th>\n",
       "      <th>embedding_3068</th>\n",
       "      <th>embedding_3069</th>\n",
       "      <th>embedding_3070</th>\n",
       "      <th>embedding_3071</th>\n",
       "      <th>article_count</th>\n",
       "    </tr>\n",
       "  </thead>\n",
       "  <tbody>\n",
       "    <tr>\n",
       "      <th>0</th>\n",
       "      <td>4b088119f964a520420d23e3</td>\n",
       "      <td>40.891799</td>\n",
       "      <td>-74.211735</td>\n",
       "      <td>NaN</td>\n",
       "      <td>Bar</td>\n",
       "      <td>Dive Bar</td>\n",
       "      <td>1</td>\n",
       "      <td>-0.019716</td>\n",
       "      <td>-0.026598</td>\n",
       "      <td>-0.023909</td>\n",
       "      <td>...</td>\n",
       "      <td>-0.015082</td>\n",
       "      <td>0.010508</td>\n",
       "      <td>-0.033798</td>\n",
       "      <td>0.005585</td>\n",
       "      <td>-0.004191</td>\n",
       "      <td>-0.007512</td>\n",
       "      <td>0.015505</td>\n",
       "      <td>0.007878</td>\n",
       "      <td>0.021956</td>\n",
       "      <td>12</td>\n",
       "    </tr>\n",
       "    <tr>\n",
       "      <th>1</th>\n",
       "      <td>4b3e11e8f964a5201d9825e3</td>\n",
       "      <td>40.87614</td>\n",
       "      <td>-74.139872</td>\n",
       "      <td>NaN</td>\n",
       "      <td>Bar</td>\n",
       "      <td>Dive Bar</td>\n",
       "      <td>3</td>\n",
       "      <td>-0.016037</td>\n",
       "      <td>-0.020826</td>\n",
       "      <td>-0.01951</td>\n",
       "      <td>...</td>\n",
       "      <td>-0.007928</td>\n",
       "      <td>0.004765</td>\n",
       "      <td>-0.012032</td>\n",
       "      <td>0.00934</td>\n",
       "      <td>-0.001287</td>\n",
       "      <td>-0.008945</td>\n",
       "      <td>0.01007</td>\n",
       "      <td>0.011002</td>\n",
       "      <td>0.013282</td>\n",
       "      <td>19</td>\n",
       "    </tr>\n",
       "    <tr>\n",
       "      <th>2</th>\n",
       "      <td>4b8c7598f964a520dbd132e3</td>\n",
       "      <td>40.871631</td>\n",
       "      <td>-74.087548</td>\n",
       "      <td>NaN</td>\n",
       "      <td>Bar</td>\n",
       "      <td>Dive Bar</td>\n",
       "      <td>2</td>\n",
       "      <td>-0.134171</td>\n",
       "      <td>-0.168981</td>\n",
       "      <td>-0.159048</td>\n",
       "      <td>...</td>\n",
       "      <td>-0.080352</td>\n",
       "      <td>0.089095</td>\n",
       "      <td>-0.215762</td>\n",
       "      <td>0.055131</td>\n",
       "      <td>-0.034219</td>\n",
       "      <td>-0.054769</td>\n",
       "      <td>0.121109</td>\n",
       "      <td>0.086303</td>\n",
       "      <td>0.182372</td>\n",
       "      <td>16</td>\n",
       "    </tr>\n",
       "    <tr>\n",
       "      <th>3</th>\n",
       "      <td>4ba24e91f964a520b8eb37e3</td>\n",
       "      <td>40.81109</td>\n",
       "      <td>-74.12251</td>\n",
       "      <td>NaN</td>\n",
       "      <td>Bar</td>\n",
       "      <td>Dive Bar</td>\n",
       "      <td>9</td>\n",
       "      <td>-0.10393</td>\n",
       "      <td>-0.15263</td>\n",
       "      <td>-0.148584</td>\n",
       "      <td>...</td>\n",
       "      <td>-0.085313</td>\n",
       "      <td>0.062011</td>\n",
       "      <td>-0.153963</td>\n",
       "      <td>0.048709</td>\n",
       "      <td>-0.011138</td>\n",
       "      <td>-0.04072</td>\n",
       "      <td>0.127239</td>\n",
       "      <td>0.059316</td>\n",
       "      <td>0.102241</td>\n",
       "      <td>23</td>\n",
       "    </tr>\n",
       "    <tr>\n",
       "      <th>4</th>\n",
       "      <td>4bca54b7cc8cd13a108ebdcf</td>\n",
       "      <td>40.662233</td>\n",
       "      <td>-74.264004</td>\n",
       "      <td>NaN</td>\n",
       "      <td>Bar</td>\n",
       "      <td>Dive Bar</td>\n",
       "      <td>2</td>\n",
       "      <td>-0.181676</td>\n",
       "      <td>-0.242084</td>\n",
       "      <td>-0.215564</td>\n",
       "      <td>...</td>\n",
       "      <td>-0.122232</td>\n",
       "      <td>0.111944</td>\n",
       "      <td>-0.282089</td>\n",
       "      <td>0.081326</td>\n",
       "      <td>-0.024224</td>\n",
       "      <td>-0.077719</td>\n",
       "      <td>0.201603</td>\n",
       "      <td>0.12487</td>\n",
       "      <td>0.168056</td>\n",
       "      <td>10</td>\n",
       "    </tr>\n",
       "    <tr>\n",
       "      <th>5</th>\n",
       "      <td>4bd0dd5c9854d13aa4a4f84d</td>\n",
       "      <td>40.882928</td>\n",
       "      <td>-74.107832</td>\n",
       "      <td>NaN</td>\n",
       "      <td>Bar</td>\n",
       "      <td>Dive Bar</td>\n",
       "      <td>3</td>\n",
       "      <td>-0.157725</td>\n",
       "      <td>-0.203347</td>\n",
       "      <td>-0.164397</td>\n",
       "      <td>...</td>\n",
       "      <td>-0.099383</td>\n",
       "      <td>0.09539</td>\n",
       "      <td>-0.209726</td>\n",
       "      <td>0.061988</td>\n",
       "      <td>-0.018017</td>\n",
       "      <td>-0.059134</td>\n",
       "      <td>0.160857</td>\n",
       "      <td>0.107567</td>\n",
       "      <td>0.13943</td>\n",
       "      <td>12</td>\n",
       "    </tr>\n",
       "    <tr>\n",
       "      <th>6</th>\n",
       "      <td>4c538e72fd2ea59341d49e28</td>\n",
       "      <td>40.85801</td>\n",
       "      <td>-74.1477</td>\n",
       "      <td>NaN</td>\n",
       "      <td>Bar</td>\n",
       "      <td>Dive Bar</td>\n",
       "      <td>25</td>\n",
       "      <td>-0.029068</td>\n",
       "      <td>-0.031303</td>\n",
       "      <td>-0.030037</td>\n",
       "      <td>...</td>\n",
       "      <td>-0.01554</td>\n",
       "      <td>0.011173</td>\n",
       "      <td>-0.029697</td>\n",
       "      <td>0.008827</td>\n",
       "      <td>-0.002111</td>\n",
       "      <td>-0.01422</td>\n",
       "      <td>0.016117</td>\n",
       "      <td>0.016494</td>\n",
       "      <td>0.025411</td>\n",
       "      <td>24</td>\n",
       "    </tr>\n",
       "    <tr>\n",
       "      <th>7</th>\n",
       "      <td>4c53b0df479fc9280fb9e391</td>\n",
       "      <td>40.626042</td>\n",
       "      <td>-74.259126</td>\n",
       "      <td>NaN</td>\n",
       "      <td>Bar</td>\n",
       "      <td>Dive Bar</td>\n",
       "      <td>12</td>\n",
       "      <td>-0.124913</td>\n",
       "      <td>-0.181569</td>\n",
       "      <td>-0.136162</td>\n",
       "      <td>...</td>\n",
       "      <td>-0.104996</td>\n",
       "      <td>0.056544</td>\n",
       "      <td>-0.176523</td>\n",
       "      <td>0.045715</td>\n",
       "      <td>0.005055</td>\n",
       "      <td>-0.027617</td>\n",
       "      <td>0.121856</td>\n",
       "      <td>0.084842</td>\n",
       "      <td>0.086077</td>\n",
       "      <td>8</td>\n",
       "    </tr>\n",
       "    <tr>\n",
       "      <th>8</th>\n",
       "      <td>4c55f8bc973fc9289e3137c8</td>\n",
       "      <td>40.876277</td>\n",
       "      <td>-74.123815</td>\n",
       "      <td>NaN</td>\n",
       "      <td>Bar</td>\n",
       "      <td>Dive Bar</td>\n",
       "      <td>11</td>\n",
       "      <td>-0.066437</td>\n",
       "      <td>-0.072816</td>\n",
       "      <td>-0.086849</td>\n",
       "      <td>...</td>\n",
       "      <td>-0.027981</td>\n",
       "      <td>0.016884</td>\n",
       "      <td>-0.057903</td>\n",
       "      <td>0.035332</td>\n",
       "      <td>-0.004745</td>\n",
       "      <td>-0.029434</td>\n",
       "      <td>0.058656</td>\n",
       "      <td>0.023123</td>\n",
       "      <td>0.053607</td>\n",
       "      <td>23</td>\n",
       "    </tr>\n",
       "    <tr>\n",
       "      <th>9</th>\n",
       "      <td>4c75c36ab474a1cd8c5fbabf</td>\n",
       "      <td>40.644918</td>\n",
       "      <td>-74.223657</td>\n",
       "      <td>NaN</td>\n",
       "      <td>Bar</td>\n",
       "      <td>Dive Bar</td>\n",
       "      <td>1</td>\n",
       "      <td>-0.027942</td>\n",
       "      <td>-0.04312</td>\n",
       "      <td>-0.03499</td>\n",
       "      <td>...</td>\n",
       "      <td>-0.015707</td>\n",
       "      <td>0.013569</td>\n",
       "      <td>-0.02385</td>\n",
       "      <td>0.016469</td>\n",
       "      <td>-0.005103</td>\n",
       "      <td>-0.00789</td>\n",
       "      <td>0.026855</td>\n",
       "      <td>0.02769</td>\n",
       "      <td>0.026609</td>\n",
       "      <td>17</td>\n",
       "    </tr>\n",
       "  </tbody>\n",
       "</table>\n",
       "<p>10 rows × 3080 columns</p>\n",
       "</div>"
      ],
      "text/plain": [
       "                   venue_id   latitude  longitude borough category  \\\n",
       "0  4b088119f964a520420d23e3  40.891799 -74.211735     NaN      Bar   \n",
       "1  4b3e11e8f964a5201d9825e3   40.87614 -74.139872     NaN      Bar   \n",
       "2  4b8c7598f964a520dbd132e3  40.871631 -74.087548     NaN      Bar   \n",
       "3  4ba24e91f964a520b8eb37e3   40.81109  -74.12251     NaN      Bar   \n",
       "4  4bca54b7cc8cd13a108ebdcf  40.662233 -74.264004     NaN      Bar   \n",
       "5  4bd0dd5c9854d13aa4a4f84d  40.882928 -74.107832     NaN      Bar   \n",
       "6  4c538e72fd2ea59341d49e28   40.85801   -74.1477     NaN      Bar   \n",
       "7  4c53b0df479fc9280fb9e391  40.626042 -74.259126     NaN      Bar   \n",
       "8  4c55f8bc973fc9289e3137c8  40.876277 -74.123815     NaN      Bar   \n",
       "9  4c75c36ab474a1cd8c5fbabf  40.644918 -74.223657     NaN      Bar   \n",
       "\n",
       "  org_category total_visits embedding_0 embedding_1 embedding_2  ...  \\\n",
       "0     Dive Bar            1   -0.019716   -0.026598   -0.023909  ...   \n",
       "1     Dive Bar            3   -0.016037   -0.020826    -0.01951  ...   \n",
       "2     Dive Bar            2   -0.134171   -0.168981   -0.159048  ...   \n",
       "3     Dive Bar            9    -0.10393    -0.15263   -0.148584  ...   \n",
       "4     Dive Bar            2   -0.181676   -0.242084   -0.215564  ...   \n",
       "5     Dive Bar            3   -0.157725   -0.203347   -0.164397  ...   \n",
       "6     Dive Bar           25   -0.029068   -0.031303   -0.030037  ...   \n",
       "7     Dive Bar           12   -0.124913   -0.181569   -0.136162  ...   \n",
       "8     Dive Bar           11   -0.066437   -0.072816   -0.086849  ...   \n",
       "9     Dive Bar            1   -0.027942    -0.04312    -0.03499  ...   \n",
       "\n",
       "  embedding_3063 embedding_3064 embedding_3065 embedding_3066 embedding_3067  \\\n",
       "0      -0.015082       0.010508      -0.033798       0.005585      -0.004191   \n",
       "1      -0.007928       0.004765      -0.012032        0.00934      -0.001287   \n",
       "2      -0.080352       0.089095      -0.215762       0.055131      -0.034219   \n",
       "3      -0.085313       0.062011      -0.153963       0.048709      -0.011138   \n",
       "4      -0.122232       0.111944      -0.282089       0.081326      -0.024224   \n",
       "5      -0.099383        0.09539      -0.209726       0.061988      -0.018017   \n",
       "6       -0.01554       0.011173      -0.029697       0.008827      -0.002111   \n",
       "7      -0.104996       0.056544      -0.176523       0.045715       0.005055   \n",
       "8      -0.027981       0.016884      -0.057903       0.035332      -0.004745   \n",
       "9      -0.015707       0.013569       -0.02385       0.016469      -0.005103   \n",
       "\n",
       "  embedding_3068 embedding_3069 embedding_3070 embedding_3071 article_count  \n",
       "0      -0.007512       0.015505       0.007878       0.021956            12  \n",
       "1      -0.008945        0.01007       0.011002       0.013282            19  \n",
       "2      -0.054769       0.121109       0.086303       0.182372            16  \n",
       "3       -0.04072       0.127239       0.059316       0.102241            23  \n",
       "4      -0.077719       0.201603        0.12487       0.168056            10  \n",
       "5      -0.059134       0.160857       0.107567        0.13943            12  \n",
       "6       -0.01422       0.016117       0.016494       0.025411            24  \n",
       "7      -0.027617       0.121856       0.084842       0.086077             8  \n",
       "8      -0.029434       0.058656       0.023123       0.053607            23  \n",
       "9       -0.00789       0.026855        0.02769       0.026609            17  \n",
       "\n",
       "[10 rows x 3080 columns]"
      ]
     },
     "execution_count": 24,
     "metadata": {},
     "output_type": "execute_result"
    }
   ],
   "source": [
    "df.reset_index(drop=True, inplace=True)  # make sure index is from 0 to n-1\n",
    "structured_features = multiprocessor_wiki.process_text_features(df_structured, df, embedding_df.to_numpy(),\n",
    "                                                                emb_col_names, MAX_DIST, CPU_CORES,\n",
    "                                                                WEIGHTING, MEAN, WEIGHT_FUNC, K_CLOSEST)\n",
    "\n",
    "print(structured_features.shape)\n",
    "structured_features.head(10)"
   ]
  },
  {
   "cell_type": "code",
   "execution_count": 25,
   "metadata": {},
   "outputs": [
    {
     "name": "stdout",
     "output_type": "stream",
     "text": [
      "Number of venues without a Wikipedia article nearby for radius 2000m: 0\n"
     ]
    }
   ],
   "source": [
    "no_articles = structured_features[structured_features.loc[:,\"embedding_0\":\"article_count\"].isna().any(axis=1)].shape[0]\n",
    "print(f\"Number of venues without a Wikipedia article nearby for radius {MAX_DIST}m: {no_articles}\")"
   ]
  },
  {
   "cell_type": "code",
   "execution_count": 26,
   "metadata": {},
   "outputs": [],
   "source": [
    "if ONLY_SUMMARY:\n",
    "    structured_features.to_csv(PATH + f\"structured_bert_out_borough_{str(MAX_DIST)}_{WEIGHT_FUNC}.csv\", index=False)\n",
    "else:\n",
    "    structured_features.to_csv(PATH + f\"structured_bert_out_borough_{str(MAX_DIST)}_{WEIGHT_FUNC}_FULL.csv\", index=False)"
   ]
  },
  {
   "cell_type": "code",
   "execution_count": null,
   "metadata": {},
   "outputs": [],
   "source": []
  }
 ],
 "metadata": {
  "kernelspec": {
   "display_name": "Python 3 (ipykernel)",
   "language": "python",
   "name": "python3"
  },
  "language_info": {
   "codemirror_mode": {
    "name": "ipython",
    "version": 3
   },
   "file_extension": ".py",
   "mimetype": "text/x-python",
   "name": "python",
   "nbconvert_exporter": "python",
   "pygments_lexer": "ipython3",
   "version": "3.9.7"
  },
  "widgets": {
   "application/vnd.jupyter.widget-state+json": {
    "state": {
     "000e49cd540a415ca6063142cea0b5d0": {
      "model_module": "@jupyter-widgets/controls",
      "model_module_version": "1.5.0",
      "model_name": "DescriptionStyleModel",
      "state": {
       "description_width": ""
      }
     },
     "001436c532f14578874047d900a61a78": {
      "model_module": "@jupyter-widgets/base",
      "model_module_version": "1.2.0",
      "model_name": "LayoutModel",
      "state": {}
     },
     "002fdabe0220470ab9c884a8e73243ea": {
      "model_module": "@jupyter-widgets/base",
      "model_module_version": "1.2.0",
      "model_name": "LayoutModel",
      "state": {}
     },
     "003f1311c52f4eeca7ac534350be242c": {
      "model_module": "@jupyter-widgets/base",
      "model_module_version": "1.2.0",
      "model_name": "LayoutModel",
      "state": {}
     },
     "005c485507f243d38d56abd06d2d3203": {
      "model_module": "@jupyter-widgets/controls",
      "model_module_version": "1.5.0",
      "model_name": "DescriptionStyleModel",
      "state": {
       "description_width": ""
      }
     },
     "00630fb513ed4a36ac350660222a86e9": {
      "model_module": "@jupyter-widgets/base",
      "model_module_version": "1.2.0",
      "model_name": "LayoutModel",
      "state": {}
     },
     "0082a57d73bf4ab481f693032c4db789": {
      "model_module": "@jupyter-widgets/base",
      "model_module_version": "1.2.0",
      "model_name": "LayoutModel",
      "state": {}
     },
     "008313abfbf1470f8b627ab4d3268e4a": {
      "model_module": "@jupyter-widgets/controls",
      "model_module_version": "1.5.0",
      "model_name": "DescriptionStyleModel",
      "state": {
       "description_width": ""
      }
     },
     "008995b1cd55425fbd89cb4d0f7991e7": {
      "model_module": "@jupyter-widgets/controls",
      "model_module_version": "1.5.0",
      "model_name": "DescriptionStyleModel",
      "state": {
       "description_width": ""
      }
     },
     "00949c761ee64f3ab2196c61da7f9d72": {
      "model_module": "@jupyter-widgets/controls",
      "model_module_version": "1.5.0",
      "model_name": "HTMLModel",
      "state": {
       "layout": "IPY_MODEL_df9c8eeefbd04b7da633a939857a87b0",
       "style": "IPY_MODEL_4787430d76b443ddb62c5968a265e937",
       "value": " 1/1 [00:00&lt;00:00, 83.26it/s]"
      }
     },
     "00ed0d47fc9d42c88344bde32b40c747": {
      "model_module": "@jupyter-widgets/base",
      "model_module_version": "1.2.0",
      "model_name": "LayoutModel",
      "state": {}
     },
     "00ed470c40f64360baac08613ec11b1b": {
      "model_module": "@jupyter-widgets/controls",
      "model_module_version": "1.5.0",
      "model_name": "DescriptionStyleModel",
      "state": {
       "description_width": ""
      }
     },
     "00f81f7fc72b4720bb518223a02ad020": {
      "model_module": "@jupyter-widgets/base",
      "model_module_version": "1.2.0",
      "model_name": "LayoutModel",
      "state": {}
     },
     "00fd9d03512b4661b61c5626ba463ad1": {
      "model_module": "@jupyter-widgets/controls",
      "model_module_version": "1.5.0",
      "model_name": "DescriptionStyleModel",
      "state": {
       "description_width": ""
      }
     },
     "0100a378a6a3411382566bf606f15047": {
      "model_module": "@jupyter-widgets/controls",
      "model_module_version": "1.5.0",
      "model_name": "ProgressStyleModel",
      "state": {
       "description_width": ""
      }
     },
     "0100cd8e35f947c79c25f9af08922109": {
      "model_module": "@jupyter-widgets/controls",
      "model_module_version": "1.5.0",
      "model_name": "DescriptionStyleModel",
      "state": {
       "description_width": ""
      }
     },
     "01256dd668cc4a318074812d3bfdeede": {
      "model_module": "@jupyter-widgets/controls",
      "model_module_version": "1.5.0",
      "model_name": "HBoxModel",
      "state": {
       "children": [
        "IPY_MODEL_f9cb75fa92e949699b6c3fd1ee1c7a84",
        "IPY_MODEL_78c7bd1bcdec4587a5b8f003f9de1006",
        "IPY_MODEL_3a4cd8df08b345fb82dc6670bedf6eac"
       ],
       "layout": "IPY_MODEL_66fe5675e3ad499d9c32b8fd8eafa4e5"
      }
     },
     "012a4e853e434abb9dadbf92bacbc1dd": {
      "model_module": "@jupyter-widgets/base",
      "model_module_version": "1.2.0",
      "model_name": "LayoutModel",
      "state": {}
     },
     "0135341d817d4901a921835b496ee6b1": {
      "model_module": "@jupyter-widgets/base",
      "model_module_version": "1.2.0",
      "model_name": "LayoutModel",
      "state": {}
     },
     "01463c831eab40d9a470e02a064da667": {
      "model_module": "@jupyter-widgets/base",
      "model_module_version": "1.2.0",
      "model_name": "LayoutModel",
      "state": {}
     },
     "016daa876f714f309c2e5ad777aa4428": {
      "model_module": "@jupyter-widgets/base",
      "model_module_version": "1.2.0",
      "model_name": "LayoutModel",
      "state": {}
     },
     "0197da2906714379a1f5be127f180cb9": {
      "model_module": "@jupyter-widgets/base",
      "model_module_version": "1.2.0",
      "model_name": "LayoutModel",
      "state": {}
     },
     "019ad57c67794a81b40011f17d539a5f": {
      "model_module": "@jupyter-widgets/controls",
      "model_module_version": "1.5.0",
      "model_name": "DescriptionStyleModel",
      "state": {
       "description_width": ""
      }
     },
     "01bbb4b4402f4e8ab66fd6ad5189da29": {
      "model_module": "@jupyter-widgets/controls",
      "model_module_version": "1.5.0",
      "model_name": "HTMLModel",
      "state": {
       "layout": "IPY_MODEL_83765adfabf74f52a16658be5d03b2b6",
       "style": "IPY_MODEL_f5c9b090d6f542ff9c9a98200508bd53",
       "value": "100%"
      }
     },
     "01be6ff911e14ea095fcad15664cb5ba": {
      "model_module": "@jupyter-widgets/base",
      "model_module_version": "1.2.0",
      "model_name": "LayoutModel",
      "state": {}
     },
     "01fcb50845b0421cafdf1f8c8d8e3dca": {
      "model_module": "@jupyter-widgets/controls",
      "model_module_version": "1.5.0",
      "model_name": "HTMLModel",
      "state": {
       "layout": "IPY_MODEL_699c69d230ae4eb29b40c37c3434d70c",
       "style": "IPY_MODEL_2ba9f79ee6c740cf9cbfe153982ea41d",
       "value": "100%"
      }
     },
     "01ff2f9898cb4d41a9caed7bbea4e79a": {
      "model_module": "@jupyter-widgets/controls",
      "model_module_version": "1.5.0",
      "model_name": "DescriptionStyleModel",
      "state": {
       "description_width": ""
      }
     },
     "02042fb61f5742acb688ccfb19121429": {
      "model_module": "@jupyter-widgets/base",
      "model_module_version": "1.2.0",
      "model_name": "LayoutModel",
      "state": {}
     },
     "021adeed62dc4ee58fed6b14d12c7204": {
      "model_module": "@jupyter-widgets/controls",
      "model_module_version": "1.5.0",
      "model_name": "DescriptionStyleModel",
      "state": {
       "description_width": ""
      }
     },
     "021e04d2f4de41208abbfdf03af51139": {
      "model_module": "@jupyter-widgets/controls",
      "model_module_version": "1.5.0",
      "model_name": "ProgressStyleModel",
      "state": {
       "description_width": ""
      }
     },
     "0249548f70b143d5a06b332affe2a6af": {
      "model_module": "@jupyter-widgets/base",
      "model_module_version": "1.2.0",
      "model_name": "LayoutModel",
      "state": {}
     },
     "0251e455a8914ee89780e6043525ced7": {
      "model_module": "@jupyter-widgets/controls",
      "model_module_version": "1.5.0",
      "model_name": "ProgressStyleModel",
      "state": {
       "description_width": ""
      }
     },
     "027345287f2749998cb275892d35dbfa": {
      "model_module": "@jupyter-widgets/controls",
      "model_module_version": "1.5.0",
      "model_name": "HBoxModel",
      "state": {
       "children": [
        "IPY_MODEL_0b3e3a837169454593d461b28f4c9b5d",
        "IPY_MODEL_ad3503b0e1664c02967212c4140fc713",
        "IPY_MODEL_59b9ed15e9ad4b118319fc7df2cc38ef"
       ],
       "layout": "IPY_MODEL_6e773eaba4e24d169d72c755842813b8"
      }
     },
     "027f2aaac6d645e2b671eb164263c4bf": {
      "model_module": "@jupyter-widgets/base",
      "model_module_version": "1.2.0",
      "model_name": "LayoutModel",
      "state": {}
     },
     "028ac500fb7e43839f9737135b8eb39c": {
      "model_module": "@jupyter-widgets/base",
      "model_module_version": "1.2.0",
      "model_name": "LayoutModel",
      "state": {}
     },
     "02aa6662da8a4d46b467556b3bdca3a2": {
      "model_module": "@jupyter-widgets/controls",
      "model_module_version": "1.5.0",
      "model_name": "HTMLModel",
      "state": {
       "layout": "IPY_MODEL_a77c6293a6d04f9e93a2f5ff2f400edd",
       "style": "IPY_MODEL_bfd85e4972cd4d9088f466c9e1aeb3b2",
       "value": " 1/1 [00:00&lt;00:00, 99.90it/s]"
      }
     },
     "02b4b05f3c694b53bec4dea26867a60b": {
      "model_module": "@jupyter-widgets/base",
      "model_module_version": "1.2.0",
      "model_name": "LayoutModel",
      "state": {}
     },
     "02ca7972859b4f62b9e62a6c0692c60f": {
      "model_module": "@jupyter-widgets/controls",
      "model_module_version": "1.5.0",
      "model_name": "HTMLModel",
      "state": {
       "layout": "IPY_MODEL_448fb1356b454c4f9d270f6b703854a5",
       "style": "IPY_MODEL_355ecaba8477434db10f131922872b45",
       "value": "100%"
      }
     },
     "02db9618dfa34cbc908e3df71e4383e5": {
      "model_module": "@jupyter-widgets/controls",
      "model_module_version": "1.5.0",
      "model_name": "DescriptionStyleModel",
      "state": {
       "description_width": ""
      }
     },
     "02df5b3201a94da8b63743b56fdf19e7": {
      "model_module": "@jupyter-widgets/controls",
      "model_module_version": "1.5.0",
      "model_name": "HBoxModel",
      "state": {
       "children": [
        "IPY_MODEL_ab6901b3fce14e0daa67084ee82c1cb0",
        "IPY_MODEL_43272259debf4da0b73c40375e7a88b0",
        "IPY_MODEL_f5be7627e3f94bc0910109269466592a"
       ],
       "layout": "IPY_MODEL_46d4b5f48bbe424ba416589118ff4316"
      }
     },
     "02f02af896b24bf09a12923cafdabc24": {
      "model_module": "@jupyter-widgets/controls",
      "model_module_version": "1.5.0",
      "model_name": "ProgressStyleModel",
      "state": {
       "description_width": ""
      }
     },
     "030161a9e3d5424ab1aced2ee6dc8bfc": {
      "model_module": "@jupyter-widgets/base",
      "model_module_version": "1.2.0",
      "model_name": "LayoutModel",
      "state": {}
     },
     "0309232bdd1c4890b3b5c6195109ea68": {
      "model_module": "@jupyter-widgets/controls",
      "model_module_version": "1.5.0",
      "model_name": "ProgressStyleModel",
      "state": {
       "description_width": ""
      }
     },
     "03218b530096418e86627e70cb543b79": {
      "model_module": "@jupyter-widgets/controls",
      "model_module_version": "1.5.0",
      "model_name": "ProgressStyleModel",
      "state": {
       "description_width": ""
      }
     },
     "032d566d2be942959296eb6dc30eabad": {
      "model_module": "@jupyter-widgets/controls",
      "model_module_version": "1.5.0",
      "model_name": "FloatProgressModel",
      "state": {
       "bar_style": "success",
       "layout": "IPY_MODEL_dbebc2c8e2954c96905839fb8b992517",
       "max": 1,
       "style": "IPY_MODEL_d01aa806c6fd409e951ee0fcd1227f2e",
       "value": 1
      }
     },
     "032ff66a282a4832a649a9b6570bace4": {
      "model_module": "@jupyter-widgets/controls",
      "model_module_version": "1.5.0",
      "model_name": "HBoxModel",
      "state": {
       "children": [
        "IPY_MODEL_34e1f2f275574a56b1ef6d5eb2458866",
        "IPY_MODEL_40e7f6462e6b4779af1eff1cea224acf",
        "IPY_MODEL_9e7e08b99b4d4bf2b7235983d23d2924"
       ],
       "layout": "IPY_MODEL_7cab918cd8f84022985eb8691cd4c672"
      }
     },
     "0339f63ca4204886a6046a76c45eed50": {
      "model_module": "@jupyter-widgets/controls",
      "model_module_version": "1.5.0",
      "model_name": "FloatProgressModel",
      "state": {
       "bar_style": "success",
       "layout": "IPY_MODEL_65c9abeb91a84272b0dd657e15570424",
       "max": 1,
       "style": "IPY_MODEL_61acbda0afdf4e97b67c643b543f2151",
       "value": 1
      }
     },
     "0355d1a2f7e74aada34e7d0e50f30206": {
      "model_module": "@jupyter-widgets/controls",
      "model_module_version": "1.5.0",
      "model_name": "ProgressStyleModel",
      "state": {
       "description_width": ""
      }
     },
     "0393f7a8a1ff4837aef46ecbaf574f33": {
      "model_module": "@jupyter-widgets/controls",
      "model_module_version": "1.5.0",
      "model_name": "HBoxModel",
      "state": {
       "children": [
        "IPY_MODEL_3a44cc446e6d4f0dbfbb03876c8371ac",
        "IPY_MODEL_0c0dc766896f41f79511ad23d2e0a2c4",
        "IPY_MODEL_f150ce9e03564b9ca5713eca919519af"
       ],
       "layout": "IPY_MODEL_057c9455beaa471181ecaec913190599"
      }
     },
     "03a69a9128e64add94aca74f11cecc35": {
      "model_module": "@jupyter-widgets/controls",
      "model_module_version": "1.5.0",
      "model_name": "DescriptionStyleModel",
      "state": {
       "description_width": ""
      }
     },
     "03ad1c70f0a44f77ab16307d2fe9d233": {
      "model_module": "@jupyter-widgets/controls",
      "model_module_version": "1.5.0",
      "model_name": "HBoxModel",
      "state": {
       "children": [
        "IPY_MODEL_8cf265c2abf3412685acd1433398873c",
        "IPY_MODEL_ac51653a5c09441bb771bb9e96e3bb21",
        "IPY_MODEL_6643328ca0e24de093891d310ca9cf36"
       ],
       "layout": "IPY_MODEL_32893f38828043b894525aabc75d7c01"
      }
     },
     "03c08cde2a0e4832a6fd3d0f5f2667a3": {
      "model_module": "@jupyter-widgets/controls",
      "model_module_version": "1.5.0",
      "model_name": "FloatProgressModel",
      "state": {
       "bar_style": "success",
       "layout": "IPY_MODEL_ac1742a839924bd39d1b534454f75116",
       "style": "IPY_MODEL_5dad13696e9646f88e1b38b63899cbb4",
       "value": 100
      }
     },
     "03c3ce13999d49aab585592a59e5e412": {
      "model_module": "@jupyter-widgets/base",
      "model_module_version": "1.2.0",
      "model_name": "LayoutModel",
      "state": {}
     },
     "03f50b97e8cf46b6b75070f0af161f40": {
      "model_module": "@jupyter-widgets/base",
      "model_module_version": "1.2.0",
      "model_name": "LayoutModel",
      "state": {}
     },
     "03f935bcab60485f9dbb0cde11d28f4e": {
      "model_module": "@jupyter-widgets/base",
      "model_module_version": "1.2.0",
      "model_name": "LayoutModel",
      "state": {}
     },
     "041e198d29464713b26b9948c1f5da00": {
      "model_module": "@jupyter-widgets/controls",
      "model_module_version": "1.5.0",
      "model_name": "HTMLModel",
      "state": {
       "layout": "IPY_MODEL_5b0f621a0738443f8f5ae947367e9256",
       "style": "IPY_MODEL_3354bc90bdd3419faa577b8247259064",
       "value": " 104/104 [1:06:57&lt;00:00, 29.90s/ba]"
      }
     },
     "0426411c04384907a505ab5b53893eb4": {
      "model_module": "@jupyter-widgets/base",
      "model_module_version": "1.2.0",
      "model_name": "LayoutModel",
      "state": {}
     },
     "0439bea332f84f50bba9c55beaecef8d": {
      "model_module": "@jupyter-widgets/base",
      "model_module_version": "1.2.0",
      "model_name": "LayoutModel",
      "state": {}
     },
     "043db6d0dfaf482eae1a343eb80eae73": {
      "model_module": "@jupyter-widgets/controls",
      "model_module_version": "1.5.0",
      "model_name": "ProgressStyleModel",
      "state": {
       "description_width": ""
      }
     },
     "0441d86f12c74381bcf3ac3047631529": {
      "model_module": "@jupyter-widgets/controls",
      "model_module_version": "1.5.0",
      "model_name": "DescriptionStyleModel",
      "state": {
       "description_width": ""
      }
     },
     "046b269240e5404cbd72bcef4037f087": {
      "model_module": "@jupyter-widgets/base",
      "model_module_version": "1.2.0",
      "model_name": "LayoutModel",
      "state": {}
     },
     "046ec59b2ebf44a3ab7723db4d048808": {
      "model_module": "@jupyter-widgets/controls",
      "model_module_version": "1.5.0",
      "model_name": "HBoxModel",
      "state": {
       "children": [
        "IPY_MODEL_61b93b1e48dc436ea4bfa66bbb3cfe40",
        "IPY_MODEL_6b85e2017439421da83650b27feb6323",
        "IPY_MODEL_2e756edec2cd40ddaeca066e500b3e30"
       ],
       "layout": "IPY_MODEL_9878748e182a49bfb9e23e5c9761df29"
      }
     },
     "0473e0e27ae04d1895ab1c0d691cb428": {
      "model_module": "@jupyter-widgets/controls",
      "model_module_version": "1.5.0",
      "model_name": "HBoxModel",
      "state": {
       "children": [
        "IPY_MODEL_914c8aad76b74c5c85e091cf25207e4e",
        "IPY_MODEL_a7d1f33e01c8472188618f28454e8f6d",
        "IPY_MODEL_4ea937bf89bc477a899a210410703195"
       ],
       "layout": "IPY_MODEL_a02b9b95633c4fe7ab19ce624ce6604f"
      }
     },
     "048d751bd5c045f8b981896c66256d16": {
      "model_module": "@jupyter-widgets/base",
      "model_module_version": "1.2.0",
      "model_name": "LayoutModel",
      "state": {}
     },
     "04ae244468274e7285fff3aa469f125d": {
      "model_module": "@jupyter-widgets/controls",
      "model_module_version": "1.5.0",
      "model_name": "DescriptionStyleModel",
      "state": {
       "description_width": ""
      }
     },
     "04b3bd06ad5c403a997dd2a2804f8e0b": {
      "model_module": "@jupyter-widgets/controls",
      "model_module_version": "1.5.0",
      "model_name": "DescriptionStyleModel",
      "state": {
       "description_width": ""
      }
     },
     "04e0ee3957c648deab3db956fc84dca9": {
      "model_module": "@jupyter-widgets/controls",
      "model_module_version": "1.5.0",
      "model_name": "FloatProgressModel",
      "state": {
       "bar_style": "danger",
       "layout": "IPY_MODEL_1291e580b58247ba86aeed629c383863",
       "max": 133,
       "style": "IPY_MODEL_36b0059ffb794bb5be3cbf9b9637e030"
      }
     },
     "04ff265e395d45ad8f33e3ebb8d817db": {
      "model_module": "@jupyter-widgets/base",
      "model_module_version": "1.2.0",
      "model_name": "LayoutModel",
      "state": {}
     },
     "0500823c8b3947f0bfd502b96ff97b06": {
      "model_module": "@jupyter-widgets/controls",
      "model_module_version": "1.5.0",
      "model_name": "FloatProgressModel",
      "state": {
       "bar_style": "success",
       "layout": "IPY_MODEL_a09e2026b5f943b29a33c4f5623c69db",
       "style": "IPY_MODEL_a5e4dba2b8fd433981dc329bf99511d4",
       "value": 100
      }
     },
     "050eb151c20947c7b1a7d3b7aa217e74": {
      "model_module": "@jupyter-widgets/controls",
      "model_module_version": "1.5.0",
      "model_name": "FloatProgressModel",
      "state": {
       "bar_style": "success",
       "layout": "IPY_MODEL_9af1141697194ca5a528881caf18fec9",
       "max": 1,
       "style": "IPY_MODEL_e6931f5a99f04e51b72ad0bf64c77809",
       "value": 1
      }
     },
     "051ee762a2d24ac5a3b71cd41657ed53": {
      "model_module": "@jupyter-widgets/controls",
      "model_module_version": "1.5.0",
      "model_name": "DescriptionStyleModel",
      "state": {
       "description_width": ""
      }
     },
     "0533bbdebc5e4bf0b351e931a3fc09d4": {
      "model_module": "@jupyter-widgets/controls",
      "model_module_version": "1.5.0",
      "model_name": "ProgressStyleModel",
      "state": {
       "description_width": ""
      }
     },
     "0539b9b4150946c992f96a6d38d714e6": {
      "model_module": "@jupyter-widgets/base",
      "model_module_version": "1.2.0",
      "model_name": "LayoutModel",
      "state": {}
     },
     "054f867280bc449c88c788be4d085ec7": {
      "model_module": "@jupyter-widgets/controls",
      "model_module_version": "1.5.0",
      "model_name": "DescriptionStyleModel",
      "state": {
       "description_width": ""
      }
     },
     "055403782d46477c9fd0d4738784442d": {
      "model_module": "@jupyter-widgets/base",
      "model_module_version": "1.2.0",
      "model_name": "LayoutModel",
      "state": {}
     },
     "057c9455beaa471181ecaec913190599": {
      "model_module": "@jupyter-widgets/base",
      "model_module_version": "1.2.0",
      "model_name": "LayoutModel",
      "state": {}
     },
     "05941cdbac9d4a62b8b9d081583ae15f": {
      "model_module": "@jupyter-widgets/controls",
      "model_module_version": "1.5.0",
      "model_name": "ProgressStyleModel",
      "state": {
       "description_width": ""
      }
     },
     "059ca18fc865488cb1121332cb95dd3f": {
      "model_module": "@jupyter-widgets/controls",
      "model_module_version": "1.5.0",
      "model_name": "DescriptionStyleModel",
      "state": {
       "description_width": ""
      }
     },
     "05a125a503cb431da636af62a25d0fd2": {
      "model_module": "@jupyter-widgets/controls",
      "model_module_version": "1.5.0",
      "model_name": "ProgressStyleModel",
      "state": {
       "description_width": ""
      }
     },
     "05a20c336def4463ba203b3b483efee6": {
      "model_module": "@jupyter-widgets/controls",
      "model_module_version": "1.5.0",
      "model_name": "HTMLModel",
      "state": {
       "layout": "IPY_MODEL_b282349c40c2445d9a0cb03fcfc74269",
       "style": "IPY_MODEL_a83b86010c5b47ac8029778ae98da313",
       "value": " 100/100 [10:41&lt;00:00,  4.76s/it]"
      }
     },
     "05bb0e52b9294db881b18f5e58fa88f8": {
      "model_module": "@jupyter-widgets/controls",
      "model_module_version": "1.5.0",
      "model_name": "ProgressStyleModel",
      "state": {
       "description_width": ""
      }
     },
     "05bbb427296e4039b697ba41474ec667": {
      "model_module": "@jupyter-widgets/base",
      "model_module_version": "1.2.0",
      "model_name": "LayoutModel",
      "state": {}
     },
     "05ca2e2406e944d798d8a685b82a1915": {
      "model_module": "@jupyter-widgets/controls",
      "model_module_version": "1.5.0",
      "model_name": "ProgressStyleModel",
      "state": {
       "description_width": ""
      }
     },
     "05dd2f1bc4de42ab929fe9c7f780f3c1": {
      "model_module": "@jupyter-widgets/controls",
      "model_module_version": "1.5.0",
      "model_name": "HTMLModel",
      "state": {
       "layout": "IPY_MODEL_4de9b0a2eb624f3b89c0c5bcef738e62",
       "style": "IPY_MODEL_ba95fbec17a24866be5bd83188c36192",
       "value": "  0%"
      }
     },
     "05e1f25e1f2641f89d329d2d8506d825": {
      "model_module": "@jupyter-widgets/controls",
      "model_module_version": "1.5.0",
      "model_name": "HBoxModel",
      "state": {
       "children": [
        "IPY_MODEL_5f8be15b5b4e46d9b3055da0a2182e3c",
        "IPY_MODEL_3456bfc31a68483aab4df7d17a92a894",
        "IPY_MODEL_95d8b58b887a46268f6f863d337939aa"
       ],
       "layout": "IPY_MODEL_5f9ee26b28b74707b5ccaf513c4e8ddc"
      }
     },
     "05e3e98ba46644d3a9b49056d9548f3e": {
      "model_module": "@jupyter-widgets/base",
      "model_module_version": "1.2.0",
      "model_name": "LayoutModel",
      "state": {}
     },
     "06151edfc9a14e8fad577b187ee1cab4": {
      "model_module": "@jupyter-widgets/base",
      "model_module_version": "1.2.0",
      "model_name": "LayoutModel",
      "state": {}
     },
     "061787024fad44eabd2fa263cabc1eaa": {
      "model_module": "@jupyter-widgets/controls",
      "model_module_version": "1.5.0",
      "model_name": "DescriptionStyleModel",
      "state": {
       "description_width": ""
      }
     },
     "062de0af742f4113baabf3211fa1444d": {
      "model_module": "@jupyter-widgets/controls",
      "model_module_version": "1.5.0",
      "model_name": "HTMLModel",
      "state": {
       "layout": "IPY_MODEL_adb1f3f0342f43e69816568e332eb2b0",
       "style": "IPY_MODEL_6b0562c926d646feb4a2a8faac6a034a",
       "value": "100%"
      }
     },
     "06607b09a0cf4bfb8e83ca826aa061bc": {
      "model_module": "@jupyter-widgets/controls",
      "model_module_version": "1.5.0",
      "model_name": "DescriptionStyleModel",
      "state": {
       "description_width": ""
      }
     },
     "067efbca355743fc80df030c79660a5e": {
      "model_module": "@jupyter-widgets/base",
      "model_module_version": "1.2.0",
      "model_name": "LayoutModel",
      "state": {}
     },
     "069bdf99e1484f378d63bd33f2025c89": {
      "model_module": "@jupyter-widgets/controls",
      "model_module_version": "1.5.0",
      "model_name": "HTMLModel",
      "state": {
       "layout": "IPY_MODEL_b7ace6c22e654284a0c23b6e95d12ad3",
       "style": "IPY_MODEL_34160eee6d7648f099fa3c180b9e055a",
       "value": " 1/1 [00:02&lt;00:00,  2.19s/ba]"
      }
     },
     "06add77e22974bce900d14ee46dda4ae": {
      "model_module": "@jupyter-widgets/base",
      "model_module_version": "1.2.0",
      "model_name": "LayoutModel",
      "state": {}
     },
     "06b338e5f1e44822b9447eb7412a98e9": {
      "model_module": "@jupyter-widgets/controls",
      "model_module_version": "1.5.0",
      "model_name": "HBoxModel",
      "state": {
       "children": [
        "IPY_MODEL_0a34a44d6d4a4a1a996569e62f4884a2",
        "IPY_MODEL_81195205366d4e969ce563c02109ae39",
        "IPY_MODEL_55359599dae645518711527105276b0b"
       ],
       "layout": "IPY_MODEL_a0d1be1d7719416cbe4151151dfaab13"
      }
     },
     "06e2d3aff7f0497d9981209360d1f369": {
      "model_module": "@jupyter-widgets/controls",
      "model_module_version": "1.5.0",
      "model_name": "HTMLModel",
      "state": {
       "layout": "IPY_MODEL_ba8198917a514ed3bd1aa36fd55afa89",
       "style": "IPY_MODEL_b3d9e1766476416199a31b799e6bf9ba",
       "value": "100%"
      }
     },
     "06e58ce710d94d57a76fed1606e55c7d": {
      "model_module": "@jupyter-widgets/controls",
      "model_module_version": "1.5.0",
      "model_name": "DescriptionStyleModel",
      "state": {
       "description_width": ""
      }
     },
     "06ed0d2cb8b94e2c82f3afd2d5e20c0c": {
      "model_module": "@jupyter-widgets/controls",
      "model_module_version": "1.5.0",
      "model_name": "FloatProgressModel",
      "state": {
       "bar_style": "success",
       "layout": "IPY_MODEL_2aac2aac4a7048abb1e0de3706cd6282",
       "style": "IPY_MODEL_4450f0a2e992488e8e55349a40dfb02c",
       "value": 100
      }
     },
     "0722a76b78554bc7a5bdb89fa2cf29a8": {
      "model_module": "@jupyter-widgets/base",
      "model_module_version": "1.2.0",
      "model_name": "LayoutModel",
      "state": {}
     },
     "07332772c696470082962f9498a24201": {
      "model_module": "@jupyter-widgets/base",
      "model_module_version": "1.2.0",
      "model_name": "LayoutModel",
      "state": {}
     },
     "0743aa4a00de49508067f5088b7eb838": {
      "model_module": "@jupyter-widgets/base",
      "model_module_version": "1.2.0",
      "model_name": "LayoutModel",
      "state": {}
     },
     "076851eb8ece449a946f15f5e542b524": {
      "model_module": "@jupyter-widgets/controls",
      "model_module_version": "1.5.0",
      "model_name": "ProgressStyleModel",
      "state": {
       "description_width": ""
      }
     },
     "07a6626fc1504fae8f239e705ace45d3": {
      "model_module": "@jupyter-widgets/controls",
      "model_module_version": "1.5.0",
      "model_name": "HTMLModel",
      "state": {
       "layout": "IPY_MODEL_fa8deb05bda6467ab8c865115d1cb757",
       "style": "IPY_MODEL_e0207bd88f84401ab6c6dbd6acc86664",
       "value": " 100/100 [10:02&lt;00:00,  6.03s/it]"
      }
     },
     "07ad32b574c44de9ac08bfd5b64a5582": {
      "model_module": "@jupyter-widgets/controls",
      "model_module_version": "1.5.0",
      "model_name": "HTMLModel",
      "state": {
       "layout": "IPY_MODEL_222840e6d3ec4401879bb31d8c084480",
       "style": "IPY_MODEL_267b5de20559420398b49c40024ce97c",
       "value": "100%"
      }
     },
     "07bcbf4077354afc8230bea56431b6dc": {
      "model_module": "@jupyter-widgets/base",
      "model_module_version": "1.2.0",
      "model_name": "LayoutModel",
      "state": {}
     },
     "07bda51b5b884dd6a89c810dc2a5e664": {
      "model_module": "@jupyter-widgets/controls",
      "model_module_version": "1.5.0",
      "model_name": "DescriptionStyleModel",
      "state": {
       "description_width": ""
      }
     },
     "07cf86cac27d4931abfd055ba70fb2a9": {
      "model_module": "@jupyter-widgets/controls",
      "model_module_version": "1.5.0",
      "model_name": "DescriptionStyleModel",
      "state": {
       "description_width": ""
      }
     },
     "07dab932d82347dbacb421be88fa73cb": {
      "model_module": "@jupyter-widgets/controls",
      "model_module_version": "1.5.0",
      "model_name": "HTMLModel",
      "state": {
       "layout": "IPY_MODEL_8154c6028a424cde9bf58c177b3dda08",
       "style": "IPY_MODEL_3c28cd45d95945b8934c7ffeb4194314",
       "value": " 1/1 [00:00&lt;00:00, 52.58it/s]"
      }
     },
     "07eb238717864186b09ff75dd0fd2eb9": {
      "model_module": "@jupyter-widgets/base",
      "model_module_version": "1.2.0",
      "model_name": "LayoutModel",
      "state": {}
     },
     "07f23ab278d64ccd880df985c0706fe5": {
      "model_module": "@jupyter-widgets/controls",
      "model_module_version": "1.5.0",
      "model_name": "HTMLModel",
      "state": {
       "layout": "IPY_MODEL_cd9f81edafc748f2bec096e0fb4943a3",
       "style": "IPY_MODEL_1ff1e64c02b6409388ba1c9a88956462",
       "value": " 100/100 [03:56&lt;00:00,  2.44s/it]"
      }
     },
     "07fb41f6592547cca9c0efd0b83df2d7": {
      "model_module": "@jupyter-widgets/controls",
      "model_module_version": "1.5.0",
      "model_name": "ProgressStyleModel",
      "state": {
       "description_width": ""
      }
     },
     "07fde64fda714d07814b84ff1daf4866": {
      "model_module": "@jupyter-widgets/base",
      "model_module_version": "1.2.0",
      "model_name": "LayoutModel",
      "state": {}
     },
     "080d4662f3894eb1b62f9e8e3833a349": {
      "model_module": "@jupyter-widgets/base",
      "model_module_version": "1.2.0",
      "model_name": "LayoutModel",
      "state": {}
     },
     "08484a59f95e46d4a339fe2b705f7ed8": {
      "model_module": "@jupyter-widgets/controls",
      "model_module_version": "1.5.0",
      "model_name": "HBoxModel",
      "state": {
       "children": [
        "IPY_MODEL_8005796534474f8b96c7d9fa4e0d2d28",
        "IPY_MODEL_b8a324a772b14645bf1a3c7343551863",
        "IPY_MODEL_225dc77c7a5341fd9411c5955e463a2e"
       ],
       "layout": "IPY_MODEL_4577c87f364b48379a511d03bef66f3d"
      }
     },
     "085e31b603ca4d99a31414802770892f": {
      "model_module": "@jupyter-widgets/controls",
      "model_module_version": "1.5.0",
      "model_name": "ProgressStyleModel",
      "state": {
       "description_width": ""
      }
     },
     "0862de4e5dca4eca95c29fb99c00e8af": {
      "model_module": "@jupyter-widgets/controls",
      "model_module_version": "1.5.0",
      "model_name": "ProgressStyleModel",
      "state": {
       "description_width": ""
      }
     },
     "08651f8412d84f1a981236bf4d3949e7": {
      "model_module": "@jupyter-widgets/controls",
      "model_module_version": "1.5.0",
      "model_name": "ProgressStyleModel",
      "state": {
       "description_width": ""
      }
     },
     "08898eb8a01b4ef4bead12ad4baa4be4": {
      "model_module": "@jupyter-widgets/controls",
      "model_module_version": "1.5.0",
      "model_name": "HBoxModel",
      "state": {
       "children": [
        "IPY_MODEL_b3fa4d15912a44f28592977513b4b121",
        "IPY_MODEL_6fe736dae8334e52b33ad3fde4671a19",
        "IPY_MODEL_caecb179c129411e8c3f76a9fe10b020"
       ],
       "layout": "IPY_MODEL_0d0d53d3261842fb80ec5a8c4f84593d"
      }
     },
     "089af7f3e8584e188dd1f47626f7657f": {
      "model_module": "@jupyter-widgets/controls",
      "model_module_version": "1.5.0",
      "model_name": "ProgressStyleModel",
      "state": {
       "description_width": ""
      }
     },
     "08a8f3ac49ef412eb0b264ee25943a0c": {
      "model_module": "@jupyter-widgets/controls",
      "model_module_version": "1.5.0",
      "model_name": "HTMLModel",
      "state": {
       "layout": "IPY_MODEL_22cd28eaf92a42a09bf8304a09b8a8a3",
       "style": "IPY_MODEL_1a2b9b4855d0427b9bf50602f2b2d9de",
       "value": " 100/100 [11:44&lt;00:00,  4.84s/it]"
      }
     },
     "08b1c42a61b4480db98598dc20d50488": {
      "model_module": "@jupyter-widgets/base",
      "model_module_version": "1.2.0",
      "model_name": "LayoutModel",
      "state": {}
     },
     "08b64d46224e4b4eb2707a36768d3942": {
      "model_module": "@jupyter-widgets/base",
      "model_module_version": "1.2.0",
      "model_name": "LayoutModel",
      "state": {}
     },
     "08ea429401e548a781ef21ab15efeead": {
      "model_module": "@jupyter-widgets/controls",
      "model_module_version": "1.5.0",
      "model_name": "DescriptionStyleModel",
      "state": {
       "description_width": ""
      }
     },
     "08f1a7b96de74b3aa8b737e47865a7a7": {
      "model_module": "@jupyter-widgets/controls",
      "model_module_version": "1.5.0",
      "model_name": "HTMLModel",
      "state": {
       "layout": "IPY_MODEL_f5772b9bb6be4afe9235c1d21e21e699",
       "style": "IPY_MODEL_5d98275caf5349bf8ceaa152ad9cd0d9",
       "value": " 1/1 [00:00&lt;00:00, 58.77it/s]"
      }
     },
     "090d309510274925a106613f24c60b65": {
      "model_module": "@jupyter-widgets/controls",
      "model_module_version": "1.5.0",
      "model_name": "DescriptionStyleModel",
      "state": {
       "description_width": ""
      }
     },
     "090e00f8111e410a848feeebd91411c5": {
      "model_module": "@jupyter-widgets/base",
      "model_module_version": "1.2.0",
      "model_name": "LayoutModel",
      "state": {}
     },
     "0911b38e0f2c445f8d95eb62d73097bb": {
      "model_module": "@jupyter-widgets/controls",
      "model_module_version": "1.5.0",
      "model_name": "ProgressStyleModel",
      "state": {
       "description_width": ""
      }
     },
     "091ecac5f2f24379be026d2a8ee686e4": {
      "model_module": "@jupyter-widgets/base",
      "model_module_version": "1.2.0",
      "model_name": "LayoutModel",
      "state": {}
     },
     "092556fcddb94ec5b6b3f5c4c1ac43aa": {
      "model_module": "@jupyter-widgets/base",
      "model_module_version": "1.2.0",
      "model_name": "LayoutModel",
      "state": {}
     },
     "09310c4ac48c41418b0218a92b0e81a6": {
      "model_module": "@jupyter-widgets/base",
      "model_module_version": "1.2.0",
      "model_name": "LayoutModel",
      "state": {}
     },
     "093b6807f49a4cf89ebeee060ac51310": {
      "model_module": "@jupyter-widgets/controls",
      "model_module_version": "1.5.0",
      "model_name": "DescriptionStyleModel",
      "state": {
       "description_width": ""
      }
     },
     "093c34159ca94cbf97d62db5297386ec": {
      "model_module": "@jupyter-widgets/controls",
      "model_module_version": "1.5.0",
      "model_name": "HBoxModel",
      "state": {
       "children": [
        "IPY_MODEL_5d705f463b304dfab425bc0dad32663f",
        "IPY_MODEL_94c1eab34ce04cfd86f035b00c68d015",
        "IPY_MODEL_70cffcfb7e0b451c97da91983e672663"
       ],
       "layout": "IPY_MODEL_aafcdda402a74f38a65d88a5cb3a24be"
      }
     },
     "0958268b43c14897995ee6f59cb6b62e": {
      "model_module": "@jupyter-widgets/controls",
      "model_module_version": "1.5.0",
      "model_name": "FloatProgressModel",
      "state": {
       "bar_style": "success",
       "layout": "IPY_MODEL_ea10584e185c41fbb7ddf93ced5a1a45",
       "style": "IPY_MODEL_5aa85974e709406d811152607a7bf8ab",
       "value": 100
      }
     },
     "09762b2e143845f6a8e3e1c63548fd09": {
      "model_module": "@jupyter-widgets/base",
      "model_module_version": "1.2.0",
      "model_name": "LayoutModel",
      "state": {}
     },
     "0986e275812d41a798779fc0bc1d598b": {
      "model_module": "@jupyter-widgets/controls",
      "model_module_version": "1.5.0",
      "model_name": "DescriptionStyleModel",
      "state": {
       "description_width": ""
      }
     },
     "09a8feda5a1d4bb2bfb70b7ca1fa9b73": {
      "model_module": "@jupyter-widgets/base",
      "model_module_version": "1.2.0",
      "model_name": "LayoutModel",
      "state": {}
     },
     "09b4780ffe744a6390cae7548f324f28": {
      "model_module": "@jupyter-widgets/base",
      "model_module_version": "1.2.0",
      "model_name": "LayoutModel",
      "state": {}
     },
     "09bc1a896c8a467b8d1dec84b6d217db": {
      "model_module": "@jupyter-widgets/controls",
      "model_module_version": "1.5.0",
      "model_name": "ProgressStyleModel",
      "state": {
       "description_width": ""
      }
     },
     "09c005526fc74c3982f217f375abc30f": {
      "model_module": "@jupyter-widgets/base",
      "model_module_version": "1.2.0",
      "model_name": "LayoutModel",
      "state": {}
     },
     "09c581553960420abe2796f8b0b70e65": {
      "model_module": "@jupyter-widgets/base",
      "model_module_version": "1.2.0",
      "model_name": "LayoutModel",
      "state": {}
     },
     "09c613cec4704f12877fe5c0176b29a4": {
      "model_module": "@jupyter-widgets/base",
      "model_module_version": "1.2.0",
      "model_name": "LayoutModel",
      "state": {}
     },
     "09ffdf586bbc4d65a10caa27d96ac54b": {
      "model_module": "@jupyter-widgets/controls",
      "model_module_version": "1.5.0",
      "model_name": "FloatProgressModel",
      "state": {
       "bar_style": "success",
       "layout": "IPY_MODEL_43b0517cc13a4bda840a79c8cf1bbefb",
       "style": "IPY_MODEL_522a5d9a35794c09a0affd1f4e1126d4",
       "value": 100
      }
     },
     "0a0106bf07d947d79ea10375ed9c201d": {
      "model_module": "@jupyter-widgets/controls",
      "model_module_version": "1.5.0",
      "model_name": "DescriptionStyleModel",
      "state": {
       "description_width": ""
      }
     },
     "0a2bd5038b91447f8849d8d998a2534d": {
      "model_module": "@jupyter-widgets/controls",
      "model_module_version": "1.5.0",
      "model_name": "ProgressStyleModel",
      "state": {
       "description_width": ""
      }
     },
     "0a34a44d6d4a4a1a996569e62f4884a2": {
      "model_module": "@jupyter-widgets/controls",
      "model_module_version": "1.5.0",
      "model_name": "HTMLModel",
      "state": {
       "layout": "IPY_MODEL_3200d4b30cb04d7688f204af46af2b4c",
       "style": "IPY_MODEL_ba36099870414b98bc191598522b494e",
       "value": "  0%"
      }
     },
     "0a4783927e164841ac2bd72b92c4b40c": {
      "model_module": "@jupyter-widgets/base",
      "model_module_version": "1.2.0",
      "model_name": "LayoutModel",
      "state": {}
     },
     "0a698828b31d4c09b01971aed12418e6": {
      "model_module": "@jupyter-widgets/base",
      "model_module_version": "1.2.0",
      "model_name": "LayoutModel",
      "state": {}
     },
     "0a6ff00061cb4b7c800b21a634330c5e": {
      "model_module": "@jupyter-widgets/base",
      "model_module_version": "1.2.0",
      "model_name": "LayoutModel",
      "state": {}
     },
     "0a82dd42db3e40ed95018a02743cea1d": {
      "model_module": "@jupyter-widgets/controls",
      "model_module_version": "1.5.0",
      "model_name": "DescriptionStyleModel",
      "state": {
       "description_width": ""
      }
     },
     "0a94b681c4084390a361e35cec3d0b75": {
      "model_module": "@jupyter-widgets/controls",
      "model_module_version": "1.5.0",
      "model_name": "ProgressStyleModel",
      "state": {
       "description_width": ""
      }
     },
     "0a967769c24a4ab9977aa2c075ccd243": {
      "model_module": "@jupyter-widgets/controls",
      "model_module_version": "1.5.0",
      "model_name": "HTMLModel",
      "state": {
       "layout": "IPY_MODEL_3f36c3cde6544152a16462bf5251cccc",
       "style": "IPY_MODEL_db699a7b9a9d47098d6a0336d24b088b",
       "value": " 1/1 [00:00&lt;00:00, 90.83it/s]"
      }
     },
     "0aa4f4a2b08347a395bfbc25ec3da15a": {
      "model_module": "@jupyter-widgets/controls",
      "model_module_version": "1.5.0",
      "model_name": "ProgressStyleModel",
      "state": {
       "description_width": ""
      }
     },
     "0abbf780dd744bd5a1604cf3f5189e61": {
      "model_module": "@jupyter-widgets/base",
      "model_module_version": "1.2.0",
      "model_name": "LayoutModel",
      "state": {}
     },
     "0ad218f50a4e435b858c559067d75a27": {
      "model_module": "@jupyter-widgets/controls",
      "model_module_version": "1.5.0",
      "model_name": "ProgressStyleModel",
      "state": {
       "description_width": ""
      }
     },
     "0aecf864ddbb4387bb3931e61b0469c7": {
      "model_module": "@jupyter-widgets/base",
      "model_module_version": "1.2.0",
      "model_name": "LayoutModel",
      "state": {}
     },
     "0af9fd50baaf402d9c32f0a341994b1c": {
      "model_module": "@jupyter-widgets/controls",
      "model_module_version": "1.5.0",
      "model_name": "HTMLModel",
      "state": {
       "layout": "IPY_MODEL_be5f4b2ea36b4e68a1695d9b242e1702",
       "style": "IPY_MODEL_b84c01936cb74a1f9e69c7dc311366d0",
       "value": " 1/1 [00:02&lt;00:00,  2.28s/ba]"
      }
     },
     "0b2136ff6e0040cc87653146367ade34": {
      "model_module": "@jupyter-widgets/base",
      "model_module_version": "1.2.0",
      "model_name": "LayoutModel",
      "state": {}
     },
     "0b3e3a837169454593d461b28f4c9b5d": {
      "model_module": "@jupyter-widgets/controls",
      "model_module_version": "1.5.0",
      "model_name": "HTMLModel",
      "state": {
       "layout": "IPY_MODEL_3515b36c6821469a9eb40a5de593418d",
       "style": "IPY_MODEL_334cbfca3e334f0f81e6289c4eb45309",
       "value": "100%"
      }
     },
     "0b69495eec1645048e04cbb88e831c82": {
      "model_module": "@jupyter-widgets/controls",
      "model_module_version": "1.5.0",
      "model_name": "HBoxModel",
      "state": {
       "children": [
        "IPY_MODEL_8f02836b5997425bab7716bf77f0cb96",
        "IPY_MODEL_6431fb3b0b5e4a8da6e8b3016ee40076",
        "IPY_MODEL_723bd2867658427a9ade623d6dbb14fc"
       ],
       "layout": "IPY_MODEL_49e96fda2a1c49059668a631ebaabf7f"
      }
     },
     "0b748bc753bb45748f5106844249aeca": {
      "model_module": "@jupyter-widgets/controls",
      "model_module_version": "1.5.0",
      "model_name": "HTMLModel",
      "state": {
       "layout": "IPY_MODEL_3d65d4af0d5341bda4be64b38292023e",
       "style": "IPY_MODEL_5c51452d1559425cbaac44faf25759f0",
       "value": " 1/1 [00:00&lt;00:00, 66.60it/s]"
      }
     },
     "0b75b155b9c44fdc8983043392485463": {
      "model_module": "@jupyter-widgets/base",
      "model_module_version": "1.2.0",
      "model_name": "LayoutModel",
      "state": {}
     },
     "0b78b3b50a7e481dad97d19e4bd7ee88": {
      "model_module": "@jupyter-widgets/controls",
      "model_module_version": "1.5.0",
      "model_name": "DescriptionStyleModel",
      "state": {
       "description_width": ""
      }
     },
     "0b8d27cc4a6d4e79b356201ed2e47235": {
      "model_module": "@jupyter-widgets/controls",
      "model_module_version": "1.5.0",
      "model_name": "HTMLModel",
      "state": {
       "layout": "IPY_MODEL_f1c81f4513f545ff8372e97e0bc3ca56",
       "style": "IPY_MODEL_d40cb2c007b8429eb1fb8dd645d29818",
       "value": "100%"
      }
     },
     "0bba7169144f4b4ebf141e3d7dfba356": {
      "model_module": "@jupyter-widgets/controls",
      "model_module_version": "1.5.0",
      "model_name": "DescriptionStyleModel",
      "state": {
       "description_width": ""
      }
     },
     "0bc8174c5f454e52831cd6f5c67e1008": {
      "model_module": "@jupyter-widgets/controls",
      "model_module_version": "1.5.0",
      "model_name": "FloatProgressModel",
      "state": {
       "bar_style": "success",
       "layout": "IPY_MODEL_712ef34d64a546b1a03bfa63355f8787",
       "max": 1,
       "style": "IPY_MODEL_3f9bf98629da490ca10d13c92bbfa433",
       "value": 1
      }
     },
     "0bedf5aa7f4d4c97baf30930bb8f338e": {
      "model_module": "@jupyter-widgets/base",
      "model_module_version": "1.2.0",
      "model_name": "LayoutModel",
      "state": {}
     },
     "0c0dc766896f41f79511ad23d2e0a2c4": {
      "model_module": "@jupyter-widgets/controls",
      "model_module_version": "1.5.0",
      "model_name": "FloatProgressModel",
      "state": {
       "bar_style": "success",
       "layout": "IPY_MODEL_209719122c7d429096b358d9e8abc95b",
       "max": 1,
       "style": "IPY_MODEL_b52270fa92554892abf61a08d8773b1a",
       "value": 1
      }
     },
     "0c3acec1598a4f35bb7609b829b6ac4c": {
      "model_module": "@jupyter-widgets/controls",
      "model_module_version": "1.5.0",
      "model_name": "DescriptionStyleModel",
      "state": {
       "description_width": ""
      }
     },
     "0c3f290aed4d4555ac52481892b9768c": {
      "model_module": "@jupyter-widgets/base",
      "model_module_version": "1.2.0",
      "model_name": "LayoutModel",
      "state": {}
     },
     "0c54a84cdb8d417eb6bcfa81e864ddd5": {
      "model_module": "@jupyter-widgets/controls",
      "model_module_version": "1.5.0",
      "model_name": "ProgressStyleModel",
      "state": {
       "description_width": ""
      }
     },
     "0c71f7a882b04852be86360a755063e8": {
      "model_module": "@jupyter-widgets/controls",
      "model_module_version": "1.5.0",
      "model_name": "ProgressStyleModel",
      "state": {
       "description_width": ""
      }
     },
     "0c8da169f3e744228a9166c6087d9b77": {
      "model_module": "@jupyter-widgets/base",
      "model_module_version": "1.2.0",
      "model_name": "LayoutModel",
      "state": {}
     },
     "0c8db8b828f64f8c8797421b67a9d702": {
      "model_module": "@jupyter-widgets/controls",
      "model_module_version": "1.5.0",
      "model_name": "FloatProgressModel",
      "state": {
       "bar_style": "success",
       "layout": "IPY_MODEL_b3d7e991dc8d4ce6835b4db61cb32068",
       "style": "IPY_MODEL_d672780f71c740468b805e445522992e",
       "value": 100
      }
     },
     "0c96d56c16524cc1b2fc2f7d9bee2627": {
      "model_module": "@jupyter-widgets/controls",
      "model_module_version": "1.5.0",
      "model_name": "FloatProgressModel",
      "state": {
       "bar_style": "success",
       "layout": "IPY_MODEL_db3b8c09413140c49cf2eb70380e9674",
       "max": 1,
       "style": "IPY_MODEL_bf8cd605543044dd991cf23e1c509b90",
       "value": 1
      }
     },
     "0cb197bb36a14ddaa04dd6b78a94f5ab": {
      "model_module": "@jupyter-widgets/controls",
      "model_module_version": "1.5.0",
      "model_name": "DescriptionStyleModel",
      "state": {
       "description_width": ""
      }
     },
     "0cbaea23e37a456e82bcb1760287fcfb": {
      "model_module": "@jupyter-widgets/controls",
      "model_module_version": "1.5.0",
      "model_name": "DescriptionStyleModel",
      "state": {
       "description_width": ""
      }
     },
     "0ccc08002a2042a1940f300475708d88": {
      "model_module": "@jupyter-widgets/base",
      "model_module_version": "1.2.0",
      "model_name": "LayoutModel",
      "state": {}
     },
     "0d0d53d3261842fb80ec5a8c4f84593d": {
      "model_module": "@jupyter-widgets/base",
      "model_module_version": "1.2.0",
      "model_name": "LayoutModel",
      "state": {}
     },
     "0d1641cfc28a41c5ba6270a7b3c5cb62": {
      "model_module": "@jupyter-widgets/controls",
      "model_module_version": "1.5.0",
      "model_name": "HBoxModel",
      "state": {
       "children": [
        "IPY_MODEL_161ea2ad83c74dcbb04008807c75b6a9",
        "IPY_MODEL_821e26a69c4c4f43850d152d7a3a9a65",
        "IPY_MODEL_05a20c336def4463ba203b3b483efee6"
       ],
       "layout": "IPY_MODEL_c4febbb70ec443f6bb93a574221397dd"
      }
     },
     "0d2463fc8b10423b91f0697178e001c5": {
      "model_module": "@jupyter-widgets/base",
      "model_module_version": "1.2.0",
      "model_name": "LayoutModel",
      "state": {}
     },
     "0d25c19023b9491fb11e890ca308d09b": {
      "model_module": "@jupyter-widgets/controls",
      "model_module_version": "1.5.0",
      "model_name": "DescriptionStyleModel",
      "state": {
       "description_width": ""
      }
     },
     "0d2bd122a7f44af0adbd2216d06f9c2e": {
      "model_module": "@jupyter-widgets/controls",
      "model_module_version": "1.5.0",
      "model_name": "HTMLModel",
      "state": {
       "layout": "IPY_MODEL_988e5b570c26435eb87ac2808b96f0da",
       "style": "IPY_MODEL_b1bb9ad4733045968e8b0cfb03c6b794",
       "value": "100%"
      }
     },
     "0d2c2256119b45578e823b0c1c622338": {
      "model_module": "@jupyter-widgets/controls",
      "model_module_version": "1.5.0",
      "model_name": "HTMLModel",
      "state": {
       "layout": "IPY_MODEL_7c4cb4d93bb04cd29c8d9afcddebc6d0",
       "style": "IPY_MODEL_ec0f547d274e47a9a7b47cc79fd5d816",
       "value": " 1/1 [00:00&lt;00:00, 52.58it/s]"
      }
     },
     "0d456d1bc553491297c8ee32078efae0": {
      "model_module": "@jupyter-widgets/base",
      "model_module_version": "1.2.0",
      "model_name": "LayoutModel",
      "state": {}
     },
     "0d50bb6c37a7408584a68c34b7a87320": {
      "model_module": "@jupyter-widgets/controls",
      "model_module_version": "1.5.0",
      "model_name": "FloatProgressModel",
      "state": {
       "bar_style": "success",
       "layout": "IPY_MODEL_858fbbb06bc74bdf99f19c5ac3cc61ec",
       "max": 1,
       "style": "IPY_MODEL_487dddc3d6924a50ab2bab23c8c743ba",
       "value": 1
      }
     },
     "0da11b7125074a659867ef527bcdc782": {
      "model_module": "@jupyter-widgets/controls",
      "model_module_version": "1.5.0",
      "model_name": "HTMLModel",
      "state": {
       "layout": "IPY_MODEL_621f3e2b221c4e42a2190c11fa99622c",
       "style": "IPY_MODEL_d5381721ef684776bb478d3da43d756d",
       "value": " 100/100 [11:04&lt;00:00,  4.79s/it]"
      }
     },
     "0dad3a14b02443669e52784d047d3daa": {
      "model_module": "@jupyter-widgets/base",
      "model_module_version": "1.2.0",
      "model_name": "LayoutModel",
      "state": {}
     },
     "0db19650a5824038a31c7d82cc2335c3": {
      "model_module": "@jupyter-widgets/controls",
      "model_module_version": "1.5.0",
      "model_name": "ProgressStyleModel",
      "state": {
       "description_width": ""
      }
     },
     "0dde4da72fad4d19bb6b101ac2f23673": {
      "model_module": "@jupyter-widgets/controls",
      "model_module_version": "1.5.0",
      "model_name": "DescriptionStyleModel",
      "state": {
       "description_width": ""
      }
     },
     "0e05e9fa3a884391bfae830c2916e6f1": {
      "model_module": "@jupyter-widgets/controls",
      "model_module_version": "1.5.0",
      "model_name": "ProgressStyleModel",
      "state": {
       "description_width": ""
      }
     },
     "0e0cf90493984194b5b78e0a4fe1521e": {
      "model_module": "@jupyter-widgets/controls",
      "model_module_version": "1.5.0",
      "model_name": "DescriptionStyleModel",
      "state": {
       "description_width": ""
      }
     },
     "0e30334e928e4d12a2635161671b2a13": {
      "model_module": "@jupyter-widgets/base",
      "model_module_version": "1.2.0",
      "model_name": "LayoutModel",
      "state": {}
     },
     "0e3427dd19ea4ab98e8d41bb5ac7d346": {
      "model_module": "@jupyter-widgets/controls",
      "model_module_version": "1.5.0",
      "model_name": "DescriptionStyleModel",
      "state": {
       "description_width": ""
      }
     },
     "0e45bbcc6c6648e3a0ac0d82076e6119": {
      "model_module": "@jupyter-widgets/controls",
      "model_module_version": "1.5.0",
      "model_name": "ProgressStyleModel",
      "state": {
       "description_width": ""
      }
     },
     "0e517173d9cf4856860eea585a9fd41c": {
      "model_module": "@jupyter-widgets/base",
      "model_module_version": "1.2.0",
      "model_name": "LayoutModel",
      "state": {}
     },
     "0e52c30681d945c1bc2349449e742d54": {
      "model_module": "@jupyter-widgets/controls",
      "model_module_version": "1.5.0",
      "model_name": "HBoxModel",
      "state": {
       "children": [
        "IPY_MODEL_4ceb644bd17d4339b52a333d1e9bd328",
        "IPY_MODEL_8de8a20155ca434caedf82d3fab283ec",
        "IPY_MODEL_6ca351c355534f66bfa466269d532cac"
       ],
       "layout": "IPY_MODEL_66d29aca700f4162883c27564a2e088e"
      }
     },
     "0edf6957ccd7431490cb97dc2fd33ac8": {
      "model_module": "@jupyter-widgets/controls",
      "model_module_version": "1.5.0",
      "model_name": "HBoxModel",
      "state": {
       "children": [
        "IPY_MODEL_f1a385db8c2f4a2aa8906beee1b1719f",
        "IPY_MODEL_0500823c8b3947f0bfd502b96ff97b06",
        "IPY_MODEL_2790e85c3fff4e9cbf74b96ee4d87b2a"
       ],
       "layout": "IPY_MODEL_cd80b4e1ba754f808b020147b9c2af14"
      }
     },
     "0eed4b7f4f374beab68a2ddef6477511": {
      "model_module": "@jupyter-widgets/base",
      "model_module_version": "1.2.0",
      "model_name": "LayoutModel",
      "state": {}
     },
     "0ef8b0b3ffac40f29f6316adfdabd234": {
      "model_module": "@jupyter-widgets/base",
      "model_module_version": "1.2.0",
      "model_name": "LayoutModel",
      "state": {}
     },
     "0f108845569447f985f05462e9dea917": {
      "model_module": "@jupyter-widgets/controls",
      "model_module_version": "1.5.0",
      "model_name": "HTMLModel",
      "state": {
       "layout": "IPY_MODEL_88f4844290844af7bd60e821ee4454f1",
       "style": "IPY_MODEL_11dcfea0a6c1416fb01f82cb96af636e",
       "value": " 1/1 [00:00&lt;00:00, 99.90it/s]"
      }
     },
     "0f1c20ee3eb444609586a59a366d0f6b": {
      "model_module": "@jupyter-widgets/base",
      "model_module_version": "1.2.0",
      "model_name": "LayoutModel",
      "state": {}
     },
     "0f20c10f83564757b8add0df9ab42180": {
      "model_module": "@jupyter-widgets/base",
      "model_module_version": "1.2.0",
      "model_name": "LayoutModel",
      "state": {}
     },
     "0f3b362adcab48f4aa905964e2be7f64": {
      "model_module": "@jupyter-widgets/base",
      "model_module_version": "1.2.0",
      "model_name": "LayoutModel",
      "state": {}
     },
     "0f4b63f08c3d4577b0af8e2348102877": {
      "model_module": "@jupyter-widgets/controls",
      "model_module_version": "1.5.0",
      "model_name": "HTMLModel",
      "state": {
       "layout": "IPY_MODEL_7bcd2526b0be4651ae6880e2fdcd0c8b",
       "style": "IPY_MODEL_e5c60f4ccf8048e5af0d6d49cb197858",
       "value": "100%"
      }
     },
     "0faf902f1d4d4a11ab4505b0ba305f61": {
      "model_module": "@jupyter-widgets/controls",
      "model_module_version": "1.5.0",
      "model_name": "HBoxModel",
      "state": {
       "children": [
        "IPY_MODEL_6053c7f01131440e8c8bc39da5f75cab",
        "IPY_MODEL_5411ad49afd44c44b3148cbc93d44f99",
        "IPY_MODEL_3575745765d242cbacd6153317fca940"
       ],
       "layout": "IPY_MODEL_436a29cecf4c476ea3a9a13c09083d4f"
      }
     },
     "0fcc33e246f14763a50c82c4cdfc5709": {
      "model_module": "@jupyter-widgets/controls",
      "model_module_version": "1.5.0",
      "model_name": "HBoxModel",
      "state": {
       "children": [
        "IPY_MODEL_93683b3f823d4b12b5dbd3c6f738fbef",
        "IPY_MODEL_c4f3fb08a7c34b58a1ebef755390494e",
        "IPY_MODEL_3b10507be0904655bba5841b9b6869af"
       ],
       "layout": "IPY_MODEL_94f7e3c5da47421aa4851611da1d085c"
      }
     },
     "0ff389bf4f0b4db290f42c9146e09d4f": {
      "model_module": "@jupyter-widgets/base",
      "model_module_version": "1.2.0",
      "model_name": "LayoutModel",
      "state": {}
     },
     "1010e2409e2545939c338cf334b6b139": {
      "model_module": "@jupyter-widgets/controls",
      "model_module_version": "1.5.0",
      "model_name": "HBoxModel",
      "state": {
       "children": [
        "IPY_MODEL_beddf96da9764178a564cce6e0da8db6",
        "IPY_MODEL_5452fae14abe47f29f17f937cf63ad45",
        "IPY_MODEL_3b5cd88de58e4428af231d7f47103e68"
       ],
       "layout": "IPY_MODEL_fdb7f23284214a91821301d503a49083"
      }
     },
     "101d37d0bc6c45d3825cbcd1605d1d9e": {
      "model_module": "@jupyter-widgets/controls",
      "model_module_version": "1.5.0",
      "model_name": "DescriptionStyleModel",
      "state": {
       "description_width": ""
      }
     },
     "102021600eac4d18ab0ccf882980dc66": {
      "model_module": "@jupyter-widgets/controls",
      "model_module_version": "1.5.0",
      "model_name": "DescriptionStyleModel",
      "state": {
       "description_width": ""
      }
     },
     "1033f8270c704311aa14800ba836f3ae": {
      "model_module": "@jupyter-widgets/controls",
      "model_module_version": "1.5.0",
      "model_name": "HBoxModel",
      "state": {
       "children": [
        "IPY_MODEL_a643e49f355f4d2bb172fc93215ce956",
        "IPY_MODEL_9c99d7ad4ce74514a7e4375196a78559",
        "IPY_MODEL_8057042db0ae4c1b89bc7204cc85fc01"
       ],
       "layout": "IPY_MODEL_0197da2906714379a1f5be127f180cb9"
      }
     },
     "103eda467c3d4591af58be4f90002239": {
      "model_module": "@jupyter-widgets/controls",
      "model_module_version": "1.5.0",
      "model_name": "DescriptionStyleModel",
      "state": {
       "description_width": ""
      }
     },
     "1061a17227c44596be8f17b6a2177e60": {
      "model_module": "@jupyter-widgets/controls",
      "model_module_version": "1.5.0",
      "model_name": "DescriptionStyleModel",
      "state": {
       "description_width": ""
      }
     },
     "106c32f9d64b4b76b5ee05f3fe47e9ab": {
      "model_module": "@jupyter-widgets/controls",
      "model_module_version": "1.5.0",
      "model_name": "HTMLModel",
      "state": {
       "layout": "IPY_MODEL_0439bea332f84f50bba9c55beaecef8d",
       "style": "IPY_MODEL_7d3c339e17c34088828b148398fdb6c4",
       "value": "100%"
      }
     },
     "10793039d5c141e3b2965425f463d91e": {
      "model_module": "@jupyter-widgets/base",
      "model_module_version": "1.2.0",
      "model_name": "LayoutModel",
      "state": {}
     },
     "1088e2d947714d3a8b4679da946c3fc8": {
      "model_module": "@jupyter-widgets/controls",
      "model_module_version": "1.5.0",
      "model_name": "DescriptionStyleModel",
      "state": {
       "description_width": ""
      }
     },
     "10998bd1904a4882b598cbe8104e2b12": {
      "model_module": "@jupyter-widgets/controls",
      "model_module_version": "1.5.0",
      "model_name": "HTMLModel",
      "state": {
       "layout": "IPY_MODEL_44fa07d69d034daa8e969f93cb30a7d8",
       "style": "IPY_MODEL_a1d045acd664406397e527a456155603",
       "value": "100%"
      }
     },
     "10a228f582d942ce9de1a2228472cbcf": {
      "model_module": "@jupyter-widgets/controls",
      "model_module_version": "1.5.0",
      "model_name": "DescriptionStyleModel",
      "state": {
       "description_width": ""
      }
     },
     "10a575962e124d04b11794225a15796b": {
      "model_module": "@jupyter-widgets/controls",
      "model_module_version": "1.5.0",
      "model_name": "HBoxModel",
      "state": {
       "children": [
        "IPY_MODEL_3eeb3332cc054d78a90feec95d625667",
        "IPY_MODEL_344cecd2168f4cfbaf7589172370742f",
        "IPY_MODEL_fa5d7cf56ec44dd597818e4e6f347db2"
       ],
       "layout": "IPY_MODEL_3cc49078decf410e99b5dcf96be8922c"
      }
     },
     "10b1e65dbd8647f1ad6a3e63312404c0": {
      "model_module": "@jupyter-widgets/controls",
      "model_module_version": "1.5.0",
      "model_name": "FloatProgressModel",
      "state": {
       "bar_style": "success",
       "layout": "IPY_MODEL_7c1cb50d76de4d8884b5ef7a306b1817",
       "style": "IPY_MODEL_e5db2320b6b44fc68c3fc41092675cf9",
       "value": 100
      }
     },
     "10ba1c7fe6da4f8eaa8553350dc79195": {
      "model_module": "@jupyter-widgets/controls",
      "model_module_version": "1.5.0",
      "model_name": "FloatProgressModel",
      "state": {
       "bar_style": "success",
       "layout": "IPY_MODEL_c2e44af83a8049f6a226dea4ea31358b",
       "max": 1,
       "style": "IPY_MODEL_b7ef91f54dde416885b8b16046e1b379",
       "value": 1
      }
     },
     "10bd63f176d540ad84ab724de371768c": {
      "model_module": "@jupyter-widgets/controls",
      "model_module_version": "1.5.0",
      "model_name": "HTMLModel",
      "state": {
       "layout": "IPY_MODEL_dc79edd908f2484c841c9d5976a00381",
       "style": "IPY_MODEL_02db9618dfa34cbc908e3df71e4383e5",
       "value": " 1/1 [00:00&lt;00:00, 90.82it/s]"
      }
     },
     "10bf2b12192044ccad1d128e97e0d99e": {
      "model_module": "@jupyter-widgets/base",
      "model_module_version": "1.2.0",
      "model_name": "LayoutModel",
      "state": {}
     },
     "10f5017c63434cb68abc13c9a284b592": {
      "model_module": "@jupyter-widgets/base",
      "model_module_version": "1.2.0",
      "model_name": "LayoutModel",
      "state": {}
     },
     "1116246bb3fb49b0a5306493cc007b34": {
      "model_module": "@jupyter-widgets/base",
      "model_module_version": "1.2.0",
      "model_name": "LayoutModel",
      "state": {}
     },
     "1137756f25a5431a91fb2282c90f553f": {
      "model_module": "@jupyter-widgets/controls",
      "model_module_version": "1.5.0",
      "model_name": "HTMLModel",
      "state": {
       "layout": "IPY_MODEL_633038801562426283dc22afe4aa20db",
       "style": "IPY_MODEL_b66e3290c88b4d3e893102aa47419b4e",
       "value": " 1/1 [00:00&lt;00:00, 62.44it/s]"
      }
     },
     "11384f97046c4322bd70285cfe261486": {
      "model_module": "@jupyter-widgets/controls",
      "model_module_version": "1.5.0",
      "model_name": "HTMLModel",
      "state": {
       "layout": "IPY_MODEL_17a631bb46c94350947efb3a36de4c21",
       "style": "IPY_MODEL_57ac102249f94fcaa6395ba2e761706d",
       "value": "100%"
      }
     },
     "113904edec814ff7a9585a349135648c": {
      "model_module": "@jupyter-widgets/base",
      "model_module_version": "1.2.0",
      "model_name": "LayoutModel",
      "state": {}
     },
     "11398fd7e6294cec924deb7142b5dad2": {
      "model_module": "@jupyter-widgets/base",
      "model_module_version": "1.2.0",
      "model_name": "LayoutModel",
      "state": {}
     },
     "115130ce1fa24c59a207c6e0562306a5": {
      "model_module": "@jupyter-widgets/base",
      "model_module_version": "1.2.0",
      "model_name": "LayoutModel",
      "state": {}
     },
     "115d89e867984f1eb88a3cfa573c0ac6": {
      "model_module": "@jupyter-widgets/base",
      "model_module_version": "1.2.0",
      "model_name": "LayoutModel",
      "state": {}
     },
     "1194ff78720c4f03b424798597a0d28f": {
      "model_module": "@jupyter-widgets/controls",
      "model_module_version": "1.5.0",
      "model_name": "ProgressStyleModel",
      "state": {
       "description_width": ""
      }
     },
     "11b91e9a47954c29a083aae34cb489ff": {
      "model_module": "@jupyter-widgets/controls",
      "model_module_version": "1.5.0",
      "model_name": "HBoxModel",
      "state": {
       "children": [
        "IPY_MODEL_7a2df04ff1ea45cbafbde2db86aeabbf",
        "IPY_MODEL_57922bb35bbe4514bfc08e67e5f00b00",
        "IPY_MODEL_66f811a688ac443b8173ba2ca401c9ff"
       ],
       "layout": "IPY_MODEL_df5de38837a6463eb27dfa22ab867e79"
      }
     },
     "11bee762bc8446b298c878aae7a5acd0": {
      "model_module": "@jupyter-widgets/controls",
      "model_module_version": "1.5.0",
      "model_name": "DescriptionStyleModel",
      "state": {
       "description_width": ""
      }
     },
     "11dcfea0a6c1416fb01f82cb96af636e": {
      "model_module": "@jupyter-widgets/controls",
      "model_module_version": "1.5.0",
      "model_name": "DescriptionStyleModel",
      "state": {
       "description_width": ""
      }
     },
     "11df6ed8e17d4da5bc8a67a29269fb3c": {
      "model_module": "@jupyter-widgets/controls",
      "model_module_version": "1.5.0",
      "model_name": "HBoxModel",
      "state": {
       "children": [
        "IPY_MODEL_0f4b63f08c3d4577b0af8e2348102877",
        "IPY_MODEL_5fb17fd4c9ed4fc19d9b60185725066b",
        "IPY_MODEL_1b1063dbec9848bdb63fac0e117e1724"
       ],
       "layout": "IPY_MODEL_29dabcea237845649ab10456bed51fbb"
      }
     },
     "120ee62f263d461c88aa70d7d6dc3d0e": {
      "model_module": "@jupyter-widgets/base",
      "model_module_version": "1.2.0",
      "model_name": "LayoutModel",
      "state": {}
     },
     "121200540b2146379ee261e74869d27b": {
      "model_module": "@jupyter-widgets/controls",
      "model_module_version": "1.5.0",
      "model_name": "HBoxModel",
      "state": {
       "children": [
        "IPY_MODEL_74141afd96a14145b6a87035c6d6c6d4",
        "IPY_MODEL_f3a437ca84ab4957b327c4475c5821e2",
        "IPY_MODEL_a4bddcb5590e4d618bc15f74b2be17a5"
       ],
       "layout": "IPY_MODEL_281a474b7bbf422b92654832148c87cb"
      }
     },
     "12216fdbf0ff475aafc69011ceef9525": {
      "model_module": "@jupyter-widgets/controls",
      "model_module_version": "1.5.0",
      "model_name": "DescriptionStyleModel",
      "state": {
       "description_width": ""
      }
     },
     "126c5d2c50084ee3bb4caa42d3bf5125": {
      "model_module": "@jupyter-widgets/base",
      "model_module_version": "1.2.0",
      "model_name": "LayoutModel",
      "state": {}
     },
     "127e6c62bf6245a7ac3ef6daf77a4609": {
      "model_module": "@jupyter-widgets/base",
      "model_module_version": "1.2.0",
      "model_name": "LayoutModel",
      "state": {}
     },
     "1282c43391dd4f5ca5a1a83e7ee924e8": {
      "model_module": "@jupyter-widgets/controls",
      "model_module_version": "1.5.0",
      "model_name": "HBoxModel",
      "state": {
       "children": [
        "IPY_MODEL_73d2df588a3547a7a675dfd7166018e9",
        "IPY_MODEL_777b37251fb646beac4c428bed6c3529",
        "IPY_MODEL_1fec797f27b1442bac46ab15283b2c4f"
       ],
       "layout": "IPY_MODEL_9e37baac9ab8428bbddc309d3feb69a2"
      }
     },
     "128491d39aae43b18e11ee6eb1ae0364": {
      "model_module": "@jupyter-widgets/controls",
      "model_module_version": "1.5.0",
      "model_name": "DescriptionStyleModel",
      "state": {
       "description_width": ""
      }
     },
     "12877484f9d84c75ba34fadf2ddb3462": {
      "model_module": "@jupyter-widgets/controls",
      "model_module_version": "1.5.0",
      "model_name": "ProgressStyleModel",
      "state": {
       "description_width": ""
      }
     },
     "12885f3fea6e40fe8c7babc382a35856": {
      "model_module": "@jupyter-widgets/base",
      "model_module_version": "1.2.0",
      "model_name": "LayoutModel",
      "state": {}
     },
     "1291e580b58247ba86aeed629c383863": {
      "model_module": "@jupyter-widgets/base",
      "model_module_version": "1.2.0",
      "model_name": "LayoutModel",
      "state": {}
     },
     "12a1e10d5f4f44f9a5a3413f839e5473": {
      "model_module": "@jupyter-widgets/base",
      "model_module_version": "1.2.0",
      "model_name": "LayoutModel",
      "state": {}
     },
     "12c51e95e55146488cd0976168c835c7": {
      "model_module": "@jupyter-widgets/base",
      "model_module_version": "1.2.0",
      "model_name": "LayoutModel",
      "state": {}
     },
     "12ca8333e4bb40a29de016b1e7a877cd": {
      "model_module": "@jupyter-widgets/base",
      "model_module_version": "1.2.0",
      "model_name": "LayoutModel",
      "state": {}
     },
     "12e07a7aeaa24447937a4b366c70c391": {
      "model_module": "@jupyter-widgets/controls",
      "model_module_version": "1.5.0",
      "model_name": "HTMLModel",
      "state": {
       "layout": "IPY_MODEL_07eb238717864186b09ff75dd0fd2eb9",
       "style": "IPY_MODEL_7fe14eed5d9c4c7aa5921d3ab8a85ec5",
       "value": " 1/1 [00:00&lt;00:00, 90.83it/s]"
      }
     },
     "12f604816d99493b99d79571abe734a5": {
      "model_module": "@jupyter-widgets/base",
      "model_module_version": "1.2.0",
      "model_name": "LayoutModel",
      "state": {}
     },
     "1351b08b2a694b86845128b53db57c04": {
      "model_module": "@jupyter-widgets/controls",
      "model_module_version": "1.5.0",
      "model_name": "HTMLModel",
      "state": {
       "layout": "IPY_MODEL_83bd2155a0094f66baced0e7cbfda476",
       "style": "IPY_MODEL_d9298780fe7c4aeea5a6a2f8bd288f79",
       "value": " 100/100 [19:17&lt;00:00, 14.70s/it]"
      }
     },
     "13656099bf62404eb099f2cc2c5e5a2b": {
      "model_module": "@jupyter-widgets/base",
      "model_module_version": "1.2.0",
      "model_name": "LayoutModel",
      "state": {}
     },
     "136dbbe00e054188899cac814a4bb7c6": {
      "model_module": "@jupyter-widgets/base",
      "model_module_version": "1.2.0",
      "model_name": "LayoutModel",
      "state": {}
     },
     "139378d9c20c410d9d1971b8b37f4879": {
      "model_module": "@jupyter-widgets/base",
      "model_module_version": "1.2.0",
      "model_name": "LayoutModel",
      "state": {}
     },
     "13a9c61bcaeb4b36b50f9a59c7d99334": {
      "model_module": "@jupyter-widgets/controls",
      "model_module_version": "1.5.0",
      "model_name": "ProgressStyleModel",
      "state": {
       "description_width": ""
      }
     },
     "14005a6bd94246fbaea8183476fb2bf4": {
      "model_module": "@jupyter-widgets/controls",
      "model_module_version": "1.5.0",
      "model_name": "DescriptionStyleModel",
      "state": {
       "description_width": ""
      }
     },
     "140b2343c42449bf8460b1b7d3294e73": {
      "model_module": "@jupyter-widgets/base",
      "model_module_version": "1.2.0",
      "model_name": "LayoutModel",
      "state": {}
     },
     "141f8cd9627748e19677c02dfb404618": {
      "model_module": "@jupyter-widgets/controls",
      "model_module_version": "1.5.0",
      "model_name": "HBoxModel",
      "state": {
       "children": [
        "IPY_MODEL_f637e44166db494182cb5244063fcce2",
        "IPY_MODEL_db8fb2f9361241f59b738008c99666e1",
        "IPY_MODEL_4c5f57848da445209be214bd8155ce77"
       ],
       "layout": "IPY_MODEL_af6d3d2280c942c394d2c4b30f371e61"
      }
     },
     "143fcb9ea8ad469d952d57940a8d3e7d": {
      "model_module": "@jupyter-widgets/base",
      "model_module_version": "1.2.0",
      "model_name": "LayoutModel",
      "state": {}
     },
     "14435a9a183a46a1a835cf29f24c1aca": {
      "model_module": "@jupyter-widgets/controls",
      "model_module_version": "1.5.0",
      "model_name": "ProgressStyleModel",
      "state": {
       "description_width": ""
      }
     },
     "145385e85324439dac08856a306cafdc": {
      "model_module": "@jupyter-widgets/base",
      "model_module_version": "1.2.0",
      "model_name": "LayoutModel",
      "state": {}
     },
     "147391c2c74146f28bf1c3e0f59b7e5e": {
      "model_module": "@jupyter-widgets/base",
      "model_module_version": "1.2.0",
      "model_name": "LayoutModel",
      "state": {}
     },
     "148a46c374574a699a3170275e19be06": {
      "model_module": "@jupyter-widgets/controls",
      "model_module_version": "1.5.0",
      "model_name": "DescriptionStyleModel",
      "state": {
       "description_width": ""
      }
     },
     "148aa92cc6d6405f9917b4adeddf1e5d": {
      "model_module": "@jupyter-widgets/controls",
      "model_module_version": "1.5.0",
      "model_name": "HBoxModel",
      "state": {
       "children": [
        "IPY_MODEL_fe1194de3fc64e4ca66de2ce826576b5",
        "IPY_MODEL_4234894fe2934a089947bd3a19e0dfed",
        "IPY_MODEL_d608a8d6765a4b60bb49c9dbdd8b5f00"
       ],
       "layout": "IPY_MODEL_6f5ef98d8c1d480fa4d316f84cd18be9"
      }
     },
     "149c6c03c63742d392850452fd75ba38": {
      "model_module": "@jupyter-widgets/controls",
      "model_module_version": "1.5.0",
      "model_name": "DescriptionStyleModel",
      "state": {
       "description_width": ""
      }
     },
     "14a5b9eb648e403e92f84131cfc268e5": {
      "model_module": "@jupyter-widgets/base",
      "model_module_version": "1.2.0",
      "model_name": "LayoutModel",
      "state": {}
     },
     "14bb6f6ca58b458b8ffa6c888d1b59f6": {
      "model_module": "@jupyter-widgets/controls",
      "model_module_version": "1.5.0",
      "model_name": "DescriptionStyleModel",
      "state": {
       "description_width": ""
      }
     },
     "14caa668cf7b42b48d6ffce57a0cefc7": {
      "model_module": "@jupyter-widgets/controls",
      "model_module_version": "1.5.0",
      "model_name": "DescriptionStyleModel",
      "state": {
       "description_width": ""
      }
     },
     "14dbaec5a0d84c39b75151274f32aab0": {
      "model_module": "@jupyter-widgets/base",
      "model_module_version": "1.2.0",
      "model_name": "LayoutModel",
      "state": {}
     },
     "14e7ad6e5c3346d28951f5b0ddffe491": {
      "model_module": "@jupyter-widgets/base",
      "model_module_version": "1.2.0",
      "model_name": "LayoutModel",
      "state": {}
     },
     "1510b82fad3240df81ed9084233f1a91": {
      "model_module": "@jupyter-widgets/controls",
      "model_module_version": "1.5.0",
      "model_name": "HTMLModel",
      "state": {
       "layout": "IPY_MODEL_52bcc2d602924910ab17065db3355cd0",
       "style": "IPY_MODEL_484cf64b00c546c99932d2d095f61de0",
       "value": " 13226/13226 [00:15&lt;00:00, 750.74ba/s]"
      }
     },
     "1513fd617ebf43f5933b3c9b7346d944": {
      "model_module": "@jupyter-widgets/controls",
      "model_module_version": "1.5.0",
      "model_name": "HTMLModel",
      "state": {
       "layout": "IPY_MODEL_91301e2ac741446a83feedd5da77f7a4",
       "style": "IPY_MODEL_492f0dc1fcce4e13afc3a68e7e4274d1",
       "value": " 0/100 [00:01&lt;?, ?it/s]"
      }
     },
     "152197606cb343a2b0f0760ac4b1b952": {
      "model_module": "@jupyter-widgets/base",
      "model_module_version": "1.2.0",
      "model_name": "LayoutModel",
      "state": {}
     },
     "152b10c64ad947fd8a529a75bab4f662": {
      "model_module": "@jupyter-widgets/base",
      "model_module_version": "1.2.0",
      "model_name": "LayoutModel",
      "state": {}
     },
     "153198100f224a76bf16007173eeaad7": {
      "model_module": "@jupyter-widgets/controls",
      "model_module_version": "1.5.0",
      "model_name": "DescriptionStyleModel",
      "state": {
       "description_width": ""
      }
     },
     "154220f11b24444190ab7738cf4319f1": {
      "model_module": "@jupyter-widgets/base",
      "model_module_version": "1.2.0",
      "model_name": "LayoutModel",
      "state": {}
     },
     "1570c978d97d42e8919fb55d9e4979eb": {
      "model_module": "@jupyter-widgets/controls",
      "model_module_version": "1.5.0",
      "model_name": "FloatProgressModel",
      "state": {
       "bar_style": "success",
       "layout": "IPY_MODEL_73ed43af961b4117b9eee1e6fed5a66d",
       "max": 1,
       "style": "IPY_MODEL_5328d58212bc44d8ab924f1529952aa2",
       "value": 1
      }
     },
     "157237e7cb384c3d8fbc7f4680001514": {
      "model_module": "@jupyter-widgets/base",
      "model_module_version": "1.2.0",
      "model_name": "LayoutModel",
      "state": {}
     },
     "157a5e463ff144d08bfc40267fee4550": {
      "model_module": "@jupyter-widgets/base",
      "model_module_version": "1.2.0",
      "model_name": "LayoutModel",
      "state": {}
     },
     "1594d7467cdb47808f9c84ea858dc168": {
      "model_module": "@jupyter-widgets/controls",
      "model_module_version": "1.5.0",
      "model_name": "DescriptionStyleModel",
      "state": {
       "description_width": ""
      }
     },
     "15980e76363a41f29b5c801334ae27ca": {
      "model_module": "@jupyter-widgets/base",
      "model_module_version": "1.2.0",
      "model_name": "LayoutModel",
      "state": {}
     },
     "15aa19f7562c46d8a03576a86f76d8fa": {
      "model_module": "@jupyter-widgets/controls",
      "model_module_version": "1.5.0",
      "model_name": "ProgressStyleModel",
      "state": {
       "description_width": ""
      }
     },
     "15b408d95db848459d9e4428f32d4ee5": {
      "model_module": "@jupyter-widgets/controls",
      "model_module_version": "1.5.0",
      "model_name": "DescriptionStyleModel",
      "state": {
       "description_width": ""
      }
     },
     "15b6ea3985c14283a8ac2249d581939d": {
      "model_module": "@jupyter-widgets/controls",
      "model_module_version": "1.5.0",
      "model_name": "HBoxModel",
      "state": {
       "children": [
        "IPY_MODEL_983aa1f16f144379a543c4d11ee41f12",
        "IPY_MODEL_329116700b3a415b80b35abcd103a29a",
        "IPY_MODEL_c7f073d3ef934addbcdc25bb873db0bf"
       ],
       "layout": "IPY_MODEL_05e3e98ba46644d3a9b49056d9548f3e"
      }
     },
     "15be3853ec1646afa7988fdf9699fd5c": {
      "model_module": "@jupyter-widgets/controls",
      "model_module_version": "1.5.0",
      "model_name": "HBoxModel",
      "state": {
       "children": [
        "IPY_MODEL_f449aa3b131d4d73bd6bc604af71ef54",
        "IPY_MODEL_18da4d6e2e8f4488abf48eb30af547ec",
        "IPY_MODEL_4b5b4ec38ae1483dbb52314b822eb589"
       ],
       "layout": "IPY_MODEL_d595bba1e4084e989cf1776d5ecfc294"
      }
     },
     "1614248d48a04b65971459372e734d0d": {
      "model_module": "@jupyter-widgets/controls",
      "model_module_version": "1.5.0",
      "model_name": "FloatProgressModel",
      "state": {
       "bar_style": "success",
       "layout": "IPY_MODEL_378cc30d7daf4e90bd4931a609f19741",
       "max": 1,
       "style": "IPY_MODEL_689a16ba3d374165abe40c184adef2e7",
       "value": 1
      }
     },
     "161ea2ad83c74dcbb04008807c75b6a9": {
      "model_module": "@jupyter-widgets/controls",
      "model_module_version": "1.5.0",
      "model_name": "HTMLModel",
      "state": {
       "layout": "IPY_MODEL_61721a1293964b31ad9df38fd553895a",
       "style": "IPY_MODEL_054f867280bc449c88c788be4d085ec7",
       "value": "100%"
      }
     },
     "16369d11012a458b835d23c4ca12d4a8": {
      "model_module": "@jupyter-widgets/base",
      "model_module_version": "1.2.0",
      "model_name": "LayoutModel",
      "state": {}
     },
     "165ad69f5a394b5c9d7909f1e260f66f": {
      "model_module": "@jupyter-widgets/base",
      "model_module_version": "1.2.0",
      "model_name": "LayoutModel",
      "state": {}
     },
     "166eb915582f42bebaed94a4ab47fd6f": {
      "model_module": "@jupyter-widgets/base",
      "model_module_version": "1.2.0",
      "model_name": "LayoutModel",
      "state": {}
     },
     "167b282446414da9a15ae206025fc8e4": {
      "model_module": "@jupyter-widgets/controls",
      "model_module_version": "1.5.0",
      "model_name": "ProgressStyleModel",
      "state": {
       "description_width": ""
      }
     },
     "16a4bd08b52e4e48a83f84d76121d791": {
      "model_module": "@jupyter-widgets/controls",
      "model_module_version": "1.5.0",
      "model_name": "HBoxModel",
      "state": {
       "children": [
        "IPY_MODEL_ca4e95ccfdf14f4c8a5548b4ac8bf73b",
        "IPY_MODEL_c7e241ad1fd1490fb576fbf1fc7d4e59",
        "IPY_MODEL_dc8d8251820a4553989da13e5dcc3dc6"
       ],
       "layout": "IPY_MODEL_2b8fb7e1f53646a88df684bcf6cd4960"
      }
     },
     "16a99d0e933642b3913b713efcdb2305": {
      "model_module": "@jupyter-widgets/controls",
      "model_module_version": "1.5.0",
      "model_name": "HTMLModel",
      "state": {
       "layout": "IPY_MODEL_d3f27fd4db384dd7a241beab217d28fd",
       "style": "IPY_MODEL_18e9ad45d7654c0a86fce313ab90ec0f",
       "value": "100%"
      }
     },
     "16ab074c771a4ae7ab5d5048f462ae2e": {
      "model_module": "@jupyter-widgets/controls",
      "model_module_version": "1.5.0",
      "model_name": "HTMLModel",
      "state": {
       "layout": "IPY_MODEL_5942304aa0004cdb8e00b7cea12678e7",
       "style": "IPY_MODEL_1bdc453b616442c8aec511bce3039aa9",
       "value": " 1/1 [00:00&lt;00:00, 90.83it/s]"
      }
     },
     "16ce9556f2e74964ab78894c7db641f5": {
      "model_module": "@jupyter-widgets/base",
      "model_module_version": "1.2.0",
      "model_name": "LayoutModel",
      "state": {}
     },
     "16e7f46b9f544e4baf21e390827d5223": {
      "model_module": "@jupyter-widgets/controls",
      "model_module_version": "1.5.0",
      "model_name": "HBoxModel",
      "state": {
       "children": [
        "IPY_MODEL_515c9fdb448a4337a2737ef6b981a8a9",
        "IPY_MODEL_4f067944343e46afb09cccfd364bf57c",
        "IPY_MODEL_d2dfd0ecb9c84a5e990ddc94a6d4519d"
       ],
       "layout": "IPY_MODEL_01463c831eab40d9a470e02a064da667"
      }
     },
     "16fb8e854801450abbfd68e0dc49cc75": {
      "model_module": "@jupyter-widgets/controls",
      "model_module_version": "1.5.0",
      "model_name": "HTMLModel",
      "state": {
       "layout": "IPY_MODEL_4f6403fed15a4c87b9ee134ea216c437",
       "style": "IPY_MODEL_1981ab8f8921444e8fab0f477db3961e",
       "value": "100%"
      }
     },
     "1718d85b7e354aeda8043d12a4e91c0a": {
      "model_module": "@jupyter-widgets/controls",
      "model_module_version": "1.5.0",
      "model_name": "DescriptionStyleModel",
      "state": {
       "description_width": ""
      }
     },
     "17474ec0244540d69337af74a5ea3576": {
      "model_module": "@jupyter-widgets/controls",
      "model_module_version": "1.5.0",
      "model_name": "DescriptionStyleModel",
      "state": {
       "description_width": ""
      }
     },
     "1759f32a923242b684e37f036eaa0037": {
      "model_module": "@jupyter-widgets/base",
      "model_module_version": "1.2.0",
      "model_name": "LayoutModel",
      "state": {}
     },
     "1766c0b94d92412b96d314463dc0f4ed": {
      "model_module": "@jupyter-widgets/base",
      "model_module_version": "1.2.0",
      "model_name": "LayoutModel",
      "state": {}
     },
     "176dbdcc3aea40df82c4decff273731a": {
      "model_module": "@jupyter-widgets/base",
      "model_module_version": "1.2.0",
      "model_name": "LayoutModel",
      "state": {}
     },
     "1779e90d7c8c4e50aca0889e3ff863cf": {
      "model_module": "@jupyter-widgets/controls",
      "model_module_version": "1.5.0",
      "model_name": "DescriptionStyleModel",
      "state": {
       "description_width": ""
      }
     },
     "177cfb02893546628e081b2966f046a3": {
      "model_module": "@jupyter-widgets/controls",
      "model_module_version": "1.5.0",
      "model_name": "HTMLModel",
      "state": {
       "layout": "IPY_MODEL_03c3ce13999d49aab585592a59e5e412",
       "style": "IPY_MODEL_c757a4559b5d4c80b3b6a584840e8c2d",
       "value": " 100/100 [18:04&lt;00:00, 13.88s/it]"
      }
     },
     "17957e5d32944e03b9fae8eacff1ed5e": {
      "model_module": "@jupyter-widgets/controls",
      "model_module_version": "1.5.0",
      "model_name": "DescriptionStyleModel",
      "state": {
       "description_width": ""
      }
     },
     "17a631bb46c94350947efb3a36de4c21": {
      "model_module": "@jupyter-widgets/base",
      "model_module_version": "1.2.0",
      "model_name": "LayoutModel",
      "state": {}
     },
     "17ba9fb434204dfe8ce9a543f6088e5f": {
      "model_module": "@jupyter-widgets/controls",
      "model_module_version": "1.5.0",
      "model_name": "HTMLModel",
      "state": {
       "layout": "IPY_MODEL_8a0796b206794a31ad7f205779331c97",
       "style": "IPY_MODEL_85198c61ebf747e5b249b0a2b2a5884c",
       "value": "100%"
      }
     },
     "17c4dcbad068437baa8a65732ea4d9d0": {
      "model_module": "@jupyter-widgets/base",
      "model_module_version": "1.2.0",
      "model_name": "LayoutModel",
      "state": {}
     },
     "17c658678d72415f8846595b059c7434": {
      "model_module": "@jupyter-widgets/controls",
      "model_module_version": "1.5.0",
      "model_name": "FloatProgressModel",
      "state": {
       "bar_style": "success",
       "layout": "IPY_MODEL_d5d5cee6b2284cebb28547c1c17e3f4a",
       "max": 1,
       "style": "IPY_MODEL_c925e737d9ee4e35b8de4ce1fb344b57",
       "value": 1
      }
     },
     "17d8c818c5064c5aa56c28ffd2265da0": {
      "model_module": "@jupyter-widgets/base",
      "model_module_version": "1.2.0",
      "model_name": "LayoutModel",
      "state": {}
     },
     "1837339b3d704302ae1e3b951ea9b94f": {
      "model_module": "@jupyter-widgets/base",
      "model_module_version": "1.2.0",
      "model_name": "LayoutModel",
      "state": {}
     },
     "183b7900f7c4409fa9d294e5e9f92f47": {
      "model_module": "@jupyter-widgets/controls",
      "model_module_version": "1.5.0",
      "model_name": "HTMLModel",
      "state": {
       "layout": "IPY_MODEL_445de939405249639f52eed7f4f4b2b0",
       "style": "IPY_MODEL_2a1b01dac3934802a6126c5c3c09bb13",
       "value": " 1/1 [00:00&lt;00:00, 90.83it/s]"
      }
     },
     "1843ba963fc24f939471415f68687197": {
      "model_module": "@jupyter-widgets/base",
      "model_module_version": "1.2.0",
      "model_name": "LayoutModel",
      "state": {}
     },
     "187200885d884ad6b5328d15978d05f1": {
      "model_module": "@jupyter-widgets/controls",
      "model_module_version": "1.5.0",
      "model_name": "HTMLModel",
      "state": {
       "layout": "IPY_MODEL_48b2a56ef37d4229870298833fbb703d",
       "style": "IPY_MODEL_15b408d95db848459d9e4428f32d4ee5",
       "value": "100%"
      }
     },
     "1873afe595f44eeb8946055742a097b8": {
      "model_module": "@jupyter-widgets/base",
      "model_module_version": "1.2.0",
      "model_name": "LayoutModel",
      "state": {}
     },
     "187973aad1104daf964dfcae15aed4e0": {
      "model_module": "@jupyter-widgets/base",
      "model_module_version": "1.2.0",
      "model_name": "LayoutModel",
      "state": {}
     },
     "1891acb1b861401cbbf926e3e5f32baf": {
      "model_module": "@jupyter-widgets/controls",
      "model_module_version": "1.5.0",
      "model_name": "DescriptionStyleModel",
      "state": {
       "description_width": ""
      }
     },
     "18a98e7ed64243ad86d2fd3835a02551": {
      "model_module": "@jupyter-widgets/controls",
      "model_module_version": "1.5.0",
      "model_name": "FloatProgressModel",
      "state": {
       "bar_style": "success",
       "layout": "IPY_MODEL_42ba379257cb4ffd9622680c2d6b77d3",
       "max": 133,
       "style": "IPY_MODEL_021e04d2f4de41208abbfdf03af51139",
       "value": 133
      }
     },
     "18ab6267706b4acfbc9605c131077214": {
      "model_module": "@jupyter-widgets/base",
      "model_module_version": "1.2.0",
      "model_name": "LayoutModel",
      "state": {}
     },
     "18bc3e2dca9f47039e9155aa8457d2eb": {
      "model_module": "@jupyter-widgets/base",
      "model_module_version": "1.2.0",
      "model_name": "LayoutModel",
      "state": {}
     },
     "18c02e671df44313825cbb9939e7c0ff": {
      "model_module": "@jupyter-widgets/controls",
      "model_module_version": "1.5.0",
      "model_name": "HTMLModel",
      "state": {
       "layout": "IPY_MODEL_3211843e80904c63a845c55122826b43",
       "style": "IPY_MODEL_2105d7f433184024b7501080671bc385",
       "value": " 1/1 [00:00&lt;00:00, 90.83it/s]"
      }
     },
     "18c409c52916497f98e1661bab3a4958": {
      "model_module": "@jupyter-widgets/controls",
      "model_module_version": "1.5.0",
      "model_name": "HTMLModel",
      "state": {
       "layout": "IPY_MODEL_aeee75be176747e9a272c6941967d124",
       "style": "IPY_MODEL_c5ad92cd5243497fb72679be59155485",
       "value": " 100/100 [10:26&lt;00:00,  6.26s/it]"
      }
     },
     "18c78fb189e3463cadf6bd401b2535ff": {
      "model_module": "@jupyter-widgets/base",
      "model_module_version": "1.2.0",
      "model_name": "LayoutModel",
      "state": {}
     },
     "18da4d6e2e8f4488abf48eb30af547ec": {
      "model_module": "@jupyter-widgets/controls",
      "model_module_version": "1.5.0",
      "model_name": "FloatProgressModel",
      "state": {
       "bar_style": "success",
       "layout": "IPY_MODEL_aa6f67fa0755437998e3a69ec6299fa5",
       "max": 1,
       "style": "IPY_MODEL_09bc1a896c8a467b8d1dec84b6d217db",
       "value": 1
      }
     },
     "18e4bc70d2934d03a2ac5fad4d0202c0": {
      "model_module": "@jupyter-widgets/base",
      "model_module_version": "1.2.0",
      "model_name": "LayoutModel",
      "state": {}
     },
     "18e9ad45d7654c0a86fce313ab90ec0f": {
      "model_module": "@jupyter-widgets/controls",
      "model_module_version": "1.5.0",
      "model_name": "DescriptionStyleModel",
      "state": {
       "description_width": ""
      }
     },
     "18f119acafa245559f9a36faf1bff932": {
      "model_module": "@jupyter-widgets/controls",
      "model_module_version": "1.5.0",
      "model_name": "HTMLModel",
      "state": {
       "layout": "IPY_MODEL_b06ab605bb3d4d8a94efb680bd395b51",
       "style": "IPY_MODEL_c651633249844ae0b540073b7a14a454",
       "value": " 100/100 [03:55&lt;00:00,  2.31s/it]"
      }
     },
     "19022c3490d04c94aaa17d7586c7aa0e": {
      "model_module": "@jupyter-widgets/base",
      "model_module_version": "1.2.0",
      "model_name": "LayoutModel",
      "state": {}
     },
     "1905cecd8eca4a2dae5529f2ba699b0e": {
      "model_module": "@jupyter-widgets/base",
      "model_module_version": "1.2.0",
      "model_name": "LayoutModel",
      "state": {}
     },
     "190661d023604873bad75d169ad9fd6e": {
      "model_module": "@jupyter-widgets/controls",
      "model_module_version": "1.5.0",
      "model_name": "FloatProgressModel",
      "state": {
       "bar_style": "success",
       "layout": "IPY_MODEL_20225505f6aa4d999536a9c270410150",
       "max": 1,
       "style": "IPY_MODEL_2647739288454e95bf0e45f850ad25d2",
       "value": 1
      }
     },
     "190df68234454c84a8a4e98a225763e9": {
      "model_module": "@jupyter-widgets/controls",
      "model_module_version": "1.5.0",
      "model_name": "HTMLModel",
      "state": {
       "layout": "IPY_MODEL_2bb1ce5a7c284f91babb31c6c93be9c0",
       "style": "IPY_MODEL_6a07b6e6d23f4e54851af20414562744",
       "value": "100%"
      }
     },
     "191741ef31a14ca58d6387cc3b5eb073": {
      "model_module": "@jupyter-widgets/controls",
      "model_module_version": "1.5.0",
      "model_name": "HBoxModel",
      "state": {
       "children": [
        "IPY_MODEL_65d20fa773514c829bd5be9e02cd8dd6",
        "IPY_MODEL_25a059f4e1ac4d49af29580f96041bb9",
        "IPY_MODEL_9785133467014adba93daff67bf39020"
       ],
       "layout": "IPY_MODEL_ddee0b42eede4c38b3da94fbee65c7d8"
      }
     },
     "194ed1434a4a4b8a8e3aa49e20169e30": {
      "model_module": "@jupyter-widgets/base",
      "model_module_version": "1.2.0",
      "model_name": "LayoutModel",
      "state": {}
     },
     "1957032a378d4f2788776cc181bcd7b8": {
      "model_module": "@jupyter-widgets/base",
      "model_module_version": "1.2.0",
      "model_name": "LayoutModel",
      "state": {}
     },
     "195f7885df14436fb08f4516dd3a1aa1": {
      "model_module": "@jupyter-widgets/controls",
      "model_module_version": "1.5.0",
      "model_name": "DescriptionStyleModel",
      "state": {
       "description_width": ""
      }
     },
     "1966843106bb43a3a9152bd228397709": {
      "model_module": "@jupyter-widgets/controls",
      "model_module_version": "1.5.0",
      "model_name": "HTMLModel",
      "state": {
       "layout": "IPY_MODEL_5f854df0b31b4d048922c6ba7862f152",
       "style": "IPY_MODEL_755a1542d0714413af3b93f27551c4e6",
       "value": " 100/100 [06:21&lt;00:00,  2.90s/it]"
      }
     },
     "1981ab8f8921444e8fab0f477db3961e": {
      "model_module": "@jupyter-widgets/controls",
      "model_module_version": "1.5.0",
      "model_name": "DescriptionStyleModel",
      "state": {
       "description_width": ""
      }
     },
     "19a0248e32c84cd08673e14e5f60d5d9": {
      "model_module": "@jupyter-widgets/controls",
      "model_module_version": "1.5.0",
      "model_name": "FloatProgressModel",
      "state": {
       "bar_style": "success",
       "layout": "IPY_MODEL_fd26626f2df244cd8f46f8d063e60bf8",
       "max": 1,
       "style": "IPY_MODEL_2e0d722756534f758ceed751e6d7e963",
       "value": 1
      }
     },
     "19bdea6f63b742f7a0ecbc6402febbc5": {
      "model_module": "@jupyter-widgets/controls",
      "model_module_version": "1.5.0",
      "model_name": "HBoxModel",
      "state": {
       "children": [
        "IPY_MODEL_5bb76e340c984d469cba594cf4a707ec",
        "IPY_MODEL_56448ab75fa64665a402ddff3ed141a4",
        "IPY_MODEL_4bd357a2660a42f093e07a1bde1813d9"
       ],
       "layout": "IPY_MODEL_8c50d3ad953d4d919f8dc68a542d426e"
      }
     },
     "19f160158d934ea9a8e2b684a303d13e": {
      "model_module": "@jupyter-widgets/controls",
      "model_module_version": "1.5.0",
      "model_name": "ProgressStyleModel",
      "state": {
       "description_width": ""
      }
     },
     "1a0122569c9c4fbab59791e5b40b6c95": {
      "model_module": "@jupyter-widgets/base",
      "model_module_version": "1.2.0",
      "model_name": "LayoutModel",
      "state": {}
     },
     "1a2a6808dd5e40b7a9b15848f5f0fdc9": {
      "model_module": "@jupyter-widgets/controls",
      "model_module_version": "1.5.0",
      "model_name": "FloatProgressModel",
      "state": {
       "bar_style": "success",
       "layout": "IPY_MODEL_27f097310b614a7882afff658d79de66",
       "style": "IPY_MODEL_fa1d6a81bbd24a0b9dda41d8ac23622e",
       "value": 100
      }
     },
     "1a2b9356cf69490ba02cfb34d8bc0a07": {
      "model_module": "@jupyter-widgets/controls",
      "model_module_version": "1.5.0",
      "model_name": "FloatProgressModel",
      "state": {
       "bar_style": "success",
       "layout": "IPY_MODEL_54d85a688b104d0e8ee79d75c5d76a06",
       "style": "IPY_MODEL_1d00902d67e248309f1acd94a1bd7b16",
       "value": 100
      }
     },
     "1a2b9b4855d0427b9bf50602f2b2d9de": {
      "model_module": "@jupyter-widgets/controls",
      "model_module_version": "1.5.0",
      "model_name": "DescriptionStyleModel",
      "state": {
       "description_width": ""
      }
     },
     "1a54bb7f4fa841bb90db9716e9e57d5f": {
      "model_module": "@jupyter-widgets/controls",
      "model_module_version": "1.5.0",
      "model_name": "DescriptionStyleModel",
      "state": {
       "description_width": ""
      }
     },
     "1a56efdc57bc4c7293b3d15d44dcb448": {
      "model_module": "@jupyter-widgets/controls",
      "model_module_version": "1.5.0",
      "model_name": "HTMLModel",
      "state": {
       "layout": "IPY_MODEL_8d1f9d39dce74204a862584e9a339117",
       "style": "IPY_MODEL_1594d7467cdb47808f9c84ea858dc168",
       "value": " 1/1 [00:02&lt;00:00,  2.10s/ba]"
      }
     },
     "1a85a4aec1e1499f9de762fcad641f85": {
      "model_module": "@jupyter-widgets/controls",
      "model_module_version": "1.5.0",
      "model_name": "ProgressStyleModel",
      "state": {
       "description_width": ""
      }
     },
     "1a8ec709cb4246f39e4642883ee19cac": {
      "model_module": "@jupyter-widgets/controls",
      "model_module_version": "1.5.0",
      "model_name": "HTMLModel",
      "state": {
       "layout": "IPY_MODEL_9edea13ec1bf4d919de276a41081ce6d",
       "style": "IPY_MODEL_538c173dec99401da638ccebb5671093",
       "value": "100%"
      }
     },
     "1a98ec75c8b449c696f1838a8a513d4c": {
      "model_module": "@jupyter-widgets/base",
      "model_module_version": "1.2.0",
      "model_name": "LayoutModel",
      "state": {}
     },
     "1aa25d825c424351b63890b83d3a286a": {
      "model_module": "@jupyter-widgets/controls",
      "model_module_version": "1.5.0",
      "model_name": "HTMLModel",
      "state": {
       "layout": "IPY_MODEL_26ea9cf39469468e95e03188b07ec8f2",
       "style": "IPY_MODEL_8885f49d7d294bd9a1c2d140431409dd",
       "value": "100%"
      }
     },
     "1ab0f85dd1bb40a790c343b2aae453ad": {
      "model_module": "@jupyter-widgets/base",
      "model_module_version": "1.2.0",
      "model_name": "LayoutModel",
      "state": {}
     },
     "1ab5803c82e946b2b68ac7834c924d00": {
      "model_module": "@jupyter-widgets/controls",
      "model_module_version": "1.5.0",
      "model_name": "DescriptionStyleModel",
      "state": {
       "description_width": ""
      }
     },
     "1addd464b4f6405e98e889b77934a7db": {
      "model_module": "@jupyter-widgets/base",
      "model_module_version": "1.2.0",
      "model_name": "LayoutModel",
      "state": {}
     },
     "1adee6e54f0546c68446bee091a18692": {
      "model_module": "@jupyter-widgets/controls",
      "model_module_version": "1.5.0",
      "model_name": "HTMLModel",
      "state": {
       "layout": "IPY_MODEL_b7796c93bb9f4ab7ac5c4f66f62713ba",
       "style": "IPY_MODEL_51c1ce8f68ea4935a581486045e1fcec",
       "value": " 1/1 [00:02&lt;00:00,  2.12s/ba]"
      }
     },
     "1ae09a75add14ac48b75d41d0b755832": {
      "model_module": "@jupyter-widgets/base",
      "model_module_version": "1.2.0",
      "model_name": "LayoutModel",
      "state": {}
     },
     "1b0023f3db9348b08a16f5c38c30c279": {
      "model_module": "@jupyter-widgets/controls",
      "model_module_version": "1.5.0",
      "model_name": "DescriptionStyleModel",
      "state": {
       "description_width": ""
      }
     },
     "1b019ac5ed604441b06fc7f9a519abf5": {
      "model_module": "@jupyter-widgets/controls",
      "model_module_version": "1.5.0",
      "model_name": "HTMLModel",
      "state": {
       "layout": "IPY_MODEL_49f0b280dc5e4fd7b0974d1c1e8b7aee",
       "style": "IPY_MODEL_3eb0d6ef1455432f9a58a576416c42ca",
       "value": " 29/133 [00:00&lt;00:01, 64.21ba/s]"
      }
     },
     "1b03cd46d8e842c683bf5de31563119c": {
      "model_module": "@jupyter-widgets/controls",
      "model_module_version": "1.5.0",
      "model_name": "HTMLModel",
      "state": {
       "layout": "IPY_MODEL_a490e318fdc6459db088ca4fada61a65",
       "style": "IPY_MODEL_cebb92d4bb0048738d61e16c613848a9",
       "value": " 100/100 [06:39&lt;00:00,  3.32s/it]"
      }
     },
     "1b1063dbec9848bdb63fac0e117e1724": {
      "model_module": "@jupyter-widgets/controls",
      "model_module_version": "1.5.0",
      "model_name": "HTMLModel",
      "state": {
       "layout": "IPY_MODEL_7d47ccf5d91d459ca1e107454063462b",
       "style": "IPY_MODEL_34173310848844d1ab3116a784e3d401",
       "value": " 1/1 [00:00&lt;00:00, 99.91it/s]"
      }
     },
     "1b2522cc0eab44a2b0d1a5dd31c29964": {
      "model_module": "@jupyter-widgets/base",
      "model_module_version": "1.2.0",
      "model_name": "LayoutModel",
      "state": {}
     },
     "1b54d4141e264ae5826c721aebc90740": {
      "model_module": "@jupyter-widgets/base",
      "model_module_version": "1.2.0",
      "model_name": "LayoutModel",
      "state": {}
     },
     "1b6eb8996dbb4d83960bc5b10eee10de": {
      "model_module": "@jupyter-widgets/controls",
      "model_module_version": "1.5.0",
      "model_name": "ProgressStyleModel",
      "state": {
       "description_width": ""
      }
     },
     "1b81f68a936e46018555f6b6337c5628": {
      "model_module": "@jupyter-widgets/controls",
      "model_module_version": "1.5.0",
      "model_name": "ProgressStyleModel",
      "state": {
       "description_width": ""
      }
     },
     "1b9a9e8394914c0a86f4d5307656ee82": {
      "model_module": "@jupyter-widgets/base",
      "model_module_version": "1.2.0",
      "model_name": "LayoutModel",
      "state": {}
     },
     "1ba9cd87ae7f4bc7b4b05d6707a6ea67": {
      "model_module": "@jupyter-widgets/controls",
      "model_module_version": "1.5.0",
      "model_name": "HBoxModel",
      "state": {
       "children": [
        "IPY_MODEL_c96f4ae31b0a40238bfad702c736b2f6",
        "IPY_MODEL_3d719787b95340b2b7de6f7497e529fc",
        "IPY_MODEL_2aa94ed58b7c4f858a0fbc413c78243e"
       ],
       "layout": "IPY_MODEL_18bc3e2dca9f47039e9155aa8457d2eb"
      }
     },
     "1bb4ac9c8d2d42558ef693442c094767": {
      "model_module": "@jupyter-widgets/base",
      "model_module_version": "1.2.0",
      "model_name": "LayoutModel",
      "state": {}
     },
     "1bc414d76924438f9fb12ad5454e16e5": {
      "model_module": "@jupyter-widgets/controls",
      "model_module_version": "1.5.0",
      "model_name": "FloatProgressModel",
      "state": {
       "bar_style": "success",
       "layout": "IPY_MODEL_e52a1be180904c2d914ca2f331c61873",
       "style": "IPY_MODEL_af965f9025f44ac6b784ed81a51af67e",
       "value": 100
      }
     },
     "1bdc453b616442c8aec511bce3039aa9": {
      "model_module": "@jupyter-widgets/controls",
      "model_module_version": "1.5.0",
      "model_name": "DescriptionStyleModel",
      "state": {
       "description_width": ""
      }
     },
     "1be0f0276f2d42479fc2d0ef8a567ab2": {
      "model_module": "@jupyter-widgets/controls",
      "model_module_version": "1.5.0",
      "model_name": "FloatProgressModel",
      "state": {
       "bar_style": "success",
       "layout": "IPY_MODEL_8b477f85839e4be489ed2952acb3a0f4",
       "max": 1,
       "style": "IPY_MODEL_0e45bbcc6c6648e3a0ac0d82076e6119",
       "value": 1
      }
     },
     "1be675e900e54c51b197a8dcc4e2f2ff": {
      "model_module": "@jupyter-widgets/controls",
      "model_module_version": "1.5.0",
      "model_name": "DescriptionStyleModel",
      "state": {
       "description_width": ""
      }
     },
     "1bf020f9efab4d9385da704de9a0a9dc": {
      "model_module": "@jupyter-widgets/controls",
      "model_module_version": "1.5.0",
      "model_name": "DescriptionStyleModel",
      "state": {
       "description_width": ""
      }
     },
     "1c00c86a27a44d7fab6e160e4e85c536": {
      "model_module": "@jupyter-widgets/controls",
      "model_module_version": "1.5.0",
      "model_name": "DescriptionStyleModel",
      "state": {
       "description_width": ""
      }
     },
     "1c06a8fcc46940728e9ee84e0d1be31c": {
      "model_module": "@jupyter-widgets/base",
      "model_module_version": "1.2.0",
      "model_name": "LayoutModel",
      "state": {}
     },
     "1c35ef3948ae40709dc343b87450e8c5": {
      "model_module": "@jupyter-widgets/base",
      "model_module_version": "1.2.0",
      "model_name": "LayoutModel",
      "state": {}
     },
     "1c3e8733516b4580a0161120bc93a849": {
      "model_module": "@jupyter-widgets/controls",
      "model_module_version": "1.5.0",
      "model_name": "DescriptionStyleModel",
      "state": {
       "description_width": ""
      }
     },
     "1c6014aeaefb47efbf6eec5f6b2ae826": {
      "model_module": "@jupyter-widgets/controls",
      "model_module_version": "1.5.0",
      "model_name": "ProgressStyleModel",
      "state": {
       "description_width": ""
      }
     },
     "1c6dba3179b0421e9a7851a1b4f44920": {
      "model_module": "@jupyter-widgets/controls",
      "model_module_version": "1.5.0",
      "model_name": "ProgressStyleModel",
      "state": {
       "description_width": ""
      }
     },
     "1c75d2355cba46afa4e1feb15317c977": {
      "model_module": "@jupyter-widgets/controls",
      "model_module_version": "1.5.0",
      "model_name": "ProgressStyleModel",
      "state": {
       "description_width": ""
      }
     },
     "1c76686cbb9940aa98606cfd11fd81f2": {
      "model_module": "@jupyter-widgets/controls",
      "model_module_version": "1.5.0",
      "model_name": "HTMLModel",
      "state": {
       "layout": "IPY_MODEL_5752334c4aab4b2daecd4b62aa312832",
       "style": "IPY_MODEL_8ce1194f3d2842f2a6afdaaa5caecb82",
       "value": "100%"
      }
     },
     "1ca66bd2a8dc4ddc9b68d5ab3119ff72": {
      "model_module": "@jupyter-widgets/base",
      "model_module_version": "1.2.0",
      "model_name": "LayoutModel",
      "state": {}
     },
     "1cbc34e8b2f44866a7a7510d07100653": {
      "model_module": "@jupyter-widgets/base",
      "model_module_version": "1.2.0",
      "model_name": "LayoutModel",
      "state": {}
     },
     "1cbdb6bd7f7942dbaef227e5d6f5aa7c": {
      "model_module": "@jupyter-widgets/controls",
      "model_module_version": "1.5.0",
      "model_name": "DescriptionStyleModel",
      "state": {
       "description_width": ""
      }
     },
     "1cca1473850a418bab67181475d1157d": {
      "model_module": "@jupyter-widgets/controls",
      "model_module_version": "1.5.0",
      "model_name": "DescriptionStyleModel",
      "state": {
       "description_width": ""
      }
     },
     "1ccc1caf941a456196f71243da8e7f69": {
      "model_module": "@jupyter-widgets/controls",
      "model_module_version": "1.5.0",
      "model_name": "ProgressStyleModel",
      "state": {
       "description_width": ""
      }
     },
     "1cff950f3f244393b522fe049109d8c1": {
      "model_module": "@jupyter-widgets/controls",
      "model_module_version": "1.5.0",
      "model_name": "ProgressStyleModel",
      "state": {
       "description_width": ""
      }
     },
     "1d00902d67e248309f1acd94a1bd7b16": {
      "model_module": "@jupyter-widgets/controls",
      "model_module_version": "1.5.0",
      "model_name": "ProgressStyleModel",
      "state": {
       "description_width": ""
      }
     },
     "1d1354a5ea4841769c120e8aebe47619": {
      "model_module": "@jupyter-widgets/base",
      "model_module_version": "1.2.0",
      "model_name": "LayoutModel",
      "state": {}
     },
     "1d18611da1fd450a82b90a7237f60637": {
      "model_module": "@jupyter-widgets/controls",
      "model_module_version": "1.5.0",
      "model_name": "HTMLModel",
      "state": {
       "layout": "IPY_MODEL_a80d99fa5cdb44858b53c5514b31074e",
       "style": "IPY_MODEL_c21b42027a6145b7af67e770997f6010",
       "value": "100%"
      }
     },
     "1d31513ad2844b768be7cd87f8b952c9": {
      "model_module": "@jupyter-widgets/controls",
      "model_module_version": "1.5.0",
      "model_name": "FloatProgressModel",
      "state": {
       "bar_style": "success",
       "layout": "IPY_MODEL_a693d1ff1709452b8670108f49428f2e",
       "style": "IPY_MODEL_8f2dcbd57fe14d388126fc00960aadb1",
       "value": 100
      }
     },
     "1d3534135f514205a5accec0a94fde16": {
      "model_module": "@jupyter-widgets/base",
      "model_module_version": "1.2.0",
      "model_name": "LayoutModel",
      "state": {}
     },
     "1d61540a2b3f4de4af2e251b0065de4b": {
      "model_module": "@jupyter-widgets/controls",
      "model_module_version": "1.5.0",
      "model_name": "HBoxModel",
      "state": {
       "children": [
        "IPY_MODEL_4bbb1a24568e44e2bdefae07281385b8",
        "IPY_MODEL_f5aeaf6370f4489180c63bbbee9f584d",
        "IPY_MODEL_00949c761ee64f3ab2196c61da7f9d72"
       ],
       "layout": "IPY_MODEL_17c4dcbad068437baa8a65732ea4d9d0"
      }
     },
     "1d7a29a20f6d4da18ede1563b0ea787e": {
      "model_module": "@jupyter-widgets/base",
      "model_module_version": "1.2.0",
      "model_name": "LayoutModel",
      "state": {}
     },
     "1df8903324fc4e59bcd4c762af3ab1a6": {
      "model_module": "@jupyter-widgets/controls",
      "model_module_version": "1.5.0",
      "model_name": "ProgressStyleModel",
      "state": {
       "description_width": ""
      }
     },
     "1e2850e78b184dbdadc16f4ec7ab24a4": {
      "model_module": "@jupyter-widgets/controls",
      "model_module_version": "1.5.0",
      "model_name": "ProgressStyleModel",
      "state": {
       "description_width": ""
      }
     },
     "1e734b53e02a44b4a292654693c0765f": {
      "model_module": "@jupyter-widgets/base",
      "model_module_version": "1.2.0",
      "model_name": "LayoutModel",
      "state": {}
     },
     "1e8cabba2fa546fa9b667a7f6294d68c": {
      "model_module": "@jupyter-widgets/base",
      "model_module_version": "1.2.0",
      "model_name": "LayoutModel",
      "state": {}
     },
     "1e929b1c9ef94fb0b6c7c7699ada6603": {
      "model_module": "@jupyter-widgets/base",
      "model_module_version": "1.2.0",
      "model_name": "LayoutModel",
      "state": {}
     },
     "1e964a3f4a734948ac9d4613cb2673b6": {
      "model_module": "@jupyter-widgets/controls",
      "model_module_version": "1.5.0",
      "model_name": "FloatProgressModel",
      "state": {
       "bar_style": "success",
       "layout": "IPY_MODEL_046b269240e5404cbd72bcef4037f087",
       "style": "IPY_MODEL_c82affaf6e4f452b971b9ccb38c93693",
       "value": 100
      }
     },
     "1e9ff27a49f948348ec48e422a87a628": {
      "model_module": "@jupyter-widgets/controls",
      "model_module_version": "1.5.0",
      "model_name": "HTMLModel",
      "state": {
       "layout": "IPY_MODEL_6afccfb0f7d34efa8a603944d11dfad0",
       "style": "IPY_MODEL_319bdfe1eb6e4ae78976ab8be1720352",
       "value": " 1/1 [00:00&lt;00:00, 99.91it/s]"
      }
     },
     "1ea96639a4fd4165af62b2fee2e94285": {
      "model_module": "@jupyter-widgets/controls",
      "model_module_version": "1.5.0",
      "model_name": "DescriptionStyleModel",
      "state": {
       "description_width": ""
      }
     },
     "1ebb02c5a5d04f8b854a68be43ad654b": {
      "model_module": "@jupyter-widgets/base",
      "model_module_version": "1.2.0",
      "model_name": "LayoutModel",
      "state": {}
     },
     "1ed0cabffcf644e9bf34c59ecd3d30ce": {
      "model_module": "@jupyter-widgets/base",
      "model_module_version": "1.2.0",
      "model_name": "LayoutModel",
      "state": {}
     },
     "1edf1302cdad4d3d9e97224d1e156b1a": {
      "model_module": "@jupyter-widgets/controls",
      "model_module_version": "1.5.0",
      "model_name": "HBoxModel",
      "state": {
       "children": [
        "IPY_MODEL_bf5fdb875de04b9e8c584ee08243043d",
        "IPY_MODEL_b3b4d0e32f834a1f816f4935cb482974",
        "IPY_MODEL_23a5c36c0f5044cbbe0386e881479569"
       ],
       "layout": "IPY_MODEL_6d23063dd25e43db9fdc80a2d2fb64de"
      }
     },
     "1ee261da2367483390b775244a03f436": {
      "model_module": "@jupyter-widgets/base",
      "model_module_version": "1.2.0",
      "model_name": "LayoutModel",
      "state": {}
     },
     "1f2728a91c254a47b7a59ffdf3f041ae": {
      "model_module": "@jupyter-widgets/base",
      "model_module_version": "1.2.0",
      "model_name": "LayoutModel",
      "state": {}
     },
     "1f3ec62ba3784c719680e1534291bc7b": {
      "model_module": "@jupyter-widgets/controls",
      "model_module_version": "1.5.0",
      "model_name": "DescriptionStyleModel",
      "state": {
       "description_width": ""
      }
     },
     "1f4b8e42df4043aca7eb5a6293d71d93": {
      "model_module": "@jupyter-widgets/controls",
      "model_module_version": "1.5.0",
      "model_name": "HTMLModel",
      "state": {
       "layout": "IPY_MODEL_4f7d94f3a9fc4ef28e36eafbfec3ae9c",
       "style": "IPY_MODEL_2b31598a658f4df4bcab64e6f45075f0",
       "value": " 1/1 [00:00&lt;00:00, 62.44it/s]"
      }
     },
     "1f5e5a6aa00047ce9b8910605e3ada8f": {
      "model_module": "@jupyter-widgets/controls",
      "model_module_version": "1.5.0",
      "model_name": "HTMLModel",
      "state": {
       "layout": "IPY_MODEL_2e729457f7ea446ab59abbbfe773577a",
       "style": "IPY_MODEL_86d718576a354db99f4fad57c24bbd92",
       "value": "100%"
      }
     },
     "1f996e9e6e2a49459926f20d99ed3eeb": {
      "model_module": "@jupyter-widgets/controls",
      "model_module_version": "1.5.0",
      "model_name": "ProgressStyleModel",
      "state": {
       "description_width": ""
      }
     },
     "1fa0de2354cc4fe78330f29d69e27508": {
      "model_module": "@jupyter-widgets/controls",
      "model_module_version": "1.5.0",
      "model_name": "DescriptionStyleModel",
      "state": {
       "description_width": ""
      }
     },
     "1fbb3581ff14485db617f6c0b6bf4fe0": {
      "model_module": "@jupyter-widgets/base",
      "model_module_version": "1.2.0",
      "model_name": "LayoutModel",
      "state": {}
     },
     "1fc147e52ab64931826ce85e0928c0de": {
      "model_module": "@jupyter-widgets/controls",
      "model_module_version": "1.5.0",
      "model_name": "HBoxModel",
      "state": {
       "children": [
        "IPY_MODEL_fd287497931f4382a268d9da21c09f06",
        "IPY_MODEL_f962359cd31842c39176c479ff16680d",
        "IPY_MODEL_980186f73fd04fb2a0527ac40ab962a6"
       ],
       "layout": "IPY_MODEL_a6e3f8f9c1994c21acc548d35c1f28b9"
      }
     },
     "1fd1793a6bef4bc686fb404d40fc6adc": {
      "model_module": "@jupyter-widgets/base",
      "model_module_version": "1.2.0",
      "model_name": "LayoutModel",
      "state": {}
     },
     "1fdb60ceda29465ea48dc3cb994e5420": {
      "model_module": "@jupyter-widgets/base",
      "model_module_version": "1.2.0",
      "model_name": "LayoutModel",
      "state": {}
     },
     "1fe0540cff4c437a87ab884a2c3d7918": {
      "model_module": "@jupyter-widgets/controls",
      "model_module_version": "1.5.0",
      "model_name": "HTMLModel",
      "state": {
       "layout": "IPY_MODEL_51f547f77fc54ee988d9e0cd06cc3349",
       "style": "IPY_MODEL_1b0023f3db9348b08a16f5c38c30c279",
       "value": "100%"
      }
     },
     "1fe92523cca64ea783d9b6e54116a40c": {
      "model_module": "@jupyter-widgets/controls",
      "model_module_version": "1.5.0",
      "model_name": "HBoxModel",
      "state": {
       "children": [
        "IPY_MODEL_8853b1075c124022a71ecf907cc30dd6",
        "IPY_MODEL_46835ad79a8348d5b334e2063f2ca964",
        "IPY_MODEL_18f119acafa245559f9a36faf1bff932"
       ],
       "layout": "IPY_MODEL_41ba90a79c9848bfaca0a60d40602dc0"
      }
     },
     "1fec797f27b1442bac46ab15283b2c4f": {
      "model_module": "@jupyter-widgets/controls",
      "model_module_version": "1.5.0",
      "model_name": "HTMLModel",
      "state": {
       "layout": "IPY_MODEL_8641ebcd310f4b958ccd83fb1f3fcfd4",
       "style": "IPY_MODEL_04ae244468274e7285fff3aa469f125d",
       "value": " 100/100 [11:20&lt;00:00,  5.31s/it]"
      }
     },
     "1ff1e64c02b6409388ba1c9a88956462": {
      "model_module": "@jupyter-widgets/controls",
      "model_module_version": "1.5.0",
      "model_name": "DescriptionStyleModel",
      "state": {
       "description_width": ""
      }
     },
     "2002a9a2cdfb4266928db37f243aaba0": {
      "model_module": "@jupyter-widgets/base",
      "model_module_version": "1.2.0",
      "model_name": "LayoutModel",
      "state": {}
     },
     "201cdb580c824d339db2261fee0c324f": {
      "model_module": "@jupyter-widgets/base",
      "model_module_version": "1.2.0",
      "model_name": "LayoutModel",
      "state": {}
     },
     "20225505f6aa4d999536a9c270410150": {
      "model_module": "@jupyter-widgets/base",
      "model_module_version": "1.2.0",
      "model_name": "LayoutModel",
      "state": {}
     },
     "20253fc1b5204bbcb477f8daf88a8198": {
      "model_module": "@jupyter-widgets/controls",
      "model_module_version": "1.5.0",
      "model_name": "DescriptionStyleModel",
      "state": {
       "description_width": ""
      }
     },
     "20586cd0fde14c6686a49a5ed8fa7ef7": {
      "model_module": "@jupyter-widgets/base",
      "model_module_version": "1.2.0",
      "model_name": "LayoutModel",
      "state": {}
     },
     "206dbfab70d14fdb83e587f4241f9b6a": {
      "model_module": "@jupyter-widgets/controls",
      "model_module_version": "1.5.0",
      "model_name": "HBoxModel",
      "state": {
       "children": [
        "IPY_MODEL_16fb8e854801450abbfd68e0dc49cc75",
        "IPY_MODEL_c487d81491a945e385cdc88cf634c977",
        "IPY_MODEL_e8ceeb80c472439daf3c6372d91fb781"
       ],
       "layout": "IPY_MODEL_88395669242a429fbb523a208b3b1bdd"
      }
     },
     "207ba1bda64e43828a9f6fe436b2a6e3": {
      "model_module": "@jupyter-widgets/controls",
      "model_module_version": "1.5.0",
      "model_name": "HBoxModel",
      "state": {
       "children": [
        "IPY_MODEL_f496aaf70fd047cfb0360eb3eca765fc",
        "IPY_MODEL_5f2a7caca3eb4748a1af0b0dc35a93cb",
        "IPY_MODEL_44f332b8a9fe4c7c8b9bf51204e00da4"
       ],
       "layout": "IPY_MODEL_a26e16ff1df446e98a293c26a90c3a01"
      }
     },
     "207d83da0cc64d72aac737cbf75140af": {
      "model_module": "@jupyter-widgets/base",
      "model_module_version": "1.2.0",
      "model_name": "LayoutModel",
      "state": {}
     },
     "207f6991680144bd8d13398eef942f38": {
      "model_module": "@jupyter-widgets/controls",
      "model_module_version": "1.5.0",
      "model_name": "ProgressStyleModel",
      "state": {
       "description_width": ""
      }
     },
     "208a2096bf8c4dfcad25e0b089621c1a": {
      "model_module": "@jupyter-widgets/controls",
      "model_module_version": "1.5.0",
      "model_name": "DescriptionStyleModel",
      "state": {
       "description_width": ""
      }
     },
     "209719122c7d429096b358d9e8abc95b": {
      "model_module": "@jupyter-widgets/base",
      "model_module_version": "1.2.0",
      "model_name": "LayoutModel",
      "state": {}
     },
     "20fd480d80314ad783a08ae6e7cb1b0c": {
      "model_module": "@jupyter-widgets/controls",
      "model_module_version": "1.5.0",
      "model_name": "HBoxModel",
      "state": {
       "children": [
        "IPY_MODEL_547b5b25303744c3be2c7809e3ee954a",
        "IPY_MODEL_b7ab349c4baa40979ae484cdecbb6805",
        "IPY_MODEL_1b03cd46d8e842c683bf5de31563119c"
       ],
       "layout": "IPY_MODEL_a4d51e7ae6c34f83acdea92c52e1c0fd"
      }
     },
     "2103c4bb1fab4033b5cb5c9121cd6c05": {
      "model_module": "@jupyter-widgets/controls",
      "model_module_version": "1.5.0",
      "model_name": "DescriptionStyleModel",
      "state": {
       "description_width": ""
      }
     },
     "2105d7f433184024b7501080671bc385": {
      "model_module": "@jupyter-widgets/controls",
      "model_module_version": "1.5.0",
      "model_name": "DescriptionStyleModel",
      "state": {
       "description_width": ""
      }
     },
     "210f21a3353a4ab6b7bc474394a13c7d": {
      "model_module": "@jupyter-widgets/controls",
      "model_module_version": "1.5.0",
      "model_name": "HTMLModel",
      "state": {
       "layout": "IPY_MODEL_84f499ecfe6e4166a1b55f22823a89fa",
       "style": "IPY_MODEL_6840ec476e3e41dc92f6e0a9fd592968",
       "value": "100%"
      }
     },
     "2115949d99244e02ad101bad43c2a90a": {
      "model_module": "@jupyter-widgets/controls",
      "model_module_version": "1.5.0",
      "model_name": "HTMLModel",
      "state": {
       "layout": "IPY_MODEL_31823806eefc46f4ba8300c2eca86ed7",
       "style": "IPY_MODEL_ded157ab96cc4ce4ad8f3527796196ef",
       "value": "100%"
      }
     },
     "212411ee639e4b88bceedf1a77940bcd": {
      "model_module": "@jupyter-widgets/controls",
      "model_module_version": "1.5.0",
      "model_name": "HTMLModel",
      "state": {
       "layout": "IPY_MODEL_a7513270083a46eea706ec85c9922d1b",
       "style": "IPY_MODEL_c7e733efae674736b53e2c27df5ac586",
       "value": "100%"
      }
     },
     "2192a2ddd8bf4eff8553d504ed4fae6e": {
      "model_module": "@jupyter-widgets/controls",
      "model_module_version": "1.5.0",
      "model_name": "HBoxModel",
      "state": {
       "children": [
        "IPY_MODEL_58bcb9f08f5c426db4d5e746ebf60b65",
        "IPY_MODEL_a0498bf3dbb4427e82717cc864f196f0",
        "IPY_MODEL_8997256cb84c4ebaba747de50a6777a7"
       ],
       "layout": "IPY_MODEL_52310d223b9c41c9b33524a759f60e64"
      }
     },
     "21b0142e3125465b9f4c65e5bdbec201": {
      "model_module": "@jupyter-widgets/controls",
      "model_module_version": "1.5.0",
      "model_name": "FloatProgressModel",
      "state": {
       "bar_style": "success",
       "layout": "IPY_MODEL_5651b8ddc3cc42639457e134438ac784",
       "max": 1,
       "style": "IPY_MODEL_7c1e89b06a724b3d862fd07792961639",
       "value": 1
      }
     },
     "21f13603779e43ce986218a8e7006cfa": {
      "model_module": "@jupyter-widgets/base",
      "model_module_version": "1.2.0",
      "model_name": "LayoutModel",
      "state": {}
     },
     "220387f356f4415d80555990b9b49bff": {
      "model_module": "@jupyter-widgets/base",
      "model_module_version": "1.2.0",
      "model_name": "LayoutModel",
      "state": {}
     },
     "220dd0980c7646df8a298045a8c9e348": {
      "model_module": "@jupyter-widgets/controls",
      "model_module_version": "1.5.0",
      "model_name": "HTMLModel",
      "state": {
       "layout": "IPY_MODEL_feb526a603284ee1be4780e96f7292b0",
       "style": "IPY_MODEL_484e26e2b33243fdaf044875dfa0c2c5",
       "value": "100%"
      }
     },
     "2212261238654ef1adfd66bb4bdd8d11": {
      "model_module": "@jupyter-widgets/controls",
      "model_module_version": "1.5.0",
      "model_name": "HBoxModel",
      "state": {
       "children": [
        "IPY_MODEL_1a8ec709cb4246f39e4642883ee19cac",
        "IPY_MODEL_b88b49abcf8747038edfc741ff57d2e9",
        "IPY_MODEL_fc56f35f0a794758be2f77c1cf38101b"
       ],
       "layout": "IPY_MODEL_0e30334e928e4d12a2635161671b2a13"
      }
     },
     "221332a42bdd4d35a7d1a3f28e05c23a": {
      "model_module": "@jupyter-widgets/controls",
      "model_module_version": "1.5.0",
      "model_name": "DescriptionStyleModel",
      "state": {
       "description_width": ""
      }
     },
     "222840e6d3ec4401879bb31d8c084480": {
      "model_module": "@jupyter-widgets/base",
      "model_module_version": "1.2.0",
      "model_name": "LayoutModel",
      "state": {}
     },
     "222c78bb6c29405cb87f2c278bc77b34": {
      "model_module": "@jupyter-widgets/base",
      "model_module_version": "1.2.0",
      "model_name": "LayoutModel",
      "state": {}
     },
     "223190e085844f1397eece34ea775369": {
      "model_module": "@jupyter-widgets/controls",
      "model_module_version": "1.5.0",
      "model_name": "HBoxModel",
      "state": {
       "children": [
        "IPY_MODEL_934b86fa304b47b6aa4887ebe4734177",
        "IPY_MODEL_1be0f0276f2d42479fc2d0ef8a567ab2",
        "IPY_MODEL_8eaf89173b4a462d8d76ab72dc473cf8"
       ],
       "layout": "IPY_MODEL_d4489791b2024b6a822f5e09781b0d1f"
      }
     },
     "223ac58f127d49ad922c63395a32c996": {
      "model_module": "@jupyter-widgets/controls",
      "model_module_version": "1.5.0",
      "model_name": "ProgressStyleModel",
      "state": {
       "description_width": ""
      }
     },
     "224b12134b2a47e38fe7f6981cf9e2b0": {
      "model_module": "@jupyter-widgets/controls",
      "model_module_version": "1.5.0",
      "model_name": "DescriptionStyleModel",
      "state": {
       "description_width": ""
      }
     },
     "225dc77c7a5341fd9411c5955e463a2e": {
      "model_module": "@jupyter-widgets/controls",
      "model_module_version": "1.5.0",
      "model_name": "HTMLModel",
      "state": {
       "layout": "IPY_MODEL_b2519fb2f3cb4b4c80a49365c0913770",
       "style": "IPY_MODEL_cf24d9349424442ab69af64d70f1d13a",
       "value": " 100/100 [10:18&lt;00:00,  6.19s/it]"
      }
     },
     "226d2e5ecfda4555945c8903ddf1a38f": {
      "model_module": "@jupyter-widgets/controls",
      "model_module_version": "1.5.0",
      "model_name": "FloatProgressModel",
      "state": {
       "bar_style": "success",
       "layout": "IPY_MODEL_3c4d88c1eaa74e70bec855a4338424e8",
       "style": "IPY_MODEL_9c86979e5b024b578ff590c7261e36cf",
       "value": 100
      }
     },
     "228cdba6e76c4e9f95089ba8f89a54d1": {
      "model_module": "@jupyter-widgets/controls",
      "model_module_version": "1.5.0",
      "model_name": "FloatProgressModel",
      "state": {
       "bar_style": "success",
       "layout": "IPY_MODEL_acf6e927d4244f51aaa8d7537971b44a",
       "max": 1,
       "style": "IPY_MODEL_36dfe0b7ae7a4a328077edae683f7e31",
       "value": 1
      }
     },
     "22cd28eaf92a42a09bf8304a09b8a8a3": {
      "model_module": "@jupyter-widgets/base",
      "model_module_version": "1.2.0",
      "model_name": "LayoutModel",
      "state": {}
     },
     "22d2e227b37b4145bd4dad46f25c9a82": {
      "model_module": "@jupyter-widgets/controls",
      "model_module_version": "1.5.0",
      "model_name": "HTMLModel",
      "state": {
       "layout": "IPY_MODEL_4226c90c427e4dbd8ac263dd717ba62b",
       "style": "IPY_MODEL_80ab3c4ce5f24eb6b01d6b0047effe72",
       "value": " 1/1 [00:00&lt;00:00, 90.82it/s]"
      }
     },
     "22d34f63aed74de09b8c83b2822e4d91": {
      "model_module": "@jupyter-widgets/controls",
      "model_module_version": "1.5.0",
      "model_name": "FloatProgressModel",
      "state": {
       "bar_style": "success",
       "layout": "IPY_MODEL_88aaa2f3587248d494b660c4fb67f3c5",
       "max": 1,
       "style": "IPY_MODEL_bdd1bf7bc59741ed9645b243adc00df1",
       "value": 1
      }
     },
     "22ddd48c756e45dc9c1ef23fcfc85985": {
      "model_module": "@jupyter-widgets/controls",
      "model_module_version": "1.5.0",
      "model_name": "HBoxModel",
      "state": {
       "children": [
        "IPY_MODEL_c24932e87e3a4fcea828dfcca90ae20c",
        "IPY_MODEL_f57f1b65d7cf4b2fa16d223b4442dd9d",
        "IPY_MODEL_b03df28f6504419289c7c384c9c223b9"
       ],
       "layout": "IPY_MODEL_dce9b5005b1a43eabd639f8d805d03d2"
      }
     },
     "23172f5cfb4348b094870c0766154083": {
      "model_module": "@jupyter-widgets/controls",
      "model_module_version": "1.5.0",
      "model_name": "DescriptionStyleModel",
      "state": {
       "description_width": ""
      }
     },
     "23344d0b33dc4df1b315b9f0cb31e307": {
      "model_module": "@jupyter-widgets/controls",
      "model_module_version": "1.5.0",
      "model_name": "HBoxModel",
      "state": {
       "children": [
        "IPY_MODEL_58bcc7075046437f83f9d7873e98c001",
        "IPY_MODEL_49753702d8bb4730b6637cb4cd5d4bf4",
        "IPY_MODEL_59b27694021e4f27859621f88e4d6dc6"
       ],
       "layout": "IPY_MODEL_a2478e62a584495b9649eee40062df02"
      }
     },
     "233be7d52dde407aa806cb2e6ae3664e": {
      "model_module": "@jupyter-widgets/base",
      "model_module_version": "1.2.0",
      "model_name": "LayoutModel",
      "state": {}
     },
     "234d754aceb24fc687b6074d62274be0": {
      "model_module": "@jupyter-widgets/controls",
      "model_module_version": "1.5.0",
      "model_name": "DescriptionStyleModel",
      "state": {
       "description_width": ""
      }
     },
     "2358d510e58349b0afecddbe2cc881a0": {
      "model_module": "@jupyter-widgets/controls",
      "model_module_version": "1.5.0",
      "model_name": "DescriptionStyleModel",
      "state": {
       "description_width": ""
      }
     },
     "237abb84253147dba1afdea191917096": {
      "model_module": "@jupyter-widgets/controls",
      "model_module_version": "1.5.0",
      "model_name": "HBoxModel",
      "state": {
       "children": [
        "IPY_MODEL_6d8a1a1e219d4c2694a64b88e087899c",
        "IPY_MODEL_ca4fbaece73f480d9ead7a96aeb19176",
        "IPY_MODEL_e0894e6be5624129b412f6965d7ffd1d"
       ],
       "layout": "IPY_MODEL_c7ffa2a0ac52407d8c2163b0aeb0f32d"
      }
     },
     "2399ae5a98eb4bd5aa652ee9f302ec46": {
      "model_module": "@jupyter-widgets/base",
      "model_module_version": "1.2.0",
      "model_name": "LayoutModel",
      "state": {}
     },
     "23a5c36c0f5044cbbe0386e881479569": {
      "model_module": "@jupyter-widgets/controls",
      "model_module_version": "1.5.0",
      "model_name": "HTMLModel",
      "state": {
       "layout": "IPY_MODEL_efd9576f020f4e70bbe33537651f6819",
       "style": "IPY_MODEL_afd7264e288f4389904f85222dbdb841",
       "value": " 0/827 [28:21&lt;?, ?ba/s]"
      }
     },
     "23b4c2f946b34f8c9c2ca0cd98ee80f2": {
      "model_module": "@jupyter-widgets/base",
      "model_module_version": "1.2.0",
      "model_name": "LayoutModel",
      "state": {}
     },
     "23cd048dc208472d9f193252e529466d": {
      "model_module": "@jupyter-widgets/controls",
      "model_module_version": "1.5.0",
      "model_name": "HTMLModel",
      "state": {
       "layout": "IPY_MODEL_0bedf5aa7f4d4c97baf30930bb8f338e",
       "style": "IPY_MODEL_c07d48c52392433a86f9939e11009f78",
       "value": "100%"
      }
     },
     "23dc1b7fe7844622b264e35af4379d35": {
      "model_module": "@jupyter-widgets/base",
      "model_module_version": "1.2.0",
      "model_name": "LayoutModel",
      "state": {}
     },
     "241c0f6d8c2d4431a0b7f9994c04866a": {
      "model_module": "@jupyter-widgets/base",
      "model_module_version": "1.2.0",
      "model_name": "LayoutModel",
      "state": {}
     },
     "241da5d4dcb04be9af8d54873c0ef333": {
      "model_module": "@jupyter-widgets/controls",
      "model_module_version": "1.5.0",
      "model_name": "HBoxModel",
      "state": {
       "children": [
        "IPY_MODEL_e59467ee7f8147148ac3927b7889df31",
        "IPY_MODEL_9307827faa5c4caebd3d8708a3f162a3",
        "IPY_MODEL_40e6e68fdc3a4becb1ccaa2a1fa91b9f"
       ],
       "layout": "IPY_MODEL_10f5017c63434cb68abc13c9a284b592"
      }
     },
     "242954aac6f541dfaf1facb7cc32486a": {
      "model_module": "@jupyter-widgets/controls",
      "model_module_version": "1.5.0",
      "model_name": "HTMLModel",
      "state": {
       "layout": "IPY_MODEL_1fd1793a6bef4bc686fb404d40fc6adc",
       "style": "IPY_MODEL_70f2b16e9fd04b4483917a38afc04db6",
       "value": "100%"
      }
     },
     "2478f79764ab454f9bde6c9b97f098f1": {
      "model_module": "@jupyter-widgets/base",
      "model_module_version": "1.2.0",
      "model_name": "LayoutModel",
      "state": {}
     },
     "247e967ccef548429c4f5c884638548b": {
      "model_module": "@jupyter-widgets/controls",
      "model_module_version": "1.5.0",
      "model_name": "HTMLModel",
      "state": {
       "layout": "IPY_MODEL_5ce2f9071f2249298a1364a453e0870d",
       "style": "IPY_MODEL_323b8f1ca3e64e64bd509958594e9052",
       "value": "100%"
      }
     },
     "24cebb80fcdd4ee4b1058cbf9227e22b": {
      "model_module": "@jupyter-widgets/base",
      "model_module_version": "1.2.0",
      "model_name": "LayoutModel",
      "state": {}
     },
     "24d6995ea27e40e19685ac7c556537aa": {
      "model_module": "@jupyter-widgets/controls",
      "model_module_version": "1.5.0",
      "model_name": "DescriptionStyleModel",
      "state": {
       "description_width": ""
      }
     },
     "24f707a5e9f141cca63de1792a1c0096": {
      "model_module": "@jupyter-widgets/controls",
      "model_module_version": "1.5.0",
      "model_name": "DescriptionStyleModel",
      "state": {
       "description_width": ""
      }
     },
     "252427574c94454598cd6c5958296b07": {
      "model_module": "@jupyter-widgets/controls",
      "model_module_version": "1.5.0",
      "model_name": "HTMLModel",
      "state": {
       "layout": "IPY_MODEL_2ed453bc3f4a49d8b1a64ed3a733e215",
       "style": "IPY_MODEL_f2dd74faaa3d456189f7cee63fab6b21",
       "value": "Downloading: 100%"
      }
     },
     "2581492e6f1b449dbe780bc2ef5a1da5": {
      "model_module": "@jupyter-widgets/controls",
      "model_module_version": "1.5.0",
      "model_name": "HBoxModel",
      "state": {
       "children": [
        "IPY_MODEL_7d0739f186f3460888603f9903f08e2b",
        "IPY_MODEL_bed4b9b37b10436f8a42ffe111e0a89b",
        "IPY_MODEL_5992187157294216bc11d4cee2843f8a"
       ],
       "layout": "IPY_MODEL_87ff7f2bf8a4402d825f08a5ad54d920"
      }
     },
     "258bdf19a41a4f1eb95f79a2c6430ad3": {
      "model_module": "@jupyter-widgets/base",
      "model_module_version": "1.2.0",
      "model_name": "LayoutModel",
      "state": {}
     },
     "258c5af06db1472daf32b3ec9d3e56fd": {
      "model_module": "@jupyter-widgets/base",
      "model_module_version": "1.2.0",
      "model_name": "LayoutModel",
      "state": {}
     },
     "25a059f4e1ac4d49af29580f96041bb9": {
      "model_module": "@jupyter-widgets/controls",
      "model_module_version": "1.5.0",
      "model_name": "FloatProgressModel",
      "state": {
       "bar_style": "success",
       "layout": "IPY_MODEL_6a36be53022d41c6975c622a0fc53709",
       "max": 1,
       "style": "IPY_MODEL_386e0dd85450474b87338ec726464265",
       "value": 1
      }
     },
     "25ab53205e864c21bf2e5590dad7eb10": {
      "model_module": "@jupyter-widgets/controls",
      "model_module_version": "1.5.0",
      "model_name": "FloatProgressModel",
      "state": {
       "bar_style": "success",
       "layout": "IPY_MODEL_ce0160feeb024032b577021e8e0b0c09",
       "style": "IPY_MODEL_1c75d2355cba46afa4e1feb15317c977",
       "value": 100
      }
     },
     "25ba2a7050c34198b28b19179c7577de": {
      "model_module": "@jupyter-widgets/controls",
      "model_module_version": "1.5.0",
      "model_name": "FloatProgressModel",
      "state": {
       "bar_style": "success",
       "layout": "IPY_MODEL_030161a9e3d5424ab1aced2ee6dc8bfc",
       "style": "IPY_MODEL_4a399b3a7c504607946d0538960f52a9",
       "value": 100
      }
     },
     "25c140c67b5f47989a26b34a40347ccf": {
      "model_module": "@jupyter-widgets/controls",
      "model_module_version": "1.5.0",
      "model_name": "FloatProgressModel",
      "state": {
       "bar_style": "success",
       "layout": "IPY_MODEL_877d0a11dd124cb6be8f56d45e61e5a2",
       "max": 1,
       "style": "IPY_MODEL_66ff17fbfd224ee080aba80bfc9e817f",
       "value": 1
      }
     },
     "25d56f8c696640f9ab63a1d25845966c": {
      "model_module": "@jupyter-widgets/controls",
      "model_module_version": "1.5.0",
      "model_name": "ProgressStyleModel",
      "state": {
       "description_width": ""
      }
     },
     "2604864e5e164536a6126149bb12215b": {
      "model_module": "@jupyter-widgets/controls",
      "model_module_version": "1.5.0",
      "model_name": "ProgressStyleModel",
      "state": {
       "description_width": ""
      }
     },
     "2611df30f9d24d108aadf99d6d18c846": {
      "model_module": "@jupyter-widgets/base",
      "model_module_version": "1.2.0",
      "model_name": "LayoutModel",
      "state": {}
     },
     "2619ebb4ef204afe914ca44fe3a470f4": {
      "model_module": "@jupyter-widgets/base",
      "model_module_version": "1.2.0",
      "model_name": "LayoutModel",
      "state": {}
     },
     "261dc934427045708302e717c9c963e2": {
      "model_module": "@jupyter-widgets/controls",
      "model_module_version": "1.5.0",
      "model_name": "FloatProgressModel",
      "state": {
       "bar_style": "success",
       "layout": "IPY_MODEL_4a8c775b9762401889904a78659f9d1a",
       "max": 1,
       "style": "IPY_MODEL_7656a25cf91542638cbed550fb802ed5",
       "value": 1
      }
     },
     "261ff63dc6744f079fd5c6ef925cc72d": {
      "model_module": "@jupyter-widgets/base",
      "model_module_version": "1.2.0",
      "model_name": "LayoutModel",
      "state": {}
     },
     "263348ad3fba43d793e7f4726ea6a458": {
      "model_module": "@jupyter-widgets/controls",
      "model_module_version": "1.5.0",
      "model_name": "HTMLModel",
      "state": {
       "layout": "IPY_MODEL_4eb0242efc304b1cb7bff14c8de6dacc",
       "style": "IPY_MODEL_609ca9a0736243f78d91712387aa0fc7",
       "value": "100%"
      }
     },
     "263a13b6a9f84adfb72837ebb3ef296c": {
      "model_module": "@jupyter-widgets/controls",
      "model_module_version": "1.5.0",
      "model_name": "HTMLModel",
      "state": {
       "layout": "IPY_MODEL_9ca486969ab143d6890cec65c3bfb6ec",
       "style": "IPY_MODEL_7ae0cce6b4784a5582ae48e3ac557976",
       "value": "100%"
      }
     },
     "2647739288454e95bf0e45f850ad25d2": {
      "model_module": "@jupyter-widgets/controls",
      "model_module_version": "1.5.0",
      "model_name": "ProgressStyleModel",
      "state": {
       "description_width": ""
      }
     },
     "264a362cc2784fa09a24968290615f32": {
      "model_module": "@jupyter-widgets/base",
      "model_module_version": "1.2.0",
      "model_name": "LayoutModel",
      "state": {}
     },
     "265d6766ff60485b99ef1685f27cc8cf": {
      "model_module": "@jupyter-widgets/controls",
      "model_module_version": "1.5.0",
      "model_name": "HBoxModel",
      "state": {
       "children": [
        "IPY_MODEL_c849b6356d6f45b6bb963cb556c4a69a",
        "IPY_MODEL_a136cb60613844e489818564d89e2e2a",
        "IPY_MODEL_94dac07760df482b8fb5bfcff5ec94cf"
       ],
       "layout": "IPY_MODEL_e8f144677d5f46b886c081ebaa96d4ab"
      }
     },
     "266a7a226f424fc89f8b93d8189d986f": {
      "model_module": "@jupyter-widgets/controls",
      "model_module_version": "1.5.0",
      "model_name": "HBoxModel",
      "state": {
       "children": [
        "IPY_MODEL_ac03b8ed72b14eb480c0d22e7c1ee095",
        "IPY_MODEL_fae4a5640cc8440ca6527a3be02d0c32",
        "IPY_MODEL_36e6a5a3988e4f248616a658584da4cd"
       ],
       "layout": "IPY_MODEL_616bc2caafe24f29a4c21dbc4fe5b5bc"
      }
     },
     "2674b6d3d511480e9cc7f4a96eae9674": {
      "model_module": "@jupyter-widgets/controls",
      "model_module_version": "1.5.0",
      "model_name": "HTMLModel",
      "state": {
       "layout": "IPY_MODEL_82b9dd4f47e749c9a6ffe8b14ef7b230",
       "style": "IPY_MODEL_dca40cd476ff4a6f81c23a995deb6e9e",
       "value": " 1/1 [00:06&lt;00:00,  6.49s/ba]"
      }
     },
     "267b5de20559420398b49c40024ce97c": {
      "model_module": "@jupyter-widgets/controls",
      "model_module_version": "1.5.0",
      "model_name": "DescriptionStyleModel",
      "state": {
       "description_width": ""
      }
     },
     "267ca60af8224746a590f5d20dc22caa": {
      "model_module": "@jupyter-widgets/controls",
      "model_module_version": "1.5.0",
      "model_name": "DescriptionStyleModel",
      "state": {
       "description_width": ""
      }
     },
     "2697d6dabc704a77a2dcafc4412218e6": {
      "model_module": "@jupyter-widgets/controls",
      "model_module_version": "1.5.0",
      "model_name": "ProgressStyleModel",
      "state": {
       "description_width": ""
      }
     },
     "26a691b10a0b4c8381fff99fa6b2be5b": {
      "model_module": "@jupyter-widgets/controls",
      "model_module_version": "1.5.0",
      "model_name": "FloatProgressModel",
      "state": {
       "bar_style": "success",
       "layout": "IPY_MODEL_166eb915582f42bebaed94a4ab47fd6f",
       "style": "IPY_MODEL_4fac3f3703c04b2989551a89fd78fae1",
       "value": 100
      }
     },
     "26b86f00649442a2ba075b8540eb2f1c": {
      "model_module": "@jupyter-widgets/controls",
      "model_module_version": "1.5.0",
      "model_name": "HTMLModel",
      "state": {
       "layout": "IPY_MODEL_17d8c818c5064c5aa56c28ffd2265da0",
       "style": "IPY_MODEL_b1074854c7284c5fb40efc0fd720b3a1",
       "value": " 100/100 [17:57&lt;00:00, 13.36s/it]"
      }
     },
     "26d4958c72f34e3fb84bf63a5123c5dd": {
      "model_module": "@jupyter-widgets/controls",
      "model_module_version": "1.5.0",
      "model_name": "HBoxModel",
      "state": {
       "children": [
        "IPY_MODEL_49e45b77ddec4bcf9fc374370e697050",
        "IPY_MODEL_4e9596e8f60041d3bd817da01e6d78d6",
        "IPY_MODEL_bdb56802ef3844e4bb79f8fc9979f109"
       ],
       "layout": "IPY_MODEL_7d62edf059a64f7a9ec46a582f1a6560"
      }
     },
     "26d7b147acd74ee38d5e387fd46669c1": {
      "model_module": "@jupyter-widgets/controls",
      "model_module_version": "1.5.0",
      "model_name": "DescriptionStyleModel",
      "state": {
       "description_width": ""
      }
     },
     "26d9e49cdf564af5b59460cab50e6c43": {
      "model_module": "@jupyter-widgets/controls",
      "model_module_version": "1.5.0",
      "model_name": "ProgressStyleModel",
      "state": {
       "description_width": ""
      }
     },
     "26ea9cf39469468e95e03188b07ec8f2": {
      "model_module": "@jupyter-widgets/base",
      "model_module_version": "1.2.0",
      "model_name": "LayoutModel",
      "state": {}
     },
     "27175f8c5bb04c02b731ea07363a8c7b": {
      "model_module": "@jupyter-widgets/controls",
      "model_module_version": "1.5.0",
      "model_name": "DescriptionStyleModel",
      "state": {
       "description_width": ""
      }
     },
     "2755e9eb748b429a9a8e5ea06572d795": {
      "model_module": "@jupyter-widgets/base",
      "model_module_version": "1.2.0",
      "model_name": "LayoutModel",
      "state": {}
     },
     "276cfdcd401943d29991f0bdb34b4386": {
      "model_module": "@jupyter-widgets/base",
      "model_module_version": "1.2.0",
      "model_name": "LayoutModel",
      "state": {}
     },
     "277b8e493c7a44a5a83bbe960623c8e9": {
      "model_module": "@jupyter-widgets/controls",
      "model_module_version": "1.5.0",
      "model_name": "DescriptionStyleModel",
      "state": {
       "description_width": ""
      }
     },
     "2784f3583ad24b6b9860a9ea35c45419": {
      "model_module": "@jupyter-widgets/controls",
      "model_module_version": "1.5.0",
      "model_name": "ProgressStyleModel",
      "state": {
       "description_width": ""
      }
     },
     "278c3bd70a194df48e39b4cd6496c079": {
      "model_module": "@jupyter-widgets/base",
      "model_module_version": "1.2.0",
      "model_name": "LayoutModel",
      "state": {}
     },
     "2790e85c3fff4e9cbf74b96ee4d87b2a": {
      "model_module": "@jupyter-widgets/controls",
      "model_module_version": "1.5.0",
      "model_name": "HTMLModel",
      "state": {
       "layout": "IPY_MODEL_789d070c3d2844bca056bd649c8c5c9a",
       "style": "IPY_MODEL_4f725a3cc46c4925a3e18f8bf8e8c0aa",
       "value": " 100/100 [06:25&lt;00:00,  2.71s/it]"
      }
     },
     "27bd42041fff4ad6976ca346d8c25711": {
      "model_module": "@jupyter-widgets/base",
      "model_module_version": "1.2.0",
      "model_name": "LayoutModel",
      "state": {}
     },
     "27c0d842b3664afeb2cf9972df8f0f8c": {
      "model_module": "@jupyter-widgets/controls",
      "model_module_version": "1.5.0",
      "model_name": "HBoxModel",
      "state": {
       "children": [
        "IPY_MODEL_c73c6529071c4750b8a0b1445c900336",
        "IPY_MODEL_8d3f2c61580346d4b93b9d0e0c35ef54",
        "IPY_MODEL_af39e96dcfb94d789d9855e5d5ff6021"
       ],
       "layout": "IPY_MODEL_d86d38865b5943a8af5946ce7e5a8220"
      }
     },
     "27d92e05080f438e8f27d127c3e71ae9": {
      "model_module": "@jupyter-widgets/base",
      "model_module_version": "1.2.0",
      "model_name": "LayoutModel",
      "state": {}
     },
     "27dfe2b0c69042a5ab54b078542b1c9c": {
      "model_module": "@jupyter-widgets/controls",
      "model_module_version": "1.5.0",
      "model_name": "DescriptionStyleModel",
      "state": {
       "description_width": ""
      }
     },
     "27ee428201664944aca38d2b35b2bcbd": {
      "model_module": "@jupyter-widgets/controls",
      "model_module_version": "1.5.0",
      "model_name": "HTMLModel",
      "state": {
       "layout": "IPY_MODEL_dab11fccf0754513af65300d68ea49cf",
       "style": "IPY_MODEL_714634c127734d8997fdedb18a2b0710",
       "value": "100%"
      }
     },
     "27f097310b614a7882afff658d79de66": {
      "model_module": "@jupyter-widgets/base",
      "model_module_version": "1.2.0",
      "model_name": "LayoutModel",
      "state": {}
     },
     "27faae7403be405495905aedb1a05eef": {
      "model_module": "@jupyter-widgets/base",
      "model_module_version": "1.2.0",
      "model_name": "LayoutModel",
      "state": {}
     },
     "281a474b7bbf422b92654832148c87cb": {
      "model_module": "@jupyter-widgets/base",
      "model_module_version": "1.2.0",
      "model_name": "LayoutModel",
      "state": {}
     },
     "282fe4b4eb8d4aa895f838afb1cc7699": {
      "model_module": "@jupyter-widgets/controls",
      "model_module_version": "1.5.0",
      "model_name": "HTMLModel",
      "state": {
       "layout": "IPY_MODEL_6fd9da53223e4cbc87dc44df5ad5e86d",
       "style": "IPY_MODEL_d44a197d8366499d85f00ad612dacec1",
       "value": " 1/1 [00:02&lt;00:00,  2.08s/ba]"
      }
     },
     "283a5020a6e24468b3e248d94a9df5c6": {
      "model_module": "@jupyter-widgets/controls",
      "model_module_version": "1.5.0",
      "model_name": "DescriptionStyleModel",
      "state": {
       "description_width": ""
      }
     },
     "2843fef0c3764b799df1c0c6f7fd9bdf": {
      "model_module": "@jupyter-widgets/controls",
      "model_module_version": "1.5.0",
      "model_name": "DescriptionStyleModel",
      "state": {
       "description_width": ""
      }
     },
     "2851e55dbaad49818c4a6c2edbb00311": {
      "model_module": "@jupyter-widgets/controls",
      "model_module_version": "1.5.0",
      "model_name": "FloatProgressModel",
      "state": {
       "bar_style": "danger",
       "layout": "IPY_MODEL_a7261a8905cc420399eadc7b3828950a",
       "max": 13243,
       "style": "IPY_MODEL_95129744fc9d4785a3f6e23a4dbad268",
       "value": 2940
      }
     },
     "28989574cb4149feacf376acae944cf2": {
      "model_module": "@jupyter-widgets/controls",
      "model_module_version": "1.5.0",
      "model_name": "FloatProgressModel",
      "state": {
       "bar_style": "success",
       "layout": "IPY_MODEL_773367324a8c4b838b2a90c69eb0ac82",
       "style": "IPY_MODEL_e896be7ee4ec4b858ddc39810c179d9b",
       "value": 100
      }
     },
     "28b3b0b3b23746a08d74ae55a54655f5": {
      "model_module": "@jupyter-widgets/base",
      "model_module_version": "1.2.0",
      "model_name": "LayoutModel",
      "state": {}
     },
     "28ba2e40d43244eeb70b60f32c342e9a": {
      "model_module": "@jupyter-widgets/base",
      "model_module_version": "1.2.0",
      "model_name": "LayoutModel",
      "state": {}
     },
     "28dbe5ef516044a8aac413e094350180": {
      "model_module": "@jupyter-widgets/base",
      "model_module_version": "1.2.0",
      "model_name": "LayoutModel",
      "state": {}
     },
     "28dfd14ec8a147a2b9d259f07e8e4886": {
      "model_module": "@jupyter-widgets/base",
      "model_module_version": "1.2.0",
      "model_name": "LayoutModel",
      "state": {}
     },
     "28f14416310a4ad69149100e60283be8": {
      "model_module": "@jupyter-widgets/base",
      "model_module_version": "1.2.0",
      "model_name": "LayoutModel",
      "state": {}
     },
     "28f5f2606a8b483aa6e4c06dcd11e974": {
      "model_module": "@jupyter-widgets/base",
      "model_module_version": "1.2.0",
      "model_name": "LayoutModel",
      "state": {}
     },
     "291d319a29a946d1a6cdad393398f92e": {
      "model_module": "@jupyter-widgets/base",
      "model_module_version": "1.2.0",
      "model_name": "LayoutModel",
      "state": {}
     },
     "293a9fb2ddc74626892683ccf13fb73d": {
      "model_module": "@jupyter-widgets/base",
      "model_module_version": "1.2.0",
      "model_name": "LayoutModel",
      "state": {}
     },
     "294ff125ee5b4d0b8c324653ea8db252": {
      "model_module": "@jupyter-widgets/controls",
      "model_module_version": "1.5.0",
      "model_name": "HTMLModel",
      "state": {
       "layout": "IPY_MODEL_27bd42041fff4ad6976ca346d8c25711",
       "style": "IPY_MODEL_c69a2364149e4de6846df2aa947548f0",
       "value": " 133/133 [00:49&lt;00:00,  3.03ba/s]"
      }
     },
     "2958b4c2eed140c1b0cf283a4243b2f9": {
      "model_module": "@jupyter-widgets/controls",
      "model_module_version": "1.5.0",
      "model_name": "DescriptionStyleModel",
      "state": {
       "description_width": ""
      }
     },
     "29780d5bec6c4e68ba615ee50fd194a4": {
      "model_module": "@jupyter-widgets/controls",
      "model_module_version": "1.5.0",
      "model_name": "HTMLModel",
      "state": {
       "layout": "IPY_MODEL_ca69adc159da498dbf6f7e3925ad8875",
       "style": "IPY_MODEL_b30b509f034e453f8ee9f46dff79f25d",
       "value": "100%"
      }
     },
     "297ae5f7021846ad948214d1bf80d7d3": {
      "model_module": "@jupyter-widgets/controls",
      "model_module_version": "1.5.0",
      "model_name": "DescriptionStyleModel",
      "state": {
       "description_width": ""
      }
     },
     "29921f36fd994540bfc49d3bd9cadc00": {
      "model_module": "@jupyter-widgets/controls",
      "model_module_version": "1.5.0",
      "model_name": "HTMLModel",
      "state": {
       "layout": "IPY_MODEL_854cce9be2d04f36827e8a9f6f7edf91",
       "style": "IPY_MODEL_d5046fe63bc544bc83da5b2a513827cf",
       "value": " 29/133 [00:00&lt;00:01, 64.77ba/s]"
      }
     },
     "299557bcb1ff4850b78fac5b9effef15": {
      "model_module": "@jupyter-widgets/controls",
      "model_module_version": "1.5.0",
      "model_name": "HTMLModel",
      "state": {
       "layout": "IPY_MODEL_d7db9e873e1f43e1b8bd0916c8eea7a8",
       "style": "IPY_MODEL_983835c84e584e0fbd17bfaa8e10dbab",
       "value": "100%"
      }
     },
     "29c5efa0ae9d45d7aafe1383409a982c": {
      "model_module": "@jupyter-widgets/controls",
      "model_module_version": "1.5.0",
      "model_name": "HTMLModel",
      "state": {
       "layout": "IPY_MODEL_b70208343c81427cae17255d6ea93108",
       "style": "IPY_MODEL_3477a99b5794422d9b2333f621a3658a",
       "value": " 1/1 [00:00&lt;00:00, 90.82it/s]"
      }
     },
     "29cb122f4a1c4f96add80d09d80cdc10": {
      "model_module": "@jupyter-widgets/controls",
      "model_module_version": "1.5.0",
      "model_name": "HBoxModel",
      "state": {
       "children": [
        "IPY_MODEL_64f4a98fa3e9415e96b6cbdea081dc2f",
        "IPY_MODEL_bc2d6d7b2ee54e5fb819c520af7f4ffa",
        "IPY_MODEL_b8ab2ed1c2a24079a53ac9285002ecc0"
       ],
       "layout": "IPY_MODEL_00f81f7fc72b4720bb518223a02ad020"
      }
     },
     "29dabcea237845649ab10456bed51fbb": {
      "model_module": "@jupyter-widgets/base",
      "model_module_version": "1.2.0",
      "model_name": "LayoutModel",
      "state": {}
     },
     "29de3b2a251949339c859dc0729c0eb7": {
      "model_module": "@jupyter-widgets/controls",
      "model_module_version": "1.5.0",
      "model_name": "DescriptionStyleModel",
      "state": {
       "description_width": ""
      }
     },
     "29e46cc46126408380758dd04cfba794": {
      "model_module": "@jupyter-widgets/controls",
      "model_module_version": "1.5.0",
      "model_name": "FloatProgressModel",
      "state": {
       "bar_style": "danger",
       "layout": "IPY_MODEL_74e1dbb2e69443459813689ca3941875",
       "style": "IPY_MODEL_f099fbf57a1a4154b346cdb4a314ad45"
      }
     },
     "29f463471e3f4b5a862cc3989439ca9e": {
      "model_module": "@jupyter-widgets/controls",
      "model_module_version": "1.5.0",
      "model_name": "FloatProgressModel",
      "state": {
       "bar_style": "success",
       "layout": "IPY_MODEL_7268cfada17c40dca50870f572405509",
       "max": 1,
       "style": "IPY_MODEL_59ce0a9589924292920a30a362e3bee4",
       "value": 1
      }
     },
     "29ff132fc15d4bf8ab4411eea695b694": {
      "model_module": "@jupyter-widgets/controls",
      "model_module_version": "1.5.0",
      "model_name": "HTMLModel",
      "state": {
       "layout": "IPY_MODEL_d9b491ec70044565b131853326fa1c00",
       "style": "IPY_MODEL_8a94871613d940c1b4dc0e6759f71ea3",
       "value": " 1/1 [00:02&lt;00:00,  2.24s/ba]"
      }
     },
     "2a0b570f59a74436a09f9c34ad2fd4ca": {
      "model_module": "@jupyter-widgets/base",
      "model_module_version": "1.2.0",
      "model_name": "LayoutModel",
      "state": {}
     },
     "2a1b01dac3934802a6126c5c3c09bb13": {
      "model_module": "@jupyter-widgets/controls",
      "model_module_version": "1.5.0",
      "model_name": "DescriptionStyleModel",
      "state": {
       "description_width": ""
      }
     },
     "2a4bac4b180e4d7b9c2d44439507083f": {
      "model_module": "@jupyter-widgets/controls",
      "model_module_version": "1.5.0",
      "model_name": "DescriptionStyleModel",
      "state": {
       "description_width": ""
      }
     },
     "2a579c6efa3746ba989d64c4b5a9536d": {
      "model_module": "@jupyter-widgets/controls",
      "model_module_version": "1.5.0",
      "model_name": "DescriptionStyleModel",
      "state": {
       "description_width": ""
      }
     },
     "2a6693dac0d348aa9b0e334857894f86": {
      "model_module": "@jupyter-widgets/base",
      "model_module_version": "1.2.0",
      "model_name": "LayoutModel",
      "state": {}
     },
     "2a6f6b066f9f4947ad0ce1579ef997a8": {
      "model_module": "@jupyter-widgets/controls",
      "model_module_version": "1.5.0",
      "model_name": "DescriptionStyleModel",
      "state": {
       "description_width": ""
      }
     },
     "2a8c1de34808435a8f95536c6f4a1a71": {
      "model_module": "@jupyter-widgets/controls",
      "model_module_version": "1.5.0",
      "model_name": "HTMLModel",
      "state": {
       "layout": "IPY_MODEL_07bcbf4077354afc8230bea56431b6dc",
       "style": "IPY_MODEL_148a46c374574a699a3170275e19be06",
       "value": "  0%"
      }
     },
     "2a8f36b5d12b4346aa6dfe9299696a42": {
      "model_module": "@jupyter-widgets/controls",
      "model_module_version": "1.5.0",
      "model_name": "HBoxModel",
      "state": {
       "children": [
        "IPY_MODEL_960c321c89e94adda7ef6edcfb0078ce",
        "IPY_MODEL_93d712fe0dc94ba2bfb6a8b04db92837",
        "IPY_MODEL_29ff132fc15d4bf8ab4411eea695b694"
       ],
       "layout": "IPY_MODEL_258c5af06db1472daf32b3ec9d3e56fd"
      }
     },
     "2a9776396d46405aa886a15576730d6e": {
      "model_module": "@jupyter-widgets/base",
      "model_module_version": "1.2.0",
      "model_name": "LayoutModel",
      "state": {}
     },
     "2aa23e51fca642c0a03d36a257ce0a48": {
      "model_module": "@jupyter-widgets/controls",
      "model_module_version": "1.5.0",
      "model_name": "DescriptionStyleModel",
      "state": {
       "description_width": ""
      }
     },
     "2aa94ed58b7c4f858a0fbc413c78243e": {
      "model_module": "@jupyter-widgets/controls",
      "model_module_version": "1.5.0",
      "model_name": "HTMLModel",
      "state": {
       "layout": "IPY_MODEL_f6bb18e77afd41118ece91107457b444",
       "style": "IPY_MODEL_77fbaf244bf5422b9b495c6f02cfe1b1",
       "value": " 1/1 [00:00&lt;00:00, 90.83it/s]"
      }
     },
     "2aac2aac4a7048abb1e0de3706cd6282": {
      "model_module": "@jupyter-widgets/base",
      "model_module_version": "1.2.0",
      "model_name": "LayoutModel",
      "state": {}
     },
     "2ab657881e5941c19e1e7708bf4cee82": {
      "model_module": "@jupyter-widgets/base",
      "model_module_version": "1.2.0",
      "model_name": "LayoutModel",
      "state": {}
     },
     "2aba186734714e41b6bf475581744d6d": {
      "model_module": "@jupyter-widgets/controls",
      "model_module_version": "1.5.0",
      "model_name": "HBoxModel",
      "state": {
       "children": [
        "IPY_MODEL_d9b5cde9e2dd417dbed6646b7aceb934",
        "IPY_MODEL_10ba1c7fe6da4f8eaa8553350dc79195",
        "IPY_MODEL_4b6899b255cd48428d05b9958e524797"
       ],
       "layout": "IPY_MODEL_8f00442a62de41758f65c53ec5b31c4b"
      }
     },
     "2ae07ed729d84a76b7008dd85d84c340": {
      "model_module": "@jupyter-widgets/controls",
      "model_module_version": "1.5.0",
      "model_name": "FloatProgressModel",
      "state": {
       "bar_style": "success",
       "layout": "IPY_MODEL_54b5809454ef42a38fe1ed5d961990c2",
       "max": 1,
       "style": "IPY_MODEL_2c4bcac4022743258eda07cb2d8f89bb",
       "value": 1
      }
     },
     "2afa7efd8bc64ac7bcef191ac8255970": {
      "model_module": "@jupyter-widgets/controls",
      "model_module_version": "1.5.0",
      "model_name": "FloatProgressModel",
      "state": {
       "bar_style": "danger",
       "layout": "IPY_MODEL_834e38770668474ca26d3daac5ed7d6f",
       "style": "IPY_MODEL_0a94b681c4084390a361e35cec3d0b75"
      }
     },
     "2b035c0cbdf74069895a7d3fb8f59e04": {
      "model_module": "@jupyter-widgets/base",
      "model_module_version": "1.2.0",
      "model_name": "LayoutModel",
      "state": {}
     },
     "2b15c840476c4aad921edf8150c9de76": {
      "model_module": "@jupyter-widgets/base",
      "model_module_version": "1.2.0",
      "model_name": "LayoutModel",
      "state": {}
     },
     "2b189cec8805416d97e21e2c67fadb3f": {
      "model_module": "@jupyter-widgets/controls",
      "model_module_version": "1.5.0",
      "model_name": "HBoxModel",
      "state": {
       "children": [
        "IPY_MODEL_6e4416ec2c1b452fadde4e3dd22c8381",
        "IPY_MODEL_190661d023604873bad75d169ad9fd6e",
        "IPY_MODEL_fcb0fbe8b1914b1d9ca248e019597b26"
       ],
       "layout": "IPY_MODEL_a27ebaef984947db997f3824dfb0e1b2"
      }
     },
     "2b219734ba894474b6c14ebe93b6b14a": {
      "model_module": "@jupyter-widgets/base",
      "model_module_version": "1.2.0",
      "model_name": "LayoutModel",
      "state": {}
     },
     "2b31598a658f4df4bcab64e6f45075f0": {
      "model_module": "@jupyter-widgets/controls",
      "model_module_version": "1.5.0",
      "model_name": "DescriptionStyleModel",
      "state": {
       "description_width": ""
      }
     },
     "2b4c6e717b524baea9c8578a3061aa05": {
      "model_module": "@jupyter-widgets/base",
      "model_module_version": "1.2.0",
      "model_name": "LayoutModel",
      "state": {}
     },
     "2b4d64f7402a43e89655ed0046b5d8c7": {
      "model_module": "@jupyter-widgets/controls",
      "model_module_version": "1.5.0",
      "model_name": "FloatProgressModel",
      "state": {
       "bar_style": "success",
       "layout": "IPY_MODEL_a37208c042f04fc781a5cddf3887c1a8",
       "style": "IPY_MODEL_a9d49b7c86514f34acaf99c168a315dc",
       "value": 100
      }
     },
     "2b4ea8293fef4f6cabaa2a54fef0e349": {
      "model_module": "@jupyter-widgets/controls",
      "model_module_version": "1.5.0",
      "model_name": "HBoxModel",
      "state": {
       "children": [
        "IPY_MODEL_3ee07d1627024362a8d7008ba1f3892b",
        "IPY_MODEL_55de84fc1e734f77b13aac67f7b52495",
        "IPY_MODEL_6512087837564b5fbb827628c32adb4c"
       ],
       "layout": "IPY_MODEL_14a5b9eb648e403e92f84131cfc268e5"
      }
     },
     "2b5d4c3a051e4a3cac458c34ab7c4ab0": {
      "model_module": "@jupyter-widgets/controls",
      "model_module_version": "1.5.0",
      "model_name": "FloatProgressModel",
      "state": {
       "bar_style": "success",
       "layout": "IPY_MODEL_af29f6b3da794eeb8e0f17f3b04dd3e5",
       "max": 1,
       "style": "IPY_MODEL_2784f3583ad24b6b9860a9ea35c45419",
       "value": 1
      }
     },
     "2b690e8b18e9420980d49f4f64ee0a4e": {
      "model_module": "@jupyter-widgets/base",
      "model_module_version": "1.2.0",
      "model_name": "LayoutModel",
      "state": {}
     },
     "2b7aefe6b2234275af73b7d57cecd094": {
      "model_module": "@jupyter-widgets/base",
      "model_module_version": "1.2.0",
      "model_name": "LayoutModel",
      "state": {}
     },
     "2b85cba9072547cfa97ad8d67e30b874": {
      "model_module": "@jupyter-widgets/controls",
      "model_module_version": "1.5.0",
      "model_name": "HTMLModel",
      "state": {
       "layout": "IPY_MODEL_66ade4de43144b139e31c4086fc47e78",
       "style": "IPY_MODEL_005c485507f243d38d56abd06d2d3203",
       "value": "100%"
      }
     },
     "2b8fb7e1f53646a88df684bcf6cd4960": {
      "model_module": "@jupyter-widgets/base",
      "model_module_version": "1.2.0",
      "model_name": "LayoutModel",
      "state": {}
     },
     "2ba9599b42f9440196d2504ac5fa289c": {
      "model_module": "@jupyter-widgets/base",
      "model_module_version": "1.2.0",
      "model_name": "LayoutModel",
      "state": {}
     },
     "2ba9f79ee6c740cf9cbfe153982ea41d": {
      "model_module": "@jupyter-widgets/controls",
      "model_module_version": "1.5.0",
      "model_name": "DescriptionStyleModel",
      "state": {
       "description_width": ""
      }
     },
     "2bb1ce5a7c284f91babb31c6c93be9c0": {
      "model_module": "@jupyter-widgets/base",
      "model_module_version": "1.2.0",
      "model_name": "LayoutModel",
      "state": {}
     },
     "2bc74051844f4a0782b8976944212097": {
      "model_module": "@jupyter-widgets/controls",
      "model_module_version": "1.5.0",
      "model_name": "FloatProgressModel",
      "state": {
       "bar_style": "success",
       "layout": "IPY_MODEL_23dc1b7fe7844622b264e35af4379d35",
       "max": 1,
       "style": "IPY_MODEL_d3600bded18e49e3bbf061c1ce871a4f",
       "value": 1
      }
     },
     "2bf5dac35f204dafa3b88896cc092a9b": {
      "model_module": "@jupyter-widgets/base",
      "model_module_version": "1.2.0",
      "model_name": "LayoutModel",
      "state": {}
     },
     "2bff3e3b434844e8aa10b165b6148121": {
      "model_module": "@jupyter-widgets/controls",
      "model_module_version": "1.5.0",
      "model_name": "FloatProgressModel",
      "state": {
       "bar_style": "success",
       "layout": "IPY_MODEL_0539b9b4150946c992f96a6d38d714e6",
       "style": "IPY_MODEL_8914a2c60c9e466baa7054dce25a69b8",
       "value": 100
      }
     },
     "2c4717f8610047048720dbcaee200f05": {
      "model_module": "@jupyter-widgets/controls",
      "model_module_version": "1.5.0",
      "model_name": "DescriptionStyleModel",
      "state": {
       "description_width": ""
      }
     },
     "2c4bcac4022743258eda07cb2d8f89bb": {
      "model_module": "@jupyter-widgets/controls",
      "model_module_version": "1.5.0",
      "model_name": "ProgressStyleModel",
      "state": {
       "description_width": ""
      }
     },
     "2c62c3fa258a45418937f60da739ccac": {
      "model_module": "@jupyter-widgets/controls",
      "model_module_version": "1.5.0",
      "model_name": "HTMLModel",
      "state": {
       "layout": "IPY_MODEL_a0e840e432ff4159ab3b378b331c6eaa",
       "style": "IPY_MODEL_fb000351d2754a73a92fbc8fd1203b78",
       "value": " 22%"
      }
     },
     "2c7944ba4eaa4df2b42daf04333576a3": {
      "model_module": "@jupyter-widgets/controls",
      "model_module_version": "1.5.0",
      "model_name": "HTMLModel",
      "state": {
       "layout": "IPY_MODEL_a2ae95ac9a6049338d6db5a5783a0db6",
       "style": "IPY_MODEL_d9d0875f399c466bbeb0b97b8f1146c0",
       "value": "  0%"
      }
     },
     "2c7a65952b28418d87dc4d1a1fe951d8": {
      "model_module": "@jupyter-widgets/controls",
      "model_module_version": "1.5.0",
      "model_name": "HBoxModel",
      "state": {
       "children": [
        "IPY_MODEL_bfe5c8063df44f38baa8881582a833d2",
        "IPY_MODEL_594975fb26f1473ba43bb26981f5b6c2",
        "IPY_MODEL_6d2de3435488455295f9275d3725315f"
       ],
       "layout": "IPY_MODEL_bcc862c1605e4cc08f7c7e71b44e7772"
      }
     },
     "2c8cdc8c8b3d4c3287d1d0031848cffc": {
      "model_module": "@jupyter-widgets/base",
      "model_module_version": "1.2.0",
      "model_name": "LayoutModel",
      "state": {}
     },
     "2c8f95a19ce1422d8c39b87a258ac8f0": {
      "model_module": "@jupyter-widgets/controls",
      "model_module_version": "1.5.0",
      "model_name": "HBoxModel",
      "state": {
       "children": [
        "IPY_MODEL_37609d28e22b4253af747bec3af837ae",
        "IPY_MODEL_5a458f903c664e6985c087b8aafc9feb",
        "IPY_MODEL_df404014195146ccad4c24e0f56de89c"
       ],
       "layout": "IPY_MODEL_2c8cdc8c8b3d4c3287d1d0031848cffc"
      }
     },
     "2c981ca0539c4414b7d27aaf853016a3": {
      "model_module": "@jupyter-widgets/controls",
      "model_module_version": "1.5.0",
      "model_name": "ProgressStyleModel",
      "state": {
       "description_width": ""
      }
     },
     "2c9ba36b753c4a4cb8c45a09d8088d37": {
      "model_module": "@jupyter-widgets/controls",
      "model_module_version": "1.5.0",
      "model_name": "ProgressStyleModel",
      "state": {
       "description_width": ""
      }
     },
     "2cc0a3745cda4589b069af5a14ae53c7": {
      "model_module": "@jupyter-widgets/controls",
      "model_module_version": "1.5.0",
      "model_name": "HBoxModel",
      "state": {
       "children": [
        "IPY_MODEL_ec0da662adaf4e638bb1e3da06ecd2cf",
        "IPY_MODEL_4f676b101c9347249219838dcee1c4c4",
        "IPY_MODEL_3491d141bd5f48c2afaee111a34c8fc8"
       ],
       "layout": "IPY_MODEL_2b035c0cbdf74069895a7d3fb8f59e04"
      }
     },
     "2ce70c15cdcf416fb0071a2c85f13937": {
      "model_module": "@jupyter-widgets/base",
      "model_module_version": "1.2.0",
      "model_name": "LayoutModel",
      "state": {}
     },
     "2cf08b8db53d4ac2b22fcc1d0865f885": {
      "model_module": "@jupyter-widgets/controls",
      "model_module_version": "1.5.0",
      "model_name": "FloatProgressModel",
      "state": {
       "bar_style": "success",
       "layout": "IPY_MODEL_10bf2b12192044ccad1d128e97e0d99e",
       "style": "IPY_MODEL_68d524d63fad4a47a6b9830ef887aab2",
       "value": 100
      }
     },
     "2d0fd6b7c7de4173a781c5d80db1a51a": {
      "model_module": "@jupyter-widgets/controls",
      "model_module_version": "1.5.0",
      "model_name": "ProgressStyleModel",
      "state": {
       "description_width": ""
      }
     },
     "2d1166b248fc491abf006e5ea015ae0a": {
      "model_module": "@jupyter-widgets/controls",
      "model_module_version": "1.5.0",
      "model_name": "ProgressStyleModel",
      "state": {
       "description_width": ""
      }
     },
     "2d2be700c17c46328fc3820546dee13f": {
      "model_module": "@jupyter-widgets/controls",
      "model_module_version": "1.5.0",
      "model_name": "HBoxModel",
      "state": {
       "children": [
        "IPY_MODEL_65544535d62240dca7357c065eb4aab4",
        "IPY_MODEL_cfa7f90dd79b4fa28c8996de2ce39a98",
        "IPY_MODEL_45d7aa18b619439c95b1434250dc057f"
       ],
       "layout": "IPY_MODEL_31327746d8f84af0a0514726a8b5f0bb"
      }
     },
     "2d2ff8a7dd0d4c6eb0b4faa127b88664": {
      "model_module": "@jupyter-widgets/controls",
      "model_module_version": "1.5.0",
      "model_name": "HTMLModel",
      "state": {
       "layout": "IPY_MODEL_3677584a6c684f28b765bfec4ecf60b7",
       "style": "IPY_MODEL_24f707a5e9f141cca63de1792a1c0096",
       "value": " 100/100 [04:07&lt;00:00,  2.79s/it]"
      }
     },
     "2d6dc0100d854aeba2e03f2247d2c4fa": {
      "model_module": "@jupyter-widgets/controls",
      "model_module_version": "1.5.0",
      "model_name": "HBoxModel",
      "state": {
       "children": [
        "IPY_MODEL_6392811429af48fd883b3f36696ed86a",
        "IPY_MODEL_0bc8174c5f454e52831cd6f5c67e1008",
        "IPY_MODEL_53985e8a5810474893110c9fd3746272"
       ],
       "layout": "IPY_MODEL_a487c0b11a8e4341a973950d723af44f"
      }
     },
     "2d70b24c849a4e2ab3ff20573c8f0310": {
      "model_module": "@jupyter-widgets/controls",
      "model_module_version": "1.5.0",
      "model_name": "HTMLModel",
      "state": {
       "layout": "IPY_MODEL_4e4141f7d41a499fabaa4e22eed7d43f",
       "style": "IPY_MODEL_c946d02585a74d258e8cf5cd5734d2ca",
       "value": "100%"
      }
     },
     "2d7a19952536426d8a1d926b44872cc0": {
      "model_module": "@jupyter-widgets/controls",
      "model_module_version": "1.5.0",
      "model_name": "FloatProgressModel",
      "state": {
       "bar_style": "success",
       "layout": "IPY_MODEL_34f7258df8a040ecb98e931f3ee8f622",
       "max": 1,
       "style": "IPY_MODEL_076851eb8ece449a946f15f5e542b524",
       "value": 1
      }
     },
     "2db3e2f9dc2a41bcafc737a6e5e22209": {
      "model_module": "@jupyter-widgets/controls",
      "model_module_version": "1.5.0",
      "model_name": "ProgressStyleModel",
      "state": {
       "description_width": ""
      }
     },
     "2dced01bdb864e459ee0f5187a111fa0": {
      "model_module": "@jupyter-widgets/base",
      "model_module_version": "1.2.0",
      "model_name": "LayoutModel",
      "state": {}
     },
     "2dced5fa9f84404aab239d1b58a74772": {
      "model_module": "@jupyter-widgets/controls",
      "model_module_version": "1.5.0",
      "model_name": "ProgressStyleModel",
      "state": {
       "description_width": ""
      }
     },
     "2dea4841649e4e3f8475f9dc1098672b": {
      "model_module": "@jupyter-widgets/base",
      "model_module_version": "1.2.0",
      "model_name": "LayoutModel",
      "state": {}
     },
     "2e0d722756534f758ceed751e6d7e963": {
      "model_module": "@jupyter-widgets/controls",
      "model_module_version": "1.5.0",
      "model_name": "ProgressStyleModel",
      "state": {
       "description_width": ""
      }
     },
     "2e729457f7ea446ab59abbbfe773577a": {
      "model_module": "@jupyter-widgets/base",
      "model_module_version": "1.2.0",
      "model_name": "LayoutModel",
      "state": {}
     },
     "2e756edec2cd40ddaeca066e500b3e30": {
      "model_module": "@jupyter-widgets/controls",
      "model_module_version": "1.5.0",
      "model_name": "HTMLModel",
      "state": {
       "layout": "IPY_MODEL_278c3bd70a194df48e39b4cd6496c079",
       "style": "IPY_MODEL_b529d66d0b224d389db08a8f633881b7",
       "value": " 455k/455k [00:01&lt;00:00, 476kB/s]"
      }
     },
     "2e76cd9a9cd14e3f944d7bfcc70010b7": {
      "model_module": "@jupyter-widgets/controls",
      "model_module_version": "1.5.0",
      "model_name": "HTMLModel",
      "state": {
       "layout": "IPY_MODEL_4e8b465cbb0a4c79a5dd19927be6313d",
       "style": "IPY_MODEL_a140e3bc8230405cb8a7a4b5f9c2182e",
       "value": " 1/1 [00:00&lt;00:00, 99.90it/s]"
      }
     },
     "2e8c1eaa469649418136a1dcaf742492": {
      "model_module": "@jupyter-widgets/base",
      "model_module_version": "1.2.0",
      "model_name": "LayoutModel",
      "state": {}
     },
     "2e998a42a6f44d0abcba64995a8e3727": {
      "model_module": "@jupyter-widgets/base",
      "model_module_version": "1.2.0",
      "model_name": "LayoutModel",
      "state": {}
     },
     "2ed453bc3f4a49d8b1a64ed3a733e215": {
      "model_module": "@jupyter-widgets/base",
      "model_module_version": "1.2.0",
      "model_name": "LayoutModel",
      "state": {}
     },
     "2f0d4fd4a9e74ec9b3e0e57d376706e8": {
      "model_module": "@jupyter-widgets/controls",
      "model_module_version": "1.5.0",
      "model_name": "HBoxModel",
      "state": {
       "children": [
        "IPY_MODEL_23cd048dc208472d9f193252e529466d",
        "IPY_MODEL_25ab53205e864c21bf2e5590dad7eb10",
        "IPY_MODEL_6d8fee05dfb14042a1a281d36c31b168"
       ],
       "layout": "IPY_MODEL_c905e08250a2448484d1824604975c82"
      }
     },
     "2f43f268b9cf455fb1026842cffe119c": {
      "model_module": "@jupyter-widgets/base",
      "model_module_version": "1.2.0",
      "model_name": "LayoutModel",
      "state": {}
     },
     "2f51dafdc6884bdd8a0b11af96aace56": {
      "model_module": "@jupyter-widgets/base",
      "model_module_version": "1.2.0",
      "model_name": "LayoutModel",
      "state": {}
     },
     "2f5e80413c124b449376ad44b6c25f9f": {
      "model_module": "@jupyter-widgets/controls",
      "model_module_version": "1.5.0",
      "model_name": "HBoxModel",
      "state": {
       "children": [
        "IPY_MODEL_383143165d744809bcec3e3aa3213a73",
        "IPY_MODEL_8dc0f4a7594d4940bbb4409f0d6d8e31",
        "IPY_MODEL_9a2bdb81a64f4bf29dc1bc237d1f6ebf"
       ],
       "layout": "IPY_MODEL_67c2dab6625049fcbadd12d04a1efdaa"
      }
     },
     "2f7d7ac7b92e4e34b78e901968e7fc87": {
      "model_module": "@jupyter-widgets/base",
      "model_module_version": "1.2.0",
      "model_name": "LayoutModel",
      "state": {}
     },
     "2f8f73f2c1584dea98bc8fa1f51efe5f": {
      "model_module": "@jupyter-widgets/controls",
      "model_module_version": "1.5.0",
      "model_name": "ProgressStyleModel",
      "state": {
       "description_width": ""
      }
     },
     "2fa3f351065e48d98d61546a35c41b55": {
      "model_module": "@jupyter-widgets/base",
      "model_module_version": "1.2.0",
      "model_name": "LayoutModel",
      "state": {}
     },
     "2fb1b1af189e4466901e3b4aa8f6596d": {
      "model_module": "@jupyter-widgets/base",
      "model_module_version": "1.2.0",
      "model_name": "LayoutModel",
      "state": {}
     },
     "2fb91f0372f443ea87cfbe3666efb679": {
      "model_module": "@jupyter-widgets/controls",
      "model_module_version": "1.5.0",
      "model_name": "ProgressStyleModel",
      "state": {
       "description_width": ""
      }
     },
     "2fd1c250483148928158788df69cd83c": {
      "model_module": "@jupyter-widgets/controls",
      "model_module_version": "1.5.0",
      "model_name": "DescriptionStyleModel",
      "state": {
       "description_width": ""
      }
     },
     "2fd71abd41d3424796646503355a84b7": {
      "model_module": "@jupyter-widgets/base",
      "model_module_version": "1.2.0",
      "model_name": "LayoutModel",
      "state": {}
     },
     "2fd763dfe3204b27be5750db3e857a65": {
      "model_module": "@jupyter-widgets/controls",
      "model_module_version": "1.5.0",
      "model_name": "HBoxModel",
      "state": {
       "children": [
        "IPY_MODEL_c83b64f67c5d457c9c106a9ee7f03ca8",
        "IPY_MODEL_06ed0d2cb8b94e2c82f3afd2d5e20c0c",
        "IPY_MODEL_7ecdc818fbc549dba20bc9fad7dc7898"
       ],
       "layout": "IPY_MODEL_db7a215a39ea4c508c4a1d419def1500"
      }
     },
     "2fe0bea34e094058ba7693253123f3d7": {
      "model_module": "@jupyter-widgets/base",
      "model_module_version": "1.2.0",
      "model_name": "LayoutModel",
      "state": {}
     },
     "2fe7ec6109844bfdb1ec5afbe3e55c85": {
      "model_module": "@jupyter-widgets/controls",
      "model_module_version": "1.5.0",
      "model_name": "DescriptionStyleModel",
      "state": {
       "description_width": ""
      }
     },
     "2fecb75c745844c293b0f85e81e00e70": {
      "model_module": "@jupyter-widgets/base",
      "model_module_version": "1.2.0",
      "model_name": "LayoutModel",
      "state": {}
     },
     "3006b62ceca84c8697e8cfade8d9b0e4": {
      "model_module": "@jupyter-widgets/controls",
      "model_module_version": "1.5.0",
      "model_name": "HBoxModel",
      "state": {
       "children": [
        "IPY_MODEL_d584972510b64ac885a2e45654a57540",
        "IPY_MODEL_032d566d2be942959296eb6dc30eabad",
        "IPY_MODEL_b417076a218545fda6d3ff7abb4c548d"
       ],
       "layout": "IPY_MODEL_8c95c70644274a5c90f78fc5cfebc421"
      }
     },
     "3019492ca1f642859ed057f213c75e04": {
      "model_module": "@jupyter-widgets/base",
      "model_module_version": "1.2.0",
      "model_name": "LayoutModel",
      "state": {}
     },
     "301d206b3f8a494ca44e32942a363c03": {
      "model_module": "@jupyter-widgets/controls",
      "model_module_version": "1.5.0",
      "model_name": "HBoxModel",
      "state": {
       "children": [
        "IPY_MODEL_2115949d99244e02ad101bad43c2a90a",
        "IPY_MODEL_80e59ddbfa984eaf90374fa650e92f1c",
        "IPY_MODEL_67e9f8ba777e499ab56cbcf7e595b9d9"
       ],
       "layout": "IPY_MODEL_e8ce4dbf4f964485982555fd20c9cbd9"
      }
     },
     "3020399efeb343cebcec8b73160ee25a": {
      "model_module": "@jupyter-widgets/controls",
      "model_module_version": "1.5.0",
      "model_name": "HBoxModel",
      "state": {
       "children": [
        "IPY_MODEL_f6cae8a26aa54fef9d6456ef3a460c41",
        "IPY_MODEL_b8fc0a9d5e08451480d5eec08836f3bd",
        "IPY_MODEL_cbb3622a707745edb1d167fdabdd16a2"
       ],
       "layout": "IPY_MODEL_2fb1b1af189e4466901e3b4aa8f6596d"
      }
     },
     "30340b4e969b4ba59cf92134795fc081": {
      "model_module": "@jupyter-widgets/base",
      "model_module_version": "1.2.0",
      "model_name": "LayoutModel",
      "state": {}
     },
     "304ba50da06d4d60b4cbb86f255e9896": {
      "model_module": "@jupyter-widgets/controls",
      "model_module_version": "1.5.0",
      "model_name": "HBoxModel",
      "state": {
       "children": [
        "IPY_MODEL_1aa25d825c424351b63890b83d3a286a",
        "IPY_MODEL_e311068890274a2b835a089154239e20",
        "IPY_MODEL_60c6f63b3435464baa30ef0cac5a00c4"
       ],
       "layout": "IPY_MODEL_37cffa339b574ab4a55545d9c1c557f9"
      }
     },
     "305a3d3ad31a40ef8202b84fb2cca54e": {
      "model_module": "@jupyter-widgets/controls",
      "model_module_version": "1.5.0",
      "model_name": "FloatProgressModel",
      "state": {
       "bar_style": "success",
       "layout": "IPY_MODEL_d5d2923e7cf648feb8625624a92af972",
       "max": 267967963,
       "style": "IPY_MODEL_47cdf7e13155416a8a831f9d5b317420",
       "value": 267967963
      }
     },
     "306c8007c02c459984a435e00d238ea8": {
      "model_module": "@jupyter-widgets/base",
      "model_module_version": "1.2.0",
      "model_name": "LayoutModel",
      "state": {}
     },
     "3072702d5f4043e692bc0b58481b0934": {
      "model_module": "@jupyter-widgets/base",
      "model_module_version": "1.2.0",
      "model_name": "LayoutModel",
      "state": {}
     },
     "308677ba68d241fa92beca0c32862a6c": {
      "model_module": "@jupyter-widgets/controls",
      "model_module_version": "1.5.0",
      "model_name": "HBoxModel",
      "state": {
       "children": [
        "IPY_MODEL_190df68234454c84a8a4e98a225763e9",
        "IPY_MODEL_699faa91e3c443f8ba540d1dfe1345f1",
        "IPY_MODEL_9fd8b5535ed54f9980b49e7ca0523e58"
       ],
       "layout": "IPY_MODEL_c3e20cf859ec4459b74fd463c311ecaa"
      }
     },
     "309b691b6f2a4e4891d77572c6280d7e": {
      "model_module": "@jupyter-widgets/controls",
      "model_module_version": "1.5.0",
      "model_name": "HBoxModel",
      "state": {
       "children": [
        "IPY_MODEL_2d70b24c849a4e2ab3ff20573c8f0310",
        "IPY_MODEL_e022b9fc33b142158181080dfe7041d3",
        "IPY_MODEL_a0e22e6849fc43ecb97e046d0ce631b3"
       ],
       "layout": "IPY_MODEL_f4162f0c3bad4b94a43eb474d0a8da9d"
      }
     },
     "309ef337b95c48088d18bf4c11150318": {
      "model_module": "@jupyter-widgets/controls",
      "model_module_version": "1.5.0",
      "model_name": "HBoxModel",
      "state": {
       "children": [
        "IPY_MODEL_17ba9fb434204dfe8ce9a543f6088e5f",
        "IPY_MODEL_c1df4c70b6284b56a2a463d7253347d5",
        "IPY_MODEL_069bdf99e1484f378d63bd33f2025c89"
       ],
       "layout": "IPY_MODEL_d4b05f37d55e40a6b35ebd3c87b702ff"
      }
     },
     "30d907909deb4fe284f8311e48d99ad0": {
      "model_module": "@jupyter-widgets/base",
      "model_module_version": "1.2.0",
      "model_name": "LayoutModel",
      "state": {}
     },
     "30e46013daab40de849952970afa2fde": {
      "model_module": "@jupyter-widgets/base",
      "model_module_version": "1.2.0",
      "model_name": "LayoutModel",
      "state": {}
     },
     "31327746d8f84af0a0514726a8b5f0bb": {
      "model_module": "@jupyter-widgets/base",
      "model_module_version": "1.2.0",
      "model_name": "LayoutModel",
      "state": {}
     },
     "3136d5e4637a4c64b97f16c0e27b7d6a": {
      "model_module": "@jupyter-widgets/controls",
      "model_module_version": "1.5.0",
      "model_name": "ProgressStyleModel",
      "state": {
       "description_width": ""
      }
     },
     "31823806eefc46f4ba8300c2eca86ed7": {
      "model_module": "@jupyter-widgets/base",
      "model_module_version": "1.2.0",
      "model_name": "LayoutModel",
      "state": {}
     },
     "3183179180804dbc8271e0a483fcda3a": {
      "model_module": "@jupyter-widgets/controls",
      "model_module_version": "1.5.0",
      "model_name": "HTMLModel",
      "state": {
       "layout": "IPY_MODEL_1d1354a5ea4841769c120e8aebe47619",
       "style": "IPY_MODEL_1ea96639a4fd4165af62b2fee2e94285",
       "value": " 100/100 [11:35&lt;00:00,  5.07s/it]"
      }
     },
     "319bdfe1eb6e4ae78976ab8be1720352": {
      "model_module": "@jupyter-widgets/controls",
      "model_module_version": "1.5.0",
      "model_name": "DescriptionStyleModel",
      "state": {
       "description_width": ""
      }
     },
     "31e87fe3426a42479e3ccfc64026258e": {
      "model_module": "@jupyter-widgets/controls",
      "model_module_version": "1.5.0",
      "model_name": "DescriptionStyleModel",
      "state": {
       "description_width": ""
      }
     },
     "3200d4b30cb04d7688f204af46af2b4c": {
      "model_module": "@jupyter-widgets/base",
      "model_module_version": "1.2.0",
      "model_name": "LayoutModel",
      "state": {}
     },
     "3211843e80904c63a845c55122826b43": {
      "model_module": "@jupyter-widgets/base",
      "model_module_version": "1.2.0",
      "model_name": "LayoutModel",
      "state": {}
     },
     "323b8f1ca3e64e64bd509958594e9052": {
      "model_module": "@jupyter-widgets/controls",
      "model_module_version": "1.5.0",
      "model_name": "DescriptionStyleModel",
      "state": {
       "description_width": ""
      }
     },
     "323cc0f1c7334baca46babd1245d13d1": {
      "model_module": "@jupyter-widgets/base",
      "model_module_version": "1.2.0",
      "model_name": "LayoutModel",
      "state": {}
     },
     "323d35edd42842b882b5287df0055e58": {
      "model_module": "@jupyter-widgets/controls",
      "model_module_version": "1.5.0",
      "model_name": "HBoxModel",
      "state": {
       "children": [
        "IPY_MODEL_60cd89f921c240398b2da03aefa084a3",
        "IPY_MODEL_f204ec181d18463e9daddbcaa1b60dcc",
        "IPY_MODEL_ede71a30f60945ea86913a92191f29dc"
       ],
       "layout": "IPY_MODEL_115d89e867984f1eb88a3cfa573c0ac6"
      }
     },
     "327781b232ab41b7a8ae9aef8366d44b": {
      "model_module": "@jupyter-widgets/controls",
      "model_module_version": "1.5.0",
      "model_name": "DescriptionStyleModel",
      "state": {
       "description_width": ""
      }
     },
     "328009cf66b54177bb15ad951bf7e579": {
      "model_module": "@jupyter-widgets/base",
      "model_module_version": "1.2.0",
      "model_name": "LayoutModel",
      "state": {}
     },
     "32893f38828043b894525aabc75d7c01": {
      "model_module": "@jupyter-widgets/base",
      "model_module_version": "1.2.0",
      "model_name": "LayoutModel",
      "state": {}
     },
     "329116700b3a415b80b35abcd103a29a": {
      "model_module": "@jupyter-widgets/controls",
      "model_module_version": "1.5.0",
      "model_name": "FloatProgressModel",
      "state": {
       "bar_style": "success",
       "layout": "IPY_MODEL_404a06368fee4d4bb119ac08469d84fb",
       "max": 1,
       "style": "IPY_MODEL_07fb41f6592547cca9c0efd0b83df2d7",
       "value": 1
      }
     },
     "32af193846fd4c20827d3b3b4f6b5149": {
      "model_module": "@jupyter-widgets/controls",
      "model_module_version": "1.5.0",
      "model_name": "HBoxModel",
      "state": {
       "children": [
        "IPY_MODEL_73c32656ce7a41a4af6ab9f72bdcb077",
        "IPY_MODEL_768e30fbd5b54696b40b577217f0cce4",
        "IPY_MODEL_bd955309aa62461d9dc11582ec1fa845"
       ],
       "layout": "IPY_MODEL_e9aef93324da4157b8d11fdd6632c8c3"
      }
     },
     "32c666de8cc74858b120d17fe0e3149d": {
      "model_module": "@jupyter-widgets/controls",
      "model_module_version": "1.5.0",
      "model_name": "HTMLModel",
      "state": {
       "layout": "IPY_MODEL_56eb5c67e6904c91923c2200f7cb1eab",
       "style": "IPY_MODEL_8d6d6dc179bb40838f1fa309f7e1f5a9",
       "value": " 100/100 [03:51&lt;00:00,  2.47s/it]"
      }
     },
     "32ce73c3c2ec4d268f2bf45bbe5de059": {
      "model_module": "@jupyter-widgets/controls",
      "model_module_version": "1.5.0",
      "model_name": "ProgressStyleModel",
      "state": {
       "description_width": ""
      }
     },
     "32f58ced9780411eaac309884bc5f794": {
      "model_module": "@jupyter-widgets/controls",
      "model_module_version": "1.5.0",
      "model_name": "HBoxModel",
      "state": {
       "children": [
        "IPY_MODEL_8c2eafca51584f21a6bbb2aa9a293e5d",
        "IPY_MODEL_fd04e77a20d947d1974d51c44999060e",
        "IPY_MODEL_ac39de213808420eae2685f62915f7eb"
       ],
       "layout": "IPY_MODEL_c4331298799c44e0b3bc397aef895144"
      }
     },
     "32fab549c75e48c49c0584cc7579a5da": {
      "model_module": "@jupyter-widgets/base",
      "model_module_version": "1.2.0",
      "model_name": "LayoutModel",
      "state": {}
     },
     "33433d5ee45740e1a38b4dea15a2c899": {
      "model_module": "@jupyter-widgets/controls",
      "model_module_version": "1.5.0",
      "model_name": "HTMLModel",
      "state": {
       "layout": "IPY_MODEL_605075a2dcca4fef9860c878293ac9fe",
       "style": "IPY_MODEL_3eaa29477b694811b7fd050cd58b1fa5",
       "value": " 0/100 [00:04&lt;?, ?it/s]"
      }
     },
     "334cbfca3e334f0f81e6289c4eb45309": {
      "model_module": "@jupyter-widgets/controls",
      "model_module_version": "1.5.0",
      "model_name": "DescriptionStyleModel",
      "state": {
       "description_width": ""
      }
     },
     "3354bc90bdd3419faa577b8247259064": {
      "model_module": "@jupyter-widgets/controls",
      "model_module_version": "1.5.0",
      "model_name": "DescriptionStyleModel",
      "state": {
       "description_width": ""
      }
     },
     "335c0484b1b948be80a51ae8c3a9e48f": {
      "model_module": "@jupyter-widgets/controls",
      "model_module_version": "1.5.0",
      "model_name": "HTMLModel",
      "state": {
       "layout": "IPY_MODEL_f41f6147a5694c69abb7c1934ba76a9d",
       "style": "IPY_MODEL_5b0cb0f4817840b88ad59069d737503e",
       "value": "100%"
      }
     },
     "336ad8f2719a4ef0bdbab4eeba56c50e": {
      "model_module": "@jupyter-widgets/base",
      "model_module_version": "1.2.0",
      "model_name": "LayoutModel",
      "state": {}
     },
     "33acb6eec53f44c198f1a57595a3a1db": {
      "model_module": "@jupyter-widgets/controls",
      "model_module_version": "1.5.0",
      "model_name": "FloatProgressModel",
      "state": {
       "bar_style": "success",
       "layout": "IPY_MODEL_99ba36db357344598c3c5997f8116a1a",
       "style": "IPY_MODEL_33e968346b5842d28020a1d92b3f84bb",
       "value": 100
      }
     },
     "33b71590385744fa9961e933be0c4c3d": {
      "model_module": "@jupyter-widgets/controls",
      "model_module_version": "1.5.0",
      "model_name": "DescriptionStyleModel",
      "state": {
       "description_width": ""
      }
     },
     "33bb292db1b940ae961fb3a1821e4cf4": {
      "model_module": "@jupyter-widgets/controls",
      "model_module_version": "1.5.0",
      "model_name": "DescriptionStyleModel",
      "state": {
       "description_width": ""
      }
     },
     "33c47c3cefad4bf8a854ecc29e6ebb32": {
      "model_module": "@jupyter-widgets/base",
      "model_module_version": "1.2.0",
      "model_name": "LayoutModel",
      "state": {}
     },
     "33e206bfb84b437099ee4be88b92a11d": {
      "model_module": "@jupyter-widgets/base",
      "model_module_version": "1.2.0",
      "model_name": "LayoutModel",
      "state": {}
     },
     "33e968346b5842d28020a1d92b3f84bb": {
      "model_module": "@jupyter-widgets/controls",
      "model_module_version": "1.5.0",
      "model_name": "ProgressStyleModel",
      "state": {
       "description_width": ""
      }
     },
     "33ed22b66c664836ba2bcdee1846b194": {
      "model_module": "@jupyter-widgets/controls",
      "model_module_version": "1.5.0",
      "model_name": "DescriptionStyleModel",
      "state": {
       "description_width": ""
      }
     },
     "3403ca4ed4c14600981d6707f2f86886": {
      "model_module": "@jupyter-widgets/controls",
      "model_module_version": "1.5.0",
      "model_name": "HTMLModel",
      "state": {
       "layout": "IPY_MODEL_187973aad1104daf964dfcae15aed4e0",
       "style": "IPY_MODEL_d7c5757448ec41279c8587e132a5a64f",
       "value": "100%"
      }
     },
     "340b9b31716f4a4ab43c84f4b2bc6b78": {
      "model_module": "@jupyter-widgets/controls",
      "model_module_version": "1.5.0",
      "model_name": "DescriptionStyleModel",
      "state": {
       "description_width": ""
      }
     },
     "34160eee6d7648f099fa3c180b9e055a": {
      "model_module": "@jupyter-widgets/controls",
      "model_module_version": "1.5.0",
      "model_name": "DescriptionStyleModel",
      "state": {
       "description_width": ""
      }
     },
     "34173310848844d1ab3116a784e3d401": {
      "model_module": "@jupyter-widgets/controls",
      "model_module_version": "1.5.0",
      "model_name": "DescriptionStyleModel",
      "state": {
       "description_width": ""
      }
     },
     "342a3e632a0f449e87ca62b3a61a21a3": {
      "model_module": "@jupyter-widgets/controls",
      "model_module_version": "1.5.0",
      "model_name": "HBoxModel",
      "state": {
       "children": [
        "IPY_MODEL_7bf19d6fb43447fdb14eac1b2601a071",
        "IPY_MODEL_1a2b9356cf69490ba02cfb34d8bc0a07",
        "IPY_MODEL_38b809aa35194ecdb7bdcef8284391df"
       ],
       "layout": "IPY_MODEL_35f4f9e7664c4c378a65fb9cc6b7371e"
      }
     },
     "344cecd2168f4cfbaf7589172370742f": {
      "model_module": "@jupyter-widgets/controls",
      "model_module_version": "1.5.0",
      "model_name": "FloatProgressModel",
      "state": {
       "bar_style": "success",
       "layout": "IPY_MODEL_82a9c87ba59d49408856e04ec33f8b05",
       "max": 1,
       "style": "IPY_MODEL_ba17fc82fffd4452a8d4d949583e2d50",
       "value": 1
      }
     },
     "3456bfc31a68483aab4df7d17a92a894": {
      "model_module": "@jupyter-widgets/controls",
      "model_module_version": "1.5.0",
      "model_name": "FloatProgressModel",
      "state": {
       "bar_style": "success",
       "layout": "IPY_MODEL_c57dfa8482e94bbf82ea40c0776c28b7",
       "max": 1,
       "style": "IPY_MODEL_2c9ba36b753c4a4cb8c45a09d8088d37",
       "value": 1
      }
     },
     "3477a99b5794422d9b2333f621a3658a": {
      "model_module": "@jupyter-widgets/controls",
      "model_module_version": "1.5.0",
      "model_name": "DescriptionStyleModel",
      "state": {
       "description_width": ""
      }
     },
     "3491d141bd5f48c2afaee111a34c8fc8": {
      "model_module": "@jupyter-widgets/controls",
      "model_module_version": "1.5.0",
      "model_name": "HTMLModel",
      "state": {
       "layout": "IPY_MODEL_5477c14ae14a494a9a3ee857c82a86bd",
       "style": "IPY_MODEL_1f3ec62ba3784c719680e1534291bc7b",
       "value": " 1/1 [00:02&lt;00:00,  2.09s/ba]"
      }
     },
     "34b5a1695b964b588a5b741ecefb17c3": {
      "model_module": "@jupyter-widgets/controls",
      "model_module_version": "1.5.0",
      "model_name": "ProgressStyleModel",
      "state": {
       "description_width": ""
      }
     },
     "34d30b98d3b84ab2b7350b6b76295407": {
      "model_module": "@jupyter-widgets/controls",
      "model_module_version": "1.5.0",
      "model_name": "ProgressStyleModel",
      "state": {
       "description_width": ""
      }
     },
     "34e1f2f275574a56b1ef6d5eb2458866": {
      "model_module": "@jupyter-widgets/controls",
      "model_module_version": "1.5.0",
      "model_name": "HTMLModel",
      "state": {
       "layout": "IPY_MODEL_af4e2833b4f0491ba74e11e6c89ddebd",
       "style": "IPY_MODEL_153198100f224a76bf16007173eeaad7",
       "value": "100%"
      }
     },
     "34e27148c49a4be0b3c6142094e363a9": {
      "model_module": "@jupyter-widgets/base",
      "model_module_version": "1.2.0",
      "model_name": "LayoutModel",
      "state": {}
     },
     "34f60ae99fe74d258966cbf91509f976": {
      "model_module": "@jupyter-widgets/base",
      "model_module_version": "1.2.0",
      "model_name": "LayoutModel",
      "state": {}
     },
     "34f7258df8a040ecb98e931f3ee8f622": {
      "model_module": "@jupyter-widgets/base",
      "model_module_version": "1.2.0",
      "model_name": "LayoutModel",
      "state": {}
     },
     "34ff9d31eb7b4e8698089e6ed4212ecd": {
      "model_module": "@jupyter-widgets/controls",
      "model_module_version": "1.5.0",
      "model_name": "HTMLModel",
      "state": {
       "layout": "IPY_MODEL_74462d3311a14544a942e1c4929da493",
       "style": "IPY_MODEL_6acd373b148648fd814293ff27250ccf",
       "value": " 100/100 [11:01&lt;00:00,  8.70s/it]"
      }
     },
     "35087185d62848c1932c596aea5af8c2": {
      "model_module": "@jupyter-widgets/controls",
      "model_module_version": "1.5.0",
      "model_name": "HBoxModel",
      "state": {
       "children": [
        "IPY_MODEL_669fca933504490e9919f113f270a0ba",
        "IPY_MODEL_3bdaa6a93c9e4970bd6aaa2f631a3d2c",
        "IPY_MODEL_aeb97777243a4258b453ff5ffa5c0f37"
       ],
       "layout": "IPY_MODEL_6d0e69737b8246328d295d5b1a8835b4"
      }
     },
     "3515b36c6821469a9eb40a5de593418d": {
      "model_module": "@jupyter-widgets/base",
      "model_module_version": "1.2.0",
      "model_name": "LayoutModel",
      "state": {}
     },
     "35437aa3298749d888b29357ae43c425": {
      "model_module": "@jupyter-widgets/controls",
      "model_module_version": "1.5.0",
      "model_name": "ProgressStyleModel",
      "state": {
       "description_width": ""
      }
     },
     "354fc87378bd4ba3ab360d451e89d550": {
      "model_module": "@jupyter-widgets/controls",
      "model_module_version": "1.5.0",
      "model_name": "HTMLModel",
      "state": {
       "layout": "IPY_MODEL_f3fc25d92b00489198a136e6d7de03f6",
       "style": "IPY_MODEL_fcabcefca773421f9c49ffc1d1c29319",
       "value": "100%"
      }
     },
     "355ecaba8477434db10f131922872b45": {
      "model_module": "@jupyter-widgets/controls",
      "model_module_version": "1.5.0",
      "model_name": "DescriptionStyleModel",
      "state": {
       "description_width": ""
      }
     },
     "3575745765d242cbacd6153317fca940": {
      "model_module": "@jupyter-widgets/controls",
      "model_module_version": "1.5.0",
      "model_name": "HTMLModel",
      "state": {
       "layout": "IPY_MODEL_fcef9606408647a5a05f68718814c48e",
       "style": "IPY_MODEL_c99a210fb5d043e8808130f0853608ad",
       "value": " 1/1 [00:00&lt;00:00, 83.26it/s]"
      }
     },
     "35bfc8adde3348c38f9814e0cbe97a25": {
      "model_module": "@jupyter-widgets/base",
      "model_module_version": "1.2.0",
      "model_name": "LayoutModel",
      "state": {}
     },
     "35f4f9e7664c4c378a65fb9cc6b7371e": {
      "model_module": "@jupyter-widgets/base",
      "model_module_version": "1.2.0",
      "model_name": "LayoutModel",
      "state": {}
     },
     "36111ebe1ffd40b08137ccd7ca80b407": {
      "model_module": "@jupyter-widgets/controls",
      "model_module_version": "1.5.0",
      "model_name": "DescriptionStyleModel",
      "state": {
       "description_width": ""
      }
     },
     "363967f4f37141d4881711b3bb6c986c": {
      "model_module": "@jupyter-widgets/base",
      "model_module_version": "1.2.0",
      "model_name": "LayoutModel",
      "state": {}
     },
     "365e10600d6e4eb5915c7e9e8c170644": {
      "model_module": "@jupyter-widgets/controls",
      "model_module_version": "1.5.0",
      "model_name": "ProgressStyleModel",
      "state": {
       "description_width": ""
      }
     },
     "3677584a6c684f28b765bfec4ecf60b7": {
      "model_module": "@jupyter-widgets/base",
      "model_module_version": "1.2.0",
      "model_name": "LayoutModel",
      "state": {}
     },
     "36b0059ffb794bb5be3cbf9b9637e030": {
      "model_module": "@jupyter-widgets/controls",
      "model_module_version": "1.5.0",
      "model_name": "ProgressStyleModel",
      "state": {
       "description_width": ""
      }
     },
     "36dfe0b7ae7a4a328077edae683f7e31": {
      "model_module": "@jupyter-widgets/controls",
      "model_module_version": "1.5.0",
      "model_name": "ProgressStyleModel",
      "state": {
       "description_width": ""
      }
     },
     "36e6a5a3988e4f248616a658584da4cd": {
      "model_module": "@jupyter-widgets/controls",
      "model_module_version": "1.5.0",
      "model_name": "HTMLModel",
      "state": {
       "layout": "IPY_MODEL_7ac54561518f4a2a8d143b8937681e75",
       "style": "IPY_MODEL_021adeed62dc4ee58fed6b14d12c7204",
       "value": " 1/1 [00:02&lt;00:00,  2.15s/ba]"
      }
     },
     "3709e23da30140488c99b75184173801": {
      "model_module": "@jupyter-widgets/controls",
      "model_module_version": "1.5.0",
      "model_name": "HTMLModel",
      "state": {
       "layout": "IPY_MODEL_bb6c707cfdb043729a0cb7eab439f87f",
       "style": "IPY_MODEL_33bb292db1b940ae961fb3a1821e4cf4",
       "value": "100%"
      }
     },
     "3718be993d0641e3913ced8b68e6835d": {
      "model_module": "@jupyter-widgets/controls",
      "model_module_version": "1.5.0",
      "model_name": "HTMLModel",
      "state": {
       "layout": "IPY_MODEL_76fddfa186b24755b2bb8f6081333333",
       "style": "IPY_MODEL_4fcf49b328204fe588e2fd888fd9492d",
       "value": " 1/1 [00:00&lt;00:00, 99.91it/s]"
      }
     },
     "37609d28e22b4253af747bec3af837ae": {
      "model_module": "@jupyter-widgets/controls",
      "model_module_version": "1.5.0",
      "model_name": "HTMLModel",
      "state": {
       "layout": "IPY_MODEL_0ff389bf4f0b4db290f42c9146e09d4f",
       "style": "IPY_MODEL_2a6f6b066f9f4947ad0ce1579ef997a8",
       "value": " 22%"
      }
     },
     "37794efd70424d81b8bc376c31957f84": {
      "model_module": "@jupyter-widgets/controls",
      "model_module_version": "1.5.0",
      "model_name": "HTMLModel",
      "state": {
       "layout": "IPY_MODEL_c2ef468241cb455196513a955e20b668",
       "style": "IPY_MODEL_3dc6ed59b3114d48aeda9c09bacc0aae",
       "value": "100%"
      }
     },
     "378cc30d7daf4e90bd4931a609f19741": {
      "model_module": "@jupyter-widgets/base",
      "model_module_version": "1.2.0",
      "model_name": "LayoutModel",
      "state": {}
     },
     "37c1ae5cd09b4be3bced50edb92ee999": {
      "model_module": "@jupyter-widgets/base",
      "model_module_version": "1.2.0",
      "model_name": "LayoutModel",
      "state": {}
     },
     "37cffa339b574ab4a55545d9c1c557f9": {
      "model_module": "@jupyter-widgets/base",
      "model_module_version": "1.2.0",
      "model_name": "LayoutModel",
      "state": {}
     },
     "37e14bb9dd5241c1a6d1e9016115386a": {
      "model_module": "@jupyter-widgets/base",
      "model_module_version": "1.2.0",
      "model_name": "LayoutModel",
      "state": {}
     },
     "383143165d744809bcec3e3aa3213a73": {
      "model_module": "@jupyter-widgets/controls",
      "model_module_version": "1.5.0",
      "model_name": "HTMLModel",
      "state": {
       "layout": "IPY_MODEL_38a497303eea457e8db8e5c2d117a194",
       "style": "IPY_MODEL_5a7f27ae33dc4895917ddf64ef1d66e9",
       "value": "100%"
      }
     },
     "384ac8fc1a9d45bb927364564ea6cc35": {
      "model_module": "@jupyter-widgets/base",
      "model_module_version": "1.2.0",
      "model_name": "LayoutModel",
      "state": {}
     },
     "3867f193d0f04dd6bb0bb83153ab6c69": {
      "model_module": "@jupyter-widgets/controls",
      "model_module_version": "1.5.0",
      "model_name": "DescriptionStyleModel",
      "state": {
       "description_width": ""
      }
     },
     "386e0dd85450474b87338ec726464265": {
      "model_module": "@jupyter-widgets/controls",
      "model_module_version": "1.5.0",
      "model_name": "ProgressStyleModel",
      "state": {
       "description_width": ""
      }
     },
     "388ede793e334ccbaffcc642db6230e4": {
      "model_module": "@jupyter-widgets/controls",
      "model_module_version": "1.5.0",
      "model_name": "HTMLModel",
      "state": {
       "layout": "IPY_MODEL_3072702d5f4043e692bc0b58481b0934",
       "style": "IPY_MODEL_acd7eb03e1b5475b8c1508a044913517",
       "value": "100%"
      }
     },
     "3891966a3e934e0d985b77a84dfa24b6": {
      "model_module": "@jupyter-widgets/controls",
      "model_module_version": "1.5.0",
      "model_name": "DescriptionStyleModel",
      "state": {
       "description_width": ""
      }
     },
     "38a497303eea457e8db8e5c2d117a194": {
      "model_module": "@jupyter-widgets/base",
      "model_module_version": "1.2.0",
      "model_name": "LayoutModel",
      "state": {}
     },
     "38b0e1064fec422a9d85ce269b571503": {
      "model_module": "@jupyter-widgets/controls",
      "model_module_version": "1.5.0",
      "model_name": "HTMLModel",
      "state": {
       "layout": "IPY_MODEL_58f473c958164ff2a9bb229078f2b2a6",
       "style": "IPY_MODEL_eaee08545fbb467ebe0fc736439e2ccc",
       "value": "100%"
      }
     },
     "38b5d71d8e5245c8b97604edea10669a": {
      "model_module": "@jupyter-widgets/controls",
      "model_module_version": "1.5.0",
      "model_name": "ProgressStyleModel",
      "state": {
       "description_width": ""
      }
     },
     "38b809aa35194ecdb7bdcef8284391df": {
      "model_module": "@jupyter-widgets/controls",
      "model_module_version": "1.5.0",
      "model_name": "HTMLModel",
      "state": {
       "layout": "IPY_MODEL_49d5183947a94f44863fac1767586f41",
       "style": "IPY_MODEL_128491d39aae43b18e11ee6eb1ae0364",
       "value": " 100/100 [14:28&lt;00:00,  6.45s/it]"
      }
     },
     "38bb7a59a9bb458a8272edb399fc64a1": {
      "model_module": "@jupyter-widgets/base",
      "model_module_version": "1.2.0",
      "model_name": "LayoutModel",
      "state": {}
     },
     "38e9d8c5055841cf8aba8c25feec0c94": {
      "model_module": "@jupyter-widgets/base",
      "model_module_version": "1.2.0",
      "model_name": "LayoutModel",
      "state": {}
     },
     "38f3b8faf577491b9e24a8c01f40c0dd": {
      "model_module": "@jupyter-widgets/controls",
      "model_module_version": "1.5.0",
      "model_name": "FloatProgressModel",
      "state": {
       "bar_style": "success",
       "layout": "IPY_MODEL_dd1c06b77e134dc9831db6e095ea26fd",
       "max": 1,
       "style": "IPY_MODEL_1c6dba3179b0421e9a7851a1b4f44920",
       "value": 1
      }
     },
     "392338ac13fe4a618cb81a14bd704490": {
      "model_module": "@jupyter-widgets/controls",
      "model_module_version": "1.5.0",
      "model_name": "FloatProgressModel",
      "state": {
       "bar_style": "success",
       "layout": "IPY_MODEL_12f604816d99493b99d79571abe734a5",
       "style": "IPY_MODEL_f604c35082844d30aa9291e106f186bb",
       "value": 100
      }
     },
     "392ad127cf814bd4a57f422f50046c18": {
      "model_module": "@jupyter-widgets/base",
      "model_module_version": "1.2.0",
      "model_name": "LayoutModel",
      "state": {}
     },
     "397a9612314345e3b196593b713e6f19": {
      "model_module": "@jupyter-widgets/base",
      "model_module_version": "1.2.0",
      "model_name": "LayoutModel",
      "state": {}
     },
     "397e7b74679b4f3bbba34b348ce279b9": {
      "model_module": "@jupyter-widgets/controls",
      "model_module_version": "1.5.0",
      "model_name": "FloatProgressModel",
      "state": {
       "bar_style": "success",
       "layout": "IPY_MODEL_b146d7b94b224b4c85faeb483e00ae0e",
       "style": "IPY_MODEL_768e460fdab749f6bdff5785c3bcef04",
       "value": 100
      }
     },
     "3981b31788f043d7a5d5b0bf3841f8ae": {
      "model_module": "@jupyter-widgets/base",
      "model_module_version": "1.2.0",
      "model_name": "LayoutModel",
      "state": {}
     },
     "399c482df05d484c8725b9febae18700": {
      "model_module": "@jupyter-widgets/base",
      "model_module_version": "1.2.0",
      "model_name": "LayoutModel",
      "state": {}
     },
     "39aa4c14b1944327bfbdf1824887dea5": {
      "model_module": "@jupyter-widgets/base",
      "model_module_version": "1.2.0",
      "model_name": "LayoutModel",
      "state": {}
     },
     "39e74b2f874949a4b163a64a48990c97": {
      "model_module": "@jupyter-widgets/controls",
      "model_module_version": "1.5.0",
      "model_name": "HBoxModel",
      "state": {
       "children": [
        "IPY_MODEL_89972703f4454a0d850a4faf593f60b8",
        "IPY_MODEL_c02bccc573104a9fbe33395e6d03b63b",
        "IPY_MODEL_d98f4f7db6f8489e9b2304c430a16da1"
       ],
       "layout": "IPY_MODEL_145385e85324439dac08856a306cafdc"
      }
     },
     "39ede349be3740829b4d4f755634caaa": {
      "model_module": "@jupyter-widgets/base",
      "model_module_version": "1.2.0",
      "model_name": "LayoutModel",
      "state": {}
     },
     "3a327aa1af8c4de3b3b119a3a359dbc9": {
      "model_module": "@jupyter-widgets/base",
      "model_module_version": "1.2.0",
      "model_name": "LayoutModel",
      "state": {}
     },
     "3a3c485a23d94e6084eb06b72a74fd45": {
      "model_module": "@jupyter-widgets/controls",
      "model_module_version": "1.5.0",
      "model_name": "DescriptionStyleModel",
      "state": {
       "description_width": ""
      }
     },
     "3a3e87254e8e4ff7adcfefeab3920c9a": {
      "model_module": "@jupyter-widgets/base",
      "model_module_version": "1.2.0",
      "model_name": "LayoutModel",
      "state": {}
     },
     "3a44cc446e6d4f0dbfbb03876c8371ac": {
      "model_module": "@jupyter-widgets/controls",
      "model_module_version": "1.5.0",
      "model_name": "HTMLModel",
      "state": {
       "layout": "IPY_MODEL_7eaf3abf0a5744268a2033564bed873e",
       "style": "IPY_MODEL_7190d890c0634433bd1db9e16ec786f6",
       "value": "100%"
      }
     },
     "3a4cd8df08b345fb82dc6670bedf6eac": {
      "model_module": "@jupyter-widgets/controls",
      "model_module_version": "1.5.0",
      "model_name": "HTMLModel",
      "state": {
       "layout": "IPY_MODEL_7824b40e8649448fb416dc4006f61217",
       "style": "IPY_MODEL_9655c7c1f3c14b82857552fd2e17516a",
       "value": " 100/100 [04:13&lt;00:00,  1.99s/it]"
      }
     },
     "3a5bb007b908447aac102424f346bff6": {
      "model_module": "@jupyter-widgets/controls",
      "model_module_version": "1.5.0",
      "model_name": "DescriptionStyleModel",
      "state": {
       "description_width": ""
      }
     },
     "3a707108ca1f4d239e13dc38ff00a9b4": {
      "model_module": "@jupyter-widgets/controls",
      "model_module_version": "1.5.0",
      "model_name": "FloatProgressModel",
      "state": {
       "bar_style": "success",
       "layout": "IPY_MODEL_7a676e67488b4034a732d97033ed0a47",
       "max": 1,
       "style": "IPY_MODEL_95264e21e1de4fd69076c56dabf2a431",
       "value": 1
      }
     },
     "3a7c997b33754a5d8e4abc7d258a5d89": {
      "model_module": "@jupyter-widgets/controls",
      "model_module_version": "1.5.0",
      "model_name": "HBoxModel",
      "state": {
       "children": [
        "IPY_MODEL_9234e2ed89554a1c9ae451a15d97bb48",
        "IPY_MODEL_7d592f90e8a14563b68d8d5593908f83",
        "IPY_MODEL_4c1bdfa2475542e2bac1c7094d91f242"
       ],
       "layout": "IPY_MODEL_9828397d61514a63a2676961e9392576"
      }
     },
     "3af14cac126149cdacaf7bf731aa8d23": {
      "model_module": "@jupyter-widgets/controls",
      "model_module_version": "1.5.0",
      "model_name": "DescriptionStyleModel",
      "state": {
       "description_width": ""
      }
     },
     "3b0a31306af749ce9bfd663ff4b29a0f": {
      "model_module": "@jupyter-widgets/controls",
      "model_module_version": "1.5.0",
      "model_name": "ProgressStyleModel",
      "state": {
       "description_width": ""
      }
     },
     "3b10507be0904655bba5841b9b6869af": {
      "model_module": "@jupyter-widgets/controls",
      "model_module_version": "1.5.0",
      "model_name": "HTMLModel",
      "state": {
       "layout": "IPY_MODEL_2a0b570f59a74436a09f9c34ad2fd4ca",
       "style": "IPY_MODEL_c3a9c6cc65c94fc8b870d29514ee0824",
       "value": " 1/1 [00:00&lt;00:00, 58.77it/s]"
      }
     },
     "3b24e4d53a9d44d5a00580a82ffe718a": {
      "model_module": "@jupyter-widgets/controls",
      "model_module_version": "1.5.0",
      "model_name": "DescriptionStyleModel",
      "state": {
       "description_width": ""
      }
     },
     "3b3ef1ecc5104a11869b006d00594f22": {
      "model_module": "@jupyter-widgets/controls",
      "model_module_version": "1.5.0",
      "model_name": "HBoxModel",
      "state": {
       "children": [
        "IPY_MODEL_a3db10406d634cf297353031f9f2bb8a",
        "IPY_MODEL_03c08cde2a0e4832a6fd3d0f5f2667a3",
        "IPY_MODEL_d373d7d6a9274f9db54a328587e7b2aa"
       ],
       "layout": "IPY_MODEL_c3783f5f40bc47608955dbf8989982f4"
      }
     },
     "3b49733a806f451e9e939b982d681f27": {
      "model_module": "@jupyter-widgets/controls",
      "model_module_version": "1.5.0",
      "model_name": "DescriptionStyleModel",
      "state": {
       "description_width": ""
      }
     },
     "3b5cd88de58e4428af231d7f47103e68": {
      "model_module": "@jupyter-widgets/controls",
      "model_module_version": "1.5.0",
      "model_name": "HTMLModel",
      "state": {
       "layout": "IPY_MODEL_bb31fe7ce12b4dfa91f121170ac5a87b",
       "style": "IPY_MODEL_9f408957cbd74471a9523c0bb808c71b",
       "value": " 1/1 [00:00&lt;00:00, 90.82it/s]"
      }
     },
     "3b6581621bcc4181954d8b68d7c4d32d": {
      "model_module": "@jupyter-widgets/controls",
      "model_module_version": "1.5.0",
      "model_name": "DescriptionStyleModel",
      "state": {
       "description_width": ""
      }
     },
     "3b7e4de56ebf4c55a19b16d299da32df": {
      "model_module": "@jupyter-widgets/base",
      "model_module_version": "1.2.0",
      "model_name": "LayoutModel",
      "state": {}
     },
     "3bb92c0fe81c453d96b6ace8876491d3": {
      "model_module": "@jupyter-widgets/controls",
      "model_module_version": "1.5.0",
      "model_name": "FloatProgressModel",
      "state": {
       "bar_style": "success",
       "layout": "IPY_MODEL_7b1f927758b64081b769901ee8b3b757",
       "max": 1,
       "style": "IPY_MODEL_365e10600d6e4eb5915c7e9e8c170644",
       "value": 1
      }
     },
     "3bc0bc1090a1470699a797afb5f13651": {
      "model_module": "@jupyter-widgets/controls",
      "model_module_version": "1.5.0",
      "model_name": "HTMLModel",
      "state": {
       "layout": "IPY_MODEL_59697f61e0044a6e8cfd39a1b928de9d",
       "style": "IPY_MODEL_ea8e6f40543b49e2baabfacbbae8ece0",
       "value": " 0/100 [00:03&lt;?, ?it/s]"
      }
     },
     "3bc4ea54e32d43ab911bf384ce274222": {
      "model_module": "@jupyter-widgets/controls",
      "model_module_version": "1.5.0",
      "model_name": "FloatProgressModel",
      "state": {
       "bar_style": "success",
       "layout": "IPY_MODEL_e9c42a325a6d4bdbab477e8ca8651ad9",
       "max": 1,
       "style": "IPY_MODEL_56513a111484485b9a657ef886a1b049",
       "value": 1
      }
     },
     "3bcfc044bde04fb498c0c2b3f9844cf7": {
      "model_module": "@jupyter-widgets/controls",
      "model_module_version": "1.5.0",
      "model_name": "HTMLModel",
      "state": {
       "layout": "IPY_MODEL_8ebe46366e0f4d4e8c35c062cfc76198",
       "style": "IPY_MODEL_17474ec0244540d69337af74a5ea3576",
       "value": " 1/1 [00:00&lt;00:00, 90.83it/s]"
      }
     },
     "3bdaa6a93c9e4970bd6aaa2f631a3d2c": {
      "model_module": "@jupyter-widgets/controls",
      "model_module_version": "1.5.0",
      "model_name": "FloatProgressModel",
      "state": {
       "bar_style": "success",
       "layout": "IPY_MODEL_ddf44913422d4c2b891badaa2537ab4c",
       "style": "IPY_MODEL_d2269d3d30ea461bb31d56ba10b6e15a",
       "value": 100
      }
     },
     "3be3a4e1650345728c89830fccd75394": {
      "model_module": "@jupyter-widgets/controls",
      "model_module_version": "1.5.0",
      "model_name": "HBoxModel",
      "state": {
       "children": [
        "IPY_MODEL_f394fbbe35494951b684ba77af5d0947",
        "IPY_MODEL_e4e40fbbd75a43829f78f41ae9d07f69",
        "IPY_MODEL_ade12d2d91c24417a522850a4ad65359"
       ],
       "layout": "IPY_MODEL_c8b003948b684b1f945a4b752bd07324"
      }
     },
     "3c28cd45d95945b8934c7ffeb4194314": {
      "model_module": "@jupyter-widgets/controls",
      "model_module_version": "1.5.0",
      "model_name": "DescriptionStyleModel",
      "state": {
       "description_width": ""
      }
     },
     "3c4d88c1eaa74e70bec855a4338424e8": {
      "model_module": "@jupyter-widgets/base",
      "model_module_version": "1.2.0",
      "model_name": "LayoutModel",
      "state": {}
     },
     "3c952b5ca3654c48afe1028b404940fb": {
      "model_module": "@jupyter-widgets/controls",
      "model_module_version": "1.5.0",
      "model_name": "HBoxModel",
      "state": {
       "children": [
        "IPY_MODEL_ec3d466d02094152aeb69a2e69f90d92",
        "IPY_MODEL_e28604025808467381a9b82cdefeea4c",
        "IPY_MODEL_f3b789ed3b0740dda1479aed7bd5f442"
       ],
       "layout": "IPY_MODEL_5e7212c59c3d4174951f7ae4e544937a"
      }
     },
     "3c994489b44f44a59795d93cedd04f01": {
      "model_module": "@jupyter-widgets/controls",
      "model_module_version": "1.5.0",
      "model_name": "ProgressStyleModel",
      "state": {
       "description_width": ""
      }
     },
     "3cc49078decf410e99b5dcf96be8922c": {
      "model_module": "@jupyter-widgets/base",
      "model_module_version": "1.2.0",
      "model_name": "LayoutModel",
      "state": {}
     },
     "3ce5a197a25143b792365343c37ede5f": {
      "model_module": "@jupyter-widgets/base",
      "model_module_version": "1.2.0",
      "model_name": "LayoutModel",
      "state": {}
     },
     "3d00fad0c8e44e308069ae98d337895c": {
      "model_module": "@jupyter-widgets/base",
      "model_module_version": "1.2.0",
      "model_name": "LayoutModel",
      "state": {}
     },
     "3d080e3aab304741a44fdb6af1740978": {
      "model_module": "@jupyter-widgets/base",
      "model_module_version": "1.2.0",
      "model_name": "LayoutModel",
      "state": {}
     },
     "3d1302b432564e5f8b4170759b5955cc": {
      "model_module": "@jupyter-widgets/base",
      "model_module_version": "1.2.0",
      "model_name": "LayoutModel",
      "state": {}
     },
     "3d1a6bc3cdfe4d038577acaeffa77c53": {
      "model_module": "@jupyter-widgets/controls",
      "model_module_version": "1.5.0",
      "model_name": "FloatProgressModel",
      "state": {
       "bar_style": "success",
       "layout": "IPY_MODEL_d420a164ef08455eb5d64ace9af20f7f",
       "style": "IPY_MODEL_da5e1536263f43519771548968f772d2",
       "value": 100
      }
     },
     "3d1bdfb5177348a1a4c7417d8b44cb11": {
      "model_module": "@jupyter-widgets/controls",
      "model_module_version": "1.5.0",
      "model_name": "HTMLModel",
      "state": {
       "layout": "IPY_MODEL_58e91fff474841c7b799e1c6ccd4c868",
       "style": "IPY_MODEL_a15889592be3436abb930f9f97a3eeb0",
       "value": " 1/1 [00:00&lt;00:00, 62.44it/s]"
      }
     },
     "3d24f7e66b25413cae2bc1024f8136db": {
      "model_module": "@jupyter-widgets/controls",
      "model_module_version": "1.5.0",
      "model_name": "HBoxModel",
      "state": {
       "children": [
        "IPY_MODEL_69c5c7cd978b428f8732913b5db57e9f",
        "IPY_MODEL_e21f91c3c6b24bd399678c5ce66a692a",
        "IPY_MODEL_891dbed447d04efeaf326d97f9c1e2eb"
       ],
       "layout": "IPY_MODEL_f4e67d4b32264995ad5fac16e72464d4"
      }
     },
     "3d56f942ca074cd9b666f120a4ea291d": {
      "model_module": "@jupyter-widgets/controls",
      "model_module_version": "1.5.0",
      "model_name": "HTMLModel",
      "state": {
       "layout": "IPY_MODEL_0a4783927e164841ac2bd72b92c4b40c",
       "style": "IPY_MODEL_ccee27ba01b849e8938f36c90a5f94ec",
       "value": " 100/100 [13:13&lt;00:00,  5.56s/it]"
      }
     },
     "3d65d4af0d5341bda4be64b38292023e": {
      "model_module": "@jupyter-widgets/base",
      "model_module_version": "1.2.0",
      "model_name": "LayoutModel",
      "state": {}
     },
     "3d719787b95340b2b7de6f7497e529fc": {
      "model_module": "@jupyter-widgets/controls",
      "model_module_version": "1.5.0",
      "model_name": "FloatProgressModel",
      "state": {
       "bar_style": "success",
       "layout": "IPY_MODEL_bbf4d395b7464399883eb4b11deddb79",
       "max": 1,
       "style": "IPY_MODEL_05941cdbac9d4a62b8b9d081583ae15f",
       "value": 1
      }
     },
     "3d89199fdc8f47bcb005709dc4ecbafd": {
      "model_module": "@jupyter-widgets/controls",
      "model_module_version": "1.5.0",
      "model_name": "DescriptionStyleModel",
      "state": {
       "description_width": ""
      }
     },
     "3d9585b8373041ab96f97deb9454e355": {
      "model_module": "@jupyter-widgets/controls",
      "model_module_version": "1.5.0",
      "model_name": "HTMLModel",
      "state": {
       "layout": "IPY_MODEL_d4303454f649401fb71730068dffe3a9",
       "style": "IPY_MODEL_3dc415dec8a241fbb9e34f4f0ae1bc1c",
       "value": "100%"
      }
     },
     "3da56fb517924a55aff23c64c4aec3be": {
      "model_module": "@jupyter-widgets/base",
      "model_module_version": "1.2.0",
      "model_name": "LayoutModel",
      "state": {}
     },
     "3daf35ebdd584f78ad388b10782f4f93": {
      "model_module": "@jupyter-widgets/controls",
      "model_module_version": "1.5.0",
      "model_name": "DescriptionStyleModel",
      "state": {
       "description_width": ""
      }
     },
     "3dc415dec8a241fbb9e34f4f0ae1bc1c": {
      "model_module": "@jupyter-widgets/controls",
      "model_module_version": "1.5.0",
      "model_name": "DescriptionStyleModel",
      "state": {
       "description_width": ""
      }
     },
     "3dc6ed59b3114d48aeda9c09bacc0aae": {
      "model_module": "@jupyter-widgets/controls",
      "model_module_version": "1.5.0",
      "model_name": "DescriptionStyleModel",
      "state": {
       "description_width": ""
      }
     },
     "3ddced85a9ef44478775ca53661ca5d4": {
      "model_module": "@jupyter-widgets/base",
      "model_module_version": "1.2.0",
      "model_name": "LayoutModel",
      "state": {}
     },
     "3de86df9dbc349e48bf1080b924a3064": {
      "model_module": "@jupyter-widgets/controls",
      "model_module_version": "1.5.0",
      "model_name": "DescriptionStyleModel",
      "state": {
       "description_width": ""
      }
     },
     "3e351fa3332e4b97a35742fb81ee589e": {
      "model_module": "@jupyter-widgets/base",
      "model_module_version": "1.2.0",
      "model_name": "LayoutModel",
      "state": {}
     },
     "3e483667b78c4ae1a60567afd1f2c0a0": {
      "model_module": "@jupyter-widgets/controls",
      "model_module_version": "1.5.0",
      "model_name": "HBoxModel",
      "state": {
       "children": [
        "IPY_MODEL_f7dd8e9d354d48af876af1db1c0cb402",
        "IPY_MODEL_b86158f1881b4c4d8d64da81d0275c7e",
        "IPY_MODEL_999b4f652bd64068919a1538cf956bd0"
       ],
       "layout": "IPY_MODEL_bacbb86cc47642e3ad196fc5c17778f5"
      }
     },
     "3e49a48eb74b41b9a061a0154d236d9c": {
      "model_module": "@jupyter-widgets/controls",
      "model_module_version": "1.5.0",
      "model_name": "DescriptionStyleModel",
      "state": {
       "description_width": ""
      }
     },
     "3e4d1a840940499c893d1cf97ba0dbd8": {
      "model_module": "@jupyter-widgets/controls",
      "model_module_version": "1.5.0",
      "model_name": "FloatProgressModel",
      "state": {
       "bar_style": "success",
       "layout": "IPY_MODEL_a408e573ee144b57b98a2ee9e9af7dea",
       "max": 1,
       "style": "IPY_MODEL_41f8d3fb83824ac88765994acf391689",
       "value": 1
      }
     },
     "3e63076b861c4193a25cd81dd7d5ac0f": {
      "model_module": "@jupyter-widgets/base",
      "model_module_version": "1.2.0",
      "model_name": "LayoutModel",
      "state": {}
     },
     "3e7a6f45f7714c90b28836b5d6c3ee0c": {
      "model_module": "@jupyter-widgets/base",
      "model_module_version": "1.2.0",
      "model_name": "LayoutModel",
      "state": {}
     },
     "3e846b5740a04f3b9d9d0be128c086bb": {
      "model_module": "@jupyter-widgets/controls",
      "model_module_version": "1.5.0",
      "model_name": "ProgressStyleModel",
      "state": {
       "description_width": ""
      }
     },
     "3eaa29477b694811b7fd050cd58b1fa5": {
      "model_module": "@jupyter-widgets/controls",
      "model_module_version": "1.5.0",
      "model_name": "DescriptionStyleModel",
      "state": {
       "description_width": ""
      }
     },
     "3eb0d6ef1455432f9a58a576416c42ca": {
      "model_module": "@jupyter-widgets/controls",
      "model_module_version": "1.5.0",
      "model_name": "DescriptionStyleModel",
      "state": {
       "description_width": ""
      }
     },
     "3ebd81d336024bdc9f55490aaad4e54b": {
      "model_module": "@jupyter-widgets/base",
      "model_module_version": "1.2.0",
      "model_name": "LayoutModel",
      "state": {}
     },
     "3edbdb11eba54e55af9c056352a3bfd2": {
      "model_module": "@jupyter-widgets/controls",
      "model_module_version": "1.5.0",
      "model_name": "HTMLModel",
      "state": {
       "layout": "IPY_MODEL_2b7aefe6b2234275af73b7d57cecd094",
       "style": "IPY_MODEL_5939aa1873b8454ab77faad866cb42ee",
       "value": "100%"
      }
     },
     "3ee07d1627024362a8d7008ba1f3892b": {
      "model_module": "@jupyter-widgets/controls",
      "model_module_version": "1.5.0",
      "model_name": "HTMLModel",
      "state": {
       "layout": "IPY_MODEL_60caa491277342a4aa362e6cf6b8d055",
       "style": "IPY_MODEL_1cca1473850a418bab67181475d1157d",
       "value": "100%"
      }
     },
     "3eeb3332cc054d78a90feec95d625667": {
      "model_module": "@jupyter-widgets/controls",
      "model_module_version": "1.5.0",
      "model_name": "HTMLModel",
      "state": {
       "layout": "IPY_MODEL_92e090c87caa47238096105c64476617",
       "style": "IPY_MODEL_cd872763615343ac903ef5573625da0f",
       "value": "100%"
      }
     },
     "3ef88b4703ba485d8785ec0ead08baab": {
      "model_module": "@jupyter-widgets/controls",
      "model_module_version": "1.5.0",
      "model_name": "FloatProgressModel",
      "state": {
       "bar_style": "success",
       "layout": "IPY_MODEL_f8b19f0f2c7f40b78fddc379ea9e80ac",
       "style": "IPY_MODEL_4c3ffd5eab6c461188de51192e5eb422",
       "value": 100
      }
     },
     "3f27b72ce2934de28d0a459cb3f3ad59": {
      "model_module": "@jupyter-widgets/controls",
      "model_module_version": "1.5.0",
      "model_name": "DescriptionStyleModel",
      "state": {
       "description_width": ""
      }
     },
     "3f36c3cde6544152a16462bf5251cccc": {
      "model_module": "@jupyter-widgets/base",
      "model_module_version": "1.2.0",
      "model_name": "LayoutModel",
      "state": {}
     },
     "3f3880e84d934759ba3a2ceaf192ea05": {
      "model_module": "@jupyter-widgets/controls",
      "model_module_version": "1.5.0",
      "model_name": "DescriptionStyleModel",
      "state": {
       "description_width": ""
      }
     },
     "3f483c0152ec455991a696328530017d": {
      "model_module": "@jupyter-widgets/controls",
      "model_module_version": "1.5.0",
      "model_name": "HTMLModel",
      "state": {
       "layout": "IPY_MODEL_a24d5dca866b4b78b8852b9931cbd9a2",
       "style": "IPY_MODEL_84abdd34bf844e688e6ca8c23d738467",
       "value": " 100/100 [1:09:21&lt;00:00, 41.62s/it]"
      }
     },
     "3f4a310cac274295b5bec1a74a69c098": {
      "model_module": "@jupyter-widgets/controls",
      "model_module_version": "1.5.0",
      "model_name": "FloatProgressModel",
      "state": {
       "bar_style": "success",
       "layout": "IPY_MODEL_49dace75a5714c84a3f93abcc2960d40",
       "max": 1,
       "style": "IPY_MODEL_1f996e9e6e2a49459926f20d99ed3eeb",
       "value": 1
      }
     },
     "3f5a60fb26e54452b25efbb1e5fa67fe": {
      "model_module": "@jupyter-widgets/base",
      "model_module_version": "1.2.0",
      "model_name": "LayoutModel",
      "state": {}
     },
     "3f5ba9a7eccf42aea05d95c936085e41": {
      "model_module": "@jupyter-widgets/controls",
      "model_module_version": "1.5.0",
      "model_name": "HTMLModel",
      "state": {
       "layout": "IPY_MODEL_18e4bc70d2934d03a2ac5fad4d0202c0",
       "style": "IPY_MODEL_1fa0de2354cc4fe78330f29d69e27508",
       "value": "100%"
      }
     },
     "3f5ddcabdb3844548ab230c853257b03": {
      "model_module": "@jupyter-widgets/controls",
      "model_module_version": "1.5.0",
      "model_name": "FloatProgressModel",
      "state": {
       "bar_style": "success",
       "layout": "IPY_MODEL_c561fb695fb045aea231c66c923ea2ac",
       "max": 1,
       "style": "IPY_MODEL_085e31b603ca4d99a31414802770892f",
       "value": 1
      }
     },
     "3f61337e2490437da8644b963ab73808": {
      "model_module": "@jupyter-widgets/base",
      "model_module_version": "1.2.0",
      "model_name": "LayoutModel",
      "state": {}
     },
     "3f68ab3c56a14065bfd792c59fe1e4ef": {
      "model_module": "@jupyter-widgets/controls",
      "model_module_version": "1.5.0",
      "model_name": "FloatProgressModel",
      "state": {
       "bar_style": "danger",
       "layout": "IPY_MODEL_b2ac7bb228ff4d30aa6ef0d9104bddc5",
       "max": 133,
       "style": "IPY_MODEL_543596b6d36b428dbc8119e7903afa6f",
       "value": 9
      }
     },
     "3f9bf98629da490ca10d13c92bbfa433": {
      "model_module": "@jupyter-widgets/controls",
      "model_module_version": "1.5.0",
      "model_name": "ProgressStyleModel",
      "state": {
       "description_width": ""
      }
     },
     "3fc3397dce694f77a1d6c21efe253e68": {
      "model_module": "@jupyter-widgets/base",
      "model_module_version": "1.2.0",
      "model_name": "LayoutModel",
      "state": {}
     },
     "3fda4b2f4ae04829a0a35d1106f8b489": {
      "model_module": "@jupyter-widgets/controls",
      "model_module_version": "1.5.0",
      "model_name": "HTMLModel",
      "state": {
       "layout": "IPY_MODEL_bf046793d5cf48f0a65bc2fc6e0d1cb0",
       "style": "IPY_MODEL_890b4f6471134e5e89dcca32e19fd881",
       "value": "100%"
      }
     },
     "3fe35d0a95aa4f7d80a4fff9810e09ea": {
      "model_module": "@jupyter-widgets/controls",
      "model_module_version": "1.5.0",
      "model_name": "HBoxModel",
      "state": {
       "children": [
        "IPY_MODEL_af8b627053c44ae0952ceaba888896f2",
        "IPY_MODEL_226d2e5ecfda4555945c8903ddf1a38f",
        "IPY_MODEL_6835dfacccee44d88e8a6c8a6af4aabc"
       ],
       "layout": "IPY_MODEL_03f935bcab60485f9dbb0cde11d28f4e"
      }
     },
     "3ff4f032dea5452bba3d7609d0009df1": {
      "model_module": "@jupyter-widgets/controls",
      "model_module_version": "1.5.0",
      "model_name": "FloatProgressModel",
      "state": {
       "bar_style": "success",
       "layout": "IPY_MODEL_8f0fb3eddff7432d8dcfa540ddb39a38",
       "max": 104,
       "style": "IPY_MODEL_0862de4e5dca4eca95c29fb99c00e8af",
       "value": 104
      }
     },
     "400b5f6d8f1f4b199744f7fdca2be623": {
      "model_module": "@jupyter-widgets/controls",
      "model_module_version": "1.5.0",
      "model_name": "FloatProgressModel",
      "state": {
       "bar_style": "success",
       "layout": "IPY_MODEL_e186467a2c3e4828aaa78d7cd4d070a2",
       "max": 1,
       "style": "IPY_MODEL_d8266b37c9a54c69ac707d2b602b536c",
       "value": 1
      }
     },
     "404a06368fee4d4bb119ac08469d84fb": {
      "model_module": "@jupyter-widgets/base",
      "model_module_version": "1.2.0",
      "model_name": "LayoutModel",
      "state": {}
     },
     "40618732653146c79e976baa557be366": {
      "model_module": "@jupyter-widgets/controls",
      "model_module_version": "1.5.0",
      "model_name": "DescriptionStyleModel",
      "state": {
       "description_width": ""
      }
     },
     "407f93d9a0b84ca8bda51465d0c09301": {
      "model_module": "@jupyter-widgets/base",
      "model_module_version": "1.2.0",
      "model_name": "LayoutModel",
      "state": {}
     },
     "4081eee1b9604dcfb25078cf64ea5e68": {
      "model_module": "@jupyter-widgets/controls",
      "model_module_version": "1.5.0",
      "model_name": "DescriptionStyleModel",
      "state": {
       "description_width": ""
      }
     },
     "40b40bc0c0d845e68b61c3a0518a1228": {
      "model_module": "@jupyter-widgets/base",
      "model_module_version": "1.2.0",
      "model_name": "LayoutModel",
      "state": {}
     },
     "40d01dba6d2e42a698315de45b0f624b": {
      "model_module": "@jupyter-widgets/base",
      "model_module_version": "1.2.0",
      "model_name": "LayoutModel",
      "state": {}
     },
     "40e6e68fdc3a4becb1ccaa2a1fa91b9f": {
      "model_module": "@jupyter-widgets/controls",
      "model_module_version": "1.5.0",
      "model_name": "HTMLModel",
      "state": {
       "layout": "IPY_MODEL_da0ff27cb55247debeb20fbecbb6a5c0",
       "style": "IPY_MODEL_cf8556f1f6b54d86a0fdcbf9b7d55221",
       "value": " 1/1 [00:00&lt;00:00, 99.91it/s]"
      }
     },
     "40e7f6462e6b4779af1eff1cea224acf": {
      "model_module": "@jupyter-widgets/controls",
      "model_module_version": "1.5.0",
      "model_name": "FloatProgressModel",
      "state": {
       "bar_style": "success",
       "layout": "IPY_MODEL_53b6f6589bc64137be6dce995a10aec3",
       "max": 1,
       "style": "IPY_MODEL_0911b38e0f2c445f8d95eb62d73097bb",
       "value": 1
      }
     },
     "40ff3971d7ed428c81397d1056a81814": {
      "model_module": "@jupyter-widgets/controls",
      "model_module_version": "1.5.0",
      "model_name": "HBoxModel",
      "state": {
       "children": [
        "IPY_MODEL_d9752e7dfd66498aa7cf61428a2a6f7f",
        "IPY_MODEL_964412024ffe4baba24bb0492a99caf6",
        "IPY_MODEL_63f78878ab6940bb87727997ab589fa7"
       ],
       "layout": "IPY_MODEL_264a362cc2784fa09a24968290615f32"
      }
     },
     "41298b348a734044b2fac1d7dda456d0": {
      "model_module": "@jupyter-widgets/controls",
      "model_module_version": "1.5.0",
      "model_name": "HBoxModel",
      "state": {
       "children": [
        "IPY_MODEL_e0d34ba21a414d6a9b5c46be250c5a79",
        "IPY_MODEL_ed2fd43bb8984dc7af094805858cb857",
        "IPY_MODEL_8b3ee791561443819389246dec87ebe5"
       ],
       "layout": "IPY_MODEL_c75a64325b804dd6827174ef74650922"
      }
     },
     "412d247df6fb4c82972f2566a1178b51": {
      "model_module": "@jupyter-widgets/base",
      "model_module_version": "1.2.0",
      "model_name": "LayoutModel",
      "state": {}
     },
     "413c6d0889a84c97be6988ba952db4a0": {
      "model_module": "@jupyter-widgets/controls",
      "model_module_version": "1.5.0",
      "model_name": "DescriptionStyleModel",
      "state": {
       "description_width": ""
      }
     },
     "41474330b2ae4f6bb368aa51c45d2344": {
      "model_module": "@jupyter-widgets/controls",
      "model_module_version": "1.5.0",
      "model_name": "DescriptionStyleModel",
      "state": {
       "description_width": ""
      }
     },
     "41592b80cdde4cecaf4e914840b73b71": {
      "model_module": "@jupyter-widgets/controls",
      "model_module_version": "1.5.0",
      "model_name": "FloatProgressModel",
      "state": {
       "bar_style": "success",
       "layout": "IPY_MODEL_488b056f8a534c1e9d9796da75e02a30",
       "max": 1,
       "style": "IPY_MODEL_0251e455a8914ee89780e6043525ced7",
       "value": 1
      }
     },
     "415f389ce5bd475e87c44e2861911b06": {
      "model_module": "@jupyter-widgets/controls",
      "model_module_version": "1.5.0",
      "model_name": "DescriptionStyleModel",
      "state": {
       "description_width": ""
      }
     },
     "416dc031aa0d4dd9a27504529071a5bf": {
      "model_module": "@jupyter-widgets/base",
      "model_module_version": "1.2.0",
      "model_name": "LayoutModel",
      "state": {}
     },
     "4173bb5f83564f34949eebf3c2f6308a": {
      "model_module": "@jupyter-widgets/controls",
      "model_module_version": "1.5.0",
      "model_name": "HBoxModel",
      "state": {
       "children": [
        "IPY_MODEL_91507b55a50e4922b8e4b4c95bed0d20",
        "IPY_MODEL_f08835564359407eac854d5e95f29ae4",
        "IPY_MODEL_d4c1485b3cc74e619b069260cadfdebe"
       ],
       "layout": "IPY_MODEL_ff82f11fc1f342ceb49fddbdc6fc4aeb"
      }
     },
     "417c7e15253e448e8f23af280968e0c6": {
      "model_module": "@jupyter-widgets/controls",
      "model_module_version": "1.5.0",
      "model_name": "HTMLModel",
      "state": {
       "layout": "IPY_MODEL_988177e446a642f39584875a98936237",
       "style": "IPY_MODEL_31e87fe3426a42479e3ccfc64026258e",
       "value": " 100/100 [06:14&lt;00:00,  2.49s/it]"
      }
     },
     "419709aa171044e2b6a10ba0abab3c89": {
      "model_module": "@jupyter-widgets/base",
      "model_module_version": "1.2.0",
      "model_name": "LayoutModel",
      "state": {}
     },
     "41b940d4486b449d9d997a8a776373b5": {
      "model_module": "@jupyter-widgets/base",
      "model_module_version": "1.2.0",
      "model_name": "LayoutModel",
      "state": {}
     },
     "41ba90a79c9848bfaca0a60d40602dc0": {
      "model_module": "@jupyter-widgets/base",
      "model_module_version": "1.2.0",
      "model_name": "LayoutModel",
      "state": {}
     },
     "41c75f11da8144ffb4aace3f13d01692": {
      "model_module": "@jupyter-widgets/controls",
      "model_module_version": "1.5.0",
      "model_name": "HTMLModel",
      "state": {
       "layout": "IPY_MODEL_4287cc56198c47dc957e72f0fcd63dc3",
       "style": "IPY_MODEL_88cf326034804ff7b2a6a0a117f185ce",
       "value": "100%"
      }
     },
     "41cad43533cb4394b9e4965d779cab51": {
      "model_module": "@jupyter-widgets/controls",
      "model_module_version": "1.5.0",
      "model_name": "HTMLModel",
      "state": {
       "layout": "IPY_MODEL_f5ef97647e814182932b9dadfd1a0e97",
       "style": "IPY_MODEL_3af14cac126149cdacaf7bf731aa8d23",
       "value": "Downloading: 100%"
      }
     },
     "41df77a354b44a9995f9c821a95c7d8d": {
      "model_module": "@jupyter-widgets/base",
      "model_module_version": "1.2.0",
      "model_name": "LayoutModel",
      "state": {}
     },
     "41e3fa1941c943f4a1130d5d5801857e": {
      "model_module": "@jupyter-widgets/controls",
      "model_module_version": "1.5.0",
      "model_name": "HTMLModel",
      "state": {
       "layout": "IPY_MODEL_5b941ffb90634c6083f45f99f588d971",
       "style": "IPY_MODEL_2c4717f8610047048720dbcaee200f05",
       "value": "100%"
      }
     },
     "41f8d3fb83824ac88765994acf391689": {
      "model_module": "@jupyter-widgets/controls",
      "model_module_version": "1.5.0",
      "model_name": "ProgressStyleModel",
      "state": {
       "description_width": ""
      }
     },
     "4226c90c427e4dbd8ac263dd717ba62b": {
      "model_module": "@jupyter-widgets/base",
      "model_module_version": "1.2.0",
      "model_name": "LayoutModel",
      "state": {}
     },
     "4234894fe2934a089947bd3a19e0dfed": {
      "model_module": "@jupyter-widgets/controls",
      "model_module_version": "1.5.0",
      "model_name": "FloatProgressModel",
      "state": {
       "bar_style": "success",
       "layout": "IPY_MODEL_656be739dc68473caaf8f159b025f1de",
       "style": "IPY_MODEL_f62617992d8e40ed92ed8f424495316e",
       "value": 100
      }
     },
     "4240d1a6f8ef4d82b0c59cc906f7205f": {
      "model_module": "@jupyter-widgets/controls",
      "model_module_version": "1.5.0",
      "model_name": "HTMLModel",
      "state": {
       "layout": "IPY_MODEL_a4f03728e97247989d901e303968e4b5",
       "style": "IPY_MODEL_1cbdb6bd7f7942dbaef227e5d6f5aa7c",
       "value": " 1/1 [00:00&lt;00:00, 62.44it/s]"
      }
     },
     "42594ff592814ce88cb1bac77e965c7b": {
      "model_module": "@jupyter-widgets/controls",
      "model_module_version": "1.5.0",
      "model_name": "ProgressStyleModel",
      "state": {
       "description_width": ""
      }
     },
     "42649c8022104f12808279690bf20724": {
      "model_module": "@jupyter-widgets/base",
      "model_module_version": "1.2.0",
      "model_name": "LayoutModel",
      "state": {}
     },
     "426f0f2ac5524c8a8b43657967666cbf": {
      "model_module": "@jupyter-widgets/base",
      "model_module_version": "1.2.0",
      "model_name": "LayoutModel",
      "state": {}
     },
     "42729324760c41bbadf555068fd8649b": {
      "model_module": "@jupyter-widgets/controls",
      "model_module_version": "1.5.0",
      "model_name": "ProgressStyleModel",
      "state": {
       "description_width": ""
      }
     },
     "427ae22b76a04578ae4a3c5feafed729": {
      "model_module": "@jupyter-widgets/controls",
      "model_module_version": "1.5.0",
      "model_name": "HTMLModel",
      "state": {
       "layout": "IPY_MODEL_e9783627dd7540ed9e3a9defcfea8e0f",
       "style": "IPY_MODEL_80f05566b5794140927e8f71f5f5eb4a",
       "value": " 100/100 [06:09&lt;00:00,  2.58s/it]"
      }
     },
     "4287cc56198c47dc957e72f0fcd63dc3": {
      "model_module": "@jupyter-widgets/base",
      "model_module_version": "1.2.0",
      "model_name": "LayoutModel",
      "state": {}
     },
     "42991b203fe644b6aa6d0b382801ac6c": {
      "model_module": "@jupyter-widgets/controls",
      "model_module_version": "1.5.0",
      "model_name": "DescriptionStyleModel",
      "state": {
       "description_width": ""
      }
     },
     "42ba379257cb4ffd9622680c2d6b77d3": {
      "model_module": "@jupyter-widgets/base",
      "model_module_version": "1.2.0",
      "model_name": "LayoutModel",
      "state": {}
     },
     "42d0842d078f412ba92f0da83b047281": {
      "model_module": "@jupyter-widgets/controls",
      "model_module_version": "1.5.0",
      "model_name": "ProgressStyleModel",
      "state": {
       "description_width": ""
      }
     },
     "42df0f225a6b40c58fe9f52cdff1e24a": {
      "model_module": "@jupyter-widgets/controls",
      "model_module_version": "1.5.0",
      "model_name": "DescriptionStyleModel",
      "state": {
       "description_width": ""
      }
     },
     "42e34dac3883400486c783ae21993abb": {
      "model_module": "@jupyter-widgets/base",
      "model_module_version": "1.2.0",
      "model_name": "LayoutModel",
      "state": {}
     },
     "42f0374c91c348af8e8135977996e8b4": {
      "model_module": "@jupyter-widgets/controls",
      "model_module_version": "1.5.0",
      "model_name": "FloatProgressModel",
      "state": {
       "bar_style": "success",
       "layout": "IPY_MODEL_d3fd2821892c4e248f7dfc735f4c088e",
       "style": "IPY_MODEL_f78e5a15d8dd43918727519770a38064",
       "value": 100
      }
     },
     "4325c3cde3fc40349f4a6fd61505a71d": {
      "model_module": "@jupyter-widgets/controls",
      "model_module_version": "1.5.0",
      "model_name": "HTMLModel",
      "state": {
       "layout": "IPY_MODEL_2b4c6e717b524baea9c8578a3061aa05",
       "style": "IPY_MODEL_1718d85b7e354aeda8043d12a4e91c0a",
       "value": "100%"
      }
     },
     "43272259debf4da0b73c40375e7a88b0": {
      "model_module": "@jupyter-widgets/controls",
      "model_module_version": "1.5.0",
      "model_name": "FloatProgressModel",
      "state": {
       "bar_style": "success",
       "layout": "IPY_MODEL_1e8cabba2fa546fa9b667a7f6294d68c",
       "max": 1,
       "style": "IPY_MODEL_b592fba8701c41b9892bc2217788b4ae",
       "value": 1
      }
     },
     "43361ac80b0b49898c8816559484e65a": {
      "model_module": "@jupyter-widgets/base",
      "model_module_version": "1.2.0",
      "model_name": "LayoutModel",
      "state": {}
     },
     "4351442a71414fe4b6337a3fd6619ccf": {
      "model_module": "@jupyter-widgets/base",
      "model_module_version": "1.2.0",
      "model_name": "LayoutModel",
      "state": {}
     },
     "436a29cecf4c476ea3a9a13c09083d4f": {
      "model_module": "@jupyter-widgets/base",
      "model_module_version": "1.2.0",
      "model_name": "LayoutModel",
      "state": {}
     },
     "436cd65d75374ead844f9e4ccbaa1738": {
      "model_module": "@jupyter-widgets/controls",
      "model_module_version": "1.5.0",
      "model_name": "FloatProgressModel",
      "state": {
       "bar_style": "success",
       "layout": "IPY_MODEL_a5a1a83ad9ca4e5eb434d3644f0b2358",
       "style": "IPY_MODEL_1a85a4aec1e1499f9de762fcad641f85",
       "value": 100
      }
     },
     "43b0517cc13a4bda840a79c8cf1bbefb": {
      "model_module": "@jupyter-widgets/base",
      "model_module_version": "1.2.0",
      "model_name": "LayoutModel",
      "state": {}
     },
     "43d4e6b336384fa3981d1a6a2649fa66": {
      "model_module": "@jupyter-widgets/base",
      "model_module_version": "1.2.0",
      "model_name": "LayoutModel",
      "state": {}
     },
     "440adf5993fa4323b1f1beb2ed49a890": {
      "model_module": "@jupyter-widgets/base",
      "model_module_version": "1.2.0",
      "model_name": "LayoutModel",
      "state": {}
     },
     "441286f5fe0544b48b0c046f49d16a8a": {
      "model_module": "@jupyter-widgets/base",
      "model_module_version": "1.2.0",
      "model_name": "LayoutModel",
      "state": {}
     },
     "44181d1ff19044d8a483689cfef160ab": {
      "model_module": "@jupyter-widgets/base",
      "model_module_version": "1.2.0",
      "model_name": "LayoutModel",
      "state": {}
     },
     "4450f0a2e992488e8e55349a40dfb02c": {
      "model_module": "@jupyter-widgets/controls",
      "model_module_version": "1.5.0",
      "model_name": "ProgressStyleModel",
      "state": {
       "description_width": ""
      }
     },
     "445de939405249639f52eed7f4f4b2b0": {
      "model_module": "@jupyter-widgets/base",
      "model_module_version": "1.2.0",
      "model_name": "LayoutModel",
      "state": {}
     },
     "44670dd1629e492db1e27fb8df1c8c4d": {
      "model_module": "@jupyter-widgets/base",
      "model_module_version": "1.2.0",
      "model_name": "LayoutModel",
      "state": {}
     },
     "4467e6f3fc3c4917b1137fb69a287c12": {
      "model_module": "@jupyter-widgets/controls",
      "model_module_version": "1.5.0",
      "model_name": "DescriptionStyleModel",
      "state": {
       "description_width": ""
      }
     },
     "4476ad8052694861990f07580003fc94": {
      "model_module": "@jupyter-widgets/controls",
      "model_module_version": "1.5.0",
      "model_name": "HTMLModel",
      "state": {
       "layout": "IPY_MODEL_8e8e91170bc747a8a123ad45d6934fbc",
       "style": "IPY_MODEL_8aa143bae0da46faa64cc1b2edbf7c62",
       "value": "  0%"
      }
     },
     "4478b63215834f96847e810d81b52acf": {
      "model_module": "@jupyter-widgets/controls",
      "model_module_version": "1.5.0",
      "model_name": "FloatProgressModel",
      "state": {
       "bar_style": "success",
       "layout": "IPY_MODEL_e9185a55e8634565910a506e3b07f212",
       "style": "IPY_MODEL_1194ff78720c4f03b424798597a0d28f",
       "value": 100
      }
     },
     "4488c1114cba401c82ba1c050ce26c7e": {
      "model_module": "@jupyter-widgets/controls",
      "model_module_version": "1.5.0",
      "model_name": "DescriptionStyleModel",
      "state": {
       "description_width": ""
      }
     },
     "448fb1356b454c4f9d270f6b703854a5": {
      "model_module": "@jupyter-widgets/base",
      "model_module_version": "1.2.0",
      "model_name": "LayoutModel",
      "state": {}
     },
     "44a8a0001411405a91ac0078b8a80d63": {
      "model_module": "@jupyter-widgets/controls",
      "model_module_version": "1.5.0",
      "model_name": "FloatProgressModel",
      "state": {
       "bar_style": "success",
       "layout": "IPY_MODEL_7d5b5a60493141689e1f7953d4bacaad",
       "max": 1,
       "style": "IPY_MODEL_534d11f995c1424088a2baad519c3468",
       "value": 1
      }
     },
     "44b0fc6f01034d169d9db6245eb92bb5": {
      "model_module": "@jupyter-widgets/base",
      "model_module_version": "1.2.0",
      "model_name": "LayoutModel",
      "state": {}
     },
     "44bd2dd1551441fabe2a7700ed77a854": {
      "model_module": "@jupyter-widgets/controls",
      "model_module_version": "1.5.0",
      "model_name": "HBoxModel",
      "state": {
       "children": [
        "IPY_MODEL_fc8e66331ab24eb793389ab9527aa445",
        "IPY_MODEL_52cbdb14cd9240cd8c3912244bf79489",
        "IPY_MODEL_ee9ce9e9c5a14c4881d663ad3b59a3a1"
       ],
       "layout": "IPY_MODEL_3fc3397dce694f77a1d6c21efe253e68"
      }
     },
     "44c14f75c5f7455e88d8d6a8ffc285a9": {
      "model_module": "@jupyter-widgets/controls",
      "model_module_version": "1.5.0",
      "model_name": "DescriptionStyleModel",
      "state": {
       "description_width": ""
      }
     },
     "44e8f3849d9c4c6497824bebde37a631": {
      "model_module": "@jupyter-widgets/controls",
      "model_module_version": "1.5.0",
      "model_name": "DescriptionStyleModel",
      "state": {
       "description_width": ""
      }
     },
     "44ef8ba75d8546fcbb825bd9d51a1272": {
      "model_module": "@jupyter-widgets/controls",
      "model_module_version": "1.5.0",
      "model_name": "DescriptionStyleModel",
      "state": {
       "description_width": ""
      }
     },
     "44efcb862a4b4da7a27b9a301272a512": {
      "model_module": "@jupyter-widgets/base",
      "model_module_version": "1.2.0",
      "model_name": "LayoutModel",
      "state": {}
     },
     "44f332b8a9fe4c7c8b9bf51204e00da4": {
      "model_module": "@jupyter-widgets/controls",
      "model_module_version": "1.5.0",
      "model_name": "HTMLModel",
      "state": {
       "layout": "IPY_MODEL_8b8856d84b204870a6740d2f586ac4e6",
       "style": "IPY_MODEL_208a2096bf8c4dfcad25e0b089621c1a",
       "value": " 1/1 [00:00&lt;00:00, 99.91it/s]"
      }
     },
     "44f6a2656615462c90e106d66a9fe05f": {
      "model_module": "@jupyter-widgets/base",
      "model_module_version": "1.2.0",
      "model_name": "LayoutModel",
      "state": {}
     },
     "44fa07d69d034daa8e969f93cb30a7d8": {
      "model_module": "@jupyter-widgets/base",
      "model_module_version": "1.2.0",
      "model_name": "LayoutModel",
      "state": {}
     },
     "451abd48b1e0466cb9eac3a8788186b7": {
      "model_module": "@jupyter-widgets/base",
      "model_module_version": "1.2.0",
      "model_name": "LayoutModel",
      "state": {}
     },
     "452361b27dde4f799519462f7aecb65c": {
      "model_module": "@jupyter-widgets/controls",
      "model_module_version": "1.5.0",
      "model_name": "HBoxModel",
      "state": {
       "children": [
        "IPY_MODEL_388ede793e334ccbaffcc642db6230e4",
        "IPY_MODEL_49534b32bdee4a29b85b6557b12766eb",
        "IPY_MODEL_48a855298ba9478cbd93339c39c8cc4c"
       ],
       "layout": "IPY_MODEL_c7b121abe70c44ac9f17514a4532c1f4"
      }
     },
     "454311d7d911496eb5a50f4a7984f545": {
      "model_module": "@jupyter-widgets/controls",
      "model_module_version": "1.5.0",
      "model_name": "HBoxModel",
      "state": {
       "children": [
        "IPY_MODEL_f0e2af43f38e45a2a45846f3f8d009ba",
        "IPY_MODEL_1a2a6808dd5e40b7a9b15848f5f0fdc9",
        "IPY_MODEL_f05c4f32186f49429fcc86d42eabc5bc"
       ],
       "layout": "IPY_MODEL_b6ef920170a340eb803e29bfb6cc5718"
      }
     },
     "454e5f64ea844e7cb40822e7757085fc": {
      "model_module": "@jupyter-widgets/controls",
      "model_module_version": "1.5.0",
      "model_name": "HTMLModel",
      "state": {
       "layout": "IPY_MODEL_7e1bfa5a13634e16bfa56eb728ae8ea6",
       "style": "IPY_MODEL_dfffc3c36b3a46fba60e72c02841fa99",
       "value": "100%"
      }
     },
     "45665d4310664f87a1364ee7bc30ec59": {
      "model_module": "@jupyter-widgets/controls",
      "model_module_version": "1.5.0",
      "model_name": "FloatProgressModel",
      "state": {
       "bar_style": "danger",
       "layout": "IPY_MODEL_4aafdcc8f04842b192f85cd7bf6baa82",
       "max": 133,
       "style": "IPY_MODEL_92fb45b425054eaf81c29dfa7d26ff6e",
       "value": 29
      }
     },
     "4569be520aae413aa4d0b9c3802e6aad": {
      "model_module": "@jupyter-widgets/base",
      "model_module_version": "1.2.0",
      "model_name": "LayoutModel",
      "state": {}
     },
     "4577c87f364b48379a511d03bef66f3d": {
      "model_module": "@jupyter-widgets/base",
      "model_module_version": "1.2.0",
      "model_name": "LayoutModel",
      "state": {}
     },
     "459af3d33aee4d2292e6fa3635922863": {
      "model_module": "@jupyter-widgets/controls",
      "model_module_version": "1.5.0",
      "model_name": "DescriptionStyleModel",
      "state": {
       "description_width": ""
      }
     },
     "45a6f6495d514ad9bf599bc8b8feb245": {
      "model_module": "@jupyter-widgets/controls",
      "model_module_version": "1.5.0",
      "model_name": "HBoxModel",
      "state": {
       "children": [
        "IPY_MODEL_6c44cd5859e545aaa0aee7cec2db5d2d",
        "IPY_MODEL_a12ac67a9e69409bbc585dd84ec686a3",
        "IPY_MODEL_0da11b7125074a659867ef527bcdc782"
       ],
       "layout": "IPY_MODEL_2fecb75c745844c293b0f85e81e00e70"
      }
     },
     "45d7aa18b619439c95b1434250dc057f": {
      "model_module": "@jupyter-widgets/controls",
      "model_module_version": "1.5.0",
      "model_name": "HTMLModel",
      "state": {
       "layout": "IPY_MODEL_4cebbed077a34af692596023e100d76d",
       "style": "IPY_MODEL_84f5b4be6b924ecab5ded7ddc3a27862",
       "value": " 1/1 [00:00&lt;00:00, 83.26it/s]"
      }
     },
     "45fac2dc70d64423b844f38bf63d5a7a": {
      "model_module": "@jupyter-widgets/controls",
      "model_module_version": "1.5.0",
      "model_name": "DescriptionStyleModel",
      "state": {
       "description_width": ""
      }
     },
     "463378e46753404d90dd7e1764748310": {
      "model_module": "@jupyter-widgets/controls",
      "model_module_version": "1.5.0",
      "model_name": "DescriptionStyleModel",
      "state": {
       "description_width": ""
      }
     },
     "4636db8e79424780b264fb843609e62d": {
      "model_module": "@jupyter-widgets/controls",
      "model_module_version": "1.5.0",
      "model_name": "FloatProgressModel",
      "state": {
       "bar_style": "success",
       "layout": "IPY_MODEL_28ba2e40d43244eeb70b60f32c342e9a",
       "max": 1,
       "style": "IPY_MODEL_d8196df2131d4a9d8c2f7626d5b2d37b",
       "value": 1
      }
     },
     "4672323a8b814184903cd8620d4a7f75": {
      "model_module": "@jupyter-widgets/controls",
      "model_module_version": "1.5.0",
      "model_name": "HTMLModel",
      "state": {
       "layout": "IPY_MODEL_a585ca1d188348d09ec4392cc4a6aeb8",
       "style": "IPY_MODEL_04b3bd06ad5c403a997dd2a2804f8e0b",
       "value": " 1/1 [00:00&lt;00:00, 90.83it/s]"
      }
     },
     "46835ad79a8348d5b334e2063f2ca964": {
      "model_module": "@jupyter-widgets/controls",
      "model_module_version": "1.5.0",
      "model_name": "FloatProgressModel",
      "state": {
       "bar_style": "success",
       "layout": "IPY_MODEL_acae1b09053a4cb3ac7ed34af1774b65",
       "style": "IPY_MODEL_b2791d6a126c4cd39ed593c893609994",
       "value": 100
      }
     },
     "4693272798514375bf0e093fc75312ae": {
      "model_module": "@jupyter-widgets/controls",
      "model_module_version": "1.5.0",
      "model_name": "DescriptionStyleModel",
      "state": {
       "description_width": ""
      }
     },
     "46ba038366d5478bac473e52fe93bd9d": {
      "model_module": "@jupyter-widgets/controls",
      "model_module_version": "1.5.0",
      "model_name": "HTMLModel",
      "state": {
       "layout": "IPY_MODEL_e2cb7bc8b52242b38587ba8a85d795f1",
       "style": "IPY_MODEL_07bda51b5b884dd6a89c810dc2a5e664",
       "value": " 13226/13226 [00:16&lt;00:00, 768.21ba/s]"
      }
     },
     "46d4b5f48bbe424ba416589118ff4316": {
      "model_module": "@jupyter-widgets/base",
      "model_module_version": "1.2.0",
      "model_name": "LayoutModel",
      "state": {}
     },
     "46f51efe1b464a4b8d0b98df4887a8be": {
      "model_module": "@jupyter-widgets/base",
      "model_module_version": "1.2.0",
      "model_name": "LayoutModel",
      "state": {}
     },
     "471d8632f75c4f2a85a5004c63b75fea": {
      "model_module": "@jupyter-widgets/controls",
      "model_module_version": "1.5.0",
      "model_name": "FloatProgressModel",
      "state": {
       "bar_style": "success",
       "layout": "IPY_MODEL_1a98ec75c8b449c696f1838a8a513d4c",
       "max": 1,
       "style": "IPY_MODEL_1c6014aeaefb47efbf6eec5f6b2ae826",
       "value": 1
      }
     },
     "47231bd209cb44a9a8bb9f779d98bec5": {
      "model_module": "@jupyter-widgets/controls",
      "model_module_version": "1.5.0",
      "model_name": "HTMLModel",
      "state": {
       "layout": "IPY_MODEL_9b01b51ef1824ea3b28a91f2032ad493",
       "style": "IPY_MODEL_a4fc04bd7c0943199319ce8705f54e85",
       "value": "100%"
      }
     },
     "4726ec238cfa4426b4c8cd87cca6493d": {
      "model_module": "@jupyter-widgets/controls",
      "model_module_version": "1.5.0",
      "model_name": "HBoxModel",
      "state": {
       "children": [
        "IPY_MODEL_f093a618af57473b87521e5e89f0bf70",
        "IPY_MODEL_c4acae96b58c430d98ab5cd826350849",
        "IPY_MODEL_d3255c703cd84caa81ac8ddd6ddcc7ef"
       ],
       "layout": "IPY_MODEL_399c482df05d484c8725b9febae18700"
      }
     },
     "473358701e444605a023b2d97557f017": {
      "model_module": "@jupyter-widgets/controls",
      "model_module_version": "1.5.0",
      "model_name": "ProgressStyleModel",
      "state": {
       "description_width": ""
      }
     },
     "4755992cb7214c0da1ecc0eb87501423": {
      "model_module": "@jupyter-widgets/controls",
      "model_module_version": "1.5.0",
      "model_name": "ProgressStyleModel",
      "state": {
       "description_width": ""
      }
     },
     "475c568c69554839be9f3c4b312c8ea4": {
      "model_module": "@jupyter-widgets/controls",
      "model_module_version": "1.5.0",
      "model_name": "HTMLModel",
      "state": {
       "layout": "IPY_MODEL_d8703b933c084ac0ba784422d496fc1d",
       "style": "IPY_MODEL_12216fdbf0ff475aafc69011ceef9525",
       "value": "100%"
      }
     },
     "4765e19f62d047418b01b76d27138bf2": {
      "model_module": "@jupyter-widgets/base",
      "model_module_version": "1.2.0",
      "model_name": "LayoutModel",
      "state": {}
     },
     "47818e9fef7042908ace4e3cb6936e31": {
      "model_module": "@jupyter-widgets/controls",
      "model_module_version": "1.5.0",
      "model_name": "ProgressStyleModel",
      "state": {
       "description_width": ""
      }
     },
     "4787430d76b443ddb62c5968a265e937": {
      "model_module": "@jupyter-widgets/controls",
      "model_module_version": "1.5.0",
      "model_name": "DescriptionStyleModel",
      "state": {
       "description_width": ""
      }
     },
     "478fc0722eb04bff8d77f0882977556c": {
      "model_module": "@jupyter-widgets/controls",
      "model_module_version": "1.5.0",
      "model_name": "DescriptionStyleModel",
      "state": {
       "description_width": ""
      }
     },
     "47cdf7e13155416a8a831f9d5b317420": {
      "model_module": "@jupyter-widgets/controls",
      "model_module_version": "1.5.0",
      "model_name": "ProgressStyleModel",
      "state": {
       "description_width": ""
      }
     },
     "48280174bc3a4361b0ba8b39fb38b296": {
      "model_module": "@jupyter-widgets/base",
      "model_module_version": "1.2.0",
      "model_name": "LayoutModel",
      "state": {}
     },
     "484cf64b00c546c99932d2d095f61de0": {
      "model_module": "@jupyter-widgets/controls",
      "model_module_version": "1.5.0",
      "model_name": "DescriptionStyleModel",
      "state": {
       "description_width": ""
      }
     },
     "484e26e2b33243fdaf044875dfa0c2c5": {
      "model_module": "@jupyter-widgets/controls",
      "model_module_version": "1.5.0",
      "model_name": "DescriptionStyleModel",
      "state": {
       "description_width": ""
      }
     },
     "4856fa6a964a47d48f9ff609cc32b675": {
      "model_module": "@jupyter-widgets/controls",
      "model_module_version": "1.5.0",
      "model_name": "FloatProgressModel",
      "state": {
       "bar_style": "success",
       "layout": "IPY_MODEL_28dfd14ec8a147a2b9d259f07e8e4886",
       "max": 1,
       "style": "IPY_MODEL_91c0ac0e00ce47eeb057114a7b5725e4",
       "value": 1
      }
     },
     "486cbbab11234235a1c839d1058c14c9": {
      "model_module": "@jupyter-widgets/controls",
      "model_module_version": "1.5.0",
      "model_name": "ProgressStyleModel",
      "state": {
       "description_width": ""
      }
     },
     "4878d6ed2e3c44cd80173731d9fac31e": {
      "model_module": "@jupyter-widgets/controls",
      "model_module_version": "1.5.0",
      "model_name": "DescriptionStyleModel",
      "state": {
       "description_width": ""
      }
     },
     "487dddc3d6924a50ab2bab23c8c743ba": {
      "model_module": "@jupyter-widgets/controls",
      "model_module_version": "1.5.0",
      "model_name": "ProgressStyleModel",
      "state": {
       "description_width": ""
      }
     },
     "488b056f8a534c1e9d9796da75e02a30": {
      "model_module": "@jupyter-widgets/base",
      "model_module_version": "1.2.0",
      "model_name": "LayoutModel",
      "state": {}
     },
     "488c10c18b884294ab4bdb73970e40c1": {
      "model_module": "@jupyter-widgets/base",
      "model_module_version": "1.2.0",
      "model_name": "LayoutModel",
      "state": {}
     },
     "488ec28a06744588a30f35f47e30c4a3": {
      "model_module": "@jupyter-widgets/base",
      "model_module_version": "1.2.0",
      "model_name": "LayoutModel",
      "state": {}
     },
     "488ede8d76b141fbb127a82ab0a3df1d": {
      "model_module": "@jupyter-widgets/controls",
      "model_module_version": "1.5.0",
      "model_name": "HTMLModel",
      "state": {
       "layout": "IPY_MODEL_8d955b41f6ac4e92a70042b50be893af",
       "style": "IPY_MODEL_e110a41bea584e4e8ca62e6364869c58",
       "value": " 100/100 [18:32&lt;00:00, 11.63s/it]"
      }
     },
     "48a855298ba9478cbd93339c39c8cc4c": {
      "model_module": "@jupyter-widgets/controls",
      "model_module_version": "1.5.0",
      "model_name": "HTMLModel",
      "state": {
       "layout": "IPY_MODEL_d428be4ea8a24125865d08021285a5a4",
       "style": "IPY_MODEL_14bb6f6ca58b458b8ffa6c888d1b59f6",
       "value": " 1/1 [00:00&lt;00:00, 90.82it/s]"
      }
     },
     "48b2a56ef37d4229870298833fbb703d": {
      "model_module": "@jupyter-widgets/base",
      "model_module_version": "1.2.0",
      "model_name": "LayoutModel",
      "state": {}
     },
     "48b762bf4c904bc8ac64c80a9296fd27": {
      "model_module": "@jupyter-widgets/controls",
      "model_module_version": "1.5.0",
      "model_name": "HTMLModel",
      "state": {
       "layout": "IPY_MODEL_14e7ad6e5c3346d28951f5b0ddffe491",
       "style": "IPY_MODEL_d4d4d586b5034a8d8d6a7d13bdf8cabe",
       "value": "100%"
      }
     },
     "48c32470fc9946fd8eb87089750a5470": {
      "model_module": "@jupyter-widgets/controls",
      "model_module_version": "1.5.0",
      "model_name": "HTMLModel",
      "state": {
       "layout": "IPY_MODEL_5290f3366cb74dccb893cfb320e6dfdc",
       "style": "IPY_MODEL_0d25c19023b9491fb11e890ca308d09b",
       "value": " 100/100 [03:54&lt;00:00,  2.50s/it]"
      }
     },
     "48c7c7927c4342d4987d8782d3a6f401": {
      "model_module": "@jupyter-widgets/controls",
      "model_module_version": "1.5.0",
      "model_name": "ProgressStyleModel",
      "state": {
       "description_width": ""
      }
     },
     "48caacade4754b3f8c975bdfdd43031e": {
      "model_module": "@jupyter-widgets/controls",
      "model_module_version": "1.5.0",
      "model_name": "HBoxModel",
      "state": {
       "children": [
        "IPY_MODEL_acde971ccf2a48ddb1de949ee98a1484",
        "IPY_MODEL_e8a239db76d34153833590290a10a55d",
        "IPY_MODEL_db92422e39014a248ed67485447735db"
       ],
       "layout": "IPY_MODEL_b0164034b7e94472abdf126c1d2e3974"
      }
     },
     "48ccebefb9d34db6adc1667303c11547": {
      "model_module": "@jupyter-widgets/controls",
      "model_module_version": "1.5.0",
      "model_name": "ProgressStyleModel",
      "state": {
       "description_width": ""
      }
     },
     "48d6137d8d37483684f24ce8042c94c6": {
      "model_module": "@jupyter-widgets/controls",
      "model_module_version": "1.5.0",
      "model_name": "HTMLModel",
      "state": {
       "layout": "IPY_MODEL_ffd6bab4689a45edab4980c0ce2ff5e1",
       "style": "IPY_MODEL_afd5f686e3094d489e871336a88d7ef5",
       "value": "100%"
      }
     },
     "48e552f21419464aaa34308fa6e17a0e": {
      "model_module": "@jupyter-widgets/controls",
      "model_module_version": "1.5.0",
      "model_name": "DescriptionStyleModel",
      "state": {
       "description_width": ""
      }
     },
     "48ecf19ba3f54801974593a175fb0039": {
      "model_module": "@jupyter-widgets/controls",
      "model_module_version": "1.5.0",
      "model_name": "FloatProgressModel",
      "state": {
       "bar_style": "success",
       "layout": "IPY_MODEL_e9a1c091b169408cbf90dff08eeff162",
       "style": "IPY_MODEL_0a2bd5038b91447f8849d8d998a2534d",
       "value": 100
      }
     },
     "48f9057369324a68a938b9a0ec5fd5e2": {
      "model_module": "@jupyter-widgets/controls",
      "model_module_version": "1.5.0",
      "model_name": "HBoxModel",
      "state": {
       "children": [
        "IPY_MODEL_48b762bf4c904bc8ac64c80a9296fd27",
        "IPY_MODEL_94f7d2481b314985b3075345dc618aab",
        "IPY_MODEL_5475e02da79e41579764e0dc0c58dd85"
       ],
       "layout": "IPY_MODEL_52ee3aabe9694c1c8087305423cf5ea7"
      }
     },
     "49021f1844d04aeaa84b2f798bd0bc2e": {
      "model_module": "@jupyter-widgets/controls",
      "model_module_version": "1.5.0",
      "model_name": "DescriptionStyleModel",
      "state": {
       "description_width": ""
      }
     },
     "4902ceebc6cd4507ab830993ceb4b163": {
      "model_module": "@jupyter-widgets/controls",
      "model_module_version": "1.5.0",
      "model_name": "DescriptionStyleModel",
      "state": {
       "description_width": ""
      }
     },
     "490c55948fba42e7ae596cd007fd59d1": {
      "model_module": "@jupyter-widgets/base",
      "model_module_version": "1.2.0",
      "model_name": "LayoutModel",
      "state": {}
     },
     "491436677ce245a4aea08f31542f6ffe": {
      "model_module": "@jupyter-widgets/controls",
      "model_module_version": "1.5.0",
      "model_name": "HBoxModel",
      "state": {
       "children": [
        "IPY_MODEL_27ee428201664944aca38d2b35b2bcbd",
        "IPY_MODEL_3e4d1a840940499c893d1cf97ba0dbd8",
        "IPY_MODEL_714ef537f36641e98a68353958b3e248"
       ],
       "layout": "IPY_MODEL_d2df695d9f4c4401864c167df7b195a0"
      }
     },
     "492f0dc1fcce4e13afc3a68e7e4274d1": {
      "model_module": "@jupyter-widgets/controls",
      "model_module_version": "1.5.0",
      "model_name": "DescriptionStyleModel",
      "state": {
       "description_width": ""
      }
     },
     "4932299209e647a89f0d50f42096a29e": {
      "model_module": "@jupyter-widgets/base",
      "model_module_version": "1.2.0",
      "model_name": "LayoutModel",
      "state": {}
     },
     "4938ff651ded47b0bf3126dd8d869b97": {
      "model_module": "@jupyter-widgets/controls",
      "model_module_version": "1.5.0",
      "model_name": "DescriptionStyleModel",
      "state": {
       "description_width": ""
      }
     },
     "49534b32bdee4a29b85b6557b12766eb": {
      "model_module": "@jupyter-widgets/controls",
      "model_module_version": "1.5.0",
      "model_name": "FloatProgressModel",
      "state": {
       "bar_style": "success",
       "layout": "IPY_MODEL_5eb362ad1162420fae441b9edd26390a",
       "max": 1,
       "style": "IPY_MODEL_f15037f16f7349bfba1dfab048943cb4",
       "value": 1
      }
     },
     "4964775ef783489cac8f2990a270678a": {
      "model_module": "@jupyter-widgets/controls",
      "model_module_version": "1.5.0",
      "model_name": "HTMLModel",
      "state": {
       "layout": "IPY_MODEL_71edf2ed38424841ba99464d8a7d3008",
       "style": "IPY_MODEL_7a1340182d52469baa6ea264f23c3547",
       "value": " 1/1 [00:00&lt;00:00, 66.61it/s]"
      }
     },
     "49753702d8bb4730b6637cb4cd5d4bf4": {
      "model_module": "@jupyter-widgets/controls",
      "model_module_version": "1.5.0",
      "model_name": "FloatProgressModel",
      "state": {
       "bar_style": "success",
       "layout": "IPY_MODEL_749be08b7869425aa264ede40e315c39",
       "max": 28,
       "style": "IPY_MODEL_f89b710210864ff4838505faa75d8155",
       "value": 28
      }
     },
     "4975be51b86f4b6a8ffd8058530047dc": {
      "model_module": "@jupyter-widgets/controls",
      "model_module_version": "1.5.0",
      "model_name": "HBoxModel",
      "state": {
       "children": [
        "IPY_MODEL_82863196332c439ca2de329a1e9ea14c",
        "IPY_MODEL_ebc80835b4374672b132e1b763616434",
        "IPY_MODEL_bfea022195d34cfd8221a010ff3d6f69"
       ],
       "layout": "IPY_MODEL_eacefdf445d444f6bd29d52f4e75e205"
      }
     },
     "4978aa49747c462f908fe0a7a72c337e": {
      "model_module": "@jupyter-widgets/controls",
      "model_module_version": "1.5.0",
      "model_name": "FloatProgressModel",
      "state": {
       "bar_style": "danger",
       "layout": "IPY_MODEL_8d1b97296044492eb9a13e7ac2329fb2",
       "style": "IPY_MODEL_42729324760c41bbadf555068fd8649b"
      }
     },
     "49aadf77ff894e2abaf807c79aceb886": {
      "model_module": "@jupyter-widgets/controls",
      "model_module_version": "1.5.0",
      "model_name": "HBoxModel",
      "state": {
       "children": [
        "IPY_MODEL_7f6bef0422a6424a92eccdcc065ae3ed",
        "IPY_MODEL_729aec4ef7ae4ab5831a954766084534",
        "IPY_MODEL_fb22d1867fd5427d85b2cebbfbc1824e"
       ],
       "layout": "IPY_MODEL_6f58b316e33c4abda508ba1af3f04ae9"
      }
     },
     "49c6a7a198304a638f250b02d8481aeb": {
      "model_module": "@jupyter-widgets/base",
      "model_module_version": "1.2.0",
      "model_name": "LayoutModel",
      "state": {}
     },
     "49d5183947a94f44863fac1767586f41": {
      "model_module": "@jupyter-widgets/base",
      "model_module_version": "1.2.0",
      "model_name": "LayoutModel",
      "state": {}
     },
     "49dace75a5714c84a3f93abcc2960d40": {
      "model_module": "@jupyter-widgets/base",
      "model_module_version": "1.2.0",
      "model_name": "LayoutModel",
      "state": {}
     },
     "49e45b77ddec4bcf9fc374370e697050": {
      "model_module": "@jupyter-widgets/controls",
      "model_module_version": "1.5.0",
      "model_name": "HTMLModel",
      "state": {
       "layout": "IPY_MODEL_4351442a71414fe4b6337a3fd6619ccf",
       "style": "IPY_MODEL_bd9adb9419fd4fd3a7e944152f66d2a1",
       "value": "100%"
      }
     },
     "49e8546f5ba940259526a3ea80a3052f": {
      "model_module": "@jupyter-widgets/base",
      "model_module_version": "1.2.0",
      "model_name": "LayoutModel",
      "state": {}
     },
     "49e96fda2a1c49059668a631ebaabf7f": {
      "model_module": "@jupyter-widgets/base",
      "model_module_version": "1.2.0",
      "model_name": "LayoutModel",
      "state": {}
     },
     "49f0b280dc5e4fd7b0974d1c1e8b7aee": {
      "model_module": "@jupyter-widgets/base",
      "model_module_version": "1.2.0",
      "model_name": "LayoutModel",
      "state": {}
     },
     "4a08c5a4e2a24f45becbb014bf704532": {
      "model_module": "@jupyter-widgets/base",
      "model_module_version": "1.2.0",
      "model_name": "LayoutModel",
      "state": {}
     },
     "4a19522deb374c9bb340c7b5f69b9d4b": {
      "model_module": "@jupyter-widgets/controls",
      "model_module_version": "1.5.0",
      "model_name": "DescriptionStyleModel",
      "state": {
       "description_width": ""
      }
     },
     "4a399b3a7c504607946d0538960f52a9": {
      "model_module": "@jupyter-widgets/controls",
      "model_module_version": "1.5.0",
      "model_name": "ProgressStyleModel",
      "state": {
       "description_width": ""
      }
     },
     "4a3db764520845cca9015509b9bd23c3": {
      "model_module": "@jupyter-widgets/controls",
      "model_module_version": "1.5.0",
      "model_name": "FloatProgressModel",
      "state": {
       "bar_style": "success",
       "layout": "IPY_MODEL_28f5f2606a8b483aa6e4c06dcd11e974",
       "max": 1,
       "style": "IPY_MODEL_b5fdb85650a148b5821ffbb28cf783f8",
       "value": 1
      }
     },
     "4a663b130e3b4fc5a38dbbe3f9b32d31": {
      "model_module": "@jupyter-widgets/base",
      "model_module_version": "1.2.0",
      "model_name": "LayoutModel",
      "state": {}
     },
     "4a832fb3583f4d189a0b26b91dadb34f": {
      "model_module": "@jupyter-widgets/controls",
      "model_module_version": "1.5.0",
      "model_name": "HTMLModel",
      "state": {
       "layout": "IPY_MODEL_120ee62f263d461c88aa70d7d6dc3d0e",
       "style": "IPY_MODEL_7152bee118294ff1b980b1e67c87ac64",
       "value": " 100/100 [04:12&lt;00:00,  2.46s/it]"
      }
     },
     "4a8c775b9762401889904a78659f9d1a": {
      "model_module": "@jupyter-widgets/base",
      "model_module_version": "1.2.0",
      "model_name": "LayoutModel",
      "state": {}
     },
     "4a90e5c38cfb46e4bebae1400825f99d": {
      "model_module": "@jupyter-widgets/controls",
      "model_module_version": "1.5.0",
      "model_name": "ProgressStyleModel",
      "state": {
       "description_width": ""
      }
     },
     "4a974152063f408fab3fd9775673e83c": {
      "model_module": "@jupyter-widgets/controls",
      "model_module_version": "1.5.0",
      "model_name": "DescriptionStyleModel",
      "state": {
       "description_width": ""
      }
     },
     "4aafdcc8f04842b192f85cd7bf6baa82": {
      "model_module": "@jupyter-widgets/base",
      "model_module_version": "1.2.0",
      "model_name": "LayoutModel",
      "state": {}
     },
     "4ac2075c77b347f2abdd87d35e84a800": {
      "model_module": "@jupyter-widgets/base",
      "model_module_version": "1.2.0",
      "model_name": "LayoutModel",
      "state": {}
     },
     "4ac9692afcfc42488f2fd7933c3fc4ad": {
      "model_module": "@jupyter-widgets/base",
      "model_module_version": "1.2.0",
      "model_name": "LayoutModel",
      "state": {}
     },
     "4adb998eba6a49d6b6cd2b35d07f117f": {
      "model_module": "@jupyter-widgets/controls",
      "model_module_version": "1.5.0",
      "model_name": "HBoxModel",
      "state": {
       "children": [
        "IPY_MODEL_9fcdcc998cb1408d83621c561688b3fc",
        "IPY_MODEL_96a22e51b5004b6f9b9c222c425c9b73",
        "IPY_MODEL_cf6919d376934294804f76db3c1539e6"
       ],
       "layout": "IPY_MODEL_2399ae5a98eb4bd5aa652ee9f302ec46"
      }
     },
     "4b0f1b0948c046168ab1380f39231acc": {
      "model_module": "@jupyter-widgets/base",
      "model_module_version": "1.2.0",
      "model_name": "LayoutModel",
      "state": {}
     },
     "4b3a9e2502464350aac4ddde6c1a186a": {
      "model_module": "@jupyter-widgets/controls",
      "model_module_version": "1.5.0",
      "model_name": "FloatProgressModel",
      "state": {
       "bar_style": "success",
       "layout": "IPY_MODEL_aa2e4d83f2b740bbad40605b7b9cf31b",
       "style": "IPY_MODEL_edbfa9d822724589b15dbf9a2a65275e",
       "value": 100
      }
     },
     "4b3ccdba70134deb91b3ae6f3dd6dc08": {
      "model_module": "@jupyter-widgets/base",
      "model_module_version": "1.2.0",
      "model_name": "LayoutModel",
      "state": {}
     },
     "4b5b4ec38ae1483dbb52314b822eb589": {
      "model_module": "@jupyter-widgets/controls",
      "model_module_version": "1.5.0",
      "model_name": "HTMLModel",
      "state": {
       "layout": "IPY_MODEL_5bfcb757dead416996d19524dfe35467",
       "style": "IPY_MODEL_1a54bb7f4fa841bb90db9716e9e57d5f",
       "value": " 1/1 [00:02&lt;00:00,  2.23s/ba]"
      }
     },
     "4b6899b255cd48428d05b9958e524797": {
      "model_module": "@jupyter-widgets/controls",
      "model_module_version": "1.5.0",
      "model_name": "HTMLModel",
      "state": {
       "layout": "IPY_MODEL_d7c8c80158de4e5fbf4f48beafc1a725",
       "style": "IPY_MODEL_478fc0722eb04bff8d77f0882977556c",
       "value": " 1/1 [00:00&lt;00:00, 62.44it/s]"
      }
     },
     "4bbb1a24568e44e2bdefae07281385b8": {
      "model_module": "@jupyter-widgets/controls",
      "model_module_version": "1.5.0",
      "model_name": "HTMLModel",
      "state": {
       "layout": "IPY_MODEL_c4e34cf35fff49859eabbe82e83c1bfb",
       "style": "IPY_MODEL_413c6d0889a84c97be6988ba952db4a0",
       "value": "100%"
      }
     },
     "4bbff7c018b44e919c3648aac96b457c": {
      "model_module": "@jupyter-widgets/base",
      "model_module_version": "1.2.0",
      "model_name": "LayoutModel",
      "state": {}
     },
     "4bd357a2660a42f093e07a1bde1813d9": {
      "model_module": "@jupyter-widgets/controls",
      "model_module_version": "1.5.0",
      "model_name": "HTMLModel",
      "state": {
       "layout": "IPY_MODEL_655bfb2b1800437789b5430cd98b79c3",
       "style": "IPY_MODEL_42df0f225a6b40c58fe9f52cdff1e24a",
       "value": " 0/100 [00:08&lt;?, ?it/s]"
      }
     },
     "4bdca636f5444b83afea6609b0503366": {
      "model_module": "@jupyter-widgets/controls",
      "model_module_version": "1.5.0",
      "model_name": "DescriptionStyleModel",
      "state": {
       "description_width": ""
      }
     },
     "4c1bdfa2475542e2bac1c7094d91f242": {
      "model_module": "@jupyter-widgets/controls",
      "model_module_version": "1.5.0",
      "model_name": "HTMLModel",
      "state": {
       "layout": "IPY_MODEL_a3ec143b682a4a9c8fdb2f7458596e93",
       "style": "IPY_MODEL_72895c62272041668a101a06fe1bea3a",
       "value": " 133/133 [00:11&lt;00:00, 11.45ba/s]"
      }
     },
     "4c1c265bfd2a407a8bfed97350827cf5": {
      "model_module": "@jupyter-widgets/base",
      "model_module_version": "1.2.0",
      "model_name": "LayoutModel",
      "state": {}
     },
     "4c2a1009e7c84b0fab8262f2fea936c8": {
      "model_module": "@jupyter-widgets/controls",
      "model_module_version": "1.5.0",
      "model_name": "DescriptionStyleModel",
      "state": {
       "description_width": ""
      }
     },
     "4c3ffd5eab6c461188de51192e5eb422": {
      "model_module": "@jupyter-widgets/controls",
      "model_module_version": "1.5.0",
      "model_name": "ProgressStyleModel",
      "state": {
       "description_width": ""
      }
     },
     "4c400367d3b242e7a990eb8e233e80e3": {
      "model_module": "@jupyter-widgets/controls",
      "model_module_version": "1.5.0",
      "model_name": "ProgressStyleModel",
      "state": {
       "description_width": ""
      }
     },
     "4c50165a582f4dedb3ed7a72974f0202": {
      "model_module": "@jupyter-widgets/controls",
      "model_module_version": "1.5.0",
      "model_name": "FloatProgressModel",
      "state": {
       "bar_style": "success",
       "layout": "IPY_MODEL_5958e65776f04b1186b4317cdeece3f8",
       "max": 1,
       "style": "IPY_MODEL_a2e9a3d0ec3145b98488e095608f337d",
       "value": 1
      }
     },
     "4c5f57848da445209be214bd8155ce77": {
      "model_module": "@jupyter-widgets/controls",
      "model_module_version": "1.5.0",
      "model_name": "HTMLModel",
      "state": {
       "layout": "IPY_MODEL_b64b61a424af4815b0dd9b576a6fdce2",
       "style": "IPY_MODEL_a220097764654f04bd78a7d2366b17b4",
       "value": " 100/100 [10:26&lt;00:00,  6.27s/it]"
      }
     },
     "4c6195a7a4ec4ef4bb3c5da3805f990c": {
      "model_module": "@jupyter-widgets/controls",
      "model_module_version": "1.5.0",
      "model_name": "HBoxModel",
      "state": {
       "children": [
        "IPY_MODEL_a4337c6ad486433787c4c7b39f868c2e",
        "IPY_MODEL_b4eb8ded48334be2b44a0ae3d55e57b2",
        "IPY_MODEL_fe1e0682fd954575a1df10b0149f19e5"
       ],
       "layout": "IPY_MODEL_b302f9c1998e40399195e153665e9942"
      }
     },
     "4c836450b835416d91dbf233e2bc5f2e": {
      "model_module": "@jupyter-widgets/base",
      "model_module_version": "1.2.0",
      "model_name": "LayoutModel",
      "state": {}
     },
     "4cd0062c90f0474381aadef01e83c3d4": {
      "model_module": "@jupyter-widgets/controls",
      "model_module_version": "1.5.0",
      "model_name": "ProgressStyleModel",
      "state": {
       "description_width": ""
      }
     },
     "4cd11a7a6f8c4a47af4f8b5a3982f688": {
      "model_module": "@jupyter-widgets/controls",
      "model_module_version": "1.5.0",
      "model_name": "FloatProgressModel",
      "state": {
       "bar_style": "success",
       "layout": "IPY_MODEL_f08ee2e676c14e6c80d6a716e7c45cf4",
       "max": 1,
       "style": "IPY_MODEL_d355c39de8194431bf019f64ec2acbee",
       "value": 1
      }
     },
     "4ce5483bee3947baaaf34e45fbcf35f6": {
      "model_module": "@jupyter-widgets/controls",
      "model_module_version": "1.5.0",
      "model_name": "DescriptionStyleModel",
      "state": {
       "description_width": ""
      }
     },
     "4ce8a6ca4ed4448ea73e824acd004b2f": {
      "model_module": "@jupyter-widgets/controls",
      "model_module_version": "1.5.0",
      "model_name": "DescriptionStyleModel",
      "state": {
       "description_width": ""
      }
     },
     "4ceb644bd17d4339b52a333d1e9bd328": {
      "model_module": "@jupyter-widgets/controls",
      "model_module_version": "1.5.0",
      "model_name": "HTMLModel",
      "state": {
       "layout": "IPY_MODEL_1fdb60ceda29465ea48dc3cb994e5420",
       "style": "IPY_MODEL_090d309510274925a106613f24c60b65",
       "value": "100%"
      }
     },
     "4cebbed077a34af692596023e100d76d": {
      "model_module": "@jupyter-widgets/base",
      "model_module_version": "1.2.0",
      "model_name": "LayoutModel",
      "state": {}
     },
     "4cf4b1e9efc04aa9a8b17e1ca53ee1d8": {
      "model_module": "@jupyter-widgets/base",
      "model_module_version": "1.2.0",
      "model_name": "LayoutModel",
      "state": {}
     },
     "4cf6c32d0f2b480586ed0e0d65cbba01": {
      "model_module": "@jupyter-widgets/controls",
      "model_module_version": "1.5.0",
      "model_name": "HTMLModel",
      "state": {
       "layout": "IPY_MODEL_97722d050e9c42cfbea4558f5829f3c2",
       "style": "IPY_MODEL_7ede590b3dc64ffa9529f3497c31da74",
       "value": " 100/100 [11:59:04&lt;00:00, 431.44s/it]"
      }
     },
     "4cf98cae3f874e439bb344bd32d8eed1": {
      "model_module": "@jupyter-widgets/base",
      "model_module_version": "1.2.0",
      "model_name": "LayoutModel",
      "state": {}
     },
     "4d2af21f40b94b58b57fbe80d5bbd093": {
      "model_module": "@jupyter-widgets/controls",
      "model_module_version": "1.5.0",
      "model_name": "FloatProgressModel",
      "state": {
       "bar_style": "success",
       "layout": "IPY_MODEL_deea33468b2f4afb9aaca7c2444d3a3e",
       "style": "IPY_MODEL_f8cba93990b040d68affef46663554d2",
       "value": 100
      }
     },
     "4d425aa7b157438291e3162d77a02471": {
      "model_module": "@jupyter-widgets/controls",
      "model_module_version": "1.5.0",
      "model_name": "HTMLModel",
      "state": {
       "layout": "IPY_MODEL_2dea4841649e4e3f8475f9dc1098672b",
       "style": "IPY_MODEL_297ae5f7021846ad948214d1bf80d7d3",
       "value": "100%"
      }
     },
     "4d9062fca8b4454abe1d096d93f61841": {
      "model_module": "@jupyter-widgets/base",
      "model_module_version": "1.2.0",
      "model_name": "LayoutModel",
      "state": {}
     },
     "4ddc10a605de420183c5045e0c3eb63b": {
      "model_module": "@jupyter-widgets/controls",
      "model_module_version": "1.5.0",
      "model_name": "HBoxModel",
      "state": {
       "children": [
        "IPY_MODEL_3f5ba9a7eccf42aea05d95c936085e41",
        "IPY_MODEL_400b5f6d8f1f4b199744f7fdca2be623",
        "IPY_MODEL_f143ef5d7f77431a849573a43edf1e2b"
       ],
       "layout": "IPY_MODEL_f39e379761d545b28d71511e8550f71b"
      }
     },
     "4de9b0a2eb624f3b89c0c5bcef738e62": {
      "model_module": "@jupyter-widgets/base",
      "model_module_version": "1.2.0",
      "model_name": "LayoutModel",
      "state": {}
     },
     "4e1b0cfa8839432291b1c6dd2856e645": {
      "model_module": "@jupyter-widgets/controls",
      "model_module_version": "1.5.0",
      "model_name": "FloatProgressModel",
      "state": {
       "bar_style": "success",
       "layout": "IPY_MODEL_3ebd81d336024bdc9f55490aaad4e54b",
       "max": 1,
       "style": "IPY_MODEL_f90981caf14d4c4d973f68d693217684",
       "value": 1
      }
     },
     "4e4141f7d41a499fabaa4e22eed7d43f": {
      "model_module": "@jupyter-widgets/base",
      "model_module_version": "1.2.0",
      "model_name": "LayoutModel",
      "state": {}
     },
     "4e4ca4dd5f3048c3b949c634822e80b1": {
      "model_module": "@jupyter-widgets/controls",
      "model_module_version": "1.5.0",
      "model_name": "HTMLModel",
      "state": {
       "layout": "IPY_MODEL_b1dfa900597041ac9a511b257aa13951",
       "style": "IPY_MODEL_4a974152063f408fab3fd9775673e83c",
       "value": "100%"
      }
     },
     "4e66404f259e49cca7185c714e171793": {
      "model_module": "@jupyter-widgets/controls",
      "model_module_version": "1.5.0",
      "model_name": "DescriptionStyleModel",
      "state": {
       "description_width": ""
      }
     },
     "4e8b465cbb0a4c79a5dd19927be6313d": {
      "model_module": "@jupyter-widgets/base",
      "model_module_version": "1.2.0",
      "model_name": "LayoutModel",
      "state": {}
     },
     "4e9596e8f60041d3bd817da01e6d78d6": {
      "model_module": "@jupyter-widgets/controls",
      "model_module_version": "1.5.0",
      "model_name": "FloatProgressModel",
      "state": {
       "bar_style": "success",
       "layout": "IPY_MODEL_708e4d5f510c45b6a2764adf67841d39",
       "max": 1,
       "style": "IPY_MODEL_42d0842d078f412ba92f0da83b047281",
       "value": 1
      }
     },
     "4ea937bf89bc477a899a210410703195": {
      "model_module": "@jupyter-widgets/controls",
      "model_module_version": "1.5.0",
      "model_name": "HTMLModel",
      "state": {
       "layout": "IPY_MODEL_08b64d46224e4b4eb2707a36768d3942",
       "style": "IPY_MODEL_0e0cf90493984194b5b78e0a4fe1521e",
       "value": " 0/100 [00:01&lt;?, ?it/s]"
      }
     },
     "4eb0242efc304b1cb7bff14c8de6dacc": {
      "model_module": "@jupyter-widgets/base",
      "model_module_version": "1.2.0",
      "model_name": "LayoutModel",
      "state": {}
     },
     "4ee6e8523ef74f19ad406f240ca39fa2": {
      "model_module": "@jupyter-widgets/controls",
      "model_module_version": "1.5.0",
      "model_name": "DescriptionStyleModel",
      "state": {
       "description_width": ""
      }
     },
     "4f067944343e46afb09cccfd364bf57c": {
      "model_module": "@jupyter-widgets/controls",
      "model_module_version": "1.5.0",
      "model_name": "FloatProgressModel",
      "state": {
       "bar_style": "success",
       "layout": "IPY_MODEL_8260eca6472e48c9928b81d1e293d874",
       "max": 1,
       "style": "IPY_MODEL_6254cf614cda4f918560e086d8bddeae",
       "value": 1
      }
     },
     "4f112605ebb44b2ab702acd56910db85": {
      "model_module": "@jupyter-widgets/base",
      "model_module_version": "1.2.0",
      "model_name": "LayoutModel",
      "state": {}
     },
     "4f193009d0404b0394aa563f3bca0a0f": {
      "model_module": "@jupyter-widgets/controls",
      "model_module_version": "1.5.0",
      "model_name": "ProgressStyleModel",
      "state": {
       "description_width": ""
      }
     },
     "4f23555dfe1b4f9a9e52c451a047cd35": {
      "model_module": "@jupyter-widgets/controls",
      "model_module_version": "1.5.0",
      "model_name": "FloatProgressModel",
      "state": {
       "bar_style": "danger",
       "layout": "IPY_MODEL_09a8feda5a1d4bb2bfb70b7ca1fa9b73",
       "style": "IPY_MODEL_8cc100ae90c344628745ac1e5420bc06"
      }
     },
     "4f394b12555d4062b96b7631a2d61216": {
      "model_module": "@jupyter-widgets/base",
      "model_module_version": "1.2.0",
      "model_name": "LayoutModel",
      "state": {}
     },
     "4f41946f6d8049a7bb38211f65cc7d78": {
      "model_module": "@jupyter-widgets/controls",
      "model_module_version": "1.5.0",
      "model_name": "HBoxModel",
      "state": {
       "children": [
        "IPY_MODEL_6447c360700e4ab084ab814b661e778e",
        "IPY_MODEL_38f3b8faf577491b9e24a8c01f40c0dd",
        "IPY_MODEL_709e13d363244a1ab73cc7aafb93d720"
       ],
       "layout": "IPY_MODEL_0082a57d73bf4ab481f693032c4db789"
      }
     },
     "4f55ca3adacc47f3851c1a561574f5f2": {
      "model_module": "@jupyter-widgets/controls",
      "model_module_version": "1.5.0",
      "model_name": "HBoxModel",
      "state": {
       "children": [
        "IPY_MODEL_263348ad3fba43d793e7f4726ea6a458",
        "IPY_MODEL_a635485883fc44d186532bc818cc4d59",
        "IPY_MODEL_18c409c52916497f98e1661bab3a4958"
       ],
       "layout": "IPY_MODEL_69f6c93000c2468383473b8a6eb0acb7"
      }
     },
     "4f6403fed15a4c87b9ee134ea216c437": {
      "model_module": "@jupyter-widgets/base",
      "model_module_version": "1.2.0",
      "model_name": "LayoutModel",
      "state": {}
     },
     "4f676b101c9347249219838dcee1c4c4": {
      "model_module": "@jupyter-widgets/controls",
      "model_module_version": "1.5.0",
      "model_name": "FloatProgressModel",
      "state": {
       "bar_style": "success",
       "layout": "IPY_MODEL_e08232a284dc42a89995d9feff1c2cc1",
       "max": 1,
       "style": "IPY_MODEL_0e05e9fa3a884391bfae830c2916e6f1",
       "value": 1
      }
     },
     "4f725a3cc46c4925a3e18f8bf8e8c0aa": {
      "model_module": "@jupyter-widgets/controls",
      "model_module_version": "1.5.0",
      "model_name": "DescriptionStyleModel",
      "state": {
       "description_width": ""
      }
     },
     "4f7d94f3a9fc4ef28e36eafbfec3ae9c": {
      "model_module": "@jupyter-widgets/base",
      "model_module_version": "1.2.0",
      "model_name": "LayoutModel",
      "state": {}
     },
     "4fac3f3703c04b2989551a89fd78fae1": {
      "model_module": "@jupyter-widgets/controls",
      "model_module_version": "1.5.0",
      "model_name": "ProgressStyleModel",
      "state": {
       "description_width": ""
      }
     },
     "4fbb06445eaf4372bfec946d312debf5": {
      "model_module": "@jupyter-widgets/controls",
      "model_module_version": "1.5.0",
      "model_name": "HTMLModel",
      "state": {
       "layout": "IPY_MODEL_e9b52694ef5a41a1b100d7b2ff1f3c7e",
       "style": "IPY_MODEL_975c599ec7004f0cb420635bbe1c6c05",
       "value": " 1/1 [00:02&lt;00:00,  2.10s/ba]"
      }
     },
     "4fc790be5696491fb7cdfb3c8c8c2e84": {
      "model_module": "@jupyter-widgets/controls",
      "model_module_version": "1.5.0",
      "model_name": "DescriptionStyleModel",
      "state": {
       "description_width": ""
      }
     },
     "4fcae0a2960e492993b2efd62a702114": {
      "model_module": "@jupyter-widgets/controls",
      "model_module_version": "1.5.0",
      "model_name": "HTMLModel",
      "state": {
       "layout": "IPY_MODEL_7eba0bce338741da9ff5dba3baa51ee3",
       "style": "IPY_MODEL_d1a97130ee4b4d17abfc39ebbe45711e",
       "value": "100%"
      }
     },
     "4fcf49b328204fe588e2fd888fd9492d": {
      "model_module": "@jupyter-widgets/controls",
      "model_module_version": "1.5.0",
      "model_name": "DescriptionStyleModel",
      "state": {
       "description_width": ""
      }
     },
     "4fd442dcffd5457b884b77dd2fc34faf": {
      "model_module": "@jupyter-widgets/base",
      "model_module_version": "1.2.0",
      "model_name": "LayoutModel",
      "state": {}
     },
     "4fdd02cf8aeb4076af6aedb18a3e2b6c": {
      "model_module": "@jupyter-widgets/controls",
      "model_module_version": "1.5.0",
      "model_name": "ProgressStyleModel",
      "state": {
       "description_width": ""
      }
     },
     "4ff13def209847be9d29c00346958f30": {
      "model_module": "@jupyter-widgets/controls",
      "model_module_version": "1.5.0",
      "model_name": "HTMLModel",
      "state": {
       "layout": "IPY_MODEL_41b940d4486b449d9d997a8a776373b5",
       "style": "IPY_MODEL_51eb20676c454641992fc75bb0be6944",
       "value": "100%"
      }
     },
     "4ff65e13ad954de28c17ee3860a75e5c": {
      "model_module": "@jupyter-widgets/controls",
      "model_module_version": "1.5.0",
      "model_name": "HTMLModel",
      "state": {
       "layout": "IPY_MODEL_5ff3d8df341f482e998d49f020e9367a",
       "style": "IPY_MODEL_ef0f13a186b8479fa6abae5337d2610c",
       "value": " 1/1 [00:00&lt;00:00, 90.82it/s]"
      }
     },
     "4ffc2f661b9b4178a24b8d6d3e2bd3d8": {
      "model_module": "@jupyter-widgets/controls",
      "model_module_version": "1.5.0",
      "model_name": "DescriptionStyleModel",
      "state": {
       "description_width": ""
      }
     },
     "501343a220d94def980af8e0044e0bdc": {
      "model_module": "@jupyter-widgets/controls",
      "model_module_version": "1.5.0",
      "model_name": "DescriptionStyleModel",
      "state": {
       "description_width": ""
      }
     },
     "504c1cd031b945f08c661d142e774d4b": {
      "model_module": "@jupyter-widgets/base",
      "model_module_version": "1.2.0",
      "model_name": "LayoutModel",
      "state": {}
     },
     "50784b53f4184bcaaaeec52afefa1509": {
      "model_module": "@jupyter-widgets/controls",
      "model_module_version": "1.5.0",
      "model_name": "HBoxModel",
      "state": {
       "children": [
        "IPY_MODEL_860415099ac4447cb57ec382f18c3ef2",
        "IPY_MODEL_9a934aa2dfa64241b7c25f61cca95fbd",
        "IPY_MODEL_07f23ab278d64ccd880df985c0706fe5"
       ],
       "layout": "IPY_MODEL_aeda675137bf4b43be0dff5bb6ca65ee"
      }
     },
     "50a747d39d6142fe84265c78c47f7ccd": {
      "model_module": "@jupyter-widgets/base",
      "model_module_version": "1.2.0",
      "model_name": "LayoutModel",
      "state": {}
     },
     "50cd8b9b1f184b978ed8a890f0d96587": {
      "model_module": "@jupyter-widgets/base",
      "model_module_version": "1.2.0",
      "model_name": "LayoutModel",
      "state": {}
     },
     "50f26216dfd8403fb9b5ccedd9d265b0": {
      "model_module": "@jupyter-widgets/base",
      "model_module_version": "1.2.0",
      "model_name": "LayoutModel",
      "state": {}
     },
     "510a060c390944a8b4f72f941ac0cfa4": {
      "model_module": "@jupyter-widgets/base",
      "model_module_version": "1.2.0",
      "model_name": "LayoutModel",
      "state": {}
     },
     "515c9fdb448a4337a2737ef6b981a8a9": {
      "model_module": "@jupyter-widgets/controls",
      "model_module_version": "1.5.0",
      "model_name": "HTMLModel",
      "state": {
       "layout": "IPY_MODEL_c4c495930d4f44709b905794982b877f",
       "style": "IPY_MODEL_2843fef0c3764b799df1c0c6f7fd9bdf",
       "value": "100%"
      }
     },
     "516acc24509e4facbc5c00293688119b": {
      "model_module": "@jupyter-widgets/base",
      "model_module_version": "1.2.0",
      "model_name": "LayoutModel",
      "state": {}
     },
     "51956b827d94469f88c64c231e10129a": {
      "model_module": "@jupyter-widgets/controls",
      "model_module_version": "1.5.0",
      "model_name": "DescriptionStyleModel",
      "state": {
       "description_width": ""
      }
     },
     "51c1ce8f68ea4935a581486045e1fcec": {
      "model_module": "@jupyter-widgets/controls",
      "model_module_version": "1.5.0",
      "model_name": "DescriptionStyleModel",
      "state": {
       "description_width": ""
      }
     },
     "51eb20676c454641992fc75bb0be6944": {
      "model_module": "@jupyter-widgets/controls",
      "model_module_version": "1.5.0",
      "model_name": "DescriptionStyleModel",
      "state": {
       "description_width": ""
      }
     },
     "51f547f77fc54ee988d9e0cd06cc3349": {
      "model_module": "@jupyter-widgets/base",
      "model_module_version": "1.2.0",
      "model_name": "LayoutModel",
      "state": {}
     },
     "521074fb2139418c9835a50d6eb6903b": {
      "model_module": "@jupyter-widgets/controls",
      "model_module_version": "1.5.0",
      "model_name": "HTMLModel",
      "state": {
       "layout": "IPY_MODEL_e962f9165d9447cdb4bffc9994a01b69",
       "style": "IPY_MODEL_5b4f31421dc24eb98bfe07a88b331fbc",
       "value": "100%"
      }
     },
     "522a5d9a35794c09a0affd1f4e1126d4": {
      "model_module": "@jupyter-widgets/controls",
      "model_module_version": "1.5.0",
      "model_name": "ProgressStyleModel",
      "state": {
       "description_width": ""
      }
     },
     "52310d223b9c41c9b33524a759f60e64": {
      "model_module": "@jupyter-widgets/base",
      "model_module_version": "1.2.0",
      "model_name": "LayoutModel",
      "state": {}
     },
     "5264a13720d3406abd52f1dac7fbb53f": {
      "model_module": "@jupyter-widgets/base",
      "model_module_version": "1.2.0",
      "model_name": "LayoutModel",
      "state": {}
     },
     "5272e4d38f854a6999bf39a406be87cf": {
      "model_module": "@jupyter-widgets/base",
      "model_module_version": "1.2.0",
      "model_name": "LayoutModel",
      "state": {}
     },
     "5290f3366cb74dccb893cfb320e6dfdc": {
      "model_module": "@jupyter-widgets/base",
      "model_module_version": "1.2.0",
      "model_name": "LayoutModel",
      "state": {}
     },
     "52bc191b20f3452da627344b890af856": {
      "model_module": "@jupyter-widgets/controls",
      "model_module_version": "1.5.0",
      "model_name": "HTMLModel",
      "state": {
       "layout": "IPY_MODEL_52fb065bd03740c5a4298a1abc7fa5b7",
       "style": "IPY_MODEL_bff2b84f77a848e6b430d786afad360d",
       "value": "100%"
      }
     },
     "52bcc2d602924910ab17065db3355cd0": {
      "model_module": "@jupyter-widgets/base",
      "model_module_version": "1.2.0",
      "model_name": "LayoutModel",
      "state": {}
     },
     "52bd0ea3d5a04d8b8f441531fa89be6d": {
      "model_module": "@jupyter-widgets/base",
      "model_module_version": "1.2.0",
      "model_name": "LayoutModel",
      "state": {}
     },
     "52cbdb14cd9240cd8c3912244bf79489": {
      "model_module": "@jupyter-widgets/controls",
      "model_module_version": "1.5.0",
      "model_name": "FloatProgressModel",
      "state": {
       "bar_style": "success",
       "layout": "IPY_MODEL_b3cea330be19413b9397a1a284f34139",
       "max": 1,
       "style": "IPY_MODEL_0309232bdd1c4890b3b5c6195109ea68",
       "value": 1
      }
     },
     "52ee3aabe9694c1c8087305423cf5ea7": {
      "model_module": "@jupyter-widgets/base",
      "model_module_version": "1.2.0",
      "model_name": "LayoutModel",
      "state": {}
     },
     "52fb065bd03740c5a4298a1abc7fa5b7": {
      "model_module": "@jupyter-widgets/base",
      "model_module_version": "1.2.0",
      "model_name": "LayoutModel",
      "state": {}
     },
     "531c741185124c51876ecee493b4e4da": {
      "model_module": "@jupyter-widgets/base",
      "model_module_version": "1.2.0",
      "model_name": "LayoutModel",
      "state": {}
     },
     "5328d58212bc44d8ab924f1529952aa2": {
      "model_module": "@jupyter-widgets/controls",
      "model_module_version": "1.5.0",
      "model_name": "ProgressStyleModel",
      "state": {
       "description_width": ""
      }
     },
     "5335996e05b042b685a0cb7cf3118bc1": {
      "model_module": "@jupyter-widgets/base",
      "model_module_version": "1.2.0",
      "model_name": "LayoutModel",
      "state": {}
     },
     "534d11f995c1424088a2baad519c3468": {
      "model_module": "@jupyter-widgets/controls",
      "model_module_version": "1.5.0",
      "model_name": "ProgressStyleModel",
      "state": {
       "description_width": ""
      }
     },
     "535720a2f793461da1696bc988368cca": {
      "model_module": "@jupyter-widgets/controls",
      "model_module_version": "1.5.0",
      "model_name": "HBoxModel",
      "state": {
       "children": [
        "IPY_MODEL_5418a1d949c3466fa49cf79cd173c414",
        "IPY_MODEL_a230205657e343419126addf64a70ff7",
        "IPY_MODEL_af3c94deda0c48dfb64cae55df8388f9"
       ],
       "layout": "IPY_MODEL_fc05a2b705b84ace82d47241c2edd606"
      }
     },
     "535eb292e8bd471986cd3a6eff2598ba": {
      "model_module": "@jupyter-widgets/controls",
      "model_module_version": "1.5.0",
      "model_name": "HTMLModel",
      "state": {
       "layout": "IPY_MODEL_261ff63dc6744f079fd5c6ef925cc72d",
       "style": "IPY_MODEL_14005a6bd94246fbaea8183476fb2bf4",
       "value": "100%"
      }
     },
     "538c173dec99401da638ccebb5671093": {
      "model_module": "@jupyter-widgets/controls",
      "model_module_version": "1.5.0",
      "model_name": "DescriptionStyleModel",
      "state": {
       "description_width": ""
      }
     },
     "539792181bd3472f90527411cb639bf8": {
      "model_module": "@jupyter-widgets/controls",
      "model_module_version": "1.5.0",
      "model_name": "ProgressStyleModel",
      "state": {
       "description_width": ""
      }
     },
     "53985e8a5810474893110c9fd3746272": {
      "model_module": "@jupyter-widgets/controls",
      "model_module_version": "1.5.0",
      "model_name": "HTMLModel",
      "state": {
       "layout": "IPY_MODEL_152b10c64ad947fd8a529a75bab4f662",
       "style": "IPY_MODEL_0c3acec1598a4f35bb7609b829b6ac4c",
       "value": " 1/1 [00:00&lt;00:00, 99.91it/s]"
      }
     },
     "53b6f6589bc64137be6dce995a10aec3": {
      "model_module": "@jupyter-widgets/base",
      "model_module_version": "1.2.0",
      "model_name": "LayoutModel",
      "state": {}
     },
     "53dcb369407a4b0a83f0cf911ae242e7": {
      "model_module": "@jupyter-widgets/base",
      "model_module_version": "1.2.0",
      "model_name": "LayoutModel",
      "state": {}
     },
     "53e3d9e32a3548c8b32a1e9e17230934": {
      "model_module": "@jupyter-widgets/controls",
      "model_module_version": "1.5.0",
      "model_name": "HTMLModel",
      "state": {
       "layout": "IPY_MODEL_3ce5a197a25143b792365343c37ede5f",
       "style": "IPY_MODEL_ae66264cd2634dc59da56172a8bc8a79",
       "value": " 100/100 [13:48&lt;00:00, 24.87s/it]"
      }
     },
     "5411ad49afd44c44b3148cbc93d44f99": {
      "model_module": "@jupyter-widgets/controls",
      "model_module_version": "1.5.0",
      "model_name": "FloatProgressModel",
      "state": {
       "bar_style": "success",
       "layout": "IPY_MODEL_f42dc7f32a1e4dbbaa1438beb1bda65e",
       "max": 1,
       "style": "IPY_MODEL_3136d5e4637a4c64b97f16c0e27b7d6a",
       "value": 1
      }
     },
     "5418a1d949c3466fa49cf79cd173c414": {
      "model_module": "@jupyter-widgets/controls",
      "model_module_version": "1.5.0",
      "model_name": "HTMLModel",
      "state": {
       "layout": "IPY_MODEL_a591a3aa1d2d4c8c9157b968478d2355",
       "style": "IPY_MODEL_dd4b6308ef984ad7ade3f136429447c4",
       "value": "100%"
      }
     },
     "542835c046c94e3486e74f1d23549208": {
      "model_module": "@jupyter-widgets/controls",
      "model_module_version": "1.5.0",
      "model_name": "HBoxModel",
      "state": {
       "children": [
        "IPY_MODEL_16a99d0e933642b3913b713efcdb2305",
        "IPY_MODEL_7aa5086bf94147a8979114e07df4c7a5",
        "IPY_MODEL_3183179180804dbc8271e0a483fcda3a"
       ],
       "layout": "IPY_MODEL_74f8ef90b92d4417b65869fea4abaa32"
      }
     },
     "542a8b9b9f4f420d850754c0867bdda1": {
      "model_module": "@jupyter-widgets/controls",
      "model_module_version": "1.5.0",
      "model_name": "DescriptionStyleModel",
      "state": {
       "description_width": ""
      }
     },
     "543596b6d36b428dbc8119e7903afa6f": {
      "model_module": "@jupyter-widgets/controls",
      "model_module_version": "1.5.0",
      "model_name": "ProgressStyleModel",
      "state": {
       "description_width": ""
      }
     },
     "544bfdce8ff64b38b280c2a3df1ff800": {
      "model_module": "@jupyter-widgets/base",
      "model_module_version": "1.2.0",
      "model_name": "LayoutModel",
      "state": {}
     },
     "544c4403c6b14d23b71015bb8228b212": {
      "model_module": "@jupyter-widgets/controls",
      "model_module_version": "1.5.0",
      "model_name": "DescriptionStyleModel",
      "state": {
       "description_width": ""
      }
     },
     "5452fae14abe47f29f17f937cf63ad45": {
      "model_module": "@jupyter-widgets/controls",
      "model_module_version": "1.5.0",
      "model_name": "FloatProgressModel",
      "state": {
       "bar_style": "success",
       "layout": "IPY_MODEL_aaabf6a59cd34dd985374d8cf4f106ed",
       "max": 1,
       "style": "IPY_MODEL_c56a624ebc5246a08da6b8492945f768",
       "value": 1
      }
     },
     "5458a4033d734b22898b7f4b9814d7c9": {
      "model_module": "@jupyter-widgets/controls",
      "model_module_version": "1.5.0",
      "model_name": "HBoxModel",
      "state": {
       "children": [
        "IPY_MODEL_af75d9fd391d458f975d20f66c1d6192",
        "IPY_MODEL_b5ba156bac2b421e858237ae8fc128f9",
        "IPY_MODEL_12e07a7aeaa24447937a4b366c70c391"
       ],
       "layout": "IPY_MODEL_fe92418408ae41cc9b1cde8057e88b05"
      }
     },
     "5465c9abec5b481ca61229bb4f1cfb7f": {
      "model_module": "@jupyter-widgets/controls",
      "model_module_version": "1.5.0",
      "model_name": "HBoxModel",
      "state": {
       "children": [
        "IPY_MODEL_94a9504403414adeb671450b64691e40",
        "IPY_MODEL_82c2f1db3b744ef793a0ddc5bd0e346e",
        "IPY_MODEL_86c48da6c8ef483b847384dc1c081770"
       ],
       "layout": "IPY_MODEL_37c1ae5cd09b4be3bced50edb92ee999"
      }
     },
     "5475e02da79e41579764e0dc0c58dd85": {
      "model_module": "@jupyter-widgets/controls",
      "model_module_version": "1.5.0",
      "model_name": "HTMLModel",
      "state": {
       "layout": "IPY_MODEL_db756636b4504c9eb1234288b9631638",
       "style": "IPY_MODEL_00fd9d03512b4661b61c5626ba463ad1",
       "value": " 100/100 [03:49&lt;00:00,  2.37s/it]"
      }
     },
     "5477c14ae14a494a9a3ee857c82a86bd": {
      "model_module": "@jupyter-widgets/base",
      "model_module_version": "1.2.0",
      "model_name": "LayoutModel",
      "state": {}
     },
     "547b5b25303744c3be2c7809e3ee954a": {
      "model_module": "@jupyter-widgets/controls",
      "model_module_version": "1.5.0",
      "model_name": "HTMLModel",
      "state": {
       "layout": "IPY_MODEL_b32ad195f4c64f07adb644555ac1ae66",
       "style": "IPY_MODEL_7d4f538be5a94bd0951c147bdb3ab4bc",
       "value": "100%"
      }
     },
     "54b5809454ef42a38fe1ed5d961990c2": {
      "model_module": "@jupyter-widgets/base",
      "model_module_version": "1.2.0",
      "model_name": "LayoutModel",
      "state": {}
     },
     "54d85a688b104d0e8ee79d75c5d76a06": {
      "model_module": "@jupyter-widgets/base",
      "model_module_version": "1.2.0",
      "model_name": "LayoutModel",
      "state": {}
     },
     "54dcd520fe664bf7a44eaaf299ad7778": {
      "model_module": "@jupyter-widgets/controls",
      "model_module_version": "1.5.0",
      "model_name": "FloatProgressModel",
      "state": {
       "bar_style": "success",
       "layout": "IPY_MODEL_c7de0df7359b4eeea570f4933631ded4",
       "max": 1,
       "style": "IPY_MODEL_676ccda7ce984541a9347454abb9178a",
       "value": 1
      }
     },
     "54ef084c2c7e4ab39025c0d0ebe93f77": {
      "model_module": "@jupyter-widgets/controls",
      "model_module_version": "1.5.0",
      "model_name": "DescriptionStyleModel",
      "state": {
       "description_width": ""
      }
     },
     "54ff691aaf394ae78b3b2b4f09407623": {
      "model_module": "@jupyter-widgets/base",
      "model_module_version": "1.2.0",
      "model_name": "LayoutModel",
      "state": {}
     },
     "55359599dae645518711527105276b0b": {
      "model_module": "@jupyter-widgets/controls",
      "model_module_version": "1.5.0",
      "model_name": "HTMLModel",
      "state": {
       "layout": "IPY_MODEL_392ad127cf814bd4a57f422f50046c18",
       "style": "IPY_MODEL_5cdcbe16bd6644e5a505625742b03a96",
       "value": " 0/1 [00:00&lt;?, ?ba/s]"
      }
     },
     "553ed8f4c00d4084901eaf5a650f900f": {
      "model_module": "@jupyter-widgets/controls",
      "model_module_version": "1.5.0",
      "model_name": "HBoxModel",
      "state": {
       "children": [
        "IPY_MODEL_c57662ab56694f8fb3ce55e89f03afd6",
        "IPY_MODEL_923471d43e6e4fffaf29dcc12b7c5d3f",
        "IPY_MODEL_b32bca8cc6fe496aaba9b071a917cf34"
       ],
       "layout": "IPY_MODEL_6cd0c42cdc3b40f492b5724d34af6be2"
      }
     },
     "5593e90a580f498ca5c9dac59cd4fe71": {
      "model_module": "@jupyter-widgets/base",
      "model_module_version": "1.2.0",
      "model_name": "LayoutModel",
      "state": {}
     },
     "55c6903b3f654a75878de0912ea68c3a": {
      "model_module": "@jupyter-widgets/controls",
      "model_module_version": "1.5.0",
      "model_name": "HTMLModel",
      "state": {
       "layout": "IPY_MODEL_28b3b0b3b23746a08d74ae55a54655f5",
       "style": "IPY_MODEL_9686c3a1d539406b9850cea27d052c9d",
       "value": "100%"
      }
     },
     "55de84fc1e734f77b13aac67f7b52495": {
      "model_module": "@jupyter-widgets/controls",
      "model_module_version": "1.5.0",
      "model_name": "FloatProgressModel",
      "state": {
       "bar_style": "success",
       "layout": "IPY_MODEL_1116246bb3fb49b0a5306493cc007b34",
       "style": "IPY_MODEL_a1285009386a4d73a3e272bfd580d283",
       "value": 100
      }
     },
     "5603edbe2c814419b547d47ec21efef9": {
      "model_module": "@jupyter-widgets/base",
      "model_module_version": "1.2.0",
      "model_name": "LayoutModel",
      "state": {}
     },
     "56448ab75fa64665a402ddff3ed141a4": {
      "model_module": "@jupyter-widgets/controls",
      "model_module_version": "1.5.0",
      "model_name": "FloatProgressModel",
      "state": {
       "bar_style": "danger",
       "layout": "IPY_MODEL_bdfc1d6592204c5a93f4073a2bb15dbe",
       "style": "IPY_MODEL_1cff950f3f244393b522fe049109d8c1"
      }
     },
     "56513a111484485b9a657ef886a1b049": {
      "model_module": "@jupyter-widgets/controls",
      "model_module_version": "1.5.0",
      "model_name": "ProgressStyleModel",
      "state": {
       "description_width": ""
      }
     },
     "5651b8ddc3cc42639457e134438ac784": {
      "model_module": "@jupyter-widgets/base",
      "model_module_version": "1.2.0",
      "model_name": "LayoutModel",
      "state": {}
     },
     "5662fcb273b44a6f8ffa37a22975dd40": {
      "model_module": "@jupyter-widgets/controls",
      "model_module_version": "1.5.0",
      "model_name": "HTMLModel",
      "state": {
       "layout": "IPY_MODEL_e623016d77734c19bdbb7d78e1fcbc6a",
       "style": "IPY_MODEL_6c476ff49722445a822ed8aa30a6853a",
       "value": "100%"
      }
     },
     "56912b94e56047bf8c80950793b76f8e": {
      "model_module": "@jupyter-widgets/controls",
      "model_module_version": "1.5.0",
      "model_name": "DescriptionStyleModel",
      "state": {
       "description_width": ""
      }
     },
     "56c31d09e2a4414cbb923f5133743550": {
      "model_module": "@jupyter-widgets/controls",
      "model_module_version": "1.5.0",
      "model_name": "HBoxModel",
      "state": {
       "children": [
        "IPY_MODEL_987ff99ab102413cae9bd904fa313303",
        "IPY_MODEL_9c015fcdbbb04b1fa7ae9db30a983d27",
        "IPY_MODEL_db866724ee9043a696eaefac9b19aa52"
       ],
       "layout": "IPY_MODEL_a44ea59609c749cb97d6ddcb1000ddc6"
      }
     },
     "56da212874c7452a8a7c468134c698e8": {
      "model_module": "@jupyter-widgets/base",
      "model_module_version": "1.2.0",
      "model_name": "LayoutModel",
      "state": {}
     },
     "56eb5c67e6904c91923c2200f7cb1eab": {
      "model_module": "@jupyter-widgets/base",
      "model_module_version": "1.2.0",
      "model_name": "LayoutModel",
      "state": {}
     },
     "5703b03062654054be6bbdd70b12dbd5": {
      "model_module": "@jupyter-widgets/controls",
      "model_module_version": "1.5.0",
      "model_name": "HTMLModel",
      "state": {
       "layout": "IPY_MODEL_faee10ad976c432c9b439cc82b4e0501",
       "style": "IPY_MODEL_e8408aee32f044f8a4922157639c9c31",
       "value": " 100/100 [1:15:06&lt;00:00, 45.06s/it]"
      }
     },
     "57163bd8737d40e79cc51582b9b6cf58": {
      "model_module": "@jupyter-widgets/controls",
      "model_module_version": "1.5.0",
      "model_name": "DescriptionStyleModel",
      "state": {
       "description_width": ""
      }
     },
     "57193652eb63448badd95c608d701031": {
      "model_module": "@jupyter-widgets/base",
      "model_module_version": "1.2.0",
      "model_name": "LayoutModel",
      "state": {}
     },
     "571e594759db409b822363166fac25e7": {
      "model_module": "@jupyter-widgets/controls",
      "model_module_version": "1.5.0",
      "model_name": "ProgressStyleModel",
      "state": {
       "description_width": ""
      }
     },
     "5752334c4aab4b2daecd4b62aa312832": {
      "model_module": "@jupyter-widgets/base",
      "model_module_version": "1.2.0",
      "model_name": "LayoutModel",
      "state": {}
     },
     "5769d794652f4e4c884b38794d691506": {
      "model_module": "@jupyter-widgets/controls",
      "model_module_version": "1.5.0",
      "model_name": "ProgressStyleModel",
      "state": {
       "description_width": ""
      }
     },
     "576f98987a7c4193a32cd26970e4acf4": {
      "model_module": "@jupyter-widgets/controls",
      "model_module_version": "1.5.0",
      "model_name": "HBoxModel",
      "state": {
       "children": [
        "IPY_MODEL_f160b68b16dd4d8fb7f7ed190af3473e",
        "IPY_MODEL_3f5ddcabdb3844548ab230c853257b03",
        "IPY_MODEL_72dd8c23944e4c7285f4ed66deab31e7"
       ],
       "layout": "IPY_MODEL_0dad3a14b02443669e52784d047d3daa"
      }
     },
     "5775cfe40e384e49a864f2f90e994ade": {
      "model_module": "@jupyter-widgets/controls",
      "model_module_version": "1.5.0",
      "model_name": "FloatProgressModel",
      "state": {
       "bar_style": "success",
       "layout": "IPY_MODEL_42e34dac3883400486c783ae21993abb",
       "max": 1,
       "style": "IPY_MODEL_dfbea84519a540e18e4a4dc44f83125c",
       "value": 1
      }
     },
     "5777a6a7dff241e18152c187f8f8414c": {
      "model_module": "@jupyter-widgets/controls",
      "model_module_version": "1.5.0",
      "model_name": "HTMLModel",
      "state": {
       "layout": "IPY_MODEL_881be28740fb4440853e3d3edcfe0fc0",
       "style": "IPY_MODEL_db8b2388f2034f36963e921fef183c8a",
       "value": " 100/100 [18:53&lt;00:00,  9.61s/it]"
      }
     },
     "5780742e198e4c5f908eccd94423cf77": {
      "model_module": "@jupyter-widgets/controls",
      "model_module_version": "1.5.0",
      "model_name": "ProgressStyleModel",
      "state": {
       "description_width": ""
      }
     },
     "5780a277faed4dc09df191f26cee1e4e": {
      "model_module": "@jupyter-widgets/base",
      "model_module_version": "1.2.0",
      "model_name": "LayoutModel",
      "state": {}
     },
     "57922bb35bbe4514bfc08e67e5f00b00": {
      "model_module": "@jupyter-widgets/controls",
      "model_module_version": "1.5.0",
      "model_name": "FloatProgressModel",
      "state": {
       "bar_style": "success",
       "layout": "IPY_MODEL_8bb235d6e533402a98e55e634d4cc7b4",
       "max": 1,
       "style": "IPY_MODEL_26d9e49cdf564af5b59460cab50e6c43",
       "value": 1
      }
     },
     "579980cf55394e73a7327d03a7cbe333": {
      "model_module": "@jupyter-widgets/controls",
      "model_module_version": "1.5.0",
      "model_name": "HTMLModel",
      "state": {
       "layout": "IPY_MODEL_6a7831cc0f434a0395efe18939935392",
       "style": "IPY_MODEL_cb4a38969e8e4aa7a8ae4c2edfc7228e",
       "value": "100%"
      }
     },
     "57ac102249f94fcaa6395ba2e761706d": {
      "model_module": "@jupyter-widgets/controls",
      "model_module_version": "1.5.0",
      "model_name": "DescriptionStyleModel",
      "state": {
       "description_width": ""
      }
     },
     "57e0d46b87d04b44a160526d72e5d027": {
      "model_module": "@jupyter-widgets/controls",
      "model_module_version": "1.5.0",
      "model_name": "HBoxModel",
      "state": {
       "children": [
        "IPY_MODEL_8f0bd503d10946f28098ec3bf7d9488d",
        "IPY_MODEL_df13a042e2684820a2bb6b770b50f867",
        "IPY_MODEL_5d36be53f24b482097109973e819aa01"
       ],
       "layout": "IPY_MODEL_6f1c6a210fc748c6a34712097a2f61c0"
      }
     },
     "58369743de14484fad90b4c12a7c6e3a": {
      "model_module": "@jupyter-widgets/controls",
      "model_module_version": "1.5.0",
      "model_name": "FloatProgressModel",
      "state": {
       "bar_style": "success",
       "layout": "IPY_MODEL_ab5f41b30fad4059b4b7eb9c6ebc6f2d",
       "style": "IPY_MODEL_2f8f73f2c1584dea98bc8fa1f51efe5f",
       "value": 100
      }
     },
     "583a73d3dcc34a89a0883c288e405218": {
      "model_module": "@jupyter-widgets/controls",
      "model_module_version": "1.5.0",
      "model_name": "ProgressStyleModel",
      "state": {
       "description_width": ""
      }
     },
     "58418bacf9ca43e997e87c74f57d9767": {
      "model_module": "@jupyter-widgets/controls",
      "model_module_version": "1.5.0",
      "model_name": "ProgressStyleModel",
      "state": {
       "description_width": ""
      }
     },
     "5857b7f885114d4ba6f023f408a289a6": {
      "model_module": "@jupyter-widgets/base",
      "model_module_version": "1.2.0",
      "model_name": "LayoutModel",
      "state": {}
     },
     "585eeb848ef5442fb3fe4c40b8b688b6": {
      "model_module": "@jupyter-widgets/controls",
      "model_module_version": "1.5.0",
      "model_name": "HBoxModel",
      "state": {
       "children": [
        "IPY_MODEL_1f5e5a6aa00047ce9b8910605e3ada8f",
        "IPY_MODEL_5eca6d638c70480fa3f2f9150cde03e3",
        "IPY_MODEL_4cf6c32d0f2b480586ed0e0d65cbba01"
       ],
       "layout": "IPY_MODEL_b98a7e678ab546fe909316d34ce23c85"
      }
     },
     "5860647c34574ec28901791b89f81764": {
      "model_module": "@jupyter-widgets/controls",
      "model_module_version": "1.5.0",
      "model_name": "DescriptionStyleModel",
      "state": {
       "description_width": ""
      }
     },
     "58946772edfb4feb8d7929fabe198c51": {
      "model_module": "@jupyter-widgets/base",
      "model_module_version": "1.2.0",
      "model_name": "LayoutModel",
      "state": {}
     },
     "58a4d2eed3a04f72b2cbec63422154e7": {
      "model_module": "@jupyter-widgets/controls",
      "model_module_version": "1.5.0",
      "model_name": "HTMLModel",
      "state": {
       "layout": "IPY_MODEL_68547dce4fa6476aa535340d134a3863",
       "style": "IPY_MODEL_ba3d01ce994e435dbc7ca5eaa39546b3",
       "value": "  7%"
      }
     },
     "58bcb9f08f5c426db4d5e746ebf60b65": {
      "model_module": "@jupyter-widgets/controls",
      "model_module_version": "1.5.0",
      "model_name": "HTMLModel",
      "state": {
       "layout": "IPY_MODEL_d11f90ecc6254378865a05205960aa4a",
       "style": "IPY_MODEL_a344e698ac8b4d028d25165f1cb9a0f9",
       "value": "100%"
      }
     },
     "58bcc7075046437f83f9d7873e98c001": {
      "model_module": "@jupyter-widgets/controls",
      "model_module_version": "1.5.0",
      "model_name": "HTMLModel",
      "state": {
       "layout": "IPY_MODEL_b6473d2fee904a33a9146ee1ec11fc66",
       "style": "IPY_MODEL_b1c709a23f2840d0a802a017c9b84f58",
       "value": "Downloading: 100%"
      }
     },
     "58cdc9175cb842f6afa0094eb93a30bb": {
      "model_module": "@jupyter-widgets/base",
      "model_module_version": "1.2.0",
      "model_name": "LayoutModel",
      "state": {}
     },
     "58e91fff474841c7b799e1c6ccd4c868": {
      "model_module": "@jupyter-widgets/base",
      "model_module_version": "1.2.0",
      "model_name": "LayoutModel",
      "state": {}
     },
     "58f473c958164ff2a9bb229078f2b2a6": {
      "model_module": "@jupyter-widgets/base",
      "model_module_version": "1.2.0",
      "model_name": "LayoutModel",
      "state": {}
     },
     "5939aa1873b8454ab77faad866cb42ee": {
      "model_module": "@jupyter-widgets/controls",
      "model_module_version": "1.5.0",
      "model_name": "DescriptionStyleModel",
      "state": {
       "description_width": ""
      }
     },
     "5942304aa0004cdb8e00b7cea12678e7": {
      "model_module": "@jupyter-widgets/base",
      "model_module_version": "1.2.0",
      "model_name": "LayoutModel",
      "state": {}
     },
     "594975fb26f1473ba43bb26981f5b6c2": {
      "model_module": "@jupyter-widgets/controls",
      "model_module_version": "1.5.0",
      "model_name": "FloatProgressModel",
      "state": {
       "bar_style": "success",
       "layout": "IPY_MODEL_c32884ded5cb4b49930854cd46b51ecd",
       "max": 1,
       "style": "IPY_MODEL_4c400367d3b242e7a990eb8e233e80e3",
       "value": 1
      }
     },
     "594b3e5b7a0547fd973c47f5c2fc0611": {
      "model_module": "@jupyter-widgets/controls",
      "model_module_version": "1.5.0",
      "model_name": "HBoxModel",
      "state": {
       "children": [
        "IPY_MODEL_720cdf3126084780bdd400327b8a953b",
        "IPY_MODEL_bd72d2443bb247dd9672ad235a9c5a02",
        "IPY_MODEL_a8ecbb86b34949fab8617586e250650f"
       ],
       "layout": "IPY_MODEL_8c42a01db63e4f0e93cc06887df1f471"
      }
     },
     "5958e65776f04b1186b4317cdeece3f8": {
      "model_module": "@jupyter-widgets/base",
      "model_module_version": "1.2.0",
      "model_name": "LayoutModel",
      "state": {}
     },
     "59697f61e0044a6e8cfd39a1b928de9d": {
      "model_module": "@jupyter-widgets/base",
      "model_module_version": "1.2.0",
      "model_name": "LayoutModel",
      "state": {}
     },
     "596e6ba6e0674b28ada0a491283d20e9": {
      "model_module": "@jupyter-widgets/controls",
      "model_module_version": "1.5.0",
      "model_name": "DescriptionStyleModel",
      "state": {
       "description_width": ""
      }
     },
     "5989c85be8cb460496219c26d821c9e3": {
      "model_module": "@jupyter-widgets/controls",
      "model_module_version": "1.5.0",
      "model_name": "HTMLModel",
      "state": {
       "layout": "IPY_MODEL_1ed0cabffcf644e9bf34c59ecd3d30ce",
       "style": "IPY_MODEL_ba3107ba68c04ad7b70fc1f4fd95d48e",
       "value": "100%"
      }
     },
     "5992187157294216bc11d4cee2843f8a": {
      "model_module": "@jupyter-widgets/controls",
      "model_module_version": "1.5.0",
      "model_name": "HTMLModel",
      "state": {
       "layout": "IPY_MODEL_a58b5e49c89248eeace68df4439b5700",
       "style": "IPY_MODEL_60ff5e197a1243dd8eb71581e1934b11",
       "value": " 100/100 [06:41&lt;00:00,  3.02s/it]"
      }
     },
     "59b27694021e4f27859621f88e4d6dc6": {
      "model_module": "@jupyter-widgets/controls",
      "model_module_version": "1.5.0",
      "model_name": "HTMLModel",
      "state": {
       "layout": "IPY_MODEL_ffdc3bdae64b4e6ba92cd30eb593ca6a",
       "style": "IPY_MODEL_a2bd5bd64279425ea6c8ecdc2802fe85",
       "value": " 28.0/28.0 [00:00&lt;00:00, 2.54kB/s]"
      }
     },
     "59b9ed15e9ad4b118319fc7df2cc38ef": {
      "model_module": "@jupyter-widgets/controls",
      "model_module_version": "1.5.0",
      "model_name": "HTMLModel",
      "state": {
       "layout": "IPY_MODEL_222c78bb6c29405cb87f2c278bc77b34",
       "style": "IPY_MODEL_4902ceebc6cd4507ab830993ceb4b163",
       "value": " 1/1 [00:00&lt;00:00, 99.91it/s]"
      }
     },
     "59bde954f73e4dd7904261b671fed0fc": {
      "model_module": "@jupyter-widgets/controls",
      "model_module_version": "1.5.0",
      "model_name": "DescriptionStyleModel",
      "state": {
       "description_width": ""
      }
     },
     "59c8c972041a4192b2a82a034b341c3a": {
      "model_module": "@jupyter-widgets/controls",
      "model_module_version": "1.5.0",
      "model_name": "HBoxModel",
      "state": {
       "children": [
        "IPY_MODEL_e9d359932d244b8287858776d80cb171",
        "IPY_MODEL_4636db8e79424780b264fb843609e62d",
        "IPY_MODEL_10bd63f176d540ad84ab724de371768c"
       ],
       "layout": "IPY_MODEL_165ad69f5a394b5c9d7909f1e260f66f"
      }
     },
     "59ce0a9589924292920a30a362e3bee4": {
      "model_module": "@jupyter-widgets/controls",
      "model_module_version": "1.5.0",
      "model_name": "ProgressStyleModel",
      "state": {
       "description_width": ""
      }
     },
     "59e05fc0ef3d4ffcb0f1863d10eaa746": {
      "model_module": "@jupyter-widgets/controls",
      "model_module_version": "1.5.0",
      "model_name": "HBoxModel",
      "state": {
       "children": [
        "IPY_MODEL_4325c3cde3fc40349f4a6fd61505a71d",
        "IPY_MODEL_fc9b184fd3774074b0abdd37b3611cf2",
        "IPY_MODEL_3d56f942ca074cd9b666f120a4ea291d"
       ],
       "layout": "IPY_MODEL_d75daaf45b2a4572926807fcc5134f5f"
      }
     },
     "59e3433e993f4b028f01f1cea14be85f": {
      "model_module": "@jupyter-widgets/base",
      "model_module_version": "1.2.0",
      "model_name": "LayoutModel",
      "state": {}
     },
     "5a201f409c684b37be9348f7a2e58aa7": {
      "model_module": "@jupyter-widgets/base",
      "model_module_version": "1.2.0",
      "model_name": "LayoutModel",
      "state": {}
     },
     "5a27d94e25ef421e9502f8f8d45b232f": {
      "model_module": "@jupyter-widgets/base",
      "model_module_version": "1.2.0",
      "model_name": "LayoutModel",
      "state": {}
     },
     "5a2f7248d0664ad5a33e7c37d0cbefef": {
      "model_module": "@jupyter-widgets/controls",
      "model_module_version": "1.5.0",
      "model_name": "DescriptionStyleModel",
      "state": {
       "description_width": ""
      }
     },
     "5a2ff924f24d4f08bed344f00f6b9587": {
      "model_module": "@jupyter-widgets/controls",
      "model_module_version": "1.5.0",
      "model_name": "DescriptionStyleModel",
      "state": {
       "description_width": ""
      }
     },
     "5a320390fd0d44978ac1ddb5487ca6a0": {
      "model_module": "@jupyter-widgets/controls",
      "model_module_version": "1.5.0",
      "model_name": "HTMLModel",
      "state": {
       "layout": "IPY_MODEL_90dbcc125cf144d0b9eb3d9176970783",
       "style": "IPY_MODEL_27dfe2b0c69042a5ab54b078542b1c9c",
       "value": "  0%"
      }
     },
     "5a458f903c664e6985c087b8aafc9feb": {
      "model_module": "@jupyter-widgets/controls",
      "model_module_version": "1.5.0",
      "model_name": "FloatProgressModel",
      "state": {
       "bar_style": "danger",
       "layout": "IPY_MODEL_e56b9c4d7d3345cd85731fafaf990c23",
       "max": 133,
       "style": "IPY_MODEL_b9c51afbdf984c51897fcde0aa5a4583",
       "value": 29
      }
     },
     "5a4aa55c979a486b9e8e434fd748daa3": {
      "model_module": "@jupyter-widgets/controls",
      "model_module_version": "1.5.0",
      "model_name": "DescriptionStyleModel",
      "state": {
       "description_width": ""
      }
     },
     "5a70e23bf7a040909f0ca1f68adf7cc6": {
      "model_module": "@jupyter-widgets/controls",
      "model_module_version": "1.5.0",
      "model_name": "ProgressStyleModel",
      "state": {
       "description_width": ""
      }
     },
     "5a7e01457810438790abd6eb3589c6da": {
      "model_module": "@jupyter-widgets/base",
      "model_module_version": "1.2.0",
      "model_name": "LayoutModel",
      "state": {}
     },
     "5a7f27ae33dc4895917ddf64ef1d66e9": {
      "model_module": "@jupyter-widgets/controls",
      "model_module_version": "1.5.0",
      "model_name": "DescriptionStyleModel",
      "state": {
       "description_width": ""
      }
     },
     "5a7f48ae6b8d4415b15b7b8b21933bde": {
      "model_module": "@jupyter-widgets/controls",
      "model_module_version": "1.5.0",
      "model_name": "HTMLModel",
      "state": {
       "layout": "IPY_MODEL_b50e148214814ced83ceb7589ec5465e",
       "style": "IPY_MODEL_3b24e4d53a9d44d5a00580a82ffe718a",
       "value": " 22%"
      }
     },
     "5a8f335aa52a4685b1c6857878322e96": {
      "model_module": "@jupyter-widgets/controls",
      "model_module_version": "1.5.0",
      "model_name": "HBoxModel",
      "state": {
       "children": [
        "IPY_MODEL_41e3fa1941c943f4a1130d5d5801857e",
        "IPY_MODEL_fad06fed708048fc8958f0026636aa7c",
        "IPY_MODEL_08f1a7b96de74b3aa8b737e47865a7a7"
       ],
       "layout": "IPY_MODEL_115130ce1fa24c59a207c6e0562306a5"
      }
     },
     "5aa85974e709406d811152607a7bf8ab": {
      "model_module": "@jupyter-widgets/controls",
      "model_module_version": "1.5.0",
      "model_name": "ProgressStyleModel",
      "state": {
       "description_width": ""
      }
     },
     "5ab0f59494394dfda8411114f79f4e88": {
      "model_module": "@jupyter-widgets/controls",
      "model_module_version": "1.5.0",
      "model_name": "ProgressStyleModel",
      "state": {
       "description_width": ""
      }
     },
     "5aea8c3120aa42fe98940556f6c75074": {
      "model_module": "@jupyter-widgets/controls",
      "model_module_version": "1.5.0",
      "model_name": "DescriptionStyleModel",
      "state": {
       "description_width": ""
      }
     },
     "5af6432142814ce09c84e764d9519389": {
      "model_module": "@jupyter-widgets/base",
      "model_module_version": "1.2.0",
      "model_name": "LayoutModel",
      "state": {}
     },
     "5b0cb0f4817840b88ad59069d737503e": {
      "model_module": "@jupyter-widgets/controls",
      "model_module_version": "1.5.0",
      "model_name": "DescriptionStyleModel",
      "state": {
       "description_width": ""
      }
     },
     "5b0f621a0738443f8f5ae947367e9256": {
      "model_module": "@jupyter-widgets/base",
      "model_module_version": "1.2.0",
      "model_name": "LayoutModel",
      "state": {}
     },
     "5b16e9f910cc4062bcea8e44893c911a": {
      "model_module": "@jupyter-widgets/controls",
      "model_module_version": "1.5.0",
      "model_name": "DescriptionStyleModel",
      "state": {
       "description_width": ""
      }
     },
     "5b320c1948b3409db3c3449d4e121bed": {
      "model_module": "@jupyter-widgets/controls",
      "model_module_version": "1.5.0",
      "model_name": "FloatProgressModel",
      "state": {
       "bar_style": "success",
       "layout": "IPY_MODEL_da0bdbe50d4e465b93cdddda7b30c913",
       "style": "IPY_MODEL_ba35f727a7f44241824e1db656556fe6",
       "value": 100
      }
     },
     "5b3d085ca35a44aa82dd81ab29dc001b": {
      "model_module": "@jupyter-widgets/base",
      "model_module_version": "1.2.0",
      "model_name": "LayoutModel",
      "state": {}
     },
     "5b4881672f2d49ce80d4193d993589ab": {
      "model_module": "@jupyter-widgets/controls",
      "model_module_version": "1.5.0",
      "model_name": "HTMLModel",
      "state": {
       "layout": "IPY_MODEL_2fd71abd41d3424796646503355a84b7",
       "style": "IPY_MODEL_542a8b9b9f4f420d850754c0867bdda1",
       "value": " 1/1 [00:02&lt;00:00,  2.11s/ba]"
      }
     },
     "5b4f31421dc24eb98bfe07a88b331fbc": {
      "model_module": "@jupyter-widgets/controls",
      "model_module_version": "1.5.0",
      "model_name": "DescriptionStyleModel",
      "state": {
       "description_width": ""
      }
     },
     "5b80e62df3fc43c7a9c32c379585f649": {
      "model_module": "@jupyter-widgets/controls",
      "model_module_version": "1.5.0",
      "model_name": "HBoxModel",
      "state": {
       "children": [
        "IPY_MODEL_61f863ded7ff4a259d96af389d7df581",
        "IPY_MODEL_c56e3990ce8e4f14af60416744a2dc56",
        "IPY_MODEL_282fe4b4eb8d4aa895f838afb1cc7699"
       ],
       "layout": "IPY_MODEL_510a060c390944a8b4f72f941ac0cfa4"
      }
     },
     "5b82f864fb2d485f96a3ed1f1ae7ea94": {
      "model_module": "@jupyter-widgets/base",
      "model_module_version": "1.2.0",
      "model_name": "LayoutModel",
      "state": {}
     },
     "5b92cdf5a9994704818330f8a87ed41d": {
      "model_module": "@jupyter-widgets/base",
      "model_module_version": "1.2.0",
      "model_name": "LayoutModel",
      "state": {}
     },
     "5b941ffb90634c6083f45f99f588d971": {
      "model_module": "@jupyter-widgets/base",
      "model_module_version": "1.2.0",
      "model_name": "LayoutModel",
      "state": {}
     },
     "5b96802d6f244ee8a8954eb8dd6cdc4a": {
      "model_module": "@jupyter-widgets/base",
      "model_module_version": "1.2.0",
      "model_name": "LayoutModel",
      "state": {}
     },
     "5bb76e340c984d469cba594cf4a707ec": {
      "model_module": "@jupyter-widgets/controls",
      "model_module_version": "1.5.0",
      "model_name": "HTMLModel",
      "state": {
       "layout": "IPY_MODEL_e8bddd977af34c7f897f771c371e33fe",
       "style": "IPY_MODEL_3e49a48eb74b41b9a061a0154d236d9c",
       "value": "  0%"
      }
     },
     "5bb9074353bc4bacac449e68a7a0f0a2": {
      "model_module": "@jupyter-widgets/controls",
      "model_module_version": "1.5.0",
      "model_name": "HTMLModel",
      "state": {
       "layout": "IPY_MODEL_fbf6e4984a6d4687b116546d0468f594",
       "style": "IPY_MODEL_a941b849375243c8bd06caee3f730cf4",
       "value": "100%"
      }
     },
     "5bbec04657674400ab112fd289f3b8be": {
      "model_module": "@jupyter-widgets/controls",
      "model_module_version": "1.5.0",
      "model_name": "FloatProgressModel",
      "state": {
       "bar_style": "success",
       "layout": "IPY_MODEL_5d86cbe850d44e698786aef08a4829df",
       "style": "IPY_MODEL_02f02af896b24bf09a12923cafdabc24",
       "value": 100
      }
     },
     "5bf652a7eef449769fed9b556fb0350f": {
      "model_module": "@jupyter-widgets/controls",
      "model_module_version": "1.5.0",
      "model_name": "HTMLModel",
      "state": {
       "layout": "IPY_MODEL_055403782d46477c9fd0d4738784442d",
       "style": "IPY_MODEL_0441d86f12c74381bcf3ac3047631529",
       "value": " 1/1 [00:00&lt;00:00, 83.26it/s]"
      }
     },
     "5bfcb757dead416996d19524dfe35467": {
      "model_module": "@jupyter-widgets/base",
      "model_module_version": "1.2.0",
      "model_name": "LayoutModel",
      "state": {}
     },
     "5c22fa1327da4b5cadcc124c807be867": {
      "model_module": "@jupyter-widgets/controls",
      "model_module_version": "1.5.0",
      "model_name": "HBoxModel",
      "state": {
       "children": [
        "IPY_MODEL_354fc87378bd4ba3ab360d451e89d550",
        "IPY_MODEL_71a6bb520ac648879def660e686d77c9",
        "IPY_MODEL_d28b4d8988004e35be2c91a9264addfd"
       ],
       "layout": "IPY_MODEL_58946772edfb4feb8d7929fabe198c51"
      }
     },
     "5c493e05381949f6a5b7d4786c0ab12a": {
      "model_module": "@jupyter-widgets/base",
      "model_module_version": "1.2.0",
      "model_name": "LayoutModel",
      "state": {}
     },
     "5c51452d1559425cbaac44faf25759f0": {
      "model_module": "@jupyter-widgets/controls",
      "model_module_version": "1.5.0",
      "model_name": "DescriptionStyleModel",
      "state": {
       "description_width": ""
      }
     },
     "5c551138e9534d38b73a49adb56cd628": {
      "model_module": "@jupyter-widgets/base",
      "model_module_version": "1.2.0",
      "model_name": "LayoutModel",
      "state": {}
     },
     "5c6b1272d8d04597a9652bb3c870a69f": {
      "model_module": "@jupyter-widgets/base",
      "model_module_version": "1.2.0",
      "model_name": "LayoutModel",
      "state": {}
     },
     "5c70aa70be7c46c6993e3700aae118e3": {
      "model_module": "@jupyter-widgets/controls",
      "model_module_version": "1.5.0",
      "model_name": "FloatProgressModel",
      "state": {
       "bar_style": "success",
       "layout": "IPY_MODEL_fcf5df4a55034e8ab289be6abd4963cf",
       "max": 483,
       "style": "IPY_MODEL_d9f0ab050e764131b48a3b5fa54550b0",
       "value": 483
      }
     },
     "5ca7f69ce176454da3cbe5be7bf3bd76": {
      "model_module": "@jupyter-widgets/base",
      "model_module_version": "1.2.0",
      "model_name": "LayoutModel",
      "state": {}
     },
     "5cdcbe16bd6644e5a505625742b03a96": {
      "model_module": "@jupyter-widgets/controls",
      "model_module_version": "1.5.0",
      "model_name": "DescriptionStyleModel",
      "state": {
       "description_width": ""
      }
     },
     "5ce2f9071f2249298a1364a453e0870d": {
      "model_module": "@jupyter-widgets/base",
      "model_module_version": "1.2.0",
      "model_name": "LayoutModel",
      "state": {}
     },
     "5ce4223cecdc430da968e2150e3987af": {
      "model_module": "@jupyter-widgets/controls",
      "model_module_version": "1.5.0",
      "model_name": "DescriptionStyleModel",
      "state": {
       "description_width": ""
      }
     },
     "5d21f97d096f41ac9aa66b8a785c5dbd": {
      "model_module": "@jupyter-widgets/base",
      "model_module_version": "1.2.0",
      "model_name": "LayoutModel",
      "state": {}
     },
     "5d36be53f24b482097109973e819aa01": {
      "model_module": "@jupyter-widgets/controls",
      "model_module_version": "1.5.0",
      "model_name": "HTMLModel",
      "state": {
       "layout": "IPY_MODEL_3d00fad0c8e44e308069ae98d337895c",
       "style": "IPY_MODEL_dafce4beda864e2d98dfe18cc0780df3",
       "value": " 1/1 [00:00&lt;00:00, 90.82it/s]"
      }
     },
     "5d3781d0af9147d5b3ca71d2f71d06d9": {
      "model_module": "@jupyter-widgets/base",
      "model_module_version": "1.2.0",
      "model_name": "LayoutModel",
      "state": {}
     },
     "5d4f98a34bf1490baf49b790fb55ab9e": {
      "model_module": "@jupyter-widgets/controls",
      "model_module_version": "1.5.0",
      "model_name": "ProgressStyleModel",
      "state": {
       "description_width": ""
      }
     },
     "5d54356ff2ad4061a4ac8a4812c9a292": {
      "model_module": "@jupyter-widgets/base",
      "model_module_version": "1.2.0",
      "model_name": "LayoutModel",
      "state": {}
     },
     "5d55cb1220c94535a00c489c3d251330": {
      "model_module": "@jupyter-widgets/controls",
      "model_module_version": "1.5.0",
      "model_name": "DescriptionStyleModel",
      "state": {
       "description_width": ""
      }
     },
     "5d705f463b304dfab425bc0dad32663f": {
      "model_module": "@jupyter-widgets/controls",
      "model_module_version": "1.5.0",
      "model_name": "HTMLModel",
      "state": {
       "layout": "IPY_MODEL_1b9a9e8394914c0a86f4d5307656ee82",
       "style": "IPY_MODEL_92d098319cf74195aa046f8cf09d9e5a",
       "value": "100%"
      }
     },
     "5d86cbe850d44e698786aef08a4829df": {
      "model_module": "@jupyter-widgets/base",
      "model_module_version": "1.2.0",
      "model_name": "LayoutModel",
      "state": {}
     },
     "5d88267673b843f6ac5210c9da6d6190": {
      "model_module": "@jupyter-widgets/controls",
      "model_module_version": "1.5.0",
      "model_name": "HBoxModel",
      "state": {
       "children": [
        "IPY_MODEL_535eb292e8bd471986cd3a6eff2598ba",
        "IPY_MODEL_8749da0474f24064acac44f60b320b16",
        "IPY_MODEL_183b7900f7c4409fa9d294e5e9f92f47"
       ],
       "layout": "IPY_MODEL_306c8007c02c459984a435e00d238ea8"
      }
     },
     "5d98275caf5349bf8ceaa152ad9cd0d9": {
      "model_module": "@jupyter-widgets/controls",
      "model_module_version": "1.5.0",
      "model_name": "DescriptionStyleModel",
      "state": {
       "description_width": ""
      }
     },
     "5dad13696e9646f88e1b38b63899cbb4": {
      "model_module": "@jupyter-widgets/controls",
      "model_module_version": "1.5.0",
      "model_name": "ProgressStyleModel",
      "state": {
       "description_width": ""
      }
     },
     "5ddb72d005bd44b8a11e705ddc0cdc10": {
      "model_module": "@jupyter-widgets/controls",
      "model_module_version": "1.5.0",
      "model_name": "HTMLModel",
      "state": {
       "layout": "IPY_MODEL_a188a7195fda4d4e97d81d3a1c9a7321",
       "style": "IPY_MODEL_7a8d3606778f4573bdd73204eb14120d",
       "value": "100%"
      }
     },
     "5ddd3024b7d2441db5eff90db471caeb": {
      "model_module": "@jupyter-widgets/controls",
      "model_module_version": "1.5.0",
      "model_name": "HBoxModel",
      "state": {
       "children": [
        "IPY_MODEL_f1118ef48e8c40c698a8f6ebb61e717a",
        "IPY_MODEL_228cdba6e76c4e9f95089ba8f89a54d1",
        "IPY_MODEL_9781157cbcf2470e95f11897c3c7052b"
       ],
       "layout": "IPY_MODEL_5264a13720d3406abd52f1dac7fbb53f"
      }
     },
     "5dfe7e88001143eba00419f55a090e25": {
      "model_module": "@jupyter-widgets/controls",
      "model_module_version": "1.5.0",
      "model_name": "HTMLModel",
      "state": {
       "layout": "IPY_MODEL_1b54d4141e264ae5826c721aebc90740",
       "style": "IPY_MODEL_4938ff651ded47b0bf3126dd8d869b97",
       "value": " 100/100 [06:47&lt;00:00,  2.81s/it]"
      }
     },
     "5e132f08e50144fb9d7046ca464bc691": {
      "model_module": "@jupyter-widgets/controls",
      "model_module_version": "1.5.0",
      "model_name": "DescriptionStyleModel",
      "state": {
       "description_width": ""
      }
     },
     "5e1bea4b46224a27be16d22287bb5259": {
      "model_module": "@jupyter-widgets/controls",
      "model_module_version": "1.5.0",
      "model_name": "FloatProgressModel",
      "state": {
       "bar_style": "success",
       "layout": "IPY_MODEL_a3c5a4dcfef7402f8021f46da5ef79c2",
       "max": 1,
       "style": "IPY_MODEL_6b561e21afc043a2be4cf33cc4dd3422",
       "value": 1
      }
     },
     "5e7212c59c3d4174951f7ae4e544937a": {
      "model_module": "@jupyter-widgets/base",
      "model_module_version": "1.2.0",
      "model_name": "LayoutModel",
      "state": {}
     },
     "5eb362ad1162420fae441b9edd26390a": {
      "model_module": "@jupyter-widgets/base",
      "model_module_version": "1.2.0",
      "model_name": "LayoutModel",
      "state": {}
     },
     "5ec19884c5bc43ceb2b6484e436794ce": {
      "model_module": "@jupyter-widgets/controls",
      "model_module_version": "1.5.0",
      "model_name": "HBoxModel",
      "state": {
       "children": [
        "IPY_MODEL_6b50dbfb6e77405ba9e1432674c75121",
        "IPY_MODEL_da54df2e4d5044528ed8292687638200",
        "IPY_MODEL_d659cb368dc94f6bab9405f0b27553ce"
       ],
       "layout": "IPY_MODEL_87f6f78c14c3472783c66e560d332aa6"
      }
     },
     "5eca6d638c70480fa3f2f9150cde03e3": {
      "model_module": "@jupyter-widgets/controls",
      "model_module_version": "1.5.0",
      "model_name": "FloatProgressModel",
      "state": {
       "bar_style": "success",
       "layout": "IPY_MODEL_ec84add95faa435dbffca837915c895e",
       "style": "IPY_MODEL_2db3e2f9dc2a41bcafc737a6e5e22209",
       "value": 100
      }
     },
     "5ef5782777eb4c91bfd3c975f9a093df": {
      "model_module": "@jupyter-widgets/controls",
      "model_module_version": "1.5.0",
      "model_name": "DescriptionStyleModel",
      "state": {
       "description_width": ""
      }
     },
     "5f02c86413294f9a91013f264407cf5a": {
      "model_module": "@jupyter-widgets/controls",
      "model_module_version": "1.5.0",
      "model_name": "DescriptionStyleModel",
      "state": {
       "description_width": ""
      }
     },
     "5f0e30c5d57e40e0b25cc69a39a9d9d9": {
      "model_module": "@jupyter-widgets/base",
      "model_module_version": "1.2.0",
      "model_name": "LayoutModel",
      "state": {}
     },
     "5f2a7caca3eb4748a1af0b0dc35a93cb": {
      "model_module": "@jupyter-widgets/controls",
      "model_module_version": "1.5.0",
      "model_name": "FloatProgressModel",
      "state": {
       "bar_style": "success",
       "layout": "IPY_MODEL_fa580c56170c4dcfa46b16813ebe5cdc",
       "max": 1,
       "style": "IPY_MODEL_b085df764fce4ec98523399f29a2e64d",
       "value": 1
      }
     },
     "5f854df0b31b4d048922c6ba7862f152": {
      "model_module": "@jupyter-widgets/base",
      "model_module_version": "1.2.0",
      "model_name": "LayoutModel",
      "state": {}
     },
     "5f8be15b5b4e46d9b3055da0a2182e3c": {
      "model_module": "@jupyter-widgets/controls",
      "model_module_version": "1.5.0",
      "model_name": "HTMLModel",
      "state": {
       "layout": "IPY_MODEL_544bfdce8ff64b38b280c2a3df1ff800",
       "style": "IPY_MODEL_4488c1114cba401c82ba1c050ce26c7e",
       "value": "100%"
      }
     },
     "5f9ee26b28b74707b5ccaf513c4e8ddc": {
      "model_module": "@jupyter-widgets/base",
      "model_module_version": "1.2.0",
      "model_name": "LayoutModel",
      "state": {}
     },
     "5fa942d5d85c4d58bd3dfeb655990f02": {
      "model_module": "@jupyter-widgets/controls",
      "model_module_version": "1.5.0",
      "model_name": "ProgressStyleModel",
      "state": {
       "description_width": ""
      }
     },
     "5fb17fd4c9ed4fc19d9b60185725066b": {
      "model_module": "@jupyter-widgets/controls",
      "model_module_version": "1.5.0",
      "model_name": "FloatProgressModel",
      "state": {
       "bar_style": "success",
       "layout": "IPY_MODEL_1957032a378d4f2788776cc181bcd7b8",
       "max": 1,
       "style": "IPY_MODEL_fa1d2db2d5514fd88049a69d0844065a",
       "value": 1
      }
     },
     "5fba7d8790f140ae95d230b30f960836": {
      "model_module": "@jupyter-widgets/controls",
      "model_module_version": "1.5.0",
      "model_name": "HTMLModel",
      "state": {
       "layout": "IPY_MODEL_bb17318c96ca46679b5f97f62d63407e",
       "style": "IPY_MODEL_221332a42bdd4d35a7d1a3f28e05c23a",
       "value": " 104/104 [1:04:45&lt;00:00, 30.24s/ba]"
      }
     },
     "5fc01e84b6ff407a997b6c0c245298ec": {
      "model_module": "@jupyter-widgets/controls",
      "model_module_version": "1.5.0",
      "model_name": "ProgressStyleModel",
      "state": {
       "description_width": ""
      }
     },
     "5fdea230fd5c4a439f6ce352daed8a70": {
      "model_module": "@jupyter-widgets/controls",
      "model_module_version": "1.5.0",
      "model_name": "HBoxModel",
      "state": {
       "children": [
        "IPY_MODEL_3709e23da30140488c99b75184173801",
        "IPY_MODEL_b727e4053b364c2e90f37fc47aa3d57e",
        "IPY_MODEL_7fa338f700fe416e81a4450beae35853"
       ],
       "layout": "IPY_MODEL_66be52a73b21468babb3b7e1354ba45c"
      }
     },
     "5ff3d8df341f482e998d49f020e9367a": {
      "model_module": "@jupyter-widgets/base",
      "model_module_version": "1.2.0",
      "model_name": "LayoutModel",
      "state": {}
     },
     "6010dbeff040484d913c29c004d1c6e9": {
      "model_module": "@jupyter-widgets/controls",
      "model_module_version": "1.5.0",
      "model_name": "ProgressStyleModel",
      "state": {
       "description_width": ""
      }
     },
     "6044703805d14b499206c5935b368663": {
      "model_module": "@jupyter-widgets/base",
      "model_module_version": "1.2.0",
      "model_name": "LayoutModel",
      "state": {}
     },
     "605075a2dcca4fef9860c878293ac9fe": {
      "model_module": "@jupyter-widgets/base",
      "model_module_version": "1.2.0",
      "model_name": "LayoutModel",
      "state": {}
     },
     "6053c7f01131440e8c8bc39da5f75cab": {
      "model_module": "@jupyter-widgets/controls",
      "model_module_version": "1.5.0",
      "model_name": "HTMLModel",
      "state": {
       "layout": "IPY_MODEL_8f55f7e9f0fe4fbfae66d15543402c7e",
       "style": "IPY_MODEL_5ce4223cecdc430da968e2150e3987af",
       "value": "100%"
      }
     },
     "6089595cbe3147c2b09db0f7fdb105ec": {
      "model_module": "@jupyter-widgets/base",
      "model_module_version": "1.2.0",
      "model_name": "LayoutModel",
      "state": {}
     },
     "609ca9a0736243f78d91712387aa0fc7": {
      "model_module": "@jupyter-widgets/controls",
      "model_module_version": "1.5.0",
      "model_name": "DescriptionStyleModel",
      "state": {
       "description_width": ""
      }
     },
     "60afbc6daac04ae3895e042de199366f": {
      "model_module": "@jupyter-widgets/controls",
      "model_module_version": "1.5.0",
      "model_name": "HTMLModel",
      "state": {
       "layout": "IPY_MODEL_0eed4b7f4f374beab68a2ddef6477511",
       "style": "IPY_MODEL_101d37d0bc6c45d3825cbcd1605d1d9e",
       "value": "100%"
      }
     },
     "60c6f63b3435464baa30ef0cac5a00c4": {
      "model_module": "@jupyter-widgets/controls",
      "model_module_version": "1.5.0",
      "model_name": "HTMLModel",
      "state": {
       "layout": "IPY_MODEL_72e4a14b192c4f06827a02398156914e",
       "style": "IPY_MODEL_ba9be63758344ff09f447cd8041ea334",
       "value": " 100/100 [18:53&lt;00:00, 11.08s/it]"
      }
     },
     "60caa491277342a4aa362e6cf6b8d055": {
      "model_module": "@jupyter-widgets/base",
      "model_module_version": "1.2.0",
      "model_name": "LayoutModel",
      "state": {}
     },
     "60cd89f921c240398b2da03aefa084a3": {
      "model_module": "@jupyter-widgets/controls",
      "model_module_version": "1.5.0",
      "model_name": "HTMLModel",
      "state": {
       "layout": "IPY_MODEL_46f51efe1b464a4b8d0b98df4887a8be",
       "style": "IPY_MODEL_be67e19bf10d445bb80bb77bd6f27a92",
       "value": "100%"
      }
     },
     "60f1a5c5d9b04e6699d3a1328d7e2f9a": {
      "model_module": "@jupyter-widgets/base",
      "model_module_version": "1.2.0",
      "model_name": "LayoutModel",
      "state": {}
     },
     "60ff5e197a1243dd8eb71581e1934b11": {
      "model_module": "@jupyter-widgets/controls",
      "model_module_version": "1.5.0",
      "model_name": "DescriptionStyleModel",
      "state": {
       "description_width": ""
      }
     },
     "614bbda104954ebfa92d2c38ce26a454": {
      "model_module": "@jupyter-widgets/base",
      "model_module_version": "1.2.0",
      "model_name": "LayoutModel",
      "state": {}
     },
     "6157385774c144b59c179610e9cb692f": {
      "model_module": "@jupyter-widgets/controls",
      "model_module_version": "1.5.0",
      "model_name": "ProgressStyleModel",
      "state": {
       "description_width": ""
      }
     },
     "616bc2caafe24f29a4c21dbc4fe5b5bc": {
      "model_module": "@jupyter-widgets/base",
      "model_module_version": "1.2.0",
      "model_name": "LayoutModel",
      "state": {}
     },
     "61721a1293964b31ad9df38fd553895a": {
      "model_module": "@jupyter-widgets/base",
      "model_module_version": "1.2.0",
      "model_name": "LayoutModel",
      "state": {}
     },
     "61740926d3304da7bb5ab32fa8996c6b": {
      "model_module": "@jupyter-widgets/controls",
      "model_module_version": "1.5.0",
      "model_name": "DescriptionStyleModel",
      "state": {
       "description_width": ""
      }
     },
     "617a3dd30c96458997751ed5425e3ba5": {
      "model_module": "@jupyter-widgets/base",
      "model_module_version": "1.2.0",
      "model_name": "LayoutModel",
      "state": {}
     },
     "61acbda0afdf4e97b67c643b543f2151": {
      "model_module": "@jupyter-widgets/controls",
      "model_module_version": "1.5.0",
      "model_name": "ProgressStyleModel",
      "state": {
       "description_width": ""
      }
     },
     "61b89bcb9b1a4feba0b650c9eb574ccb": {
      "model_module": "@jupyter-widgets/controls",
      "model_module_version": "1.5.0",
      "model_name": "HTMLModel",
      "state": {
       "layout": "IPY_MODEL_ec20a00477664eb5a4c23b19e7dc0b0a",
       "style": "IPY_MODEL_267ca60af8224746a590f5d20dc22caa",
       "value": " 100/100 [11:28&lt;00:00,  6.88s/it]"
      }
     },
     "61b93b1e48dc436ea4bfa66bbb3cfe40": {
      "model_module": "@jupyter-widgets/controls",
      "model_module_version": "1.5.0",
      "model_name": "HTMLModel",
      "state": {
       "layout": "IPY_MODEL_c6771745bc33400ca49e6e145bb33aaa",
       "style": "IPY_MODEL_e32f01acf4654d1cb48e0c4d24195d3d",
       "value": "Downloading: 100%"
      }
     },
     "61f863ded7ff4a259d96af389d7df581": {
      "model_module": "@jupyter-widgets/controls",
      "model_module_version": "1.5.0",
      "model_name": "HTMLModel",
      "state": {
       "layout": "IPY_MODEL_0ef8b0b3ffac40f29f6316adfdabd234",
       "style": "IPY_MODEL_af409b36b1314d83b09271d768cc4870",
       "value": "100%"
      }
     },
     "621727e7b2874fa18ceeffdc624fb7fa": {
      "model_module": "@jupyter-widgets/base",
      "model_module_version": "1.2.0",
      "model_name": "LayoutModel",
      "state": {}
     },
     "6218ee3b911247d1bb640be75a099691": {
      "model_module": "@jupyter-widgets/controls",
      "model_module_version": "1.5.0",
      "model_name": "ProgressStyleModel",
      "state": {
       "description_width": ""
      }
     },
     "621f3e2b221c4e42a2190c11fa99622c": {
      "model_module": "@jupyter-widgets/base",
      "model_module_version": "1.2.0",
      "model_name": "LayoutModel",
      "state": {}
     },
     "622230b49b854fc895da1743865ad34a": {
      "model_module": "@jupyter-widgets/base",
      "model_module_version": "1.2.0",
      "model_name": "LayoutModel",
      "state": {}
     },
     "6226c354b11c4cad89a939fe2ffd781c": {
      "model_module": "@jupyter-widgets/base",
      "model_module_version": "1.2.0",
      "model_name": "LayoutModel",
      "state": {}
     },
     "622ecf21652c4579bbb1b2080483ea32": {
      "model_module": "@jupyter-widgets/controls",
      "model_module_version": "1.5.0",
      "model_name": "DescriptionStyleModel",
      "state": {
       "description_width": ""
      }
     },
     "62326c95e9444f78b1bdbe4f5a58515d": {
      "model_module": "@jupyter-widgets/controls",
      "model_module_version": "1.5.0",
      "model_name": "HBoxModel",
      "state": {
       "children": [
        "IPY_MODEL_062de0af742f4113baabf3211fa1444d",
        "IPY_MODEL_e559daf3f4fa4b699cf68e4bb0519787",
        "IPY_MODEL_65226a96ba2048be9aaeaef261793d92"
       ],
       "layout": "IPY_MODEL_6a6063b3c86e42a89f69be4db54ebea3"
      }
     },
     "6249098963184a3da844c8ca04c25b02": {
      "model_module": "@jupyter-widgets/controls",
      "model_module_version": "1.5.0",
      "model_name": "FloatProgressModel",
      "state": {
       "bar_style": "success",
       "layout": "IPY_MODEL_00ed0d47fc9d42c88344bde32b40c747",
       "max": 1,
       "style": "IPY_MODEL_b0caede0fda94062ace59665461909f5",
       "value": 1
      }
     },
     "6254cf614cda4f918560e086d8bddeae": {
      "model_module": "@jupyter-widgets/controls",
      "model_module_version": "1.5.0",
      "model_name": "ProgressStyleModel",
      "state": {
       "description_width": ""
      }
     },
     "62bfe7370d354aefb356c8c74022c978": {
      "model_module": "@jupyter-widgets/controls",
      "model_module_version": "1.5.0",
      "model_name": "HTMLModel",
      "state": {
       "layout": "IPY_MODEL_ab8f0e007f0e4f5499c99fa2ad8c3854",
       "style": "IPY_MODEL_0a0106bf07d947d79ea10375ed9c201d",
       "value": "  3%"
      }
     },
     "62deba8fd2e345248eb60d1e6e48e3cd": {
      "model_module": "@jupyter-widgets/controls",
      "model_module_version": "1.5.0",
      "model_name": "HTMLModel",
      "state": {
       "layout": "IPY_MODEL_43d4e6b336384fa3981d1a6a2649fa66",
       "style": "IPY_MODEL_88bfb729b5254b7f8e24550000099dbe",
       "value": "100%"
      }
     },
     "6308c216183c478fad9d2938836edf75": {
      "model_module": "@jupyter-widgets/controls",
      "model_module_version": "1.5.0",
      "model_name": "HTMLModel",
      "state": {
       "layout": "IPY_MODEL_363967f4f37141d4881711b3bb6c986c",
       "style": "IPY_MODEL_44c14f75c5f7455e88d8d6a8ffc285a9",
       "value": "100%"
      }
     },
     "633038801562426283dc22afe4aa20db": {
      "model_module": "@jupyter-widgets/base",
      "model_module_version": "1.2.0",
      "model_name": "LayoutModel",
      "state": {}
     },
     "634b6c450fb948e2ba869ea94a80736e": {
      "model_module": "@jupyter-widgets/controls",
      "model_module_version": "1.5.0",
      "model_name": "HTMLModel",
      "state": {
       "layout": "IPY_MODEL_0135341d817d4901a921835b496ee6b1",
       "style": "IPY_MODEL_f8ded54fac5244cb8821901a789f4c13",
       "value": " 100/100 [19:01&lt;00:00, 16.05s/it]"
      }
     },
     "63710960b2e643788f336dce3d39e9d4": {
      "model_module": "@jupyter-widgets/controls",
      "model_module_version": "1.5.0",
      "model_name": "HBoxModel",
      "state": {
       "children": [
        "IPY_MODEL_b18d7c9ff10044ebb078eed6cdebc073",
        "IPY_MODEL_44a8a0001411405a91ac0078b8a80d63",
        "IPY_MODEL_0f108845569447f985f05462e9dea917"
       ],
       "layout": "IPY_MODEL_dfc60a94c02f4d7dacbc78d1fcaadc73"
      }
     },
     "6392811429af48fd883b3f36696ed86a": {
      "model_module": "@jupyter-widgets/controls",
      "model_module_version": "1.5.0",
      "model_name": "HTMLModel",
      "state": {
       "layout": "IPY_MODEL_a1bb069b9ff0426dbff1eb479f2889c6",
       "style": "IPY_MODEL_1c00c86a27a44d7fab6e160e4e85c536",
       "value": "100%"
      }
     },
     "63f78878ab6940bb87727997ab589fa7": {
      "model_module": "@jupyter-widgets/controls",
      "model_module_version": "1.5.0",
      "model_name": "HTMLModel",
      "state": {
       "layout": "IPY_MODEL_d4bfeeabd850485aaf3fff82ff50066d",
       "style": "IPY_MODEL_9b9e3b97758241a7910717e60d3eb582",
       "value": " 1/1 [00:02&lt;00:00,  2.11s/ba]"
      }
     },
     "6431fb3b0b5e4a8da6e8b3016ee40076": {
      "model_module": "@jupyter-widgets/controls",
      "model_module_version": "1.5.0",
      "model_name": "FloatProgressModel",
      "state": {
       "bar_style": "success",
       "layout": "IPY_MODEL_1c35ef3948ae40709dc343b87450e8c5",
       "max": 104,
       "style": "IPY_MODEL_9eacb03e2fb04788a41a6a674e46991a",
       "value": 104
      }
     },
     "6432f036a8354e81a1201251689d2567": {
      "model_module": "@jupyter-widgets/controls",
      "model_module_version": "1.5.0",
      "model_name": "DescriptionStyleModel",
      "state": {
       "description_width": ""
      }
     },
     "6447c360700e4ab084ab814b661e778e": {
      "model_module": "@jupyter-widgets/controls",
      "model_module_version": "1.5.0",
      "model_name": "HTMLModel",
      "state": {
       "layout": "IPY_MODEL_5b82f864fb2d485f96a3ed1f1ae7ea94",
       "style": "IPY_MODEL_48e552f21419464aaa34308fa6e17a0e",
       "value": "100%"
      }
     },
     "64901bee4db14cbfbb2c64a95cd712f0": {
      "model_module": "@jupyter-widgets/controls",
      "model_module_version": "1.5.0",
      "model_name": "DescriptionStyleModel",
      "state": {
       "description_width": ""
      }
     },
     "64f4a98fa3e9415e96b6cbdea081dc2f": {
      "model_module": "@jupyter-widgets/controls",
      "model_module_version": "1.5.0",
      "model_name": "HTMLModel",
      "state": {
       "layout": "IPY_MODEL_136dbbe00e054188899cac814a4bb7c6",
       "style": "IPY_MODEL_00ed470c40f64360baac08613ec11b1b",
       "value": "100%"
      }
     },
     "6506d90c40dc487dbf7aa92de97fde28": {
      "model_module": "@jupyter-widgets/controls",
      "model_module_version": "1.5.0",
      "model_name": "DescriptionStyleModel",
      "state": {
       "description_width": ""
      }
     },
     "6512087837564b5fbb827628c32adb4c": {
      "model_module": "@jupyter-widgets/controls",
      "model_module_version": "1.5.0",
      "model_name": "HTMLModel",
      "state": {
       "layout": "IPY_MODEL_f3ed71b1c1de442cb6ae9ea643cd4f76",
       "style": "IPY_MODEL_ec2197f8973347df96bae183f869a557",
       "value": " 100/100 [04:12&lt;00:00,  1.98s/it]"
      }
     },
     "65226a96ba2048be9aaeaef261793d92": {
      "model_module": "@jupyter-widgets/controls",
      "model_module_version": "1.5.0",
      "model_name": "HTMLModel",
      "state": {
       "layout": "IPY_MODEL_71d64fede69c4ee19031ec239098e731",
       "style": "IPY_MODEL_f0ff443b16004f848537f595500e13c5",
       "value": " 1/1 [00:00&lt;00:00, 55.50it/s]"
      }
     },
     "65526a6f85c844d6bd255f4897a725ce": {
      "model_module": "@jupyter-widgets/controls",
      "model_module_version": "1.5.0",
      "model_name": "DescriptionStyleModel",
      "state": {
       "description_width": ""
      }
     },
     "65544535d62240dca7357c065eb4aab4": {
      "model_module": "@jupyter-widgets/controls",
      "model_module_version": "1.5.0",
      "model_name": "HTMLModel",
      "state": {
       "layout": "IPY_MODEL_7821a017d19441aa8e361d81f22206eb",
       "style": "IPY_MODEL_0dde4da72fad4d19bb6b101ac2f23673",
       "value": "100%"
      }
     },
     "6554e7d098fa4f2b8d7831d4ac7bec7d": {
      "model_module": "@jupyter-widgets/controls",
      "model_module_version": "1.5.0",
      "model_name": "DescriptionStyleModel",
      "state": {
       "description_width": ""
      }
     },
     "655bfb2b1800437789b5430cd98b79c3": {
      "model_module": "@jupyter-widgets/base",
      "model_module_version": "1.2.0",
      "model_name": "LayoutModel",
      "state": {}
     },
     "6566e48d6a0345ebb359d27d2b8282fa": {
      "model_module": "@jupyter-widgets/base",
      "model_module_version": "1.2.0",
      "model_name": "LayoutModel",
      "state": {}
     },
     "656be739dc68473caaf8f159b025f1de": {
      "model_module": "@jupyter-widgets/base",
      "model_module_version": "1.2.0",
      "model_name": "LayoutModel",
      "state": {}
     },
     "656da74d75664add8dd9923ed4d02cf3": {
      "model_module": "@jupyter-widgets/controls",
      "model_module_version": "1.5.0",
      "model_name": "DescriptionStyleModel",
      "state": {
       "description_width": ""
      }
     },
     "6581124b23384effb80b0e665c618677": {
      "model_module": "@jupyter-widgets/base",
      "model_module_version": "1.2.0",
      "model_name": "LayoutModel",
      "state": {}
     },
     "65c9abeb91a84272b0dd657e15570424": {
      "model_module": "@jupyter-widgets/base",
      "model_module_version": "1.2.0",
      "model_name": "LayoutModel",
      "state": {}
     },
     "65d20fa773514c829bd5be9e02cd8dd6": {
      "model_module": "@jupyter-widgets/controls",
      "model_module_version": "1.5.0",
      "model_name": "HTMLModel",
      "state": {
       "layout": "IPY_MODEL_43361ac80b0b49898c8816559484e65a",
       "style": "IPY_MODEL_01ff2f9898cb4d41a9caed7bbea4e79a",
       "value": "100%"
      }
     },
     "65d765af0cc34646b1cee16e842157cb": {
      "model_module": "@jupyter-widgets/base",
      "model_module_version": "1.2.0",
      "model_name": "LayoutModel",
      "state": {}
     },
     "65ef0dca8a39436f9a128a7694c25e79": {
      "model_module": "@jupyter-widgets/base",
      "model_module_version": "1.2.0",
      "model_name": "LayoutModel",
      "state": {}
     },
     "6624f4b3b7214777b33341051f8debc8": {
      "model_module": "@jupyter-widgets/controls",
      "model_module_version": "1.5.0",
      "model_name": "FloatProgressModel",
      "state": {
       "bar_style": "success",
       "layout": "IPY_MODEL_cf6bfbe637224941b3a92814a1f0137b",
       "style": "IPY_MODEL_6df5eeb44a2446e09c6d9060a9c5ad6b",
       "value": 100
      }
     },
     "6643328ca0e24de093891d310ca9cf36": {
      "model_module": "@jupyter-widgets/controls",
      "model_module_version": "1.5.0",
      "model_name": "HTMLModel",
      "state": {
       "layout": "IPY_MODEL_ef76703d710b422eb470d22ea5908e19",
       "style": "IPY_MODEL_234d754aceb24fc687b6074d62274be0",
       "value": " 100/100 [11:19&lt;00:00,  5.18s/it]"
      }
     },
     "6650d787cffb43c8b7adc52926890140": {
      "model_module": "@jupyter-widgets/base",
      "model_module_version": "1.2.0",
      "model_name": "LayoutModel",
      "state": {}
     },
     "66574921ea42473d916c46ab982648d7": {
      "model_module": "@jupyter-widgets/controls",
      "model_module_version": "1.5.0",
      "model_name": "HBoxModel",
      "state": {
       "children": [
        "IPY_MODEL_bc420ed7e9a149bbb85f99df662738d3",
        "IPY_MODEL_18a98e7ed64243ad86d2fd3835a02551",
        "IPY_MODEL_294ff125ee5b4d0b8c324653ea8db252"
       ],
       "layout": "IPY_MODEL_e0f6288ec03549eaac07610422b33cd8"
      }
     },
     "665eeb9b1afd47bdae30ddb8438d4667": {
      "model_module": "@jupyter-widgets/controls",
      "model_module_version": "1.5.0",
      "model_name": "FloatProgressModel",
      "state": {
       "bar_style": "success",
       "layout": "IPY_MODEL_f98fa549f1ee46bd8eb4eca2716a11fd",
       "max": 104,
       "style": "IPY_MODEL_583a73d3dcc34a89a0883c288e405218",
       "value": 104
      }
     },
     "6669c5d4353c421c88a3db898b54c04f": {
      "model_module": "@jupyter-widgets/controls",
      "model_module_version": "1.5.0",
      "model_name": "HBoxModel",
      "state": {
       "children": [
        "IPY_MODEL_b4e154bd8d6242c8a3b869c8a831182e",
        "IPY_MODEL_6a1e39ee45d249b983f63247b6f5e82e",
        "IPY_MODEL_d93cbfc81d92473384df9cd80919c91f"
       ],
       "layout": "IPY_MODEL_87d97de3a9474c1ba9bb46837ebf2780"
      }
     },
     "666d4f4914a84f2baf5293ee988f8908": {
      "model_module": "@jupyter-widgets/base",
      "model_module_version": "1.2.0",
      "model_name": "LayoutModel",
      "state": {}
     },
     "6677f775eb754fc384d1d955f2dd3b06": {
      "model_module": "@jupyter-widgets/controls",
      "model_module_version": "1.5.0",
      "model_name": "ProgressStyleModel",
      "state": {
       "description_width": ""
      }
     },
     "669c7c3b5ce440dfaadd0bed6618b639": {
      "model_module": "@jupyter-widgets/controls",
      "model_module_version": "1.5.0",
      "model_name": "HTMLModel",
      "state": {
       "layout": "IPY_MODEL_aecb8cac38424d3d9637e3fa83bb32b3",
       "style": "IPY_MODEL_b3524eea961b4708aa1053e089c3f9a3",
       "value": " 100/100 [03:46&lt;00:00,  2.59s/it]"
      }
     },
     "669fca933504490e9919f113f270a0ba": {
      "model_module": "@jupyter-widgets/controls",
      "model_module_version": "1.5.0",
      "model_name": "HTMLModel",
      "state": {
       "layout": "IPY_MODEL_c6fdcbfff1d942e095ef40ab81fc992d",
       "style": "IPY_MODEL_af292f25b45d42739ab41f5680e7fa28",
       "value": "100%"
      }
     },
     "66ade4de43144b139e31c4086fc47e78": {
      "model_module": "@jupyter-widgets/base",
      "model_module_version": "1.2.0",
      "model_name": "LayoutModel",
      "state": {}
     },
     "66be52a73b21468babb3b7e1354ba45c": {
      "model_module": "@jupyter-widgets/base",
      "model_module_version": "1.2.0",
      "model_name": "LayoutModel",
      "state": {}
     },
     "66d29aca700f4162883c27564a2e088e": {
      "model_module": "@jupyter-widgets/base",
      "model_module_version": "1.2.0",
      "model_name": "LayoutModel",
      "state": {}
     },
     "66f4aa4f026540abb25af1ea8725239f": {
      "model_module": "@jupyter-widgets/controls",
      "model_module_version": "1.5.0",
      "model_name": "DescriptionStyleModel",
      "state": {
       "description_width": ""
      }
     },
     "66f7e11f92494f6699d9cb07daf433f2": {
      "model_module": "@jupyter-widgets/controls",
      "model_module_version": "1.5.0",
      "model_name": "ProgressStyleModel",
      "state": {
       "description_width": ""
      }
     },
     "66f811a688ac443b8173ba2ca401c9ff": {
      "model_module": "@jupyter-widgets/controls",
      "model_module_version": "1.5.0",
      "model_name": "HTMLModel",
      "state": {
       "layout": "IPY_MODEL_4a08c5a4e2a24f45becbb014bf704532",
       "style": "IPY_MODEL_bb9f0d9da705464dad8b880c4b982eb6",
       "value": " 1/1 [00:02&lt;00:00,  2.13s/ba]"
      }
     },
     "66fe5675e3ad499d9c32b8fd8eafa4e5": {
      "model_module": "@jupyter-widgets/base",
      "model_module_version": "1.2.0",
      "model_name": "LayoutModel",
      "state": {}
     },
     "66ff17fbfd224ee080aba80bfc9e817f": {
      "model_module": "@jupyter-widgets/controls",
      "model_module_version": "1.5.0",
      "model_name": "ProgressStyleModel",
      "state": {
       "description_width": ""
      }
     },
     "674f21e8792e4436a00dd0bdf2e13c0c": {
      "model_module": "@jupyter-widgets/base",
      "model_module_version": "1.2.0",
      "model_name": "LayoutModel",
      "state": {}
     },
     "676ccda7ce984541a9347454abb9178a": {
      "model_module": "@jupyter-widgets/controls",
      "model_module_version": "1.5.0",
      "model_name": "ProgressStyleModel",
      "state": {
       "description_width": ""
      }
     },
     "6793abe40a6f45d9b1b5523ddaa65127": {
      "model_module": "@jupyter-widgets/controls",
      "model_module_version": "1.5.0",
      "model_name": "DescriptionStyleModel",
      "state": {
       "description_width": ""
      }
     },
     "67c2dab6625049fcbadd12d04a1efdaa": {
      "model_module": "@jupyter-widgets/base",
      "model_module_version": "1.2.0",
      "model_name": "LayoutModel",
      "state": {}
     },
     "67c84f4131104b3b8268b8aa5777c4b6": {
      "model_module": "@jupyter-widgets/controls",
      "model_module_version": "1.5.0",
      "model_name": "HTMLModel",
      "state": {
       "layout": "IPY_MODEL_d7e7d45953604a4386cb58a7302fc692",
       "style": "IPY_MODEL_73f201c4758247aaaa6677b755abc3d5",
       "value": "100%"
      }
     },
     "67ceabd47b984a3faecb5583a300b856": {
      "model_module": "@jupyter-widgets/controls",
      "model_module_version": "1.5.0",
      "model_name": "HTMLModel",
      "state": {
       "layout": "IPY_MODEL_e3c852ca26fa460f87ced278d963f5b3",
       "style": "IPY_MODEL_3891966a3e934e0d985b77a84dfa24b6",
       "value": "100%"
      }
     },
     "67e9f8ba777e499ab56cbcf7e595b9d9": {
      "model_module": "@jupyter-widgets/controls",
      "model_module_version": "1.5.0",
      "model_name": "HTMLModel",
      "state": {
       "layout": "IPY_MODEL_19022c3490d04c94aaa17d7586c7aa0e",
       "style": "IPY_MODEL_4a19522deb374c9bb340c7b5f69b9d4b",
       "value": " 1/1 [00:00&lt;00:00, 55.51it/s]"
      }
     },
     "67f411669c9e47f7bb0b2615047d5c82": {
      "model_module": "@jupyter-widgets/controls",
      "model_module_version": "1.5.0",
      "model_name": "HBoxModel",
      "state": {
       "children": [
        "IPY_MODEL_ed7466ada6d24eb7aa9c29ba8d94a6dc",
        "IPY_MODEL_884c8ae034d244ea86b8bc331273a839",
        "IPY_MODEL_3bcfc044bde04fb498c0c2b3f9844cf7"
       ],
       "layout": "IPY_MODEL_0ccc08002a2042a1940f300475708d88"
      }
     },
     "6835dfacccee44d88e8a6c8a6af4aabc": {
      "model_module": "@jupyter-widgets/controls",
      "model_module_version": "1.5.0",
      "model_name": "HTMLModel",
      "state": {
       "layout": "IPY_MODEL_b7ca3fbd8e1741939cbc8eca8d79680b",
       "style": "IPY_MODEL_8437e21169914f2e9f7e3c3eca2acf90",
       "value": " 100/100 [00:01&lt;00:00,  1.01s/it]"
      }
     },
     "683b5b7b32384ec0b44758de8f7db57a": {
      "model_module": "@jupyter-widgets/controls",
      "model_module_version": "1.5.0",
      "model_name": "FloatProgressModel",
      "state": {
       "bar_style": "danger",
       "layout": "IPY_MODEL_1e929b1c9ef94fb0b6c7c7699ada6603",
       "max": 104,
       "style": "IPY_MODEL_d6626d8dc4e0419594ae9dd8444f8cfd",
       "value": 3
      }
     },
     "6840ec476e3e41dc92f6e0a9fd592968": {
      "model_module": "@jupyter-widgets/controls",
      "model_module_version": "1.5.0",
      "model_name": "DescriptionStyleModel",
      "state": {
       "description_width": ""
      }
     },
     "68547dce4fa6476aa535340d134a3863": {
      "model_module": "@jupyter-widgets/base",
      "model_module_version": "1.2.0",
      "model_name": "LayoutModel",
      "state": {}
     },
     "6874a1c6919f41388287500dce3f6bc5": {
      "model_module": "@jupyter-widgets/controls",
      "model_module_version": "1.5.0",
      "model_name": "HTMLModel",
      "state": {
       "layout": "IPY_MODEL_be7ce7b7174c44b9b606b762322af178",
       "style": "IPY_MODEL_95b463da62ba4647b60b8ee74ec97ad8",
       "value": " 100/100 [04:07&lt;00:00,  2.32s/it]"
      }
     },
     "689a16ba3d374165abe40c184adef2e7": {
      "model_module": "@jupyter-widgets/controls",
      "model_module_version": "1.5.0",
      "model_name": "ProgressStyleModel",
      "state": {
       "description_width": ""
      }
     },
     "689f93d849ba4e46878fe4e1f99ba04e": {
      "model_module": "@jupyter-widgets/base",
      "model_module_version": "1.2.0",
      "model_name": "LayoutModel",
      "state": {}
     },
     "68a5ef8f42ab47c192afad4a52adb2b5": {
      "model_module": "@jupyter-widgets/controls",
      "model_module_version": "1.5.0",
      "model_name": "ProgressStyleModel",
      "state": {
       "description_width": ""
      }
     },
     "68b06e57724c461499b0ffc409d3ebcd": {
      "model_module": "@jupyter-widgets/base",
      "model_module_version": "1.2.0",
      "model_name": "LayoutModel",
      "state": {}
     },
     "68d524d63fad4a47a6b9830ef887aab2": {
      "model_module": "@jupyter-widgets/controls",
      "model_module_version": "1.5.0",
      "model_name": "ProgressStyleModel",
      "state": {
       "description_width": ""
      }
     },
     "68e8a7ea5c044d648b557b39d08421d7": {
      "model_module": "@jupyter-widgets/controls",
      "model_module_version": "1.5.0",
      "model_name": "DescriptionStyleModel",
      "state": {
       "description_width": ""
      }
     },
     "6924d58f0c6940f88d97700a0b6a0641": {
      "model_module": "@jupyter-widgets/base",
      "model_module_version": "1.2.0",
      "model_name": "LayoutModel",
      "state": {}
     },
     "69508fc2fd324c31aa5175ee80e3a40c": {
      "model_module": "@jupyter-widgets/base",
      "model_module_version": "1.2.0",
      "model_name": "LayoutModel",
      "state": {}
     },
     "69537a5c55b74f74b08e9e5e2c52bec2": {
      "model_module": "@jupyter-widgets/controls",
      "model_module_version": "1.5.0",
      "model_name": "DescriptionStyleModel",
      "state": {
       "description_width": ""
      }
     },
     "698aaf4c94e744b9967cc26045fa71c2": {
      "model_module": "@jupyter-widgets/controls",
      "model_module_version": "1.5.0",
      "model_name": "DescriptionStyleModel",
      "state": {
       "description_width": ""
      }
     },
     "6991d3e4fe8e4a2d9ea3bd3eb3720d2c": {
      "model_module": "@jupyter-widgets/controls",
      "model_module_version": "1.5.0",
      "model_name": "HTMLModel",
      "state": {
       "layout": "IPY_MODEL_2ba9599b42f9440196d2504ac5fa289c",
       "style": "IPY_MODEL_f3e876aa87eb40288bdcb405ef97e540",
       "value": "100%"
      }
     },
     "6991f234a0414e938ac51b9f5b312e2e": {
      "model_module": "@jupyter-widgets/controls",
      "model_module_version": "1.5.0",
      "model_name": "DescriptionStyleModel",
      "state": {
       "description_width": ""
      }
     },
     "699c69d230ae4eb29b40c37c3434d70c": {
      "model_module": "@jupyter-widgets/base",
      "model_module_version": "1.2.0",
      "model_name": "LayoutModel",
      "state": {}
     },
     "699faa91e3c443f8ba540d1dfe1345f1": {
      "model_module": "@jupyter-widgets/controls",
      "model_module_version": "1.5.0",
      "model_name": "FloatProgressModel",
      "state": {
       "bar_style": "success",
       "layout": "IPY_MODEL_0abbf780dd744bd5a1604cf3f5189e61",
       "style": "IPY_MODEL_25d56f8c696640f9ab63a1d25845966c",
       "value": 100
      }
     },
     "69b1ed2833f740c7999be75d673a4dd5": {
      "model_module": "@jupyter-widgets/controls",
      "model_module_version": "1.5.0",
      "model_name": "ProgressStyleModel",
      "state": {
       "description_width": ""
      }
     },
     "69b932bce5944f5fbee9359c6554154a": {
      "model_module": "@jupyter-widgets/controls",
      "model_module_version": "1.5.0",
      "model_name": "HTMLModel",
      "state": {
       "layout": "IPY_MODEL_0c8da169f3e744228a9166c6087d9b77",
       "style": "IPY_MODEL_0cbaea23e37a456e82bcb1760287fcfb",
       "value": " 0/100 [00:01&lt;?, ?it/s]"
      }
     },
     "69c5c7cd978b428f8732913b5db57e9f": {
      "model_module": "@jupyter-widgets/controls",
      "model_module_version": "1.5.0",
      "model_name": "HTMLModel",
      "state": {
       "layout": "IPY_MODEL_220387f356f4415d80555990b9b49bff",
       "style": "IPY_MODEL_501343a220d94def980af8e0044e0bdc",
       "value": "100%"
      }
     },
     "69f6c93000c2468383473b8a6eb0acb7": {
      "model_module": "@jupyter-widgets/base",
      "model_module_version": "1.2.0",
      "model_name": "LayoutModel",
      "state": {}
     },
     "6a00ad15c2ae4f5cbd797fff0986cc95": {
      "model_module": "@jupyter-widgets/base",
      "model_module_version": "1.2.0",
      "model_name": "LayoutModel",
      "state": {}
     },
     "6a07b6e6d23f4e54851af20414562744": {
      "model_module": "@jupyter-widgets/controls",
      "model_module_version": "1.5.0",
      "model_name": "DescriptionStyleModel",
      "state": {
       "description_width": ""
      }
     },
     "6a1e39ee45d249b983f63247b6f5e82e": {
      "model_module": "@jupyter-widgets/controls",
      "model_module_version": "1.5.0",
      "model_name": "FloatProgressModel",
      "state": {
       "bar_style": "success",
       "layout": "IPY_MODEL_9bf8ab06973f4ca28dc12ffd0ed426f6",
       "style": "IPY_MODEL_15aa19f7562c46d8a03576a86f76d8fa",
       "value": 100
      }
     },
     "6a335e6e85264c00abba58092fe7aceb": {
      "model_module": "@jupyter-widgets/controls",
      "model_module_version": "1.5.0",
      "model_name": "HTMLModel",
      "state": {
       "layout": "IPY_MODEL_8214fca6c83c4ac3bb3a1af882ada6ad",
       "style": "IPY_MODEL_6b6df7e57cf84d9da59e57d3311f43e3",
       "value": " 1/1 [00:00&lt;00:00, 99.90it/s]"
      }
     },
     "6a36be53022d41c6975c622a0fc53709": {
      "model_module": "@jupyter-widgets/base",
      "model_module_version": "1.2.0",
      "model_name": "LayoutModel",
      "state": {}
     },
     "6a6063b3c86e42a89f69be4db54ebea3": {
      "model_module": "@jupyter-widgets/base",
      "model_module_version": "1.2.0",
      "model_name": "LayoutModel",
      "state": {}
     },
     "6a7831cc0f434a0395efe18939935392": {
      "model_module": "@jupyter-widgets/base",
      "model_module_version": "1.2.0",
      "model_name": "LayoutModel",
      "state": {}
     },
     "6a8678d200c649c19f31083f43eed148": {
      "model_module": "@jupyter-widgets/controls",
      "model_module_version": "1.5.0",
      "model_name": "HBoxModel",
      "state": {
       "children": [
        "IPY_MODEL_9c9bee904b0548d2b2b4a09f78382b54",
        "IPY_MODEL_2cf08b8db53d4ac2b22fcc1d0865f885",
        "IPY_MODEL_8a3af367224d44c9b6952bac16af88b8"
       ],
       "layout": "IPY_MODEL_42649c8022104f12808279690bf20724"
      }
     },
     "6a92a1ea4df24403ba75d1465968c37e": {
      "model_module": "@jupyter-widgets/controls",
      "model_module_version": "1.5.0",
      "model_name": "DescriptionStyleModel",
      "state": {
       "description_width": ""
      }
     },
     "6a9ab573c4fa4a568883306f87212de9": {
      "model_module": "@jupyter-widgets/controls",
      "model_module_version": "1.5.0",
      "model_name": "DescriptionStyleModel",
      "state": {
       "description_width": ""
      }
     },
     "6aa0fbe879044fe4a45c4c18fab864fc": {
      "model_module": "@jupyter-widgets/controls",
      "model_module_version": "1.5.0",
      "model_name": "DescriptionStyleModel",
      "state": {
       "description_width": ""
      }
     },
     "6aa371290ffc4762965ea47051bd6e5f": {
      "model_module": "@jupyter-widgets/controls",
      "model_module_version": "1.5.0",
      "model_name": "ProgressStyleModel",
      "state": {
       "description_width": ""
      }
     },
     "6acd373b148648fd814293ff27250ccf": {
      "model_module": "@jupyter-widgets/controls",
      "model_module_version": "1.5.0",
      "model_name": "DescriptionStyleModel",
      "state": {
       "description_width": ""
      }
     },
     "6afccfb0f7d34efa8a603944d11dfad0": {
      "model_module": "@jupyter-widgets/base",
      "model_module_version": "1.2.0",
      "model_name": "LayoutModel",
      "state": {}
     },
     "6b0562c926d646feb4a2a8faac6a034a": {
      "model_module": "@jupyter-widgets/controls",
      "model_module_version": "1.5.0",
      "model_name": "DescriptionStyleModel",
      "state": {
       "description_width": ""
      }
     },
     "6b388b6d90724f4289d3c20d7a4fa344": {
      "model_module": "@jupyter-widgets/controls",
      "model_module_version": "1.5.0",
      "model_name": "FloatProgressModel",
      "state": {
       "bar_style": "success",
       "layout": "IPY_MODEL_c1e1b82d601e4b308cf817177aad9c82",
       "max": 104,
       "style": "IPY_MODEL_e6b97a7bcecb438db91d8410473a535e",
       "value": 104
      }
     },
     "6b50dbfb6e77405ba9e1432674c75121": {
      "model_module": "@jupyter-widgets/controls",
      "model_module_version": "1.5.0",
      "model_name": "HTMLModel",
      "state": {
       "layout": "IPY_MODEL_617a3dd30c96458997751ed5425e3ba5",
       "style": "IPY_MODEL_8a7f7ba136b2455dbee59b537f390b1c",
       "value": "100%"
      }
     },
     "6b561e21afc043a2be4cf33cc4dd3422": {
      "model_module": "@jupyter-widgets/controls",
      "model_module_version": "1.5.0",
      "model_name": "ProgressStyleModel",
      "state": {
       "description_width": ""
      }
     },
     "6b61213d731e492b98810afa1f9ea142": {
      "model_module": "@jupyter-widgets/controls",
      "model_module_version": "1.5.0",
      "model_name": "HTMLModel",
      "state": {
       "layout": "IPY_MODEL_33c47c3cefad4bf8a854ecc29e6ebb32",
       "style": "IPY_MODEL_e26d7c3c13164d75b4858746bea30a0d",
       "value": "100%"
      }
     },
     "6b659436e85f4c80aa0ac2be61337332": {
      "model_module": "@jupyter-widgets/controls",
      "model_module_version": "1.5.0",
      "model_name": "DescriptionStyleModel",
      "state": {
       "description_width": ""
      }
     },
     "6b65be764e9943fbb416d099d1e2e8f8": {
      "model_module": "@jupyter-widgets/controls",
      "model_module_version": "1.5.0",
      "model_name": "FloatProgressModel",
      "state": {
       "bar_style": "success",
       "layout": "IPY_MODEL_769c0790e9f440449cffdd36fb227f45",
       "max": 1,
       "style": "IPY_MODEL_828ba0aee87349e89a85406fd3704a15",
       "value": 1
      }
     },
     "6b6df7e57cf84d9da59e57d3311f43e3": {
      "model_module": "@jupyter-widgets/controls",
      "model_module_version": "1.5.0",
      "model_name": "DescriptionStyleModel",
      "state": {
       "description_width": ""
      }
     },
     "6b843ec0499544a1ae1c6f96bc7bd9ce": {
      "model_module": "@jupyter-widgets/controls",
      "model_module_version": "1.5.0",
      "model_name": "HBoxModel",
      "state": {
       "children": [
        "IPY_MODEL_29780d5bec6c4e68ba615ee50fd194a4",
        "IPY_MODEL_b1a47b7f7f18429bb58a25376f4ed570",
        "IPY_MODEL_9c3b7d56ba2a4863b05919c65857fd2b"
       ],
       "layout": "IPY_MODEL_aeb1aa3a48dc4211bde4cc7e6f90535f"
      }
     },
     "6b85e2017439421da83650b27feb6323": {
      "model_module": "@jupyter-widgets/controls",
      "model_module_version": "1.5.0",
      "model_name": "FloatProgressModel",
      "state": {
       "bar_style": "success",
       "layout": "IPY_MODEL_4765e19f62d047418b01b76d27138bf2",
       "max": 466062,
       "style": "IPY_MODEL_1b6eb8996dbb4d83960bc5b10eee10de",
       "value": 466062
      }
     },
     "6be7b194adc74da4b73b965a9d3bde78": {
      "model_module": "@jupyter-widgets/base",
      "model_module_version": "1.2.0",
      "model_name": "LayoutModel",
      "state": {}
     },
     "6bfb3392bec44f9a936cfa4a32b0e762": {
      "model_module": "@jupyter-widgets/base",
      "model_module_version": "1.2.0",
      "model_name": "LayoutModel",
      "state": {}
     },
     "6c44cd5859e545aaa0aee7cec2db5d2d": {
      "model_module": "@jupyter-widgets/controls",
      "model_module_version": "1.5.0",
      "model_name": "HTMLModel",
      "state": {
       "layout": "IPY_MODEL_03f50b97e8cf46b6b75070f0af161f40",
       "style": "IPY_MODEL_54ef084c2c7e4ab39025c0d0ebe93f77",
       "value": "100%"
      }
     },
     "6c476ff49722445a822ed8aa30a6853a": {
      "model_module": "@jupyter-widgets/controls",
      "model_module_version": "1.5.0",
      "model_name": "DescriptionStyleModel",
      "state": {
       "description_width": ""
      }
     },
     "6c81d3ca527e439da686d6bafdbd3b60": {
      "model_module": "@jupyter-widgets/controls",
      "model_module_version": "1.5.0",
      "model_name": "DescriptionStyleModel",
      "state": {
       "description_width": ""
      }
     },
     "6c8e43e787744ecdadc617c13be79c04": {
      "model_module": "@jupyter-widgets/controls",
      "model_module_version": "1.5.0",
      "model_name": "DescriptionStyleModel",
      "state": {
       "description_width": ""
      }
     },
     "6ca351c355534f66bfa466269d532cac": {
      "model_module": "@jupyter-widgets/controls",
      "model_module_version": "1.5.0",
      "model_name": "HTMLModel",
      "state": {
       "layout": "IPY_MODEL_0f3b362adcab48f4aa905964e2be7f64",
       "style": "IPY_MODEL_eecf7bf2098d4cb0b2291fd46c47c124",
       "value": " 104/104 [1:13:19&lt;00:00, 35.48s/ba]"
      }
     },
     "6cd0c42cdc3b40f492b5724d34af6be2": {
      "model_module": "@jupyter-widgets/base",
      "model_module_version": "1.2.0",
      "model_name": "LayoutModel",
      "state": {}
     },
     "6cd9a371c76a489eabaa895b20629644": {
      "model_module": "@jupyter-widgets/controls",
      "model_module_version": "1.5.0",
      "model_name": "ProgressStyleModel",
      "state": {
       "description_width": ""
      }
     },
     "6ce2efa62fe940839115bd190c575012": {
      "model_module": "@jupyter-widgets/controls",
      "model_module_version": "1.5.0",
      "model_name": "DescriptionStyleModel",
      "state": {
       "description_width": ""
      }
     },
     "6cfae29c9f824a5b8c1be6dcaf8845ef": {
      "model_module": "@jupyter-widgets/base",
      "model_module_version": "1.2.0",
      "model_name": "LayoutModel",
      "state": {}
     },
     "6d0e69737b8246328d295d5b1a8835b4": {
      "model_module": "@jupyter-widgets/base",
      "model_module_version": "1.2.0",
      "model_name": "LayoutModel",
      "state": {}
     },
     "6d23063dd25e43db9fdc80a2d2fb64de": {
      "model_module": "@jupyter-widgets/base",
      "model_module_version": "1.2.0",
      "model_name": "LayoutModel",
      "state": {}
     },
     "6d2de3435488455295f9275d3725315f": {
      "model_module": "@jupyter-widgets/controls",
      "model_module_version": "1.5.0",
      "model_name": "HTMLModel",
      "state": {
       "layout": "IPY_MODEL_157a5e463ff144d08bfc40267fee4550",
       "style": "IPY_MODEL_9cfe9de714494257aaa49fa6f315e58e",
       "value": " 1/1 [00:02&lt;00:00,  2.11s/ba]"
      }
     },
     "6d3e0bcfaa484386a5b6164b93103e69": {
      "model_module": "@jupyter-widgets/controls",
      "model_module_version": "1.5.0",
      "model_name": "HTMLModel",
      "state": {
       "layout": "IPY_MODEL_d24289a07a26421692f159d44a1cc383",
       "style": "IPY_MODEL_967b9863616e43cb9a065e80179ff23f",
       "value": " 1/1 [00:02&lt;00:00,  2.09s/ba]"
      }
     },
     "6d44a8bb173c4632b1d87ec49c095b61": {
      "model_module": "@jupyter-widgets/controls",
      "model_module_version": "1.5.0",
      "model_name": "FloatProgressModel",
      "state": {
       "bar_style": "success",
       "layout": "IPY_MODEL_00630fb513ed4a36ac350660222a86e9",
       "max": 1,
       "style": "IPY_MODEL_ea11ee679cb54c72baaf13661485760a",
       "value": 1
      }
     },
     "6d626770e5cf40d49e714ef25820f770": {
      "model_module": "@jupyter-widgets/controls",
      "model_module_version": "1.5.0",
      "model_name": "FloatProgressModel",
      "state": {
       "bar_style": "success",
       "layout": "IPY_MODEL_f79b6cb5c3a24b8ea40d53dad753dcb6",
       "max": 1,
       "style": "IPY_MODEL_c40186b5ce71493883efd7a6b7fdd6c0",
       "value": 1
      }
     },
     "6d6642d700294c399782ff03771d8f20": {
      "model_module": "@jupyter-widgets/controls",
      "model_module_version": "1.5.0",
      "model_name": "ProgressStyleModel",
      "state": {
       "description_width": ""
      }
     },
     "6d8a1a1e219d4c2694a64b88e087899c": {
      "model_module": "@jupyter-widgets/controls",
      "model_module_version": "1.5.0",
      "model_name": "HTMLModel",
      "state": {
       "layout": "IPY_MODEL_4c836450b835416d91dbf233e2bc5f2e",
       "style": "IPY_MODEL_64901bee4db14cbfbb2c64a95cd712f0",
       "value": "100%"
      }
     },
     "6d8fee05dfb14042a1a281d36c31b168": {
      "model_module": "@jupyter-widgets/controls",
      "model_module_version": "1.5.0",
      "model_name": "HTMLModel",
      "state": {
       "layout": "IPY_MODEL_01be6ff911e14ea095fcad15664cb5ba",
       "style": "IPY_MODEL_8e33b3506f554b76bb36c296675e2e1e",
       "value": " 100/100 [10:34&lt;00:00,  6.34s/it]"
      }
     },
     "6dcfe71cad214ecf89909d59c74781fb": {
      "model_module": "@jupyter-widgets/base",
      "model_module_version": "1.2.0",
      "model_name": "LayoutModel",
      "state": {}
     },
     "6dd8fbd78a9d49869ba7bb97907c058e": {
      "model_module": "@jupyter-widgets/controls",
      "model_module_version": "1.5.0",
      "model_name": "HTMLModel",
      "state": {
       "layout": "IPY_MODEL_edf4e2982466435b8c39d855dc161edb",
       "style": "IPY_MODEL_842c66a0cbd14ce9bb5279c5c0250db9",
       "value": " 100/100 [00:01&lt;00:00,  1.00it/s]"
      }
     },
     "6ddba101db3c4eb285affb2d0866d381": {
      "model_module": "@jupyter-widgets/controls",
      "model_module_version": "1.5.0",
      "model_name": "HTMLModel",
      "state": {
       "layout": "IPY_MODEL_140b2343c42449bf8460b1b7d3294e73",
       "style": "IPY_MODEL_7b91bdb2512d455eb00474fb97b8da3c",
       "value": " 100/100 [12:10&lt;00:00,  5.17s/it]"
      }
     },
     "6df5eeb44a2446e09c6d9060a9c5ad6b": {
      "model_module": "@jupyter-widgets/controls",
      "model_module_version": "1.5.0",
      "model_name": "ProgressStyleModel",
      "state": {
       "description_width": ""
      }
     },
     "6e322fdd4dc643888db868caebcb072f": {
      "model_module": "@jupyter-widgets/controls",
      "model_module_version": "1.5.0",
      "model_name": "FloatProgressModel",
      "state": {
       "bar_style": "success",
       "layout": "IPY_MODEL_7bb6f29931514e61a9854370fbd89cef",
       "style": "IPY_MODEL_bd3266f8c9b14e6baa40da1a3882fcb9",
       "value": 100
      }
     },
     "6e32c65160424c078b6eb4d8cd4a31fe": {
      "model_module": "@jupyter-widgets/base",
      "model_module_version": "1.2.0",
      "model_name": "LayoutModel",
      "state": {}
     },
     "6e4416ec2c1b452fadde4e3dd22c8381": {
      "model_module": "@jupyter-widgets/controls",
      "model_module_version": "1.5.0",
      "model_name": "HTMLModel",
      "state": {
       "layout": "IPY_MODEL_a9e2d60ab1fd4356bbfb703299257ae6",
       "style": "IPY_MODEL_03a69a9128e64add94aca74f11cecc35",
       "value": "100%"
      }
     },
     "6e4d94454e944fe99753f441351cca7a": {
      "model_module": "@jupyter-widgets/controls",
      "model_module_version": "1.5.0",
      "model_name": "HBoxModel",
      "state": {
       "children": [
        "IPY_MODEL_aed6b804b1a540779c63fa531a9737c9",
        "IPY_MODEL_aa6eeda92778422ab8d1b585e8d4c674",
        "IPY_MODEL_c83c166caf394a21b093f7cc3df8ace8"
       ],
       "layout": "IPY_MODEL_0d2463fc8b10423b91f0697178e001c5"
      }
     },
     "6e63f70ae2dd43db81a9e921ad26a05c": {
      "model_module": "@jupyter-widgets/base",
      "model_module_version": "1.2.0",
      "model_name": "LayoutModel",
      "state": {}
     },
     "6e681cc7e6b1403bb6a302b95b3d8714": {
      "model_module": "@jupyter-widgets/controls",
      "model_module_version": "1.5.0",
      "model_name": "HTMLModel",
      "state": {
       "layout": "IPY_MODEL_82c28df45bbe45fd9c8b72aad6f40c43",
       "style": "IPY_MODEL_e3c446383a1e4ae0b9654a4d22853e37",
       "value": "100%"
      }
     },
     "6e6a939ea68945589f732c94b2ed68f8": {
      "model_module": "@jupyter-widgets/controls",
      "model_module_version": "1.5.0",
      "model_name": "HBoxModel",
      "state": {
       "children": [
        "IPY_MODEL_02ca7972859b4f62b9e62a6c0692c60f",
        "IPY_MODEL_cc1247f3d9cc40d2832e685b8d15617d",
        "IPY_MODEL_7615952e739c46928563a6e94b6fb12d"
       ],
       "layout": "IPY_MODEL_97ec11649b534311ae13ed9d00df4c60"
      }
     },
     "6e6a9e7da8464aaea927547c28f7c2b2": {
      "model_module": "@jupyter-widgets/controls",
      "model_module_version": "1.5.0",
      "model_name": "HTMLModel",
      "state": {
       "layout": "IPY_MODEL_1ca66bd2a8dc4ddc9b68d5ab3119ff72",
       "style": "IPY_MODEL_06607b09a0cf4bfb8e83ca826aa061bc",
       "value": " 100/100 [04:04&lt;00:00,  2.32s/it]"
      }
     },
     "6e6e1b6a4fa449e9b1be2213d5df7af8": {
      "model_module": "@jupyter-widgets/controls",
      "model_module_version": "1.5.0",
      "model_name": "ProgressStyleModel",
      "state": {
       "description_width": ""
      }
     },
     "6e773eaba4e24d169d72c755842813b8": {
      "model_module": "@jupyter-widgets/base",
      "model_module_version": "1.2.0",
      "model_name": "LayoutModel",
      "state": {}
     },
     "6ea00318f30048d5a3d24b09134f0a59": {
      "model_module": "@jupyter-widgets/controls",
      "model_module_version": "1.5.0",
      "model_name": "DescriptionStyleModel",
      "state": {
       "description_width": ""
      }
     },
     "6ecaedebeb7b4afd83b1e230e03664d6": {
      "model_module": "@jupyter-widgets/base",
      "model_module_version": "1.2.0",
      "model_name": "LayoutModel",
      "state": {}
     },
     "6ecdea1ca3b544069efcd0efd8b7824f": {
      "model_module": "@jupyter-widgets/base",
      "model_module_version": "1.2.0",
      "model_name": "LayoutModel",
      "state": {}
     },
     "6f0739fe48474751a3322d3565e82ebf": {
      "model_module": "@jupyter-widgets/base",
      "model_module_version": "1.2.0",
      "model_name": "LayoutModel",
      "state": {}
     },
     "6f1c6a210fc748c6a34712097a2f61c0": {
      "model_module": "@jupyter-widgets/base",
      "model_module_version": "1.2.0",
      "model_name": "LayoutModel",
      "state": {}
     },
     "6f58b316e33c4abda508ba1af3f04ae9": {
      "model_module": "@jupyter-widgets/base",
      "model_module_version": "1.2.0",
      "model_name": "LayoutModel",
      "state": {}
     },
     "6f5ef98d8c1d480fa4d316f84cd18be9": {
      "model_module": "@jupyter-widgets/base",
      "model_module_version": "1.2.0",
      "model_name": "LayoutModel",
      "state": {}
     },
     "6f5f71374e4e4fa091f2deae877a8ee1": {
      "model_module": "@jupyter-widgets/controls",
      "model_module_version": "1.5.0",
      "model_name": "ProgressStyleModel",
      "state": {
       "description_width": ""
      }
     },
     "6f5fb8848f77471d99b65dfc57c26e60": {
      "model_module": "@jupyter-widgets/base",
      "model_module_version": "1.2.0",
      "model_name": "LayoutModel",
      "state": {}
     },
     "6f78b3b3d67c437db5110d6e4123d618": {
      "model_module": "@jupyter-widgets/base",
      "model_module_version": "1.2.0",
      "model_name": "LayoutModel",
      "state": {}
     },
     "6fcccecb98034503befd7e28d2371f4a": {
      "model_module": "@jupyter-widgets/controls",
      "model_module_version": "1.5.0",
      "model_name": "HBoxModel",
      "state": {
       "children": [
        "IPY_MODEL_4ff13def209847be9d29c00346958f30",
        "IPY_MODEL_be9aa90f9eae45fca992b11c9393f32a",
        "IPY_MODEL_46ba038366d5478bac473e52fe93bd9d"
       ],
       "layout": "IPY_MODEL_dccf6b9ef11c46ce8249c335353ce51d"
      }
     },
     "6fd9da53223e4cbc87dc44df5ad5e86d": {
      "model_module": "@jupyter-widgets/base",
      "model_module_version": "1.2.0",
      "model_name": "LayoutModel",
      "state": {}
     },
     "6fda593a7648472da0fef06f61451d2e": {
      "model_module": "@jupyter-widgets/controls",
      "model_module_version": "1.5.0",
      "model_name": "DescriptionStyleModel",
      "state": {
       "description_width": ""
      }
     },
     "6fe736dae8334e52b33ad3fde4671a19": {
      "model_module": "@jupyter-widgets/controls",
      "model_module_version": "1.5.0",
      "model_name": "FloatProgressModel",
      "state": {
       "bar_style": "success",
       "layout": "IPY_MODEL_83907f8af9f94034b7e5e6c6bb1b119e",
       "style": "IPY_MODEL_34b5a1695b964b588a5b741ecefb17c3",
       "value": 100
      }
     },
     "6ff7514c680043bc9786a94d91595634": {
      "model_module": "@jupyter-widgets/controls",
      "model_module_version": "1.5.0",
      "model_name": "ProgressStyleModel",
      "state": {
       "description_width": ""
      }
     },
     "6ffd9654539641baaa15eb5d6f92ea03": {
      "model_module": "@jupyter-widgets/base",
      "model_module_version": "1.2.0",
      "model_name": "LayoutModel",
      "state": {}
     },
     "70059544b42e4c50b6a5d94d05e83d65": {
      "model_module": "@jupyter-widgets/controls",
      "model_module_version": "1.5.0",
      "model_name": "FloatProgressModel",
      "state": {
       "bar_style": "success",
       "layout": "IPY_MODEL_ea5e16505e9e4a5582ace4ef1c3b66eb",
       "style": "IPY_MODEL_fb21b06500934a5fbd6a4fbafd8cacfd",
       "value": 100
      }
     },
     "701be3573d3943a0b2e839d9b7b35063": {
      "model_module": "@jupyter-widgets/base",
      "model_module_version": "1.2.0",
      "model_name": "LayoutModel",
      "state": {}
     },
     "70431884c9ff4aa39779c6bb804dce76": {
      "model_module": "@jupyter-widgets/base",
      "model_module_version": "1.2.0",
      "model_name": "LayoutModel",
      "state": {}
     },
     "708e4d5f510c45b6a2764adf67841d39": {
      "model_module": "@jupyter-widgets/base",
      "model_module_version": "1.2.0",
      "model_name": "LayoutModel",
      "state": {}
     },
     "709e13d363244a1ab73cc7aafb93d720": {
      "model_module": "@jupyter-widgets/controls",
      "model_module_version": "1.5.0",
      "model_name": "HTMLModel",
      "state": {
       "layout": "IPY_MODEL_bb73b1e8a627477a889d8660debd1d0d",
       "style": "IPY_MODEL_f5783b71a0eb4d13b85e219f91b5c440",
       "value": " 1/1 [00:00&lt;00:00, 58.77it/s]"
      }
     },
     "70aec90a7b074110b6536b3acfccb95e": {
      "model_module": "@jupyter-widgets/controls",
      "model_module_version": "1.5.0",
      "model_name": "FloatProgressModel",
      "state": {
       "bar_style": "success",
       "layout": "IPY_MODEL_85f3e89211744c34b91f18b895455053",
       "max": 1,
       "style": "IPY_MODEL_4cd0062c90f0474381aadef01e83c3d4",
       "value": 1
      }
     },
     "70cffcfb7e0b451c97da91983e672663": {
      "model_module": "@jupyter-widgets/controls",
      "model_module_version": "1.5.0",
      "model_name": "HTMLModel",
      "state": {
       "layout": "IPY_MODEL_ba9580f39a534dcf9346e1b8e2bca8de",
       "style": "IPY_MODEL_79a9bbd766124689b0c5b361cf7ce8ca",
       "value": " 100/100 [19:19&lt;00:00, 11.94s/it]"
      }
     },
     "70d2ec17bf074dd9b79fb1bf49731158": {
      "model_module": "@jupyter-widgets/base",
      "model_module_version": "1.2.0",
      "model_name": "LayoutModel",
      "state": {}
     },
     "70f2b16e9fd04b4483917a38afc04db6": {
      "model_module": "@jupyter-widgets/controls",
      "model_module_version": "1.5.0",
      "model_name": "DescriptionStyleModel",
      "state": {
       "description_width": ""
      }
     },
     "7102dcc087874fff84d4ec49dd38cdd2": {
      "model_module": "@jupyter-widgets/base",
      "model_module_version": "1.2.0",
      "model_name": "LayoutModel",
      "state": {}
     },
     "712ef34d64a546b1a03bfa63355f8787": {
      "model_module": "@jupyter-widgets/base",
      "model_module_version": "1.2.0",
      "model_name": "LayoutModel",
      "state": {}
     },
     "714634c127734d8997fdedb18a2b0710": {
      "model_module": "@jupyter-widgets/controls",
      "model_module_version": "1.5.0",
      "model_name": "DescriptionStyleModel",
      "state": {
       "description_width": ""
      }
     },
     "71475d5859f347b9b20e9cb24efac828": {
      "model_module": "@jupyter-widgets/controls",
      "model_module_version": "1.5.0",
      "model_name": "DescriptionStyleModel",
      "state": {
       "description_width": ""
      }
     },
     "7149879db6b0441b9fa5be308c83bbd4": {
      "model_module": "@jupyter-widgets/base",
      "model_module_version": "1.2.0",
      "model_name": "LayoutModel",
      "state": {}
     },
     "714ef537f36641e98a68353958b3e248": {
      "model_module": "@jupyter-widgets/controls",
      "model_module_version": "1.5.0",
      "model_name": "HTMLModel",
      "state": {
       "layout": "IPY_MODEL_fe1868d23f9c46e2964c1ebb79379f08",
       "style": "IPY_MODEL_89f3b98e0c814cd5bb473fdd64cfa8dc",
       "value": " 1/1 [00:00&lt;00:00, 99.90it/s]"
      }
     },
     "7152bee118294ff1b980b1e67c87ac64": {
      "model_module": "@jupyter-widgets/controls",
      "model_module_version": "1.5.0",
      "model_name": "DescriptionStyleModel",
      "state": {
       "description_width": ""
      }
     },
     "7166c40ce2ed4642876f4280274705a1": {
      "model_module": "@jupyter-widgets/controls",
      "model_module_version": "1.5.0",
      "model_name": "HTMLModel",
      "state": {
       "layout": "IPY_MODEL_3e351fa3332e4b97a35742fb81ee589e",
       "style": "IPY_MODEL_ce90fc0982a145569ded8ac3b90e68a2",
       "value": "100%"
      }
     },
     "716e4e03c9454d3cae981a9a5cf11ae7": {
      "model_module": "@jupyter-widgets/controls",
      "model_module_version": "1.5.0",
      "model_name": "HBoxModel",
      "state": {
       "children": [
        "IPY_MODEL_ee9307ea9c5943c0bf325d914716ddbf",
        "IPY_MODEL_a14f8b1d8973440491f5b0187687b769",
        "IPY_MODEL_c205fc2fce434418aac48ddbf87a58a8"
       ],
       "layout": "IPY_MODEL_ab3f4398c83a4924b5633c0f9512dcbf"
      }
     },
     "71746b8255194558a7ff4cfb99e62d87": {
      "model_module": "@jupyter-widgets/controls",
      "model_module_version": "1.5.0",
      "model_name": "FloatProgressModel",
      "state": {
       "bar_style": "success",
       "layout": "IPY_MODEL_7b32d950d59745108ec2ec6a48b11da9",
       "style": "IPY_MODEL_c54460bc86fd4cd5b6a3b78ac6cfe2e5",
       "value": 100
      }
     },
     "7190d890c0634433bd1db9e16ec786f6": {
      "model_module": "@jupyter-widgets/controls",
      "model_module_version": "1.5.0",
      "model_name": "DescriptionStyleModel",
      "state": {
       "description_width": ""
      }
     },
     "71a6bb520ac648879def660e686d77c9": {
      "model_module": "@jupyter-widgets/controls",
      "model_module_version": "1.5.0",
      "model_name": "FloatProgressModel",
      "state": {
       "bar_style": "success",
       "layout": "IPY_MODEL_7a939c4868e2440fb8a600372052a0fd",
       "max": 1,
       "style": "IPY_MODEL_ecab70522abb404385c138461f9aaaf8",
       "value": 1
      }
     },
     "71ac2b0ca9fc48e1afa41a19b6377eb8": {
      "model_module": "@jupyter-widgets/base",
      "model_module_version": "1.2.0",
      "model_name": "LayoutModel",
      "state": {}
     },
     "71d64fede69c4ee19031ec239098e731": {
      "model_module": "@jupyter-widgets/base",
      "model_module_version": "1.2.0",
      "model_name": "LayoutModel",
      "state": {}
     },
     "71edf2ed38424841ba99464d8a7d3008": {
      "model_module": "@jupyter-widgets/base",
      "model_module_version": "1.2.0",
      "model_name": "LayoutModel",
      "state": {}
     },
     "720cdf3126084780bdd400327b8a953b": {
      "model_module": "@jupyter-widgets/controls",
      "model_module_version": "1.5.0",
      "model_name": "HTMLModel",
      "state": {
       "layout": "IPY_MODEL_44670dd1629e492db1e27fb8df1c8c4d",
       "style": "IPY_MODEL_d33579662cc247469147af17a582819a",
       "value": "100%"
      }
     },
     "720d47cb98df41c391aed6d21314e21f": {
      "model_module": "@jupyter-widgets/controls",
      "model_module_version": "1.5.0",
      "model_name": "FloatProgressModel",
      "state": {
       "bar_style": "success",
       "layout": "IPY_MODEL_df99c1aa473440e9b61b5c56d18b8e60",
       "max": 1,
       "style": "IPY_MODEL_6f5f71374e4e4fa091f2deae877a8ee1",
       "value": 1
      }
     },
     "7218eac946db47b7aa59026cc1b47aa0": {
      "model_module": "@jupyter-widgets/controls",
      "model_module_version": "1.5.0",
      "model_name": "HTMLModel",
      "state": {
       "layout": "IPY_MODEL_db6a8899cc7c46508e0cfff0b8b04fce",
       "style": "IPY_MODEL_997d9e4621e2444dbc434a53bba425a8",
       "value": " 3/104 [02:25&lt;1:03:49, 37.92s/ba]"
      }
     },
     "721f27caced2418fb74888126845e863": {
      "model_module": "@jupyter-widgets/base",
      "model_module_version": "1.2.0",
      "model_name": "LayoutModel",
      "state": {}
     },
     "7237a491c0ad4090ac3c4924ff9c91a5": {
      "model_module": "@jupyter-widgets/controls",
      "model_module_version": "1.5.0",
      "model_name": "DescriptionStyleModel",
      "state": {
       "description_width": ""
      }
     },
     "723bd2867658427a9ade623d6dbb14fc": {
      "model_module": "@jupyter-widgets/controls",
      "model_module_version": "1.5.0",
      "model_name": "HTMLModel",
      "state": {
       "layout": "IPY_MODEL_8635a0615d394f8ea8b17acec2055bad",
       "style": "IPY_MODEL_061787024fad44eabd2fa263cabc1eaa",
       "value": " 104/104 [1:06:17&lt;00:00, 33.07s/ba]"
      }
     },
     "723eb94b76ed487ea3e0056ad998132a": {
      "model_module": "@jupyter-widgets/controls",
      "model_module_version": "1.5.0",
      "model_name": "HBoxModel",
      "state": {
       "children": [
        "IPY_MODEL_41c75f11da8144ffb4aace3f13d01692",
        "IPY_MODEL_261dc934427045708302e717c9c963e2",
        "IPY_MODEL_92cb7f22bc5346c2a3bbe9642032ca0e"
       ],
       "layout": "IPY_MODEL_7ea5886af0a748388a5e0f4a77fa8940"
      }
     },
     "7268cfada17c40dca50870f572405509": {
      "model_module": "@jupyter-widgets/base",
      "model_module_version": "1.2.0",
      "model_name": "LayoutModel",
      "state": {}
     },
     "72895c62272041668a101a06fe1bea3a": {
      "model_module": "@jupyter-widgets/controls",
      "model_module_version": "1.5.0",
      "model_name": "DescriptionStyleModel",
      "state": {
       "description_width": ""
      }
     },
     "728eb130fcec408da5fa93eb3de89b8d": {
      "model_module": "@jupyter-widgets/controls",
      "model_module_version": "1.5.0",
      "model_name": "DescriptionStyleModel",
      "state": {
       "description_width": ""
      }
     },
     "729aec4ef7ae4ab5831a954766084534": {
      "model_module": "@jupyter-widgets/controls",
      "model_module_version": "1.5.0",
      "model_name": "FloatProgressModel",
      "state": {
       "bar_style": "success",
       "layout": "IPY_MODEL_b076de604be1460eb664fb1c189e44c4",
       "max": 1,
       "style": "IPY_MODEL_7e9932f8f4714f3fa40a2ac5779e44a8",
       "value": 1
      }
     },
     "72a38506c29d4015a7b5c23999ffe3f6": {
      "model_module": "@jupyter-widgets/base",
      "model_module_version": "1.2.0",
      "model_name": "LayoutModel",
      "state": {}
     },
     "72b68b5cd4e94e8b98360a20510faf2d": {
      "model_module": "@jupyter-widgets/controls",
      "model_module_version": "1.5.0",
      "model_name": "HTMLModel",
      "state": {
       "layout": "IPY_MODEL_4f112605ebb44b2ab702acd56910db85",
       "style": "IPY_MODEL_89d70b867ce74c53ae873564888337db",
       "value": "100%"
      }
     },
     "72dd8c23944e4c7285f4ed66deab31e7": {
      "model_module": "@jupyter-widgets/controls",
      "model_module_version": "1.5.0",
      "model_name": "HTMLModel",
      "state": {
       "layout": "IPY_MODEL_30d907909deb4fe284f8311e48d99ad0",
       "style": "IPY_MODEL_ce4a53ea545542e1b0b06459690e0a85",
       "value": " 1/1 [00:00&lt;00:00, 83.26it/s]"
      }
     },
     "72e09886f8ff4b8ea971c500fd1fe265": {
      "model_module": "@jupyter-widgets/controls",
      "model_module_version": "1.5.0",
      "model_name": "DescriptionStyleModel",
      "state": {
       "description_width": ""
      }
     },
     "72e4a14b192c4f06827a02398156914e": {
      "model_module": "@jupyter-widgets/base",
      "model_module_version": "1.2.0",
      "model_name": "LayoutModel",
      "state": {}
     },
     "72f04da934eb48389097859f5b8ec1dc": {
      "model_module": "@jupyter-widgets/controls",
      "model_module_version": "1.5.0",
      "model_name": "HTMLModel",
      "state": {
       "layout": "IPY_MODEL_af1dfd778bb64550a70f6d6e8142d610",
       "style": "IPY_MODEL_98f9e3455cca413a8770cce130bc139f",
       "value": "100%"
      }
     },
     "735471b71d3d42cf8cf3e102c06be662": {
      "model_module": "@jupyter-widgets/base",
      "model_module_version": "1.2.0",
      "model_name": "LayoutModel",
      "state": {}
     },
     "73a812a081674d49b84d71dde5bd1bb6": {
      "model_module": "@jupyter-widgets/base",
      "model_module_version": "1.2.0",
      "model_name": "LayoutModel",
      "state": {}
     },
     "73b45e74c9d04190a199c52ba1bd196e": {
      "model_module": "@jupyter-widgets/controls",
      "model_module_version": "1.5.0",
      "model_name": "HBoxModel",
      "state": {
       "children": [
        "IPY_MODEL_f0ce1865ad104555a324b4bd12c0069d",
        "IPY_MODEL_665eeb9b1afd47bdae30ddb8438d4667",
        "IPY_MODEL_ef20b0be627a48148d7f0fa515189b6d"
       ],
       "layout": "IPY_MODEL_5857b7f885114d4ba6f023f408a289a6"
      }
     },
     "73c32656ce7a41a4af6ab9f72bdcb077": {
      "model_module": "@jupyter-widgets/controls",
      "model_module_version": "1.5.0",
      "model_name": "HTMLModel",
      "state": {
       "layout": "IPY_MODEL_78ddb14645f446afa914b1aebb98af3d",
       "style": "IPY_MODEL_74fbf54a385b4eb0a0b6b0a1e8b1f705",
       "value": "100%"
      }
     },
     "73d2df588a3547a7a675dfd7166018e9": {
      "model_module": "@jupyter-widgets/controls",
      "model_module_version": "1.5.0",
      "model_name": "HTMLModel",
      "state": {
       "layout": "IPY_MODEL_488ec28a06744588a30f35f47e30c4a3",
       "style": "IPY_MODEL_8288d5361f8a4b558e7a72b98d8145a0",
       "value": "100%"
      }
     },
     "73e6bf4108714db78112a6f6ad801443": {
      "model_module": "@jupyter-widgets/base",
      "model_module_version": "1.2.0",
      "model_name": "LayoutModel",
      "state": {}
     },
     "73e742c10e384a59aa47632786b7b9e6": {
      "model_module": "@jupyter-widgets/base",
      "model_module_version": "1.2.0",
      "model_name": "LayoutModel",
      "state": {}
     },
     "73ed43af961b4117b9eee1e6fed5a66d": {
      "model_module": "@jupyter-widgets/base",
      "model_module_version": "1.2.0",
      "model_name": "LayoutModel",
      "state": {}
     },
     "73f201c4758247aaaa6677b755abc3d5": {
      "model_module": "@jupyter-widgets/controls",
      "model_module_version": "1.5.0",
      "model_name": "DescriptionStyleModel",
      "state": {
       "description_width": ""
      }
     },
     "740eb71bb83a4640a2fdc079f44d7c4e": {
      "model_module": "@jupyter-widgets/base",
      "model_module_version": "1.2.0",
      "model_name": "LayoutModel",
      "state": {}
     },
     "74141afd96a14145b6a87035c6d6c6d4": {
      "model_module": "@jupyter-widgets/controls",
      "model_module_version": "1.5.0",
      "model_name": "HTMLModel",
      "state": {
       "layout": "IPY_MODEL_49c6a7a198304a638f250b02d8481aeb",
       "style": "IPY_MODEL_da5cc0a8d1a54c5b92b4cb0f7e30cbf5",
       "value": "100%"
      }
     },
     "742eb7887fc1430b9f1b3999fc603bfd": {
      "model_module": "@jupyter-widgets/controls",
      "model_module_version": "1.5.0",
      "model_name": "HTMLModel",
      "state": {
       "layout": "IPY_MODEL_6566e48d6a0345ebb359d27d2b8282fa",
       "style": "IPY_MODEL_93b672bf9fea4770a312b144247c8662",
       "value": "100%"
      }
     },
     "74462d3311a14544a942e1c4929da493": {
      "model_module": "@jupyter-widgets/base",
      "model_module_version": "1.2.0",
      "model_name": "LayoutModel",
      "state": {}
     },
     "74476b44ab28494498891a1af6bb0141": {
      "model_module": "@jupyter-widgets/base",
      "model_module_version": "1.2.0",
      "model_name": "LayoutModel",
      "state": {}
     },
     "74686eb038ad406da3fb249edaf8fd52": {
      "model_module": "@jupyter-widgets/controls",
      "model_module_version": "1.5.0",
      "model_name": "HTMLModel",
      "state": {
       "layout": "IPY_MODEL_71ac2b0ca9fc48e1afa41a19b6377eb8",
       "style": "IPY_MODEL_b6dc7b7b5a644f938641b0f4fb8089ef",
       "value": "100%"
      }
     },
     "748bc93b269d4d2398cd6d8cea950fd0": {
      "model_module": "@jupyter-widgets/controls",
      "model_module_version": "1.5.0",
      "model_name": "HBoxModel",
      "state": {
       "children": [
        "IPY_MODEL_db9c624cb34847c0b03a4eef2b5c81ae",
        "IPY_MODEL_42f0374c91c348af8e8135977996e8b4",
        "IPY_MODEL_8befbf0b751144ef9f8b628634a782fd"
       ],
       "layout": "IPY_MODEL_09c005526fc74c3982f217f375abc30f"
      }
     },
     "749be08b7869425aa264ede40e315c39": {
      "model_module": "@jupyter-widgets/base",
      "model_module_version": "1.2.0",
      "model_name": "LayoutModel",
      "state": {}
     },
     "74a839d155ee43da921bb66142c54375": {
      "model_module": "@jupyter-widgets/controls",
      "model_module_version": "1.5.0",
      "model_name": "ProgressStyleModel",
      "state": {
       "description_width": ""
      }
     },
     "74e1dbb2e69443459813689ca3941875": {
      "model_module": "@jupyter-widgets/base",
      "model_module_version": "1.2.0",
      "model_name": "LayoutModel",
      "state": {}
     },
     "74ee0c21a13247169a2b407ef71ae449": {
      "model_module": "@jupyter-widgets/base",
      "model_module_version": "1.2.0",
      "model_name": "LayoutModel",
      "state": {}
     },
     "74f8ef90b92d4417b65869fea4abaa32": {
      "model_module": "@jupyter-widgets/base",
      "model_module_version": "1.2.0",
      "model_name": "LayoutModel",
      "state": {}
     },
     "74fbf54a385b4eb0a0b6b0a1e8b1f705": {
      "model_module": "@jupyter-widgets/controls",
      "model_module_version": "1.5.0",
      "model_name": "DescriptionStyleModel",
      "state": {
       "description_width": ""
      }
     },
     "7538c3f41070414da92ec6d9df29dd1f": {
      "model_module": "@jupyter-widgets/base",
      "model_module_version": "1.2.0",
      "model_name": "LayoutModel",
      "state": {}
     },
     "753d2be98e374396be4a2912795d1032": {
      "model_module": "@jupyter-widgets/base",
      "model_module_version": "1.2.0",
      "model_name": "LayoutModel",
      "state": {}
     },
     "754142f2e3e5461e8fa7796c48d761b6": {
      "model_module": "@jupyter-widgets/controls",
      "model_module_version": "1.5.0",
      "model_name": "ProgressStyleModel",
      "state": {
       "description_width": ""
      }
     },
     "75520f09b4ed4dcf9bb26887e5dc6d47": {
      "model_module": "@jupyter-widgets/base",
      "model_module_version": "1.2.0",
      "model_name": "LayoutModel",
      "state": {}
     },
     "755a1542d0714413af3b93f27551c4e6": {
      "model_module": "@jupyter-widgets/controls",
      "model_module_version": "1.5.0",
      "model_name": "DescriptionStyleModel",
      "state": {
       "description_width": ""
      }
     },
     "755b227e7c0247e2893ccca69786dde3": {
      "model_module": "@jupyter-widgets/controls",
      "model_module_version": "1.5.0",
      "model_name": "DescriptionStyleModel",
      "state": {
       "description_width": ""
      }
     },
     "75632185230e491ab0e66c36c12c9b3c": {
      "model_module": "@jupyter-widgets/controls",
      "model_module_version": "1.5.0",
      "model_name": "HTMLModel",
      "state": {
       "layout": "IPY_MODEL_65d765af0cc34646b1cee16e842157cb",
       "style": "IPY_MODEL_f7d246ffa7334d59897bf1f50ec6332c",
       "value": "100%"
      }
     },
     "756ce69e6405404394528f8109e2e024": {
      "model_module": "@jupyter-widgets/controls",
      "model_module_version": "1.5.0",
      "model_name": "HTMLModel",
      "state": {
       "layout": "IPY_MODEL_d96f6eb0d5f04c27af7210845c21d84e",
       "style": "IPY_MODEL_839af19cbdfb4a96a9a464d6c10a17b1",
       "value": "100%"
      }
     },
     "757815166a344758a2e1781af5e9d0f8": {
      "model_module": "@jupyter-widgets/base",
      "model_module_version": "1.2.0",
      "model_name": "LayoutModel",
      "state": {}
     },
     "757d38902e7a4a02b5521a62bd5cde73": {
      "model_module": "@jupyter-widgets/controls",
      "model_module_version": "1.5.0",
      "model_name": "DescriptionStyleModel",
      "state": {
       "description_width": ""
      }
     },
     "758e5ca439c240be98e4ecd74afbc10a": {
      "model_module": "@jupyter-widgets/controls",
      "model_module_version": "1.5.0",
      "model_name": "DescriptionStyleModel",
      "state": {
       "description_width": ""
      }
     },
     "759724d0f23944e58a71c48adb77956d": {
      "model_module": "@jupyter-widgets/controls",
      "model_module_version": "1.5.0",
      "model_name": "HTMLModel",
      "state": {
       "layout": "IPY_MODEL_9f50cfdc1237416a83d5507a2db113f1",
       "style": "IPY_MODEL_3a5bb007b908447aac102424f346bff6",
       "value": " 100/100 [11:57&lt;00:00,  5.28s/it]"
      }
     },
     "7615952e739c46928563a6e94b6fb12d": {
      "model_module": "@jupyter-widgets/controls",
      "model_module_version": "1.5.0",
      "model_name": "HTMLModel",
      "state": {
       "layout": "IPY_MODEL_9919b12a93884eb2bffe8508c8a1879d",
       "style": "IPY_MODEL_459af3d33aee4d2292e6fa3635922863",
       "value": " 1/1 [00:02&lt;00:00,  2.14s/ba]"
      }
     },
     "7642a288e5fd4e678250d9ec13031d30": {
      "model_module": "@jupyter-widgets/controls",
      "model_module_version": "1.5.0",
      "model_name": "ProgressStyleModel",
      "state": {
       "description_width": ""
      }
     },
     "76455b8f8d3f4656b49b944982506cd6": {
      "model_module": "@jupyter-widgets/base",
      "model_module_version": "1.2.0",
      "model_name": "LayoutModel",
      "state": {}
     },
     "764cb220d2aa49a4b424de7c473b161a": {
      "model_module": "@jupyter-widgets/controls",
      "model_module_version": "1.5.0",
      "model_name": "HTMLModel",
      "state": {
       "layout": "IPY_MODEL_b2952cb862514d9b8f4bd420634cd7cf",
       "style": "IPY_MODEL_839ce9688b444df98afbb8db8d4e8bfb",
       "value": " 0/133 [00:00&lt;?, ?ba/s]"
      }
     },
     "7656a25cf91542638cbed550fb802ed5": {
      "model_module": "@jupyter-widgets/controls",
      "model_module_version": "1.5.0",
      "model_name": "ProgressStyleModel",
      "state": {
       "description_width": ""
      }
     },
     "7665a1d796534778b9368ec3e4de4a83": {
      "model_module": "@jupyter-widgets/controls",
      "model_module_version": "1.5.0",
      "model_name": "DescriptionStyleModel",
      "state": {
       "description_width": ""
      }
     },
     "76813d3e5a4b43e591746ce3db4c9cf3": {
      "model_module": "@jupyter-widgets/controls",
      "model_module_version": "1.5.0",
      "model_name": "DescriptionStyleModel",
      "state": {
       "description_width": ""
      }
     },
     "76856cd5ee3a4a5f8ce6b2e7176a8bac": {
      "model_module": "@jupyter-widgets/base",
      "model_module_version": "1.2.0",
      "model_name": "LayoutModel",
      "state": {}
     },
     "768e30fbd5b54696b40b577217f0cce4": {
      "model_module": "@jupyter-widgets/controls",
      "model_module_version": "1.5.0",
      "model_name": "FloatProgressModel",
      "state": {
       "bar_style": "success",
       "layout": "IPY_MODEL_dd3bb516552f4097a8653b51021bb0fb",
       "max": 1,
       "style": "IPY_MODEL_754142f2e3e5461e8fa7796c48d761b6",
       "value": 1
      }
     },
     "768e460fdab749f6bdff5785c3bcef04": {
      "model_module": "@jupyter-widgets/controls",
      "model_module_version": "1.5.0",
      "model_name": "ProgressStyleModel",
      "state": {
       "description_width": ""
      }
     },
     "769c0790e9f440449cffdd36fb227f45": {
      "model_module": "@jupyter-widgets/base",
      "model_module_version": "1.2.0",
      "model_name": "LayoutModel",
      "state": {}
     },
     "76a0c7a9932d45e0a2a3d106c03d514b": {
      "model_module": "@jupyter-widgets/base",
      "model_module_version": "1.2.0",
      "model_name": "LayoutModel",
      "state": {}
     },
     "76daa2ead7fd4c4798c49ed361d327ee": {
      "model_module": "@jupyter-widgets/controls",
      "model_module_version": "1.5.0",
      "model_name": "ProgressStyleModel",
      "state": {
       "description_width": ""
      }
     },
     "76ed691b443f4c27944c0b914985ed15": {
      "model_module": "@jupyter-widgets/base",
      "model_module_version": "1.2.0",
      "model_name": "LayoutModel",
      "state": {}
     },
     "76fddfa186b24755b2bb8f6081333333": {
      "model_module": "@jupyter-widgets/base",
      "model_module_version": "1.2.0",
      "model_name": "LayoutModel",
      "state": {}
     },
     "7726c30006d74da79b65a5b732167fec": {
      "model_module": "@jupyter-widgets/base",
      "model_module_version": "1.2.0",
      "model_name": "LayoutModel",
      "state": {}
     },
     "773367324a8c4b838b2a90c69eb0ac82": {
      "model_module": "@jupyter-widgets/base",
      "model_module_version": "1.2.0",
      "model_name": "LayoutModel",
      "state": {}
     },
     "777b37251fb646beac4c428bed6c3529": {
      "model_module": "@jupyter-widgets/controls",
      "model_module_version": "1.5.0",
      "model_name": "FloatProgressModel",
      "state": {
       "bar_style": "success",
       "layout": "IPY_MODEL_412d247df6fb4c82972f2566a1178b51",
       "style": "IPY_MODEL_b164ac09a1d0461399d4fd023b7d5259",
       "value": 100
      }
     },
     "77fbaf244bf5422b9b495c6f02cfe1b1": {
      "model_module": "@jupyter-widgets/controls",
      "model_module_version": "1.5.0",
      "model_name": "DescriptionStyleModel",
      "state": {
       "description_width": ""
      }
     },
     "7821a017d19441aa8e361d81f22206eb": {
      "model_module": "@jupyter-widgets/base",
      "model_module_version": "1.2.0",
      "model_name": "LayoutModel",
      "state": {}
     },
     "7824b40e8649448fb416dc4006f61217": {
      "model_module": "@jupyter-widgets/base",
      "model_module_version": "1.2.0",
      "model_name": "LayoutModel",
      "state": {}
     },
     "782c6dbe0e544679824a5dcceb4aac8d": {
      "model_module": "@jupyter-widgets/controls",
      "model_module_version": "1.5.0",
      "model_name": "ProgressStyleModel",
      "state": {
       "description_width": ""
      }
     },
     "78510e9fd37b41399f84dd1e5e8093e1": {
      "model_module": "@jupyter-widgets/controls",
      "model_module_version": "1.5.0",
      "model_name": "FloatProgressModel",
      "state": {
       "layout": "IPY_MODEL_65ef0dca8a39436f9a128a7694c25e79",
       "style": "IPY_MODEL_f6cb85bf48eb423686e054f38e1282a6",
       "value": 32
      }
     },
     "787575d982224792b7fdbb57ceaf4070": {
      "model_module": "@jupyter-widgets/base",
      "model_module_version": "1.2.0",
      "model_name": "LayoutModel",
      "state": {}
     },
     "789b5586807a4d49bdececf4e35bbcaf": {
      "model_module": "@jupyter-widgets/controls",
      "model_module_version": "1.5.0",
      "model_name": "HTMLModel",
      "state": {
       "layout": "IPY_MODEL_44b0fc6f01034d169d9db6245eb92bb5",
       "style": "IPY_MODEL_b143c829387d4484b27389580256684e",
       "value": "100%"
      }
     },
     "789d070c3d2844bca056bd649c8c5c9a": {
      "model_module": "@jupyter-widgets/base",
      "model_module_version": "1.2.0",
      "model_name": "LayoutModel",
      "state": {}
     },
     "78c7bd1bcdec4587a5b8f003f9de1006": {
      "model_module": "@jupyter-widgets/controls",
      "model_module_version": "1.5.0",
      "model_name": "FloatProgressModel",
      "state": {
       "bar_style": "success",
       "layout": "IPY_MODEL_95f4787a138749e38947fe9a88171bb3",
       "style": "IPY_MODEL_aef6ca90b2b0462886f8458590e2628d",
       "value": 100
      }
     },
     "78cf577d783a4de892a9df46d5ed40c9": {
      "model_module": "@jupyter-widgets/base",
      "model_module_version": "1.2.0",
      "model_name": "LayoutModel",
      "state": {}
     },
     "78d55f0794714ddc81f78d70d771c0a8": {
      "model_module": "@jupyter-widgets/controls",
      "model_module_version": "1.5.0",
      "model_name": "ProgressStyleModel",
      "state": {
       "description_width": ""
      }
     },
     "78d7edd2569d458ab451ddee7065926f": {
      "model_module": "@jupyter-widgets/controls",
      "model_module_version": "1.5.0",
      "model_name": "FloatProgressModel",
      "state": {
       "bar_style": "success",
       "layout": "IPY_MODEL_c4761c0a69824fc1bfebb6c088ade846",
       "style": "IPY_MODEL_42594ff592814ce88cb1bac77e965c7b",
       "value": 100
      }
     },
     "78ddb14645f446afa914b1aebb98af3d": {
      "model_module": "@jupyter-widgets/base",
      "model_module_version": "1.2.0",
      "model_name": "LayoutModel",
      "state": {}
     },
     "7917518a43084849befb8a4d1324097f": {
      "model_module": "@jupyter-widgets/controls",
      "model_module_version": "1.5.0",
      "model_name": "FloatProgressModel",
      "state": {
       "bar_style": "success",
       "layout": "IPY_MODEL_95c200c7d03b4eb7bde2cf0b556b9cbe",
       "style": "IPY_MODEL_c0633a2c5c6b4b0ca69902bb921d15ee",
       "value": 100
      }
     },
     "792a6b4726dd4c5b806f8632e60a2f86": {
      "model_module": "@jupyter-widgets/base",
      "model_module_version": "1.2.0",
      "model_name": "LayoutModel",
      "state": {}
     },
     "793c056bd9394c3cb9a4869ed1aa8ce1": {
      "model_module": "@jupyter-widgets/controls",
      "model_module_version": "1.5.0",
      "model_name": "FloatProgressModel",
      "state": {
       "bar_style": "success",
       "layout": "IPY_MODEL_59e3433e993f4b028f01f1cea14be85f",
       "style": "IPY_MODEL_35437aa3298749d888b29357ae43c425",
       "value": 100
      }
     },
     "7944962827a541479f97d394a201802d": {
      "model_module": "@jupyter-widgets/base",
      "model_module_version": "1.2.0",
      "model_name": "LayoutModel",
      "state": {}
     },
     "795de6b4f07145338625bcf498543f6d": {
      "model_module": "@jupyter-widgets/base",
      "model_module_version": "1.2.0",
      "model_name": "LayoutModel",
      "state": {}
     },
     "79624dec635c4046b58f4f355a4fb7cd": {
      "model_module": "@jupyter-widgets/base",
      "model_module_version": "1.2.0",
      "model_name": "LayoutModel",
      "state": {}
     },
     "797d4f38493542b1b83ba943566555bc": {
      "model_module": "@jupyter-widgets/base",
      "model_module_version": "1.2.0",
      "model_name": "LayoutModel",
      "state": {}
     },
     "799c81772b4d4ceda52d8619fc4b0f90": {
      "model_module": "@jupyter-widgets/controls",
      "model_module_version": "1.5.0",
      "model_name": "HBoxModel",
      "state": {
       "children": [
        "IPY_MODEL_7f6b2e7c5abc4694ae25501f22a697a0",
        "IPY_MODEL_ed60c55b230d44ff9e9eb9844c876a6a",
        "IPY_MODEL_a1061536536f4f60b4187396b57c2c30"
       ],
       "layout": "IPY_MODEL_384ac8fc1a9d45bb927364564ea6cc35"
      }
     },
     "79a9bbd766124689b0c5b361cf7ce8ca": {
      "model_module": "@jupyter-widgets/controls",
      "model_module_version": "1.5.0",
      "model_name": "DescriptionStyleModel",
      "state": {
       "description_width": ""
      }
     },
     "79bff5eedbf04cdea955a600fb338bbe": {
      "model_module": "@jupyter-widgets/controls",
      "model_module_version": "1.5.0",
      "model_name": "DescriptionStyleModel",
      "state": {
       "description_width": ""
      }
     },
     "79c3c0228f904aa2afc63b6d3ed9427f": {
      "model_module": "@jupyter-widgets/controls",
      "model_module_version": "1.5.0",
      "model_name": "HBoxModel",
      "state": {
       "children": [
        "IPY_MODEL_d478052867254cf58dcd760f5aaedfbc",
        "IPY_MODEL_28989574cb4149feacf376acae944cf2",
        "IPY_MODEL_ce559e0e06934eb1b4903d0f8ddacd99"
       ],
       "layout": "IPY_MODEL_a676e7c0bcb84534b9aeb41541365806"
      }
     },
     "79d6d3d9c8c04e9b9e438f6d8aa6ebfc": {
      "model_module": "@jupyter-widgets/controls",
      "model_module_version": "1.5.0",
      "model_name": "HTMLModel",
      "state": {
       "layout": "IPY_MODEL_8df64e4529864e22bbbede924f640aa8",
       "style": "IPY_MODEL_6991f234a0414e938ac51b9f5b312e2e",
       "value": " 483/483 [00:00&lt;00:00, 43.9kB/s]"
      }
     },
     "79e54196203f4cf5938faab1618ff855": {
      "model_module": "@jupyter-widgets/controls",
      "model_module_version": "1.5.0",
      "model_name": "HBoxModel",
      "state": {
       "children": [
        "IPY_MODEL_47231bd209cb44a9a8bb9f779d98bec5",
        "IPY_MODEL_f146b2f674d041cebb5f158fefe2abd3",
        "IPY_MODEL_48c32470fc9946fd8eb87089750a5470"
       ],
       "layout": "IPY_MODEL_89264001f6f04479af019124fa83e6c2"
      }
     },
     "7a0580abe3c64b0790e1f4548aa89100": {
      "model_module": "@jupyter-widgets/base",
      "model_module_version": "1.2.0",
      "model_name": "LayoutModel",
      "state": {}
     },
     "7a1340182d52469baa6ea264f23c3547": {
      "model_module": "@jupyter-widgets/controls",
      "model_module_version": "1.5.0",
      "model_name": "DescriptionStyleModel",
      "state": {
       "description_width": ""
      }
     },
     "7a2df04ff1ea45cbafbde2db86aeabbf": {
      "model_module": "@jupyter-widgets/controls",
      "model_module_version": "1.5.0",
      "model_name": "HTMLModel",
      "state": {
       "layout": "IPY_MODEL_37e14bb9dd5241c1a6d1e9016115386a",
       "style": "IPY_MODEL_008995b1cd55425fbd89cb4d0f7991e7",
       "value": "100%"
      }
     },
     "7a6536249f884c5084c464d452db98b9": {
      "model_module": "@jupyter-widgets/controls",
      "model_module_version": "1.5.0",
      "model_name": "HBoxModel",
      "state": {
       "children": [
        "IPY_MODEL_335c0484b1b948be80a51ae8c3a9e48f",
        "IPY_MODEL_bede9b880da247659c6c070e936a6acf",
        "IPY_MODEL_e93a5fafe28942d1a0147c882c4cf79f"
       ],
       "layout": "IPY_MODEL_eb98988d8c6446ac9960db2acb39c23a"
      }
     },
     "7a676e67488b4034a732d97033ed0a47": {
      "model_module": "@jupyter-widgets/base",
      "model_module_version": "1.2.0",
      "model_name": "LayoutModel",
      "state": {}
     },
     "7a8d3606778f4573bdd73204eb14120d": {
      "model_module": "@jupyter-widgets/controls",
      "model_module_version": "1.5.0",
      "model_name": "DescriptionStyleModel",
      "state": {
       "description_width": ""
      }
     },
     "7a939c4868e2440fb8a600372052a0fd": {
      "model_module": "@jupyter-widgets/base",
      "model_module_version": "1.2.0",
      "model_name": "LayoutModel",
      "state": {}
     },
     "7aa5086bf94147a8979114e07df4c7a5": {
      "model_module": "@jupyter-widgets/controls",
      "model_module_version": "1.5.0",
      "model_name": "FloatProgressModel",
      "state": {
       "bar_style": "success",
       "layout": "IPY_MODEL_887dfa556c114f6dad2516e418424fd1",
       "style": "IPY_MODEL_e352590940ec49069fe1df684bc504dd",
       "value": 100
      }
     },
     "7ac54561518f4a2a8d143b8937681e75": {
      "model_module": "@jupyter-widgets/base",
      "model_module_version": "1.2.0",
      "model_name": "LayoutModel",
      "state": {}
     },
     "7ac82dae475049cd86c5849da2106d84": {
      "model_module": "@jupyter-widgets/base",
      "model_module_version": "1.2.0",
      "model_name": "LayoutModel",
      "state": {}
     },
     "7acfaa8af7d44d18821d7bef423db65c": {
      "model_module": "@jupyter-widgets/controls",
      "model_module_version": "1.5.0",
      "model_name": "HTMLModel",
      "state": {
       "layout": "IPY_MODEL_b65079ed310e431f9472090a08f3b2cc",
       "style": "IPY_MODEL_4878d6ed2e3c44cd80173731d9fac31e",
       "value": "100%"
      }
     },
     "7ae0cce6b4784a5582ae48e3ac557976": {
      "model_module": "@jupyter-widgets/controls",
      "model_module_version": "1.5.0",
      "model_name": "DescriptionStyleModel",
      "state": {
       "description_width": ""
      }
     },
     "7ae7fb4cb7834f669570a392c14e2583": {
      "model_module": "@jupyter-widgets/controls",
      "model_module_version": "1.5.0",
      "model_name": "DescriptionStyleModel",
      "state": {
       "description_width": ""
      }
     },
     "7af5125eb6b14c5094e827674f6fbdde": {
      "model_module": "@jupyter-widgets/controls",
      "model_module_version": "1.5.0",
      "model_name": "HBoxModel",
      "state": {
       "children": [
        "IPY_MODEL_b509fdf4c2df4ac3aaf96c6504e01421",
        "IPY_MODEL_c6035aeec2794fba9728362908ae3ea6",
        "IPY_MODEL_7e2616869bdd447287b0dc8686fc3cdb"
       ],
       "layout": "IPY_MODEL_23b4c2f946b34f8c9c2ca0cd98ee80f2"
      }
     },
     "7b025b0df28a42ab8c49969de81d0be7": {
      "model_module": "@jupyter-widgets/controls",
      "model_module_version": "1.5.0",
      "model_name": "HBoxModel",
      "state": {
       "children": [
        "IPY_MODEL_8f5429d179654f4aa65ae8b65e52a473",
        "IPY_MODEL_050eb151c20947c7b1a7d3b7aa217e74",
        "IPY_MODEL_0a967769c24a4ab9977aa2c075ccd243"
       ],
       "layout": "IPY_MODEL_a0d9a59faf45418d8770e8dc4c612833"
      }
     },
     "7b19809f986c43e8b2efcac548f0d7e5": {
      "model_module": "@jupyter-widgets/controls",
      "model_module_version": "1.5.0",
      "model_name": "HBoxModel",
      "state": {
       "children": [
        "IPY_MODEL_7166c40ce2ed4642876f4280274705a1",
        "IPY_MODEL_22d34f63aed74de09b8c83b2822e4d91",
        "IPY_MODEL_b70cd02fdbc04563a82a510be155a833"
       ],
       "layout": "IPY_MODEL_ed1979c55ff14e11b6cc2310a97dde59"
      }
     },
     "7b1cba46fbb2477c9c1cf722701cc360": {
      "model_module": "@jupyter-widgets/controls",
      "model_module_version": "1.5.0",
      "model_name": "ProgressStyleModel",
      "state": {
       "description_width": ""
      }
     },
     "7b1f927758b64081b769901ee8b3b757": {
      "model_module": "@jupyter-widgets/base",
      "model_module_version": "1.2.0",
      "model_name": "LayoutModel",
      "state": {}
     },
     "7b32d950d59745108ec2ec6a48b11da9": {
      "model_module": "@jupyter-widgets/base",
      "model_module_version": "1.2.0",
      "model_name": "LayoutModel",
      "state": {}
     },
     "7b7bbe28ca25407db60cd8fbbe7a1cf4": {
      "model_module": "@jupyter-widgets/controls",
      "model_module_version": "1.5.0",
      "model_name": "DescriptionStyleModel",
      "state": {
       "description_width": ""
      }
     },
     "7b911913ced0471686224040649936c9": {
      "model_module": "@jupyter-widgets/base",
      "model_module_version": "1.2.0",
      "model_name": "LayoutModel",
      "state": {}
     },
     "7b91bdb2512d455eb00474fb97b8da3c": {
      "model_module": "@jupyter-widgets/controls",
      "model_module_version": "1.5.0",
      "model_name": "DescriptionStyleModel",
      "state": {
       "description_width": ""
      }
     },
     "7bb6f29931514e61a9854370fbd89cef": {
      "model_module": "@jupyter-widgets/base",
      "model_module_version": "1.2.0",
      "model_name": "LayoutModel",
      "state": {}
     },
     "7bcc194d50d642a9adf3d209f1c0376d": {
      "model_module": "@jupyter-widgets/base",
      "model_module_version": "1.2.0",
      "model_name": "LayoutModel",
      "state": {}
     },
     "7bcd2526b0be4651ae6880e2fdcd0c8b": {
      "model_module": "@jupyter-widgets/base",
      "model_module_version": "1.2.0",
      "model_name": "LayoutModel",
      "state": {}
     },
     "7bd2fa9c24ee4b66ad1cfbd5d3c62f10": {
      "model_module": "@jupyter-widgets/base",
      "model_module_version": "1.2.0",
      "model_name": "LayoutModel",
      "state": {}
     },
     "7bd5ec9529484d78b382fb561559459b": {
      "model_module": "@jupyter-widgets/controls",
      "model_module_version": "1.5.0",
      "model_name": "FloatProgressModel",
      "state": {
       "bar_style": "success",
       "layout": "IPY_MODEL_97816f2e587a430f9d6c79a7bc54eb74",
       "max": 1,
       "style": "IPY_MODEL_539792181bd3472f90527411cb639bf8",
       "value": 1
      }
     },
     "7bf19d6fb43447fdb14eac1b2601a071": {
      "model_module": "@jupyter-widgets/controls",
      "model_module_version": "1.5.0",
      "model_name": "HTMLModel",
      "state": {
       "layout": "IPY_MODEL_504c1cd031b945f08c661d142e774d4b",
       "style": "IPY_MODEL_e4fbf0d87cbb4303a41082e2d2e093c4",
       "value": "100%"
      }
     },
     "7bfb97b5077b429da53e92a71711856b": {
      "model_module": "@jupyter-widgets/controls",
      "model_module_version": "1.5.0",
      "model_name": "DescriptionStyleModel",
      "state": {
       "description_width": ""
      }
     },
     "7c0a5612a5be419b8d9705556123d1f3": {
      "model_module": "@jupyter-widgets/base",
      "model_module_version": "1.2.0",
      "model_name": "LayoutModel",
      "state": {}
     },
     "7c1cb50d76de4d8884b5ef7a306b1817": {
      "model_module": "@jupyter-widgets/base",
      "model_module_version": "1.2.0",
      "model_name": "LayoutModel",
      "state": {}
     },
     "7c1e89b06a724b3d862fd07792961639": {
      "model_module": "@jupyter-widgets/controls",
      "model_module_version": "1.5.0",
      "model_name": "ProgressStyleModel",
      "state": {
       "description_width": ""
      }
     },
     "7c2c5a94f57e43018f56d0240cb66b27": {
      "model_module": "@jupyter-widgets/controls",
      "model_module_version": "1.5.0",
      "model_name": "FloatProgressModel",
      "state": {
       "bar_style": "success",
       "layout": "IPY_MODEL_c7a07a6832b64d47aa261baf6cfc12a7",
       "max": 1,
       "style": "IPY_MODEL_a574776c5645469daff58eeb0790eab8",
       "value": 1
      }
     },
     "7c4cb4d93bb04cd29c8d9afcddebc6d0": {
      "model_module": "@jupyter-widgets/base",
      "model_module_version": "1.2.0",
      "model_name": "LayoutModel",
      "state": {}
     },
     "7c7bf678f9db49cf9dce4de40aca1f2c": {
      "model_module": "@jupyter-widgets/controls",
      "model_module_version": "1.5.0",
      "model_name": "HTMLModel",
      "state": {
       "layout": "IPY_MODEL_db5708508a3b480d8f8fb534f4b5b148",
       "style": "IPY_MODEL_c331b52d546e4fc9ab6077091546df30",
       "value": " 100/100 [10:44&lt;00:00,  6.44s/it]"
      }
     },
     "7c7de599dc00413db8f14f553d9b7d35": {
      "model_module": "@jupyter-widgets/base",
      "model_module_version": "1.2.0",
      "model_name": "LayoutModel",
      "state": {}
     },
     "7c859a12ef6b44bcbe108f7f66fccb1a": {
      "model_module": "@jupyter-widgets/base",
      "model_module_version": "1.2.0",
      "model_name": "LayoutModel",
      "state": {}
     },
     "7cab918cd8f84022985eb8691cd4c672": {
      "model_module": "@jupyter-widgets/base",
      "model_module_version": "1.2.0",
      "model_name": "LayoutModel",
      "state": {}
     },
     "7cf15226a63247cbbcfc255956a6c755": {
      "model_module": "@jupyter-widgets/controls",
      "model_module_version": "1.5.0",
      "model_name": "HBoxModel",
      "state": {
       "children": [
        "IPY_MODEL_9afcecc31da0451382ff3a13be6e2832",
        "IPY_MODEL_a703f641e4e7494eb0dff7b7e9ba4b9a",
        "IPY_MODEL_6874a1c6919f41388287500dce3f6bc5"
       ],
       "layout": "IPY_MODEL_0d456d1bc553491297c8ee32078efae0"
      }
     },
     "7cf54503b9a44a7bb92a254a614408ad": {
      "model_module": "@jupyter-widgets/base",
      "model_module_version": "1.2.0",
      "model_name": "LayoutModel",
      "state": {}
     },
     "7d0739f186f3460888603f9903f08e2b": {
      "model_module": "@jupyter-widgets/controls",
      "model_module_version": "1.5.0",
      "model_name": "HTMLModel",
      "state": {
       "layout": "IPY_MODEL_d16374fe48f147458f61b73c638e6ede",
       "style": "IPY_MODEL_d6a0a4cce0e1421a997283777d06041a",
       "value": "100%"
      }
     },
     "7d1314a00b714f63b8a21b2f87442b1b": {
      "model_module": "@jupyter-widgets/controls",
      "model_module_version": "1.5.0",
      "model_name": "HTMLModel",
      "state": {
       "layout": "IPY_MODEL_79624dec635c4046b58f4f355a4fb7cd",
       "style": "IPY_MODEL_ab1cfaabbf6047b0b977d2d0ad7f1ad4",
       "value": " 1/1 [00:01&lt;00:00,  1.96s/ba]"
      }
     },
     "7d1e8b0c9e5647fa96a01e1e0fbb39a5": {
      "model_module": "@jupyter-widgets/controls",
      "model_module_version": "1.5.0",
      "model_name": "DescriptionStyleModel",
      "state": {
       "description_width": ""
      }
     },
     "7d38fc1adc3d4d7cb9da0fff62d1a0a5": {
      "model_module": "@jupyter-widgets/base",
      "model_module_version": "1.2.0",
      "model_name": "LayoutModel",
      "state": {}
     },
     "7d3981610ac1482cad9cb36088832429": {
      "model_module": "@jupyter-widgets/controls",
      "model_module_version": "1.5.0",
      "model_name": "DescriptionStyleModel",
      "state": {
       "description_width": ""
      }
     },
     "7d3c339e17c34088828b148398fdb6c4": {
      "model_module": "@jupyter-widgets/controls",
      "model_module_version": "1.5.0",
      "model_name": "DescriptionStyleModel",
      "state": {
       "description_width": ""
      }
     },
     "7d47ccf5d91d459ca1e107454063462b": {
      "model_module": "@jupyter-widgets/base",
      "model_module_version": "1.2.0",
      "model_name": "LayoutModel",
      "state": {}
     },
     "7d4f538be5a94bd0951c147bdb3ab4bc": {
      "model_module": "@jupyter-widgets/controls",
      "model_module_version": "1.5.0",
      "model_name": "DescriptionStyleModel",
      "state": {
       "description_width": ""
      }
     },
     "7d4f9e319e9849d2b3fcee07e10cbbb9": {
      "model_module": "@jupyter-widgets/controls",
      "model_module_version": "1.5.0",
      "model_name": "FloatProgressModel",
      "state": {
       "bar_style": "success",
       "layout": "IPY_MODEL_9f39c48c482441d2af7f821d3b079314",
       "style": "IPY_MODEL_a6e999bb8ff74462ae69b2b3df469132",
       "value": 100
      }
     },
     "7d592f90e8a14563b68d8d5593908f83": {
      "model_module": "@jupyter-widgets/controls",
      "model_module_version": "1.5.0",
      "model_name": "FloatProgressModel",
      "state": {
       "bar_style": "success",
       "layout": "IPY_MODEL_2b690e8b18e9420980d49f4f64ee0a4e",
       "max": 133,
       "style": "IPY_MODEL_b1fd50246a97413bb011ef87f1a18051",
       "value": 133
      }
     },
     "7d5b5a60493141689e1f7953d4bacaad": {
      "model_module": "@jupyter-widgets/base",
      "model_module_version": "1.2.0",
      "model_name": "LayoutModel",
      "state": {}
     },
     "7d5ba3547570482b991e8258d9789a35": {
      "model_module": "@jupyter-widgets/base",
      "model_module_version": "1.2.0",
      "model_name": "LayoutModel",
      "state": {}
     },
     "7d62edf059a64f7a9ec46a582f1a6560": {
      "model_module": "@jupyter-widgets/base",
      "model_module_version": "1.2.0",
      "model_name": "LayoutModel",
      "state": {}
     },
     "7d6a563266ba49e58f6f42f1cdb3c26e": {
      "model_module": "@jupyter-widgets/controls",
      "model_module_version": "1.5.0",
      "model_name": "HTMLModel",
      "state": {
       "layout": "IPY_MODEL_4f394b12555d4062b96b7631a2d61216",
       "style": "IPY_MODEL_698aaf4c94e744b9967cc26045fa71c2",
       "value": " 0/100 [00:01&lt;?, ?it/s]"
      }
     },
     "7d824ae6ee4146ea96d0cdb390147098": {
      "model_module": "@jupyter-widgets/base",
      "model_module_version": "1.2.0",
      "model_name": "LayoutModel",
      "state": {}
     },
     "7de22a6080184fe4a59e897c5d05d026": {
      "model_module": "@jupyter-widgets/controls",
      "model_module_version": "1.5.0",
      "model_name": "HBoxModel",
      "state": {
       "children": [
        "IPY_MODEL_106c32f9d64b4b76b5ee05f3fe47e9ab",
        "IPY_MODEL_3a707108ca1f4d239e13dc38ff00a9b4",
        "IPY_MODEL_2674b6d3d511480e9cc7f4a96eae9674"
       ],
       "layout": "IPY_MODEL_93a55c0bdb6647828c4ab3477477cad4"
      }
     },
     "7de72f5b66034832a84a6afee99b0ff5": {
      "model_module": "@jupyter-widgets/controls",
      "model_module_version": "1.5.0",
      "model_name": "ProgressStyleModel",
      "state": {
       "description_width": ""
      }
     },
     "7dec94eb289347e2ac63d1e21c8d0997": {
      "model_module": "@jupyter-widgets/controls",
      "model_module_version": "1.5.0",
      "model_name": "HTMLModel",
      "state": {
       "layout": "IPY_MODEL_9f510d7e50e544e7b4ea341ca34353ba",
       "style": "IPY_MODEL_7f06b32fa3b14196ba0810cc6201f52e",
       "value": " 9/133 [00:02&lt;00:36,  3.37ba/s]"
      }
     },
     "7ded20eacae54049bb5208feec1708c6": {
      "model_module": "@jupyter-widgets/controls",
      "model_module_version": "1.5.0",
      "model_name": "HBoxModel",
      "state": {
       "children": [
        "IPY_MODEL_c1ed991ea06a40879d139c99149a3a24",
        "IPY_MODEL_10b1e65dbd8647f1ad6a3e63312404c0",
        "IPY_MODEL_d1afb37eb1ad4af888454709f62e39e9"
       ],
       "layout": "IPY_MODEL_fa4890e2438f4b25b9382d262af94a16"
      }
     },
     "7e1bfa5a13634e16bfa56eb728ae8ea6": {
      "model_module": "@jupyter-widgets/base",
      "model_module_version": "1.2.0",
      "model_name": "LayoutModel",
      "state": {}
     },
     "7e2616869bdd447287b0dc8686fc3cdb": {
      "model_module": "@jupyter-widgets/controls",
      "model_module_version": "1.5.0",
      "model_name": "HTMLModel",
      "state": {
       "layout": "IPY_MODEL_73e6bf4108714db78112a6f6ad801443",
       "style": "IPY_MODEL_7d3981610ac1482cad9cb36088832429",
       "value": " 1/1 [00:00&lt;00:00, 99.90it/s]"
      }
     },
     "7e3876414de74a58ae0161e644a8d9b8": {
      "model_module": "@jupyter-widgets/controls",
      "model_module_version": "1.5.0",
      "model_name": "DescriptionStyleModel",
      "state": {
       "description_width": ""
      }
     },
     "7e602c3498a74dd2a68e68fc3a92a283": {
      "model_module": "@jupyter-widgets/base",
      "model_module_version": "1.2.0",
      "model_name": "LayoutModel",
      "state": {}
     },
     "7e67c49db1ab44089b8cf600cc1e85af": {
      "model_module": "@jupyter-widgets/base",
      "model_module_version": "1.2.0",
      "model_name": "LayoutModel",
      "state": {}
     },
     "7e968da2512e47a19e9806e5a7506e3d": {
      "model_module": "@jupyter-widgets/controls",
      "model_module_version": "1.5.0",
      "model_name": "HTMLModel",
      "state": {
       "layout": "IPY_MODEL_fc4687ca0b62482c9326dbd5c08d8f03",
       "style": "IPY_MODEL_d145af4f994c4953a5a07989c05e3ba4",
       "value": "100%"
      }
     },
     "7e9932f8f4714f3fa40a2ac5779e44a8": {
      "model_module": "@jupyter-widgets/controls",
      "model_module_version": "1.5.0",
      "model_name": "ProgressStyleModel",
      "state": {
       "description_width": ""
      }
     },
     "7ea5886af0a748388a5e0f4a77fa8940": {
      "model_module": "@jupyter-widgets/base",
      "model_module_version": "1.2.0",
      "model_name": "LayoutModel",
      "state": {}
     },
     "7eaf3abf0a5744268a2033564bed873e": {
      "model_module": "@jupyter-widgets/base",
      "model_module_version": "1.2.0",
      "model_name": "LayoutModel",
      "state": {}
     },
     "7eba0bce338741da9ff5dba3baa51ee3": {
      "model_module": "@jupyter-widgets/base",
      "model_module_version": "1.2.0",
      "model_name": "LayoutModel",
      "state": {}
     },
     "7eca940ee73449db8af6d28b66d91e23": {
      "model_module": "@jupyter-widgets/base",
      "model_module_version": "1.2.0",
      "model_name": "LayoutModel",
      "state": {}
     },
     "7ecdc818fbc549dba20bc9fad7dc7898": {
      "model_module": "@jupyter-widgets/controls",
      "model_module_version": "1.5.0",
      "model_name": "HTMLModel",
      "state": {
       "layout": "IPY_MODEL_85cdb17702904d49877f71d87ed1bf3f",
       "style": "IPY_MODEL_66f4aa4f026540abb25af1ea8725239f",
       "value": " 100/100 [19:53&lt;00:00, 21.29s/it]"
      }
     },
     "7ed4c14f9961423b8b93ed56c33ba0d8": {
      "model_module": "@jupyter-widgets/controls",
      "model_module_version": "1.5.0",
      "model_name": "HBoxModel",
      "state": {
       "children": [
        "IPY_MODEL_11384f97046c4322bd70285cfe261486",
        "IPY_MODEL_6d626770e5cf40d49e714ef25820f770",
        "IPY_MODEL_894ed9b20ff24469831ac3a248a4fbeb"
       ],
       "layout": "IPY_MODEL_837aae15117d4bfabc9753a901bf2269"
      }
     },
     "7ede590b3dc64ffa9529f3497c31da74": {
      "model_module": "@jupyter-widgets/controls",
      "model_module_version": "1.5.0",
      "model_name": "DescriptionStyleModel",
      "state": {
       "description_width": ""
      }
     },
     "7eee2b2dcb544c0bb7371e688208467c": {
      "model_module": "@jupyter-widgets/base",
      "model_module_version": "1.2.0",
      "model_name": "LayoutModel",
      "state": {}
     },
     "7f06b32fa3b14196ba0810cc6201f52e": {
      "model_module": "@jupyter-widgets/controls",
      "model_module_version": "1.5.0",
      "model_name": "DescriptionStyleModel",
      "state": {
       "description_width": ""
      }
     },
     "7f0d330da2c44ce2bde868da913b9a49": {
      "model_module": "@jupyter-widgets/controls",
      "model_module_version": "1.5.0",
      "model_name": "HTMLModel",
      "state": {
       "layout": "IPY_MODEL_336ad8f2719a4ef0bdbab4eeba56c50e",
       "style": "IPY_MODEL_2103c4bb1fab4033b5cb5c9121cd6c05",
       "value": "100%"
      }
     },
     "7f2f8e0695454b22b968e7d4fae2ddb4": {
      "model_module": "@jupyter-widgets/controls",
      "model_module_version": "1.5.0",
      "model_name": "DescriptionStyleModel",
      "state": {
       "description_width": ""
      }
     },
     "7f33f930f1354339bd48b485f9364de3": {
      "model_module": "@jupyter-widgets/controls",
      "model_module_version": "1.5.0",
      "model_name": "DescriptionStyleModel",
      "state": {
       "description_width": ""
      }
     },
     "7f3de00ff9064574b7377522bedd1bc5": {
      "model_module": "@jupyter-widgets/controls",
      "model_module_version": "1.5.0",
      "model_name": "DescriptionStyleModel",
      "state": {
       "description_width": ""
      }
     },
     "7f47fbdac21c470abed74dec7b61b955": {
      "model_module": "@jupyter-widgets/controls",
      "model_module_version": "1.5.0",
      "model_name": "HBoxModel",
      "state": {
       "children": [
        "IPY_MODEL_1c76686cbb9940aa98606cfd11fd81f2",
        "IPY_MODEL_1614248d48a04b65971459372e734d0d",
        "IPY_MODEL_6a335e6e85264c00abba58092fe7aceb"
       ],
       "layout": "IPY_MODEL_86c7d2ccf7f447819f3249e1d257a2f6"
      }
     },
     "7f6a9b6edd864106a8948ff6c27bda9e": {
      "model_module": "@jupyter-widgets/base",
      "model_module_version": "1.2.0",
      "model_name": "LayoutModel",
      "state": {}
     },
     "7f6b2e7c5abc4694ae25501f22a697a0": {
      "model_module": "@jupyter-widgets/controls",
      "model_module_version": "1.5.0",
      "model_name": "HTMLModel",
      "state": {
       "layout": "IPY_MODEL_b04c3606038c4fb3b5e14b62b7568b7c",
       "style": "IPY_MODEL_fb87be4cad384f3e9768f3eb85018bfb",
       "value": "100%"
      }
     },
     "7f6bef0422a6424a92eccdcc065ae3ed": {
      "model_module": "@jupyter-widgets/controls",
      "model_module_version": "1.5.0",
      "model_name": "HTMLModel",
      "state": {
       "layout": "IPY_MODEL_b9362f9c6218439ea6fb620e9f722026",
       "style": "IPY_MODEL_059ca18fc865488cb1121332cb95dd3f",
       "value": "100%"
      }
     },
     "7f7304e6a5314cbeb0af98125ab0648d": {
      "model_module": "@jupyter-widgets/base",
      "model_module_version": "1.2.0",
      "model_name": "LayoutModel",
      "state": {}
     },
     "7f9c65f8e8ec47adbebbeae03fb62252": {
      "model_module": "@jupyter-widgets/base",
      "model_module_version": "1.2.0",
      "model_name": "LayoutModel",
      "state": {}
     },
     "7fa338f700fe416e81a4450beae35853": {
      "model_module": "@jupyter-widgets/controls",
      "model_module_version": "1.5.0",
      "model_name": "HTMLModel",
      "state": {
       "layout": "IPY_MODEL_b1acc62bfa704aa3a84abf12ce3e1999",
       "style": "IPY_MODEL_c2ab8c8d13f0405fa5c72edbb4ef47c7",
       "value": " 104/104 [1:14:28&lt;00:00, 33.59s/ba]"
      }
     },
     "7fb57af05b7d4a75a10c19877bc953b5": {
      "model_module": "@jupyter-widgets/controls",
      "model_module_version": "1.5.0",
      "model_name": "HBoxModel",
      "state": {
       "children": [
        "IPY_MODEL_914d53f6d4be48078af611616d09714c",
        "IPY_MODEL_d4bbb679d8044f35831a13e75d6cd7b9",
        "IPY_MODEL_22d2e227b37b4145bd4dad46f25c9a82"
       ],
       "layout": "IPY_MODEL_76ed691b443f4c27944c0b914985ed15"
      }
     },
     "7fc06b41930d4350b7894a00da36995a": {
      "model_module": "@jupyter-widgets/controls",
      "model_module_version": "1.5.0",
      "model_name": "HTMLModel",
      "state": {
       "layout": "IPY_MODEL_4b0f1b0948c046168ab1380f39231acc",
       "style": "IPY_MODEL_f7c390ef0c754601b504d2909e921207",
       "value": " 1/1 [00:00&lt;00:00, 52.59it/s]"
      }
     },
     "7fe14eed5d9c4c7aa5921d3ab8a85ec5": {
      "model_module": "@jupyter-widgets/controls",
      "model_module_version": "1.5.0",
      "model_name": "DescriptionStyleModel",
      "state": {
       "description_width": ""
      }
     },
     "7fee94ceb41e40cc91a856c50f282c0e": {
      "model_module": "@jupyter-widgets/base",
      "model_module_version": "1.2.0",
      "model_name": "LayoutModel",
      "state": {}
     },
     "7ff188cf6e094954aec7ed1bb75778fa": {
      "model_module": "@jupyter-widgets/controls",
      "model_module_version": "1.5.0",
      "model_name": "ProgressStyleModel",
      "state": {
       "description_width": ""
      }
     },
     "8005796534474f8b96c7d9fa4e0d2d28": {
      "model_module": "@jupyter-widgets/controls",
      "model_module_version": "1.5.0",
      "model_name": "HTMLModel",
      "state": {
       "layout": "IPY_MODEL_88dfab6b4ddd4cc9966139a02233670b",
       "style": "IPY_MODEL_dc5014b0d9f243cba264da492fe6b290",
       "value": "100%"
      }
     },
     "800b6c3c6c9c4a12853913dad7b7e2ac": {
      "model_module": "@jupyter-widgets/controls",
      "model_module_version": "1.5.0",
      "model_name": "HTMLModel",
      "state": {
       "layout": "IPY_MODEL_1b2522cc0eab44a2b0d1a5dd31c29964",
       "style": "IPY_MODEL_d9bd83647cec49fe8147234b8440708c",
       "value": "100%"
      }
     },
     "801f95b2d3074662ab6db071eaa602c4": {
      "model_module": "@jupyter-widgets/controls",
      "model_module_version": "1.5.0",
      "model_name": "HBoxModel",
      "state": {
       "children": [
        "IPY_MODEL_a4d31ba1768b4373a473f27cd7278702",
        "IPY_MODEL_bce3ef5be84d40768e2d5e88e2b2405e",
        "IPY_MODEL_d2a89051542547158a467278af208e5d"
       ],
       "layout": "IPY_MODEL_d993df03b26a4c56851cbb20987ecc27"
      }
     },
     "8057042db0ae4c1b89bc7204cc85fc01": {
      "model_module": "@jupyter-widgets/controls",
      "model_module_version": "1.5.0",
      "model_name": "HTMLModel",
      "state": {
       "layout": "IPY_MODEL_ad9701c4aef74980b7acff7de0f5c790",
       "style": "IPY_MODEL_44ef8ba75d8546fcbb825bd9d51a1272",
       "value": " 1/1 [00:00&lt;00:00, 99.91it/s]"
      }
     },
     "80ab3c4ce5f24eb6b01d6b0047effe72": {
      "model_module": "@jupyter-widgets/controls",
      "model_module_version": "1.5.0",
      "model_name": "DescriptionStyleModel",
      "state": {
       "description_width": ""
      }
     },
     "80e59ddbfa984eaf90374fa650e92f1c": {
      "model_module": "@jupyter-widgets/controls",
      "model_module_version": "1.5.0",
      "model_name": "FloatProgressModel",
      "state": {
       "bar_style": "success",
       "layout": "IPY_MODEL_6f5fb8848f77471d99b65dfc57c26e60",
       "max": 1,
       "style": "IPY_MODEL_0aa4f4a2b08347a395bfbc25ec3da15a",
       "value": 1
      }
     },
     "80f05566b5794140927e8f71f5f5eb4a": {
      "model_module": "@jupyter-widgets/controls",
      "model_module_version": "1.5.0",
      "model_name": "DescriptionStyleModel",
      "state": {
       "description_width": ""
      }
     },
     "81195205366d4e969ce563c02109ae39": {
      "model_module": "@jupyter-widgets/controls",
      "model_module_version": "1.5.0",
      "model_name": "FloatProgressModel",
      "state": {
       "bar_style": "danger",
       "layout": "IPY_MODEL_3b7e4de56ebf4c55a19b16d299da32df",
       "max": 1,
       "style": "IPY_MODEL_0ad218f50a4e435b858c559067d75a27"
      }
     },
     "814b4b12acdc474e99f647a31d5139c3": {
      "model_module": "@jupyter-widgets/base",
      "model_module_version": "1.2.0",
      "model_name": "LayoutModel",
      "state": {}
     },
     "8154c6028a424cde9bf58c177b3dda08": {
      "model_module": "@jupyter-widgets/base",
      "model_module_version": "1.2.0",
      "model_name": "LayoutModel",
      "state": {}
     },
     "8173735c57f849f3926835f304efdcba": {
      "model_module": "@jupyter-widgets/base",
      "model_module_version": "1.2.0",
      "model_name": "LayoutModel",
      "state": {}
     },
     "818b41cd79974b90b03430311a1eb3e1": {
      "model_module": "@jupyter-widgets/controls",
      "model_module_version": "1.5.0",
      "model_name": "DescriptionStyleModel",
      "state": {
       "description_width": ""
      }
     },
     "819cfc7e542e48d888342edd21cbc288": {
      "model_module": "@jupyter-widgets/controls",
      "model_module_version": "1.5.0",
      "model_name": "HTMLModel",
      "state": {
       "layout": "IPY_MODEL_a730e32c033c4bac80448a9e6cd7f2fe",
       "style": "IPY_MODEL_aace1d7ee2484df69b3f224669934c33",
       "value": " 100/100 [03:46&lt;00:00,  2.41s/it]"
      }
     },
     "81c0832d3b9847498bf96b73090979d7": {
      "model_module": "@jupyter-widgets/base",
      "model_module_version": "1.2.0",
      "model_name": "LayoutModel",
      "state": {}
     },
     "81cbe98e0cea423db3f5a281d4556783": {
      "model_module": "@jupyter-widgets/controls",
      "model_module_version": "1.5.0",
      "model_name": "HBoxModel",
      "state": {
       "children": [
        "IPY_MODEL_5989c85be8cb460496219c26d821c9e3",
        "IPY_MODEL_a15351908b9b40598d5413c177be4801",
        "IPY_MODEL_b9e8808b97794603932168741f554a4a"
       ],
       "layout": "IPY_MODEL_44f6a2656615462c90e106d66a9fe05f"
      }
     },
     "81e8d0a41ffc4c7784764dadee97c76a": {
      "model_module": "@jupyter-widgets/base",
      "model_module_version": "1.2.0",
      "model_name": "LayoutModel",
      "state": {}
     },
     "8214fca6c83c4ac3bb3a1af882ada6ad": {
      "model_module": "@jupyter-widgets/base",
      "model_module_version": "1.2.0",
      "model_name": "LayoutModel",
      "state": {}
     },
     "8218c1a09b294f4f952906f8341d71c4": {
      "model_module": "@jupyter-widgets/controls",
      "model_module_version": "1.5.0",
      "model_name": "HTMLModel",
      "state": {
       "layout": "IPY_MODEL_795de6b4f07145338625bcf498543f6d",
       "style": "IPY_MODEL_0cb197bb36a14ddaa04dd6b78a94f5ab",
       "value": " 100/100 [19:37&lt;00:00,  9.43s/it]"
      }
     },
     "821c4d4f444145678084af9404e932f9": {
      "model_module": "@jupyter-widgets/controls",
      "model_module_version": "1.5.0",
      "model_name": "ProgressStyleModel",
      "state": {
       "description_width": ""
      }
     },
     "821e26a69c4c4f43850d152d7a3a9a65": {
      "model_module": "@jupyter-widgets/controls",
      "model_module_version": "1.5.0",
      "model_name": "FloatProgressModel",
      "state": {
       "bar_style": "success",
       "layout": "IPY_MODEL_7149879db6b0441b9fa5be308c83bbd4",
       "style": "IPY_MODEL_4a90e5c38cfb46e4bebae1400825f99d",
       "value": 100
      }
     },
     "8259f58f63c6491e8cd101a956f49899": {
      "model_module": "@jupyter-widgets/base",
      "model_module_version": "1.2.0",
      "model_name": "LayoutModel",
      "state": {}
     },
     "825a9548cddc47cb98646ddff96e0c5d": {
      "model_module": "@jupyter-widgets/controls",
      "model_module_version": "1.5.0",
      "model_name": "ProgressStyleModel",
      "state": {
       "description_width": ""
      }
     },
     "8260eca6472e48c9928b81d1e293d874": {
      "model_module": "@jupyter-widgets/base",
      "model_module_version": "1.2.0",
      "model_name": "LayoutModel",
      "state": {}
     },
     "8263da3f18264516a8be2b0d3c9b17bc": {
      "model_module": "@jupyter-widgets/base",
      "model_module_version": "1.2.0",
      "model_name": "LayoutModel",
      "state": {}
     },
     "827ed0ec58324d8ca73f65e999b26c9b": {
      "model_module": "@jupyter-widgets/controls",
      "model_module_version": "1.5.0",
      "model_name": "HBoxModel",
      "state": {
       "children": [
        "IPY_MODEL_f60d090b816e4ef6bb8b198861d5ecea",
        "IPY_MODEL_19a0248e32c84cd08673e14e5f60d5d9",
        "IPY_MODEL_8b74f8b6aaf74d8681e5307466e5ba43"
       ],
       "layout": "IPY_MODEL_814b4b12acdc474e99f647a31d5139c3"
      }
     },
     "82863196332c439ca2de329a1e9ea14c": {
      "model_module": "@jupyter-widgets/controls",
      "model_module_version": "1.5.0",
      "model_name": "HTMLModel",
      "state": {
       "layout": "IPY_MODEL_09762b2e143845f6a8e3e1c63548fd09",
       "style": "IPY_MODEL_df6839ef3b854b64859f3e1fcde8f87c",
       "value": "100%"
      }
     },
     "8288d5361f8a4b558e7a72b98d8145a0": {
      "model_module": "@jupyter-widgets/controls",
      "model_module_version": "1.5.0",
      "model_name": "DescriptionStyleModel",
      "state": {
       "description_width": ""
      }
     },
     "828ba0aee87349e89a85406fd3704a15": {
      "model_module": "@jupyter-widgets/controls",
      "model_module_version": "1.5.0",
      "model_name": "ProgressStyleModel",
      "state": {
       "description_width": ""
      }
     },
     "828d84c025e94bdaa29fd0bbe4b79dfc": {
      "model_module": "@jupyter-widgets/controls",
      "model_module_version": "1.5.0",
      "model_name": "HBoxModel",
      "state": {
       "children": [
        "IPY_MODEL_2c7944ba4eaa4df2b42daf04333576a3",
        "IPY_MODEL_29e46cc46126408380758dd04cfba794",
        "IPY_MODEL_33433d5ee45740e1a38b4dea15a2c899"
       ],
       "layout": "IPY_MODEL_ae0896572b7c4dd687aa34a4574d69db"
      }
     },
     "82a9c87ba59d49408856e04ec33f8b05": {
      "model_module": "@jupyter-widgets/base",
      "model_module_version": "1.2.0",
      "model_name": "LayoutModel",
      "state": {}
     },
     "82b9dd4f47e749c9a6ffe8b14ef7b230": {
      "model_module": "@jupyter-widgets/base",
      "model_module_version": "1.2.0",
      "model_name": "LayoutModel",
      "state": {}
     },
     "82c28df45bbe45fd9c8b72aad6f40c43": {
      "model_module": "@jupyter-widgets/base",
      "model_module_version": "1.2.0",
      "model_name": "LayoutModel",
      "state": {}
     },
     "82c2f1db3b744ef793a0ddc5bd0e346e": {
      "model_module": "@jupyter-widgets/controls",
      "model_module_version": "1.5.0",
      "model_name": "FloatProgressModel",
      "state": {
       "bar_style": "success",
       "layout": "IPY_MODEL_d3a2c7b01eda448ca349ec3dcf8ecb75",
       "style": "IPY_MODEL_043db6d0dfaf482eae1a343eb80eae73",
       "value": 100
      }
     },
     "832da797bdf04e148487f860adb748ba": {
      "model_module": "@jupyter-widgets/controls",
      "model_module_version": "1.5.0",
      "model_name": "HTMLModel",
      "state": {
       "layout": "IPY_MODEL_440adf5993fa4323b1f1beb2ed49a890",
       "style": "IPY_MODEL_91fe592ab8f14b2da849465371449096",
       "value": " 100/100 [12:05&lt;00:00,  5.28s/it]"
      }
     },
     "834e38770668474ca26d3daac5ed7d6f": {
      "model_module": "@jupyter-widgets/base",
      "model_module_version": "1.2.0",
      "model_name": "LayoutModel",
      "state": {}
     },
     "835a441c281543f2a66d9045e5c439c9": {
      "model_module": "@jupyter-widgets/controls",
      "model_module_version": "1.5.0",
      "model_name": "ProgressStyleModel",
      "state": {
       "description_width": ""
      }
     },
     "836a329b16ca4e1d97ab4b7521b7128b": {
      "model_module": "@jupyter-widgets/base",
      "model_module_version": "1.2.0",
      "model_name": "LayoutModel",
      "state": {}
     },
     "836a9e7db79145beacc61bf8bf7374d3": {
      "model_module": "@jupyter-widgets/controls",
      "model_module_version": "1.5.0",
      "model_name": "HBoxModel",
      "state": {
       "children": [
        "IPY_MODEL_d57d4f412e65445e8c537e9717ee682e",
        "IPY_MODEL_5775cfe40e384e49a864f2f90e994ade",
        "IPY_MODEL_4ff65e13ad954de28c17ee3860a75e5c"
       ],
       "layout": "IPY_MODEL_ce2a5a7919744302b123fdd772e39ebf"
      }
     },
     "83765adfabf74f52a16658be5d03b2b6": {
      "model_module": "@jupyter-widgets/base",
      "model_module_version": "1.2.0",
      "model_name": "LayoutModel",
      "state": {}
     },
     "837aae15117d4bfabc9753a901bf2269": {
      "model_module": "@jupyter-widgets/base",
      "model_module_version": "1.2.0",
      "model_name": "LayoutModel",
      "state": {}
     },
     "83907f8af9f94034b7e5e6c6bb1b119e": {
      "model_module": "@jupyter-widgets/base",
      "model_module_version": "1.2.0",
      "model_name": "LayoutModel",
      "state": {}
     },
     "83977f3ad0ec460595a9047c1230c6bc": {
      "model_module": "@jupyter-widgets/controls",
      "model_module_version": "1.5.0",
      "model_name": "HBoxModel",
      "state": {
       "children": [
        "IPY_MODEL_4d425aa7b157438291e3162d77a02471",
        "IPY_MODEL_d1a964c67e854268a675c6eff06060ca",
        "IPY_MODEL_e75e7c5672e545c29300224493b20d95"
       ],
       "layout": "IPY_MODEL_2ce70c15cdcf416fb0071a2c85f13937"
      }
     },
     "839af19cbdfb4a96a9a464d6c10a17b1": {
      "model_module": "@jupyter-widgets/controls",
      "model_module_version": "1.5.0",
      "model_name": "DescriptionStyleModel",
      "state": {
       "description_width": ""
      }
     },
     "839ce9688b444df98afbb8db8d4e8bfb": {
      "model_module": "@jupyter-widgets/controls",
      "model_module_version": "1.5.0",
      "model_name": "DescriptionStyleModel",
      "state": {
       "description_width": ""
      }
     },
     "83ae73031bea4a4aa2455f5b21034451": {
      "model_module": "@jupyter-widgets/controls",
      "model_module_version": "1.5.0",
      "model_name": "FloatProgressModel",
      "state": {
       "bar_style": "success",
       "layout": "IPY_MODEL_7f9c65f8e8ec47adbebbeae03fb62252",
       "max": 1,
       "style": "IPY_MODEL_edceff1294214c7b9cd439448ac47a45",
       "value": 1
      }
     },
     "83bd2155a0094f66baced0e7cbfda476": {
      "model_module": "@jupyter-widgets/base",
      "model_module_version": "1.2.0",
      "model_name": "LayoutModel",
      "state": {}
     },
     "83ea20b369624faebcf2b7d3859c987c": {
      "model_module": "@jupyter-widgets/controls",
      "model_module_version": "1.5.0",
      "model_name": "DescriptionStyleModel",
      "state": {
       "description_width": ""
      }
     },
     "83fa471d04cf4cac9b9850c4d143b6e1": {
      "model_module": "@jupyter-widgets/controls",
      "model_module_version": "1.5.0",
      "model_name": "ProgressStyleModel",
      "state": {
       "description_width": ""
      }
     },
     "840ca6652fdd49bc93dfd75e2745ba92": {
      "model_module": "@jupyter-widgets/controls",
      "model_module_version": "1.5.0",
      "model_name": "FloatProgressModel",
      "state": {
       "bar_style": "success",
       "layout": "IPY_MODEL_9336f08318644a088b5f9bc09c26197e",
       "style": "IPY_MODEL_f9e50002edc240a68a76e48d4604692c",
       "value": 100
      }
     },
     "842c66a0cbd14ce9bb5279c5c0250db9": {
      "model_module": "@jupyter-widgets/controls",
      "model_module_version": "1.5.0",
      "model_name": "DescriptionStyleModel",
      "state": {
       "description_width": ""
      }
     },
     "8437e21169914f2e9f7e3c3eca2acf90": {
      "model_module": "@jupyter-widgets/controls",
      "model_module_version": "1.5.0",
      "model_name": "DescriptionStyleModel",
      "state": {
       "description_width": ""
      }
     },
     "8451bda7552c41d38b0f080f0e0fc12f": {
      "model_module": "@jupyter-widgets/base",
      "model_module_version": "1.2.0",
      "model_name": "LayoutModel",
      "state": {}
     },
     "847d09dcdd6446468d6decd3fa141eef": {
      "model_module": "@jupyter-widgets/controls",
      "model_module_version": "1.5.0",
      "model_name": "HBoxModel",
      "state": {
       "children": [
        "IPY_MODEL_74686eb038ad406da3fb249edaf8fd52",
        "IPY_MODEL_d1135640c3ee4a4fa427a74eed4f6291",
        "IPY_MODEL_61b89bcb9b1a4feba0b650c9eb574ccb"
       ],
       "layout": "IPY_MODEL_da26eac93bf140ed8c9560b5f9e98a1e"
      }
     },
     "84857c3e849e44ea9985a6735c0ea817": {
      "model_module": "@jupyter-widgets/controls",
      "model_module_version": "1.5.0",
      "model_name": "ProgressStyleModel",
      "state": {
       "description_width": ""
      }
     },
     "84a7c286885d4df7a0688aa4641c5bc4": {
      "model_module": "@jupyter-widgets/base",
      "model_module_version": "1.2.0",
      "model_name": "LayoutModel",
      "state": {}
     },
     "84abdd34bf844e688e6ca8c23d738467": {
      "model_module": "@jupyter-widgets/controls",
      "model_module_version": "1.5.0",
      "model_name": "DescriptionStyleModel",
      "state": {
       "description_width": ""
      }
     },
     "84f499ecfe6e4166a1b55f22823a89fa": {
      "model_module": "@jupyter-widgets/base",
      "model_module_version": "1.2.0",
      "model_name": "LayoutModel",
      "state": {}
     },
     "84f5b4be6b924ecab5ded7ddc3a27862": {
      "model_module": "@jupyter-widgets/controls",
      "model_module_version": "1.5.0",
      "model_name": "DescriptionStyleModel",
      "state": {
       "description_width": ""
      }
     },
     "85198c61ebf747e5b249b0a2b2a5884c": {
      "model_module": "@jupyter-widgets/controls",
      "model_module_version": "1.5.0",
      "model_name": "DescriptionStyleModel",
      "state": {
       "description_width": ""
      }
     },
     "853233982a1648d38587de27d444f0ca": {
      "model_module": "@jupyter-widgets/controls",
      "model_module_version": "1.5.0",
      "model_name": "ProgressStyleModel",
      "state": {
       "description_width": ""
      }
     },
     "853ac9b70cce450f9bc27007f5cfbf9c": {
      "model_module": "@jupyter-widgets/base",
      "model_module_version": "1.2.0",
      "model_name": "LayoutModel",
      "state": {}
     },
     "854cce9be2d04f36827e8a9f6f7edf91": {
      "model_module": "@jupyter-widgets/base",
      "model_module_version": "1.2.0",
      "model_name": "LayoutModel",
      "state": {}
     },
     "8558bf324ff542f197bc5844735f4d5b": {
      "model_module": "@jupyter-widgets/controls",
      "model_module_version": "1.5.0",
      "model_name": "DescriptionStyleModel",
      "state": {
       "description_width": ""
      }
     },
     "855cec4f753946e1ab96ec7fc14618a2": {
      "model_module": "@jupyter-widgets/controls",
      "model_module_version": "1.5.0",
      "model_name": "DescriptionStyleModel",
      "state": {
       "description_width": ""
      }
     },
     "858fbbb06bc74bdf99f19c5ac3cc61ec": {
      "model_module": "@jupyter-widgets/base",
      "model_module_version": "1.2.0",
      "model_name": "LayoutModel",
      "state": {}
     },
     "85a6826e58774202a77288668134b01b": {
      "model_module": "@jupyter-widgets/base",
      "model_module_version": "1.2.0",
      "model_name": "LayoutModel",
      "state": {}
     },
     "85c7b3e9df1845479b76e7eda4f65478": {
      "model_module": "@jupyter-widgets/controls",
      "model_module_version": "1.5.0",
      "model_name": "DescriptionStyleModel",
      "state": {
       "description_width": ""
      }
     },
     "85cdb17702904d49877f71d87ed1bf3f": {
      "model_module": "@jupyter-widgets/base",
      "model_module_version": "1.2.0",
      "model_name": "LayoutModel",
      "state": {}
     },
     "85d460a095884a80bcdfafe32e5b8e75": {
      "model_module": "@jupyter-widgets/controls",
      "model_module_version": "1.5.0",
      "model_name": "FloatProgressModel",
      "state": {
       "bar_style": "success",
       "layout": "IPY_MODEL_6089595cbe3147c2b09db0f7fdb105ec",
       "max": 1,
       "style": "IPY_MODEL_68a5ef8f42ab47c192afad4a52adb2b5",
       "value": 1
      }
     },
     "85d6550542ba40dbab6e08772654ea6f": {
      "model_module": "@jupyter-widgets/base",
      "model_module_version": "1.2.0",
      "model_name": "LayoutModel",
      "state": {}
     },
     "85f3e89211744c34b91f18b895455053": {
      "model_module": "@jupyter-widgets/base",
      "model_module_version": "1.2.0",
      "model_name": "LayoutModel",
      "state": {}
     },
     "85fd7977255d4235a312ad6904808d6f": {
      "model_module": "@jupyter-widgets/base",
      "model_module_version": "1.2.0",
      "model_name": "LayoutModel",
      "state": {}
     },
     "860415099ac4447cb57ec382f18c3ef2": {
      "model_module": "@jupyter-widgets/controls",
      "model_module_version": "1.5.0",
      "model_name": "HTMLModel",
      "state": {
       "layout": "IPY_MODEL_88a5a873315c40c483be75ffed89955a",
       "style": "IPY_MODEL_9926c98dc17c4253990f3f4d9fc7d27a",
       "value": "100%"
      }
     },
     "860dbb554cb14f51a1908e3a6fac6aab": {
      "model_module": "@jupyter-widgets/controls",
      "model_module_version": "1.5.0",
      "model_name": "DescriptionStyleModel",
      "state": {
       "description_width": ""
      }
     },
     "8635a0615d394f8ea8b17acec2055bad": {
      "model_module": "@jupyter-widgets/base",
      "model_module_version": "1.2.0",
      "model_name": "LayoutModel",
      "state": {}
     },
     "8635ce247dad41dd97245b11ffa9dce7": {
      "model_module": "@jupyter-widgets/controls",
      "model_module_version": "1.5.0",
      "model_name": "HTMLModel",
      "state": {
       "layout": "IPY_MODEL_c48100b5cc8249a38fcd03008b8ec02b",
       "style": "IPY_MODEL_afce9f3800424e2685ec698d8a8673e2",
       "value": " 100/100 [16:17&lt;00:00, 14.09s/it]"
      }
     },
     "8641ebcd310f4b958ccd83fb1f3fcfd4": {
      "model_module": "@jupyter-widgets/base",
      "model_module_version": "1.2.0",
      "model_name": "LayoutModel",
      "state": {}
     },
     "8663ee4ca68842699aca02d16bac628e": {
      "model_module": "@jupyter-widgets/controls",
      "model_module_version": "1.5.0",
      "model_name": "HBoxModel",
      "state": {
       "children": [
        "IPY_MODEL_01bbb4b4402f4e8ab66fd6ad5189da29",
        "IPY_MODEL_33acb6eec53f44c198f1a57595a3a1db",
        "IPY_MODEL_8635ce247dad41dd97245b11ffa9dce7"
       ],
       "layout": "IPY_MODEL_9574783d381b49e8938780a6152cdf83"
      }
     },
     "86682875e9df483ab25375c84822f405": {
      "model_module": "@jupyter-widgets/base",
      "model_module_version": "1.2.0",
      "model_name": "LayoutModel",
      "state": {}
     },
     "866efd8642ce47e3ae4a43f7d3496699": {
      "model_module": "@jupyter-widgets/base",
      "model_module_version": "1.2.0",
      "model_name": "LayoutModel",
      "state": {}
     },
     "8685990f3dd14f7d8bff461a4b7fed3e": {
      "model_module": "@jupyter-widgets/controls",
      "model_module_version": "1.5.0",
      "model_name": "DescriptionStyleModel",
      "state": {
       "description_width": ""
      }
     },
     "86c48da6c8ef483b847384dc1c081770": {
      "model_module": "@jupyter-widgets/controls",
      "model_module_version": "1.5.0",
      "model_name": "HTMLModel",
      "state": {
       "layout": "IPY_MODEL_001436c532f14578874047d900a61a78",
       "style": "IPY_MODEL_2a4bac4b180e4d7b9c2d44439507083f",
       "value": " 100/100 [10:50&lt;00:00,  9.19s/it]"
      }
     },
     "86c7d2ccf7f447819f3249e1d257a2f6": {
      "model_module": "@jupyter-widgets/base",
      "model_module_version": "1.2.0",
      "model_name": "LayoutModel",
      "state": {}
     },
     "86c86568943e43548707513621a59bde": {
      "model_module": "@jupyter-widgets/controls",
      "model_module_version": "1.5.0",
      "model_name": "DescriptionStyleModel",
      "state": {
       "description_width": ""
      }
     },
     "86d718576a354db99f4fad57c24bbd92": {
      "model_module": "@jupyter-widgets/controls",
      "model_module_version": "1.5.0",
      "model_name": "DescriptionStyleModel",
      "state": {
       "description_width": ""
      }
     },
     "86ed1f6cb61b482c9c0db41e87d93ce6": {
      "model_module": "@jupyter-widgets/base",
      "model_module_version": "1.2.0",
      "model_name": "LayoutModel",
      "state": {}
     },
     "87002e53a72c4160a66a7c79d9a7c8e8": {
      "model_module": "@jupyter-widgets/controls",
      "model_module_version": "1.5.0",
      "model_name": "HTMLModel",
      "state": {
       "layout": "IPY_MODEL_080d4662f3894eb1b62f9e8e3833a349",
       "style": "IPY_MODEL_8dde6ba4ae314f2c84a1f3e516806f4e",
       "value": "100%"
      }
     },
     "871e5bc1f4a143ff8882b3ded07dadae": {
      "model_module": "@jupyter-widgets/base",
      "model_module_version": "1.2.0",
      "model_name": "LayoutModel",
      "state": {}
     },
     "873ae6c79c7445aea2574cf7de6af2a1": {
      "model_module": "@jupyter-widgets/controls",
      "model_module_version": "1.5.0",
      "model_name": "DescriptionStyleModel",
      "state": {
       "description_width": ""
      }
     },
     "8747a93ad2694d0cb1dad3b129084d0b": {
      "model_module": "@jupyter-widgets/controls",
      "model_module_version": "1.5.0",
      "model_name": "HTMLModel",
      "state": {
       "layout": "IPY_MODEL_d97bcd4484d14107a1b1683f9327e780",
       "style": "IPY_MODEL_b2f9485ee2eb458ab82bd9a5dacc2a59",
       "value": "100%"
      }
     },
     "8749da0474f24064acac44f60b320b16": {
      "model_module": "@jupyter-widgets/controls",
      "model_module_version": "1.5.0",
      "model_name": "FloatProgressModel",
      "state": {
       "bar_style": "success",
       "layout": "IPY_MODEL_fedbeb6ab6f946a78b5e0133ab8f5c7d",
       "max": 1,
       "style": "IPY_MODEL_05a125a503cb431da636af62a25d0fd2",
       "value": 1
      }
     },
     "877ca9561e4e4fef8e068c3c06de30fa": {
      "model_module": "@jupyter-widgets/controls",
      "model_module_version": "1.5.0",
      "model_name": "DescriptionStyleModel",
      "state": {
       "description_width": ""
      }
     },
     "877d0a11dd124cb6be8f56d45e61e5a2": {
      "model_module": "@jupyter-widgets/base",
      "model_module_version": "1.2.0",
      "model_name": "LayoutModel",
      "state": {}
     },
     "879072f5da9846079d8e96a0a7c1f3ea": {
      "model_module": "@jupyter-widgets/controls",
      "model_module_version": "1.5.0",
      "model_name": "HTMLModel",
      "state": {
       "layout": "IPY_MODEL_a78f64d8c1cb40d188fecbc4fa88bdfe",
       "style": "IPY_MODEL_c8ae496256b14c9f9e7de578ef53eb35",
       "value": " 100/100 [06:49&lt;00:00,  4.33s/it]"
      }
     },
     "8796b7773ab14410988c9363a8d3728b": {
      "model_module": "@jupyter-widgets/controls",
      "model_module_version": "1.5.0",
      "model_name": "DescriptionStyleModel",
      "state": {
       "description_width": ""
      }
     },
     "87c908b0864b43409bbbe5edabe5a634": {
      "model_module": "@jupyter-widgets/controls",
      "model_module_version": "1.5.0",
      "model_name": "HTMLModel",
      "state": {
       "layout": "IPY_MODEL_961828c9ff3540638536357771d601b4",
       "style": "IPY_MODEL_71475d5859f347b9b20e9cb24efac828",
       "value": " 1/1 [00:02&lt;00:00,  2.07s/ba]"
      }
     },
     "87d052a8ac374ef5a2a2e66b0708913a": {
      "model_module": "@jupyter-widgets/base",
      "model_module_version": "1.2.0",
      "model_name": "LayoutModel",
      "state": {}
     },
     "87d97de3a9474c1ba9bb46837ebf2780": {
      "model_module": "@jupyter-widgets/base",
      "model_module_version": "1.2.0",
      "model_name": "LayoutModel",
      "state": {}
     },
     "87f6f78c14c3472783c66e560d332aa6": {
      "model_module": "@jupyter-widgets/base",
      "model_module_version": "1.2.0",
      "model_name": "LayoutModel",
      "state": {}
     },
     "87ff7f2bf8a4402d825f08a5ad54d920": {
      "model_module": "@jupyter-widgets/base",
      "model_module_version": "1.2.0",
      "model_name": "LayoutModel",
      "state": {}
     },
     "881be28740fb4440853e3d3edcfe0fc0": {
      "model_module": "@jupyter-widgets/base",
      "model_module_version": "1.2.0",
      "model_name": "LayoutModel",
      "state": {}
     },
     "88395669242a429fbb523a208b3b1bdd": {
      "model_module": "@jupyter-widgets/base",
      "model_module_version": "1.2.0",
      "model_name": "LayoutModel",
      "state": {}
     },
     "884a165499ca42f1b5eeea2033493557": {
      "model_module": "@jupyter-widgets/controls",
      "model_module_version": "1.5.0",
      "model_name": "ProgressStyleModel",
      "state": {
       "description_width": ""
      }
     },
     "884c8ae034d244ea86b8bc331273a839": {
      "model_module": "@jupyter-widgets/controls",
      "model_module_version": "1.5.0",
      "model_name": "FloatProgressModel",
      "state": {
       "bar_style": "success",
       "layout": "IPY_MODEL_1addd464b4f6405e98e889b77934a7db",
       "max": 1,
       "style": "IPY_MODEL_d9f72de4bc4346f095b0635f3835a89f",
       "value": 1
      }
     },
     "8853b1075c124022a71ecf907cc30dd6": {
      "model_module": "@jupyter-widgets/controls",
      "model_module_version": "1.5.0",
      "model_name": "HTMLModel",
      "state": {
       "layout": "IPY_MODEL_c0031e0aac9240d1be271dc82a4e47e5",
       "style": "IPY_MODEL_1be675e900e54c51b197a8dcc4e2f2ff",
       "value": "100%"
      }
     },
     "887dfa556c114f6dad2516e418424fd1": {
      "model_module": "@jupyter-widgets/base",
      "model_module_version": "1.2.0",
      "model_name": "LayoutModel",
      "state": {}
     },
     "8885f49d7d294bd9a1c2d140431409dd": {
      "model_module": "@jupyter-widgets/controls",
      "model_module_version": "1.5.0",
      "model_name": "DescriptionStyleModel",
      "state": {
       "description_width": ""
      }
     },
     "888c879c3b1f49518df637fcc66db65a": {
      "model_module": "@jupyter-widgets/controls",
      "model_module_version": "1.5.0",
      "model_name": "HBoxModel",
      "state": {
       "children": [
        "IPY_MODEL_8747a93ad2694d0cb1dad3b129084d0b",
        "IPY_MODEL_58369743de14484fad90b4c12a7c6e3a",
        "IPY_MODEL_b65c2f05f67f45828699dd277f84a1b2"
       ],
       "layout": "IPY_MODEL_ec522ab174d94ad892a746e9d79c6159"
      }
     },
     "88a5a873315c40c483be75ffed89955a": {
      "model_module": "@jupyter-widgets/base",
      "model_module_version": "1.2.0",
      "model_name": "LayoutModel",
      "state": {}
     },
     "88aa839cb46745c69eaca39b3519c2ca": {
      "model_module": "@jupyter-widgets/base",
      "model_module_version": "1.2.0",
      "model_name": "LayoutModel",
      "state": {}
     },
     "88aaa2f3587248d494b660c4fb67f3c5": {
      "model_module": "@jupyter-widgets/base",
      "model_module_version": "1.2.0",
      "model_name": "LayoutModel",
      "state": {}
     },
     "88bfb729b5254b7f8e24550000099dbe": {
      "model_module": "@jupyter-widgets/controls",
      "model_module_version": "1.5.0",
      "model_name": "DescriptionStyleModel",
      "state": {
       "description_width": ""
      }
     },
     "88cd2cd0efe743f281bdc8f94ae5da24": {
      "model_module": "@jupyter-widgets/controls",
      "model_module_version": "1.5.0",
      "model_name": "HTMLModel",
      "state": {
       "layout": "IPY_MODEL_4ac9692afcfc42488f2fd7933c3fc4ad",
       "style": "IPY_MODEL_5d55cb1220c94535a00c489c3d251330",
       "value": " 100/100 [20:04&lt;00:00,  9.44s/it]"
      }
     },
     "88cf326034804ff7b2a6a0a117f185ce": {
      "model_module": "@jupyter-widgets/controls",
      "model_module_version": "1.5.0",
      "model_name": "DescriptionStyleModel",
      "state": {
       "description_width": ""
      }
     },
     "88df3505db4843e5ab91b36a31cd1691": {
      "model_module": "@jupyter-widgets/controls",
      "model_module_version": "1.5.0",
      "model_name": "HTMLModel",
      "state": {
       "layout": "IPY_MODEL_8451bda7552c41d38b0f080f0e0fc12f",
       "style": "IPY_MODEL_8558bf324ff542f197bc5844735f4d5b",
       "value": "100%"
      }
     },
     "88dfab6b4ddd4cc9966139a02233670b": {
      "model_module": "@jupyter-widgets/base",
      "model_module_version": "1.2.0",
      "model_name": "LayoutModel",
      "state": {}
     },
     "88e76dd7649141d28181324880b467c3": {
      "model_module": "@jupyter-widgets/controls",
      "model_module_version": "1.5.0",
      "model_name": "HBoxModel",
      "state": {
       "children": [
        "IPY_MODEL_247e967ccef548429c4f5c884638548b",
        "IPY_MODEL_2b4d64f7402a43e89655ed0046b5d8c7",
        "IPY_MODEL_d0f8442e70dd475e888e6c102715b9f1"
       ],
       "layout": "IPY_MODEL_40d01dba6d2e42a698315de45b0f624b"
      }
     },
     "88f4844290844af7bd60e821ee4454f1": {
      "model_module": "@jupyter-widgets/base",
      "model_module_version": "1.2.0",
      "model_name": "LayoutModel",
      "state": {}
     },
     "890b4f6471134e5e89dcca32e19fd881": {
      "model_module": "@jupyter-widgets/controls",
      "model_module_version": "1.5.0",
      "model_name": "DescriptionStyleModel",
      "state": {
       "description_width": ""
      }
     },
     "8914a2c60c9e466baa7054dce25a69b8": {
      "model_module": "@jupyter-widgets/controls",
      "model_module_version": "1.5.0",
      "model_name": "ProgressStyleModel",
      "state": {
       "description_width": ""
      }
     },
     "891dbed447d04efeaf326d97f9c1e2eb": {
      "model_module": "@jupyter-widgets/controls",
      "model_module_version": "1.5.0",
      "model_name": "HTMLModel",
      "state": {
       "layout": "IPY_MODEL_0743aa4a00de49508067f5088b7eb838",
       "style": "IPY_MODEL_f45be6e600d349abb80e81a25a01476e",
       "value": " 1/1 [00:00&lt;00:00, 66.60it/s]"
      }
     },
     "89264001f6f04479af019124fa83e6c2": {
      "model_module": "@jupyter-widgets/base",
      "model_module_version": "1.2.0",
      "model_name": "LayoutModel",
      "state": {}
     },
     "894ed9b20ff24469831ac3a248a4fbeb": {
      "model_module": "@jupyter-widgets/controls",
      "model_module_version": "1.5.0",
      "model_name": "HTMLModel",
      "state": {
       "layout": "IPY_MODEL_ecef28006a3b4890a3b7b015dd3147d6",
       "style": "IPY_MODEL_975ea80d67824fbfaf2a95b92c3c82ba",
       "value": " 1/1 [00:06&lt;00:00,  6.93s/ba]"
      }
     },
     "8951ab5abb164511a0002c4e99f05a54": {
      "model_module": "@jupyter-widgets/controls",
      "model_module_version": "1.5.0",
      "model_name": "HBoxModel",
      "state": {
       "children": [
        "IPY_MODEL_cd6d19d0f2d0458db34c0b0a249567c2",
        "IPY_MODEL_7c2c5a94f57e43018f56d0240cb66b27",
        "IPY_MODEL_b2b8cadbd6bb4b769ff0b9699bec66d3"
       ],
       "layout": "IPY_MODEL_934f0da817544101aa4f42e73a5c040a"
      }
     },
     "8952fc5ac8bd4d6d8bc7318e90c88ab1": {
      "model_module": "@jupyter-widgets/base",
      "model_module_version": "1.2.0",
      "model_name": "LayoutModel",
      "state": {}
     },
     "896e630093e845f9a821685b93988a84": {
      "model_module": "@jupyter-widgets/controls",
      "model_module_version": "1.5.0",
      "model_name": "ProgressStyleModel",
      "state": {
       "description_width": ""
      }
     },
     "89722bd0964f479c9b783f7747c33c27": {
      "model_module": "@jupyter-widgets/base",
      "model_module_version": "1.2.0",
      "model_name": "LayoutModel",
      "state": {}
     },
     "898694ff9683453887aa288595b1047c": {
      "model_module": "@jupyter-widgets/controls",
      "model_module_version": "1.5.0",
      "model_name": "DescriptionStyleModel",
      "state": {
       "description_width": ""
      }
     },
     "8997256cb84c4ebaba747de50a6777a7": {
      "model_module": "@jupyter-widgets/controls",
      "model_module_version": "1.5.0",
      "model_name": "HTMLModel",
      "state": {
       "layout": "IPY_MODEL_f984166fe01a44ec86a7e4cf7e2f5eaf",
       "style": "IPY_MODEL_44e8f3849d9c4c6497824bebde37a631",
       "value": " 1/1 [00:02&lt;00:00,  2.18s/ba]"
      }
     },
     "89972703f4454a0d850a4faf593f60b8": {
      "model_module": "@jupyter-widgets/controls",
      "model_module_version": "1.5.0",
      "model_name": "HTMLModel",
      "state": {
       "layout": "IPY_MODEL_a0409cf76893456da57b2dd409021123",
       "style": "IPY_MODEL_72e09886f8ff4b8ea971c500fd1fe265",
       "value": "100%"
      }
     },
     "89a4436175b54fd78790236a6092cb55": {
      "model_module": "@jupyter-widgets/controls",
      "model_module_version": "1.5.0",
      "model_name": "DescriptionStyleModel",
      "state": {
       "description_width": ""
      }
     },
     "89ad1248e7e24cbd8eca19b03d4b39da": {
      "model_module": "@jupyter-widgets/base",
      "model_module_version": "1.2.0",
      "model_name": "LayoutModel",
      "state": {}
     },
     "89cf490a597347a6a352288df37201f0": {
      "model_module": "@jupyter-widgets/controls",
      "model_module_version": "1.5.0",
      "model_name": "FloatProgressModel",
      "state": {
       "bar_style": "success",
       "layout": "IPY_MODEL_dde424df4fa74253b7631e46c3b805cf",
       "max": 1,
       "style": "IPY_MODEL_afe0e20994314ec1a6846ef78fea9e76",
       "value": 1
      }
     },
     "89d70b867ce74c53ae873564888337db": {
      "model_module": "@jupyter-widgets/controls",
      "model_module_version": "1.5.0",
      "model_name": "DescriptionStyleModel",
      "state": {
       "description_width": ""
      }
     },
     "89f3b98e0c814cd5bb473fdd64cfa8dc": {
      "model_module": "@jupyter-widgets/controls",
      "model_module_version": "1.5.0",
      "model_name": "DescriptionStyleModel",
      "state": {
       "description_width": ""
      }
     },
     "8a0796b206794a31ad7f205779331c97": {
      "model_module": "@jupyter-widgets/base",
      "model_module_version": "1.2.0",
      "model_name": "LayoutModel",
      "state": {}
     },
     "8a1697235b634f3990df3e3b678ecd2e": {
      "model_module": "@jupyter-widgets/controls",
      "model_module_version": "1.5.0",
      "model_name": "HTMLModel",
      "state": {
       "layout": "IPY_MODEL_09b4780ffe744a6390cae7548f324f28",
       "style": "IPY_MODEL_9d106bc892b84c0890feb83b15553d74",
       "value": "100%"
      }
     },
     "8a3af367224d44c9b6952bac16af88b8": {
      "model_module": "@jupyter-widgets/controls",
      "model_module_version": "1.5.0",
      "model_name": "HTMLModel",
      "state": {
       "layout": "IPY_MODEL_5c493e05381949f6a5b7d4786c0ab12a",
       "style": "IPY_MODEL_f48e727f5d534e23858b9b0146050b1e",
       "value": " 100/100 [20:22&lt;00:00,  9.68s/it]"
      }
     },
     "8a3f2344b04b416fbeaa391b3989f78e": {
      "model_module": "@jupyter-widgets/controls",
      "model_module_version": "1.5.0",
      "model_name": "HTMLModel",
      "state": {
       "layout": "IPY_MODEL_bd0ac83d8d3f453a896e105dd6b9d902",
       "style": "IPY_MODEL_656da74d75664add8dd9923ed4d02cf3",
       "value": "100%"
      }
     },
     "8a514e1e862948c3891b713e444ab144": {
      "model_module": "@jupyter-widgets/controls",
      "model_module_version": "1.5.0",
      "model_name": "HBoxModel",
      "state": {
       "children": [
        "IPY_MODEL_9be844d1fb7345cc98825869d2fa467d",
        "IPY_MODEL_2ae07ed729d84a76b7008dd85d84c340",
        "IPY_MODEL_8b82f67aab7b4b60a6179be9d99042a6"
       ],
       "layout": "IPY_MODEL_5c551138e9534d38b73a49adb56cd628"
      }
     },
     "8a54badd0fe3471bad27ba61710d7675": {
      "model_module": "@jupyter-widgets/base",
      "model_module_version": "1.2.0",
      "model_name": "LayoutModel",
      "state": {}
     },
     "8a7f7ba136b2455dbee59b537f390b1c": {
      "model_module": "@jupyter-widgets/controls",
      "model_module_version": "1.5.0",
      "model_name": "DescriptionStyleModel",
      "state": {
       "description_width": ""
      }
     },
     "8a94871613d940c1b4dc0e6759f71ea3": {
      "model_module": "@jupyter-widgets/controls",
      "model_module_version": "1.5.0",
      "model_name": "DescriptionStyleModel",
      "state": {
       "description_width": ""
      }
     },
     "8aa143bae0da46faa64cc1b2edbf7c62": {
      "model_module": "@jupyter-widgets/controls",
      "model_module_version": "1.5.0",
      "model_name": "DescriptionStyleModel",
      "state": {
       "description_width": ""
      }
     },
     "8ab2bd45ec8d424e96cbaf32932420dd": {
      "model_module": "@jupyter-widgets/base",
      "model_module_version": "1.2.0",
      "model_name": "LayoutModel",
      "state": {}
     },
     "8ac2d21aacc744708b9ecc9086a4505b": {
      "model_module": "@jupyter-widgets/base",
      "model_module_version": "1.2.0",
      "model_name": "LayoutModel",
      "state": {}
     },
     "8ad495c978e54dfe8d020a24bcd0eef1": {
      "model_module": "@jupyter-widgets/base",
      "model_module_version": "1.2.0",
      "model_name": "LayoutModel",
      "state": {}
     },
     "8ae0e48aeee846a7acba46608003a66f": {
      "model_module": "@jupyter-widgets/base",
      "model_module_version": "1.2.0",
      "model_name": "LayoutModel",
      "state": {}
     },
     "8b031647db1e4d1184b9ba6fa7968ce4": {
      "model_module": "@jupyter-widgets/base",
      "model_module_version": "1.2.0",
      "model_name": "LayoutModel",
      "state": {}
     },
     "8b239ab7b5cd438e9f9b2db863f98f5e": {
      "model_module": "@jupyter-widgets/controls",
      "model_module_version": "1.5.0",
      "model_name": "DescriptionStyleModel",
      "state": {
       "description_width": ""
      }
     },
     "8b3ee791561443819389246dec87ebe5": {
      "model_module": "@jupyter-widgets/controls",
      "model_module_version": "1.5.0",
      "model_name": "HTMLModel",
      "state": {
       "layout": "IPY_MODEL_6ecaedebeb7b4afd83b1e230e03664d6",
       "style": "IPY_MODEL_e4a1015502bb4b46918f284a10ed3391",
       "value": " 100/100 [12:22&lt;00:00, 12.97s/it]"
      }
     },
     "8b477f85839e4be489ed2952acb3a0f4": {
      "model_module": "@jupyter-widgets/base",
      "model_module_version": "1.2.0",
      "model_name": "LayoutModel",
      "state": {}
     },
     "8b74f8b6aaf74d8681e5307466e5ba43": {
      "model_module": "@jupyter-widgets/controls",
      "model_module_version": "1.5.0",
      "model_name": "HTMLModel",
      "state": {
       "layout": "IPY_MODEL_701be3573d3943a0b2e839d9b7b35063",
       "style": "IPY_MODEL_093b6807f49a4cf89ebeee060ac51310",
       "value": " 1/1 [00:00&lt;00:00, 99.91it/s]"
      }
     },
     "8b82f67aab7b4b60a6179be9d99042a6": {
      "model_module": "@jupyter-widgets/controls",
      "model_module_version": "1.5.0",
      "model_name": "HTMLModel",
      "state": {
       "layout": "IPY_MODEL_a4cc92d4cf3045808bc72005decc7956",
       "style": "IPY_MODEL_283a5020a6e24468b3e248d94a9df5c6",
       "value": " 1/1 [00:00&lt;00:00, 58.77it/s]"
      }
     },
     "8b8856d84b204870a6740d2f586ac4e6": {
      "model_module": "@jupyter-widgets/base",
      "model_module_version": "1.2.0",
      "model_name": "LayoutModel",
      "state": {}
     },
     "8bb235d6e533402a98e55e634d4cc7b4": {
      "model_module": "@jupyter-widgets/base",
      "model_module_version": "1.2.0",
      "model_name": "LayoutModel",
      "state": {}
     },
     "8befbf0b751144ef9f8b628634a782fd": {
      "model_module": "@jupyter-widgets/controls",
      "model_module_version": "1.5.0",
      "model_name": "HTMLModel",
      "state": {
       "layout": "IPY_MODEL_15980e76363a41f29b5c801334ae27ca",
       "style": "IPY_MODEL_c6183d1ed7a542b4aae80a944adfee4f",
       "value": " 100/100 [10:26&lt;00:00,  6.88s/it]"
      }
     },
     "8c2eafca51584f21a6bbb2aa9a293e5d": {
      "model_module": "@jupyter-widgets/controls",
      "model_module_version": "1.5.0",
      "model_name": "HTMLModel",
      "state": {
       "layout": "IPY_MODEL_b724bfd2ca174817870f10434b947a33",
       "style": "IPY_MODEL_4081eee1b9604dcfb25078cf64ea5e68",
       "value": "100%"
      }
     },
     "8c42a01db63e4f0e93cc06887df1f471": {
      "model_module": "@jupyter-widgets/base",
      "model_module_version": "1.2.0",
      "model_name": "LayoutModel",
      "state": {}
     },
     "8c4d0432285241d4a75b0a78fc193f62": {
      "model_module": "@jupyter-widgets/base",
      "model_module_version": "1.2.0",
      "model_name": "LayoutModel",
      "state": {}
     },
     "8c50d3ad953d4d919f8dc68a542d426e": {
      "model_module": "@jupyter-widgets/base",
      "model_module_version": "1.2.0",
      "model_name": "LayoutModel",
      "state": {}
     },
     "8c95c70644274a5c90f78fc5cfebc421": {
      "model_module": "@jupyter-widgets/base",
      "model_module_version": "1.2.0",
      "model_name": "LayoutModel",
      "state": {}
     },
     "8c960d4495904649b0b1631914d19ec7": {
      "model_module": "@jupyter-widgets/controls",
      "model_module_version": "1.5.0",
      "model_name": "HBoxModel",
      "state": {
       "children": [
        "IPY_MODEL_bd048f6f36554d169d238e5224d3f3c5",
        "IPY_MODEL_4c50165a582f4dedb3ed7a72974f0202",
        "IPY_MODEL_95cb94f69ede498ebc981a4549ec0eca"
       ],
       "layout": "IPY_MODEL_8173735c57f849f3926835f304efdcba"
      }
     },
     "8c9cb482d91b44f487339ac61b8b4f44": {
      "model_module": "@jupyter-widgets/controls",
      "model_module_version": "1.5.0",
      "model_name": "HBoxModel",
      "state": {
       "children": [
        "IPY_MODEL_01fcb50845b0421cafdf1f8c8d8e3dca",
        "IPY_MODEL_d6b9f8daefe74c5f939b5d36df025e81",
        "IPY_MODEL_02aa6662da8a4d46b467556b3bdca3a2"
       ],
       "layout": "IPY_MODEL_5272e4d38f854a6999bf39a406be87cf"
      }
     },
     "8caf07d9769f4eecb128cfbd79e9a8d7": {
      "model_module": "@jupyter-widgets/controls",
      "model_module_version": "1.5.0",
      "model_name": "DescriptionStyleModel",
      "state": {
       "description_width": ""
      }
     },
     "8cc100ae90c344628745ac1e5420bc06": {
      "model_module": "@jupyter-widgets/controls",
      "model_module_version": "1.5.0",
      "model_name": "ProgressStyleModel",
      "state": {
       "description_width": ""
      }
     },
     "8cc3af78a7ec46a990f5ddd560e2cce8": {
      "model_module": "@jupyter-widgets/controls",
      "model_module_version": "1.5.0",
      "model_name": "HBoxModel",
      "state": {
       "children": [
        "IPY_MODEL_4fcae0a2960e492993b2efd62a702114",
        "IPY_MODEL_94191823ff68405caced6753e79866e7",
        "IPY_MODEL_0d2c2256119b45578e823b0c1c622338"
       ],
       "layout": "IPY_MODEL_a6cd429a0ae245ad96cc4aa9804bfb25"
      }
     },
     "8cd6f2d3d6f544149f937784ec181e87": {
      "model_module": "@jupyter-widgets/base",
      "model_module_version": "1.2.0",
      "model_name": "LayoutModel",
      "state": {}
     },
     "8ce1194f3d2842f2a6afdaaa5caecb82": {
      "model_module": "@jupyter-widgets/controls",
      "model_module_version": "1.5.0",
      "model_name": "DescriptionStyleModel",
      "state": {
       "description_width": ""
      }
     },
     "8cee5950ea7640d4b6539a0049ea3c53": {
      "model_module": "@jupyter-widgets/controls",
      "model_module_version": "1.5.0",
      "model_name": "FloatProgressModel",
      "state": {
       "bar_style": "success",
       "layout": "IPY_MODEL_e5ce4cfcbb014ee1befc45b824435fc7",
       "style": "IPY_MODEL_cee670b8e86840e59c8496b36f614771",
       "value": 100
      }
     },
     "8cf265c2abf3412685acd1433398873c": {
      "model_module": "@jupyter-widgets/controls",
      "model_module_version": "1.5.0",
      "model_name": "HTMLModel",
      "state": {
       "layout": "IPY_MODEL_91dd48d0070a41e691085c3a3de9c3d7",
       "style": "IPY_MODEL_051ee762a2d24ac5a3b71cd41657ed53",
       "value": "100%"
      }
     },
     "8cfc1c0fa52d4859ab76d51570d35b46": {
      "model_module": "@jupyter-widgets/controls",
      "model_module_version": "1.5.0",
      "model_name": "HBoxModel",
      "state": {
       "children": [
        "IPY_MODEL_87002e53a72c4160a66a7c79d9a7c8e8",
        "IPY_MODEL_cd6a0f01840c4fc8aa9febfcf0bc083d",
        "IPY_MODEL_a9922b497b7141ef99497786e3663bc0"
       ],
       "layout": "IPY_MODEL_ebc84464672b46ceb912cf76b4bb7865"
      }
     },
     "8d0e260fac274b19be316f535ec8dc5a": {
      "model_module": "@jupyter-widgets/base",
      "model_module_version": "1.2.0",
      "model_name": "LayoutModel",
      "state": {}
     },
     "8d1b97296044492eb9a13e7ac2329fb2": {
      "model_module": "@jupyter-widgets/base",
      "model_module_version": "1.2.0",
      "model_name": "LayoutModel",
      "state": {}
     },
     "8d1f9d39dce74204a862584e9a339117": {
      "model_module": "@jupyter-widgets/base",
      "model_module_version": "1.2.0",
      "model_name": "LayoutModel",
      "state": {}
     },
     "8d21ca35343f4fa7a0bff83b991d5401": {
      "model_module": "@jupyter-widgets/controls",
      "model_module_version": "1.5.0",
      "model_name": "HBoxModel",
      "state": {
       "children": [
        "IPY_MODEL_c820557afa2b4dd4a288249b62c9513a",
        "IPY_MODEL_97b0a55d3cbf49fc9846435d8b6fdb7a",
        "IPY_MODEL_c2772da61e9343ee8c141575f5ffee1f"
       ],
       "layout": "IPY_MODEL_06add77e22974bce900d14ee46dda4ae"
      }
     },
     "8d31e1ec18a4446a80a0f9617e07e140": {
      "model_module": "@jupyter-widgets/controls",
      "model_module_version": "1.5.0",
      "model_name": "HBoxModel",
      "state": {
       "children": [
        "IPY_MODEL_0d2bd122a7f44af0adbd2216d06f9c2e",
        "IPY_MODEL_d814d35359ea4a7b9d1f5d449482eda2",
        "IPY_MODEL_3f483c0152ec455991a696328530017d"
       ],
       "layout": "IPY_MODEL_9d4a39e8c1914fb1942e808ab22eaf71"
      }
     },
     "8d3f2c61580346d4b93b9d0e0c35ef54": {
      "model_module": "@jupyter-widgets/controls",
      "model_module_version": "1.5.0",
      "model_name": "FloatProgressModel",
      "state": {
       "bar_style": "success",
       "layout": "IPY_MODEL_38e9d8c5055841cf8aba8c25feec0c94",
       "max": 1,
       "style": "IPY_MODEL_f0d82dc9f0654d5394597d1f97cea672",
       "value": 1
      }
     },
     "8d6a4cd0feee4ffdb6c0d91657c63e56": {
      "model_module": "@jupyter-widgets/controls",
      "model_module_version": "1.5.0",
      "model_name": "HTMLModel",
      "state": {
       "layout": "IPY_MODEL_090e00f8111e410a848feeebd91411c5",
       "style": "IPY_MODEL_17957e5d32944e03b9fae8eacff1ed5e",
       "value": "100%"
      }
     },
     "8d6d6dc179bb40838f1fa309f7e1f5a9": {
      "model_module": "@jupyter-widgets/controls",
      "model_module_version": "1.5.0",
      "model_name": "DescriptionStyleModel",
      "state": {
       "description_width": ""
      }
     },
     "8d955b41f6ac4e92a70042b50be893af": {
      "model_module": "@jupyter-widgets/base",
      "model_module_version": "1.2.0",
      "model_name": "LayoutModel",
      "state": {}
     },
     "8dc0f4a7594d4940bbb4409f0d6d8e31": {
      "model_module": "@jupyter-widgets/controls",
      "model_module_version": "1.5.0",
      "model_name": "FloatProgressModel",
      "state": {
       "bar_style": "success",
       "layout": "IPY_MODEL_33e206bfb84b437099ee4be88b92a11d",
       "max": 133,
       "style": "IPY_MODEL_b533ba846a9b415482bafcb732a01c9c",
       "value": 133
      }
     },
     "8dde6ba4ae314f2c84a1f3e516806f4e": {
      "model_module": "@jupyter-widgets/controls",
      "model_module_version": "1.5.0",
      "model_name": "DescriptionStyleModel",
      "state": {
       "description_width": ""
      }
     },
     "8de8a20155ca434caedf82d3fab283ec": {
      "model_module": "@jupyter-widgets/controls",
      "model_module_version": "1.5.0",
      "model_name": "FloatProgressModel",
      "state": {
       "bar_style": "success",
       "layout": "IPY_MODEL_b8e28106ee53452e92e94d87df344ddf",
       "max": 104,
       "style": "IPY_MODEL_6ff7514c680043bc9786a94d91595634",
       "value": 104
      }
     },
     "8df64e4529864e22bbbede924f640aa8": {
      "model_module": "@jupyter-widgets/base",
      "model_module_version": "1.2.0",
      "model_name": "LayoutModel",
      "state": {}
     },
     "8df95a0d642e43019791e183ba56980c": {
      "model_module": "@jupyter-widgets/base",
      "model_module_version": "1.2.0",
      "model_name": "LayoutModel",
      "state": {}
     },
     "8e01ffcee4ea43cb95d772368725610f": {
      "model_module": "@jupyter-widgets/base",
      "model_module_version": "1.2.0",
      "model_name": "LayoutModel",
      "state": {}
     },
     "8e1fd3438138445ba562216ecc5bb882": {
      "model_module": "@jupyter-widgets/controls",
      "model_module_version": "1.5.0",
      "model_name": "DescriptionStyleModel",
      "state": {
       "description_width": ""
      }
     },
     "8e33b3506f554b76bb36c296675e2e1e": {
      "model_module": "@jupyter-widgets/controls",
      "model_module_version": "1.5.0",
      "model_name": "DescriptionStyleModel",
      "state": {
       "description_width": ""
      }
     },
     "8e372306b66a47f1915357787539895f": {
      "model_module": "@jupyter-widgets/base",
      "model_module_version": "1.2.0",
      "model_name": "LayoutModel",
      "state": {}
     },
     "8e3884084ee14f5e832e8c79e3b42d32": {
      "model_module": "@jupyter-widgets/base",
      "model_module_version": "1.2.0",
      "model_name": "LayoutModel",
      "state": {}
     },
     "8e4f76af1af24983b1059466e62651b2": {
      "model_module": "@jupyter-widgets/controls",
      "model_module_version": "1.5.0",
      "model_name": "HTMLModel",
      "state": {
       "layout": "IPY_MODEL_1ab0f85dd1bb40a790c343b2aae453ad",
       "style": "IPY_MODEL_33ed22b66c664836ba2bcdee1846b194",
       "value": " 1/1 [00:00&lt;00:00, 52.58it/s]"
      }
     },
     "8e6aab539dd5413f9cab6ce6a5cfab40": {
      "model_module": "@jupyter-widgets/controls",
      "model_module_version": "1.5.0",
      "model_name": "HTMLModel",
      "state": {
       "layout": "IPY_MODEL_328009cf66b54177bb15ad951bf7e579",
       "style": "IPY_MODEL_fa6e3cc5e0dc497cb4007e10b00a8987",
       "value": "100%"
      }
     },
     "8e7cdb68c7b54f6cb4f7f95a273564d4": {
      "model_module": "@jupyter-widgets/base",
      "model_module_version": "1.2.0",
      "model_name": "LayoutModel",
      "state": {}
     },
     "8e8e91170bc747a8a123ad45d6934fbc": {
      "model_module": "@jupyter-widgets/base",
      "model_module_version": "1.2.0",
      "model_name": "LayoutModel",
      "state": {}
     },
     "8eaf89173b4a462d8d76ab72dc473cf8": {
      "model_module": "@jupyter-widgets/controls",
      "model_module_version": "1.5.0",
      "model_name": "HTMLModel",
      "state": {
       "layout": "IPY_MODEL_beb4a9c87e8146599f4ec81d0e6aa3d8",
       "style": "IPY_MODEL_d6dab882e96e44149d99c58e7b85f4c5",
       "value": " 1/1 [00:00&lt;00:00, 99.91it/s]"
      }
     },
     "8eba1977075f4cea98717acb1d7fd766": {
      "model_module": "@jupyter-widgets/controls",
      "model_module_version": "1.5.0",
      "model_name": "HBoxModel",
      "state": {
       "children": [
        "IPY_MODEL_f8dcf35aaff346abaea50bb4874aed21",
        "IPY_MODEL_aa6df95632fb49fca4a63769ad3e9453",
        "IPY_MODEL_53e3d9e32a3548c8b32a1e9e17230934"
       ],
       "layout": "IPY_MODEL_6cfae29c9f824a5b8c1be6dcaf8845ef"
      }
     },
     "8ebe46366e0f4d4e8c35c062cfc76198": {
      "model_module": "@jupyter-widgets/base",
      "model_module_version": "1.2.0",
      "model_name": "LayoutModel",
      "state": {}
     },
     "8eee411c079b4319b77e0ec695e427a1": {
      "model_module": "@jupyter-widgets/controls",
      "model_module_version": "1.5.0",
      "model_name": "HBoxModel",
      "state": {
       "children": [
        "IPY_MODEL_7acfaa8af7d44d18821d7bef423db65c",
        "IPY_MODEL_397e7b74679b4f3bbba34b348ce279b9",
        "IPY_MODEL_819cfc7e542e48d888342edd21cbc288"
       ],
       "layout": "IPY_MODEL_1cbc34e8b2f44866a7a7510d07100653"
      }
     },
     "8effbb1ba0c94c7aad491c82378d384d": {
      "model_module": "@jupyter-widgets/base",
      "model_module_version": "1.2.0",
      "model_name": "LayoutModel",
      "state": {}
     },
     "8f00442a62de41758f65c53ec5b31c4b": {
      "model_module": "@jupyter-widgets/base",
      "model_module_version": "1.2.0",
      "model_name": "LayoutModel",
      "state": {}
     },
     "8f02836b5997425bab7716bf77f0cb96": {
      "model_module": "@jupyter-widgets/controls",
      "model_module_version": "1.5.0",
      "model_name": "HTMLModel",
      "state": {
       "layout": "IPY_MODEL_24cebb80fcdd4ee4b1058cbf9227e22b",
       "style": "IPY_MODEL_a2a28c8448b3446180828b135627c034",
       "value": "100%"
      }
     },
     "8f0bd503d10946f28098ec3bf7d9488d": {
      "model_module": "@jupyter-widgets/controls",
      "model_module_version": "1.5.0",
      "model_name": "HTMLModel",
      "state": {
       "layout": "IPY_MODEL_7f7304e6a5314cbeb0af98125ab0648d",
       "style": "IPY_MODEL_9a324057d975476d9fadc796af0e64ae",
       "value": "100%"
      }
     },
     "8f0fb3eddff7432d8dcfa540ddb39a38": {
      "model_module": "@jupyter-widgets/base",
      "model_module_version": "1.2.0",
      "model_name": "LayoutModel",
      "state": {}
     },
     "8f2dcbd57fe14d388126fc00960aadb1": {
      "model_module": "@jupyter-widgets/controls",
      "model_module_version": "1.5.0",
      "model_name": "ProgressStyleModel",
      "state": {
       "description_width": ""
      }
     },
     "8f5429d179654f4aa65ae8b65e52a473": {
      "model_module": "@jupyter-widgets/controls",
      "model_module_version": "1.5.0",
      "model_name": "HTMLModel",
      "state": {
       "layout": "IPY_MODEL_621727e7b2874fa18ceeffdc624fb7fa",
       "style": "IPY_MODEL_bdebc33c103a485db1eb35c4019c7361",
       "value": "100%"
      }
     },
     "8f55f7e9f0fe4fbfae66d15543402c7e": {
      "model_module": "@jupyter-widgets/base",
      "model_module_version": "1.2.0",
      "model_name": "LayoutModel",
      "state": {}
     },
     "8f595d9bf8e54ac2a4b68fba881678dd": {
      "model_module": "@jupyter-widgets/base",
      "model_module_version": "1.2.0",
      "model_name": "LayoutModel",
      "state": {}
     },
     "8fd05a6d524c42a2b82087389fb22479": {
      "model_module": "@jupyter-widgets/base",
      "model_module_version": "1.2.0",
      "model_name": "LayoutModel",
      "state": {}
     },
     "8fd51689a0b2454eb0d31e82b4d28029": {
      "model_module": "@jupyter-widgets/controls",
      "model_module_version": "1.5.0",
      "model_name": "ProgressStyleModel",
      "state": {
       "description_width": ""
      }
     },
     "90dbcc125cf144d0b9eb3d9176970783": {
      "model_module": "@jupyter-widgets/base",
      "model_module_version": "1.2.0",
      "model_name": "LayoutModel",
      "state": {}
     },
     "90ef782f08cf4b2f937cc13c044d84c9": {
      "model_module": "@jupyter-widgets/controls",
      "model_module_version": "1.5.0",
      "model_name": "FloatProgressModel",
      "state": {
       "bar_style": "success",
       "layout": "IPY_MODEL_09c581553960420abe2796f8b0b70e65",
       "style": "IPY_MODEL_f777e16a170841f1a979bd0f02c92457",
       "value": 100
      }
     },
     "90f418416c7746bc92defa063ed47f25": {
      "model_module": "@jupyter-widgets/controls",
      "model_module_version": "1.5.0",
      "model_name": "DescriptionStyleModel",
      "state": {
       "description_width": ""
      }
     },
     "90fac7d9387847f0991ab4283e767ad6": {
      "model_module": "@jupyter-widgets/controls",
      "model_module_version": "1.5.0",
      "model_name": "HTMLModel",
      "state": {
       "layout": "IPY_MODEL_e88498f9668a40d6aeebb6ef33bca95a",
       "style": "IPY_MODEL_5aea8c3120aa42fe98940556f6c75074",
       "value": " 100/100 [03:58&lt;00:00,  2.17s/it]"
      }
     },
     "9103031e068c42a8a39929231a71b08b": {
      "model_module": "@jupyter-widgets/controls",
      "model_module_version": "1.5.0",
      "model_name": "HBoxModel",
      "state": {
       "children": [
        "IPY_MODEL_8a1697235b634f3990df3e3b678ecd2e",
        "IPY_MODEL_48ecf19ba3f54801974593a175fb0039",
        "IPY_MODEL_488ede8d76b141fbb127a82ab0a3df1d"
       ],
       "layout": "IPY_MODEL_57193652eb63448badd95c608d701031"
      }
     },
     "910da28a2358424e9c46c3b7f3307c50": {
      "model_module": "@jupyter-widgets/controls",
      "model_module_version": "1.5.0",
      "model_name": "HBoxModel",
      "state": {
       "children": [
        "IPY_MODEL_fd3c4b77b4e44f2dba7e565dd920517c",
        "IPY_MODEL_f44e9eedcab24bf6addc6ed1f4efa77a",
        "IPY_MODEL_b9e60708f1e04bd38a11df1d27d6acfb"
       ],
       "layout": "IPY_MODEL_787575d982224792b7fdbb57ceaf4070"
      }
     },
     "912932c14a3242568ce247c5a4ff0a70": {
      "model_module": "@jupyter-widgets/base",
      "model_module_version": "1.2.0",
      "model_name": "LayoutModel",
      "state": {}
     },
     "91301e2ac741446a83feedd5da77f7a4": {
      "model_module": "@jupyter-widgets/base",
      "model_module_version": "1.2.0",
      "model_name": "LayoutModel",
      "state": {}
     },
     "914c8aad76b74c5c85e091cf25207e4e": {
      "model_module": "@jupyter-widgets/controls",
      "model_module_version": "1.5.0",
      "model_name": "HTMLModel",
      "state": {
       "layout": "IPY_MODEL_622230b49b854fc895da1743865ad34a",
       "style": "IPY_MODEL_36111ebe1ffd40b08137ccd7ca80b407",
       "value": "  0%"
      }
     },
     "914d53f6d4be48078af611616d09714c": {
      "model_module": "@jupyter-widgets/controls",
      "model_module_version": "1.5.0",
      "model_name": "HTMLModel",
      "state": {
       "layout": "IPY_MODEL_d4fcf211eb3e47f48c4b1ecbbc259674",
       "style": "IPY_MODEL_ffaa4de7fb974afc9a3c5c721172245d",
       "value": "100%"
      }
     },
     "91507b55a50e4922b8e4b4c95bed0d20": {
      "model_module": "@jupyter-widgets/controls",
      "model_module_version": "1.5.0",
      "model_name": "HTMLModel",
      "state": {
       "layout": "IPY_MODEL_6f0739fe48474751a3322d3565e82ebf",
       "style": "IPY_MODEL_000e49cd540a415ca6063142cea0b5d0",
       "value": "100%"
      }
     },
     "918f30443ac84850a515513e8cbd1c76": {
      "model_module": "@jupyter-widgets/controls",
      "model_module_version": "1.5.0",
      "model_name": "HTMLModel",
      "state": {
       "layout": "IPY_MODEL_0f20c10f83564757b8add0df9ab42180",
       "style": "IPY_MODEL_79bff5eedbf04cdea955a600fb338bbe",
       "value": " 1/1 [00:00&lt;00:00, 99.90it/s]"
      }
     },
     "918f937326db4ac7b6cd3e6433b4b347": {
      "model_module": "@jupyter-widgets/controls",
      "model_module_version": "1.5.0",
      "model_name": "HTMLModel",
      "state": {
       "layout": "IPY_MODEL_2f51dafdc6884bdd8a0b11af96aace56",
       "style": "IPY_MODEL_ac12269eac514f28b9848efffd27ed2e",
       "value": "100%"
      }
     },
     "91927f156ca44ce680c9d0752ff7d8c1": {
      "model_module": "@jupyter-widgets/controls",
      "model_module_version": "1.5.0",
      "model_name": "ProgressStyleModel",
      "state": {
       "description_width": ""
      }
     },
     "91c0ac0e00ce47eeb057114a7b5725e4": {
      "model_module": "@jupyter-widgets/controls",
      "model_module_version": "1.5.0",
      "model_name": "ProgressStyleModel",
      "state": {
       "description_width": ""
      }
     },
     "91dd48d0070a41e691085c3a3de9c3d7": {
      "model_module": "@jupyter-widgets/base",
      "model_module_version": "1.2.0",
      "model_name": "LayoutModel",
      "state": {}
     },
     "91fe592ab8f14b2da849465371449096": {
      "model_module": "@jupyter-widgets/controls",
      "model_module_version": "1.5.0",
      "model_name": "DescriptionStyleModel",
      "state": {
       "description_width": ""
      }
     },
     "9211abb26469491cbef5e8d32b7d457d": {
      "model_module": "@jupyter-widgets/base",
      "model_module_version": "1.2.0",
      "model_name": "LayoutModel",
      "state": {}
     },
     "923471d43e6e4fffaf29dcc12b7c5d3f": {
      "model_module": "@jupyter-widgets/controls",
      "model_module_version": "1.5.0",
      "model_name": "FloatProgressModel",
      "state": {
       "bar_style": "success",
       "layout": "IPY_MODEL_4cf98cae3f874e439bb344bd32d8eed1",
       "max": 133,
       "style": "IPY_MODEL_48ccebefb9d34db6adc1667303c11547",
       "value": 133
      }
     },
     "9234e2ed89554a1c9ae451a15d97bb48": {
      "model_module": "@jupyter-widgets/controls",
      "model_module_version": "1.5.0",
      "model_name": "HTMLModel",
      "state": {
       "layout": "IPY_MODEL_419709aa171044e2b6a10ba0abab3c89",
       "style": "IPY_MODEL_f079e07a16734996b86a11cd9e79483b",
       "value": "100%"
      }
     },
     "926b26938c45479fa57c4a633483999e": {
      "model_module": "@jupyter-widgets/controls",
      "model_module_version": "1.5.0",
      "model_name": "DescriptionStyleModel",
      "state": {
       "description_width": ""
      }
     },
     "9278e393c56a4ac8b9310cb5c99ac1db": {
      "model_module": "@jupyter-widgets/base",
      "model_module_version": "1.2.0",
      "model_name": "LayoutModel",
      "state": {}
     },
     "9289c66bfcb34a47a69113d6f55b1fd8": {
      "model_module": "@jupyter-widgets/controls",
      "model_module_version": "1.5.0",
      "model_name": "ProgressStyleModel",
      "state": {
       "description_width": ""
      }
     },
     "929d251df9d54316a2f7f30bbc633827": {
      "model_module": "@jupyter-widgets/controls",
      "model_module_version": "1.5.0",
      "model_name": "DescriptionStyleModel",
      "state": {
       "description_width": ""
      }
     },
     "92bfb124337a4b8695f6b9987aa56c3d": {
      "model_module": "@jupyter-widgets/controls",
      "model_module_version": "1.5.0",
      "model_name": "FloatProgressModel",
      "state": {
       "bar_style": "success",
       "layout": "IPY_MODEL_7b911913ced0471686224040649936c9",
       "max": 231508,
       "style": "IPY_MODEL_05bb0e52b9294db881b18f5e58fa88f8",
       "value": 231508
      }
     },
     "92c5f8b2ba274f40b725d7cca8df74f7": {
      "model_module": "@jupyter-widgets/controls",
      "model_module_version": "1.5.0",
      "model_name": "HBoxModel",
      "state": {
       "children": [
        "IPY_MODEL_db0a8b66d9034263a6da980809295c0c",
        "IPY_MODEL_793c056bd9394c3cb9a4869ed1aa8ce1",
        "IPY_MODEL_6e6a9e7da8464aaea927547c28f7c2b2"
       ],
       "layout": "IPY_MODEL_adc3a5d99a9146ec9446e499a80e55ff"
      }
     },
     "92cb7f22bc5346c2a3bbe9642032ca0e": {
      "model_module": "@jupyter-widgets/controls",
      "model_module_version": "1.5.0",
      "model_name": "HTMLModel",
      "state": {
       "layout": "IPY_MODEL_b94bee8419254967922ee11d25054391",
       "style": "IPY_MODEL_5a2f7248d0664ad5a33e7c37d0cbefef",
       "value": " 1/1 [00:00&lt;00:00, 90.83it/s]"
      }
     },
     "92d098319cf74195aa046f8cf09d9e5a": {
      "model_module": "@jupyter-widgets/controls",
      "model_module_version": "1.5.0",
      "model_name": "DescriptionStyleModel",
      "state": {
       "description_width": ""
      }
     },
     "92e090c87caa47238096105c64476617": {
      "model_module": "@jupyter-widgets/base",
      "model_module_version": "1.2.0",
      "model_name": "LayoutModel",
      "state": {}
     },
     "92fb45b425054eaf81c29dfa7d26ff6e": {
      "model_module": "@jupyter-widgets/controls",
      "model_module_version": "1.5.0",
      "model_name": "ProgressStyleModel",
      "state": {
       "description_width": ""
      }
     },
     "9305edac5784420fbf0905901f067371": {
      "model_module": "@jupyter-widgets/controls",
      "model_module_version": "1.5.0",
      "model_name": "DescriptionStyleModel",
      "state": {
       "description_width": ""
      }
     },
     "9307827faa5c4caebd3d8708a3f162a3": {
      "model_module": "@jupyter-widgets/controls",
      "model_module_version": "1.5.0",
      "model_name": "FloatProgressModel",
      "state": {
       "bar_style": "success",
       "layout": "IPY_MODEL_753d2be98e374396be4a2912795d1032",
       "max": 1,
       "style": "IPY_MODEL_c3b9de749b2d4912869f3b55cbf70806",
       "value": 1
      }
     },
     "930a3daa0aec4b28bde41b6916e2ff48": {
      "model_module": "@jupyter-widgets/controls",
      "model_module_version": "1.5.0",
      "model_name": "ProgressStyleModel",
      "state": {
       "description_width": ""
      }
     },
     "93101e8f466b4105a5ab31b9e214958b": {
      "model_module": "@jupyter-widgets/controls",
      "model_module_version": "1.5.0",
      "model_name": "HBoxModel",
      "state": {
       "children": [
        "IPY_MODEL_ef0d70f9587c460d8028506f5ca292d6",
        "IPY_MODEL_09ffdf586bbc4d65a10caa27d96ac54b",
        "IPY_MODEL_88cd2cd0efe743f281bdc8f94ae5da24"
       ],
       "layout": "IPY_MODEL_176dbdcc3aea40df82c4decff273731a"
      }
     },
     "932d5ac46b74463cb86594f4cd2cee51": {
      "model_module": "@jupyter-widgets/controls",
      "model_module_version": "1.5.0",
      "model_name": "HBoxModel",
      "state": {
       "children": [
        "IPY_MODEL_9436cbaa43f84597ac4b7afb7d136ec1",
        "IPY_MODEL_92bfb124337a4b8695f6b9987aa56c3d",
        "IPY_MODEL_f7a4b550a5354aa78553e5c10f80f1eb"
       ],
       "layout": "IPY_MODEL_8b031647db1e4d1184b9ba6fa7968ce4"
      }
     },
     "9336f08318644a088b5f9bc09c26197e": {
      "model_module": "@jupyter-widgets/base",
      "model_module_version": "1.2.0",
      "model_name": "LayoutModel",
      "state": {}
     },
     "934b86fa304b47b6aa4887ebe4734177": {
      "model_module": "@jupyter-widgets/controls",
      "model_module_version": "1.5.0",
      "model_name": "HTMLModel",
      "state": {
       "layout": "IPY_MODEL_04ff265e395d45ad8f33e3ebb8d817db",
       "style": "IPY_MODEL_0e3427dd19ea4ab98e8d41bb5ac7d346",
       "value": "100%"
      }
     },
     "934f0da817544101aa4f42e73a5c040a": {
      "model_module": "@jupyter-widgets/base",
      "model_module_version": "1.2.0",
      "model_name": "LayoutModel",
      "state": {}
     },
     "93683b3f823d4b12b5dbd3c6f738fbef": {
      "model_module": "@jupyter-widgets/controls",
      "model_module_version": "1.5.0",
      "model_name": "HTMLModel",
      "state": {
       "layout": "IPY_MODEL_b43bc6b39a4844f3a0337bbc3c8c72d1",
       "style": "IPY_MODEL_f3a5530ca63540fbbdf59a40682015f5",
       "value": "100%"
      }
     },
     "937c379ad446459980f4efbc88308a83": {
      "model_module": "@jupyter-widgets/controls",
      "model_module_version": "1.5.0",
      "model_name": "DescriptionStyleModel",
      "state": {
       "description_width": ""
      }
     },
     "9395ebc21eeb4258ab5182d0347abe70": {
      "model_module": "@jupyter-widgets/controls",
      "model_module_version": "1.5.0",
      "model_name": "HBoxModel",
      "state": {
       "children": [
        "IPY_MODEL_9b4a8e68fec6437e8d13c7f08913e160",
        "IPY_MODEL_2851e55dbaad49818c4a6c2edbb00311",
        "IPY_MODEL_d2c24999a463457f9630ef2deb359c94"
       ],
       "layout": "IPY_MODEL_9d6f4d2016c34352b5fccf5f689a8e7a"
      }
     },
     "93a55c0bdb6647828c4ab3477477cad4": {
      "model_module": "@jupyter-widgets/base",
      "model_module_version": "1.2.0",
      "model_name": "LayoutModel",
      "state": {}
     },
     "93b672bf9fea4770a312b144247c8662": {
      "model_module": "@jupyter-widgets/controls",
      "model_module_version": "1.5.0",
      "model_name": "DescriptionStyleModel",
      "state": {
       "description_width": ""
      }
     },
     "93d712fe0dc94ba2bfb6a8b04db92837": {
      "model_module": "@jupyter-widgets/controls",
      "model_module_version": "1.5.0",
      "model_name": "FloatProgressModel",
      "state": {
       "bar_style": "success",
       "layout": "IPY_MODEL_8effbb1ba0c94c7aad491c82378d384d",
       "max": 1,
       "style": "IPY_MODEL_05ca2e2406e944d798d8a685b82a1915",
       "value": 1
      }
     },
     "9415b2c40cc445829c1bcbe3fa4a18b5": {
      "model_module": "@jupyter-widgets/controls",
      "model_module_version": "1.5.0",
      "model_name": "FloatProgressModel",
      "state": {
       "bar_style": "success",
       "layout": "IPY_MODEL_febac991488646feb8d6c0e12f70e502",
       "max": 1,
       "style": "IPY_MODEL_eb95be5dc79143598d92c97b2672dfb3",
       "value": 1
      }
     },
     "94191823ff68405caced6753e79866e7": {
      "model_module": "@jupyter-widgets/controls",
      "model_module_version": "1.5.0",
      "model_name": "FloatProgressModel",
      "state": {
       "bar_style": "success",
       "layout": "IPY_MODEL_fee22596442846d18e434cd9c99fb1e7",
       "max": 1,
       "style": "IPY_MODEL_9a44328a42c344b4978b26884200c785",
       "value": 1
      }
     },
     "9436cbaa43f84597ac4b7afb7d136ec1": {
      "model_module": "@jupyter-widgets/controls",
      "model_module_version": "1.5.0",
      "model_name": "HTMLModel",
      "state": {
       "layout": "IPY_MODEL_89ad1248e7e24cbd8eca19b03d4b39da",
       "style": "IPY_MODEL_24d6995ea27e40e19685ac7c556537aa",
       "value": "Downloading: 100%"
      }
     },
     "9454ca93993249c48c80469784f7dacc": {
      "model_module": "@jupyter-widgets/base",
      "model_module_version": "1.2.0",
      "model_name": "LayoutModel",
      "state": {}
     },
     "946fcab1e47e4e3683aef650dd75ad56": {
      "model_module": "@jupyter-widgets/base",
      "model_module_version": "1.2.0",
      "model_name": "LayoutModel",
      "state": {}
     },
     "94a0b41464e04553a08e5d8f86fb6c46": {
      "model_module": "@jupyter-widgets/base",
      "model_module_version": "1.2.0",
      "model_name": "LayoutModel",
      "state": {}
     },
     "94a9504403414adeb671450b64691e40": {
      "model_module": "@jupyter-widgets/controls",
      "model_module_version": "1.5.0",
      "model_name": "HTMLModel",
      "state": {
       "layout": "IPY_MODEL_f62522c574f54e83a7d91be78477d5ce",
       "style": "IPY_MODEL_f2210d05cfab42c8b2a16d6ec646abbf",
       "value": "100%"
      }
     },
     "94c1eab34ce04cfd86f035b00c68d015": {
      "model_module": "@jupyter-widgets/controls",
      "model_module_version": "1.5.0",
      "model_name": "FloatProgressModel",
      "state": {
       "bar_style": "success",
       "layout": "IPY_MODEL_f96db525524841138173d5cf4252bfe0",
       "style": "IPY_MODEL_13a9c61bcaeb4b36b50f9a59c7d99334",
       "value": 100
      }
     },
     "94ccdf5f53a84270b121b7c8cbb33497": {
      "model_module": "@jupyter-widgets/controls",
      "model_module_version": "1.5.0",
      "model_name": "HTMLModel",
      "state": {
       "layout": "IPY_MODEL_241c0f6d8c2d4431a0b7f9994c04866a",
       "style": "IPY_MODEL_89a4436175b54fd78790236a6092cb55",
       "value": "100%"
      }
     },
     "94da6717b2b243fb99e087c0bf024b26": {
      "model_module": "@jupyter-widgets/controls",
      "model_module_version": "1.5.0",
      "model_name": "HBoxModel",
      "state": {
       "children": [
        "IPY_MODEL_62bfe7370d354aefb356c8c74022c978",
        "IPY_MODEL_683b5b7b32384ec0b44758de8f7db57a",
        "IPY_MODEL_7218eac946db47b7aa59026cc1b47aa0"
       ],
       "layout": "IPY_MODEL_2bf5dac35f204dafa3b88896cc092a9b"
      }
     },
     "94dac07760df482b8fb5bfcff5ec94cf": {
      "model_module": "@jupyter-widgets/controls",
      "model_module_version": "1.5.0",
      "model_name": "HTMLModel",
      "state": {
       "layout": "IPY_MODEL_12c51e95e55146488cd0976168c835c7",
       "style": "IPY_MODEL_4e66404f259e49cca7185c714e171793",
       "value": " 1323/1323 [00:03&lt;00:00, 348.99ba/s]"
      }
     },
     "94e145907f914e4fa3409f3870467cb3": {
      "model_module": "@jupyter-widgets/controls",
      "model_module_version": "1.5.0",
      "model_name": "HBoxModel",
      "state": {
       "children": [
        "IPY_MODEL_10998bd1904a4882b598cbe8104e2b12",
        "IPY_MODEL_9659781ad7a4416d8a9cd7fa1dbd8720",
        "IPY_MODEL_29c5efa0ae9d45d7aafe1383409a982c"
       ],
       "layout": "IPY_MODEL_99ca2a98e3564db5ae9054090fec04ec"
      }
     },
     "94f7d2481b314985b3075345dc618aab": {
      "model_module": "@jupyter-widgets/controls",
      "model_module_version": "1.5.0",
      "model_name": "FloatProgressModel",
      "state": {
       "bar_style": "success",
       "layout": "IPY_MODEL_13656099bf62404eb099f2cc2c5e5a2b",
       "style": "IPY_MODEL_884a165499ca42f1b5eeea2033493557",
       "value": 100
      }
     },
     "94f7e3c5da47421aa4851611da1d085c": {
      "model_module": "@jupyter-widgets/base",
      "model_module_version": "1.2.0",
      "model_name": "LayoutModel",
      "state": {}
     },
     "95129744fc9d4785a3f6e23a4dbad268": {
      "model_module": "@jupyter-widgets/controls",
      "model_module_version": "1.5.0",
      "model_name": "ProgressStyleModel",
      "state": {
       "description_width": ""
      }
     },
     "95264e21e1de4fd69076c56dabf2a431": {
      "model_module": "@jupyter-widgets/controls",
      "model_module_version": "1.5.0",
      "model_name": "ProgressStyleModel",
      "state": {
       "description_width": ""
      }
     },
     "9546e3e2036748f188d94f8e0edfdc3a": {
      "model_module": "@jupyter-widgets/controls",
      "model_module_version": "1.5.0",
      "model_name": "ProgressStyleModel",
      "state": {
       "description_width": ""
      }
     },
     "9574783d381b49e8938780a6152cdf83": {
      "model_module": "@jupyter-widgets/base",
      "model_module_version": "1.2.0",
      "model_name": "LayoutModel",
      "state": {}
     },
     "957b1d51d1144fb79a0aa88b816cf6fd": {
      "model_module": "@jupyter-widgets/controls",
      "model_module_version": "1.5.0",
      "model_name": "DescriptionStyleModel",
      "state": {
       "description_width": ""
      }
     },
     "9583ed51933d423eb2484cdeb11f6b00": {
      "model_module": "@jupyter-widgets/controls",
      "model_module_version": "1.5.0",
      "model_name": "FloatProgressModel",
      "state": {
       "bar_style": "success",
       "layout": "IPY_MODEL_b1db0d104cfe43afa223da989eb0243a",
       "max": 1,
       "style": "IPY_MODEL_c0101280aafc4f7983c33a26fb169345",
       "value": 1
      }
     },
     "95b12a105e014be9846a489ea696a004": {
      "model_module": "@jupyter-widgets/base",
      "model_module_version": "1.2.0",
      "model_name": "LayoutModel",
      "state": {}
     },
     "95b463da62ba4647b60b8ee74ec97ad8": {
      "model_module": "@jupyter-widgets/controls",
      "model_module_version": "1.5.0",
      "model_name": "DescriptionStyleModel",
      "state": {
       "description_width": ""
      }
     },
     "95c200c7d03b4eb7bde2cf0b556b9cbe": {
      "model_module": "@jupyter-widgets/base",
      "model_module_version": "1.2.0",
      "model_name": "LayoutModel",
      "state": {}
     },
     "95cb94f69ede498ebc981a4549ec0eca": {
      "model_module": "@jupyter-widgets/controls",
      "model_module_version": "1.5.0",
      "model_name": "HTMLModel",
      "state": {
       "layout": "IPY_MODEL_4a663b130e3b4fc5a38dbbe3f9b32d31",
       "style": "IPY_MODEL_2a579c6efa3746ba989d64c4b5a9536d",
       "value": " 1/1 [00:00&lt;00:00, 99.90it/s]"
      }
     },
     "95d8b58b887a46268f6f863d337939aa": {
      "model_module": "@jupyter-widgets/controls",
      "model_module_version": "1.5.0",
      "model_name": "HTMLModel",
      "state": {
       "layout": "IPY_MODEL_cb2506c7cd68449986e0ba85201f644a",
       "style": "IPY_MODEL_4ffc2f661b9b4178a24b8d6d3e2bd3d8",
       "value": " 1/1 [00:00&lt;00:00, 49.95it/s]"
      }
     },
     "95dd5994d33c473182c60230a8bfbc6f": {
      "model_module": "@jupyter-widgets/base",
      "model_module_version": "1.2.0",
      "model_name": "LayoutModel",
      "state": {}
     },
     "95f4787a138749e38947fe9a88171bb3": {
      "model_module": "@jupyter-widgets/base",
      "model_module_version": "1.2.0",
      "model_name": "LayoutModel",
      "state": {}
     },
     "960c321c89e94adda7ef6edcfb0078ce": {
      "model_module": "@jupyter-widgets/controls",
      "model_module_version": "1.5.0",
      "model_name": "HTMLModel",
      "state": {
       "layout": "IPY_MODEL_2e8c1eaa469649418136a1dcaf742492",
       "style": "IPY_MODEL_6a9ab573c4fa4a568883306f87212de9",
       "value": "100%"
      }
     },
     "961828c9ff3540638536357771d601b4": {
      "model_module": "@jupyter-widgets/base",
      "model_module_version": "1.2.0",
      "model_name": "LayoutModel",
      "state": {}
     },
     "962b8271237d4a17ada15d928ae45bd5": {
      "model_module": "@jupyter-widgets/base",
      "model_module_version": "1.2.0",
      "model_name": "LayoutModel",
      "state": {}
     },
     "964412024ffe4baba24bb0492a99caf6": {
      "model_module": "@jupyter-widgets/controls",
      "model_module_version": "1.5.0",
      "model_name": "FloatProgressModel",
      "state": {
       "bar_style": "success",
       "layout": "IPY_MODEL_5a27d94e25ef421e9502f8f8d45b232f",
       "max": 1,
       "style": "IPY_MODEL_e02aab379ffc407f88e3e4697033e2a6",
       "value": 1
      }
     },
     "9655c7c1f3c14b82857552fd2e17516a": {
      "model_module": "@jupyter-widgets/controls",
      "model_module_version": "1.5.0",
      "model_name": "DescriptionStyleModel",
      "state": {
       "description_width": ""
      }
     },
     "9659781ad7a4416d8a9cd7fa1dbd8720": {
      "model_module": "@jupyter-widgets/controls",
      "model_module_version": "1.5.0",
      "model_name": "FloatProgressModel",
      "state": {
       "bar_style": "success",
       "layout": "IPY_MODEL_e0f02f2f884744d3abaf7bebfd54d57c",
       "max": 1,
       "style": "IPY_MODEL_2697d6dabc704a77a2dcafc4412218e6",
       "value": 1
      }
     },
     "967b9863616e43cb9a065e80179ff23f": {
      "model_module": "@jupyter-widgets/controls",
      "model_module_version": "1.5.0",
      "model_name": "DescriptionStyleModel",
      "state": {
       "description_width": ""
      }
     },
     "9686c3a1d539406b9850cea27d052c9d": {
      "model_module": "@jupyter-widgets/controls",
      "model_module_version": "1.5.0",
      "model_name": "DescriptionStyleModel",
      "state": {
       "description_width": ""
      }
     },
     "968ba6cf6806410a88fbd4893d989d75": {
      "model_module": "@jupyter-widgets/base",
      "model_module_version": "1.2.0",
      "model_name": "LayoutModel",
      "state": {}
     },
     "96a22e51b5004b6f9b9c222c425c9b73": {
      "model_module": "@jupyter-widgets/controls",
      "model_module_version": "1.5.0",
      "model_name": "FloatProgressModel",
      "state": {
       "bar_style": "success",
       "layout": "IPY_MODEL_86682875e9df483ab25375c84822f405",
       "max": 1,
       "style": "IPY_MODEL_12877484f9d84c75ba34fadf2ddb3462",
       "value": 1
      }
     },
     "96a43c4e8bf246b28d459031e01e7057": {
      "model_module": "@jupyter-widgets/controls",
      "model_module_version": "1.5.0",
      "model_name": "ProgressStyleModel",
      "state": {
       "description_width": ""
      }
     },
     "96aa755c10844250b1c5aa9c3c9f4a72": {
      "model_module": "@jupyter-widgets/controls",
      "model_module_version": "1.5.0",
      "model_name": "DescriptionStyleModel",
      "state": {
       "description_width": ""
      }
     },
     "972ec45ca0b54cf0bffc8f9b5fff83b6": {
      "model_module": "@jupyter-widgets/controls",
      "model_module_version": "1.5.0",
      "model_name": "DescriptionStyleModel",
      "state": {
       "description_width": ""
      }
     },
     "975c599ec7004f0cb420635bbe1c6c05": {
      "model_module": "@jupyter-widgets/controls",
      "model_module_version": "1.5.0",
      "model_name": "DescriptionStyleModel",
      "state": {
       "description_width": ""
      }
     },
     "975ea80d67824fbfaf2a95b92c3c82ba": {
      "model_module": "@jupyter-widgets/controls",
      "model_module_version": "1.5.0",
      "model_name": "DescriptionStyleModel",
      "state": {
       "description_width": ""
      }
     },
     "97722d050e9c42cfbea4558f5829f3c2": {
      "model_module": "@jupyter-widgets/base",
      "model_module_version": "1.2.0",
      "model_name": "LayoutModel",
      "state": {}
     },
     "9781157cbcf2470e95f11897c3c7052b": {
      "model_module": "@jupyter-widgets/controls",
      "model_module_version": "1.5.0",
      "model_name": "HTMLModel",
      "state": {
       "layout": "IPY_MODEL_94a0b41464e04553a08e5d8f86fb6c46",
       "style": "IPY_MODEL_f2818afd04ad4098a9affc3e0f0391ad",
       "value": " 1/1 [00:00&lt;00:00, 58.77it/s]"
      }
     },
     "97816f2e587a430f9d6c79a7bc54eb74": {
      "model_module": "@jupyter-widgets/base",
      "model_module_version": "1.2.0",
      "model_name": "LayoutModel",
      "state": {}
     },
     "9785133467014adba93daff67bf39020": {
      "model_module": "@jupyter-widgets/controls",
      "model_module_version": "1.5.0",
      "model_name": "HTMLModel",
      "state": {
       "layout": "IPY_MODEL_ae50d2b8d3e54e59bf87692b0470c3ef",
       "style": "IPY_MODEL_61740926d3304da7bb5ab32fa8996c6b",
       "value": " 1/1 [00:00&lt;00:00, 99.91it/s]"
      }
     },
     "97b0a55d3cbf49fc9846435d8b6fdb7a": {
      "model_module": "@jupyter-widgets/controls",
      "model_module_version": "1.5.0",
      "model_name": "FloatProgressModel",
      "state": {
       "bar_style": "success",
       "layout": "IPY_MODEL_ec263284b47f402e814933edff9ac14b",
       "style": "IPY_MODEL_b03b4b1c63c04718ab33b3f902075b9d",
       "value": 100
      }
     },
     "97d7fbb39ffe47f19ddbdb4fb83e3f91": {
      "model_module": "@jupyter-widgets/base",
      "model_module_version": "1.2.0",
      "model_name": "LayoutModel",
      "state": {}
     },
     "97ebb725c1d04af282b7b83dfcfcb45b": {
      "model_module": "@jupyter-widgets/base",
      "model_module_version": "1.2.0",
      "model_name": "LayoutModel",
      "state": {}
     },
     "97ec11649b534311ae13ed9d00df4c60": {
      "model_module": "@jupyter-widgets/base",
      "model_module_version": "1.2.0",
      "model_name": "LayoutModel",
      "state": {}
     },
     "980186f73fd04fb2a0527ac40ab962a6": {
      "model_module": "@jupyter-widgets/controls",
      "model_module_version": "1.5.0",
      "model_name": "HTMLModel",
      "state": {
       "layout": "IPY_MODEL_5d21f97d096f41ac9aa66b8a785c5dbd",
       "style": "IPY_MODEL_57163bd8737d40e79cc51582b9b6cf58",
       "value": " 1/1 [00:02&lt;00:00,  2.06s/ba]"
      }
     },
     "9828397d61514a63a2676961e9392576": {
      "model_module": "@jupyter-widgets/base",
      "model_module_version": "1.2.0",
      "model_name": "LayoutModel",
      "state": {}
     },
     "983835c84e584e0fbd17bfaa8e10dbab": {
      "model_module": "@jupyter-widgets/controls",
      "model_module_version": "1.5.0",
      "model_name": "DescriptionStyleModel",
      "state": {
       "description_width": ""
      }
     },
     "983a724757684e4e9b28f9ecc7b9f2d0": {
      "model_module": "@jupyter-widgets/base",
      "model_module_version": "1.2.0",
      "model_name": "LayoutModel",
      "state": {}
     },
     "983aa1f16f144379a543c4d11ee41f12": {
      "model_module": "@jupyter-widgets/controls",
      "model_module_version": "1.5.0",
      "model_name": "HTMLModel",
      "state": {
       "layout": "IPY_MODEL_b6f3c4db71a74c0c9c37b10b30445fb3",
       "style": "IPY_MODEL_2aa23e51fca642c0a03d36a257ce0a48",
       "value": "100%"
      }
     },
     "986cef2690334c86a2a011f8419567bb": {
      "model_module": "@jupyter-widgets/controls",
      "model_module_version": "1.5.0",
      "model_name": "DescriptionStyleModel",
      "state": {
       "description_width": ""
      }
     },
     "9878748e182a49bfb9e23e5c9761df29": {
      "model_module": "@jupyter-widgets/base",
      "model_module_version": "1.2.0",
      "model_name": "LayoutModel",
      "state": {}
     },
     "987ff99ab102413cae9bd904fa313303": {
      "model_module": "@jupyter-widgets/controls",
      "model_module_version": "1.5.0",
      "model_name": "HTMLModel",
      "state": {
       "layout": "IPY_MODEL_74476b44ab28494498891a1af6bb0141",
       "style": "IPY_MODEL_9b065dbac0524f6597ca23b1fc1d38ac",
       "value": "100%"
      }
     },
     "988177e446a642f39584875a98936237": {
      "model_module": "@jupyter-widgets/base",
      "model_module_version": "1.2.0",
      "model_name": "LayoutModel",
      "state": {}
     },
     "988e5b570c26435eb87ac2808b96f0da": {
      "model_module": "@jupyter-widgets/base",
      "model_module_version": "1.2.0",
      "model_name": "LayoutModel",
      "state": {}
     },
     "98d8d14cd6a940e0a93de6ec0088aa08": {
      "model_module": "@jupyter-widgets/controls",
      "model_module_version": "1.5.0",
      "model_name": "FloatProgressModel",
      "state": {
       "bar_style": "success",
       "layout": "IPY_MODEL_53dcb369407a4b0a83f0cf911ae242e7",
       "style": "IPY_MODEL_9b77598ee6e84f93a1dc5659a4835123",
       "value": 100
      }
     },
     "98f6191cdac348f0839e9e612ebf9056": {
      "model_module": "@jupyter-widgets/controls",
      "model_module_version": "1.5.0",
      "model_name": "HTMLModel",
      "state": {
       "layout": "IPY_MODEL_983a724757684e4e9b28f9ecc7b9f2d0",
       "style": "IPY_MODEL_86c86568943e43548707513621a59bde",
       "value": "100%"
      }
     },
     "98f9e3455cca413a8770cce130bc139f": {
      "model_module": "@jupyter-widgets/controls",
      "model_module_version": "1.5.0",
      "model_name": "DescriptionStyleModel",
      "state": {
       "description_width": ""
      }
     },
     "9919b12a93884eb2bffe8508c8a1879d": {
      "model_module": "@jupyter-widgets/base",
      "model_module_version": "1.2.0",
      "model_name": "LayoutModel",
      "state": {}
     },
     "9926c98dc17c4253990f3f4d9fc7d27a": {
      "model_module": "@jupyter-widgets/controls",
      "model_module_version": "1.5.0",
      "model_name": "DescriptionStyleModel",
      "state": {
       "description_width": ""
      }
     },
     "997d9e4621e2444dbc434a53bba425a8": {
      "model_module": "@jupyter-widgets/controls",
      "model_module_version": "1.5.0",
      "model_name": "DescriptionStyleModel",
      "state": {
       "description_width": ""
      }
     },
     "9996f185cbb64f01bebf3175720a8bfb": {
      "model_module": "@jupyter-widgets/controls",
      "model_module_version": "1.5.0",
      "model_name": "DescriptionStyleModel",
      "state": {
       "description_width": ""
      }
     },
     "999b4f652bd64068919a1538cf956bd0": {
      "model_module": "@jupyter-widgets/controls",
      "model_module_version": "1.5.0",
      "model_name": "HTMLModel",
      "state": {
       "layout": "IPY_MODEL_18ab6267706b4acfbc9605c131077214",
       "style": "IPY_MODEL_0100cd8e35f947c79c25f9af08922109",
       "value": " 100/100 [10:41&lt;00:00,  6.42s/it]"
      }
     },
     "99ba36db357344598c3c5997f8116a1a": {
      "model_module": "@jupyter-widgets/base",
      "model_module_version": "1.2.0",
      "model_name": "LayoutModel",
      "state": {}
     },
     "99ca2a98e3564db5ae9054090fec04ec": {
      "model_module": "@jupyter-widgets/base",
      "model_module_version": "1.2.0",
      "model_name": "LayoutModel",
      "state": {}
     },
     "9a0e8ecbbd4f4d16b34520d47c3184c2": {
      "model_module": "@jupyter-widgets/controls",
      "model_module_version": "1.5.0",
      "model_name": "HTMLModel",
      "state": {
       "layout": "IPY_MODEL_d75ad1aa4eca46d2a425e68ed667d37e",
       "style": "IPY_MODEL_a3a4dbf9c0dc4f0ba669ac353c820ed5",
       "value": " 100/100 [10:07&lt;00:00,  6.08s/it]"
      }
     },
     "9a160e907b4e4b8698ea4090a2ce6c3d": {
      "model_module": "@jupyter-widgets/base",
      "model_module_version": "1.2.0",
      "model_name": "LayoutModel",
      "state": {}
     },
     "9a2bdb81a64f4bf29dc1bc237d1f6ebf": {
      "model_module": "@jupyter-widgets/controls",
      "model_module_version": "1.5.0",
      "model_name": "HTMLModel",
      "state": {
       "layout": "IPY_MODEL_7538c3f41070414da92ec6d9df29dd1f",
       "style": "IPY_MODEL_ad9f6b96641b4f10932a85bcf21500bc",
       "value": " 133/133 [00:51&lt;00:00,  2.96ba/s]"
      }
     },
     "9a324057d975476d9fadc796af0e64ae": {
      "model_module": "@jupyter-widgets/controls",
      "model_module_version": "1.5.0",
      "model_name": "DescriptionStyleModel",
      "state": {
       "description_width": ""
      }
     },
     "9a368b70382f468dba04027f2b1f6f00": {
      "model_module": "@jupyter-widgets/base",
      "model_module_version": "1.2.0",
      "model_name": "LayoutModel",
      "state": {}
     },
     "9a381346e03046cdbde7d27029848e2a": {
      "model_module": "@jupyter-widgets/base",
      "model_module_version": "1.2.0",
      "model_name": "LayoutModel",
      "state": {}
     },
     "9a3ce814b627413fa16dc2fe5419711e": {
      "model_module": "@jupyter-widgets/controls",
      "model_module_version": "1.5.0",
      "model_name": "HTMLModel",
      "state": {
       "layout": "IPY_MODEL_e6d38341c15c4bdd99f39ac5f0884e7e",
       "style": "IPY_MODEL_c8394c7d57ee433ab4630e8bc52b25ff",
       "value": " 1/1 [00:00&lt;00:00, 90.83it/s]"
      }
     },
     "9a3fd34e82124b3c846496c8cf2d4be4": {
      "model_module": "@jupyter-widgets/base",
      "model_module_version": "1.2.0",
      "model_name": "LayoutModel",
      "state": {}
     },
     "9a44328a42c344b4978b26884200c785": {
      "model_module": "@jupyter-widgets/controls",
      "model_module_version": "1.5.0",
      "model_name": "ProgressStyleModel",
      "state": {
       "description_width": ""
      }
     },
     "9a56e8de3114477caadafeaa4898b564": {
      "model_module": "@jupyter-widgets/controls",
      "model_module_version": "1.5.0",
      "model_name": "DescriptionStyleModel",
      "state": {
       "description_width": ""
      }
     },
     "9a701b90adba423f9e3bada9ea134a0f": {
      "model_module": "@jupyter-widgets/base",
      "model_module_version": "1.2.0",
      "model_name": "LayoutModel",
      "state": {}
     },
     "9a934aa2dfa64241b7c25f61cca95fbd": {
      "model_module": "@jupyter-widgets/controls",
      "model_module_version": "1.5.0",
      "model_name": "FloatProgressModel",
      "state": {
       "bar_style": "success",
       "layout": "IPY_MODEL_7ac82dae475049cd86c5849da2106d84",
       "style": "IPY_MODEL_473358701e444605a023b2d97557f017",
       "value": 100
      }
     },
     "9a9ec752998f4d3fb457cdb2b87d909e": {
      "model_module": "@jupyter-widgets/controls",
      "model_module_version": "1.5.0",
      "model_name": "FloatProgressModel",
      "state": {
       "bar_style": "success",
       "layout": "IPY_MODEL_8cd6f2d3d6f544149f937784ec181e87",
       "max": 1,
       "style": "IPY_MODEL_2d0fd6b7c7de4173a781c5d80db1a51a",
       "value": 1
      }
     },
     "9adf648e7d084eb3b853f1273b45013f": {
      "model_module": "@jupyter-widgets/controls",
      "model_module_version": "1.5.0",
      "model_name": "HBoxModel",
      "state": {
       "children": [
        "IPY_MODEL_fe3294d1fc384a6a9f426214d7fbc3ea",
        "IPY_MODEL_7bd5ec9529484d78b382fb561559459b",
        "IPY_MODEL_ba398e1f4c06472b86eaa14722ecd797"
       ],
       "layout": "IPY_MODEL_7726c30006d74da79b65a5b732167fec"
      }
     },
     "9af1141697194ca5a528881caf18fec9": {
      "model_module": "@jupyter-widgets/base",
      "model_module_version": "1.2.0",
      "model_name": "LayoutModel",
      "state": {}
     },
     "9afcecc31da0451382ff3a13be6e2832": {
      "model_module": "@jupyter-widgets/controls",
      "model_module_version": "1.5.0",
      "model_name": "HTMLModel",
      "state": {
       "layout": "IPY_MODEL_f969497047b94459b49545a0f4a0b048",
       "style": "IPY_MODEL_f8be41acb1144c5b87c45a7071ee6aff",
       "value": "100%"
      }
     },
     "9b01b51ef1824ea3b28a91f2032ad493": {
      "model_module": "@jupyter-widgets/base",
      "model_module_version": "1.2.0",
      "model_name": "LayoutModel",
      "state": {}
     },
     "9b065dbac0524f6597ca23b1fc1d38ac": {
      "model_module": "@jupyter-widgets/controls",
      "model_module_version": "1.5.0",
      "model_name": "DescriptionStyleModel",
      "state": {
       "description_width": ""
      }
     },
     "9b16025e8ac5432bb8d22671d85c3f64": {
      "model_module": "@jupyter-widgets/controls",
      "model_module_version": "1.5.0",
      "model_name": "HBoxModel",
      "state": {
       "children": [
        "IPY_MODEL_3403ca4ed4c14600981d6707f2f86886",
        "IPY_MODEL_85d460a095884a80bcdfafe32e5b8e75",
        "IPY_MODEL_3718be993d0641e3913ced8b68e6835d"
       ],
       "layout": "IPY_MODEL_34f60ae99fe74d258966cbf91509f976"
      }
     },
     "9b2921de3ece4f31bc79bbcd7e50799f": {
      "model_module": "@jupyter-widgets/base",
      "model_module_version": "1.2.0",
      "model_name": "LayoutModel",
      "state": {}
     },
     "9b4180c6d332488ca371f9c434daeb11": {
      "model_module": "@jupyter-widgets/controls",
      "model_module_version": "1.5.0",
      "model_name": "HBoxModel",
      "state": {
       "children": [
        "IPY_MODEL_b6e4f13e56e44137b2536c7ad39dfb42",
        "IPY_MODEL_1e964a3f4a734948ac9d4613cb2673b6",
        "IPY_MODEL_bf8e4a5fd6df4482a2c77e5e408b58cf"
       ],
       "layout": "IPY_MODEL_a07f20e0fc2746c3b4c4563cde37fbce"
      }
     },
     "9b4a8e68fec6437e8d13c7f08913e160": {
      "model_module": "@jupyter-widgets/controls",
      "model_module_version": "1.5.0",
      "model_name": "HTMLModel",
      "state": {
       "layout": "IPY_MODEL_40b40bc0c0d845e68b61c3a0518a1228",
       "style": "IPY_MODEL_9f4299a4c5fc4f87bca542d8d835d6af",
       "value": " 22%"
      }
     },
     "9b703eb0fa1c4723886d80363a3412ec": {
      "model_module": "@jupyter-widgets/controls",
      "model_module_version": "1.5.0",
      "model_name": "DescriptionStyleModel",
      "state": {
       "description_width": ""
      }
     },
     "9b77598ee6e84f93a1dc5659a4835123": {
      "model_module": "@jupyter-widgets/controls",
      "model_module_version": "1.5.0",
      "model_name": "ProgressStyleModel",
      "state": {
       "description_width": ""
      }
     },
     "9b9e3b97758241a7910717e60d3eb582": {
      "model_module": "@jupyter-widgets/controls",
      "model_module_version": "1.5.0",
      "model_name": "DescriptionStyleModel",
      "state": {
       "description_width": ""
      }
     },
     "9be844d1fb7345cc98825869d2fa467d": {
      "model_module": "@jupyter-widgets/controls",
      "model_module_version": "1.5.0",
      "model_name": "HTMLModel",
      "state": {
       "layout": "IPY_MODEL_afc641f7e287479c98462c165d607a35",
       "style": "IPY_MODEL_07cf86cac27d4931abfd055ba70fb2a9",
       "value": "100%"
      }
     },
     "9bf8ab06973f4ca28dc12ffd0ed426f6": {
      "model_module": "@jupyter-widgets/base",
      "model_module_version": "1.2.0",
      "model_name": "LayoutModel",
      "state": {}
     },
     "9c01048da10b46a4baa74491579f1ce6": {
      "model_module": "@jupyter-widgets/base",
      "model_module_version": "1.2.0",
      "model_name": "LayoutModel",
      "state": {}
     },
     "9c015fcdbbb04b1fa7ae9db30a983d27": {
      "model_module": "@jupyter-widgets/controls",
      "model_module_version": "1.5.0",
      "model_name": "FloatProgressModel",
      "state": {
       "bar_style": "success",
       "layout": "IPY_MODEL_5f0e30c5d57e40e0b25cc69a39a9d9d9",
       "max": 1,
       "style": "IPY_MODEL_deb388ce59fa4da6a96428cfbf40a1dc",
       "value": 1
      }
     },
     "9c3b7d56ba2a4863b05919c65857fd2b": {
      "model_module": "@jupyter-widgets/controls",
      "model_module_version": "1.5.0",
      "model_name": "HTMLModel",
      "state": {
       "layout": "IPY_MODEL_d129a10295c54f91af578457bb4e1081",
       "style": "IPY_MODEL_5e132f08e50144fb9d7046ca464bc691",
       "value": " 1/1 [00:00&lt;00:00, 90.83it/s]"
      }
     },
     "9c57a25993494e21b942fc10ead2d85d": {
      "model_module": "@jupyter-widgets/controls",
      "model_module_version": "1.5.0",
      "model_name": "HBoxModel",
      "state": {
       "children": [
        "IPY_MODEL_07ad32b574c44de9ac08bfd5b64a5582",
        "IPY_MODEL_392338ac13fe4a618cb81a14bd704490",
        "IPY_MODEL_9efe086248034864b302c93514e4b7e1"
       ],
       "layout": "IPY_MODEL_f7b7a46456c54e529bbdf0864339e687"
      }
     },
     "9c68c8ba687845c0bea7386176bb431b": {
      "model_module": "@jupyter-widgets/controls",
      "model_module_version": "1.5.0",
      "model_name": "ProgressStyleModel",
      "state": {
       "description_width": ""
      }
     },
     "9c80a91fe05c46aa938785b085af7280": {
      "model_module": "@jupyter-widgets/controls",
      "model_module_version": "1.5.0",
      "model_name": "DescriptionStyleModel",
      "state": {
       "description_width": ""
      }
     },
     "9c86979e5b024b578ff590c7261e36cf": {
      "model_module": "@jupyter-widgets/controls",
      "model_module_version": "1.5.0",
      "model_name": "ProgressStyleModel",
      "state": {
       "description_width": ""
      }
     },
     "9c99d7ad4ce74514a7e4375196a78559": {
      "model_module": "@jupyter-widgets/controls",
      "model_module_version": "1.5.0",
      "model_name": "FloatProgressModel",
      "state": {
       "bar_style": "success",
       "layout": "IPY_MODEL_38bb7a59a9bb458a8272edb399fc64a1",
       "max": 1,
       "style": "IPY_MODEL_08651f8412d84f1a981236bf4d3949e7",
       "value": 1
      }
     },
     "9c9bee904b0548d2b2b4a09f78382b54": {
      "model_module": "@jupyter-widgets/controls",
      "model_module_version": "1.5.0",
      "model_name": "HTMLModel",
      "state": {
       "layout": "IPY_MODEL_fde4e868019d4dc0be85c2e1daf49dd1",
       "style": "IPY_MODEL_9305edac5784420fbf0905901f067371",
       "value": "100%"
      }
     },
     "9ca486969ab143d6890cec65c3bfb6ec": {
      "model_module": "@jupyter-widgets/base",
      "model_module_version": "1.2.0",
      "model_name": "LayoutModel",
      "state": {}
     },
     "9cb8d51c63d242f39130e91a6e9b0086": {
      "model_module": "@jupyter-widgets/controls",
      "model_module_version": "1.5.0",
      "model_name": "HTMLModel",
      "state": {
       "layout": "IPY_MODEL_30340b4e969b4ba59cf92134795fc081",
       "style": "IPY_MODEL_7e3876414de74a58ae0161e644a8d9b8",
       "value": "100%"
      }
     },
     "9ccb5f2595484a3d86f409e06094f3e2": {
      "model_module": "@jupyter-widgets/base",
      "model_module_version": "1.2.0",
      "model_name": "LayoutModel",
      "state": {}
     },
     "9cdca675b85e46579b0dff1a16efb3f1": {
      "model_module": "@jupyter-widgets/controls",
      "model_module_version": "1.5.0",
      "model_name": "HBoxModel",
      "state": {
       "children": [
        "IPY_MODEL_c21d685b0f67409b9e1580bdad9958b0",
        "IPY_MODEL_ad08f4c698694774b5caac7f3bff6b29",
        "IPY_MODEL_a0d910a428c5461da444f0d67f547616"
       ],
       "layout": "IPY_MODEL_1fbb3581ff14485db617f6c0b6bf4fe0"
      }
     },
     "9cfe9de714494257aaa49fa6f315e58e": {
      "model_module": "@jupyter-widgets/controls",
      "model_module_version": "1.5.0",
      "model_name": "DescriptionStyleModel",
      "state": {
       "description_width": ""
      }
     },
     "9d106bc892b84c0890feb83b15553d74": {
      "model_module": "@jupyter-widgets/controls",
      "model_module_version": "1.5.0",
      "model_name": "DescriptionStyleModel",
      "state": {
       "description_width": ""
      }
     },
     "9d2fff66fad7412cb49c8b87d6a2f227": {
      "model_module": "@jupyter-widgets/controls",
      "model_module_version": "1.5.0",
      "model_name": "HBoxModel",
      "state": {
       "children": [
        "IPY_MODEL_e55bd8987c5f4f838497c07ccbb13f27",
        "IPY_MODEL_71746b8255194558a7ff4cfb99e62d87",
        "IPY_MODEL_7c7bf678f9db49cf9dce4de40aca1f2c"
       ],
       "layout": "IPY_MODEL_50a747d39d6142fe84265c78c47f7ccd"
      }
     },
     "9d389035832f48de84bb53fa7795a4c8": {
      "model_module": "@jupyter-widgets/controls",
      "model_module_version": "1.5.0",
      "model_name": "FloatProgressModel",
      "state": {
       "bar_style": "success",
       "layout": "IPY_MODEL_2ab657881e5941c19e1e7708bf4cee82",
       "max": 1,
       "style": "IPY_MODEL_9c68c8ba687845c0bea7386176bb431b",
       "value": 1
      }
     },
     "9d4a39e8c1914fb1942e808ab22eaf71": {
      "model_module": "@jupyter-widgets/base",
      "model_module_version": "1.2.0",
      "model_name": "LayoutModel",
      "state": {}
     },
     "9d6f4d2016c34352b5fccf5f689a8e7a": {
      "model_module": "@jupyter-widgets/base",
      "model_module_version": "1.2.0",
      "model_name": "LayoutModel",
      "state": {}
     },
     "9d8f88d8bb9b488baffc6c2e9532cf05": {
      "model_module": "@jupyter-widgets/controls",
      "model_module_version": "1.5.0",
      "model_name": "DescriptionStyleModel",
      "state": {
       "description_width": ""
      }
     },
     "9dacb626697e42b6b0733aeca500e8b0": {
      "model_module": "@jupyter-widgets/controls",
      "model_module_version": "1.5.0",
      "model_name": "HTMLModel",
      "state": {
       "layout": "IPY_MODEL_2fe0bea34e094058ba7693253123f3d7",
       "style": "IPY_MODEL_d57a6328095b49569961f4476f6e0df9",
       "value": "100%"
      }
     },
     "9dd1a83ea63a46dfa4d4a1afc80feadf": {
      "model_module": "@jupyter-widgets/controls",
      "model_module_version": "1.5.0",
      "model_name": "DescriptionStyleModel",
      "state": {
       "description_width": ""
      }
     },
     "9df1121f9172448c88c08b7ffb72ab0b": {
      "model_module": "@jupyter-widgets/controls",
      "model_module_version": "1.5.0",
      "model_name": "HTMLModel",
      "state": {
       "layout": "IPY_MODEL_6e63f70ae2dd43db81a9e921ad26a05c",
       "style": "IPY_MODEL_4693272798514375bf0e093fc75312ae",
       "value": " 0/100 [00:01&lt;?, ?it/s]"
      }
     },
     "9e2d3536935f410c916112c0e4bda192": {
      "model_module": "@jupyter-widgets/controls",
      "model_module_version": "1.5.0",
      "model_name": "HBoxModel",
      "state": {
       "children": [
        "IPY_MODEL_212411ee639e4b88bceedf1a77940bcd",
        "IPY_MODEL_9d389035832f48de84bb53fa7795a4c8",
        "IPY_MODEL_1a56efdc57bc4c7293b3d15d44dcb448"
       ],
       "layout": "IPY_MODEL_258bdf19a41a4f1eb95f79a2c6430ad3"
      }
     },
     "9e37baac9ab8428bbddc309d3feb69a2": {
      "model_module": "@jupyter-widgets/base",
      "model_module_version": "1.2.0",
      "model_name": "LayoutModel",
      "state": {}
     },
     "9e7e08b99b4d4bf2b7235983d23d2924": {
      "model_module": "@jupyter-widgets/controls",
      "model_module_version": "1.5.0",
      "model_name": "HTMLModel",
      "state": {
       "layout": "IPY_MODEL_8f595d9bf8e54ac2a4b68fba881678dd",
       "style": "IPY_MODEL_e46ab16ede5646fe9907534f53fc4eed",
       "value": " 1/1 [00:00&lt;00:00, 83.26it/s]"
      }
     },
     "9e8227d394974df4a54584b5a232de6b": {
      "model_module": "@jupyter-widgets/controls",
      "model_module_version": "1.5.0",
      "model_name": "DescriptionStyleModel",
      "state": {
       "description_width": ""
      }
     },
     "9eacb03e2fb04788a41a6a674e46991a": {
      "model_module": "@jupyter-widgets/controls",
      "model_module_version": "1.5.0",
      "model_name": "ProgressStyleModel",
      "state": {
       "description_width": ""
      }
     },
     "9eb9ef19fd224654ba6ab90ce4147c70": {
      "model_module": "@jupyter-widgets/controls",
      "model_module_version": "1.5.0",
      "model_name": "DescriptionStyleModel",
      "state": {
       "description_width": ""
      }
     },
     "9edea13ec1bf4d919de276a41081ce6d": {
      "model_module": "@jupyter-widgets/base",
      "model_module_version": "1.2.0",
      "model_name": "LayoutModel",
      "state": {}
     },
     "9efe086248034864b302c93514e4b7e1": {
      "model_module": "@jupyter-widgets/controls",
      "model_module_version": "1.5.0",
      "model_name": "HTMLModel",
      "state": {
       "layout": "IPY_MODEL_207d83da0cc64d72aac737cbf75140af",
       "style": "IPY_MODEL_ac5a075ec7104fa6aff411fe560e17be",
       "value": " 100/100 [18:20&lt;00:00, 14.21s/it]"
      }
     },
     "9f39c48c482441d2af7f821d3b079314": {
      "model_module": "@jupyter-widgets/base",
      "model_module_version": "1.2.0",
      "model_name": "LayoutModel",
      "state": {}
     },
     "9f408957cbd74471a9523c0bb808c71b": {
      "model_module": "@jupyter-widgets/controls",
      "model_module_version": "1.5.0",
      "model_name": "DescriptionStyleModel",
      "state": {
       "description_width": ""
      }
     },
     "9f4299a4c5fc4f87bca542d8d835d6af": {
      "model_module": "@jupyter-widgets/controls",
      "model_module_version": "1.5.0",
      "model_name": "DescriptionStyleModel",
      "state": {
       "description_width": ""
      }
     },
     "9f435c227f004938a45ce12ce3b22162": {
      "model_module": "@jupyter-widgets/base",
      "model_module_version": "1.2.0",
      "model_name": "LayoutModel",
      "state": {}
     },
     "9f4e62714e8c4ef4b529569a1f03d135": {
      "model_module": "@jupyter-widgets/controls",
      "model_module_version": "1.5.0",
      "model_name": "HBoxModel",
      "state": {
       "children": [
        "IPY_MODEL_fbc8feb3d47247afa9bc73e1e2a49276",
        "IPY_MODEL_f9a5fb973602431cb9327f2a88ae1744",
        "IPY_MODEL_c9cf44ab45d649f29d7bad979546fef2"
       ],
       "layout": "IPY_MODEL_8e01ffcee4ea43cb95d772368725610f"
      }
     },
     "9f50cfdc1237416a83d5507a2db113f1": {
      "model_module": "@jupyter-widgets/base",
      "model_module_version": "1.2.0",
      "model_name": "LayoutModel",
      "state": {}
     },
     "9f510d7e50e544e7b4ea341ca34353ba": {
      "model_module": "@jupyter-widgets/base",
      "model_module_version": "1.2.0",
      "model_name": "LayoutModel",
      "state": {}
     },
     "9f510e118bdc4a10b58cb8ec5ea0640c": {
      "model_module": "@jupyter-widgets/controls",
      "model_module_version": "1.5.0",
      "model_name": "DescriptionStyleModel",
      "state": {
       "description_width": ""
      }
     },
     "9f788ecebf21489e98c3aca54c6b2a84": {
      "model_module": "@jupyter-widgets/base",
      "model_module_version": "1.2.0",
      "model_name": "LayoutModel",
      "state": {}
     },
     "9fcb4039e1da46acb943300d22de3744": {
      "model_module": "@jupyter-widgets/base",
      "model_module_version": "1.2.0",
      "model_name": "LayoutModel",
      "state": {}
     },
     "9fcdcc998cb1408d83621c561688b3fc": {
      "model_module": "@jupyter-widgets/controls",
      "model_module_version": "1.5.0",
      "model_name": "HTMLModel",
      "state": {
       "layout": "IPY_MODEL_50cd8b9b1f184b978ed8a890f0d96587",
       "style": "IPY_MODEL_d8c5f23b801d47e18bd222929628d180",
       "value": "100%"
      }
     },
     "9fd8b5535ed54f9980b49e7ca0523e58": {
      "model_module": "@jupyter-widgets/controls",
      "model_module_version": "1.5.0",
      "model_name": "HTMLModel",
      "state": {
       "layout": "IPY_MODEL_21f13603779e43ce986218a8e7006cfa",
       "style": "IPY_MODEL_8e1fd3438138445ba562216ecc5bb882",
       "value": " 100/100 [07:25&lt;00:00,  3.89s/it]"
      }
     },
     "a02b9b95633c4fe7ab19ce624ce6604f": {
      "model_module": "@jupyter-widgets/base",
      "model_module_version": "1.2.0",
      "model_name": "LayoutModel",
      "state": {}
     },
     "a0409cf76893456da57b2dd409021123": {
      "model_module": "@jupyter-widgets/base",
      "model_module_version": "1.2.0",
      "model_name": "LayoutModel",
      "state": {}
     },
     "a0498bf3dbb4427e82717cc864f196f0": {
      "model_module": "@jupyter-widgets/controls",
      "model_module_version": "1.5.0",
      "model_name": "FloatProgressModel",
      "state": {
       "bar_style": "success",
       "layout": "IPY_MODEL_cd9718f510ba411a8ba8cc73e854a223",
       "max": 1,
       "style": "IPY_MODEL_ae3f60c872f2475c96fce3138764e414",
       "value": 1
      }
     },
     "a07f20e0fc2746c3b4c4563cde37fbce": {
      "model_module": "@jupyter-widgets/base",
      "model_module_version": "1.2.0",
      "model_name": "LayoutModel",
      "state": {}
     },
     "a085a98a3f3e44088d9f5bfc12468aa0": {
      "model_module": "@jupyter-widgets/base",
      "model_module_version": "1.2.0",
      "model_name": "LayoutModel",
      "state": {}
     },
     "a09e2026b5f943b29a33c4f5623c69db": {
      "model_module": "@jupyter-widgets/base",
      "model_module_version": "1.2.0",
      "model_name": "LayoutModel",
      "state": {}
     },
     "a0ae5dadea524f0fbed75b2a0d0fb8ab": {
      "model_module": "@jupyter-widgets/controls",
      "model_module_version": "1.5.0",
      "model_name": "HBoxModel",
      "state": {
       "children": [
        "IPY_MODEL_67ceabd47b984a3faecb5583a300b856",
        "IPY_MODEL_5b320c1948b3409db3c3449d4e121bed",
        "IPY_MODEL_634b6c450fb948e2ba869ea94a80736e"
       ],
       "layout": "IPY_MODEL_c5908cfc89a2470a8f4f477c0c9afc02"
      }
     },
     "a0d1be1d7719416cbe4151151dfaab13": {
      "model_module": "@jupyter-widgets/base",
      "model_module_version": "1.2.0",
      "model_name": "LayoutModel",
      "state": {}
     },
     "a0d910a428c5461da444f0d67f547616": {
      "model_module": "@jupyter-widgets/controls",
      "model_module_version": "1.5.0",
      "model_name": "HTMLModel",
      "state": {
       "layout": "IPY_MODEL_6bfb3392bec44f9a936cfa4a32b0e762",
       "style": "IPY_MODEL_4ce8a6ca4ed4448ea73e824acd004b2f",
       "value": " 100/100 [18:15&lt;00:00, 10.26s/it]"
      }
     },
     "a0d9a59faf45418d8770e8dc4c612833": {
      "model_module": "@jupyter-widgets/base",
      "model_module_version": "1.2.0",
      "model_name": "LayoutModel",
      "state": {}
     },
     "a0e22e6849fc43ecb97e046d0ce631b3": {
      "model_module": "@jupyter-widgets/controls",
      "model_module_version": "1.5.0",
      "model_name": "HTMLModel",
      "state": {
       "layout": "IPY_MODEL_b65fb92c54714b67876300ec43c3083a",
       "style": "IPY_MODEL_9c80a91fe05c46aa938785b085af7280",
       "value": " 1/1 [00:00&lt;00:00, 99.91it/s]"
      }
     },
     "a0e840e432ff4159ab3b378b331c6eaa": {
      "model_module": "@jupyter-widgets/base",
      "model_module_version": "1.2.0",
      "model_name": "LayoutModel",
      "state": {}
     },
     "a1061536536f4f60b4187396b57c2c30": {
      "model_module": "@jupyter-widgets/controls",
      "model_module_version": "1.5.0",
      "model_name": "HTMLModel",
      "state": {
       "layout": "IPY_MODEL_d90e36d6fcf74a18807eef12b2640289",
       "style": "IPY_MODEL_1c3e8733516b4580a0161120bc93a849",
       "value": " 100/100 [24:04&lt;00:00, 13.10s/it]"
      }
     },
     "a10ff94b1f8d458bbfd55bf9efcae3f8": {
      "model_module": "@jupyter-widgets/controls",
      "model_module_version": "1.5.0",
      "model_name": "HTMLModel",
      "state": {
       "layout": "IPY_MODEL_d42ec1c6916f4561a20f86292e428632",
       "style": "IPY_MODEL_ec6d67bb561d40b7943e87c49b9cb6b4",
       "value": "100%"
      }
     },
     "a1285009386a4d73a3e272bfd580d283": {
      "model_module": "@jupyter-widgets/controls",
      "model_module_version": "1.5.0",
      "model_name": "ProgressStyleModel",
      "state": {
       "description_width": ""
      }
     },
     "a12ac67a9e69409bbc585dd84ec686a3": {
      "model_module": "@jupyter-widgets/controls",
      "model_module_version": "1.5.0",
      "model_name": "FloatProgressModel",
      "state": {
       "bar_style": "success",
       "layout": "IPY_MODEL_f7dd147a697c413c87adfea4bf14c7e6",
       "style": "IPY_MODEL_1e2850e78b184dbdadc16f4ec7ab24a4",
       "value": 100
      }
     },
     "a136cb60613844e489818564d89e2e2a": {
      "model_module": "@jupyter-widgets/controls",
      "model_module_version": "1.5.0",
      "model_name": "FloatProgressModel",
      "state": {
       "bar_style": "success",
       "layout": "IPY_MODEL_9278e393c56a4ac8b9310cb5c99ac1db",
       "max": 1323,
       "style": "IPY_MODEL_b1918b97095b4b70b76db959fd9783ef",
       "value": 1323
      }
     },
     "a140e3bc8230405cb8a7a4b5f9c2182e": {
      "model_module": "@jupyter-widgets/controls",
      "model_module_version": "1.5.0",
      "model_name": "DescriptionStyleModel",
      "state": {
       "description_width": ""
      }
     },
     "a14f8b1d8973440491f5b0187687b769": {
      "model_module": "@jupyter-widgets/controls",
      "model_module_version": "1.5.0",
      "model_name": "FloatProgressModel",
      "state": {
       "bar_style": "success",
       "layout": "IPY_MODEL_c597dcd42eb34c3984a37ddd3c249219",
       "style": "IPY_MODEL_03218b530096418e86627e70cb543b79",
       "value": 100
      }
     },
     "a15351908b9b40598d5413c177be4801": {
      "model_module": "@jupyter-widgets/controls",
      "model_module_version": "1.5.0",
      "model_name": "FloatProgressModel",
      "state": {
       "bar_style": "success",
       "layout": "IPY_MODEL_4569be520aae413aa4d0b9c3802e6aad",
       "style": "IPY_MODEL_e61375f715114b46b1a3107ba98b9ddc",
       "value": 100
      }
     },
     "a15889592be3436abb930f9f97a3eeb0": {
      "model_module": "@jupyter-widgets/controls",
      "model_module_version": "1.5.0",
      "model_name": "DescriptionStyleModel",
      "state": {
       "description_width": ""
      }
     },
     "a1772f268240494f9493be3791980d24": {
      "model_module": "@jupyter-widgets/controls",
      "model_module_version": "1.5.0",
      "model_name": "HTMLModel",
      "state": {
       "layout": "IPY_MODEL_113904edec814ff7a9585a349135648c",
       "style": "IPY_MODEL_ab1ed462330c43c797896aee3bf203aa",
       "value": "100%"
      }
     },
     "a188a7195fda4d4e97d81d3a1c9a7321": {
      "model_module": "@jupyter-widgets/base",
      "model_module_version": "1.2.0",
      "model_name": "LayoutModel",
      "state": {}
     },
     "a1bb069b9ff0426dbff1eb479f2889c6": {
      "model_module": "@jupyter-widgets/base",
      "model_module_version": "1.2.0",
      "model_name": "LayoutModel",
      "state": {}
     },
     "a1d045acd664406397e527a456155603": {
      "model_module": "@jupyter-widgets/controls",
      "model_module_version": "1.5.0",
      "model_name": "DescriptionStyleModel",
      "state": {
       "description_width": ""
      }
     },
     "a220097764654f04bd78a7d2366b17b4": {
      "model_module": "@jupyter-widgets/controls",
      "model_module_version": "1.5.0",
      "model_name": "DescriptionStyleModel",
      "state": {
       "description_width": ""
      }
     },
     "a228d1e17906425cbc4120d2d1730f2e": {
      "model_module": "@jupyter-widgets/controls",
      "model_module_version": "1.5.0",
      "model_name": "HTMLModel",
      "state": {
       "layout": "IPY_MODEL_5a201f409c684b37be9348f7a2e58aa7",
       "style": "IPY_MODEL_1ab5803c82e946b2b68ac7834c924d00",
       "value": " 100/100 [11:49&lt;00:00, 11.14s/it]"
      }
     },
     "a230205657e343419126addf64a70ff7": {
      "model_module": "@jupyter-widgets/controls",
      "model_module_version": "1.5.0",
      "model_name": "FloatProgressModel",
      "state": {
       "bar_style": "success",
       "layout": "IPY_MODEL_52bd0ea3d5a04d8b8f441531fa89be6d",
       "max": 1,
       "style": "IPY_MODEL_dd99fe71863a4c4a8f762c8ff79750f2",
       "value": 1
      }
     },
     "a2478e62a584495b9649eee40062df02": {
      "model_module": "@jupyter-widgets/base",
      "model_module_version": "1.2.0",
      "model_name": "LayoutModel",
      "state": {}
     },
     "a24d5dca866b4b78b8852b9931cbd9a2": {
      "model_module": "@jupyter-widgets/base",
      "model_module_version": "1.2.0",
      "model_name": "LayoutModel",
      "state": {}
     },
     "a24d9259fb494d7fa6e00fb7c0b10ec7": {
      "model_module": "@jupyter-widgets/controls",
      "model_module_version": "1.5.0",
      "model_name": "HBoxModel",
      "state": {
       "children": [
        "IPY_MODEL_f9d4f249b57f4a6aa51936d5846fbab5",
        "IPY_MODEL_54dcd520fe664bf7a44eaaf299ad7778",
        "IPY_MODEL_3d1bdfb5177348a1a4c7417d8b44cb11"
       ],
       "layout": "IPY_MODEL_fd325f4d52144b25b3cc7619301ba17e"
      }
     },
     "a2636dd32afb4fa683a711166978a06d": {
      "model_module": "@jupyter-widgets/base",
      "model_module_version": "1.2.0",
      "model_name": "LayoutModel",
      "state": {}
     },
     "a26e16ff1df446e98a293c26a90c3a01": {
      "model_module": "@jupyter-widgets/base",
      "model_module_version": "1.2.0",
      "model_name": "LayoutModel",
      "state": {}
     },
     "a27ebaef984947db997f3824dfb0e1b2": {
      "model_module": "@jupyter-widgets/base",
      "model_module_version": "1.2.0",
      "model_name": "LayoutModel",
      "state": {}
     },
     "a2a28c8448b3446180828b135627c034": {
      "model_module": "@jupyter-widgets/controls",
      "model_module_version": "1.5.0",
      "model_name": "DescriptionStyleModel",
      "state": {
       "description_width": ""
      }
     },
     "a2a58cb66c0649e391766442886c8079": {
      "model_module": "@jupyter-widgets/controls",
      "model_module_version": "1.5.0",
      "model_name": "ProgressStyleModel",
      "state": {
       "description_width": ""
      }
     },
     "a2ae95ac9a6049338d6db5a5783a0db6": {
      "model_module": "@jupyter-widgets/base",
      "model_module_version": "1.2.0",
      "model_name": "LayoutModel",
      "state": {}
     },
     "a2bd5bd64279425ea6c8ecdc2802fe85": {
      "model_module": "@jupyter-widgets/controls",
      "model_module_version": "1.5.0",
      "model_name": "DescriptionStyleModel",
      "state": {
       "description_width": ""
      }
     },
     "a2dc545968f24dac839c70b0a2e0944a": {
      "model_module": "@jupyter-widgets/controls",
      "model_module_version": "1.5.0",
      "model_name": "HBoxModel",
      "state": {
       "children": [
        "IPY_MODEL_6b61213d731e492b98810afa1f9ea142",
        "IPY_MODEL_6e322fdd4dc643888db868caebcb072f",
        "IPY_MODEL_5777a6a7dff241e18152c187f8f8414c"
       ],
       "layout": "IPY_MODEL_76856cd5ee3a4a5f8ce6b2e7176a8bac"
      }
     },
     "a2e9a3d0ec3145b98488e095608f337d": {
      "model_module": "@jupyter-widgets/controls",
      "model_module_version": "1.5.0",
      "model_name": "ProgressStyleModel",
      "state": {
       "description_width": ""
      }
     },
     "a2ed38e287584fc6b063e2335164d48c": {
      "model_module": "@jupyter-widgets/controls",
      "model_module_version": "1.5.0",
      "model_name": "DescriptionStyleModel",
      "state": {
       "description_width": ""
      }
     },
     "a2fc30cfd9e34471bf2f6ce3a1759d94": {
      "model_module": "@jupyter-widgets/controls",
      "model_module_version": "1.5.0",
      "model_name": "DescriptionStyleModel",
      "state": {
       "description_width": ""
      }
     },
     "a3318fe987dc4a0d84987a9f540e8806": {
      "model_module": "@jupyter-widgets/base",
      "model_module_version": "1.2.0",
      "model_name": "LayoutModel",
      "state": {}
     },
     "a344e698ac8b4d028d25165f1cb9a0f9": {
      "model_module": "@jupyter-widgets/controls",
      "model_module_version": "1.5.0",
      "model_name": "DescriptionStyleModel",
      "state": {
       "description_width": ""
      }
     },
     "a362e1727d8c44cc95499a9e0b27c1c7": {
      "model_module": "@jupyter-widgets/controls",
      "model_module_version": "1.5.0",
      "model_name": "DescriptionStyleModel",
      "state": {
       "description_width": ""
      }
     },
     "a37208c042f04fc781a5cddf3887c1a8": {
      "model_module": "@jupyter-widgets/base",
      "model_module_version": "1.2.0",
      "model_name": "LayoutModel",
      "state": {}
     },
     "a377c530178749ea8105600b7c96e532": {
      "model_module": "@jupyter-widgets/controls",
      "model_module_version": "1.5.0",
      "model_name": "DescriptionStyleModel",
      "state": {
       "description_width": ""
      }
     },
     "a37fd047450e48c3b5dc6dbcfc274c6d": {
      "model_module": "@jupyter-widgets/controls",
      "model_module_version": "1.5.0",
      "model_name": "DescriptionStyleModel",
      "state": {
       "description_width": ""
      }
     },
     "a3a37e5a6e7b4dee910ac3480ce9f3b7": {
      "model_module": "@jupyter-widgets/controls",
      "model_module_version": "1.5.0",
      "model_name": "HTMLModel",
      "state": {
       "layout": "IPY_MODEL_0a698828b31d4c09b01971aed12418e6",
       "style": "IPY_MODEL_faa7f575c1894c6b8492dab03cdea5b0",
       "value": " 1/1 [00:00&lt;00:00, 83.26it/s]"
      }
     },
     "a3a4dbf9c0dc4f0ba669ac353c820ed5": {
      "model_module": "@jupyter-widgets/controls",
      "model_module_version": "1.5.0",
      "model_name": "DescriptionStyleModel",
      "state": {
       "description_width": ""
      }
     },
     "a3c5a4dcfef7402f8021f46da5ef79c2": {
      "model_module": "@jupyter-widgets/base",
      "model_module_version": "1.2.0",
      "model_name": "LayoutModel",
      "state": {}
     },
     "a3cc3ca0d9944182a71274169f00388d": {
      "model_module": "@jupyter-widgets/controls",
      "model_module_version": "1.5.0",
      "model_name": "DescriptionStyleModel",
      "state": {
       "description_width": ""
      }
     },
     "a3db10406d634cf297353031f9f2bb8a": {
      "model_module": "@jupyter-widgets/controls",
      "model_module_version": "1.5.0",
      "model_name": "HTMLModel",
      "state": {
       "layout": "IPY_MODEL_7bcc194d50d642a9adf3d209f1c0376d",
       "style": "IPY_MODEL_96aa755c10844250b1c5aa9c3c9f4a72",
       "value": "100%"
      }
     },
     "a3df8ba8ab6d42098fd27656396811ee": {
      "model_module": "@jupyter-widgets/base",
      "model_module_version": "1.2.0",
      "model_name": "LayoutModel",
      "state": {}
     },
     "a3ec143b682a4a9c8fdb2f7458596e93": {
      "model_module": "@jupyter-widgets/base",
      "model_module_version": "1.2.0",
      "model_name": "LayoutModel",
      "state": {}
     },
     "a3f5583541494435bfcd8f0e74472a6f": {
      "model_module": "@jupyter-widgets/controls",
      "model_module_version": "1.5.0",
      "model_name": "DescriptionStyleModel",
      "state": {
       "description_width": ""
      }
     },
     "a408e573ee144b57b98a2ee9e9af7dea": {
      "model_module": "@jupyter-widgets/base",
      "model_module_version": "1.2.0",
      "model_name": "LayoutModel",
      "state": {}
     },
     "a431fbeaeff44838af489318c3f3ddb0": {
      "model_module": "@jupyter-widgets/controls",
      "model_module_version": "1.5.0",
      "model_name": "HTMLModel",
      "state": {
       "layout": "IPY_MODEL_7c859a12ef6b44bcbe108f7f66fccb1a",
       "style": "IPY_MODEL_b9bafc04a8934b36a51566688239b70a",
       "value": " 100/100 [10:14&lt;00:00,  4.41s/it]"
      }
     },
     "a4337c6ad486433787c4c7b39f868c2e": {
      "model_module": "@jupyter-widgets/controls",
      "model_module_version": "1.5.0",
      "model_name": "HTMLModel",
      "state": {
       "layout": "IPY_MODEL_f2d486b362654163975911d6bf5e5513",
       "style": "IPY_MODEL_ca1e1ceac0184e33b51777f383cba35c",
       "value": "100%"
      }
     },
     "a44ea59609c749cb97d6ddcb1000ddc6": {
      "model_module": "@jupyter-widgets/base",
      "model_module_version": "1.2.0",
      "model_name": "LayoutModel",
      "state": {}
     },
     "a44fd3c0a28c40ea93bdd6e473e01f1f": {
      "model_module": "@jupyter-widgets/controls",
      "model_module_version": "1.5.0",
      "model_name": "HTMLModel",
      "state": {
       "layout": "IPY_MODEL_7d824ae6ee4146ea96d0cdb390147098",
       "style": "IPY_MODEL_b14b490b42d7409e9034e50411df5d0f",
       "value": " 100/100 [19:02&lt;00:00, 11.32s/it]"
      }
     },
     "a47b80c2c08648f0a3e766b26edc3667": {
      "model_module": "@jupyter-widgets/controls",
      "model_module_version": "1.5.0",
      "model_name": "FloatProgressModel",
      "state": {
       "bar_style": "success",
       "layout": "IPY_MODEL_d06a9efdda67498a837bfef275f22615",
       "max": 13226,
       "style": "IPY_MODEL_5a70e23bf7a040909f0ca1f68adf7cc6",
       "value": 13226
      }
     },
     "a487c0b11a8e4341a973950d723af44f": {
      "model_module": "@jupyter-widgets/base",
      "model_module_version": "1.2.0",
      "model_name": "LayoutModel",
      "state": {}
     },
     "a490e318fdc6459db088ca4fada61a65": {
      "model_module": "@jupyter-widgets/base",
      "model_module_version": "1.2.0",
      "model_name": "LayoutModel",
      "state": {}
     },
     "a4bddcb5590e4d618bc15f74b2be17a5": {
      "model_module": "@jupyter-widgets/controls",
      "model_module_version": "1.5.0",
      "model_name": "HTMLModel",
      "state": {
       "layout": "IPY_MODEL_0b2136ff6e0040cc87653146367ade34",
       "style": "IPY_MODEL_757d38902e7a4a02b5521a62bd5cde73",
       "value": " 1/1 [00:00&lt;00:00, 90.83it/s]"
      }
     },
     "a4cc92d4cf3045808bc72005decc7956": {
      "model_module": "@jupyter-widgets/base",
      "model_module_version": "1.2.0",
      "model_name": "LayoutModel",
      "state": {}
     },
     "a4d31ba1768b4373a473f27cd7278702": {
      "model_module": "@jupyter-widgets/controls",
      "model_module_version": "1.5.0",
      "model_name": "HTMLModel",
      "state": {
       "layout": "IPY_MODEL_b84eb22462ef4118addf7f8b6bf9392d",
       "style": "IPY_MODEL_4ee6e8523ef74f19ad406f240ca39fa2",
       "value": "100%"
      }
     },
     "a4d51e7ae6c34f83acdea92c52e1c0fd": {
      "model_module": "@jupyter-widgets/base",
      "model_module_version": "1.2.0",
      "model_name": "LayoutModel",
      "state": {}
     },
     "a4f03728e97247989d901e303968e4b5": {
      "model_module": "@jupyter-widgets/base",
      "model_module_version": "1.2.0",
      "model_name": "LayoutModel",
      "state": {}
     },
     "a4fc04bd7c0943199319ce8705f54e85": {
      "model_module": "@jupyter-widgets/controls",
      "model_module_version": "1.5.0",
      "model_name": "DescriptionStyleModel",
      "state": {
       "description_width": ""
      }
     },
     "a52dd1df882c4edca6cc35a40b0b2c7c": {
      "model_module": "@jupyter-widgets/controls",
      "model_module_version": "1.5.0",
      "model_name": "HTMLModel",
      "state": {
       "layout": "IPY_MODEL_8e372306b66a47f1915357787539895f",
       "style": "IPY_MODEL_1061a17227c44596be8f17b6a2177e60",
       "value": "100%"
      }
     },
     "a53770248cbc4cb3803e7eff1487c8d7": {
      "model_module": "@jupyter-widgets/controls",
      "model_module_version": "1.5.0",
      "model_name": "ProgressStyleModel",
      "state": {
       "description_width": ""
      }
     },
     "a574776c5645469daff58eeb0790eab8": {
      "model_module": "@jupyter-widgets/controls",
      "model_module_version": "1.5.0",
      "model_name": "ProgressStyleModel",
      "state": {
       "description_width": ""
      }
     },
     "a585ca1d188348d09ec4392cc4a6aeb8": {
      "model_module": "@jupyter-widgets/base",
      "model_module_version": "1.2.0",
      "model_name": "LayoutModel",
      "state": {}
     },
     "a58b5e49c89248eeace68df4439b5700": {
      "model_module": "@jupyter-widgets/base",
      "model_module_version": "1.2.0",
      "model_name": "LayoutModel",
      "state": {}
     },
     "a591a3aa1d2d4c8c9157b968478d2355": {
      "model_module": "@jupyter-widgets/base",
      "model_module_version": "1.2.0",
      "model_name": "LayoutModel",
      "state": {}
     },
     "a5a1a83ad9ca4e5eb434d3644f0b2358": {
      "model_module": "@jupyter-widgets/base",
      "model_module_version": "1.2.0",
      "model_name": "LayoutModel",
      "state": {}
     },
     "a5aea3bff4624ae5ab2be0557e58be1b": {
      "model_module": "@jupyter-widgets/base",
      "model_module_version": "1.2.0",
      "model_name": "LayoutModel",
      "state": {}
     },
     "a5c377f4ecb548c0bd28e17feb0f3bd5": {
      "model_module": "@jupyter-widgets/base",
      "model_module_version": "1.2.0",
      "model_name": "LayoutModel",
      "state": {}
     },
     "a5e4dba2b8fd433981dc329bf99511d4": {
      "model_module": "@jupyter-widgets/controls",
      "model_module_version": "1.5.0",
      "model_name": "ProgressStyleModel",
      "state": {
       "description_width": ""
      }
     },
     "a61cfcd1c4894533ab563d2bd2b2c9c8": {
      "model_module": "@jupyter-widgets/controls",
      "model_module_version": "1.5.0",
      "model_name": "FloatProgressModel",
      "state": {
       "bar_style": "danger",
       "layout": "IPY_MODEL_7e67c49db1ab44089b8cf600cc1e85af",
       "style": "IPY_MODEL_19f160158d934ea9a8e2b684a303d13e"
      }
     },
     "a62c9c6703d540c69721a8303e5480cb": {
      "model_module": "@jupyter-widgets/controls",
      "model_module_version": "1.5.0",
      "model_name": "HBoxModel",
      "state": {
       "children": [
        "IPY_MODEL_5bb9074353bc4bacac449e68a7a0f0a2",
        "IPY_MODEL_ab12b22167bb4412ae200d6136d7af8d",
        "IPY_MODEL_1f4b8e42df4043aca7eb5a6293d71d93"
       ],
       "layout": "IPY_MODEL_e27a45b5e2e5429e9ef52d9ade26f012"
      }
     },
     "a635485883fc44d186532bc818cc4d59": {
      "model_module": "@jupyter-widgets/controls",
      "model_module_version": "1.5.0",
      "model_name": "FloatProgressModel",
      "state": {
       "bar_style": "success",
       "layout": "IPY_MODEL_0a6ff00061cb4b7c800b21a634330c5e",
       "style": "IPY_MODEL_e2fb6082680a4ebd83f9ee997acb5f3f",
       "value": 100
      }
     },
     "a639beb961464bfc90e4ee06e148f08d": {
      "model_module": "@jupyter-widgets/controls",
      "model_module_version": "1.5.0",
      "model_name": "HTMLModel",
      "state": {
       "layout": "IPY_MODEL_8259f58f63c6491e8cd101a956f49899",
       "style": "IPY_MODEL_957b1d51d1144fb79a0aa88b816cf6fd",
       "value": " 100/100 [19:16&lt;00:00, 10.15s/it]"
      }
     },
     "a643e49f355f4d2bb172fc93215ce956": {
      "model_module": "@jupyter-widgets/controls",
      "model_module_version": "1.5.0",
      "model_name": "HTMLModel",
      "state": {
       "layout": "IPY_MODEL_7944962827a541479f97d394a201802d",
       "style": "IPY_MODEL_622ecf21652c4579bbb1b2080483ea32",
       "value": "100%"
      }
     },
     "a676e7c0bcb84534b9aeb41541365806": {
      "model_module": "@jupyter-widgets/base",
      "model_module_version": "1.2.0",
      "model_name": "LayoutModel",
      "state": {}
     },
     "a693d1ff1709452b8670108f49428f2e": {
      "model_module": "@jupyter-widgets/base",
      "model_module_version": "1.2.0",
      "model_name": "LayoutModel",
      "state": {}
     },
     "a6cd429a0ae245ad96cc4aa9804bfb25": {
      "model_module": "@jupyter-widgets/base",
      "model_module_version": "1.2.0",
      "model_name": "LayoutModel",
      "state": {}
     },
     "a6e3f8f9c1994c21acc548d35c1f28b9": {
      "model_module": "@jupyter-widgets/base",
      "model_module_version": "1.2.0",
      "model_name": "LayoutModel",
      "state": {}
     },
     "a6e999bb8ff74462ae69b2b3df469132": {
      "model_module": "@jupyter-widgets/controls",
      "model_module_version": "1.5.0",
      "model_name": "ProgressStyleModel",
      "state": {
       "description_width": ""
      }
     },
     "a703f641e4e7494eb0dff7b7e9ba4b9a": {
      "model_module": "@jupyter-widgets/controls",
      "model_module_version": "1.5.0",
      "model_name": "FloatProgressModel",
      "state": {
       "bar_style": "success",
       "layout": "IPY_MODEL_5b96802d6f244ee8a8954eb8dd6cdc4a",
       "style": "IPY_MODEL_167b282446414da9a15ae206025fc8e4",
       "value": 100
      }
     },
     "a7261a8905cc420399eadc7b3828950a": {
      "model_module": "@jupyter-widgets/base",
      "model_module_version": "1.2.0",
      "model_name": "LayoutModel",
      "state": {}
     },
     "a730e32c033c4bac80448a9e6cd7f2fe": {
      "model_module": "@jupyter-widgets/base",
      "model_module_version": "1.2.0",
      "model_name": "LayoutModel",
      "state": {}
     },
     "a740f7a2e454422b8d6dfe08743cbb6d": {
      "model_module": "@jupyter-widgets/controls",
      "model_module_version": "1.5.0",
      "model_name": "HBoxModel",
      "state": {
       "children": [
        "IPY_MODEL_e7feeaa30d6c47eea8716aea430eecc7",
        "IPY_MODEL_a61cfcd1c4894533ab563d2bd2b2c9c8",
        "IPY_MODEL_69b932bce5944f5fbee9359c6554154a"
       ],
       "layout": "IPY_MODEL_df0923a3548e47178ba95617574a0fc6"
      }
     },
     "a7513270083a46eea706ec85c9922d1b": {
      "model_module": "@jupyter-widgets/base",
      "model_module_version": "1.2.0",
      "model_name": "LayoutModel",
      "state": {}
     },
     "a75af6d7958b4aa08e4a8b0ee0acd1e9": {
      "model_module": "@jupyter-widgets/base",
      "model_module_version": "1.2.0",
      "model_name": "LayoutModel",
      "state": {}
     },
     "a77c6293a6d04f9e93a2f5ff2f400edd": {
      "model_module": "@jupyter-widgets/base",
      "model_module_version": "1.2.0",
      "model_name": "LayoutModel",
      "state": {}
     },
     "a784c8ae7d5e4712b4d68949c76abd95": {
      "model_module": "@jupyter-widgets/controls",
      "model_module_version": "1.5.0",
      "model_name": "HBoxModel",
      "state": {
       "children": [
        "IPY_MODEL_98f6191cdac348f0839e9e612ebf9056",
        "IPY_MODEL_c572fc8104234e5cb4469f99da0ad851",
        "IPY_MODEL_1e9ff27a49f948348ec48e422a87a628"
       ],
       "layout": "IPY_MODEL_048d751bd5c045f8b981896c66256d16"
      }
     },
     "a78f64d8c1cb40d188fecbc4fa88bdfe": {
      "model_module": "@jupyter-widgets/base",
      "model_module_version": "1.2.0",
      "model_name": "LayoutModel",
      "state": {}
     },
     "a7d1f33e01c8472188618f28454e8f6d": {
      "model_module": "@jupyter-widgets/controls",
      "model_module_version": "1.5.0",
      "model_name": "FloatProgressModel",
      "state": {
       "bar_style": "danger",
       "layout": "IPY_MODEL_4b3ccdba70134deb91b3ae6f3dd6dc08",
       "style": "IPY_MODEL_3e846b5740a04f3b9d9d0be128c086bb"
      }
     },
     "a80d99fa5cdb44858b53c5514b31074e": {
      "model_module": "@jupyter-widgets/base",
      "model_module_version": "1.2.0",
      "model_name": "LayoutModel",
      "state": {}
     },
     "a83b86010c5b47ac8029778ae98da313": {
      "model_module": "@jupyter-widgets/controls",
      "model_module_version": "1.5.0",
      "model_name": "DescriptionStyleModel",
      "state": {
       "description_width": ""
      }
     },
     "a83ca3b748b0498490650f4379175214": {
      "model_module": "@jupyter-widgets/controls",
      "model_module_version": "1.5.0",
      "model_name": "DescriptionStyleModel",
      "state": {
       "description_width": ""
      }
     },
     "a84148055a9c423eadb3bf3713e77077": {
      "model_module": "@jupyter-widgets/base",
      "model_module_version": "1.2.0",
      "model_name": "LayoutModel",
      "state": {}
     },
     "a8692669c7b4424b81fd9e78fb53ad61": {
      "model_module": "@jupyter-widgets/base",
      "model_module_version": "1.2.0",
      "model_name": "LayoutModel",
      "state": {}
     },
     "a899d0b572ff424cb69d3ccc00bd6d42": {
      "model_module": "@jupyter-widgets/controls",
      "model_module_version": "1.5.0",
      "model_name": "ProgressStyleModel",
      "state": {
       "description_width": ""
      }
     },
     "a8d2473bd0614b81bc33f30ae8c5fd26": {
      "model_module": "@jupyter-widgets/controls",
      "model_module_version": "1.5.0",
      "model_name": "HBoxModel",
      "state": {
       "children": [
        "IPY_MODEL_75632185230e491ab0e66c36c12c9b3c",
        "IPY_MODEL_3ef88b4703ba485d8785ec0ead08baab",
        "IPY_MODEL_759724d0f23944e58a71c48adb77956d"
       ],
       "layout": "IPY_MODEL_eb68b43133ec42fc86e896084f8dfc29"
      }
     },
     "a8ecbb86b34949fab8617586e250650f": {
      "model_module": "@jupyter-widgets/controls",
      "model_module_version": "1.5.0",
      "model_name": "HTMLModel",
      "state": {
       "layout": "IPY_MODEL_cb091c5224894e969564c7bcb29866c6",
       "style": "IPY_MODEL_10a228f582d942ce9de1a2228472cbcf",
       "value": " 1/1 [00:02&lt;00:00,  2.09s/ba]"
      }
     },
     "a8f6c3dedc2b4c71b00091078a9ce663": {
      "model_module": "@jupyter-widgets/base",
      "model_module_version": "1.2.0",
      "model_name": "LayoutModel",
      "state": {}
     },
     "a91525ce54c94ff19349777681a06f7f": {
      "model_module": "@jupyter-widgets/controls",
      "model_module_version": "1.5.0",
      "model_name": "HTMLModel",
      "state": {
       "layout": "IPY_MODEL_1905cecd8eca4a2dae5529f2ba699b0e",
       "style": "IPY_MODEL_edd51f35612a421389d16d1195817f9a",
       "value": " 1/1 [00:00&lt;00:00, 90.83it/s]"
      }
     },
     "a91fc313c0ef4486a7f961d567c84bff": {
      "model_module": "@jupyter-widgets/base",
      "model_module_version": "1.2.0",
      "model_name": "LayoutModel",
      "state": {}
     },
     "a941b849375243c8bd06caee3f730cf4": {
      "model_module": "@jupyter-widgets/controls",
      "model_module_version": "1.5.0",
      "model_name": "DescriptionStyleModel",
      "state": {
       "description_width": ""
      }
     },
     "a97f0fa64d7542c98add002a13014edd": {
      "model_module": "@jupyter-widgets/controls",
      "model_module_version": "1.5.0",
      "model_name": "FloatProgressModel",
      "state": {
       "bar_style": "success",
       "layout": "IPY_MODEL_233be7d52dde407aa806cb2e6ae3664e",
       "max": 1,
       "style": "IPY_MODEL_7de72f5b66034832a84a6afee99b0ff5",
       "value": 1
      }
     },
     "a99131df95324cc4b00ee77b9eb35773": {
      "model_module": "@jupyter-widgets/controls",
      "model_module_version": "1.5.0",
      "model_name": "ProgressStyleModel",
      "state": {
       "description_width": ""
      }
     },
     "a9922b497b7141ef99497786e3663bc0": {
      "model_module": "@jupyter-widgets/controls",
      "model_module_version": "1.5.0",
      "model_name": "HTMLModel",
      "state": {
       "layout": "IPY_MODEL_cee40115444f4d52a638bc419c8cf2ad",
       "style": "IPY_MODEL_9dd1a83ea63a46dfa4d4a1afc80feadf",
       "value": " 1/1 [00:00&lt;00:00, 90.82it/s]"
      }
     },
     "a9d49b7c86514f34acaf99c168a315dc": {
      "model_module": "@jupyter-widgets/controls",
      "model_module_version": "1.5.0",
      "model_name": "ProgressStyleModel",
      "state": {
       "description_width": ""
      }
     },
     "a9e2d60ab1fd4356bbfb703299257ae6": {
      "model_module": "@jupyter-widgets/base",
      "model_module_version": "1.2.0",
      "model_name": "LayoutModel",
      "state": {}
     },
     "a9f40d39ab7943338eaf05dab86471d4": {
      "model_module": "@jupyter-widgets/controls",
      "model_module_version": "1.5.0",
      "model_name": "DescriptionStyleModel",
      "state": {
       "description_width": ""
      }
     },
     "aa2e4d83f2b740bbad40605b7b9cf31b": {
      "model_module": "@jupyter-widgets/base",
      "model_module_version": "1.2.0",
      "model_name": "LayoutModel",
      "state": {}
     },
     "aa67810ad18b439b8803dbd50fac809d": {
      "model_module": "@jupyter-widgets/controls",
      "model_module_version": "1.5.0",
      "model_name": "HTMLModel",
      "state": {
       "layout": "IPY_MODEL_1837339b3d704302ae1e3b951ea9b94f",
       "style": "IPY_MODEL_b803d96dc55548cb8fcf5d654691eddb",
       "value": " 1/1 [00:00&lt;00:00, 99.91it/s]"
      }
     },
     "aa6df95632fb49fca4a63769ad3e9453": {
      "model_module": "@jupyter-widgets/controls",
      "model_module_version": "1.5.0",
      "model_name": "FloatProgressModel",
      "state": {
       "bar_style": "success",
       "layout": "IPY_MODEL_abc14467eebb49ca930e6d652dbff4c0",
       "style": "IPY_MODEL_0533bbdebc5e4bf0b351e931a3fc09d4",
       "value": 100
      }
     },
     "aa6eeda92778422ab8d1b585e8d4c674": {
      "model_module": "@jupyter-widgets/controls",
      "model_module_version": "1.5.0",
      "model_name": "FloatProgressModel",
      "state": {
       "bar_style": "success",
       "layout": "IPY_MODEL_139378d9c20c410d9d1971b8b37f4879",
       "max": 1,
       "style": "IPY_MODEL_6218ee3b911247d1bb640be75a099691",
       "value": 1
      }
     },
     "aa6f67fa0755437998e3a69ec6299fa5": {
      "model_module": "@jupyter-widgets/base",
      "model_module_version": "1.2.0",
      "model_name": "LayoutModel",
      "state": {}
     },
     "aaabf6a59cd34dd985374d8cf4f106ed": {
      "model_module": "@jupyter-widgets/base",
      "model_module_version": "1.2.0",
      "model_name": "LayoutModel",
      "state": {}
     },
     "aaacebcdace141be8fe8405c11d20d34": {
      "model_module": "@jupyter-widgets/controls",
      "model_module_version": "1.5.0",
      "model_name": "ProgressStyleModel",
      "state": {
       "description_width": ""
      }
     },
     "aab6184fc357452fb47a433f18deb886": {
      "model_module": "@jupyter-widgets/controls",
      "model_module_version": "1.5.0",
      "model_name": "HTMLModel",
      "state": {
       "layout": "IPY_MODEL_7fee94ceb41e40cc91a856c50f282c0e",
       "style": "IPY_MODEL_85c7b3e9df1845479b76e7eda4f65478",
       "value": "100%"
      }
     },
     "aace1d7ee2484df69b3f224669934c33": {
      "model_module": "@jupyter-widgets/controls",
      "model_module_version": "1.5.0",
      "model_name": "DescriptionStyleModel",
      "state": {
       "description_width": ""
      }
     },
     "aae7e3e054bf420aacaaf9069743f303": {
      "model_module": "@jupyter-widgets/controls",
      "model_module_version": "1.5.0",
      "model_name": "HTMLModel",
      "state": {
       "layout": "IPY_MODEL_3f61337e2490437da8644b963ab73808",
       "style": "IPY_MODEL_5ef5782777eb4c91bfd3c975f9a093df",
       "value": " 1/1 [00:00&lt;00:00, 66.61it/s]"
      }
     },
     "aafbc382fbd94705936e80265d454715": {
      "model_module": "@jupyter-widgets/base",
      "model_module_version": "1.2.0",
      "model_name": "LayoutModel",
      "state": {}
     },
     "aafcab0bf051483a80123f17fc352eba": {
      "model_module": "@jupyter-widgets/controls",
      "model_module_version": "1.5.0",
      "model_name": "HBoxModel",
      "state": {
       "children": [
        "IPY_MODEL_f31050e42f0c4e3598507b398f87e8ee",
        "IPY_MODEL_2afa7efd8bc64ac7bcef191ac8255970",
        "IPY_MODEL_9df1121f9172448c88c08b7ffb72ab0b"
       ],
       "layout": "IPY_MODEL_84a7c286885d4df7a0688aa4641c5bc4"
      }
     },
     "aafcdda402a74f38a65d88a5cb3a24be": {
      "model_module": "@jupyter-widgets/base",
      "model_module_version": "1.2.0",
      "model_name": "LayoutModel",
      "state": {}
     },
     "ab12b22167bb4412ae200d6136d7af8d": {
      "model_module": "@jupyter-widgets/controls",
      "model_module_version": "1.5.0",
      "model_name": "FloatProgressModel",
      "state": {
       "bar_style": "success",
       "layout": "IPY_MODEL_3da56fb517924a55aff23c64c4aec3be",
       "max": 1,
       "style": "IPY_MODEL_34d30b98d3b84ab2b7350b6b76295407",
       "value": 1
      }
     },
     "ab1cfaabbf6047b0b977d2d0ad7f1ad4": {
      "model_module": "@jupyter-widgets/controls",
      "model_module_version": "1.5.0",
      "model_name": "DescriptionStyleModel",
      "state": {
       "description_width": ""
      }
     },
     "ab1ed462330c43c797896aee3bf203aa": {
      "model_module": "@jupyter-widgets/controls",
      "model_module_version": "1.5.0",
      "model_name": "DescriptionStyleModel",
      "state": {
       "description_width": ""
      }
     },
     "ab33a87d9c93416d9c345da246f2f0c6": {
      "model_module": "@jupyter-widgets/base",
      "model_module_version": "1.2.0",
      "model_name": "LayoutModel",
      "state": {}
     },
     "ab3f4398c83a4924b5633c0f9512dcbf": {
      "model_module": "@jupyter-widgets/base",
      "model_module_version": "1.2.0",
      "model_name": "LayoutModel",
      "state": {}
     },
     "ab5cd08cf2ac467396904a2aa1f61d94": {
      "model_module": "@jupyter-widgets/base",
      "model_module_version": "1.2.0",
      "model_name": "LayoutModel",
      "state": {}
     },
     "ab5f41b30fad4059b4b7eb9c6ebc6f2d": {
      "model_module": "@jupyter-widgets/base",
      "model_module_version": "1.2.0",
      "model_name": "LayoutModel",
      "state": {}
     },
     "ab64e0e21c1e4df289e8fccd4067751c": {
      "model_module": "@jupyter-widgets/controls",
      "model_module_version": "1.5.0",
      "model_name": "HTMLModel",
      "state": {
       "layout": "IPY_MODEL_721f27caced2418fb74888126845e863",
       "style": "IPY_MODEL_6ea00318f30048d5a3d24b09134f0a59",
       "value": " 1/1 [00:00&lt;00:00, 58.77it/s]"
      }
     },
     "ab654840cb2d43408daf2258cccd7159": {
      "model_module": "@jupyter-widgets/controls",
      "model_module_version": "1.5.0",
      "model_name": "HTMLModel",
      "state": {
       "layout": "IPY_MODEL_b8100500343544eeb9e12da00550c2b7",
       "style": "IPY_MODEL_5a2ff924f24d4f08bed344f00f6b9587",
       "value": " 32%"
      }
     },
     "ab6901b3fce14e0daa67084ee82c1cb0": {
      "model_module": "@jupyter-widgets/controls",
      "model_module_version": "1.5.0",
      "model_name": "HTMLModel",
      "state": {
       "layout": "IPY_MODEL_b2420d946f234445a48ed27c055074f7",
       "style": "IPY_MODEL_d74b3f38ceda4be7b9532dba15fa6ed8",
       "value": "100%"
      }
     },
     "ab7d227940e243fe8f3a43d81c5cd00c": {
      "model_module": "@jupyter-widgets/controls",
      "model_module_version": "1.5.0",
      "model_name": "HBoxModel",
      "state": {
       "children": [
        "IPY_MODEL_756ce69e6405404394528f8109e2e024",
        "IPY_MODEL_21b0142e3125465b9f4c65e5bdbec201",
        "IPY_MODEL_ab64e0e21c1e4df289e8fccd4067751c"
       ],
       "layout": "IPY_MODEL_0249548f70b143d5a06b332affe2a6af"
      }
     },
     "ab8f0e007f0e4f5499c99fa2ad8c3854": {
      "model_module": "@jupyter-widgets/base",
      "model_module_version": "1.2.0",
      "model_name": "LayoutModel",
      "state": {}
     },
     "abbac4ade6fa424d995e1e353fc09bc1": {
      "model_module": "@jupyter-widgets/controls",
      "model_module_version": "1.5.0",
      "model_name": "HTMLModel",
      "state": {
       "layout": "IPY_MODEL_30e46013daab40de849952970afa2fde",
       "style": "IPY_MODEL_926b26938c45479fa57c4a633483999e",
       "value": " 100/100 [21:12:41&lt;00:00, 763.61s/it]"
      }
     },
     "abc14467eebb49ca930e6d652dbff4c0": {
      "model_module": "@jupyter-widgets/base",
      "model_module_version": "1.2.0",
      "model_name": "LayoutModel",
      "state": {}
     },
     "ac03b8ed72b14eb480c0d22e7c1ee095": {
      "model_module": "@jupyter-widgets/controls",
      "model_module_version": "1.5.0",
      "model_name": "HTMLModel",
      "state": {
       "layout": "IPY_MODEL_735471b71d3d42cf8cf3e102c06be662",
       "style": "IPY_MODEL_3d89199fdc8f47bcb005709dc4ecbafd",
       "value": "100%"
      }
     },
     "ac12269eac514f28b9848efffd27ed2e": {
      "model_module": "@jupyter-widgets/controls",
      "model_module_version": "1.5.0",
      "model_name": "DescriptionStyleModel",
      "state": {
       "description_width": ""
      }
     },
     "ac1742a839924bd39d1b534454f75116": {
      "model_module": "@jupyter-widgets/base",
      "model_module_version": "1.2.0",
      "model_name": "LayoutModel",
      "state": {}
     },
     "ac2a4328a1314f47aa29118822c1b10e": {
      "model_module": "@jupyter-widgets/base",
      "model_module_version": "1.2.0",
      "model_name": "LayoutModel",
      "state": {}
     },
     "ac365088ca8148b898ba3d944671d2f8": {
      "model_module": "@jupyter-widgets/controls",
      "model_module_version": "1.5.0",
      "model_name": "DescriptionStyleModel",
      "state": {
       "description_width": ""
      }
     },
     "ac39de213808420eae2685f62915f7eb": {
      "model_module": "@jupyter-widgets/controls",
      "model_module_version": "1.5.0",
      "model_name": "HTMLModel",
      "state": {
       "layout": "IPY_MODEL_614bbda104954ebfa92d2c38ce26a454",
       "style": "IPY_MODEL_dbbee555aefd45fe942ab684ae6f6bd4",
       "value": " 100/100 [06:20&lt;00:00,  2.78s/it]"
      }
     },
     "ac51653a5c09441bb771bb9e96e3bb21": {
      "model_module": "@jupyter-widgets/controls",
      "model_module_version": "1.5.0",
      "model_name": "FloatProgressModel",
      "state": {
       "bar_style": "success",
       "layout": "IPY_MODEL_3e63076b861c4193a25cd81dd7d5ac0f",
       "style": "IPY_MODEL_d0e977601c7b4a3aaadc81221ea1850c",
       "value": 100
      }
     },
     "ac5a075ec7104fa6aff411fe560e17be": {
      "model_module": "@jupyter-widgets/controls",
      "model_module_version": "1.5.0",
      "model_name": "DescriptionStyleModel",
      "state": {
       "description_width": ""
      }
     },
     "acae1b09053a4cb3ac7ed34af1774b65": {
      "model_module": "@jupyter-widgets/base",
      "model_module_version": "1.2.0",
      "model_name": "LayoutModel",
      "state": {}
     },
     "acbebb87b13d4b55ae87bd2032387347": {
      "model_module": "@jupyter-widgets/base",
      "model_module_version": "1.2.0",
      "model_name": "LayoutModel",
      "state": {}
     },
     "acd7eb03e1b5475b8c1508a044913517": {
      "model_module": "@jupyter-widgets/controls",
      "model_module_version": "1.5.0",
      "model_name": "DescriptionStyleModel",
      "state": {
       "description_width": ""
      }
     },
     "acde971ccf2a48ddb1de949ee98a1484": {
      "model_module": "@jupyter-widgets/controls",
      "model_module_version": "1.5.0",
      "model_name": "HTMLModel",
      "state": {
       "layout": "IPY_MODEL_a91fc313c0ef4486a7f961d567c84bff",
       "style": "IPY_MODEL_a377c530178749ea8105600b7c96e532",
       "value": "100%"
      }
     },
     "acf6e927d4244f51aaa8d7537971b44a": {
      "model_module": "@jupyter-widgets/base",
      "model_module_version": "1.2.0",
      "model_name": "LayoutModel",
      "state": {}
     },
     "ad08f4c698694774b5caac7f3bff6b29": {
      "model_module": "@jupyter-widgets/controls",
      "model_module_version": "1.5.0",
      "model_name": "FloatProgressModel",
      "state": {
       "bar_style": "success",
       "layout": "IPY_MODEL_41df77a354b44a9995f9c821a95c7d8d",
       "style": "IPY_MODEL_6157385774c144b59c179610e9cb692f",
       "value": 100
      }
     },
     "ad3503b0e1664c02967212c4140fc713": {
      "model_module": "@jupyter-widgets/controls",
      "model_module_version": "1.5.0",
      "model_name": "FloatProgressModel",
      "state": {
       "bar_style": "success",
       "layout": "IPY_MODEL_85fd7977255d4235a312ad6904808d6f",
       "max": 1,
       "style": "IPY_MODEL_c9f1bda7f5aa4385bf4afe7fbeffc53f",
       "value": 1
      }
     },
     "ad6a0fcefc244587ad96d64b8f587c5f": {
      "model_module": "@jupyter-widgets/controls",
      "model_module_version": "1.5.0",
      "model_name": "HTMLModel",
      "state": {
       "layout": "IPY_MODEL_85a6826e58774202a77288668134b01b",
       "style": "IPY_MODEL_898694ff9683453887aa288595b1047c",
       "value": " 1/1 [00:00&lt;00:00, 90.82it/s]"
      }
     },
     "ad9701c4aef74980b7acff7de0f5c790": {
      "model_module": "@jupyter-widgets/base",
      "model_module_version": "1.2.0",
      "model_name": "LayoutModel",
      "state": {}
     },
     "ad9a6f0cd4ec43f4bddead3028fc0232": {
      "model_module": "@jupyter-widgets/controls",
      "model_module_version": "1.5.0",
      "model_name": "DescriptionStyleModel",
      "state": {
       "description_width": ""
      }
     },
     "ad9f6b96641b4f10932a85bcf21500bc": {
      "model_module": "@jupyter-widgets/controls",
      "model_module_version": "1.5.0",
      "model_name": "DescriptionStyleModel",
      "state": {
       "description_width": ""
      }
     },
     "adb1f3f0342f43e69816568e332eb2b0": {
      "model_module": "@jupyter-widgets/base",
      "model_module_version": "1.2.0",
      "model_name": "LayoutModel",
      "state": {}
     },
     "adb8ccb56ceb4d2f8b7400e203643bc3": {
      "model_module": "@jupyter-widgets/controls",
      "model_module_version": "1.5.0",
      "model_name": "HTMLModel",
      "state": {
       "layout": "IPY_MODEL_cec87f7a88eb4843a3c21a653d86efa9",
       "style": "IPY_MODEL_4c2a1009e7c84b0fab8262f2fea936c8",
       "value": " 100/100 [06:20&lt;00:00,  3.65s/it]"
      }
     },
     "adc3a5d99a9146ec9446e499a80e55ff": {
      "model_module": "@jupyter-widgets/base",
      "model_module_version": "1.2.0",
      "model_name": "LayoutModel",
      "state": {}
     },
     "adc4ae73fffd4622a6807aabad62653a": {
      "model_module": "@jupyter-widgets/controls",
      "model_module_version": "1.5.0",
      "model_name": "DescriptionStyleModel",
      "state": {
       "description_width": ""
      }
     },
     "ade12d2d91c24417a522850a4ad65359": {
      "model_module": "@jupyter-widgets/controls",
      "model_module_version": "1.5.0",
      "model_name": "HTMLModel",
      "state": {
       "layout": "IPY_MODEL_a3318fe987dc4a0d84987a9f540e8806",
       "style": "IPY_MODEL_3a3c485a23d94e6084eb06b72a74fd45",
       "value": " 1/1 [00:00&lt;00:00, 99.91it/s]"
      }
     },
     "ade371258f53498e9ab1d51db4eecda7": {
      "model_module": "@jupyter-widgets/controls",
      "model_module_version": "1.5.0",
      "model_name": "HBoxModel",
      "state": {
       "children": [
        "IPY_MODEL_2a8c1de34808435a8f95536c6f4a1a71",
        "IPY_MODEL_04e0ee3957c648deab3db956fc84dca9",
        "IPY_MODEL_764cb220d2aa49a4b424de7c473b161a"
       ],
       "layout": "IPY_MODEL_016daa876f714f309c2e5ad777aa4428"
      }
     },
     "adf7ab5afeda4033ac82c4ffcc44105d": {
      "model_module": "@jupyter-widgets/controls",
      "model_module_version": "1.5.0",
      "model_name": "HTMLModel",
      "state": {
       "layout": "IPY_MODEL_9ccb5f2595484a3d86f409e06094f3e2",
       "style": "IPY_MODEL_e2123be152e845c1ab022a7620bc5abc",
       "value": "100%"
      }
     },
     "ae0896572b7c4dd687aa34a4574d69db": {
      "model_module": "@jupyter-widgets/base",
      "model_module_version": "1.2.0",
      "model_name": "LayoutModel",
      "state": {}
     },
     "ae3bc81104a24959888c0246ae77a662": {
      "model_module": "@jupyter-widgets/controls",
      "model_module_version": "1.5.0",
      "model_name": "HBoxModel",
      "state": {
       "children": [
        "IPY_MODEL_800b6c3c6c9c4a12853913dad7b7e2ac",
        "IPY_MODEL_90ef782f08cf4b2f937cc13c044d84c9",
        "IPY_MODEL_1966843106bb43a3a9152bd228397709"
       ],
       "layout": "IPY_MODEL_1f2728a91c254a47b7a59ffdf3f041ae"
      }
     },
     "ae3f60c872f2475c96fce3138764e414": {
      "model_module": "@jupyter-widgets/controls",
      "model_module_version": "1.5.0",
      "model_name": "ProgressStyleModel",
      "state": {
       "description_width": ""
      }
     },
     "ae50d2b8d3e54e59bf87692b0470c3ef": {
      "model_module": "@jupyter-widgets/base",
      "model_module_version": "1.2.0",
      "model_name": "LayoutModel",
      "state": {}
     },
     "ae5f400250e1427db432e78e934b4d35": {
      "model_module": "@jupyter-widgets/controls",
      "model_module_version": "1.5.0",
      "model_name": "HTMLModel",
      "state": {
       "layout": "IPY_MODEL_c0d2bcc61561451e8f142b9cf8948889",
       "style": "IPY_MODEL_2958b4c2eed140c1b0cf283a4243b2f9",
       "value": "100%"
      }
     },
     "ae66264cd2634dc59da56172a8bc8a79": {
      "model_module": "@jupyter-widgets/controls",
      "model_module_version": "1.5.0",
      "model_name": "DescriptionStyleModel",
      "state": {
       "description_width": ""
      }
     },
     "ae9191afca3f46ddbb63434107caf3a1": {
      "model_module": "@jupyter-widgets/controls",
      "model_module_version": "1.5.0",
      "model_name": "DescriptionStyleModel",
      "state": {
       "description_width": ""
      }
     },
     "aeb1aa3a48dc4211bde4cc7e6f90535f": {
      "model_module": "@jupyter-widgets/base",
      "model_module_version": "1.2.0",
      "model_name": "LayoutModel",
      "state": {}
     },
     "aeb97777243a4258b453ff5ffa5c0f37": {
      "model_module": "@jupyter-widgets/controls",
      "model_module_version": "1.5.0",
      "model_name": "HTMLModel",
      "state": {
       "layout": "IPY_MODEL_5af6432142814ce09c84e764d9519389",
       "style": "IPY_MODEL_596e6ba6e0674b28ada0a491283d20e9",
       "value": " 100/100 [11:33&lt;00:00,  5.15s/it]"
      }
     },
     "aebcd6dc9eaa4c33a3655a7dcd8bdf75": {
      "model_module": "@jupyter-widgets/base",
      "model_module_version": "1.2.0",
      "model_name": "LayoutModel",
      "state": {}
     },
     "aecb8cac38424d3d9637e3fa83bb32b3": {
      "model_module": "@jupyter-widgets/base",
      "model_module_version": "1.2.0",
      "model_name": "LayoutModel",
      "state": {}
     },
     "aed6b804b1a540779c63fa531a9737c9": {
      "model_module": "@jupyter-widgets/controls",
      "model_module_version": "1.5.0",
      "model_name": "HTMLModel",
      "state": {
       "layout": "IPY_MODEL_6dcfe71cad214ecf89909d59c74781fb",
       "style": "IPY_MODEL_d836ebca4377468090d8877899401f64",
       "value": "100%"
      }
     },
     "aeda675137bf4b43be0dff5bb6ca65ee": {
      "model_module": "@jupyter-widgets/base",
      "model_module_version": "1.2.0",
      "model_name": "LayoutModel",
      "state": {}
     },
     "aeee75be176747e9a272c6941967d124": {
      "model_module": "@jupyter-widgets/base",
      "model_module_version": "1.2.0",
      "model_name": "LayoutModel",
      "state": {}
     },
     "aef6ca90b2b0462886f8458590e2628d": {
      "model_module": "@jupyter-widgets/controls",
      "model_module_version": "1.5.0",
      "model_name": "ProgressStyleModel",
      "state": {
       "description_width": ""
      }
     },
     "aef8fb149c0e4dd18d53b1724d6d04f0": {
      "model_module": "@jupyter-widgets/controls",
      "model_module_version": "1.5.0",
      "model_name": "HBoxModel",
      "state": {
       "children": [
        "IPY_MODEL_742eb7887fc1430b9f1b3999fc603bfd",
        "IPY_MODEL_6d44a8bb173c4632b1d87ec49c095b61",
        "IPY_MODEL_eab1f75d863e4f46909697177205b1f0"
       ],
       "layout": "IPY_MODEL_9a701b90adba423f9e3bada9ea134a0f"
      }
     },
     "af0b051277a943b9812f3bcbdaae2fb9": {
      "model_module": "@jupyter-widgets/controls",
      "model_module_version": "1.5.0",
      "model_name": "DescriptionStyleModel",
      "state": {
       "description_width": ""
      }
     },
     "af1dfd778bb64550a70f6d6e8142d610": {
      "model_module": "@jupyter-widgets/base",
      "model_module_version": "1.2.0",
      "model_name": "LayoutModel",
      "state": {}
     },
     "af292f25b45d42739ab41f5680e7fa28": {
      "model_module": "@jupyter-widgets/controls",
      "model_module_version": "1.5.0",
      "model_name": "DescriptionStyleModel",
      "state": {
       "description_width": ""
      }
     },
     "af29f6b3da794eeb8e0f17f3b04dd3e5": {
      "model_module": "@jupyter-widgets/base",
      "model_module_version": "1.2.0",
      "model_name": "LayoutModel",
      "state": {}
     },
     "af39e96dcfb94d789d9855e5d5ff6021": {
      "model_module": "@jupyter-widgets/controls",
      "model_module_version": "1.5.0",
      "model_name": "HTMLModel",
      "state": {
       "layout": "IPY_MODEL_6924d58f0c6940f88d97700a0b6a0641",
       "style": "IPY_MODEL_a9f40d39ab7943338eaf05dab86471d4",
       "value": " 1/1 [00:00&lt;00:00, 99.92it/s]"
      }
     },
     "af3c94deda0c48dfb64cae55df8388f9": {
      "model_module": "@jupyter-widgets/controls",
      "model_module_version": "1.5.0",
      "model_name": "HTMLModel",
      "state": {
       "layout": "IPY_MODEL_c8b5baa8260f47fbb8470428a3f328b1",
       "style": "IPY_MODEL_8796b7773ab14410988c9363a8d3728b",
       "value": " 1/1 [00:02&lt;00:00,  2.08s/ba]"
      }
     },
     "af409b36b1314d83b09271d768cc4870": {
      "model_module": "@jupyter-widgets/controls",
      "model_module_version": "1.5.0",
      "model_name": "DescriptionStyleModel",
      "state": {
       "description_width": ""
      }
     },
     "af4e2833b4f0491ba74e11e6c89ddebd": {
      "model_module": "@jupyter-widgets/base",
      "model_module_version": "1.2.0",
      "model_name": "LayoutModel",
      "state": {}
     },
     "af6d3d2280c942c394d2c4b30f371e61": {
      "model_module": "@jupyter-widgets/base",
      "model_module_version": "1.2.0",
      "model_name": "LayoutModel",
      "state": {}
     },
     "af75d9fd391d458f975d20f66c1d6192": {
      "model_module": "@jupyter-widgets/controls",
      "model_module_version": "1.5.0",
      "model_name": "HTMLModel",
      "state": {
       "layout": "IPY_MODEL_9a368b70382f468dba04027f2b1f6f00",
       "style": "IPY_MODEL_1779e90d7c8c4e50aca0889e3ff863cf",
       "value": "100%"
      }
     },
     "af8586444d024f2ea5d94338c94808ec": {
      "model_module": "@jupyter-widgets/controls",
      "model_module_version": "1.5.0",
      "model_name": "DescriptionStyleModel",
      "state": {
       "description_width": ""
      }
     },
     "af8b627053c44ae0952ceaba888896f2": {
      "model_module": "@jupyter-widgets/controls",
      "model_module_version": "1.5.0",
      "model_name": "HTMLModel",
      "state": {
       "layout": "IPY_MODEL_baa9cfb21cbd4395beb830ed94b38715",
       "style": "IPY_MODEL_6a92a1ea4df24403ba75d1465968c37e",
       "value": "100%"
      }
     },
     "af965f9025f44ac6b784ed81a51af67e": {
      "model_module": "@jupyter-widgets/controls",
      "model_module_version": "1.5.0",
      "model_name": "ProgressStyleModel",
      "state": {
       "description_width": ""
      }
     },
     "af9aa0e335a747b1a31dcc1062b31e06": {
      "model_module": "@jupyter-widgets/controls",
      "model_module_version": "1.5.0",
      "model_name": "ProgressStyleModel",
      "state": {
       "description_width": ""
      }
     },
     "af9bd456e53c44a688700802e2369e46": {
      "model_module": "@jupyter-widgets/controls",
      "model_module_version": "1.5.0",
      "model_name": "HBoxModel",
      "state": {
       "children": [
        "IPY_MODEL_adf7ab5afeda4033ac82c4ffcc44105d",
        "IPY_MODEL_4e1b0cfa8839432291b1c6dd2856e645",
        "IPY_MODEL_a3a37e5a6e7b4dee910ac3480ce9f3b7"
       ],
       "layout": "IPY_MODEL_11398fd7e6294cec924deb7142b5dad2"
      }
     },
     "afc641f7e287479c98462c165d607a35": {
      "model_module": "@jupyter-widgets/base",
      "model_module_version": "1.2.0",
      "model_name": "LayoutModel",
      "state": {}
     },
     "afce9f3800424e2685ec698d8a8673e2": {
      "model_module": "@jupyter-widgets/controls",
      "model_module_version": "1.5.0",
      "model_name": "DescriptionStyleModel",
      "state": {
       "description_width": ""
      }
     },
     "afd5f686e3094d489e871336a88d7ef5": {
      "model_module": "@jupyter-widgets/controls",
      "model_module_version": "1.5.0",
      "model_name": "DescriptionStyleModel",
      "state": {
       "description_width": ""
      }
     },
     "afd7264e288f4389904f85222dbdb841": {
      "model_module": "@jupyter-widgets/controls",
      "model_module_version": "1.5.0",
      "model_name": "DescriptionStyleModel",
      "state": {
       "description_width": ""
      }
     },
     "afe0e20994314ec1a6846ef78fea9e76": {
      "model_module": "@jupyter-widgets/controls",
      "model_module_version": "1.5.0",
      "model_name": "ProgressStyleModel",
      "state": {
       "description_width": ""
      }
     },
     "afef59a72b69401c93a785e8e2c7c710": {
      "model_module": "@jupyter-widgets/controls",
      "model_module_version": "1.5.0",
      "model_name": "HTMLModel",
      "state": {
       "layout": "IPY_MODEL_70431884c9ff4aa39779c6bb804dce76",
       "style": "IPY_MODEL_1891acb1b861401cbbf926e3e5f32baf",
       "value": "100%"
      }
     },
     "aff8165213b0412d949572eb75c512d7": {
      "model_module": "@jupyter-widgets/controls",
      "model_module_version": "1.5.0",
      "model_name": "DescriptionStyleModel",
      "state": {
       "description_width": ""
      }
     },
     "b0164034b7e94472abdf126c1d2e3974": {
      "model_module": "@jupyter-widgets/base",
      "model_module_version": "1.2.0",
      "model_name": "LayoutModel",
      "state": {}
     },
     "b03b4b1c63c04718ab33b3f902075b9d": {
      "model_module": "@jupyter-widgets/controls",
      "model_module_version": "1.5.0",
      "model_name": "ProgressStyleModel",
      "state": {
       "description_width": ""
      }
     },
     "b03df28f6504419289c7c384c9c223b9": {
      "model_module": "@jupyter-widgets/controls",
      "model_module_version": "1.5.0",
      "model_name": "HTMLModel",
      "state": {
       "layout": "IPY_MODEL_0426411c04384907a505ab5b53893eb4",
       "style": "IPY_MODEL_4467e6f3fc3c4917b1137fb69a287c12",
       "value": " 1/1 [00:00&lt;00:00, 111.01it/s]"
      }
     },
     "b04c3606038c4fb3b5e14b62b7568b7c": {
      "model_module": "@jupyter-widgets/base",
      "model_module_version": "1.2.0",
      "model_name": "LayoutModel",
      "state": {}
     },
     "b053e79e05184e32b55796e7ca9be4a6": {
      "model_module": "@jupyter-widgets/controls",
      "model_module_version": "1.5.0",
      "model_name": "FloatProgressModel",
      "state": {
       "bar_style": "success",
       "layout": "IPY_MODEL_0b75b155b9c44fdc8983043392485463",
       "max": 1,
       "style": "IPY_MODEL_b4de65f5bd5d406aaa0adc522c89dcef",
       "value": 1
      }
     },
     "b05810c4aa6a4418a86b7b8caee24f51": {
      "model_module": "@jupyter-widgets/controls",
      "model_module_version": "1.5.0",
      "model_name": "HBoxModel",
      "state": {
       "children": [
        "IPY_MODEL_cac3b404379c46839f910b60871e218b",
        "IPY_MODEL_5bbec04657674400ab112fd289f3b8be",
        "IPY_MODEL_832da797bdf04e148487f860adb748ba"
       ],
       "layout": "IPY_MODEL_9a381346e03046cdbde7d27029848e2a"
      }
     },
     "b06ab605bb3d4d8a94efb680bd395b51": {
      "model_module": "@jupyter-widgets/base",
      "model_module_version": "1.2.0",
      "model_name": "LayoutModel",
      "state": {}
     },
     "b076de604be1460eb664fb1c189e44c4": {
      "model_module": "@jupyter-widgets/base",
      "model_module_version": "1.2.0",
      "model_name": "LayoutModel",
      "state": {}
     },
     "b0786feb54854f8c9ebb5b5bb5676a23": {
      "model_module": "@jupyter-widgets/controls",
      "model_module_version": "1.5.0",
      "model_name": "HTMLModel",
      "state": {
       "layout": "IPY_MODEL_bbf9ef3fa76c478a8341e78a645909b2",
       "style": "IPY_MODEL_fe99363e81394ee39fa33d5f31b190c4",
       "value": " 1/1 [00:00&lt;00:00, 83.25it/s]"
      }
     },
     "b085df764fce4ec98523399f29a2e64d": {
      "model_module": "@jupyter-widgets/controls",
      "model_module_version": "1.5.0",
      "model_name": "ProgressStyleModel",
      "state": {
       "description_width": ""
      }
     },
     "b0a124dbb9aa4eb1bc980a3e1d3bfe8e": {
      "model_module": "@jupyter-widgets/controls",
      "model_module_version": "1.5.0",
      "model_name": "FloatProgressModel",
      "state": {
       "bar_style": "success",
       "layout": "IPY_MODEL_1d3534135f514205a5accec0a94fde16",
       "style": "IPY_MODEL_78d55f0794714ddc81f78d70d771c0a8",
       "value": 100
      }
     },
     "b0ab24dd69b2445a8a572a51c84336e8": {
      "model_module": "@jupyter-widgets/base",
      "model_module_version": "1.2.0",
      "model_name": "LayoutModel",
      "state": {}
     },
     "b0c07aabdd6c4be7ab15389998b9058d": {
      "model_module": "@jupyter-widgets/base",
      "model_module_version": "1.2.0",
      "model_name": "LayoutModel",
      "state": {}
     },
     "b0caede0fda94062ace59665461909f5": {
      "model_module": "@jupyter-widgets/controls",
      "model_module_version": "1.5.0",
      "model_name": "ProgressStyleModel",
      "state": {
       "description_width": ""
      }
     },
     "b0e6aa05f3b34a3b82791c43ce47e7ef": {
      "model_module": "@jupyter-widgets/base",
      "model_module_version": "1.2.0",
      "model_name": "LayoutModel",
      "state": {}
     },
     "b1074854c7284c5fb40efc0fd720b3a1": {
      "model_module": "@jupyter-widgets/controls",
      "model_module_version": "1.5.0",
      "model_name": "DescriptionStyleModel",
      "state": {
       "description_width": ""
      }
     },
     "b143c829387d4484b27389580256684e": {
      "model_module": "@jupyter-widgets/controls",
      "model_module_version": "1.5.0",
      "model_name": "DescriptionStyleModel",
      "state": {
       "description_width": ""
      }
     },
     "b146d7b94b224b4c85faeb483e00ae0e": {
      "model_module": "@jupyter-widgets/base",
      "model_module_version": "1.2.0",
      "model_name": "LayoutModel",
      "state": {}
     },
     "b14b490b42d7409e9034e50411df5d0f": {
      "model_module": "@jupyter-widgets/controls",
      "model_module_version": "1.5.0",
      "model_name": "DescriptionStyleModel",
      "state": {
       "description_width": ""
      }
     },
     "b1645681cfeb47b89e8e4a97113eec6d": {
      "model_module": "@jupyter-widgets/base",
      "model_module_version": "1.2.0",
      "model_name": "LayoutModel",
      "state": {}
     },
     "b164ac09a1d0461399d4fd023b7d5259": {
      "model_module": "@jupyter-widgets/controls",
      "model_module_version": "1.5.0",
      "model_name": "ProgressStyleModel",
      "state": {
       "description_width": ""
      }
     },
     "b18d7c9ff10044ebb078eed6cdebc073": {
      "model_module": "@jupyter-widgets/controls",
      "model_module_version": "1.5.0",
      "model_name": "HTMLModel",
      "state": {
       "layout": "IPY_MODEL_7c7de599dc00413db8f14f553d9b7d35",
       "style": "IPY_MODEL_937c379ad446459980f4efbc88308a83",
       "value": "100%"
      }
     },
     "b1918b97095b4b70b76db959fd9783ef": {
      "model_module": "@jupyter-widgets/controls",
      "model_module_version": "1.5.0",
      "model_name": "ProgressStyleModel",
      "state": {
       "description_width": ""
      }
     },
     "b1949f86f30d47e4a390cbb36e8e0d7d": {
      "model_module": "@jupyter-widgets/controls",
      "model_module_version": "1.5.0",
      "model_name": "HBoxModel",
      "state": {
       "children": [
        "IPY_MODEL_8a3f2344b04b416fbeaa391b3989f78e",
        "IPY_MODEL_17c658678d72415f8846595b059c7434",
        "IPY_MODEL_bb7fb62dd19f494fabe1ed7faa14634c"
       ],
       "layout": "IPY_MODEL_dc6c5a4039a24b389937a0837b76d037"
      }
     },
     "b1a47b7f7f18429bb58a25376f4ed570": {
      "model_module": "@jupyter-widgets/controls",
      "model_module_version": "1.5.0",
      "model_name": "FloatProgressModel",
      "state": {
       "bar_style": "success",
       "layout": "IPY_MODEL_276cfdcd401943d29991f0bdb34b4386",
       "max": 1,
       "style": "IPY_MODEL_b1eb93c169b94253917e4d2eb3fb3f87",
       "value": 1
      }
     },
     "b1acc62bfa704aa3a84abf12ce3e1999": {
      "model_module": "@jupyter-widgets/base",
      "model_module_version": "1.2.0",
      "model_name": "LayoutModel",
      "state": {}
     },
     "b1bb9ad4733045968e8b0cfb03c6b794": {
      "model_module": "@jupyter-widgets/controls",
      "model_module_version": "1.5.0",
      "model_name": "DescriptionStyleModel",
      "state": {
       "description_width": ""
      }
     },
     "b1c709a23f2840d0a802a017c9b84f58": {
      "model_module": "@jupyter-widgets/controls",
      "model_module_version": "1.5.0",
      "model_name": "DescriptionStyleModel",
      "state": {
       "description_width": ""
      }
     },
     "b1db0d104cfe43afa223da989eb0243a": {
      "model_module": "@jupyter-widgets/base",
      "model_module_version": "1.2.0",
      "model_name": "LayoutModel",
      "state": {}
     },
     "b1dd502f05a945ad885fa6644fe2fed6": {
      "model_module": "@jupyter-widgets/controls",
      "model_module_version": "1.5.0",
      "model_name": "HBoxModel",
      "state": {
       "children": [
        "IPY_MODEL_789b5586807a4d49bdececf4e35bbcaf",
        "IPY_MODEL_9583ed51933d423eb2484cdeb11f6b00",
        "IPY_MODEL_f0acfbf7b6054760af0fe260f2d27a6b"
       ],
       "layout": "IPY_MODEL_74ee0c21a13247169a2b407ef71ae449"
      }
     },
     "b1dfa900597041ac9a511b257aa13951": {
      "model_module": "@jupyter-widgets/base",
      "model_module_version": "1.2.0",
      "model_name": "LayoutModel",
      "state": {}
     },
     "b1e1d7fe362447249ec4f506dfca427e": {
      "model_module": "@jupyter-widgets/base",
      "model_module_version": "1.2.0",
      "model_name": "LayoutModel",
      "state": {}
     },
     "b1eb93c169b94253917e4d2eb3fb3f87": {
      "model_module": "@jupyter-widgets/controls",
      "model_module_version": "1.5.0",
      "model_name": "ProgressStyleModel",
      "state": {
       "description_width": ""
      }
     },
     "b1ecebffb9d941c3b6b64027cdb0303d": {
      "model_module": "@jupyter-widgets/controls",
      "model_module_version": "1.5.0",
      "model_name": "FloatProgressModel",
      "state": {
       "bar_style": "success",
       "layout": "IPY_MODEL_c59e810455d546b2abc01b7e7b1ed6fb",
       "style": "IPY_MODEL_6d6642d700294c399782ff03771d8f20",
       "value": 100
      }
     },
     "b1f55c12aeb840a39062f89f1ac8ffea": {
      "model_module": "@jupyter-widgets/controls",
      "model_module_version": "1.5.0",
      "model_name": "HTMLModel",
      "state": {
       "layout": "IPY_MODEL_f167a797304f4bf1b73e9e0f807c6b67",
       "style": "IPY_MODEL_42991b203fe644b6aa6d0b382801ac6c",
       "value": "100%"
      }
     },
     "b1fd50246a97413bb011ef87f1a18051": {
      "model_module": "@jupyter-widgets/controls",
      "model_module_version": "1.5.0",
      "model_name": "ProgressStyleModel",
      "state": {
       "description_width": ""
      }
     },
     "b2420d946f234445a48ed27c055074f7": {
      "model_module": "@jupyter-widgets/base",
      "model_module_version": "1.2.0",
      "model_name": "LayoutModel",
      "state": {}
     },
     "b2519fb2f3cb4b4c80a49365c0913770": {
      "model_module": "@jupyter-widgets/base",
      "model_module_version": "1.2.0",
      "model_name": "LayoutModel",
      "state": {}
     },
     "b261309593aa4d34b6cbb9959d1d0f2a": {
      "model_module": "@jupyter-widgets/controls",
      "model_module_version": "1.5.0",
      "model_name": "DescriptionStyleModel",
      "state": {
       "description_width": ""
      }
     },
     "b2791d6a126c4cd39ed593c893609994": {
      "model_module": "@jupyter-widgets/controls",
      "model_module_version": "1.5.0",
      "model_name": "ProgressStyleModel",
      "state": {
       "description_width": ""
      }
     },
     "b282349c40c2445d9a0cb03fcfc74269": {
      "model_module": "@jupyter-widgets/base",
      "model_module_version": "1.2.0",
      "model_name": "LayoutModel",
      "state": {}
     },
     "b28620fa37894d1591a958d796e5cda6": {
      "model_module": "@jupyter-widgets/controls",
      "model_module_version": "1.5.0",
      "model_name": "FloatProgressModel",
      "state": {
       "bar_style": "success",
       "layout": "IPY_MODEL_397a9612314345e3b196593b713e6f19",
       "max": 1,
       "style": "IPY_MODEL_74a839d155ee43da921bb66142c54375",
       "value": 1
      }
     },
     "b2952cb862514d9b8f4bd420634cd7cf": {
      "model_module": "@jupyter-widgets/base",
      "model_module_version": "1.2.0",
      "model_name": "LayoutModel",
      "state": {}
     },
     "b2ac7bb228ff4d30aa6ef0d9104bddc5": {
      "model_module": "@jupyter-widgets/base",
      "model_module_version": "1.2.0",
      "model_name": "LayoutModel",
      "state": {}
     },
     "b2b8cadbd6bb4b769ff0b9699bec66d3": {
      "model_module": "@jupyter-widgets/controls",
      "model_module_version": "1.5.0",
      "model_name": "HTMLModel",
      "state": {
       "layout": "IPY_MODEL_50f26216dfd8403fb9b5ccedd9d265b0",
       "style": "IPY_MODEL_f2864f327d144d56a4b2428ee576ac21",
       "value": " 1/1 [00:00&lt;00:00, 62.44it/s]"
      }
     },
     "b2bd1f35664f4d0087ae056b2bac4e54": {
      "model_module": "@jupyter-widgets/base",
      "model_module_version": "1.2.0",
      "model_name": "LayoutModel",
      "state": {}
     },
     "b2f9485ee2eb458ab82bd9a5dacc2a59": {
      "model_module": "@jupyter-widgets/controls",
      "model_module_version": "1.5.0",
      "model_name": "DescriptionStyleModel",
      "state": {
       "description_width": ""
      }
     },
     "b302f9c1998e40399195e153665e9942": {
      "model_module": "@jupyter-widgets/base",
      "model_module_version": "1.2.0",
      "model_name": "LayoutModel",
      "state": {}
     },
     "b30b509f034e453f8ee9f46dff79f25d": {
      "model_module": "@jupyter-widgets/controls",
      "model_module_version": "1.5.0",
      "model_name": "DescriptionStyleModel",
      "state": {
       "description_width": ""
      }
     },
     "b31683ec1cc743e2800269f2880be787": {
      "model_module": "@jupyter-widgets/controls",
      "model_module_version": "1.5.0",
      "model_name": "DescriptionStyleModel",
      "state": {
       "description_width": ""
      }
     },
     "b324263b03a24bb6aefdd64dd0294fac": {
      "model_module": "@jupyter-widgets/controls",
      "model_module_version": "1.5.0",
      "model_name": "DescriptionStyleModel",
      "state": {
       "description_width": ""
      }
     },
     "b32ad195f4c64f07adb644555ac1ae66": {
      "model_module": "@jupyter-widgets/base",
      "model_module_version": "1.2.0",
      "model_name": "LayoutModel",
      "state": {}
     },
     "b32bca8cc6fe496aaba9b071a917cf34": {
      "model_module": "@jupyter-widgets/controls",
      "model_module_version": "1.5.0",
      "model_name": "HTMLModel",
      "state": {
       "layout": "IPY_MODEL_56da212874c7452a8a7c468134c698e8",
       "style": "IPY_MODEL_5a4aa55c979a486b9e8e434fd748daa3",
       "value": " 133/133 [00:02&lt;00:00, 63.69ba/s]"
      }
     },
     "b3524eea961b4708aa1053e089c3f9a3": {
      "model_module": "@jupyter-widgets/controls",
      "model_module_version": "1.5.0",
      "model_name": "DescriptionStyleModel",
      "state": {
       "description_width": ""
      }
     },
     "b3b4d0e32f834a1f816f4935cb482974": {
      "model_module": "@jupyter-widgets/controls",
      "model_module_version": "1.5.0",
      "model_name": "FloatProgressModel",
      "state": {
       "bar_style": "danger",
       "layout": "IPY_MODEL_ef6614193d0d42a2a8972e421331fb87",
       "max": 827,
       "style": "IPY_MODEL_dc37ca204c344062bb39d8003624ec26"
      }
     },
     "b3c7e05e33d54cc79f1e252a88c032ed": {
      "model_module": "@jupyter-widgets/base",
      "model_module_version": "1.2.0",
      "model_name": "LayoutModel",
      "state": {}
     },
     "b3cea330be19413b9397a1a284f34139": {
      "model_module": "@jupyter-widgets/base",
      "model_module_version": "1.2.0",
      "model_name": "LayoutModel",
      "state": {}
     },
     "b3cfbe98bc0446328780364e2a603a62": {
      "model_module": "@jupyter-widgets/base",
      "model_module_version": "1.2.0",
      "model_name": "LayoutModel",
      "state": {}
     },
     "b3d7e991dc8d4ce6835b4db61cb32068": {
      "model_module": "@jupyter-widgets/base",
      "model_module_version": "1.2.0",
      "model_name": "LayoutModel",
      "state": {}
     },
     "b3d99930448d4ffe8af68e4dc4b3560e": {
      "model_module": "@jupyter-widgets/controls",
      "model_module_version": "1.5.0",
      "model_name": "FloatProgressModel",
      "state": {
       "bar_style": "success",
       "layout": "IPY_MODEL_89722bd0964f479c9b783f7747c33c27",
       "style": "IPY_MODEL_84857c3e849e44ea9985a6735c0ea817",
       "value": 100
      }
     },
     "b3d9e1766476416199a31b799e6bf9ba": {
      "model_module": "@jupyter-widgets/controls",
      "model_module_version": "1.5.0",
      "model_name": "DescriptionStyleModel",
      "state": {
       "description_width": ""
      }
     },
     "b3e3f85ad8f94b7cb5cca92d008b360a": {
      "model_module": "@jupyter-widgets/controls",
      "model_module_version": "1.5.0",
      "model_name": "HBoxModel",
      "state": {
       "children": [
        "IPY_MODEL_d76ebf716f534cf9bbe14140e8011b9a",
        "IPY_MODEL_4d2af21f40b94b58b57fbe80d5bbd093",
        "IPY_MODEL_8218c1a09b294f4f952906f8341d71c4"
       ],
       "layout": "IPY_MODEL_87d052a8ac374ef5a2a2e66b0708913a"
      }
     },
     "b3fa4d15912a44f28592977513b4b121": {
      "model_module": "@jupyter-widgets/controls",
      "model_module_version": "1.5.0",
      "model_name": "HTMLModel",
      "state": {
       "layout": "IPY_MODEL_6226c354b11c4cad89a939fe2ffd781c",
       "style": "IPY_MODEL_7bfb97b5077b429da53e92a71711856b",
       "value": "100%"
      }
     },
     "b417076a218545fda6d3ff7abb4c548d": {
      "model_module": "@jupyter-widgets/controls",
      "model_module_version": "1.5.0",
      "model_name": "HTMLModel",
      "state": {
       "layout": "IPY_MODEL_f762124cc36746efb4636fca1bd51782",
       "style": "IPY_MODEL_3f27b72ce2934de28d0a459cb3f3ad59",
       "value": " 1/1 [00:00&lt;00:00, 99.91it/s]"
      }
     },
     "b42a44ce3fc1466598be1012f5a94ba2": {
      "model_module": "@jupyter-widgets/controls",
      "model_module_version": "1.5.0",
      "model_name": "HBoxModel",
      "state": {
       "children": [
        "IPY_MODEL_1fe0540cff4c437a87ab884a2c3d7918",
        "IPY_MODEL_6b388b6d90724f4289d3c20d7a4fa344",
        "IPY_MODEL_5fba7d8790f140ae95d230b30f960836"
       ],
       "layout": "IPY_MODEL_8e3884084ee14f5e832e8c79e3b42d32"
      }
     },
     "b433e1b42c074a428c4878fa0514d8f1": {
      "model_module": "@jupyter-widgets/controls",
      "model_module_version": "1.5.0",
      "model_name": "HBoxModel",
      "state": {
       "children": [
        "IPY_MODEL_cb4c6c0ae4ae4c2ea01004831d35edea",
        "IPY_MODEL_7d4f9e319e9849d2b3fcee07e10cbbb9",
        "IPY_MODEL_34ff9d31eb7b4e8698089e6ed4212ecd"
       ],
       "layout": "IPY_MODEL_8a54badd0fe3471bad27ba61710d7675"
      }
     },
     "b43bc6b39a4844f3a0337bbc3c8c72d1": {
      "model_module": "@jupyter-widgets/base",
      "model_module_version": "1.2.0",
      "model_name": "LayoutModel",
      "state": {}
     },
     "b4de65f5bd5d406aaa0adc522c89dcef": {
      "model_module": "@jupyter-widgets/controls",
      "model_module_version": "1.5.0",
      "model_name": "ProgressStyleModel",
      "state": {
       "description_width": ""
      }
     },
     "b4e154bd8d6242c8a3b869c8a831182e": {
      "model_module": "@jupyter-widgets/controls",
      "model_module_version": "1.5.0",
      "model_name": "HTMLModel",
      "state": {
       "layout": "IPY_MODEL_edff523432a1492b96f8711f7d122aa3",
       "style": "IPY_MODEL_860dbb554cb14f51a1908e3a6fac6aab",
       "value": "100%"
      }
     },
     "b4eb8ded48334be2b44a0ae3d55e57b2": {
      "model_module": "@jupyter-widgets/controls",
      "model_module_version": "1.5.0",
      "model_name": "FloatProgressModel",
      "state": {
       "bar_style": "success",
       "layout": "IPY_MODEL_ff687fe62fe54e02869513e76a19d741",
       "style": "IPY_MODEL_6677f775eb754fc384d1d955f2dd3b06",
       "value": 100
      }
     },
     "b509fdf4c2df4ac3aaf96c6504e01421": {
      "model_module": "@jupyter-widgets/controls",
      "model_module_version": "1.5.0",
      "model_name": "HTMLModel",
      "state": {
       "layout": "IPY_MODEL_9a160e907b4e4b8698ea4090a2ce6c3d",
       "style": "IPY_MODEL_c843e867de5c4a149c3db06c668047ff",
       "value": "100%"
      }
     },
     "b50e148214814ced83ceb7589ec5465e": {
      "model_module": "@jupyter-widgets/base",
      "model_module_version": "1.2.0",
      "model_name": "LayoutModel",
      "state": {}
     },
     "b519532fcf0643308cd5495e14a1ed53": {
      "model_module": "@jupyter-widgets/base",
      "model_module_version": "1.2.0",
      "model_name": "LayoutModel",
      "state": {}
     },
     "b51ad070cd3448faadb2414fd1787ac7": {
      "model_module": "@jupyter-widgets/controls",
      "model_module_version": "1.5.0",
      "model_name": "HBoxModel",
      "state": {
       "children": [
        "IPY_MODEL_41cad43533cb4394b9e4965d779cab51",
        "IPY_MODEL_5c70aa70be7c46c6993e3700aae118e3",
        "IPY_MODEL_79d6d3d9c8c04e9b9e438f6d8aa6ebfc"
       ],
       "layout": "IPY_MODEL_fdacea6fea1b4624bee82bace3e1b46a"
      }
     },
     "b52270fa92554892abf61a08d8773b1a": {
      "model_module": "@jupyter-widgets/controls",
      "model_module_version": "1.5.0",
      "model_name": "ProgressStyleModel",
      "state": {
       "description_width": ""
      }
     },
     "b529d66d0b224d389db08a8f633881b7": {
      "model_module": "@jupyter-widgets/controls",
      "model_module_version": "1.5.0",
      "model_name": "DescriptionStyleModel",
      "state": {
       "description_width": ""
      }
     },
     "b533ba846a9b415482bafcb732a01c9c": {
      "model_module": "@jupyter-widgets/controls",
      "model_module_version": "1.5.0",
      "model_name": "ProgressStyleModel",
      "state": {
       "description_width": ""
      }
     },
     "b565c978e1504354878e54d6eb4806ad": {
      "model_module": "@jupyter-widgets/controls",
      "model_module_version": "1.5.0",
      "model_name": "HBoxModel",
      "state": {
       "children": [
        "IPY_MODEL_454e5f64ea844e7cb40822e7757085fc",
        "IPY_MODEL_78d7edd2569d458ab451ddee7065926f",
        "IPY_MODEL_2d2ff8a7dd0d4c6eb0b4faa127b88664"
       ],
       "layout": "IPY_MODEL_32fab549c75e48c49c0584cc7579a5da"
      }
     },
     "b578b1e5442848a5ad8524a05ec77f57": {
      "model_module": "@jupyter-widgets/controls",
      "model_module_version": "1.5.0",
      "model_name": "HBoxModel",
      "state": {
       "children": [
        "IPY_MODEL_187200885d884ad6b5328d15978d05f1",
        "IPY_MODEL_436cd65d75374ead844f9e4ccbaa1738",
        "IPY_MODEL_abbac4ade6fa424d995e1e353fc09bc1"
       ],
       "layout": "IPY_MODEL_5d54356ff2ad4061a4ac8a4812c9a292"
      }
     },
     "b592fba8701c41b9892bc2217788b4ae": {
      "model_module": "@jupyter-widgets/controls",
      "model_module_version": "1.5.0",
      "model_name": "ProgressStyleModel",
      "state": {
       "description_width": ""
      }
     },
     "b5ba156bac2b421e858237ae8fc128f9": {
      "model_module": "@jupyter-widgets/controls",
      "model_module_version": "1.5.0",
      "model_name": "FloatProgressModel",
      "state": {
       "bar_style": "success",
       "layout": "IPY_MODEL_fa751c9a5f054c789b7202a8deba1839",
       "max": 1,
       "style": "IPY_MODEL_6cd9a371c76a489eabaa895b20629644",
       "value": 1
      }
     },
     "b5c532e7df4a4b789e6ff188ff2369c2": {
      "model_module": "@jupyter-widgets/base",
      "model_module_version": "1.2.0",
      "model_name": "LayoutModel",
      "state": {}
     },
     "b5dcfc7ce3b7495690275f84311eb6a1": {
      "model_module": "@jupyter-widgets/controls",
      "model_module_version": "1.5.0",
      "model_name": "HTMLModel",
      "state": {
       "layout": "IPY_MODEL_6044703805d14b499206c5935b368663",
       "style": "IPY_MODEL_1bf020f9efab4d9385da704de9a0a9dc",
       "value": " 100/100 [12:41&lt;00:00, 10.61s/it]"
      }
     },
     "b5fdb85650a148b5821ffbb28cf783f8": {
      "model_module": "@jupyter-widgets/controls",
      "model_module_version": "1.5.0",
      "model_name": "ProgressStyleModel",
      "state": {
       "description_width": ""
      }
     },
     "b63ae01e5c154be095d833eee709e7c5": {
      "model_module": "@jupyter-widgets/controls",
      "model_module_version": "1.5.0",
      "model_name": "HTMLModel",
      "state": {
       "layout": "IPY_MODEL_97d7fbb39ffe47f19ddbdb4fb83e3f91",
       "style": "IPY_MODEL_c9942ede7e254ac7ace296ad408c6f34",
       "value": " 100/100 [12:21&lt;00:00,  7.42s/it]"
      }
     },
     "b63c5c378191436795ef2b09d87807e6": {
      "model_module": "@jupyter-widgets/base",
      "model_module_version": "1.2.0",
      "model_name": "LayoutModel",
      "state": {}
     },
     "b6473d2fee904a33a9146ee1ec11fc66": {
      "model_module": "@jupyter-widgets/base",
      "model_module_version": "1.2.0",
      "model_name": "LayoutModel",
      "state": {}
     },
     "b64b61a424af4815b0dd9b576a6fdce2": {
      "model_module": "@jupyter-widgets/base",
      "model_module_version": "1.2.0",
      "model_name": "LayoutModel",
      "state": {}
     },
     "b65079ed310e431f9472090a08f3b2cc": {
      "model_module": "@jupyter-widgets/base",
      "model_module_version": "1.2.0",
      "model_name": "LayoutModel",
      "state": {}
     },
     "b65c2f05f67f45828699dd277f84a1b2": {
      "model_module": "@jupyter-widgets/controls",
      "model_module_version": "1.5.0",
      "model_name": "HTMLModel",
      "state": {
       "layout": "IPY_MODEL_bb399be7c4744435ad6f301774de2add",
       "style": "IPY_MODEL_415f389ce5bd475e87c44e2861911b06",
       "value": " 100/100 [18:29&lt;00:00, 15.29s/it]"
      }
     },
     "b65fb92c54714b67876300ec43c3083a": {
      "model_module": "@jupyter-widgets/base",
      "model_module_version": "1.2.0",
      "model_name": "LayoutModel",
      "state": {}
     },
     "b66e3290c88b4d3e893102aa47419b4e": {
      "model_module": "@jupyter-widgets/controls",
      "model_module_version": "1.5.0",
      "model_name": "DescriptionStyleModel",
      "state": {
       "description_width": ""
      }
     },
     "b672e7d86b1e416dbd214d1d1fd8637e": {
      "model_module": "@jupyter-widgets/base",
      "model_module_version": "1.2.0",
      "model_name": "LayoutModel",
      "state": {}
     },
     "b68e4bc6347d4c62891909f2f2841bdc": {
      "model_module": "@jupyter-widgets/base",
      "model_module_version": "1.2.0",
      "model_name": "LayoutModel",
      "state": {}
     },
     "b6b67e59edd1402d96db7b036459a6a2": {
      "model_module": "@jupyter-widgets/controls",
      "model_module_version": "1.5.0",
      "model_name": "HTMLModel",
      "state": {
       "layout": "IPY_MODEL_f460083ada7041e49499b3bfd0b1a2fc",
       "style": "IPY_MODEL_9eb9ef19fd224654ba6ab90ce4147c70",
       "value": "100%"
      }
     },
     "b6dc7b7b5a644f938641b0f4fb8089ef": {
      "model_module": "@jupyter-widgets/controls",
      "model_module_version": "1.5.0",
      "model_name": "DescriptionStyleModel",
      "state": {
       "description_width": ""
      }
     },
     "b6e4f13e56e44137b2536c7ad39dfb42": {
      "model_module": "@jupyter-widgets/controls",
      "model_module_version": "1.5.0",
      "model_name": "HTMLModel",
      "state": {
       "layout": "IPY_MODEL_e4cba76ab8bf4765bd84b4e7c5564050",
       "style": "IPY_MODEL_fdc4e78b8e8a487e96d65fe112e1ab99",
       "value": "100%"
      }
     },
     "b6ef920170a340eb803e29bfb6cc5718": {
      "model_module": "@jupyter-widgets/base",
      "model_module_version": "1.2.0",
      "model_name": "LayoutModel",
      "state": {}
     },
     "b6f3c4db71a74c0c9c37b10b30445fb3": {
      "model_module": "@jupyter-widgets/base",
      "model_module_version": "1.2.0",
      "model_name": "LayoutModel",
      "state": {}
     },
     "b70208343c81427cae17255d6ea93108": {
      "model_module": "@jupyter-widgets/base",
      "model_module_version": "1.2.0",
      "model_name": "LayoutModel",
      "state": {}
     },
     "b709c241438741079069f221198c7422": {
      "model_module": "@jupyter-widgets/controls",
      "model_module_version": "1.5.0",
      "model_name": "DescriptionStyleModel",
      "state": {
       "description_width": ""
      }
     },
     "b70cd02fdbc04563a82a510be155a833": {
      "model_module": "@jupyter-widgets/controls",
      "model_module_version": "1.5.0",
      "model_name": "HTMLModel",
      "state": {
       "layout": "IPY_MODEL_97ebb725c1d04af282b7b83dfcfcb45b",
       "style": "IPY_MODEL_ac365088ca8148b898ba3d944671d2f8",
       "value": " 1/1 [00:00&lt;00:00, 90.83it/s]"
      }
     },
     "b724bfd2ca174817870f10434b947a33": {
      "model_module": "@jupyter-widgets/base",
      "model_module_version": "1.2.0",
      "model_name": "LayoutModel",
      "state": {}
     },
     "b727e4053b364c2e90f37fc47aa3d57e": {
      "model_module": "@jupyter-widgets/controls",
      "model_module_version": "1.5.0",
      "model_name": "FloatProgressModel",
      "state": {
       "bar_style": "success",
       "layout": "IPY_MODEL_5d3781d0af9147d5b3ca71d2f71d06d9",
       "max": 104,
       "style": "IPY_MODEL_af9aa0e335a747b1a31dcc1062b31e06",
       "value": 104
      }
     },
     "b733f25d31054b64b0699045d4fb0837": {
      "model_module": "@jupyter-widgets/controls",
      "model_module_version": "1.5.0",
      "model_name": "HBoxModel",
      "state": {
       "children": [
        "IPY_MODEL_9dacb626697e42b6b0733aeca500e8b0",
        "IPY_MODEL_29f463471e3f4b5a862cc3989439ca9e",
        "IPY_MODEL_7d1314a00b714f63b8a21b2f87442b1b"
       ],
       "layout": "IPY_MODEL_6e32c65160424c078b6eb4d8cd4a31fe"
      }
     },
     "b751694e0fc14ee68b05f42597ce5e7d": {
      "model_module": "@jupyter-widgets/controls",
      "model_module_version": "1.5.0",
      "model_name": "DescriptionStyleModel",
      "state": {
       "description_width": ""
      }
     },
     "b7681792408246b8b1a37e363be278e0": {
      "model_module": "@jupyter-widgets/controls",
      "model_module_version": "1.5.0",
      "model_name": "DescriptionStyleModel",
      "state": {
       "description_width": ""
      }
     },
     "b7796c93bb9f4ab7ac5c4f66f62713ba": {
      "model_module": "@jupyter-widgets/base",
      "model_module_version": "1.2.0",
      "model_name": "LayoutModel",
      "state": {}
     },
     "b798fb26130e45ed904523f8c9b37e42": {
      "model_module": "@jupyter-widgets/base",
      "model_module_version": "1.2.0",
      "model_name": "LayoutModel",
      "state": {}
     },
     "b7992101e21f4f9da0f44d648e2e8d59": {
      "model_module": "@jupyter-widgets/base",
      "model_module_version": "1.2.0",
      "model_name": "LayoutModel",
      "state": {}
     },
     "b7ab349c4baa40979ae484cdecbb6805": {
      "model_module": "@jupyter-widgets/controls",
      "model_module_version": "1.5.0",
      "model_name": "FloatProgressModel",
      "state": {
       "bar_style": "success",
       "layout": "IPY_MODEL_4c1c265bfd2a407a8bfed97350827cf5",
       "style": "IPY_MODEL_2c981ca0539c4414b7d27aaf853016a3",
       "value": 100
      }
     },
     "b7ace6c22e654284a0c23b6e95d12ad3": {
      "model_module": "@jupyter-widgets/base",
      "model_module_version": "1.2.0",
      "model_name": "LayoutModel",
      "state": {}
     },
     "b7c98c68fa75439f8de6fee75344764a": {
      "model_module": "@jupyter-widgets/controls",
      "model_module_version": "1.5.0",
      "model_name": "DescriptionStyleModel",
      "state": {
       "description_width": ""
      }
     },
     "b7ca3fbd8e1741939cbc8eca8d79680b": {
      "model_module": "@jupyter-widgets/base",
      "model_module_version": "1.2.0",
      "model_name": "LayoutModel",
      "state": {}
     },
     "b7e0f89f58dc421ab1e61961cd2056fc": {
      "model_module": "@jupyter-widgets/base",
      "model_module_version": "1.2.0",
      "model_name": "LayoutModel",
      "state": {}
     },
     "b7ef91f54dde416885b8b16046e1b379": {
      "model_module": "@jupyter-widgets/controls",
      "model_module_version": "1.5.0",
      "model_name": "ProgressStyleModel",
      "state": {
       "description_width": ""
      }
     },
     "b803d96dc55548cb8fcf5d654691eddb": {
      "model_module": "@jupyter-widgets/controls",
      "model_module_version": "1.5.0",
      "model_name": "DescriptionStyleModel",
      "state": {
       "description_width": ""
      }
     },
     "b8100500343544eeb9e12da00550c2b7": {
      "model_module": "@jupyter-widgets/base",
      "model_module_version": "1.2.0",
      "model_name": "LayoutModel",
      "state": {}
     },
     "b829b12b50ad402697e672ca4250ff85": {
      "model_module": "@jupyter-widgets/controls",
      "model_module_version": "1.5.0",
      "model_name": "HTMLModel",
      "state": {
       "layout": "IPY_MODEL_e45e08e2584f46249ce95f6f76035303",
       "style": "IPY_MODEL_855cec4f753946e1ab96ec7fc14618a2",
       "value": " 1/1 [00:00&lt;00:00, 99.90it/s]"
      }
     },
     "b84c01936cb74a1f9e69c7dc311366d0": {
      "model_module": "@jupyter-widgets/controls",
      "model_module_version": "1.5.0",
      "model_name": "DescriptionStyleModel",
      "state": {
       "description_width": ""
      }
     },
     "b84eb22462ef4118addf7f8b6bf9392d": {
      "model_module": "@jupyter-widgets/base",
      "model_module_version": "1.2.0",
      "model_name": "LayoutModel",
      "state": {}
     },
     "b854c008d46743bc8c6eb343155563cb": {
      "model_module": "@jupyter-widgets/controls",
      "model_module_version": "1.5.0",
      "model_name": "HTMLModel",
      "state": {
       "layout": "IPY_MODEL_e1b530eacd6a43c2829c86706532e74f",
       "style": "IPY_MODEL_76813d3e5a4b43e591746ce3db4c9cf3",
       "value": "100%"
      }
     },
     "b86158f1881b4c4d8d64da81d0275c7e": {
      "model_module": "@jupyter-widgets/controls",
      "model_module_version": "1.5.0",
      "model_name": "FloatProgressModel",
      "state": {
       "bar_style": "success",
       "layout": "IPY_MODEL_c5328f4de6264d95b9074955843238d3",
       "style": "IPY_MODEL_dae30f78887a478c8a2f75094f6047e4",
       "value": 100
      }
     },
     "b88b49abcf8747038edfc741ff57d2e9": {
      "model_module": "@jupyter-widgets/controls",
      "model_module_version": "1.5.0",
      "model_name": "FloatProgressModel",
      "state": {
       "bar_style": "success",
       "layout": "IPY_MODEL_ab33a87d9c93416d9c345da246f2f0c6",
       "max": 1,
       "style": "IPY_MODEL_76daa2ead7fd4c4798c49ed361d327ee",
       "value": 1
      }
     },
     "b8a324a772b14645bf1a3c7343551863": {
      "model_module": "@jupyter-widgets/controls",
      "model_module_version": "1.5.0",
      "model_name": "FloatProgressModel",
      "state": {
       "bar_style": "success",
       "layout": "IPY_MODEL_912932c14a3242568ce247c5a4ff0a70",
       "style": "IPY_MODEL_91927f156ca44ce680c9d0752ff7d8c1",
       "value": 100
      }
     },
     "b8ab2ed1c2a24079a53ac9285002ecc0": {
      "model_module": "@jupyter-widgets/controls",
      "model_module_version": "1.5.0",
      "model_name": "HTMLModel",
      "state": {
       "layout": "IPY_MODEL_12ca8333e4bb40a29de016b1e7a877cd",
       "style": "IPY_MODEL_4ce5483bee3947baaaf34e45fbcf35f6",
       "value": " 1/1 [00:00&lt;00:00, 62.44it/s]"
      }
     },
     "b8e28106ee53452e92e94d87df344ddf": {
      "model_module": "@jupyter-widgets/base",
      "model_module_version": "1.2.0",
      "model_name": "LayoutModel",
      "state": {}
     },
     "b8fc0a9d5e08451480d5eec08836f3bd": {
      "model_module": "@jupyter-widgets/controls",
      "model_module_version": "1.5.0",
      "model_name": "FloatProgressModel",
      "state": {
       "bar_style": "success",
       "layout": "IPY_MODEL_e440cbb10234413cb33642a3d58c2e6c",
       "max": 1,
       "style": "IPY_MODEL_8fd51689a0b2454eb0d31e82b4d28029",
       "value": 1
      }
     },
     "b9362f9c6218439ea6fb620e9f722026": {
      "model_module": "@jupyter-widgets/base",
      "model_module_version": "1.2.0",
      "model_name": "LayoutModel",
      "state": {}
     },
     "b94bee8419254967922ee11d25054391": {
      "model_module": "@jupyter-widgets/base",
      "model_module_version": "1.2.0",
      "model_name": "LayoutModel",
      "state": {}
     },
     "b950b7d9dc3d4f85be17105a9ecb423e": {
      "model_module": "@jupyter-widgets/controls",
      "model_module_version": "1.5.0",
      "model_name": "HTMLModel",
      "state": {
       "layout": "IPY_MODEL_740eb71bb83a4640a2fdc079f44d7c4e",
       "style": "IPY_MODEL_83ea20b369624faebcf2b7d3859c987c",
       "value": " 100/100 [19:44&lt;00:00, 10.58s/it]"
      }
     },
     "b9839a859142443dad4267d1361c5532": {
      "model_module": "@jupyter-widgets/controls",
      "model_module_version": "1.5.0",
      "model_name": "HBoxModel",
      "state": {
       "children": [
        "IPY_MODEL_d20827edba5d4c508d0fc7b4e2ef5043",
        "IPY_MODEL_f793e9b0159044c2872d1a1eaffaaae1",
        "IPY_MODEL_f42e42885d8c44368a86fea281774330"
       ],
       "layout": "IPY_MODEL_946fcab1e47e4e3683aef650dd75ad56"
      }
     },
     "b98a7e678ab546fe909316d34ce23c85": {
      "model_module": "@jupyter-widgets/base",
      "model_module_version": "1.2.0",
      "model_name": "LayoutModel",
      "state": {}
     },
     "b9bafc04a8934b36a51566688239b70a": {
      "model_module": "@jupyter-widgets/controls",
      "model_module_version": "1.5.0",
      "model_name": "DescriptionStyleModel",
      "state": {
       "description_width": ""
      }
     },
     "b9c51afbdf984c51897fcde0aa5a4583": {
      "model_module": "@jupyter-widgets/controls",
      "model_module_version": "1.5.0",
      "model_name": "ProgressStyleModel",
      "state": {
       "description_width": ""
      }
     },
     "b9cabb1a3b344972b07857adf9e602b7": {
      "model_module": "@jupyter-widgets/controls",
      "model_module_version": "1.5.0",
      "model_name": "HBoxModel",
      "state": {
       "children": [
        "IPY_MODEL_6991d3e4fe8e4a2d9ea3bd3eb3720d2c",
        "IPY_MODEL_d3ed2b07caac4b48ac805262154f14d3",
        "IPY_MODEL_26b86f00649442a2ba075b8540eb2f1c"
       ],
       "layout": "IPY_MODEL_70d2ec17bf074dd9b79fb1bf49731158"
      }
     },
     "b9cdb0ea27534a59a91b18791ecb2936": {
      "model_module": "@jupyter-widgets/controls",
      "model_module_version": "1.5.0",
      "model_name": "HBoxModel",
      "state": {
       "children": [
        "IPY_MODEL_37794efd70424d81b8bc376c31957f84",
        "IPY_MODEL_7917518a43084849befb8a4d1324097f",
        "IPY_MODEL_5703b03062654054be6bbdd70b12dbd5"
       ],
       "layout": "IPY_MODEL_9454ca93993249c48c80469784f7dacc"
      }
     },
     "b9e60708f1e04bd38a11df1d27d6acfb": {
      "model_module": "@jupyter-widgets/controls",
      "model_module_version": "1.5.0",
      "model_name": "HTMLModel",
      "state": {
       "layout": "IPY_MODEL_e45abf937f914dbdb03a61bf9de1d5b8",
       "style": "IPY_MODEL_6793abe40a6f45d9b1b5523ddaa65127",
       "value": " 1/1 [00:00&lt;00:00, 57.08it/s]"
      }
     },
     "b9e8808b97794603932168741f554a4a": {
      "model_module": "@jupyter-widgets/controls",
      "model_module_version": "1.5.0",
      "model_name": "HTMLModel",
      "state": {
       "layout": "IPY_MODEL_8952fc5ac8bd4d6d8bc7318e90c88ab1",
       "style": "IPY_MODEL_277b8e493c7a44a5a83bbe960623c8e9",
       "value": " 100/100 [14:30&lt;00:00,  8.70s/it]"
      }
     },
     "ba17fc82fffd4452a8d4d949583e2d50": {
      "model_module": "@jupyter-widgets/controls",
      "model_module_version": "1.5.0",
      "model_name": "ProgressStyleModel",
      "state": {
       "description_width": ""
      }
     },
     "ba3107ba68c04ad7b70fc1f4fd95d48e": {
      "model_module": "@jupyter-widgets/controls",
      "model_module_version": "1.5.0",
      "model_name": "DescriptionStyleModel",
      "state": {
       "description_width": ""
      }
     },
     "ba35f727a7f44241824e1db656556fe6": {
      "model_module": "@jupyter-widgets/controls",
      "model_module_version": "1.5.0",
      "model_name": "ProgressStyleModel",
      "state": {
       "description_width": ""
      }
     },
     "ba36099870414b98bc191598522b494e": {
      "model_module": "@jupyter-widgets/controls",
      "model_module_version": "1.5.0",
      "model_name": "DescriptionStyleModel",
      "state": {
       "description_width": ""
      }
     },
     "ba398e1f4c06472b86eaa14722ecd797": {
      "model_module": "@jupyter-widgets/controls",
      "model_module_version": "1.5.0",
      "model_name": "HTMLModel",
      "state": {
       "layout": "IPY_MODEL_14dbaec5a0d84c39b75151274f32aab0",
       "style": "IPY_MODEL_7237a491c0ad4090ac3c4924ff9c91a5",
       "value": " 1/1 [00:00&lt;00:00, 99.91it/s]"
      }
     },
     "ba3d01ce994e435dbc7ca5eaa39546b3": {
      "model_module": "@jupyter-widgets/controls",
      "model_module_version": "1.5.0",
      "model_name": "DescriptionStyleModel",
      "state": {
       "description_width": ""
      }
     },
     "ba3f94ca73d64733964b71ef1b68288f": {
      "model_module": "@jupyter-widgets/controls",
      "model_module_version": "1.5.0",
      "model_name": "HBoxModel",
      "state": {
       "children": [
        "IPY_MODEL_55c6903b3f654a75878de0912ea68c3a",
        "IPY_MODEL_3bb92c0fe81c453d96b6ace8876491d3",
        "IPY_MODEL_aae7e3e054bf420aacaaf9069743f303"
       ],
       "layout": "IPY_MODEL_f2719e05a2f547ceaa578f4f444092c7"
      }
     },
     "ba8198917a514ed3bd1aa36fd55afa89": {
      "model_module": "@jupyter-widgets/base",
      "model_module_version": "1.2.0",
      "model_name": "LayoutModel",
      "state": {}
     },
     "ba9580f39a534dcf9346e1b8e2bca8de": {
      "model_module": "@jupyter-widgets/base",
      "model_module_version": "1.2.0",
      "model_name": "LayoutModel",
      "state": {}
     },
     "ba95fbec17a24866be5bd83188c36192": {
      "model_module": "@jupyter-widgets/controls",
      "model_module_version": "1.5.0",
      "model_name": "DescriptionStyleModel",
      "state": {
       "description_width": ""
      }
     },
     "ba9be63758344ff09f447cd8041ea334": {
      "model_module": "@jupyter-widgets/controls",
      "model_module_version": "1.5.0",
      "model_name": "DescriptionStyleModel",
      "state": {
       "description_width": ""
      }
     },
     "baa9cfb21cbd4395beb830ed94b38715": {
      "model_module": "@jupyter-widgets/base",
      "model_module_version": "1.2.0",
      "model_name": "LayoutModel",
      "state": {}
     },
     "baae5231a08c4723a19614bd85aeb743": {
      "model_module": "@jupyter-widgets/controls",
      "model_module_version": "1.5.0",
      "model_name": "HBoxModel",
      "state": {
       "children": [
        "IPY_MODEL_1d18611da1fd450a82b90a7237f60637",
        "IPY_MODEL_f4a6467fc3634287b3adc6d536cb05bc",
        "IPY_MODEL_b0786feb54854f8c9ebb5b5bb5676a23"
       ],
       "layout": "IPY_MODEL_44efcb862a4b4da7a27b9a301272a512"
      }
     },
     "bacbb86cc47642e3ad196fc5c17778f5": {
      "model_module": "@jupyter-widgets/base",
      "model_module_version": "1.2.0",
      "model_name": "LayoutModel",
      "state": {}
     },
     "bb17318c96ca46679b5f97f62d63407e": {
      "model_module": "@jupyter-widgets/base",
      "model_module_version": "1.2.0",
      "model_name": "LayoutModel",
      "state": {}
     },
     "bb17825848984b72934cfdd77db92ca8": {
      "model_module": "@jupyter-widgets/base",
      "model_module_version": "1.2.0",
      "model_name": "LayoutModel",
      "state": {}
     },
     "bb31fe7ce12b4dfa91f121170ac5a87b": {
      "model_module": "@jupyter-widgets/base",
      "model_module_version": "1.2.0",
      "model_name": "LayoutModel",
      "state": {}
     },
     "bb399be7c4744435ad6f301774de2add": {
      "model_module": "@jupyter-widgets/base",
      "model_module_version": "1.2.0",
      "model_name": "LayoutModel",
      "state": {}
     },
     "bb3c053ac0e64bbab04f3c0e8159b23a": {
      "model_module": "@jupyter-widgets/base",
      "model_module_version": "1.2.0",
      "model_name": "LayoutModel",
      "state": {}
     },
     "bb686bd253df44739ec566ea464ee2d6": {
      "model_module": "@jupyter-widgets/controls",
      "model_module_version": "1.5.0",
      "model_name": "DescriptionStyleModel",
      "state": {
       "description_width": ""
      }
     },
     "bb6c707cfdb043729a0cb7eab439f87f": {
      "model_module": "@jupyter-widgets/base",
      "model_module_version": "1.2.0",
      "model_name": "LayoutModel",
      "state": {}
     },
     "bb73b1e8a627477a889d8660debd1d0d": {
      "model_module": "@jupyter-widgets/base",
      "model_module_version": "1.2.0",
      "model_name": "LayoutModel",
      "state": {}
     },
     "bb7be50cc47a4568a69232dc0ba285bb": {
      "model_module": "@jupyter-widgets/controls",
      "model_module_version": "1.5.0",
      "model_name": "HBoxModel",
      "state": {
       "children": [
        "IPY_MODEL_2c62c3fa258a45418937f60da739ccac",
        "IPY_MODEL_e61d4ea6c35e43079a4dd7685885a222",
        "IPY_MODEL_1b019ac5ed604441b06fc7f9a519abf5"
       ],
       "layout": "IPY_MODEL_dd54c20ce2dd4f3a86572232dbe36425"
      }
     },
     "bb7fb62dd19f494fabe1ed7faa14634c": {
      "model_module": "@jupyter-widgets/controls",
      "model_module_version": "1.5.0",
      "model_name": "HTMLModel",
      "state": {
       "layout": "IPY_MODEL_fac8b4820f274f109cfea81d6a6042b5",
       "style": "IPY_MODEL_a362e1727d8c44cc95499a9e0b27c1c7",
       "value": " 1/1 [00:02&lt;00:00,  2.10s/ba]"
      }
     },
     "bb99eb4800d34ebd815f9a4ee0e49a27": {
      "model_module": "@jupyter-widgets/controls",
      "model_module_version": "1.5.0",
      "model_name": "ProgressStyleModel",
      "state": {
       "description_width": ""
      }
     },
     "bb9f0d9da705464dad8b880c4b982eb6": {
      "model_module": "@jupyter-widgets/controls",
      "model_module_version": "1.5.0",
      "model_name": "DescriptionStyleModel",
      "state": {
       "description_width": ""
      }
     },
     "bbd981c68fbd40ebab801d0e03402243": {
      "model_module": "@jupyter-widgets/base",
      "model_module_version": "1.2.0",
      "model_name": "LayoutModel",
      "state": {}
     },
     "bbf4d395b7464399883eb4b11deddb79": {
      "model_module": "@jupyter-widgets/base",
      "model_module_version": "1.2.0",
      "model_name": "LayoutModel",
      "state": {}
     },
     "bbf9ef3fa76c478a8341e78a645909b2": {
      "model_module": "@jupyter-widgets/base",
      "model_module_version": "1.2.0",
      "model_name": "LayoutModel",
      "state": {}
     },
     "bc1d8874208c45f5b6bb2483d194258e": {
      "model_module": "@jupyter-widgets/controls",
      "model_module_version": "1.5.0",
      "model_name": "DescriptionStyleModel",
      "state": {
       "description_width": ""
      }
     },
     "bc2d6d7b2ee54e5fb819c520af7f4ffa": {
      "model_module": "@jupyter-widgets/controls",
      "model_module_version": "1.5.0",
      "model_name": "FloatProgressModel",
      "state": {
       "bar_style": "success",
       "layout": "IPY_MODEL_853ac9b70cce450f9bc27007f5cfbf9c",
       "max": 1,
       "style": "IPY_MODEL_d6e14e4d99b849429312bb36a20e4de6",
       "value": 1
      }
     },
     "bc4153c89f904c79a9603a9a73d6ef4c": {
      "model_module": "@jupyter-widgets/controls",
      "model_module_version": "1.5.0",
      "model_name": "DescriptionStyleModel",
      "state": {
       "description_width": ""
      }
     },
     "bc420ed7e9a149bbb85f99df662738d3": {
      "model_module": "@jupyter-widgets/controls",
      "model_module_version": "1.5.0",
      "model_name": "HTMLModel",
      "state": {
       "layout": "IPY_MODEL_edf245f2d8cb481ba86cb231f359efd0",
       "style": "IPY_MODEL_340b9b31716f4a4ab43c84f4b2bc6b78",
       "value": "100%"
      }
     },
     "bc784ab2e1d14825a7bc3a3a3289ccba": {
      "model_module": "@jupyter-widgets/controls",
      "model_module_version": "1.5.0",
      "model_name": "HTMLModel",
      "state": {
       "layout": "IPY_MODEL_8ad495c978e54dfe8d020a24bcd0eef1",
       "style": "IPY_MODEL_b324263b03a24bb6aefdd64dd0294fac",
       "value": " 1/1 [00:00&lt;00:00, 66.60it/s]"
      }
     },
     "bc890a302c8149cf819b832f2587a83d": {
      "model_module": "@jupyter-widgets/controls",
      "model_module_version": "1.5.0",
      "model_name": "HBoxModel",
      "state": {
       "children": [
        "IPY_MODEL_f7cabc60753347b5acf57f9af4523493",
        "IPY_MODEL_4a3db764520845cca9015509b9bd23c3",
        "IPY_MODEL_f3067b70b7cf43d69116ae4fd7db7f15"
       ],
       "layout": "IPY_MODEL_293a9fb2ddc74626892683ccf13fb73d"
      }
     },
     "bc9dbe0626364358b4315a26f39e3654": {
      "model_module": "@jupyter-widgets/base",
      "model_module_version": "1.2.0",
      "model_name": "LayoutModel",
      "state": {}
     },
     "bcb33ac4d74140508f66561ba15271ed": {
      "model_module": "@jupyter-widgets/base",
      "model_module_version": "1.2.0",
      "model_name": "LayoutModel",
      "state": {}
     },
     "bcc862c1605e4cc08f7c7e71b44e7772": {
      "model_module": "@jupyter-widgets/base",
      "model_module_version": "1.2.0",
      "model_name": "LayoutModel",
      "state": {}
     },
     "bcd1e18c826e43468b3de8fec50a9e08": {
      "model_module": "@jupyter-widgets/controls",
      "model_module_version": "1.5.0",
      "model_name": "HBoxModel",
      "state": {
       "children": [
        "IPY_MODEL_afef59a72b69401c93a785e8e2c7c710",
        "IPY_MODEL_6624f4b3b7214777b33341051f8debc8",
        "IPY_MODEL_32c666de8cc74858b120d17fe0e3149d"
       ],
       "layout": "IPY_MODEL_f7f8e4f7a01443b0b6e903936a54652a"
      }
     },
     "bce3ef5be84d40768e2d5e88e2b2405e": {
      "model_module": "@jupyter-widgets/controls",
      "model_module_version": "1.5.0",
      "model_name": "FloatProgressModel",
      "state": {
       "bar_style": "success",
       "layout": "IPY_MODEL_7102dcc087874fff84d4ec49dd38cdd2",
       "style": "IPY_MODEL_a99131df95324cc4b00ee77b9eb35773",
       "value": 100
      }
     },
     "bcf3daddf15548c7b4c442e02c550055": {
      "model_module": "@jupyter-widgets/base",
      "model_module_version": "1.2.0",
      "model_name": "LayoutModel",
      "state": {}
     },
     "bd048f6f36554d169d238e5224d3f3c5": {
      "model_module": "@jupyter-widgets/controls",
      "model_module_version": "1.5.0",
      "model_name": "HTMLModel",
      "state": {
       "layout": "IPY_MODEL_7cf54503b9a44a7bb92a254a614408ad",
       "style": "IPY_MODEL_9e8227d394974df4a54584b5a232de6b",
       "value": "100%"
      }
     },
     "bd0ac83d8d3f453a896e105dd6b9d902": {
      "model_module": "@jupyter-widgets/base",
      "model_module_version": "1.2.0",
      "model_name": "LayoutModel",
      "state": {}
     },
     "bd3266f8c9b14e6baa40da1a3882fcb9": {
      "model_module": "@jupyter-widgets/controls",
      "model_module_version": "1.5.0",
      "model_name": "ProgressStyleModel",
      "state": {
       "description_width": ""
      }
     },
     "bd4b9c6d3b0f4c009333fe145a97df6b": {
      "model_module": "@jupyter-widgets/base",
      "model_module_version": "1.2.0",
      "model_name": "LayoutModel",
      "state": {}
     },
     "bd72d2443bb247dd9672ad235a9c5a02": {
      "model_module": "@jupyter-widgets/controls",
      "model_module_version": "1.5.0",
      "model_name": "FloatProgressModel",
      "state": {
       "bar_style": "success",
       "layout": "IPY_MODEL_6f78b3b3d67c437db5110d6e4123d618",
       "max": 1,
       "style": "IPY_MODEL_930a3daa0aec4b28bde41b6916e2ff48",
       "value": 1
      }
     },
     "bd800c5c27c14b7caab0363e2457f796": {
      "model_module": "@jupyter-widgets/controls",
      "model_module_version": "1.5.0",
      "model_name": "DescriptionStyleModel",
      "state": {
       "description_width": ""
      }
     },
     "bd955309aa62461d9dc11582ec1fa845": {
      "model_module": "@jupyter-widgets/controls",
      "model_module_version": "1.5.0",
      "model_name": "HTMLModel",
      "state": {
       "layout": "IPY_MODEL_0c3f290aed4d4555ac52481892b9768c",
       "style": "IPY_MODEL_33b71590385744fa9961e933be0c4c3d",
       "value": " 1/1 [00:00&lt;00:00, 90.83it/s]"
      }
     },
     "bd9adb9419fd4fd3a7e944152f66d2a1": {
      "model_module": "@jupyter-widgets/controls",
      "model_module_version": "1.5.0",
      "model_name": "DescriptionStyleModel",
      "state": {
       "description_width": ""
      }
     },
     "bdb56802ef3844e4bb79f8fc9979f109": {
      "model_module": "@jupyter-widgets/controls",
      "model_module_version": "1.5.0",
      "model_name": "HTMLModel",
      "state": {
       "layout": "IPY_MODEL_28dbe5ef516044a8aac413e094350180",
       "style": "IPY_MODEL_f2b244fce369453db0011f08a93547ff",
       "value": " 1/1 [00:00&lt;00:00, 83.25it/s]"
      }
     },
     "bdd05e20037b4bd3a6c882b8b48554e8": {
      "model_module": "@jupyter-widgets/base",
      "model_module_version": "1.2.0",
      "model_name": "LayoutModel",
      "state": {}
     },
     "bdd1bf7bc59741ed9645b243adc00df1": {
      "model_module": "@jupyter-widgets/controls",
      "model_module_version": "1.5.0",
      "model_name": "ProgressStyleModel",
      "state": {
       "description_width": ""
      }
     },
     "bdebc33c103a485db1eb35c4019c7361": {
      "model_module": "@jupyter-widgets/controls",
      "model_module_version": "1.5.0",
      "model_name": "DescriptionStyleModel",
      "state": {
       "description_width": ""
      }
     },
     "bdfc1d6592204c5a93f4073a2bb15dbe": {
      "model_module": "@jupyter-widgets/base",
      "model_module_version": "1.2.0",
      "model_name": "LayoutModel",
      "state": {}
     },
     "be5f4b2ea36b4e68a1695d9b242e1702": {
      "model_module": "@jupyter-widgets/base",
      "model_module_version": "1.2.0",
      "model_name": "LayoutModel",
      "state": {}
     },
     "be67e19bf10d445bb80bb77bd6f27a92": {
      "model_module": "@jupyter-widgets/controls",
      "model_module_version": "1.5.0",
      "model_name": "DescriptionStyleModel",
      "state": {
       "description_width": ""
      }
     },
     "be7ce7b7174c44b9b606b762322af178": {
      "model_module": "@jupyter-widgets/base",
      "model_module_version": "1.2.0",
      "model_name": "LayoutModel",
      "state": {}
     },
     "be9aa90f9eae45fca992b11c9393f32a": {
      "model_module": "@jupyter-widgets/controls",
      "model_module_version": "1.5.0",
      "model_name": "FloatProgressModel",
      "state": {
       "bar_style": "success",
       "layout": "IPY_MODEL_aafbc382fbd94705936e80265d454715",
       "max": 13226,
       "style": "IPY_MODEL_0db19650a5824038a31c7d82cc2335c3",
       "value": 13226
      }
     },
     "beb4a9c87e8146599f4ec81d0e6aa3d8": {
      "model_module": "@jupyter-widgets/base",
      "model_module_version": "1.2.0",
      "model_name": "LayoutModel",
      "state": {}
     },
     "bed4b9b37b10436f8a42ffe111e0a89b": {
      "model_module": "@jupyter-widgets/controls",
      "model_module_version": "1.5.0",
      "model_name": "FloatProgressModel",
      "state": {
       "bar_style": "success",
       "layout": "IPY_MODEL_1e734b53e02a44b4a292654693c0765f",
       "style": "IPY_MODEL_e5044224a5034347bcc3d2b1b1b7b71e",
       "value": 100
      }
     },
     "beddf96da9764178a564cce6e0da8db6": {
      "model_module": "@jupyter-widgets/controls",
      "model_module_version": "1.5.0",
      "model_name": "HTMLModel",
      "state": {
       "layout": "IPY_MODEL_067efbca355743fc80df030c79660a5e",
       "style": "IPY_MODEL_9f510e118bdc4a10b58cb8ec5ea0640c",
       "value": "100%"
      }
     },
     "bede9b880da247659c6c070e936a6acf": {
      "model_module": "@jupyter-widgets/controls",
      "model_module_version": "1.5.0",
      "model_name": "FloatProgressModel",
      "state": {
       "bar_style": "success",
       "layout": "IPY_MODEL_1d7a29a20f6d4da18ede1563b0ea787e",
       "style": "IPY_MODEL_486cbbab11234235a1c839d1058c14c9",
       "value": 100
      }
     },
     "bf046793d5cf48f0a65bc2fc6e0d1cb0": {
      "model_module": "@jupyter-widgets/base",
      "model_module_version": "1.2.0",
      "model_name": "LayoutModel",
      "state": {}
     },
     "bf071346f50f42649f2a651a0df9c8d3": {
      "model_module": "@jupyter-widgets/controls",
      "model_module_version": "1.5.0",
      "model_name": "HBoxModel",
      "state": {
       "children": [
        "IPY_MODEL_8e6aab539dd5413f9cab6ce6a5cfab40",
        "IPY_MODEL_d729af12f0cd4f88b231c2fd1745196c",
        "IPY_MODEL_a639beb961464bfc90e4ee06e148f08d"
       ],
       "layout": "IPY_MODEL_d2b8c25e1bcf4216b123dbff59a4b0c1"
      }
     },
     "bf2c0fd50f8241e6b14d5ed1157a6309": {
      "model_module": "@jupyter-widgets/base",
      "model_module_version": "1.2.0",
      "model_name": "LayoutModel",
      "state": {}
     },
     "bf5ed15c9e0e4cf487c9cb3675af5eaf": {
      "model_module": "@jupyter-widgets/controls",
      "model_module_version": "1.5.0",
      "model_name": "HTMLModel",
      "state": {
       "layout": "IPY_MODEL_b63c5c378191436795ef2b09d87807e6",
       "style": "IPY_MODEL_a3f5583541494435bfcd8f0e74472a6f",
       "value": " 100/100 [17:48&lt;00:00, 19.34s/it]"
      }
     },
     "bf5fdb875de04b9e8c584ee08243043d": {
      "model_module": "@jupyter-widgets/controls",
      "model_module_version": "1.5.0",
      "model_name": "HTMLModel",
      "state": {
       "layout": "IPY_MODEL_d868b6ecad2041aca0c8ea76c618d4ea",
       "style": "IPY_MODEL_c423426fd6294bb4814e431c883d1649",
       "value": "  0%"
      }
     },
     "bf7c734670494e638d141c9da582e7f5": {
      "model_module": "@jupyter-widgets/controls",
      "model_module_version": "1.5.0",
      "model_name": "FloatProgressModel",
      "state": {
       "bar_style": "success",
       "layout": "IPY_MODEL_bc9dbe0626364358b4315a26f39e3654",
       "style": "IPY_MODEL_a2a58cb66c0649e391766442886c8079",
       "value": 100
      }
     },
     "bf8cd605543044dd991cf23e1c509b90": {
      "model_module": "@jupyter-widgets/controls",
      "model_module_version": "1.5.0",
      "model_name": "ProgressStyleModel",
      "state": {
       "description_width": ""
      }
     },
     "bf8e4a5fd6df4482a2c77e5e408b58cf": {
      "model_module": "@jupyter-widgets/controls",
      "model_module_version": "1.5.0",
      "model_name": "HTMLModel",
      "state": {
       "layout": "IPY_MODEL_157237e7cb384c3d8fbc7f4680001514",
       "style": "IPY_MODEL_8685990f3dd14f7d8bff461a4b7fed3e",
       "value": " 100/100 [06:32&lt;00:00,  6.13s/it]"
      }
     },
     "bfd3c2c7311444809fc95a10fb4ad99d": {
      "model_module": "@jupyter-widgets/controls",
      "model_module_version": "1.5.0",
      "model_name": "HTMLModel",
      "state": {
       "layout": "IPY_MODEL_d95bc807b0c0466a8622cac6decd31bc",
       "style": "IPY_MODEL_ad9a6f0cd4ec43f4bddead3028fc0232",
       "value": " 100/100 [18:51&lt;00:00, 14.67s/it]"
      }
     },
     "bfd85e4972cd4d9088f466c9e1aeb3b2": {
      "model_module": "@jupyter-widgets/controls",
      "model_module_version": "1.5.0",
      "model_name": "DescriptionStyleModel",
      "state": {
       "description_width": ""
      }
     },
     "bfe5c8063df44f38baa8881582a833d2": {
      "model_module": "@jupyter-widgets/controls",
      "model_module_version": "1.5.0",
      "model_name": "HTMLModel",
      "state": {
       "layout": "IPY_MODEL_f19b3694d88d4417a56ea8b155bb5a5f",
       "style": "IPY_MODEL_51956b827d94469f88c64c231e10129a",
       "value": "100%"
      }
     },
     "bfea022195d34cfd8221a010ff3d6f69": {
      "model_module": "@jupyter-widgets/controls",
      "model_module_version": "1.5.0",
      "model_name": "HTMLModel",
      "state": {
       "layout": "IPY_MODEL_003f1311c52f4eeca7ac534350be242c",
       "style": "IPY_MODEL_8caf07d9769f4eecb128cfbd79e9a8d7",
       "value": " 100/100 [20:17&lt;00:00, 10.76s/it]"
      }
     },
     "bff2b84f77a848e6b430d786afad360d": {
      "model_module": "@jupyter-widgets/controls",
      "model_module_version": "1.5.0",
      "model_name": "DescriptionStyleModel",
      "state": {
       "description_width": ""
      }
     },
     "bfffabfa26cd449cb357cc34ac34f2f6": {
      "model_module": "@jupyter-widgets/controls",
      "model_module_version": "1.5.0",
      "model_name": "HBoxModel",
      "state": {
       "children": [
        "IPY_MODEL_3edbdb11eba54e55af9c056352a3bfd2",
        "IPY_MODEL_c85ed3fcf0e847c9847fb4fb309d403c",
        "IPY_MODEL_dc864853c59b40b4bd79ac410000fde9"
       ],
       "layout": "IPY_MODEL_fecf398deafd4363b4d6a0ea20ab8a23"
      }
     },
     "c0031e0aac9240d1be271dc82a4e47e5": {
      "model_module": "@jupyter-widgets/base",
      "model_module_version": "1.2.0",
      "model_name": "LayoutModel",
      "state": {}
     },
     "c00551870c084a24861a6e1bfb54b73b": {
      "model_module": "@jupyter-widgets/controls",
      "model_module_version": "1.5.0",
      "model_name": "ProgressStyleModel",
      "state": {
       "description_width": ""
      }
     },
     "c0101280aafc4f7983c33a26fb169345": {
      "model_module": "@jupyter-widgets/controls",
      "model_module_version": "1.5.0",
      "model_name": "ProgressStyleModel",
      "state": {
       "description_width": ""
      }
     },
     "c02bccc573104a9fbe33395e6d03b63b": {
      "model_module": "@jupyter-widgets/controls",
      "model_module_version": "1.5.0",
      "model_name": "FloatProgressModel",
      "state": {
       "bar_style": "success",
       "layout": "IPY_MODEL_1873afe595f44eeb8946055742a097b8",
       "max": 1,
       "style": "IPY_MODEL_1b81f68a936e46018555f6b6337c5628",
       "value": 1
      }
     },
     "c02fe3c891e145be8b8706f47fa5a600": {
      "model_module": "@jupyter-widgets/base",
      "model_module_version": "1.2.0",
      "model_name": "LayoutModel",
      "state": {}
     },
     "c03fda147dd14a9f903271a677b1b271": {
      "model_module": "@jupyter-widgets/controls",
      "model_module_version": "1.5.0",
      "model_name": "HBoxModel",
      "state": {
       "children": [
        "IPY_MODEL_7f0d330da2c44ce2bde868da913b9a49",
        "IPY_MODEL_bf7c734670494e638d141c9da582e7f5",
        "IPY_MODEL_669c7c3b5ce440dfaadd0bed6618b639"
       ],
       "layout": "IPY_MODEL_cb994854a5ed409993b964473d0e5d9a"
      }
     },
     "c0633a2c5c6b4b0ca69902bb921d15ee": {
      "model_module": "@jupyter-widgets/controls",
      "model_module_version": "1.5.0",
      "model_name": "ProgressStyleModel",
      "state": {
       "description_width": ""
      }
     },
     "c07d48c52392433a86f9939e11009f78": {
      "model_module": "@jupyter-widgets/controls",
      "model_module_version": "1.5.0",
      "model_name": "DescriptionStyleModel",
      "state": {
       "description_width": ""
      }
     },
     "c0ab87d99b04470faf98e26dd3c6b3e2": {
      "model_module": "@jupyter-widgets/controls",
      "model_module_version": "1.5.0",
      "model_name": "HBoxModel",
      "state": {
       "children": [
        "IPY_MODEL_48d6137d8d37483684f24ce8042c94c6",
        "IPY_MODEL_c2df2d6e28414a23adceafd938f061ef",
        "IPY_MODEL_a228d1e17906425cbc4120d2d1730f2e"
       ],
       "layout": "IPY_MODEL_dd44c0bae8e04cd88c5e246f6bb4fda7"
      }
     },
     "c0bf760b3c6a41ec901f23837faf36d5": {
      "model_module": "@jupyter-widgets/base",
      "model_module_version": "1.2.0",
      "model_name": "LayoutModel",
      "state": {}
     },
     "c0d2bcc61561451e8f142b9cf8948889": {
      "model_module": "@jupyter-widgets/base",
      "model_module_version": "1.2.0",
      "model_name": "LayoutModel",
      "state": {}
     },
     "c0d827316a8b41c5a3a7fe50bddee775": {
      "model_module": "@jupyter-widgets/base",
      "model_module_version": "1.2.0",
      "model_name": "LayoutModel",
      "state": {}
     },
     "c1a1d21902884ec99e6fe4f6d33d9c8f": {
      "model_module": "@jupyter-widgets/controls",
      "model_module_version": "1.5.0",
      "model_name": "DescriptionStyleModel",
      "state": {
       "description_width": ""
      }
     },
     "c1c7a67396794b739b6d3161e267c68b": {
      "model_module": "@jupyter-widgets/base",
      "model_module_version": "1.2.0",
      "model_name": "LayoutModel",
      "state": {}
     },
     "c1df4c70b6284b56a2a463d7253347d5": {
      "model_module": "@jupyter-widgets/controls",
      "model_module_version": "1.5.0",
      "model_name": "FloatProgressModel",
      "state": {
       "bar_style": "success",
       "layout": "IPY_MODEL_6a00ad15c2ae4f5cbd797fff0986cc95",
       "max": 1,
       "style": "IPY_MODEL_1df8903324fc4e59bcd4c762af3ab1a6",
       "value": 1
      }
     },
     "c1e1b82d601e4b308cf817177aad9c82": {
      "model_module": "@jupyter-widgets/base",
      "model_module_version": "1.2.0",
      "model_name": "LayoutModel",
      "state": {}
     },
     "c1ed991ea06a40879d139c99149a3a24": {
      "model_module": "@jupyter-widgets/controls",
      "model_module_version": "1.5.0",
      "model_name": "HTMLModel",
      "state": {
       "layout": "IPY_MODEL_674f21e8792e4436a00dd0bdf2e13c0c",
       "style": "IPY_MODEL_224b12134b2a47e38fe7f6981cf9e2b0",
       "value": "100%"
      }
     },
     "c205fc2fce434418aac48ddbf87a58a8": {
      "model_module": "@jupyter-widgets/controls",
      "model_module_version": "1.5.0",
      "model_name": "HTMLModel",
      "state": {
       "layout": "IPY_MODEL_666d4f4914a84f2baf5293ee988f8908",
       "style": "IPY_MODEL_56912b94e56047bf8c80950793b76f8e",
       "value": " 100/100 [03:50&lt;00:00,  2.42s/it]"
      }
     },
     "c21b42027a6145b7af67e770997f6010": {
      "model_module": "@jupyter-widgets/controls",
      "model_module_version": "1.5.0",
      "model_name": "DescriptionStyleModel",
      "state": {
       "description_width": ""
      }
     },
     "c21d685b0f67409b9e1580bdad9958b0": {
      "model_module": "@jupyter-widgets/controls",
      "model_module_version": "1.5.0",
      "model_name": "HTMLModel",
      "state": {
       "layout": "IPY_MODEL_c35a78b33a6d475dbf7c960eeedcb0e8",
       "style": "IPY_MODEL_b751694e0fc14ee68b05f42597ce5e7d",
       "value": "100%"
      }
     },
     "c226793f5d2c47ee9babeb5f64ee0cbe": {
      "model_module": "@jupyter-widgets/controls",
      "model_module_version": "1.5.0",
      "model_name": "FloatProgressModel",
      "state": {
       "bar_style": "success",
       "layout": "IPY_MODEL_09310c4ac48c41418b0218a92b0e81a6",
       "style": "IPY_MODEL_896e630093e845f9a821685b93988a84",
       "value": 100
      }
     },
     "c24932e87e3a4fcea828dfcca90ae20c": {
      "model_module": "@jupyter-widgets/controls",
      "model_module_version": "1.5.0",
      "model_name": "HTMLModel",
      "state": {
       "layout": "IPY_MODEL_b3c7e05e33d54cc79f1e252a88c032ed",
       "style": "IPY_MODEL_40618732653146c79e976baa557be366",
       "value": "100%"
      }
     },
     "c2772da61e9343ee8c141575f5ffee1f": {
      "model_module": "@jupyter-widgets/controls",
      "model_module_version": "1.5.0",
      "model_name": "HTMLModel",
      "state": {
       "layout": "IPY_MODEL_8ab2bd45ec8d424e96cbaf32932420dd",
       "style": "IPY_MODEL_90f418416c7746bc92defa063ed47f25",
       "value": " 100/100 [03:51&lt;00:00,  2.27s/it]"
      }
     },
     "c2ab8c8d13f0405fa5c72edbb4ef47c7": {
      "model_module": "@jupyter-widgets/controls",
      "model_module_version": "1.5.0",
      "model_name": "DescriptionStyleModel",
      "state": {
       "description_width": ""
      }
     },
     "c2be90b78cd843e7a6ad6d7f7f6ace4b": {
      "model_module": "@jupyter-widgets/base",
      "model_module_version": "1.2.0",
      "model_name": "LayoutModel",
      "state": {}
     },
     "c2df2d6e28414a23adceafd938f061ef": {
      "model_module": "@jupyter-widgets/controls",
      "model_module_version": "1.5.0",
      "model_name": "FloatProgressModel",
      "state": {
       "bar_style": "success",
       "layout": "IPY_MODEL_3e7a6f45f7714c90b28836b5d6c3ee0c",
       "style": "IPY_MODEL_f99be59ab4934b07a5ccc32e3e5130b4",
       "value": 100
      }
     },
     "c2e44af83a8049f6a226dea4ea31358b": {
      "model_module": "@jupyter-widgets/base",
      "model_module_version": "1.2.0",
      "model_name": "LayoutModel",
      "state": {}
     },
     "c2ef468241cb455196513a955e20b668": {
      "model_module": "@jupyter-widgets/base",
      "model_module_version": "1.2.0",
      "model_name": "LayoutModel",
      "state": {}
     },
     "c2f445d8ab5c45efa81aee0079f4373b": {
      "model_module": "@jupyter-widgets/controls",
      "model_module_version": "1.5.0",
      "model_name": "HBoxModel",
      "state": {
       "children": [
        "IPY_MODEL_5a320390fd0d44978ac1ddb5487ca6a0",
        "IPY_MODEL_4978aa49747c462f908fe0a7a72c337e",
        "IPY_MODEL_7d6a563266ba49e58f6f42f1cdb3c26e"
       ],
       "layout": "IPY_MODEL_c0d827316a8b41c5a3a7fe50bddee775"
      }
     },
     "c32884ded5cb4b49930854cd46b51ecd": {
      "model_module": "@jupyter-widgets/base",
      "model_module_version": "1.2.0",
      "model_name": "LayoutModel",
      "state": {}
     },
     "c331b52d546e4fc9ab6077091546df30": {
      "model_module": "@jupyter-widgets/controls",
      "model_module_version": "1.5.0",
      "model_name": "DescriptionStyleModel",
      "state": {
       "description_width": ""
      }
     },
     "c35a78b33a6d475dbf7c960eeedcb0e8": {
      "model_module": "@jupyter-widgets/base",
      "model_module_version": "1.2.0",
      "model_name": "LayoutModel",
      "state": {}
     },
     "c372fd55ffee4432b3cb258802aa93f7": {
      "model_module": "@jupyter-widgets/controls",
      "model_module_version": "1.5.0",
      "model_name": "HTMLModel",
      "state": {
       "layout": "IPY_MODEL_2b219734ba894474b6c14ebe93b6b14a",
       "style": "IPY_MODEL_758e5ca439c240be98e4ecd74afbc10a",
       "value": "100%"
      }
     },
     "c3783f5f40bc47608955dbf8989982f4": {
      "model_module": "@jupyter-widgets/base",
      "model_module_version": "1.2.0",
      "model_name": "LayoutModel",
      "state": {}
     },
     "c3a9c6cc65c94fc8b870d29514ee0824": {
      "model_module": "@jupyter-widgets/controls",
      "model_module_version": "1.5.0",
      "model_name": "DescriptionStyleModel",
      "state": {
       "description_width": ""
      }
     },
     "c3abb16e1da4433d8ff43f40a352f68f": {
      "model_module": "@jupyter-widgets/controls",
      "model_module_version": "1.5.0",
      "model_name": "HBoxModel",
      "state": {
       "children": [
        "IPY_MODEL_67c84f4131104b3b8268b8aa5777c4b6",
        "IPY_MODEL_b3d99930448d4ffe8af68e4dc4b3560e",
        "IPY_MODEL_417c7e15253e448e8f23af280968e0c6"
       ],
       "layout": "IPY_MODEL_5593e90a580f498ca5c9dac59cd4fe71"
      }
     },
     "c3b5bfe81b4c4cada8f905bb9783d677": {
      "model_module": "@jupyter-widgets/base",
      "model_module_version": "1.2.0",
      "model_name": "LayoutModel",
      "state": {}
     },
     "c3b9de749b2d4912869f3b55cbf70806": {
      "model_module": "@jupyter-widgets/controls",
      "model_module_version": "1.5.0",
      "model_name": "ProgressStyleModel",
      "state": {
       "description_width": ""
      }
     },
     "c3e20cf859ec4459b74fd463c311ecaa": {
      "model_module": "@jupyter-widgets/base",
      "model_module_version": "1.2.0",
      "model_name": "LayoutModel",
      "state": {}
     },
     "c40186b5ce71493883efd7a6b7fdd6c0": {
      "model_module": "@jupyter-widgets/controls",
      "model_module_version": "1.5.0",
      "model_name": "ProgressStyleModel",
      "state": {
       "description_width": ""
      }
     },
     "c423426fd6294bb4814e431c883d1649": {
      "model_module": "@jupyter-widgets/controls",
      "model_module_version": "1.5.0",
      "model_name": "DescriptionStyleModel",
      "state": {
       "description_width": ""
      }
     },
     "c4331298799c44e0b3bc397aef895144": {
      "model_module": "@jupyter-widgets/base",
      "model_module_version": "1.2.0",
      "model_name": "LayoutModel",
      "state": {}
     },
     "c440c039ae3e4e1da9030fba61279efd": {
      "model_module": "@jupyter-widgets/controls",
      "model_module_version": "1.5.0",
      "model_name": "FloatProgressModel",
      "state": {
       "bar_style": "success",
       "layout": "IPY_MODEL_c3b5bfe81b4c4cada8f905bb9783d677",
       "style": "IPY_MODEL_7b1cba46fbb2477c9c1cf722701cc360",
       "value": 100
      }
     },
     "c4761c0a69824fc1bfebb6c088ade846": {
      "model_module": "@jupyter-widgets/base",
      "model_module_version": "1.2.0",
      "model_name": "LayoutModel",
      "state": {}
     },
     "c48100b5cc8249a38fcd03008b8ec02b": {
      "model_module": "@jupyter-widgets/base",
      "model_module_version": "1.2.0",
      "model_name": "LayoutModel",
      "state": {}
     },
     "c487d81491a945e385cdc88cf634c977": {
      "model_module": "@jupyter-widgets/controls",
      "model_module_version": "1.5.0",
      "model_name": "FloatProgressModel",
      "state": {
       "bar_style": "success",
       "layout": "IPY_MODEL_2755e9eb748b429a9a8e5ea06572d795",
       "max": 1,
       "style": "IPY_MODEL_f5611890f22f4207bda3a8ae4bed9291",
       "value": 1
      }
     },
     "c4983a6db9234c56ac837edaeed5e0db": {
      "model_module": "@jupyter-widgets/controls",
      "model_module_version": "1.5.0",
      "model_name": "HBoxModel",
      "state": {
       "children": [
        "IPY_MODEL_f8a1d248189b407185612f7eee31639d",
        "IPY_MODEL_c67a35e132254c55b1fa7ec4b257cb16",
        "IPY_MODEL_6dd8fbd78a9d49869ba7bb97907c058e"
       ],
       "layout": "IPY_MODEL_797d4f38493542b1b83ba943566555bc"
      }
     },
     "c4acae96b58c430d98ab5cd826350849": {
      "model_module": "@jupyter-widgets/controls",
      "model_module_version": "1.5.0",
      "model_name": "FloatProgressModel",
      "state": {
       "bar_style": "success",
       "layout": "IPY_MODEL_f7d2b7bb49474741b1848aee2e4c63a3",
       "max": 1,
       "style": "IPY_MODEL_aaacebcdace141be8fe8405c11d20d34",
       "value": 1
      }
     },
     "c4c495930d4f44709b905794982b877f": {
      "model_module": "@jupyter-widgets/base",
      "model_module_version": "1.2.0",
      "model_name": "LayoutModel",
      "state": {}
     },
     "c4e34cf35fff49859eabbe82e83c1bfb": {
      "model_module": "@jupyter-widgets/base",
      "model_module_version": "1.2.0",
      "model_name": "LayoutModel",
      "state": {}
     },
     "c4f333d580e143d799e15e8d75bb3abc": {
      "model_module": "@jupyter-widgets/controls",
      "model_module_version": "1.5.0",
      "model_name": "HBoxModel",
      "state": {
       "children": [
        "IPY_MODEL_521074fb2139418c9835a50d6eb6903b",
        "IPY_MODEL_0c8db8b828f64f8c8797421b67a9d702",
        "IPY_MODEL_177cfb02893546628e081b2966f046a3"
       ],
       "layout": "IPY_MODEL_76455b8f8d3f4656b49b944982506cd6"
      }
     },
     "c4f3fb08a7c34b58a1ebef755390494e": {
      "model_module": "@jupyter-widgets/controls",
      "model_module_version": "1.5.0",
      "model_name": "FloatProgressModel",
      "state": {
       "bar_style": "success",
       "layout": "IPY_MODEL_8d0e260fac274b19be316f535ec8dc5a",
       "max": 1,
       "style": "IPY_MODEL_32ce73c3c2ec4d268f2bf45bbe5de059",
       "value": 1
      }
     },
     "c4febbb70ec443f6bb93a574221397dd": {
      "model_module": "@jupyter-widgets/base",
      "model_module_version": "1.2.0",
      "model_name": "LayoutModel",
      "state": {}
     },
     "c5328f4de6264d95b9074955843238d3": {
      "model_module": "@jupyter-widgets/base",
      "model_module_version": "1.2.0",
      "model_name": "LayoutModel",
      "state": {}
     },
     "c54460bc86fd4cd5b6a3b78ac6cfe2e5": {
      "model_module": "@jupyter-widgets/controls",
      "model_module_version": "1.5.0",
      "model_name": "ProgressStyleModel",
      "state": {
       "description_width": ""
      }
     },
     "c561fb695fb045aea231c66c923ea2ac": {
      "model_module": "@jupyter-widgets/base",
      "model_module_version": "1.2.0",
      "model_name": "LayoutModel",
      "state": {}
     },
     "c56a624ebc5246a08da6b8492945f768": {
      "model_module": "@jupyter-widgets/controls",
      "model_module_version": "1.5.0",
      "model_name": "ProgressStyleModel",
      "state": {
       "description_width": ""
      }
     },
     "c56e3990ce8e4f14af60416744a2dc56": {
      "model_module": "@jupyter-widgets/controls",
      "model_module_version": "1.5.0",
      "model_name": "FloatProgressModel",
      "state": {
       "bar_style": "success",
       "layout": "IPY_MODEL_9b2921de3ece4f31bc79bbcd7e50799f",
       "max": 1,
       "style": "IPY_MODEL_69b1ed2833f740c7999be75d673a4dd5",
       "value": 1
      }
     },
     "c572fc8104234e5cb4469f99da0ad851": {
      "model_module": "@jupyter-widgets/controls",
      "model_module_version": "1.5.0",
      "model_name": "FloatProgressModel",
      "state": {
       "bar_style": "success",
       "layout": "IPY_MODEL_86ed1f6cb61b482c9c0db41e87d93ce6",
       "max": 1,
       "style": "IPY_MODEL_bb99eb4800d34ebd815f9a4ee0e49a27",
       "value": 1
      }
     },
     "c57662ab56694f8fb3ce55e89f03afd6": {
      "model_module": "@jupyter-widgets/controls",
      "model_module_version": "1.5.0",
      "model_name": "HTMLModel",
      "state": {
       "layout": "IPY_MODEL_cb70357fb1da43e5b2a32342cfbb4d73",
       "style": "IPY_MODEL_6506d90c40dc487dbf7aa92de97fde28",
       "value": "100%"
      }
     },
     "c57dfa8482e94bbf82ea40c0776c28b7": {
      "model_module": "@jupyter-widgets/base",
      "model_module_version": "1.2.0",
      "model_name": "LayoutModel",
      "state": {}
     },
     "c5908cfc89a2470a8f4f477c0c9afc02": {
      "model_module": "@jupyter-widgets/base",
      "model_module_version": "1.2.0",
      "model_name": "LayoutModel",
      "state": {}
     },
     "c597dcd42eb34c3984a37ddd3c249219": {
      "model_module": "@jupyter-widgets/base",
      "model_module_version": "1.2.0",
      "model_name": "LayoutModel",
      "state": {}
     },
     "c59e810455d546b2abc01b7e7b1ed6fb": {
      "model_module": "@jupyter-widgets/base",
      "model_module_version": "1.2.0",
      "model_name": "LayoutModel",
      "state": {}
     },
     "c5ad92cd5243497fb72679be59155485": {
      "model_module": "@jupyter-widgets/controls",
      "model_module_version": "1.5.0",
      "model_name": "DescriptionStyleModel",
      "state": {
       "description_width": ""
      }
     },
     "c6035aeec2794fba9728362908ae3ea6": {
      "model_module": "@jupyter-widgets/controls",
      "model_module_version": "1.5.0",
      "model_name": "FloatProgressModel",
      "state": {
       "bar_style": "success",
       "layout": "IPY_MODEL_10793039d5c141e3b2965425f463d91e",
       "max": 1,
       "style": "IPY_MODEL_4f193009d0404b0394aa563f3bca0a0f",
       "value": 1
      }
     },
     "c6183d1ed7a542b4aae80a944adfee4f": {
      "model_module": "@jupyter-widgets/controls",
      "model_module_version": "1.5.0",
      "model_name": "DescriptionStyleModel",
      "state": {
       "description_width": ""
      }
     },
     "c61927871f974e1e8999c19b1959394a": {
      "model_module": "@jupyter-widgets/base",
      "model_module_version": "1.2.0",
      "model_name": "LayoutModel",
      "state": {}
     },
     "c64e637db6b34ebfac96e57f6de78547": {
      "model_module": "@jupyter-widgets/base",
      "model_module_version": "1.2.0",
      "model_name": "LayoutModel",
      "state": {}
     },
     "c651633249844ae0b540073b7a14a454": {
      "model_module": "@jupyter-widgets/controls",
      "model_module_version": "1.5.0",
      "model_name": "DescriptionStyleModel",
      "state": {
       "description_width": ""
      }
     },
     "c6771745bc33400ca49e6e145bb33aaa": {
      "model_module": "@jupyter-widgets/base",
      "model_module_version": "1.2.0",
      "model_name": "LayoutModel",
      "state": {}
     },
     "c67a35e132254c55b1fa7ec4b257cb16": {
      "model_module": "@jupyter-widgets/controls",
      "model_module_version": "1.5.0",
      "model_name": "FloatProgressModel",
      "state": {
       "bar_style": "success",
       "layout": "IPY_MODEL_d9b0567c0ee04eadae1a9b845614d93e",
       "style": "IPY_MODEL_7ff188cf6e094954aec7ed1bb75778fa",
       "value": 100
      }
     },
     "c69a2364149e4de6846df2aa947548f0": {
      "model_module": "@jupyter-widgets/controls",
      "model_module_version": "1.5.0",
      "model_name": "DescriptionStyleModel",
      "state": {
       "description_width": ""
      }
     },
     "c6abd231a139484498c879d3251a0da5": {
      "model_module": "@jupyter-widgets/controls",
      "model_module_version": "1.5.0",
      "model_name": "DescriptionStyleModel",
      "state": {
       "description_width": ""
      }
     },
     "c6bb66866c4248878cf157cd8cc5c5b5": {
      "model_module": "@jupyter-widgets/controls",
      "model_module_version": "1.5.0",
      "model_name": "FloatProgressModel",
      "state": {
       "bar_style": "success",
       "layout": "IPY_MODEL_39ede349be3740829b4d4f755634caaa",
       "max": 1,
       "style": "IPY_MODEL_5769d794652f4e4c884b38794d691506",
       "value": 1
      }
     },
     "c6e3facdb8ed493485f1931cbbd47900": {
      "model_module": "@jupyter-widgets/base",
      "model_module_version": "1.2.0",
      "model_name": "LayoutModel",
      "state": {}
     },
     "c6f066cd59974e87bfd65179d5da0d15": {
      "model_module": "@jupyter-widgets/controls",
      "model_module_version": "1.5.0",
      "model_name": "HTMLModel",
      "state": {
       "layout": "IPY_MODEL_c61927871f974e1e8999c19b1959394a",
       "style": "IPY_MODEL_a2ed38e287584fc6b063e2335164d48c",
       "value": " 1/1 [00:00&lt;00:00, 99.91it/s]"
      }
     },
     "c6fdcbfff1d942e095ef40ab81fc992d": {
      "model_module": "@jupyter-widgets/base",
      "model_module_version": "1.2.0",
      "model_name": "LayoutModel",
      "state": {}
     },
     "c70995378ca04e8d9f202014fed227c9": {
      "model_module": "@jupyter-widgets/base",
      "model_module_version": "1.2.0",
      "model_name": "LayoutModel",
      "state": {}
     },
     "c73c6529071c4750b8a0b1445c900336": {
      "model_module": "@jupyter-widgets/controls",
      "model_module_version": "1.5.0",
      "model_name": "HTMLModel",
      "state": {
       "layout": "IPY_MODEL_d270e05a36ec4f68ac581a8bf69d26b6",
       "style": "IPY_MODEL_9d8f88d8bb9b488baffc6c2e9532cf05",
       "value": "100%"
      }
     },
     "c751e713fdaf4b4c8e8e387cff9a0029": {
      "model_module": "@jupyter-widgets/base",
      "model_module_version": "1.2.0",
      "model_name": "LayoutModel",
      "state": {}
     },
     "c757a4559b5d4c80b3b6a584840e8c2d": {
      "model_module": "@jupyter-widgets/controls",
      "model_module_version": "1.5.0",
      "model_name": "DescriptionStyleModel",
      "state": {
       "description_width": ""
      }
     },
     "c75a64325b804dd6827174ef74650922": {
      "model_module": "@jupyter-widgets/base",
      "model_module_version": "1.2.0",
      "model_name": "LayoutModel",
      "state": {}
     },
     "c7a07a6832b64d47aa261baf6cfc12a7": {
      "model_module": "@jupyter-widgets/base",
      "model_module_version": "1.2.0",
      "model_name": "LayoutModel",
      "state": {}
     },
     "c7b121abe70c44ac9f17514a4532c1f4": {
      "model_module": "@jupyter-widgets/base",
      "model_module_version": "1.2.0",
      "model_name": "LayoutModel",
      "state": {}
     },
     "c7ccdb9e02f14534924f6605cd3aebd4": {
      "model_module": "@jupyter-widgets/controls",
      "model_module_version": "1.5.0",
      "model_name": "ProgressStyleModel",
      "state": {
       "description_width": ""
      }
     },
     "c7de0df7359b4eeea570f4933631ded4": {
      "model_module": "@jupyter-widgets/base",
      "model_module_version": "1.2.0",
      "model_name": "LayoutModel",
      "state": {}
     },
     "c7e241ad1fd1490fb576fbf1fc7d4e59": {
      "model_module": "@jupyter-widgets/controls",
      "model_module_version": "1.5.0",
      "model_name": "FloatProgressModel",
      "state": {
       "bar_style": "success",
       "layout": "IPY_MODEL_ce5ce125293c4fad8e12e48003d3236c",
       "max": 1,
       "style": "IPY_MODEL_a53770248cbc4cb3803e7eff1487c8d7",
       "value": 1
      }
     },
     "c7e733efae674736b53e2c27df5ac586": {
      "model_module": "@jupyter-widgets/controls",
      "model_module_version": "1.5.0",
      "model_name": "DescriptionStyleModel",
      "state": {
       "description_width": ""
      }
     },
     "c7f073d3ef934addbcdc25bb873db0bf": {
      "model_module": "@jupyter-widgets/controls",
      "model_module_version": "1.5.0",
      "model_name": "HTMLModel",
      "state": {
       "layout": "IPY_MODEL_a75af6d7958b4aa08e4a8b0ee0acd1e9",
       "style": "IPY_MODEL_08ea429401e548a781ef21ab15efeead",
       "value": " 1/1 [00:00&lt;00:00, 90.83it/s]"
      }
     },
     "c7ffa2a0ac52407d8c2163b0aeb0f32d": {
      "model_module": "@jupyter-widgets/base",
      "model_module_version": "1.2.0",
      "model_name": "LayoutModel",
      "state": {}
     },
     "c820557afa2b4dd4a288249b62c9513a": {
      "model_module": "@jupyter-widgets/controls",
      "model_module_version": "1.5.0",
      "model_name": "HTMLModel",
      "state": {
       "layout": "IPY_MODEL_f3696b43e1ba42568b02d14469536559",
       "style": "IPY_MODEL_7b7bbe28ca25407db60cd8fbbe7a1cf4",
       "value": "100%"
      }
     },
     "c82affaf6e4f452b971b9ccb38c93693": {
      "model_module": "@jupyter-widgets/controls",
      "model_module_version": "1.5.0",
      "model_name": "ProgressStyleModel",
      "state": {
       "description_width": ""
      }
     },
     "c8394c7d57ee433ab4630e8bc52b25ff": {
      "model_module": "@jupyter-widgets/controls",
      "model_module_version": "1.5.0",
      "model_name": "DescriptionStyleModel",
      "state": {
       "description_width": ""
      }
     },
     "c83b64f67c5d457c9c106a9ee7f03ca8": {
      "model_module": "@jupyter-widgets/controls",
      "model_module_version": "1.5.0",
      "model_name": "HTMLModel",
      "state": {
       "layout": "IPY_MODEL_58cdc9175cb842f6afa0094eb93a30bb",
       "style": "IPY_MODEL_ca24c4ee598f4faa93b320faf61e2a86",
       "value": "100%"
      }
     },
     "c83c166caf394a21b093f7cc3df8ace8": {
      "model_module": "@jupyter-widgets/controls",
      "model_module_version": "1.5.0",
      "model_name": "HTMLModel",
      "state": {
       "layout": "IPY_MODEL_e37e0bf4b2934552a0c54b8f22edbdc7",
       "style": "IPY_MODEL_8b239ab7b5cd438e9f9b2db863f98f5e",
       "value": " 1/1 [00:00&lt;00:00, 58.77it/s]"
      }
     },
     "c843e867de5c4a149c3db06c668047ff": {
      "model_module": "@jupyter-widgets/controls",
      "model_module_version": "1.5.0",
      "model_name": "DescriptionStyleModel",
      "state": {
       "description_width": ""
      }
     },
     "c849b6356d6f45b6bb963cb556c4a69a": {
      "model_module": "@jupyter-widgets/controls",
      "model_module_version": "1.5.0",
      "model_name": "HTMLModel",
      "state": {
       "layout": "IPY_MODEL_1ebb02c5a5d04f8b854a68be43ad654b",
       "style": "IPY_MODEL_cdd52ebe59ee43be8f7004c88d591870",
       "value": "100%"
      }
     },
     "c85ed3fcf0e847c9847fb4fb309d403c": {
      "model_module": "@jupyter-widgets/controls",
      "model_module_version": "1.5.0",
      "model_name": "FloatProgressModel",
      "state": {
       "bar_style": "success",
       "layout": "IPY_MODEL_76a0c7a9932d45e0a2a3d106c03d514b",
       "max": 1,
       "style": "IPY_MODEL_9546e3e2036748f188d94f8e0edfdc3a",
       "value": 1
      }
     },
     "c8ae496256b14c9f9e7de578ef53eb35": {
      "model_module": "@jupyter-widgets/controls",
      "model_module_version": "1.5.0",
      "model_name": "DescriptionStyleModel",
      "state": {
       "description_width": ""
      }
     },
     "c8b003948b684b1f945a4b752bd07324": {
      "model_module": "@jupyter-widgets/base",
      "model_module_version": "1.2.0",
      "model_name": "LayoutModel",
      "state": {}
     },
     "c8b5baa8260f47fbb8470428a3f328b1": {
      "model_module": "@jupyter-widgets/base",
      "model_module_version": "1.2.0",
      "model_name": "LayoutModel",
      "state": {}
     },
     "c905e08250a2448484d1824604975c82": {
      "model_module": "@jupyter-widgets/base",
      "model_module_version": "1.2.0",
      "model_name": "LayoutModel",
      "state": {}
     },
     "c925e737d9ee4e35b8de4ce1fb344b57": {
      "model_module": "@jupyter-widgets/controls",
      "model_module_version": "1.5.0",
      "model_name": "ProgressStyleModel",
      "state": {
       "description_width": ""
      }
     },
     "c946d02585a74d258e8cf5cd5734d2ca": {
      "model_module": "@jupyter-widgets/controls",
      "model_module_version": "1.5.0",
      "model_name": "DescriptionStyleModel",
      "state": {
       "description_width": ""
      }
     },
     "c96f4ae31b0a40238bfad702c736b2f6": {
      "model_module": "@jupyter-widgets/controls",
      "model_module_version": "1.5.0",
      "model_name": "HTMLModel",
      "state": {
       "layout": "IPY_MODEL_2f43f268b9cf455fb1026842cffe119c",
       "style": "IPY_MODEL_daa2500faa444e15a4b660fbfa16c798",
       "value": "100%"
      }
     },
     "c9942ede7e254ac7ace296ad408c6f34": {
      "model_module": "@jupyter-widgets/controls",
      "model_module_version": "1.5.0",
      "model_name": "DescriptionStyleModel",
      "state": {
       "description_width": ""
      }
     },
     "c99a210fb5d043e8808130f0853608ad": {
      "model_module": "@jupyter-widgets/controls",
      "model_module_version": "1.5.0",
      "model_name": "DescriptionStyleModel",
      "state": {
       "description_width": ""
      }
     },
     "c9cf44ab45d649f29d7bad979546fef2": {
      "model_module": "@jupyter-widgets/controls",
      "model_module_version": "1.5.0",
      "model_name": "HTMLModel",
      "state": {
       "layout": "IPY_MODEL_fc22016860154466ad218186aa2f12fa",
       "style": "IPY_MODEL_b7681792408246b8b1a37e363be278e0",
       "value": " 1/1 [00:00&lt;00:00, 111.00it/s]"
      }
     },
     "c9d49d19888a4ac39e87062ba3d9e4dd": {
      "model_module": "@jupyter-widgets/controls",
      "model_module_version": "1.5.0",
      "model_name": "FloatProgressModel",
      "state": {
       "bar_style": "success",
       "layout": "IPY_MODEL_2f7d7ac7b92e4e34b78e901968e7fc87",
       "style": "IPY_MODEL_66f7e11f92494f6699d9cb07daf433f2",
       "value": 100
      }
     },
     "c9f1bda7f5aa4385bf4afe7fbeffc53f": {
      "model_module": "@jupyter-widgets/controls",
      "model_module_version": "1.5.0",
      "model_name": "ProgressStyleModel",
      "state": {
       "description_width": ""
      }
     },
     "ca1e1ceac0184e33b51777f383cba35c": {
      "model_module": "@jupyter-widgets/controls",
      "model_module_version": "1.5.0",
      "model_name": "DescriptionStyleModel",
      "state": {
       "description_width": ""
      }
     },
     "ca24c4ee598f4faa93b320faf61e2a86": {
      "model_module": "@jupyter-widgets/controls",
      "model_module_version": "1.5.0",
      "model_name": "DescriptionStyleModel",
      "state": {
       "description_width": ""
      }
     },
     "ca3e555284a2488583d21e666bcc0a00": {
      "model_module": "@jupyter-widgets/controls",
      "model_module_version": "1.5.0",
      "model_name": "ProgressStyleModel",
      "state": {
       "description_width": ""
      }
     },
     "ca4e95ccfdf14f4c8a5548b4ac8bf73b": {
      "model_module": "@jupyter-widgets/controls",
      "model_module_version": "1.5.0",
      "model_name": "HTMLModel",
      "state": {
       "layout": "IPY_MODEL_acbebb87b13d4b55ae87bd2032387347",
       "style": "IPY_MODEL_af0b051277a943b9812f3bcbdaae2fb9",
       "value": "100%"
      }
     },
     "ca4eeaedbf424f408415a268fbe883b2": {
      "model_module": "@jupyter-widgets/controls",
      "model_module_version": "1.5.0",
      "model_name": "HBoxModel",
      "state": {
       "children": [
        "IPY_MODEL_52bc191b20f3452da627344b890af856",
        "IPY_MODEL_83ae73031bea4a4aa2455f5b21034451",
        "IPY_MODEL_6d3e0bcfaa484386a5b6164b93103e69"
       ],
       "layout": "IPY_MODEL_02042fb61f5742acb688ccfb19121429"
      }
     },
     "ca4fbaece73f480d9ead7a96aeb19176": {
      "model_module": "@jupyter-widgets/controls",
      "model_module_version": "1.5.0",
      "model_name": "FloatProgressModel",
      "state": {
       "bar_style": "success",
       "layout": "IPY_MODEL_05bbb427296e4039b697ba41474ec667",
       "max": 1,
       "style": "IPY_MODEL_782c6dbe0e544679824a5dcceb4aac8d",
       "value": 1
      }
     },
     "ca69adc159da498dbf6f7e3925ad8875": {
      "model_module": "@jupyter-widgets/base",
      "model_module_version": "1.2.0",
      "model_name": "LayoutModel",
      "state": {}
     },
     "cac3b404379c46839f910b60871e218b": {
      "model_module": "@jupyter-widgets/controls",
      "model_module_version": "1.5.0",
      "model_name": "HTMLModel",
      "state": {
       "layout": "IPY_MODEL_a2636dd32afb4fa683a711166978a06d",
       "style": "IPY_MODEL_5b16e9f910cc4062bcea8e44893c911a",
       "value": "100%"
      }
     },
     "cad4d7bed9e0437789e7a9a6095288e0": {
      "model_module": "@jupyter-widgets/controls",
      "model_module_version": "1.5.0",
      "model_name": "HBoxModel",
      "state": {
       "children": [
        "IPY_MODEL_fa702f277c7c4afdb7deba3a2b19e46b",
        "IPY_MODEL_b28620fa37894d1591a958d796e5cda6",
        "IPY_MODEL_ef081e34959a483fb2d49b4a8621cbec"
       ],
       "layout": "IPY_MODEL_34e27148c49a4be0b3c6142094e363a9"
      }
     },
     "cadf01c74c184bfcb8b686b45c107f3a": {
      "model_module": "@jupyter-widgets/controls",
      "model_module_version": "1.5.0",
      "model_name": "DescriptionStyleModel",
      "state": {
       "description_width": ""
      }
     },
     "caecb179c129411e8c3f76a9fe10b020": {
      "model_module": "@jupyter-widgets/controls",
      "model_module_version": "1.5.0",
      "model_name": "HTMLModel",
      "state": {
       "layout": "IPY_MODEL_0722a76b78554bc7a5bdb89fa2cf29a8",
       "style": "IPY_MODEL_986cef2690334c86a2a011f8419567bb",
       "value": " 100/100 [12:19&lt;00:00,  7.40s/it]"
      }
     },
     "cb091c5224894e969564c7bcb29866c6": {
      "model_module": "@jupyter-widgets/base",
      "model_module_version": "1.2.0",
      "model_name": "LayoutModel",
      "state": {}
     },
     "cb2506c7cd68449986e0ba85201f644a": {
      "model_module": "@jupyter-widgets/base",
      "model_module_version": "1.2.0",
      "model_name": "LayoutModel",
      "state": {}
     },
     "cb4a38969e8e4aa7a8ae4c2edfc7228e": {
      "model_module": "@jupyter-widgets/controls",
      "model_module_version": "1.5.0",
      "model_name": "DescriptionStyleModel",
      "state": {
       "description_width": ""
      }
     },
     "cb4c6c0ae4ae4c2ea01004831d35edea": {
      "model_module": "@jupyter-widgets/controls",
      "model_module_version": "1.5.0",
      "model_name": "HTMLModel",
      "state": {
       "layout": "IPY_MODEL_e5a5312a1de44bde834415cbaa9307ba",
       "style": "IPY_MODEL_008313abfbf1470f8b627ab4d3268e4a",
       "value": "100%"
      }
     },
     "cb63098c45a342e9b0b01805e32e8fc2": {
      "model_module": "@jupyter-widgets/base",
      "model_module_version": "1.2.0",
      "model_name": "LayoutModel",
      "state": {}
     },
     "cb70357fb1da43e5b2a32342cfbb4d73": {
      "model_module": "@jupyter-widgets/base",
      "model_module_version": "1.2.0",
      "model_name": "LayoutModel",
      "state": {}
     },
     "cb795fd9a15f4c64a9fe59d3554c4da0": {
      "model_module": "@jupyter-widgets/controls",
      "model_module_version": "1.5.0",
      "model_name": "HBoxModel",
      "state": {
       "children": [
        "IPY_MODEL_5ddb72d005bd44b8a11e705ddc0cdc10",
        "IPY_MODEL_1d31513ad2844b768be7cd87f8b952c9",
        "IPY_MODEL_07a6626fc1504fae8f239e705ace45d3"
       ],
       "layout": "IPY_MODEL_cf4d63d3f5aa4a7aade7425c9b9fc6ee"
      }
     },
     "cb8273adfa334cf0aa516319665c2beb": {
      "model_module": "@jupyter-widgets/base",
      "model_module_version": "1.2.0",
      "model_name": "LayoutModel",
      "state": {}
     },
     "cb994854a5ed409993b964473d0e5d9a": {
      "model_module": "@jupyter-widgets/base",
      "model_module_version": "1.2.0",
      "model_name": "LayoutModel",
      "state": {}
     },
     "cbac0f3edf214670a1206dab8d92cbb2": {
      "model_module": "@jupyter-widgets/controls",
      "model_module_version": "1.5.0",
      "model_name": "HBoxModel",
      "state": {
       "children": [
        "IPY_MODEL_7e968da2512e47a19e9806e5a7506e3d",
        "IPY_MODEL_edcdfed5fffc443292066ef393df6300",
        "IPY_MODEL_a431fbeaeff44838af489318c3f3ddb0"
       ],
       "layout": "IPY_MODEL_12885f3fea6e40fe8c7babc382a35856"
      }
     },
     "cbb3622a707745edb1d167fdabdd16a2": {
      "model_module": "@jupyter-widgets/controls",
      "model_module_version": "1.5.0",
      "model_name": "HTMLModel",
      "state": {
       "layout": "IPY_MODEL_bf2c0fd50f8241e6b14d5ed1157a6309",
       "style": "IPY_MODEL_972ec45ca0b54cf0bffc8f9b5fff83b6",
       "value": " 1/1 [00:00&lt;00:00, 83.26it/s]"
      }
     },
     "cbd8c19bd51f42c48e57a31bfb1f7ea0": {
      "model_module": "@jupyter-widgets/controls",
      "model_module_version": "1.5.0",
      "model_name": "HBoxModel",
      "state": {
       "children": [
        "IPY_MODEL_5662fcb273b44a6f8ffa37a22975dd40",
        "IPY_MODEL_6249098963184a3da844c8ca04c25b02",
        "IPY_MODEL_5bf652a7eef449769fed9b556fb0350f"
       ],
       "layout": "IPY_MODEL_a8692669c7b4424b81fd9e78fb53ad61"
      }
     },
     "cbea8dc3c3e046f799cdd3e3acbff3b9": {
      "model_module": "@jupyter-widgets/controls",
      "model_module_version": "1.5.0",
      "model_name": "HBoxModel",
      "state": {
       "children": [
        "IPY_MODEL_e0366679e8174cefab786b4e1454dc78",
        "IPY_MODEL_b053e79e05184e32b55796e7ca9be4a6",
        "IPY_MODEL_a91525ce54c94ff19349777681a06f7f"
       ],
       "layout": "IPY_MODEL_54ff691aaf394ae78b3b2b4f09407623"
      }
     },
     "cc0b82c2c6164acca2363a9fff7c38dc": {
      "model_module": "@jupyter-widgets/controls",
      "model_module_version": "1.5.0",
      "model_name": "HTMLModel",
      "state": {
       "layout": "IPY_MODEL_962b8271237d4a17ada15d928ae45bd5",
       "style": "IPY_MODEL_b7c98c68fa75439f8de6fee75344764a",
       "value": "100%"
      }
     },
     "cc1247f3d9cc40d2832e685b8d15617d": {
      "model_module": "@jupyter-widgets/controls",
      "model_module_version": "1.5.0",
      "model_name": "FloatProgressModel",
      "state": {
       "bar_style": "success",
       "layout": "IPY_MODEL_6581124b23384effb80b0e665c618677",
       "max": 1,
       "style": "IPY_MODEL_821c4d4f444145678084af9404e932f9",
       "value": 1
      }
     },
     "cc1f0c03777144019448cc4dc60de08c": {
      "model_module": "@jupyter-widgets/base",
      "model_module_version": "1.2.0",
      "model_name": "LayoutModel",
      "state": {}
     },
     "cc684712015342ab983ab29da585ba42": {
      "model_module": "@jupyter-widgets/controls",
      "model_module_version": "1.5.0",
      "model_name": "HBoxModel",
      "state": {
       "children": [
        "IPY_MODEL_88df3505db4843e5ab91b36a31cd1691",
        "IPY_MODEL_3bc4ea54e32d43ab911bf384ce274222",
        "IPY_MODEL_4672323a8b814184903cd8620d4a7f75"
       ],
       "layout": "IPY_MODEL_426f0f2ac5524c8a8b43657967666cbf"
      }
     },
     "ccb3a15d06ee438eb0c83ce4e20b77f9": {
      "model_module": "@jupyter-widgets/controls",
      "model_module_version": "1.5.0",
      "model_name": "DescriptionStyleModel",
      "state": {
       "description_width": ""
      }
     },
     "ccecc9ef730740b6b5ed2d88a8d3e57c": {
      "model_module": "@jupyter-widgets/controls",
      "model_module_version": "1.5.0",
      "model_name": "HBoxModel",
      "state": {
       "children": [
        "IPY_MODEL_d0b2278956854bf896727daf287716d9",
        "IPY_MODEL_25c140c67b5f47989a26b34a40347ccf",
        "IPY_MODEL_ad6a0fcefc244587ad96d64b8f587c5f"
       ],
       "layout": "IPY_MODEL_3a327aa1af8c4de3b3b119a3a359dbc9"
      }
     },
     "ccee27ba01b849e8938f36c90a5f94ec": {
      "model_module": "@jupyter-widgets/controls",
      "model_module_version": "1.5.0",
      "model_name": "DescriptionStyleModel",
      "state": {
       "description_width": ""
      }
     },
     "cd5bec3e4241433195bfb500b6ec71f3": {
      "model_module": "@jupyter-widgets/controls",
      "model_module_version": "1.5.0",
      "model_name": "DescriptionStyleModel",
      "state": {
       "description_width": ""
      }
     },
     "cd6a0f01840c4fc8aa9febfcf0bc083d": {
      "model_module": "@jupyter-widgets/controls",
      "model_module_version": "1.5.0",
      "model_name": "FloatProgressModel",
      "state": {
       "bar_style": "success",
       "layout": "IPY_MODEL_bcf3daddf15548c7b4c442e02c550055",
       "max": 1,
       "style": "IPY_MODEL_223ac58f127d49ad922c63395a32c996",
       "value": 1
      }
     },
     "cd6d19d0f2d0458db34c0b0a249567c2": {
      "model_module": "@jupyter-widgets/controls",
      "model_module_version": "1.5.0",
      "model_name": "HTMLModel",
      "state": {
       "layout": "IPY_MODEL_c64e637db6b34ebfac96e57f6de78547",
       "style": "IPY_MODEL_41474330b2ae4f6bb368aa51c45d2344",
       "value": "100%"
      }
     },
     "cd80b4e1ba754f808b020147b9c2af14": {
      "model_module": "@jupyter-widgets/base",
      "model_module_version": "1.2.0",
      "model_name": "LayoutModel",
      "state": {}
     },
     "cd872763615343ac903ef5573625da0f": {
      "model_module": "@jupyter-widgets/controls",
      "model_module_version": "1.5.0",
      "model_name": "DescriptionStyleModel",
      "state": {
       "description_width": ""
      }
     },
     "cd9718f510ba411a8ba8cc73e854a223": {
      "model_module": "@jupyter-widgets/base",
      "model_module_version": "1.2.0",
      "model_name": "LayoutModel",
      "state": {}
     },
     "cd9f81edafc748f2bec096e0fb4943a3": {
      "model_module": "@jupyter-widgets/base",
      "model_module_version": "1.2.0",
      "model_name": "LayoutModel",
      "state": {}
     },
     "cdccc7e526f9494e8c11a9875872913f": {
      "model_module": "@jupyter-widgets/controls",
      "model_module_version": "1.5.0",
      "model_name": "HBoxModel",
      "state": {
       "children": [
        "IPY_MODEL_f0b0572ff32e4b3fa5c40021c2f1408e",
        "IPY_MODEL_ed5a295e12744b7db254dd658d27ed8a",
        "IPY_MODEL_d2d827e1aa2a4f6da3a85ec575154625"
       ],
       "layout": "IPY_MODEL_407f93d9a0b84ca8bda51465d0c09301"
      }
     },
     "cdd52ebe59ee43be8f7004c88d591870": {
      "model_module": "@jupyter-widgets/controls",
      "model_module_version": "1.5.0",
      "model_name": "DescriptionStyleModel",
      "state": {
       "description_width": ""
      }
     },
     "ce0160feeb024032b577021e8e0b0c09": {
      "model_module": "@jupyter-widgets/base",
      "model_module_version": "1.2.0",
      "model_name": "LayoutModel",
      "state": {}
     },
     "ce2a5a7919744302b123fdd772e39ebf": {
      "model_module": "@jupyter-widgets/base",
      "model_module_version": "1.2.0",
      "model_name": "LayoutModel",
      "state": {}
     },
     "ce4a53ea545542e1b0b06459690e0a85": {
      "model_module": "@jupyter-widgets/controls",
      "model_module_version": "1.5.0",
      "model_name": "DescriptionStyleModel",
      "state": {
       "description_width": ""
      }
     },
     "ce559e0e06934eb1b4903d0f8ddacd99": {
      "model_module": "@jupyter-widgets/controls",
      "model_module_version": "1.5.0",
      "model_name": "HTMLModel",
      "state": {
       "layout": "IPY_MODEL_f05dcb32c58f407fa4f91aad501ac284",
       "style": "IPY_MODEL_b261309593aa4d34b6cbb9959d1d0f2a",
       "value": " 100/100 [12:24&lt;00:00,  7.45s/it]"
      }
     },
     "ce5ce125293c4fad8e12e48003d3236c": {
      "model_module": "@jupyter-widgets/base",
      "model_module_version": "1.2.0",
      "model_name": "LayoutModel",
      "state": {}
     },
     "ce90fc0982a145569ded8ac3b90e68a2": {
      "model_module": "@jupyter-widgets/controls",
      "model_module_version": "1.5.0",
      "model_name": "DescriptionStyleModel",
      "state": {
       "description_width": ""
      }
     },
     "ceb51a1f65a74f76a9f25c514eb1fe05": {
      "model_module": "@jupyter-widgets/base",
      "model_module_version": "1.2.0",
      "model_name": "LayoutModel",
      "state": {}
     },
     "cebb92d4bb0048738d61e16c613848a9": {
      "model_module": "@jupyter-widgets/controls",
      "model_module_version": "1.5.0",
      "model_name": "DescriptionStyleModel",
      "state": {
       "description_width": ""
      }
     },
     "cec4d86c2ea64f5fb39738eb6bc57461": {
      "model_module": "@jupyter-widgets/controls",
      "model_module_version": "1.5.0",
      "model_name": "DescriptionStyleModel",
      "state": {
       "description_width": ""
      }
     },
     "cec87f7a88eb4843a3c21a653d86efa9": {
      "model_module": "@jupyter-widgets/base",
      "model_module_version": "1.2.0",
      "model_name": "LayoutModel",
      "state": {}
     },
     "cee40115444f4d52a638bc419c8cf2ad": {
      "model_module": "@jupyter-widgets/base",
      "model_module_version": "1.2.0",
      "model_name": "LayoutModel",
      "state": {}
     },
     "cee670b8e86840e59c8496b36f614771": {
      "model_module": "@jupyter-widgets/controls",
      "model_module_version": "1.5.0",
      "model_name": "ProgressStyleModel",
      "state": {
       "description_width": ""
      }
     },
     "cf24d9349424442ab69af64d70f1d13a": {
      "model_module": "@jupyter-widgets/controls",
      "model_module_version": "1.5.0",
      "model_name": "DescriptionStyleModel",
      "state": {
       "description_width": ""
      }
     },
     "cf40e562651146b9829f6c170bb11d95": {
      "model_module": "@jupyter-widgets/controls",
      "model_module_version": "1.5.0",
      "model_name": "HTMLModel",
      "state": {
       "layout": "IPY_MODEL_9f435c227f004938a45ce12ce3b22162",
       "style": "IPY_MODEL_195f7885df14436fb08f4516dd3a1aa1",
       "value": "100%"
      }
     },
     "cf4d63d3f5aa4a7aade7425c9b9fc6ee": {
      "model_module": "@jupyter-widgets/base",
      "model_module_version": "1.2.0",
      "model_name": "LayoutModel",
      "state": {}
     },
     "cf6919d376934294804f76db3c1539e6": {
      "model_module": "@jupyter-widgets/controls",
      "model_module_version": "1.5.0",
      "model_name": "HTMLModel",
      "state": {
       "layout": "IPY_MODEL_d1b352f55a714d42851ba4592f086278",
       "style": "IPY_MODEL_11bee762bc8446b298c878aae7a5acd0",
       "value": " 1/1 [00:00&lt;00:00, 58.77it/s]"
      }
     },
     "cf6bfbe637224941b3a92814a1f0137b": {
      "model_module": "@jupyter-widgets/base",
      "model_module_version": "1.2.0",
      "model_name": "LayoutModel",
      "state": {}
     },
     "cf8556f1f6b54d86a0fdcbf9b7d55221": {
      "model_module": "@jupyter-widgets/controls",
      "model_module_version": "1.5.0",
      "model_name": "DescriptionStyleModel",
      "state": {
       "description_width": ""
      }
     },
     "cfa7f90dd79b4fa28c8996de2ce39a98": {
      "model_module": "@jupyter-widgets/controls",
      "model_module_version": "1.5.0",
      "model_name": "FloatProgressModel",
      "state": {
       "bar_style": "success",
       "layout": "IPY_MODEL_6650d787cffb43c8b7adc52926890140",
       "max": 1,
       "style": "IPY_MODEL_0100a378a6a3411382566bf606f15047",
       "value": 1
      }
     },
     "cfb304954ef74023a7869daf628e6a54": {
      "model_module": "@jupyter-widgets/controls",
      "model_module_version": "1.5.0",
      "model_name": "DescriptionStyleModel",
      "state": {
       "description_width": ""
      }
     },
     "cfbda5f6764745b9918739701bc101d7": {
      "model_module": "@jupyter-widgets/controls",
      "model_module_version": "1.5.0",
      "model_name": "HBoxModel",
      "state": {
       "children": [
        "IPY_MODEL_918f937326db4ac7b6cd3e6433b4b347",
        "IPY_MODEL_4478b63215834f96847e810d81b52acf",
        "IPY_MODEL_bf5ed15c9e0e4cf487c9cb3675af5eaf"
       ],
       "layout": "IPY_MODEL_0aecf864ddbb4387bb3931e61b0469c7"
      }
     },
     "d005b214a7fe41e19f64f0db560f16e1": {
      "model_module": "@jupyter-widgets/controls",
      "model_module_version": "1.5.0",
      "model_name": "DescriptionStyleModel",
      "state": {
       "description_width": ""
      }
     },
     "d01aa806c6fd409e951ee0fcd1227f2e": {
      "model_module": "@jupyter-widgets/controls",
      "model_module_version": "1.5.0",
      "model_name": "ProgressStyleModel",
      "state": {
       "description_width": ""
      }
     },
     "d01f2de7a858426fb243dba4c3bf3eeb": {
      "model_module": "@jupyter-widgets/controls",
      "model_module_version": "1.5.0",
      "model_name": "DescriptionStyleModel",
      "state": {
       "description_width": ""
      }
     },
     "d0455dcadfe944a99aed86adbb8a8e55": {
      "model_module": "@jupyter-widgets/controls",
      "model_module_version": "1.5.0",
      "model_name": "HBoxModel",
      "state": {
       "children": [
        "IPY_MODEL_94ccdf5f53a84270b121b7c8cbb33497",
        "IPY_MODEL_89cf490a597347a6a352288df37201f0",
        "IPY_MODEL_1137756f25a5431a91fb2282c90f553f"
       ],
       "layout": "IPY_MODEL_689f93d849ba4e46878fe4e1f99ba04e"
      }
     },
     "d06a9efdda67498a837bfef275f22615": {
      "model_module": "@jupyter-widgets/base",
      "model_module_version": "1.2.0",
      "model_name": "LayoutModel",
      "state": {}
     },
     "d0b2278956854bf896727daf287716d9": {
      "model_module": "@jupyter-widgets/controls",
      "model_module_version": "1.5.0",
      "model_name": "HTMLModel",
      "state": {
       "layout": "IPY_MODEL_ec7f1af5f5404a0cb0192a85c968e04e",
       "style": "IPY_MODEL_cfb304954ef74023a7869daf628e6a54",
       "value": "100%"
      }
     },
     "d0e977601c7b4a3aaadc81221ea1850c": {
      "model_module": "@jupyter-widgets/controls",
      "model_module_version": "1.5.0",
      "model_name": "ProgressStyleModel",
      "state": {
       "description_width": ""
      }
     },
     "d0f7fc93930442e19f65d947a6fdc957": {
      "model_module": "@jupyter-widgets/controls",
      "model_module_version": "1.5.0",
      "model_name": "DescriptionStyleModel",
      "state": {
       "description_width": ""
      }
     },
     "d0f8442e70dd475e888e6c102715b9f1": {
      "model_module": "@jupyter-widgets/controls",
      "model_module_version": "1.5.0",
      "model_name": "HTMLModel",
      "state": {
       "layout": "IPY_MODEL_2619ebb4ef204afe914ca44fe3a470f4",
       "style": "IPY_MODEL_06e58ce710d94d57a76fed1606e55c7d",
       "value": " 100/100 [16:50&lt;00:00, 14.21s/it]"
      }
     },
     "d1135640c3ee4a4fa427a74eed4f6291": {
      "model_module": "@jupyter-widgets/controls",
      "model_module_version": "1.5.0",
      "model_name": "FloatProgressModel",
      "state": {
       "bar_style": "success",
       "layout": "IPY_MODEL_488c10c18b884294ab4bdb73970e40c1",
       "style": "IPY_MODEL_9289c66bfcb34a47a69113d6f55b1fd8",
       "value": 100
      }
     },
     "d11f90ecc6254378865a05205960aa4a": {
      "model_module": "@jupyter-widgets/base",
      "model_module_version": "1.2.0",
      "model_name": "LayoutModel",
      "state": {}
     },
     "d129a10295c54f91af578457bb4e1081": {
      "model_module": "@jupyter-widgets/base",
      "model_module_version": "1.2.0",
      "model_name": "LayoutModel",
      "state": {}
     },
     "d145af4f994c4953a5a07989c05e3ba4": {
      "model_module": "@jupyter-widgets/controls",
      "model_module_version": "1.5.0",
      "model_name": "DescriptionStyleModel",
      "state": {
       "description_width": ""
      }
     },
     "d16374fe48f147458f61b73c638e6ede": {
      "model_module": "@jupyter-widgets/base",
      "model_module_version": "1.2.0",
      "model_name": "LayoutModel",
      "state": {}
     },
     "d18b6c3b01624340bda69e116426caeb": {
      "model_module": "@jupyter-widgets/controls",
      "model_module_version": "1.5.0",
      "model_name": "HBoxModel",
      "state": {
       "children": [
        "IPY_MODEL_d5f2b2dbd00f4d63b47201c924259bd1",
        "IPY_MODEL_c226793f5d2c47ee9babeb5f64ee0cbe",
        "IPY_MODEL_adb8ccb56ceb4d2f8b7400e203643bc3"
       ],
       "layout": "IPY_MODEL_bd4b9c6d3b0f4c009333fe145a97df6b"
      }
     },
     "d1a964c67e854268a675c6eff06060ca": {
      "model_module": "@jupyter-widgets/controls",
      "model_module_version": "1.5.0",
      "model_name": "FloatProgressModel",
      "state": {
       "bar_style": "success",
       "layout": "IPY_MODEL_2b15c840476c4aad921edf8150c9de76",
       "max": 1,
       "style": "IPY_MODEL_48c7c7927c4342d4987d8782d3a6f401",
       "value": 1
      }
     },
     "d1a97130ee4b4d17abfc39ebbe45711e": {
      "model_module": "@jupyter-widgets/controls",
      "model_module_version": "1.5.0",
      "model_name": "DescriptionStyleModel",
      "state": {
       "description_width": ""
      }
     },
     "d1afb37eb1ad4af888454709f62e39e9": {
      "model_module": "@jupyter-widgets/controls",
      "model_module_version": "1.5.0",
      "model_name": "HTMLModel",
      "state": {
       "layout": "IPY_MODEL_194ed1434a4a4b8a8e3aa49e20169e30",
       "style": "IPY_MODEL_b31683ec1cc743e2800269f2880be787",
       "value": " 100/100 [10:25&lt;00:00,  6.25s/it]"
      }
     },
     "d1b352f55a714d42851ba4592f086278": {
      "model_module": "@jupyter-widgets/base",
      "model_module_version": "1.2.0",
      "model_name": "LayoutModel",
      "state": {}
     },
     "d20827edba5d4c508d0fc7b4e2ef5043": {
      "model_module": "@jupyter-widgets/controls",
      "model_module_version": "1.5.0",
      "model_name": "HTMLModel",
      "state": {
       "layout": "IPY_MODEL_2478f79764ab454f9bde6c9b97f098f1",
       "style": "IPY_MODEL_efc983d367c54351be4bce4dfdd21acf",
       "value": "100%"
      }
     },
     "d2269d3d30ea461bb31d56ba10b6e15a": {
      "model_module": "@jupyter-widgets/controls",
      "model_module_version": "1.5.0",
      "model_name": "ProgressStyleModel",
      "state": {
       "description_width": ""
      }
     },
     "d24289a07a26421692f159d44a1cc383": {
      "model_module": "@jupyter-widgets/base",
      "model_module_version": "1.2.0",
      "model_name": "LayoutModel",
      "state": {}
     },
     "d25b46597c9f4bafb47e0ab880f127b3": {
      "model_module": "@jupyter-widgets/base",
      "model_module_version": "1.2.0",
      "model_name": "LayoutModel",
      "state": {}
     },
     "d2641508f5c44348845f3194d1a8cb47": {
      "model_module": "@jupyter-widgets/base",
      "model_module_version": "1.2.0",
      "model_name": "LayoutModel",
      "state": {}
     },
     "d270e05a36ec4f68ac581a8bf69d26b6": {
      "model_module": "@jupyter-widgets/base",
      "model_module_version": "1.2.0",
      "model_name": "LayoutModel",
      "state": {}
     },
     "d28b4d8988004e35be2c91a9264addfd": {
      "model_module": "@jupyter-widgets/controls",
      "model_module_version": "1.5.0",
      "model_name": "HTMLModel",
      "state": {
       "layout": "IPY_MODEL_6be7b194adc74da4b73b965a9d3bde78",
       "style": "IPY_MODEL_59bde954f73e4dd7904261b671fed0fc",
       "value": " 1/1 [00:00&lt;00:00, 41.63it/s]"
      }
     },
     "d2a89051542547158a467278af208e5d": {
      "model_module": "@jupyter-widgets/controls",
      "model_module_version": "1.5.0",
      "model_name": "HTMLModel",
      "state": {
       "layout": "IPY_MODEL_1843ba963fc24f939471415f68687197",
       "style": "IPY_MODEL_69537a5c55b74f74b08e9e5e2c52bec2",
       "value": " 100/100 [06:03&lt;00:00,  2.72s/it]"
      }
     },
     "d2b8c25e1bcf4216b123dbff59a4b0c1": {
      "model_module": "@jupyter-widgets/base",
      "model_module_version": "1.2.0",
      "model_name": "LayoutModel",
      "state": {}
     },
     "d2be1d7a178143909f486dbb23045773": {
      "model_module": "@jupyter-widgets/controls",
      "model_module_version": "1.5.0",
      "model_name": "HBoxModel",
      "state": {
       "children": [
        "IPY_MODEL_ae5f400250e1427db432e78e934b4d35",
        "IPY_MODEL_0c96d56c16524cc1b2fc2f7d9bee2627",
        "IPY_MODEL_918f30443ac84850a515513e8cbd1c76"
       ],
       "layout": "IPY_MODEL_75520f09b4ed4dcf9bb26887e5dc6d47"
      }
     },
     "d2c24999a463457f9630ef2deb359c94": {
      "model_module": "@jupyter-widgets/controls",
      "model_module_version": "1.5.0",
      "model_name": "HTMLModel",
      "state": {
       "layout": "IPY_MODEL_027f2aaac6d645e2b671eb164263c4bf",
       "style": "IPY_MODEL_f558f111dd9046608c78b99cdbffe3c0",
       "value": " 2940/13243 [00:03&lt;00:12, 831.98ba/s]"
      }
     },
     "d2d7d200f2a84ae5bd91a65923673187": {
      "model_module": "@jupyter-widgets/controls",
      "model_module_version": "1.5.0",
      "model_name": "DescriptionStyleModel",
      "state": {
       "description_width": ""
      }
     },
     "d2d827e1aa2a4f6da3a85ec575154625": {
      "model_module": "@jupyter-widgets/controls",
      "model_module_version": "1.5.0",
      "model_name": "HTMLModel",
      "state": {
       "layout": "IPY_MODEL_95b12a105e014be9846a489ea696a004",
       "style": "IPY_MODEL_6fda593a7648472da0fef06f61451d2e",
       "value": " 100/100 [11:33&lt;00:00,  5.20s/it]"
      }
     },
     "d2df695d9f4c4401864c167df7b195a0": {
      "model_module": "@jupyter-widgets/base",
      "model_module_version": "1.2.0",
      "model_name": "LayoutModel",
      "state": {}
     },
     "d2dfd0ecb9c84a5e990ddc94a6d4519d": {
      "model_module": "@jupyter-widgets/controls",
      "model_module_version": "1.5.0",
      "model_name": "HTMLModel",
      "state": {
       "layout": "IPY_MODEL_b2bd1f35664f4d0087ae056b2bac4e54",
       "style": "IPY_MODEL_0986e275812d41a798779fc0bc1d598b",
       "value": " 1/1 [00:00&lt;00:00, 55.51it/s]"
      }
     },
     "d3255c703cd84caa81ac8ddd6ddcc7ef": {
      "model_module": "@jupyter-widgets/controls",
      "model_module_version": "1.5.0",
      "model_name": "HTMLModel",
      "state": {
       "layout": "IPY_MODEL_fca5d5f735884cd8b24ff8737c6d277f",
       "style": "IPY_MODEL_7f3de00ff9064574b7377522bedd1bc5",
       "value": " 1/1 [00:00&lt;00:00, 55.51it/s]"
      }
     },
     "d33579662cc247469147af17a582819a": {
      "model_module": "@jupyter-widgets/controls",
      "model_module_version": "1.5.0",
      "model_name": "DescriptionStyleModel",
      "state": {
       "description_width": ""
      }
     },
     "d355c39de8194431bf019f64ec2acbee": {
      "model_module": "@jupyter-widgets/controls",
      "model_module_version": "1.5.0",
      "model_name": "ProgressStyleModel",
      "state": {
       "description_width": ""
      }
     },
     "d3600bded18e49e3bbf061c1ce871a4f": {
      "model_module": "@jupyter-widgets/controls",
      "model_module_version": "1.5.0",
      "model_name": "ProgressStyleModel",
      "state": {
       "description_width": ""
      }
     },
     "d373d7d6a9274f9db54a328587e7b2aa": {
      "model_module": "@jupyter-widgets/controls",
      "model_module_version": "1.5.0",
      "model_name": "HTMLModel",
      "state": {
       "layout": "IPY_MODEL_3ddced85a9ef44478775ca53661ca5d4",
       "style": "IPY_MODEL_d005b214a7fe41e19f64f0db560f16e1",
       "value": " 100/100 [11:56&lt;00:00,  7.17s/it]"
      }
     },
     "d3a2c7b01eda448ca349ec3dcf8ecb75": {
      "model_module": "@jupyter-widgets/base",
      "model_module_version": "1.2.0",
      "model_name": "LayoutModel",
      "state": {}
     },
     "d3e0bf43a5c547898f4bcffe96abdd6e": {
      "model_module": "@jupyter-widgets/controls",
      "model_module_version": "1.5.0",
      "model_name": "HBoxModel",
      "state": {
       "children": [
        "IPY_MODEL_60afbc6daac04ae3895e042de199366f",
        "IPY_MODEL_41592b80cdde4cecaf4e914840b73b71",
        "IPY_MODEL_07dab932d82347dbacb421be88fa73cb"
       ],
       "layout": "IPY_MODEL_cc1f0c03777144019448cc4dc60de08c"
      }
     },
     "d3ed2b07caac4b48ac805262154f14d3": {
      "model_module": "@jupyter-widgets/controls",
      "model_module_version": "1.5.0",
      "model_name": "FloatProgressModel",
      "state": {
       "bar_style": "success",
       "layout": "IPY_MODEL_7f6a9b6edd864106a8948ff6c27bda9e",
       "style": "IPY_MODEL_2604864e5e164536a6126149bb12215b",
       "value": 100
      }
     },
     "d3f27fd4db384dd7a241beab217d28fd": {
      "model_module": "@jupyter-widgets/base",
      "model_module_version": "1.2.0",
      "model_name": "LayoutModel",
      "state": {}
     },
     "d3fd2821892c4e248f7dfc735f4c088e": {
      "model_module": "@jupyter-widgets/base",
      "model_module_version": "1.2.0",
      "model_name": "LayoutModel",
      "state": {}
     },
     "d40cb2c007b8429eb1fb8dd645d29818": {
      "model_module": "@jupyter-widgets/controls",
      "model_module_version": "1.5.0",
      "model_name": "DescriptionStyleModel",
      "state": {
       "description_width": ""
      }
     },
     "d420a164ef08455eb5d64ace9af20f7f": {
      "model_module": "@jupyter-widgets/base",
      "model_module_version": "1.2.0",
      "model_name": "LayoutModel",
      "state": {}
     },
     "d428642994524da981b3afb06b6e8967": {
      "model_module": "@jupyter-widgets/controls",
      "model_module_version": "1.5.0",
      "model_name": "DescriptionStyleModel",
      "state": {
       "description_width": ""
      }
     },
     "d428be4ea8a24125865d08021285a5a4": {
      "model_module": "@jupyter-widgets/base",
      "model_module_version": "1.2.0",
      "model_name": "LayoutModel",
      "state": {}
     },
     "d42ec1c6916f4561a20f86292e428632": {
      "model_module": "@jupyter-widgets/base",
      "model_module_version": "1.2.0",
      "model_name": "LayoutModel",
      "state": {}
     },
     "d4303454f649401fb71730068dffe3a9": {
      "model_module": "@jupyter-widgets/base",
      "model_module_version": "1.2.0",
      "model_name": "LayoutModel",
      "state": {}
     },
     "d4489791b2024b6a822f5e09781b0d1f": {
      "model_module": "@jupyter-widgets/base",
      "model_module_version": "1.2.0",
      "model_name": "LayoutModel",
      "state": {}
     },
     "d44a197d8366499d85f00ad612dacec1": {
      "model_module": "@jupyter-widgets/controls",
      "model_module_version": "1.5.0",
      "model_name": "DescriptionStyleModel",
      "state": {
       "description_width": ""
      }
     },
     "d478052867254cf58dcd760f5aaedfbc": {
      "model_module": "@jupyter-widgets/controls",
      "model_module_version": "1.5.0",
      "model_name": "HTMLModel",
      "state": {
       "layout": "IPY_MODEL_8df95a0d642e43019791e183ba56980c",
       "style": "IPY_MODEL_3f3880e84d934759ba3a2ceaf192ea05",
       "value": "100%"
      }
     },
     "d4b05f37d55e40a6b35ebd3c87b702ff": {
      "model_module": "@jupyter-widgets/base",
      "model_module_version": "1.2.0",
      "model_name": "LayoutModel",
      "state": {}
     },
     "d4bbb679d8044f35831a13e75d6cd7b9": {
      "model_module": "@jupyter-widgets/controls",
      "model_module_version": "1.5.0",
      "model_name": "FloatProgressModel",
      "state": {
       "bar_style": "success",
       "layout": "IPY_MODEL_4932299209e647a89f0d50f42096a29e",
       "max": 1,
       "style": "IPY_MODEL_83fa471d04cf4cac9b9850c4d143b6e1",
       "value": 1
      }
     },
     "d4bfeeabd850485aaf3fff82ff50066d": {
      "model_module": "@jupyter-widgets/base",
      "model_module_version": "1.2.0",
      "model_name": "LayoutModel",
      "state": {}
     },
     "d4c1485b3cc74e619b069260cadfdebe": {
      "model_module": "@jupyter-widgets/controls",
      "model_module_version": "1.5.0",
      "model_name": "HTMLModel",
      "state": {
       "layout": "IPY_MODEL_2002a9a2cdfb4266928db37f243aaba0",
       "style": "IPY_MODEL_d6def827679b4b98899507eaf52981e8",
       "value": " 1/1 [00:02&lt;00:00,  2.18s/ba]"
      }
     },
     "d4d4d586b5034a8d8d6a7d13bdf8cabe": {
      "model_module": "@jupyter-widgets/controls",
      "model_module_version": "1.5.0",
      "model_name": "DescriptionStyleModel",
      "state": {
       "description_width": ""
      }
     },
     "d4fcf211eb3e47f48c4b1ecbbc259674": {
      "model_module": "@jupyter-widgets/base",
      "model_module_version": "1.2.0",
      "model_name": "LayoutModel",
      "state": {}
     },
     "d5046fe63bc544bc83da5b2a513827cf": {
      "model_module": "@jupyter-widgets/controls",
      "model_module_version": "1.5.0",
      "model_name": "DescriptionStyleModel",
      "state": {
       "description_width": ""
      }
     },
     "d5381721ef684776bb478d3da43d756d": {
      "model_module": "@jupyter-widgets/controls",
      "model_module_version": "1.5.0",
      "model_name": "DescriptionStyleModel",
      "state": {
       "description_width": ""
      }
     },
     "d54ab45d90ff45659075b8767dc6d6fd": {
      "model_module": "@jupyter-widgets/controls",
      "model_module_version": "1.5.0",
      "model_name": "HBoxModel",
      "state": {
       "children": [
        "IPY_MODEL_5a7f48ae6b8d4415b15b7b8b21933bde",
        "IPY_MODEL_45665d4310664f87a1364ee7bc30ec59",
        "IPY_MODEL_29921f36fd994540bfc49d3bd9cadc00"
       ],
       "layout": "IPY_MODEL_0f1c20ee3eb444609586a59a366d0f6b"
      }
     },
     "d5594e4c15c54ba9b6865fef52d4e35f": {
      "model_module": "@jupyter-widgets/controls",
      "model_module_version": "1.5.0",
      "model_name": "HTMLModel",
      "state": {
       "layout": "IPY_MODEL_35bfc8adde3348c38f9814e0cbe97a25",
       "style": "IPY_MODEL_db1e698832694e089787ea415fe97c74",
       "value": "100%"
      }
     },
     "d57a6328095b49569961f4476f6e0df9": {
      "model_module": "@jupyter-widgets/controls",
      "model_module_version": "1.5.0",
      "model_name": "DescriptionStyleModel",
      "state": {
       "description_width": ""
      }
     },
     "d57d4f412e65445e8c537e9717ee682e": {
      "model_module": "@jupyter-widgets/controls",
      "model_module_version": "1.5.0",
      "model_name": "HTMLModel",
      "state": {
       "layout": "IPY_MODEL_81e8d0a41ffc4c7784764dadee97c76a",
       "style": "IPY_MODEL_544c4403c6b14d23b71015bb8228b212",
       "value": "100%"
      }
     },
     "d584972510b64ac885a2e45654a57540": {
      "model_module": "@jupyter-widgets/controls",
      "model_module_version": "1.5.0",
      "model_name": "HTMLModel",
      "state": {
       "layout": "IPY_MODEL_7c0a5612a5be419b8d9705556123d1f3",
       "style": "IPY_MODEL_e569fc5ab9074ffca8cce6d37f4534d1",
       "value": "100%"
      }
     },
     "d595bba1e4084e989cf1776d5ecfc294": {
      "model_module": "@jupyter-widgets/base",
      "model_module_version": "1.2.0",
      "model_name": "LayoutModel",
      "state": {}
     },
     "d5d2923e7cf648feb8625624a92af972": {
      "model_module": "@jupyter-widgets/base",
      "model_module_version": "1.2.0",
      "model_name": "LayoutModel",
      "state": {}
     },
     "d5d5cee6b2284cebb28547c1c17e3f4a": {
      "model_module": "@jupyter-widgets/base",
      "model_module_version": "1.2.0",
      "model_name": "LayoutModel",
      "state": {}
     },
     "d5f2b2dbd00f4d63b47201c924259bd1": {
      "model_module": "@jupyter-widgets/controls",
      "model_module_version": "1.5.0",
      "model_name": "HTMLModel",
      "state": {
       "layout": "IPY_MODEL_c6e3facdb8ed493485f1931cbbd47900",
       "style": "IPY_MODEL_149c6c03c63742d392850452fd75ba38",
       "value": "100%"
      }
     },
     "d5f2c41d8b6f4ada9bad514650c495cf": {
      "model_module": "@jupyter-widgets/base",
      "model_module_version": "1.2.0",
      "model_name": "LayoutModel",
      "state": {}
     },
     "d608a8d6765a4b60bb49c9dbdd8b5f00": {
      "model_module": "@jupyter-widgets/controls",
      "model_module_version": "1.5.0",
      "model_name": "HTMLModel",
      "state": {
       "layout": "IPY_MODEL_73a812a081674d49b84d71dde5bd1bb6",
       "style": "IPY_MODEL_5f02c86413294f9a91013f264407cf5a",
       "value": " 100/100 [11:04&lt;00:00,  4.79s/it]"
      }
     },
     "d659cb368dc94f6bab9405f0b27553ce": {
      "model_module": "@jupyter-widgets/controls",
      "model_module_version": "1.5.0",
      "model_name": "HTMLModel",
      "state": {
       "layout": "IPY_MODEL_2611df30f9d24d108aadf99d6d18c846",
       "style": "IPY_MODEL_d01f2de7a858426fb243dba4c3bf3eeb",
       "value": " 1/1 [00:02&lt;00:00,  2.11s/ba]"
      }
     },
     "d6626d8dc4e0419594ae9dd8444f8cfd": {
      "model_module": "@jupyter-widgets/controls",
      "model_module_version": "1.5.0",
      "model_name": "ProgressStyleModel",
      "state": {
       "description_width": ""
      }
     },
     "d672780f71c740468b805e445522992e": {
      "model_module": "@jupyter-widgets/controls",
      "model_module_version": "1.5.0",
      "model_name": "ProgressStyleModel",
      "state": {
       "description_width": ""
      }
     },
     "d6a0a4cce0e1421a997283777d06041a": {
      "model_module": "@jupyter-widgets/controls",
      "model_module_version": "1.5.0",
      "model_name": "DescriptionStyleModel",
      "state": {
       "description_width": ""
      }
     },
     "d6a25039077548f984bcdaea03899de8": {
      "model_module": "@jupyter-widgets/base",
      "model_module_version": "1.2.0",
      "model_name": "LayoutModel",
      "state": {}
     },
     "d6b9f8daefe74c5f939b5d36df025e81": {
      "model_module": "@jupyter-widgets/controls",
      "model_module_version": "1.5.0",
      "model_name": "FloatProgressModel",
      "state": {
       "bar_style": "success",
       "layout": "IPY_MODEL_5a7e01457810438790abd6eb3589c6da",
       "max": 1,
       "style": "IPY_MODEL_825a9548cddc47cb98646ddff96e0c5d",
       "value": 1
      }
     },
     "d6c76257b0e84ad49e69f9979999808e": {
      "model_module": "@jupyter-widgets/controls",
      "model_module_version": "1.5.0",
      "model_name": "HBoxModel",
      "state": {
       "children": [
        "IPY_MODEL_62deba8fd2e345248eb60d1e6e48e3cd",
        "IPY_MODEL_3f4a310cac274295b5bec1a74a69c098",
        "IPY_MODEL_4964775ef783489cac8f2990a270678a"
       ],
       "layout": "IPY_MODEL_ef11c8ccaa3a4905990babfe966ae58e"
      }
     },
     "d6d9999b01364511923362e2b4efb7f8": {
      "model_module": "@jupyter-widgets/controls",
      "model_module_version": "1.5.0",
      "model_name": "HBoxModel",
      "state": {
       "children": [
        "IPY_MODEL_e59ec814425c457a9a0e1e7706bf8177",
        "IPY_MODEL_70059544b42e4c50b6a5d94d05e83d65",
        "IPY_MODEL_9a0e8ecbbd4f4d16b34520d47c3184c2"
       ],
       "layout": "IPY_MODEL_1759f32a923242b684e37f036eaa0037"
      }
     },
     "d6dab882e96e44149d99c58e7b85f4c5": {
      "model_module": "@jupyter-widgets/controls",
      "model_module_version": "1.5.0",
      "model_name": "DescriptionStyleModel",
      "state": {
       "description_width": ""
      }
     },
     "d6def827679b4b98899507eaf52981e8": {
      "model_module": "@jupyter-widgets/controls",
      "model_module_version": "1.5.0",
      "model_name": "DescriptionStyleModel",
      "state": {
       "description_width": ""
      }
     },
     "d6e14e4d99b849429312bb36a20e4de6": {
      "model_module": "@jupyter-widgets/controls",
      "model_module_version": "1.5.0",
      "model_name": "ProgressStyleModel",
      "state": {
       "description_width": ""
      }
     },
     "d729af12f0cd4f88b231c2fd1745196c": {
      "model_module": "@jupyter-widgets/controls",
      "model_module_version": "1.5.0",
      "model_name": "FloatProgressModel",
      "state": {
       "bar_style": "success",
       "layout": "IPY_MODEL_e6a11ba8a5f843f5b4afb403137981b3",
       "style": "IPY_MODEL_0355d1a2f7e74aada34e7d0e50f30206",
       "value": 100
      }
     },
     "d74b3f38ceda4be7b9532dba15fa6ed8": {
      "model_module": "@jupyter-widgets/controls",
      "model_module_version": "1.5.0",
      "model_name": "DescriptionStyleModel",
      "state": {
       "description_width": ""
      }
     },
     "d75ad1aa4eca46d2a425e68ed667d37e": {
      "model_module": "@jupyter-widgets/base",
      "model_module_version": "1.2.0",
      "model_name": "LayoutModel",
      "state": {}
     },
     "d75daaf45b2a4572926807fcc5134f5f": {
      "model_module": "@jupyter-widgets/base",
      "model_module_version": "1.2.0",
      "model_name": "LayoutModel",
      "state": {}
     },
     "d76ebf716f534cf9bbe14140e8011b9a": {
      "model_module": "@jupyter-widgets/controls",
      "model_module_version": "1.5.0",
      "model_name": "HTMLModel",
      "state": {
       "layout": "IPY_MODEL_e73f77922a6f4d8798c3e8fc9dc25d50",
       "style": "IPY_MODEL_5860647c34574ec28901791b89f81764",
       "value": "100%"
      }
     },
     "d79ed9b7813f45fb90ded2d01dcf031c": {
      "model_module": "@jupyter-widgets/controls",
      "model_module_version": "1.5.0",
      "model_name": "HBoxModel",
      "state": {
       "children": [
        "IPY_MODEL_0b8d27cc4a6d4e79b356201ed2e47235",
        "IPY_MODEL_26a691b10a0b4c8381fff99fa6b2be5b",
        "IPY_MODEL_08a8f3ac49ef412eb0b264ee25943a0c"
       ],
       "layout": "IPY_MODEL_e5812cb2075b41178a51993b5ce9730e"
      }
     },
     "d7ab227049ae4d2297e62e6669416fe6": {
      "model_module": "@jupyter-widgets/controls",
      "model_module_version": "1.5.0",
      "model_name": "HTMLModel",
      "state": {
       "layout": "IPY_MODEL_d5f2c41d8b6f4ada9bad514650c495cf",
       "style": "IPY_MODEL_bc4153c89f904c79a9603a9a73d6ef4c",
       "value": " 1/1 [00:00&lt;00:00, 111.01it/s]"
      }
     },
     "d7c5757448ec41279c8587e132a5a64f": {
      "model_module": "@jupyter-widgets/controls",
      "model_module_version": "1.5.0",
      "model_name": "DescriptionStyleModel",
      "state": {
       "description_width": ""
      }
     },
     "d7c8c80158de4e5fbf4f48beafc1a725": {
      "model_module": "@jupyter-widgets/base",
      "model_module_version": "1.2.0",
      "model_name": "LayoutModel",
      "state": {}
     },
     "d7db9e873e1f43e1b8bd0916c8eea7a8": {
      "model_module": "@jupyter-widgets/base",
      "model_module_version": "1.2.0",
      "model_name": "LayoutModel",
      "state": {}
     },
     "d7e7d45953604a4386cb58a7302fc692": {
      "model_module": "@jupyter-widgets/base",
      "model_module_version": "1.2.0",
      "model_name": "LayoutModel",
      "state": {}
     },
     "d81353e59e9a48afb7d81038a68ab0cc": {
      "model_module": "@jupyter-widgets/controls",
      "model_module_version": "1.5.0",
      "model_name": "FloatProgressModel",
      "state": {
       "bar_style": "danger",
       "layout": "IPY_MODEL_bdd05e20037b4bd3a6c882b8b48554e8",
       "style": "IPY_MODEL_4755992cb7214c0da1ecc0eb87501423"
      }
     },
     "d814d35359ea4a7b9d1f5d449482eda2": {
      "model_module": "@jupyter-widgets/controls",
      "model_module_version": "1.5.0",
      "model_name": "FloatProgressModel",
      "state": {
       "bar_style": "success",
       "layout": "IPY_MODEL_27d92e05080f438e8f27d127c3e71ae9",
       "style": "IPY_MODEL_ca3e555284a2488583d21e666bcc0a00",
       "value": 100
      }
     },
     "d8196df2131d4a9d8c2f7626d5b2d37b": {
      "model_module": "@jupyter-widgets/controls",
      "model_module_version": "1.5.0",
      "model_name": "ProgressStyleModel",
      "state": {
       "description_width": ""
      }
     },
     "d8266b37c9a54c69ac707d2b602b536c": {
      "model_module": "@jupyter-widgets/controls",
      "model_module_version": "1.5.0",
      "model_name": "ProgressStyleModel",
      "state": {
       "description_width": ""
      }
     },
     "d82adf48f93345b8bf5f219f145937b5": {
      "model_module": "@jupyter-widgets/controls",
      "model_module_version": "1.5.0",
      "model_name": "HBoxModel",
      "state": {
       "children": [
        "IPY_MODEL_b854c008d46743bc8c6eb343155563cb",
        "IPY_MODEL_6b65be764e9943fbb416d099d1e2e8f8",
        "IPY_MODEL_2e76cd9a9cd14e3f944d7bfcc70010b7"
       ],
       "layout": "IPY_MODEL_b672e7d86b1e416dbd214d1d1fd8637e"
      }
     },
     "d836ebca4377468090d8877899401f64": {
      "model_module": "@jupyter-widgets/controls",
      "model_module_version": "1.5.0",
      "model_name": "DescriptionStyleModel",
      "state": {
       "description_width": ""
      }
     },
     "d868b6ecad2041aca0c8ea76c618d4ea": {
      "model_module": "@jupyter-widgets/base",
      "model_module_version": "1.2.0",
      "model_name": "LayoutModel",
      "state": {}
     },
     "d86d38865b5943a8af5946ce7e5a8220": {
      "model_module": "@jupyter-widgets/base",
      "model_module_version": "1.2.0",
      "model_name": "LayoutModel",
      "state": {}
     },
     "d8703b933c084ac0ba784422d496fc1d": {
      "model_module": "@jupyter-widgets/base",
      "model_module_version": "1.2.0",
      "model_name": "LayoutModel",
      "state": {}
     },
     "d8c5f23b801d47e18bd222929628d180": {
      "model_module": "@jupyter-widgets/controls",
      "model_module_version": "1.5.0",
      "model_name": "DescriptionStyleModel",
      "state": {
       "description_width": ""
      }
     },
     "d8f04c5240ab4157bfc18a1b3c57d348": {
      "model_module": "@jupyter-widgets/controls",
      "model_module_version": "1.5.0",
      "model_name": "DescriptionStyleModel",
      "state": {
       "description_width": ""
      }
     },
     "d8f80ae5c2e142f08fbda45b58e40d97": {
      "model_module": "@jupyter-widgets/controls",
      "model_module_version": "1.5.0",
      "model_name": "HBoxModel",
      "state": {
       "children": [
        "IPY_MODEL_242954aac6f541dfaf1facb7cc32486a",
        "IPY_MODEL_1bc414d76924438f9fb12ad5454e16e5",
        "IPY_MODEL_b950b7d9dc3d4f85be17105a9ecb423e"
       ],
       "layout": "IPY_MODEL_12a1e10d5f4f44f9a5a3413f839e5473"
      }
     },
     "d90e36d6fcf74a18807eef12b2640289": {
      "model_module": "@jupyter-widgets/base",
      "model_module_version": "1.2.0",
      "model_name": "LayoutModel",
      "state": {}
     },
     "d9298780fe7c4aeea5a6a2f8bd288f79": {
      "model_module": "@jupyter-widgets/controls",
      "model_module_version": "1.5.0",
      "model_name": "DescriptionStyleModel",
      "state": {
       "description_width": ""
      }
     },
     "d93cbfc81d92473384df9cd80919c91f": {
      "model_module": "@jupyter-widgets/controls",
      "model_module_version": "1.5.0",
      "model_name": "HTMLModel",
      "state": {
       "layout": "IPY_MODEL_ec2c810505ef46eb8987b50c9c32c9fa",
       "style": "IPY_MODEL_3de86df9dbc349e48bf1080b924a3064",
       "value": " 100/100 [19:22&lt;00:00, 10.17s/it]"
      }
     },
     "d946cbafaaf14bcb835611b9b42e99a2": {
      "model_module": "@jupyter-widgets/controls",
      "model_module_version": "1.5.0",
      "model_name": "HBoxModel",
      "state": {
       "children": [
        "IPY_MODEL_ecf8be32b3c749b5a4a420640926c201",
        "IPY_MODEL_5e1bea4b46224a27be16d22287bb5259",
        "IPY_MODEL_9a3ce814b627413fa16dc2fe5419711e"
       ],
       "layout": "IPY_MODEL_a84148055a9c423eadb3bf3713e77077"
      }
     },
     "d95bc807b0c0466a8622cac6decd31bc": {
      "model_module": "@jupyter-widgets/base",
      "model_module_version": "1.2.0",
      "model_name": "LayoutModel",
      "state": {}
     },
     "d96f6eb0d5f04c27af7210845c21d84e": {
      "model_module": "@jupyter-widgets/base",
      "model_module_version": "1.2.0",
      "model_name": "LayoutModel",
      "state": {}
     },
     "d9752e7dfd66498aa7cf61428a2a6f7f": {
      "model_module": "@jupyter-widgets/controls",
      "model_module_version": "1.5.0",
      "model_name": "HTMLModel",
      "state": {
       "layout": "IPY_MODEL_1a0122569c9c4fbab59791e5b40b6c95",
       "style": "IPY_MODEL_929d251df9d54316a2f7f30bbc633827",
       "value": "100%"
      }
     },
     "d97bcd4484d14107a1b1683f9327e780": {
      "model_module": "@jupyter-widgets/base",
      "model_module_version": "1.2.0",
      "model_name": "LayoutModel",
      "state": {}
     },
     "d98f4f7db6f8489e9b2304c430a16da1": {
      "model_module": "@jupyter-widgets/controls",
      "model_module_version": "1.5.0",
      "model_name": "HTMLModel",
      "state": {
       "layout": "IPY_MODEL_002fdabe0220470ab9c884a8e73243ea",
       "style": "IPY_MODEL_cec4d86c2ea64f5fb39738eb6bc57461",
       "value": " 1/1 [00:00&lt;00:00, 62.44it/s]"
      }
     },
     "d993df03b26a4c56851cbb20987ecc27": {
      "model_module": "@jupyter-widgets/base",
      "model_module_version": "1.2.0",
      "model_name": "LayoutModel",
      "state": {}
     },
     "d9a37977a4e6413d90c3b17c7dad6a13": {
      "model_module": "@jupyter-widgets/controls",
      "model_module_version": "1.5.0",
      "model_name": "ProgressStyleModel",
      "state": {
       "description_width": ""
      }
     },
     "d9b0567c0ee04eadae1a9b845614d93e": {
      "model_module": "@jupyter-widgets/base",
      "model_module_version": "1.2.0",
      "model_name": "LayoutModel",
      "state": {}
     },
     "d9b491ec70044565b131853326fa1c00": {
      "model_module": "@jupyter-widgets/base",
      "model_module_version": "1.2.0",
      "model_name": "LayoutModel",
      "state": {}
     },
     "d9b5aa7d5f13488cb1869d85c47536ff": {
      "model_module": "@jupyter-widgets/controls",
      "model_module_version": "1.5.0",
      "model_name": "HBoxModel",
      "state": {
       "children": [
        "IPY_MODEL_210f21a3353a4ab6b7bc474394a13c7d",
        "IPY_MODEL_471d8632f75c4f2a85a5004c63b75fea",
        "IPY_MODEL_16ab074c771a4ae7ab5d5048f462ae2e"
       ],
       "layout": "IPY_MODEL_07332772c696470082962f9498a24201"
      }
     },
     "d9b5cde9e2dd417dbed6646b7aceb934": {
      "model_module": "@jupyter-widgets/controls",
      "model_module_version": "1.5.0",
      "model_name": "HTMLModel",
      "state": {
       "layout": "IPY_MODEL_39aa4c14b1944327bfbdf1824887dea5",
       "style": "IPY_MODEL_463378e46753404d90dd7e1764748310",
       "value": "100%"
      }
     },
     "d9bd83647cec49fe8147234b8440708c": {
      "model_module": "@jupyter-widgets/controls",
      "model_module_version": "1.5.0",
      "model_name": "DescriptionStyleModel",
      "state": {
       "description_width": ""
      }
     },
     "d9d0875f399c466bbeb0b97b8f1146c0": {
      "model_module": "@jupyter-widgets/controls",
      "model_module_version": "1.5.0",
      "model_name": "DescriptionStyleModel",
      "state": {
       "description_width": ""
      }
     },
     "d9f0ab050e764131b48a3b5fa54550b0": {
      "model_module": "@jupyter-widgets/controls",
      "model_module_version": "1.5.0",
      "model_name": "ProgressStyleModel",
      "state": {
       "description_width": ""
      }
     },
     "d9f72de4bc4346f095b0635f3835a89f": {
      "model_module": "@jupyter-widgets/controls",
      "model_module_version": "1.5.0",
      "model_name": "ProgressStyleModel",
      "state": {
       "description_width": ""
      }
     },
     "d9fcef7e802344d99443d47753fe0ba7": {
      "model_module": "@jupyter-widgets/controls",
      "model_module_version": "1.5.0",
      "model_name": "HTMLModel",
      "state": {
       "layout": "IPY_MODEL_836a329b16ca4e1d97ab4b7521b7128b",
       "style": "IPY_MODEL_7ae7fb4cb7834f669570a392c14e2583",
       "value": "100%"
      }
     },
     "da0bdbe50d4e465b93cdddda7b30c913": {
      "model_module": "@jupyter-widgets/base",
      "model_module_version": "1.2.0",
      "model_name": "LayoutModel",
      "state": {}
     },
     "da0ff27cb55247debeb20fbecbb6a5c0": {
      "model_module": "@jupyter-widgets/base",
      "model_module_version": "1.2.0",
      "model_name": "LayoutModel",
      "state": {}
     },
     "da26eac93bf140ed8c9560b5f9e98a1e": {
      "model_module": "@jupyter-widgets/base",
      "model_module_version": "1.2.0",
      "model_name": "LayoutModel",
      "state": {}
     },
     "da3eebce99434345acad4725ef4c5217": {
      "model_module": "@jupyter-widgets/base",
      "model_module_version": "1.2.0",
      "model_name": "LayoutModel",
      "state": {}
     },
     "da436516eac94783a55c693bd1e0d716": {
      "model_module": "@jupyter-widgets/controls",
      "model_module_version": "1.5.0",
      "model_name": "DescriptionStyleModel",
      "state": {
       "description_width": ""
      }
     },
     "da54df2e4d5044528ed8292687638200": {
      "model_module": "@jupyter-widgets/controls",
      "model_module_version": "1.5.0",
      "model_name": "FloatProgressModel",
      "state": {
       "bar_style": "success",
       "layout": "IPY_MODEL_1c06a8fcc46940728e9ee84e0d1be31c",
       "max": 1,
       "style": "IPY_MODEL_c7ccdb9e02f14534924f6605cd3aebd4",
       "value": 1
      }
     },
     "da5cc0a8d1a54c5b92b4cb0f7e30cbf5": {
      "model_module": "@jupyter-widgets/controls",
      "model_module_version": "1.5.0",
      "model_name": "DescriptionStyleModel",
      "state": {
       "description_width": ""
      }
     },
     "da5e1536263f43519771548968f772d2": {
      "model_module": "@jupyter-widgets/controls",
      "model_module_version": "1.5.0",
      "model_name": "ProgressStyleModel",
      "state": {
       "description_width": ""
      }
     },
     "daa2500faa444e15a4b660fbfa16c798": {
      "model_module": "@jupyter-widgets/controls",
      "model_module_version": "1.5.0",
      "model_name": "DescriptionStyleModel",
      "state": {
       "description_width": ""
      }
     },
     "dab005b85fa64b12aa747bd234923869": {
      "model_module": "@jupyter-widgets/controls",
      "model_module_version": "1.5.0",
      "model_name": "ProgressStyleModel",
      "state": {
       "description_width": ""
      }
     },
     "dab11fccf0754513af65300d68ea49cf": {
      "model_module": "@jupyter-widgets/base",
      "model_module_version": "1.2.0",
      "model_name": "LayoutModel",
      "state": {}
     },
     "dae30f78887a478c8a2f75094f6047e4": {
      "model_module": "@jupyter-widgets/controls",
      "model_module_version": "1.5.0",
      "model_name": "ProgressStyleModel",
      "state": {
       "description_width": ""
      }
     },
     "dafce4beda864e2d98dfe18cc0780df3": {
      "model_module": "@jupyter-widgets/controls",
      "model_module_version": "1.5.0",
      "model_name": "DescriptionStyleModel",
      "state": {
       "description_width": ""
      }
     },
     "db0a8b66d9034263a6da980809295c0c": {
      "model_module": "@jupyter-widgets/controls",
      "model_module_version": "1.5.0",
      "model_name": "HTMLModel",
      "state": {
       "layout": "IPY_MODEL_792a6b4726dd4c5b806f8632e60a2f86",
       "style": "IPY_MODEL_b709c241438741079069f221198c7422",
       "value": "100%"
      }
     },
     "db1e698832694e089787ea415fe97c74": {
      "model_module": "@jupyter-widgets/controls",
      "model_module_version": "1.5.0",
      "model_name": "DescriptionStyleModel",
      "state": {
       "description_width": ""
      }
     },
     "db3b8c09413140c49cf2eb70380e9674": {
      "model_module": "@jupyter-widgets/base",
      "model_module_version": "1.2.0",
      "model_name": "LayoutModel",
      "state": {}
     },
     "db5708508a3b480d8f8fb534f4b5b148": {
      "model_module": "@jupyter-widgets/base",
      "model_module_version": "1.2.0",
      "model_name": "LayoutModel",
      "state": {}
     },
     "db699a7b9a9d47098d6a0336d24b088b": {
      "model_module": "@jupyter-widgets/controls",
      "model_module_version": "1.5.0",
      "model_name": "DescriptionStyleModel",
      "state": {
       "description_width": ""
      }
     },
     "db6a8899cc7c46508e0cfff0b8b04fce": {
      "model_module": "@jupyter-widgets/base",
      "model_module_version": "1.2.0",
      "model_name": "LayoutModel",
      "state": {}
     },
     "db756636b4504c9eb1234288b9631638": {
      "model_module": "@jupyter-widgets/base",
      "model_module_version": "1.2.0",
      "model_name": "LayoutModel",
      "state": {}
     },
     "db7a215a39ea4c508c4a1d419def1500": {
      "model_module": "@jupyter-widgets/base",
      "model_module_version": "1.2.0",
      "model_name": "LayoutModel",
      "state": {}
     },
     "db866724ee9043a696eaefac9b19aa52": {
      "model_module": "@jupyter-widgets/controls",
      "model_module_version": "1.5.0",
      "model_name": "HTMLModel",
      "state": {
       "layout": "IPY_MODEL_c2be90b78cd843e7a6ad6d7f7f6ace4b",
       "style": "IPY_MODEL_d428642994524da981b3afb06b6e8967",
       "value": " 1/1 [00:00&lt;00:00, 62.45it/s]"
      }
     },
     "db8b2388f2034f36963e921fef183c8a": {
      "model_module": "@jupyter-widgets/controls",
      "model_module_version": "1.5.0",
      "model_name": "DescriptionStyleModel",
      "state": {
       "description_width": ""
      }
     },
     "db8fb2f9361241f59b738008c99666e1": {
      "model_module": "@jupyter-widgets/controls",
      "model_module_version": "1.5.0",
      "model_name": "FloatProgressModel",
      "state": {
       "bar_style": "success",
       "layout": "IPY_MODEL_e6a3fe4a5ab44a7a9e55f35feb12af83",
       "style": "IPY_MODEL_14435a9a183a46a1a835cf29f24c1aca",
       "value": 100
      }
     },
     "db92422e39014a248ed67485447735db": {
      "model_module": "@jupyter-widgets/controls",
      "model_module_version": "1.5.0",
      "model_name": "HTMLModel",
      "state": {
       "layout": "IPY_MODEL_2a6693dac0d348aa9b0e334857894f86",
       "style": "IPY_MODEL_103eda467c3d4591af58be4f90002239",
       "value": " 1/1 [00:07&lt;00:00,  7.03s/ba]"
      }
     },
     "db924ebb70d44caeb578e933edc874ba": {
      "model_module": "@jupyter-widgets/controls",
      "model_module_version": "1.5.0",
      "model_name": "DescriptionStyleModel",
      "state": {
       "description_width": ""
      }
     },
     "db9c624cb34847c0b03a4eef2b5c81ae": {
      "model_module": "@jupyter-widgets/controls",
      "model_module_version": "1.5.0",
      "model_name": "HTMLModel",
      "state": {
       "layout": "IPY_MODEL_3f5a60fb26e54452b25efbb1e5fa67fe",
       "style": "IPY_MODEL_c1a1d21902884ec99e6fe4f6d33d9c8f",
       "value": "100%"
      }
     },
     "dbbee555aefd45fe942ab684ae6f6bd4": {
      "model_module": "@jupyter-widgets/controls",
      "model_module_version": "1.5.0",
      "model_name": "DescriptionStyleModel",
      "state": {
       "description_width": ""
      }
     },
     "dbc4396ea587481bba7e941311bc9346": {
      "model_module": "@jupyter-widgets/base",
      "model_module_version": "1.2.0",
      "model_name": "LayoutModel",
      "state": {}
     },
     "dbdaa931b26746439aaf56745cb622bb": {
      "model_module": "@jupyter-widgets/controls",
      "model_module_version": "1.5.0",
      "model_name": "DescriptionStyleModel",
      "state": {
       "description_width": ""
      }
     },
     "dbe9625e97b74b1080048e682a4c454e": {
      "model_module": "@jupyter-widgets/controls",
      "model_module_version": "1.5.0",
      "model_name": "HTMLModel",
      "state": {
       "layout": "IPY_MODEL_201cdb580c824d339db2261fee0c324f",
       "style": "IPY_MODEL_9a56e8de3114477caadafeaa4898b564",
       "value": " 0/100 [00:01&lt;?, ?it/s]"
      }
     },
     "dbebc2c8e2954c96905839fb8b992517": {
      "model_module": "@jupyter-widgets/base",
      "model_module_version": "1.2.0",
      "model_name": "LayoutModel",
      "state": {}
     },
     "dc32d42f442f41919fd3a5f7863c3d98": {
      "model_module": "@jupyter-widgets/base",
      "model_module_version": "1.2.0",
      "model_name": "LayoutModel",
      "state": {}
     },
     "dc37ca204c344062bb39d8003624ec26": {
      "model_module": "@jupyter-widgets/controls",
      "model_module_version": "1.5.0",
      "model_name": "ProgressStyleModel",
      "state": {
       "description_width": ""
      }
     },
     "dc5014b0d9f243cba264da492fe6b290": {
      "model_module": "@jupyter-widgets/controls",
      "model_module_version": "1.5.0",
      "model_name": "DescriptionStyleModel",
      "state": {
       "description_width": ""
      }
     },
     "dc5f2cfc35eb4943a9906d17d8ecfda7": {
      "model_module": "@jupyter-widgets/controls",
      "model_module_version": "1.5.0",
      "model_name": "HBoxModel",
      "state": {
       "children": [
        "IPY_MODEL_dd0e838fa48c46a39ec5b0bbc4e54f6f",
        "IPY_MODEL_c440c039ae3e4e1da9030fba61279efd",
        "IPY_MODEL_b5dcfc7ce3b7495690275f84311eb6a1"
       ],
       "layout": "IPY_MODEL_78cf577d783a4de892a9df46d5ed40c9"
      }
     },
     "dc650a0ab23e497caeca69c8bae34361": {
      "model_module": "@jupyter-widgets/controls",
      "model_module_version": "1.5.0",
      "model_name": "HBoxModel",
      "state": {
       "children": [
        "IPY_MODEL_2b85cba9072547cfa97ad8d67e30b874",
        "IPY_MODEL_3ff4f032dea5452bba3d7609d0009df1",
        "IPY_MODEL_041e198d29464713b26b9948c1f5da00"
       ],
       "layout": "IPY_MODEL_4cf4b1e9efc04aa9a8b17e1ca53ee1d8"
      }
     },
     "dc6c5a4039a24b389937a0837b76d037": {
      "model_module": "@jupyter-widgets/base",
      "model_module_version": "1.2.0",
      "model_name": "LayoutModel",
      "state": {}
     },
     "dc79edd908f2484c841c9d5976a00381": {
      "model_module": "@jupyter-widgets/base",
      "model_module_version": "1.2.0",
      "model_name": "LayoutModel",
      "state": {}
     },
     "dc7ce24556314650badbd0976a467235": {
      "model_module": "@jupyter-widgets/controls",
      "model_module_version": "1.5.0",
      "model_name": "DescriptionStyleModel",
      "state": {
       "description_width": ""
      }
     },
     "dc864853c59b40b4bd79ac410000fde9": {
      "model_module": "@jupyter-widgets/controls",
      "model_module_version": "1.5.0",
      "model_name": "HTMLModel",
      "state": {
       "layout": "IPY_MODEL_20586cd0fde14c6686a49a5ed8fa7ef7",
       "style": "IPY_MODEL_019ad57c67794a81b40011f17d539a5f",
       "value": " 1/1 [00:00&lt;00:00, 55.50it/s]"
      }
     },
     "dc8d8251820a4553989da13e5dcc3dc6": {
      "model_module": "@jupyter-widgets/controls",
      "model_module_version": "1.5.0",
      "model_name": "HTMLModel",
      "state": {
       "layout": "IPY_MODEL_2fa3f351065e48d98d61546a35c41b55",
       "style": "IPY_MODEL_6aa0fbe879044fe4a45c4c18fab864fc",
       "value": " 1/1 [00:00&lt;00:00, 90.83it/s]"
      }
     },
     "dca40cd476ff4a6f81c23a995deb6e9e": {
      "model_module": "@jupyter-widgets/controls",
      "model_module_version": "1.5.0",
      "model_name": "DescriptionStyleModel",
      "state": {
       "description_width": ""
      }
     },
     "dccf6b9ef11c46ce8249c335353ce51d": {
      "model_module": "@jupyter-widgets/base",
      "model_module_version": "1.2.0",
      "model_name": "LayoutModel",
      "state": {}
     },
     "dce9b5005b1a43eabd639f8d805d03d2": {
      "model_module": "@jupyter-widgets/base",
      "model_module_version": "1.2.0",
      "model_name": "LayoutModel",
      "state": {}
     },
     "dcf0b8e9ff574c76adefddb2d065e127": {
      "model_module": "@jupyter-widgets/base",
      "model_module_version": "1.2.0",
      "model_name": "LayoutModel",
      "state": {}
     },
     "dd06d6bc1c5740be98c1b6f472c3f509": {
      "model_module": "@jupyter-widgets/controls",
      "model_module_version": "1.5.0",
      "model_name": "HBoxModel",
      "state": {
       "children": [
        "IPY_MODEL_c372fd55ffee4432b3cb258802aa93f7",
        "IPY_MODEL_2b5d4c3a051e4a3cac458c34ab7c4ab0",
        "IPY_MODEL_5b4881672f2d49ce80d4193d993589ab"
       ],
       "layout": "IPY_MODEL_323cc0f1c7334baca46babd1245d13d1"
      }
     },
     "dd094a1d0c4e4ec98e69b920b1f32414": {
      "model_module": "@jupyter-widgets/controls",
      "model_module_version": "1.5.0",
      "model_name": "HBoxModel",
      "state": {
       "children": [
        "IPY_MODEL_d5594e4c15c54ba9b6865fef52d4e35f",
        "IPY_MODEL_f80c054639934ee088d26755170983f9",
        "IPY_MODEL_c6f066cd59974e87bfd65179d5da0d15"
       ],
       "layout": "IPY_MODEL_72a38506c29d4015a7b5c23999ffe3f6"
      }
     },
     "dd0e838fa48c46a39ec5b0bbc4e54f6f": {
      "model_module": "@jupyter-widgets/controls",
      "model_module_version": "1.5.0",
      "model_name": "HTMLModel",
      "state": {
       "layout": "IPY_MODEL_c70995378ca04e8d9f202014fed227c9",
       "style": "IPY_MODEL_e97cc21009324c45a7dcc8cf3752009c",
       "value": "100%"
      }
     },
     "dd1c06b77e134dc9831db6e095ea26fd": {
      "model_module": "@jupyter-widgets/base",
      "model_module_version": "1.2.0",
      "model_name": "LayoutModel",
      "state": {}
     },
     "dd3bb516552f4097a8653b51021bb0fb": {
      "model_module": "@jupyter-widgets/base",
      "model_module_version": "1.2.0",
      "model_name": "LayoutModel",
      "state": {}
     },
     "dd44c0bae8e04cd88c5e246f6bb4fda7": {
      "model_module": "@jupyter-widgets/base",
      "model_module_version": "1.2.0",
      "model_name": "LayoutModel",
      "state": {}
     },
     "dd4b6308ef984ad7ade3f136429447c4": {
      "model_module": "@jupyter-widgets/controls",
      "model_module_version": "1.5.0",
      "model_name": "DescriptionStyleModel",
      "state": {
       "description_width": ""
      }
     },
     "dd54c20ce2dd4f3a86572232dbe36425": {
      "model_module": "@jupyter-widgets/base",
      "model_module_version": "1.2.0",
      "model_name": "LayoutModel",
      "state": {}
     },
     "dd99fe71863a4c4a8f762c8ff79750f2": {
      "model_module": "@jupyter-widgets/controls",
      "model_module_version": "1.5.0",
      "model_name": "ProgressStyleModel",
      "state": {
       "description_width": ""
      }
     },
     "dd9f129594e04d88988bb86d5a88e240": {
      "model_module": "@jupyter-widgets/controls",
      "model_module_version": "1.5.0",
      "model_name": "DescriptionStyleModel",
      "state": {
       "description_width": ""
      }
     },
     "dde424df4fa74253b7631e46c3b805cf": {
      "model_module": "@jupyter-widgets/base",
      "model_module_version": "1.2.0",
      "model_name": "LayoutModel",
      "state": {}
     },
     "ddee0b42eede4c38b3da94fbee65c7d8": {
      "model_module": "@jupyter-widgets/base",
      "model_module_version": "1.2.0",
      "model_name": "LayoutModel",
      "state": {}
     },
     "ddf44913422d4c2b891badaa2537ab4c": {
      "model_module": "@jupyter-widgets/base",
      "model_module_version": "1.2.0",
      "model_name": "LayoutModel",
      "state": {}
     },
     "de2f0dd5d49d410982b4c4640b3fe8a5": {
      "model_module": "@jupyter-widgets/base",
      "model_module_version": "1.2.0",
      "model_name": "LayoutModel",
      "state": {}
     },
     "de46679ffabf4533a488af7f7f9490fb": {
      "model_module": "@jupyter-widgets/controls",
      "model_module_version": "1.5.0",
      "model_name": "FloatProgressModel",
      "state": {
       "bar_style": "success",
       "layout": "IPY_MODEL_81c0832d3b9847498bf96b73090979d7",
       "max": 1,
       "style": "IPY_MODEL_47818e9fef7042908ace4e3cb6936e31",
       "value": 1
      }
     },
     "de60ac2a41cd4cb1b57a0ee1fe0b596e": {
      "model_module": "@jupyter-widgets/controls",
      "model_module_version": "1.5.0",
      "model_name": "HBoxModel",
      "state": {
       "children": [
        "IPY_MODEL_a52dd1df882c4edca6cc35a40b0b2c7c",
        "IPY_MODEL_dfc5b40a906946b181fab58735948806",
        "IPY_MODEL_5dfe7e88001143eba00419f55a090e25"
       ],
       "layout": "IPY_MODEL_dc32d42f442f41919fd3a5f7863c3d98"
      }
     },
     "deac7c3e17cc4cd386e9d3d2ccc57fe1": {
      "model_module": "@jupyter-widgets/controls",
      "model_module_version": "1.5.0",
      "model_name": "HTMLModel",
      "state": {
       "layout": "IPY_MODEL_b0c07aabdd6c4be7ab15389998b9058d",
       "style": "IPY_MODEL_c6abd231a139484498c879d3251a0da5",
       "value": "  0%"
      }
     },
     "deb388ce59fa4da6a96428cfbf40a1dc": {
      "model_module": "@jupyter-widgets/controls",
      "model_module_version": "1.5.0",
      "model_name": "ProgressStyleModel",
      "state": {
       "description_width": ""
      }
     },
     "ded157ab96cc4ce4ad8f3527796196ef": {
      "model_module": "@jupyter-widgets/controls",
      "model_module_version": "1.5.0",
      "model_name": "DescriptionStyleModel",
      "state": {
       "description_width": ""
      }
     },
     "dedeae100e384582aeecbaaddf18ee21": {
      "model_module": "@jupyter-widgets/controls",
      "model_module_version": "1.5.0",
      "model_name": "HBoxModel",
      "state": {
       "children": [
        "IPY_MODEL_3d9585b8373041ab96f97deb9454e355",
        "IPY_MODEL_c9d49d19888a4ac39e87062ba3d9e4dd",
        "IPY_MODEL_eb8807a9f4a646549ff479fcdb2b9e92"
       ],
       "layout": "IPY_MODEL_6ecdea1ca3b544069efcd0efd8b7824f"
      }
     },
     "deea33468b2f4afb9aaca7c2444d3a3e": {
      "model_module": "@jupyter-widgets/base",
      "model_module_version": "1.2.0",
      "model_name": "LayoutModel",
      "state": {}
     },
     "df0923a3548e47178ba95617574a0fc6": {
      "model_module": "@jupyter-widgets/base",
      "model_module_version": "1.2.0",
      "model_name": "LayoutModel",
      "state": {}
     },
     "df13a042e2684820a2bb6b770b50f867": {
      "model_module": "@jupyter-widgets/controls",
      "model_module_version": "1.5.0",
      "model_name": "FloatProgressModel",
      "state": {
       "bar_style": "success",
       "layout": "IPY_MODEL_9fcb4039e1da46acb943300d22de3744",
       "max": 1,
       "style": "IPY_MODEL_5780742e198e4c5f908eccd94423cf77",
       "value": 1
      }
     },
     "df179c78443c4dea9f7eac70381b5781": {
      "model_module": "@jupyter-widgets/controls",
      "model_module_version": "1.5.0",
      "model_name": "HBoxModel",
      "state": {
       "children": [
        "IPY_MODEL_a1772f268240494f9493be3791980d24",
        "IPY_MODEL_840ca6652fdd49bc93dfd75e2745ba92",
        "IPY_MODEL_bfd3c2c7311444809fc95a10fb4ad99d"
       ],
       "layout": "IPY_MODEL_48280174bc3a4361b0ba8b39fb38b296"
      }
     },
     "df404014195146ccad4c24e0f56de89c": {
      "model_module": "@jupyter-widgets/controls",
      "model_module_version": "1.5.0",
      "model_name": "HTMLModel",
      "state": {
       "layout": "IPY_MODEL_73e742c10e384a59aa47632786b7b9e6",
       "style": "IPY_MODEL_da436516eac94783a55c693bd1e0d716",
       "value": " 29/133 [00:00&lt;00:02, 46.47ba/s]"
      }
     },
     "df5de38837a6463eb27dfa22ab867e79": {
      "model_module": "@jupyter-widgets/base",
      "model_module_version": "1.2.0",
      "model_name": "LayoutModel",
      "state": {}
     },
     "df6839ef3b854b64859f3e1fcde8f87c": {
      "model_module": "@jupyter-widgets/controls",
      "model_module_version": "1.5.0",
      "model_name": "DescriptionStyleModel",
      "state": {
       "description_width": ""
      }
     },
     "df6b65bfb86640e6a30d72caa9df79b6": {
      "model_module": "@jupyter-widgets/controls",
      "model_module_version": "1.5.0",
      "model_name": "HBoxModel",
      "state": {
       "children": [
        "IPY_MODEL_ab654840cb2d43408daf2258cccd7159",
        "IPY_MODEL_78510e9fd37b41399f84dd1e5e8093e1",
        "IPY_MODEL_f9916ae0f0054fbe8b99e0224a9b9d71"
       ],
       "layout": "IPY_MODEL_7d5ba3547570482b991e8258d9789a35"
      }
     },
     "df99c1aa473440e9b61b5c56d18b8e60": {
      "model_module": "@jupyter-widgets/base",
      "model_module_version": "1.2.0",
      "model_name": "LayoutModel",
      "state": {}
     },
     "df9c8eeefbd04b7da633a939857a87b0": {
      "model_module": "@jupyter-widgets/base",
      "model_module_version": "1.2.0",
      "model_name": "LayoutModel",
      "state": {}
     },
     "dfbea84519a540e18e4a4dc44f83125c": {
      "model_module": "@jupyter-widgets/controls",
      "model_module_version": "1.5.0",
      "model_name": "ProgressStyleModel",
      "state": {
       "description_width": ""
      }
     },
     "dfc5b40a906946b181fab58735948806": {
      "model_module": "@jupyter-widgets/controls",
      "model_module_version": "1.5.0",
      "model_name": "FloatProgressModel",
      "state": {
       "bar_style": "success",
       "layout": "IPY_MODEL_ac2a4328a1314f47aa29118822c1b10e",
       "style": "IPY_MODEL_6e6e1b6a4fa449e9b1be2213d5df7af8",
       "value": 100
      }
     },
     "dfc60a94c02f4d7dacbc78d1fcaadc73": {
      "model_module": "@jupyter-widgets/base",
      "model_module_version": "1.2.0",
      "model_name": "LayoutModel",
      "state": {}
     },
     "dfffc3c36b3a46fba60e72c02841fa99": {
      "model_module": "@jupyter-widgets/controls",
      "model_module_version": "1.5.0",
      "model_name": "DescriptionStyleModel",
      "state": {
       "description_width": ""
      }
     },
     "e0207bd88f84401ab6c6dbd6acc86664": {
      "model_module": "@jupyter-widgets/controls",
      "model_module_version": "1.5.0",
      "model_name": "DescriptionStyleModel",
      "state": {
       "description_width": ""
      }
     },
     "e022b9fc33b142158181080dfe7041d3": {
      "model_module": "@jupyter-widgets/controls",
      "model_module_version": "1.5.0",
      "model_name": "FloatProgressModel",
      "state": {
       "bar_style": "success",
       "layout": "IPY_MODEL_7bd2fa9c24ee4b66ad1cfbd5d3c62f10",
       "max": 1,
       "style": "IPY_MODEL_5fc01e84b6ff407a997b6c0c245298ec",
       "value": 1
      }
     },
     "e02aab379ffc407f88e3e4697033e2a6": {
      "model_module": "@jupyter-widgets/controls",
      "model_module_version": "1.5.0",
      "model_name": "ProgressStyleModel",
      "state": {
       "description_width": ""
      }
     },
     "e0366679e8174cefab786b4e1454dc78": {
      "model_module": "@jupyter-widgets/controls",
      "model_module_version": "1.5.0",
      "model_name": "HTMLModel",
      "state": {
       "layout": "IPY_MODEL_95dd5994d33c473182c60230a8bfbc6f",
       "style": "IPY_MODEL_dc7ce24556314650badbd0976a467235",
       "value": "100%"
      }
     },
     "e08232a284dc42a89995d9feff1c2cc1": {
      "model_module": "@jupyter-widgets/base",
      "model_module_version": "1.2.0",
      "model_name": "LayoutModel",
      "state": {}
     },
     "e0894e6be5624129b412f6965d7ffd1d": {
      "model_module": "@jupyter-widgets/controls",
      "model_module_version": "1.5.0",
      "model_name": "HTMLModel",
      "state": {
       "layout": "IPY_MODEL_d6a25039077548f984bcdaea03899de8",
       "style": "IPY_MODEL_9996f185cbb64f01bebf3175720a8bfb",
       "value": " 1/1 [00:00&lt;00:00, 99.91it/s]"
      }
     },
     "e0abe99161e04ad99094ace715ec9f7f": {
      "model_module": "@jupyter-widgets/controls",
      "model_module_version": "1.5.0",
      "model_name": "HBoxModel",
      "state": {
       "children": [
        "IPY_MODEL_72f04da934eb48389097859f5b8ec1dc",
        "IPY_MODEL_0339f63ca4204886a6046a76c45eed50",
        "IPY_MODEL_fd21fafae924474ea88c120a3c2a385d"
       ],
       "layout": "IPY_MODEL_757815166a344758a2e1781af5e9d0f8"
      }
     },
     "e0b81ed5900b4741ab6403b902059758": {
      "model_module": "@jupyter-widgets/controls",
      "model_module_version": "1.5.0",
      "model_name": "HBoxModel",
      "state": {
       "children": [
        "IPY_MODEL_b6b67e59edd1402d96db7b036459a6a2",
        "IPY_MODEL_c6bb66866c4248878cf157cd8cc5c5b5",
        "IPY_MODEL_18c02e671df44313825cbb9939e7c0ff"
       ],
       "layout": "IPY_MODEL_9c01048da10b46a4baa74491579f1ce6"
      }
     },
     "e0d34ba21a414d6a9b5c46be250c5a79": {
      "model_module": "@jupyter-widgets/controls",
      "model_module_version": "1.5.0",
      "model_name": "HTMLModel",
      "state": {
       "layout": "IPY_MODEL_091ecac5f2f24379be026d2a8ee686e4",
       "style": "IPY_MODEL_cd5bec3e4241433195bfb500b6ec71f3",
       "value": "100%"
      }
     },
     "e0f02f2f884744d3abaf7bebfd54d57c": {
      "model_module": "@jupyter-widgets/base",
      "model_module_version": "1.2.0",
      "model_name": "LayoutModel",
      "state": {}
     },
     "e0f6288ec03549eaac07610422b33cd8": {
      "model_module": "@jupyter-widgets/base",
      "model_module_version": "1.2.0",
      "model_name": "LayoutModel",
      "state": {}
     },
     "e1052c7f031e41439316430ddd42d5a9": {
      "model_module": "@jupyter-widgets/controls",
      "model_module_version": "1.5.0",
      "model_name": "HBoxModel",
      "state": {
       "children": [
        "IPY_MODEL_aab6184fc357452fb47a433f18deb886",
        "IPY_MODEL_2d7a19952536426d8a1d926b44872cc0",
        "IPY_MODEL_87c908b0864b43409bbbe5edabe5a634"
       ],
       "layout": "IPY_MODEL_dbc4396ea587481bba7e941311bc9346"
      }
     },
     "e110a41bea584e4e8ca62e6364869c58": {
      "model_module": "@jupyter-widgets/controls",
      "model_module_version": "1.5.0",
      "model_name": "DescriptionStyleModel",
      "state": {
       "description_width": ""
      }
     },
     "e159588aba674e96838cb4cf1733154e": {
      "model_module": "@jupyter-widgets/base",
      "model_module_version": "1.2.0",
      "model_name": "LayoutModel",
      "state": {}
     },
     "e186467a2c3e4828aaa78d7cd4d070a2": {
      "model_module": "@jupyter-widgets/base",
      "model_module_version": "1.2.0",
      "model_name": "LayoutModel",
      "state": {}
     },
     "e1b530eacd6a43c2829c86706532e74f": {
      "model_module": "@jupyter-widgets/base",
      "model_module_version": "1.2.0",
      "model_name": "LayoutModel",
      "state": {}
     },
     "e1f470b7af6541d6a6a1cc4cf031f5e3": {
      "model_module": "@jupyter-widgets/base",
      "model_module_version": "1.2.0",
      "model_name": "LayoutModel",
      "state": {}
     },
     "e1fa5043fa5d4cbebeaf0b9c11a1c252": {
      "model_module": "@jupyter-widgets/base",
      "model_module_version": "1.2.0",
      "model_name": "LayoutModel",
      "state": {}
     },
     "e2123be152e845c1ab022a7620bc5abc": {
      "model_module": "@jupyter-widgets/controls",
      "model_module_version": "1.5.0",
      "model_name": "DescriptionStyleModel",
      "state": {
       "description_width": ""
      }
     },
     "e21dab2838ed440daa5b3788e2da67a9": {
      "model_module": "@jupyter-widgets/controls",
      "model_module_version": "1.5.0",
      "model_name": "HBoxModel",
      "state": {
       "children": [
        "IPY_MODEL_38b0e1064fec422a9d85ce269b571503",
        "IPY_MODEL_25ba2a7050c34198b28b19179c7577de",
        "IPY_MODEL_427ae22b76a04578ae4a3c5feafed729"
       ],
       "layout": "IPY_MODEL_feb58a9ddcef4bb2aa2f6131e0b00ac2"
      }
     },
     "e21f91c3c6b24bd399678c5ce66a692a": {
      "model_module": "@jupyter-widgets/controls",
      "model_module_version": "1.5.0",
      "model_name": "FloatProgressModel",
      "state": {
       "bar_style": "success",
       "layout": "IPY_MODEL_b7e0f89f58dc421ab1e61961cd2056fc",
       "max": 1,
       "style": "IPY_MODEL_58418bacf9ca43e997e87c74f57d9767",
       "value": 1
      }
     },
     "e26d7c3c13164d75b4858746bea30a0d": {
      "model_module": "@jupyter-widgets/controls",
      "model_module_version": "1.5.0",
      "model_name": "DescriptionStyleModel",
      "state": {
       "description_width": ""
      }
     },
     "e27a45b5e2e5429e9ef52d9ade26f012": {
      "model_module": "@jupyter-widgets/base",
      "model_module_version": "1.2.0",
      "model_name": "LayoutModel",
      "state": {}
     },
     "e28604025808467381a9b82cdefeea4c": {
      "model_module": "@jupyter-widgets/controls",
      "model_module_version": "1.5.0",
      "model_name": "FloatProgressModel",
      "state": {
       "bar_style": "success",
       "layout": "IPY_MODEL_aebcd6dc9eaa4c33a3655a7dcd8bdf75",
       "style": "IPY_MODEL_6010dbeff040484d913c29c004d1c6e9",
       "value": 100
      }
     },
     "e2cb7bc8b52242b38587ba8a85d795f1": {
      "model_module": "@jupyter-widgets/base",
      "model_module_version": "1.2.0",
      "model_name": "LayoutModel",
      "state": {}
     },
     "e2f04dcbbcc74c34ac52401c9016ddbc": {
      "model_module": "@jupyter-widgets/controls",
      "model_module_version": "1.5.0",
      "model_name": "HBoxModel",
      "state": {
       "children": [
        "IPY_MODEL_a10ff94b1f8d458bbfd55bf9efcae3f8",
        "IPY_MODEL_4cd11a7a6f8c4a47af4f8b5a3982f688",
        "IPY_MODEL_b829b12b50ad402697e672ca4250ff85"
       ],
       "layout": "IPY_MODEL_b3cfbe98bc0446328780364e2a603a62"
      }
     },
     "e2fb6082680a4ebd83f9ee997acb5f3f": {
      "model_module": "@jupyter-widgets/controls",
      "model_module_version": "1.5.0",
      "model_name": "ProgressStyleModel",
      "state": {
       "description_width": ""
      }
     },
     "e2fef1471df440389f07fb3bbc8d36c4": {
      "model_module": "@jupyter-widgets/controls",
      "model_module_version": "1.5.0",
      "model_name": "HBoxModel",
      "state": {
       "children": [
        "IPY_MODEL_579980cf55394e73a7327d03a7cbe333",
        "IPY_MODEL_720d47cb98df41c391aed6d21314e21f",
        "IPY_MODEL_8e4f76af1af24983b1059466e62651b2"
       ],
       "layout": "IPY_MODEL_b7992101e21f4f9da0f44d648e2e8d59"
      }
     },
     "e311068890274a2b835a089154239e20": {
      "model_module": "@jupyter-widgets/controls",
      "model_module_version": "1.5.0",
      "model_name": "FloatProgressModel",
      "state": {
       "bar_style": "success",
       "layout": "IPY_MODEL_b798fb26130e45ed904523f8c9b37e42",
       "style": "IPY_MODEL_1ccc1caf941a456196f71243da8e7f69",
       "value": 100
      }
     },
     "e32266b90fe843e8ae04104d36d70ad1": {
      "model_module": "@jupyter-widgets/base",
      "model_module_version": "1.2.0",
      "model_name": "LayoutModel",
      "state": {}
     },
     "e32f01acf4654d1cb48e0c4d24195d3d": {
      "model_module": "@jupyter-widgets/controls",
      "model_module_version": "1.5.0",
      "model_name": "DescriptionStyleModel",
      "state": {
       "description_width": ""
      }
     },
     "e352590940ec49069fe1df684bc504dd": {
      "model_module": "@jupyter-widgets/controls",
      "model_module_version": "1.5.0",
      "model_name": "ProgressStyleModel",
      "state": {
       "description_width": ""
      }
     },
     "e37e0bf4b2934552a0c54b8f22edbdc7": {
      "model_module": "@jupyter-widgets/base",
      "model_module_version": "1.2.0",
      "model_name": "LayoutModel",
      "state": {}
     },
     "e3b3f969d5b948458a6e0475c26b8d77": {
      "model_module": "@jupyter-widgets/base",
      "model_module_version": "1.2.0",
      "model_name": "LayoutModel",
      "state": {}
     },
     "e3c446383a1e4ae0b9654a4d22853e37": {
      "model_module": "@jupyter-widgets/controls",
      "model_module_version": "1.5.0",
      "model_name": "DescriptionStyleModel",
      "state": {
       "description_width": ""
      }
     },
     "e3c852ca26fa460f87ced278d963f5b3": {
      "model_module": "@jupyter-widgets/base",
      "model_module_version": "1.2.0",
      "model_name": "LayoutModel",
      "state": {}
     },
     "e440cbb10234413cb33642a3d58c2e6c": {
      "model_module": "@jupyter-widgets/base",
      "model_module_version": "1.2.0",
      "model_name": "LayoutModel",
      "state": {}
     },
     "e45abf937f914dbdb03a61bf9de1d5b8": {
      "model_module": "@jupyter-widgets/base",
      "model_module_version": "1.2.0",
      "model_name": "LayoutModel",
      "state": {}
     },
     "e45e08e2584f46249ce95f6f76035303": {
      "model_module": "@jupyter-widgets/base",
      "model_module_version": "1.2.0",
      "model_name": "LayoutModel",
      "state": {}
     },
     "e46ab16ede5646fe9907534f53fc4eed": {
      "model_module": "@jupyter-widgets/controls",
      "model_module_version": "1.5.0",
      "model_name": "DescriptionStyleModel",
      "state": {
       "description_width": ""
      }
     },
     "e4a1015502bb4b46918f284a10ed3391": {
      "model_module": "@jupyter-widgets/controls",
      "model_module_version": "1.5.0",
      "model_name": "DescriptionStyleModel",
      "state": {
       "description_width": ""
      }
     },
     "e4cba76ab8bf4765bd84b4e7c5564050": {
      "model_module": "@jupyter-widgets/base",
      "model_module_version": "1.2.0",
      "model_name": "LayoutModel",
      "state": {}
     },
     "e4e40fbbd75a43829f78f41ae9d07f69": {
      "model_module": "@jupyter-widgets/controls",
      "model_module_version": "1.5.0",
      "model_name": "FloatProgressModel",
      "state": {
       "bar_style": "success",
       "layout": "IPY_MODEL_85d6550542ba40dbab6e08772654ea6f",
       "max": 1,
       "style": "IPY_MODEL_dab005b85fa64b12aa747bd234923869",
       "value": 1
      }
     },
     "e4fbf0d87cbb4303a41082e2d2e093c4": {
      "model_module": "@jupyter-widgets/controls",
      "model_module_version": "1.5.0",
      "model_name": "DescriptionStyleModel",
      "state": {
       "description_width": ""
      }
     },
     "e5044224a5034347bcc3d2b1b1b7b71e": {
      "model_module": "@jupyter-widgets/controls",
      "model_module_version": "1.5.0",
      "model_name": "ProgressStyleModel",
      "state": {
       "description_width": ""
      }
     },
     "e52a1be180904c2d914ca2f331c61873": {
      "model_module": "@jupyter-widgets/base",
      "model_module_version": "1.2.0",
      "model_name": "LayoutModel",
      "state": {}
     },
     "e559daf3f4fa4b699cf68e4bb0519787": {
      "model_module": "@jupyter-widgets/controls",
      "model_module_version": "1.5.0",
      "model_name": "FloatProgressModel",
      "state": {
       "bar_style": "success",
       "layout": "IPY_MODEL_8c4d0432285241d4a75b0a78fc193f62",
       "max": 1,
       "style": "IPY_MODEL_5ab0f59494394dfda8411114f79f4e88",
       "value": 1
      }
     },
     "e55bd8987c5f4f838497c07ccbb13f27": {
      "model_module": "@jupyter-widgets/controls",
      "model_module_version": "1.5.0",
      "model_name": "HTMLModel",
      "state": {
       "layout": "IPY_MODEL_3d080e3aab304741a44fdb6af1740978",
       "style": "IPY_MODEL_cadf01c74c184bfcb8b686b45c107f3a",
       "value": "100%"
      }
     },
     "e569fc5ab9074ffca8cce6d37f4534d1": {
      "model_module": "@jupyter-widgets/controls",
      "model_module_version": "1.5.0",
      "model_name": "DescriptionStyleModel",
      "state": {
       "description_width": ""
      }
     },
     "e56b9c4d7d3345cd85731fafaf990c23": {
      "model_module": "@jupyter-widgets/base",
      "model_module_version": "1.2.0",
      "model_name": "LayoutModel",
      "state": {}
     },
     "e5702cd9dc1940c6bf5c324b864fafb8": {
      "model_module": "@jupyter-widgets/controls",
      "model_module_version": "1.5.0",
      "model_name": "HBoxModel",
      "state": {
       "children": [
        "IPY_MODEL_4e4ca4dd5f3048c3b949c634822e80b1",
        "IPY_MODEL_98d8d14cd6a940e0a93de6ec0088aa08",
        "IPY_MODEL_4a832fb3583f4d189a0b26b91dadb34f"
       ],
       "layout": "IPY_MODEL_16369d11012a458b835d23c4ca12d4a8"
      }
     },
     "e5812cb2075b41178a51993b5ce9730e": {
      "model_module": "@jupyter-widgets/base",
      "model_module_version": "1.2.0",
      "model_name": "LayoutModel",
      "state": {}
     },
     "e59467ee7f8147148ac3927b7889df31": {
      "model_module": "@jupyter-widgets/controls",
      "model_module_version": "1.5.0",
      "model_name": "HTMLModel",
      "state": {
       "layout": "IPY_MODEL_5b92cdf5a9994704818330f8a87ed41d",
       "style": "IPY_MODEL_68e8a7ea5c044d648b557b39d08421d7",
       "value": "100%"
      }
     },
     "e59ec814425c457a9a0e1e7706bf8177": {
      "model_module": "@jupyter-widgets/controls",
      "model_module_version": "1.5.0",
      "model_name": "HTMLModel",
      "state": {
       "layout": "IPY_MODEL_1ae09a75add14ac48b75d41d0b755832",
       "style": "IPY_MODEL_49021f1844d04aeaa84b2f798bd0bc2e",
       "value": "100%"
      }
     },
     "e5a5312a1de44bde834415cbaa9307ba": {
      "model_module": "@jupyter-widgets/base",
      "model_module_version": "1.2.0",
      "model_name": "LayoutModel",
      "state": {}
     },
     "e5b32e7a1cd34989908fec0eeac0226e": {
      "model_module": "@jupyter-widgets/base",
      "model_module_version": "1.2.0",
      "model_name": "LayoutModel",
      "state": {}
     },
     "e5c60f4ccf8048e5af0d6d49cb197858": {
      "model_module": "@jupyter-widgets/controls",
      "model_module_version": "1.5.0",
      "model_name": "DescriptionStyleModel",
      "state": {
       "description_width": ""
      }
     },
     "e5ce4cfcbb014ee1befc45b824435fc7": {
      "model_module": "@jupyter-widgets/base",
      "model_module_version": "1.2.0",
      "model_name": "LayoutModel",
      "state": {}
     },
     "e5db2320b6b44fc68c3fc41092675cf9": {
      "model_module": "@jupyter-widgets/controls",
      "model_module_version": "1.5.0",
      "model_name": "ProgressStyleModel",
      "state": {
       "description_width": ""
      }
     },
     "e61375f715114b46b1a3107ba98b9ddc": {
      "model_module": "@jupyter-widgets/controls",
      "model_module_version": "1.5.0",
      "model_name": "ProgressStyleModel",
      "state": {
       "description_width": ""
      }
     },
     "e61d4ea6c35e43079a4dd7685885a222": {
      "model_module": "@jupyter-widgets/controls",
      "model_module_version": "1.5.0",
      "model_name": "FloatProgressModel",
      "state": {
       "bar_style": "danger",
       "layout": "IPY_MODEL_f7393b6975114fdfb93d64f689352fb8",
       "max": 133,
       "style": "IPY_MODEL_571e594759db409b822363166fac25e7",
       "value": 29
      }
     },
     "e623016d77734c19bdbb7d78e1fcbc6a": {
      "model_module": "@jupyter-widgets/base",
      "model_module_version": "1.2.0",
      "model_name": "LayoutModel",
      "state": {}
     },
     "e68a2e9289414f3baeb8d73e058a2bdf": {
      "model_module": "@jupyter-widgets/controls",
      "model_module_version": "1.5.0",
      "model_name": "HBoxModel",
      "state": {
       "children": [
        "IPY_MODEL_220dd0980c7646df8a298045a8c9e348",
        "IPY_MODEL_1570c978d97d42e8919fb55d9e4979eb",
        "IPY_MODEL_0af9fd50baaf402d9c32f0a341994b1c"
       ],
       "layout": "IPY_MODEL_bb17825848984b72934cfdd77db92ca8"
      }
     },
     "e6931f5a99f04e51b72ad0bf64c77809": {
      "model_module": "@jupyter-widgets/controls",
      "model_module_version": "1.5.0",
      "model_name": "ProgressStyleModel",
      "state": {
       "description_width": ""
      }
     },
     "e6a11ba8a5f843f5b4afb403137981b3": {
      "model_module": "@jupyter-widgets/base",
      "model_module_version": "1.2.0",
      "model_name": "LayoutModel",
      "state": {}
     },
     "e6a3fe4a5ab44a7a9e55f35feb12af83": {
      "model_module": "@jupyter-widgets/base",
      "model_module_version": "1.2.0",
      "model_name": "LayoutModel",
      "state": {}
     },
     "e6ab0137bfee4301842eea8dd2ee3295": {
      "model_module": "@jupyter-widgets/controls",
      "model_module_version": "1.5.0",
      "model_name": "HBoxModel",
      "state": {
       "children": [
        "IPY_MODEL_6e681cc7e6b1403bb6a302b95b3d8714",
        "IPY_MODEL_70aec90a7b074110b6536b3acfccb95e",
        "IPY_MODEL_7fc06b41930d4350b7894a00da36995a"
       ],
       "layout": "IPY_MODEL_07fde64fda714d07814b84ff1daf4866"
      }
     },
     "e6b97a7bcecb438db91d8410473a535e": {
      "model_module": "@jupyter-widgets/controls",
      "model_module_version": "1.5.0",
      "model_name": "ProgressStyleModel",
      "state": {
       "description_width": ""
      }
     },
     "e6d38341c15c4bdd99f39ac5f0884e7e": {
      "model_module": "@jupyter-widgets/base",
      "model_module_version": "1.2.0",
      "model_name": "LayoutModel",
      "state": {}
     },
     "e73f77922a6f4d8798c3e8fc9dc25d50": {
      "model_module": "@jupyter-widgets/base",
      "model_module_version": "1.2.0",
      "model_name": "LayoutModel",
      "state": {}
     },
     "e75e7c5672e545c29300224493b20d95": {
      "model_module": "@jupyter-widgets/controls",
      "model_module_version": "1.5.0",
      "model_name": "HTMLModel",
      "state": {
       "layout": "IPY_MODEL_2dced01bdb864e459ee0f5187a111fa0",
       "style": "IPY_MODEL_26d7b147acd74ee38d5e387fd46669c1",
       "value": " 1/1 [00:00&lt;00:00, 90.83it/s]"
      }
     },
     "e7d73783dfa24c5cafe1757b43bcd18f": {
      "model_module": "@jupyter-widgets/controls",
      "model_module_version": "1.5.0",
      "model_name": "DescriptionStyleModel",
      "state": {
       "description_width": ""
      }
     },
     "e7feeaa30d6c47eea8716aea430eecc7": {
      "model_module": "@jupyter-widgets/controls",
      "model_module_version": "1.5.0",
      "model_name": "HTMLModel",
      "state": {
       "layout": "IPY_MODEL_27faae7403be405495905aedb1a05eef",
       "style": "IPY_MODEL_a3cc3ca0d9944182a71274169f00388d",
       "value": "  0%"
      }
     },
     "e8408aee32f044f8a4922157639c9c31": {
      "model_module": "@jupyter-widgets/controls",
      "model_module_version": "1.5.0",
      "model_name": "DescriptionStyleModel",
      "state": {
       "description_width": ""
      }
     },
     "e88498f9668a40d6aeebb6ef33bca95a": {
      "model_module": "@jupyter-widgets/base",
      "model_module_version": "1.2.0",
      "model_name": "LayoutModel",
      "state": {}
     },
     "e896be7ee4ec4b858ddc39810c179d9b": {
      "model_module": "@jupyter-widgets/controls",
      "model_module_version": "1.5.0",
      "model_name": "ProgressStyleModel",
      "state": {
       "description_width": ""
      }
     },
     "e8a239db76d34153833590290a10a55d": {
      "model_module": "@jupyter-widgets/controls",
      "model_module_version": "1.5.0",
      "model_name": "FloatProgressModel",
      "state": {
       "bar_style": "success",
       "layout": "IPY_MODEL_ab5cd08cf2ac467396904a2aa1f61d94",
       "max": 1,
       "style": "IPY_MODEL_0c71f7a882b04852be86360a755063e8",
       "value": 1
      }
     },
     "e8bddd977af34c7f897f771c371e33fe": {
      "model_module": "@jupyter-widgets/base",
      "model_module_version": "1.2.0",
      "model_name": "LayoutModel",
      "state": {}
     },
     "e8ce4dbf4f964485982555fd20c9cbd9": {
      "model_module": "@jupyter-widgets/base",
      "model_module_version": "1.2.0",
      "model_name": "LayoutModel",
      "state": {}
     },
     "e8ceeb80c472439daf3c6372d91fb781": {
      "model_module": "@jupyter-widgets/controls",
      "model_module_version": "1.5.0",
      "model_name": "HTMLModel",
      "state": {
       "layout": "IPY_MODEL_d25b46597c9f4bafb47e0ab880f127b3",
       "style": "IPY_MODEL_9b703eb0fa1c4723886d80363a3412ec",
       "value": " 1/1 [00:00&lt;00:00, 58.77it/s]"
      }
     },
     "e8f144677d5f46b886c081ebaa96d4ab": {
      "model_module": "@jupyter-widgets/base",
      "model_module_version": "1.2.0",
      "model_name": "LayoutModel",
      "state": {}
     },
     "e910ba3ccfc34dcfb589f2c7f44628d3": {
      "model_module": "@jupyter-widgets/controls",
      "model_module_version": "1.5.0",
      "model_name": "HBoxModel",
      "state": {
       "children": [
        "IPY_MODEL_72b68b5cd4e94e8b98360a20510faf2d",
        "IPY_MODEL_b0a124dbb9aa4eb1bc980a3e1d3bfe8e",
        "IPY_MODEL_b63ae01e5c154be095d833eee709e7c5"
       ],
       "layout": "IPY_MODEL_291d319a29a946d1a6cdad393398f92e"
      }
     },
     "e9185a55e8634565910a506e3b07f212": {
      "model_module": "@jupyter-widgets/base",
      "model_module_version": "1.2.0",
      "model_name": "LayoutModel",
      "state": {}
     },
     "e93a5fafe28942d1a0147c882c4cf79f": {
      "model_module": "@jupyter-widgets/controls",
      "model_module_version": "1.5.0",
      "model_name": "HTMLModel",
      "state": {
       "layout": "IPY_MODEL_08b1c42a61b4480db98598dc20d50488",
       "style": "IPY_MODEL_0a82dd42db3e40ed95018a02743cea1d",
       "value": " 100/100 [18:26&lt;00:00, 11.55s/it]"
      }
     },
     "e962f9165d9447cdb4bffc9994a01b69": {
      "model_module": "@jupyter-widgets/base",
      "model_module_version": "1.2.0",
      "model_name": "LayoutModel",
      "state": {}
     },
     "e9783627dd7540ed9e3a9defcfea8e0f": {
      "model_module": "@jupyter-widgets/base",
      "model_module_version": "1.2.0",
      "model_name": "LayoutModel",
      "state": {}
     },
     "e979b5788a6c45e6b2387f09f342e033": {
      "model_module": "@jupyter-widgets/controls",
      "model_module_version": "1.5.0",
      "model_name": "HBoxModel",
      "state": {
       "children": [
        "IPY_MODEL_06e2d3aff7f0497d9981209360d1f369",
        "IPY_MODEL_a97f0fa64d7542c98add002a13014edd",
        "IPY_MODEL_d7ab227049ae4d2297e62e6669416fe6"
       ],
       "layout": "IPY_MODEL_28f14416310a4ad69149100e60283be8"
      }
     },
     "e97cc21009324c45a7dcc8cf3752009c": {
      "model_module": "@jupyter-widgets/controls",
      "model_module_version": "1.5.0",
      "model_name": "DescriptionStyleModel",
      "state": {
       "description_width": ""
      }
     },
     "e9a1c091b169408cbf90dff08eeff162": {
      "model_module": "@jupyter-widgets/base",
      "model_module_version": "1.2.0",
      "model_name": "LayoutModel",
      "state": {}
     },
     "e9aef93324da4157b8d11fdd6632c8c3": {
      "model_module": "@jupyter-widgets/base",
      "model_module_version": "1.2.0",
      "model_name": "LayoutModel",
      "state": {}
     },
     "e9b52694ef5a41a1b100d7b2ff1f3c7e": {
      "model_module": "@jupyter-widgets/base",
      "model_module_version": "1.2.0",
      "model_name": "LayoutModel",
      "state": {}
     },
     "e9c42a325a6d4bdbab477e8ca8651ad9": {
      "model_module": "@jupyter-widgets/base",
      "model_module_version": "1.2.0",
      "model_name": "LayoutModel",
      "state": {}
     },
     "e9d359932d244b8287858776d80cb171": {
      "model_module": "@jupyter-widgets/controls",
      "model_module_version": "1.5.0",
      "model_name": "HTMLModel",
      "state": {
       "layout": "IPY_MODEL_3d1302b432564e5f8b4170759b5955cc",
       "style": "IPY_MODEL_65526a6f85c844d6bd255f4897a725ce",
       "value": "100%"
      }
     },
     "e9e8387958dc4225b7c1b6e487a5f1aa": {
      "model_module": "@jupyter-widgets/controls",
      "model_module_version": "1.5.0",
      "model_name": "HBoxModel",
      "state": {
       "children": [
        "IPY_MODEL_263a13b6a9f84adfb72837ebb3ef296c",
        "IPY_MODEL_0958268b43c14897995ee6f59cb6b62e",
        "IPY_MODEL_1351b08b2a694b86845128b53db57c04"
       ],
       "layout": "IPY_MODEL_f05b86a4b2de4d95a4dc61bb97723b83"
      }
     },
     "e9e9ea93f4934ae18da8b934d3d5bad8": {
      "model_module": "@jupyter-widgets/base",
      "model_module_version": "1.2.0",
      "model_name": "LayoutModel",
      "state": {}
     },
     "ea10584e185c41fbb7ddf93ced5a1a45": {
      "model_module": "@jupyter-widgets/base",
      "model_module_version": "1.2.0",
      "model_name": "LayoutModel",
      "state": {}
     },
     "ea11ee679cb54c72baaf13661485760a": {
      "model_module": "@jupyter-widgets/controls",
      "model_module_version": "1.5.0",
      "model_name": "ProgressStyleModel",
      "state": {
       "description_width": ""
      }
     },
     "ea5e16505e9e4a5582ace4ef1c3b66eb": {
      "model_module": "@jupyter-widgets/base",
      "model_module_version": "1.2.0",
      "model_name": "LayoutModel",
      "state": {}
     },
     "ea5ef579a54f4dc0bda718592a380118": {
      "model_module": "@jupyter-widgets/base",
      "model_module_version": "1.2.0",
      "model_name": "LayoutModel",
      "state": {}
     },
     "ea7d21f689a243679879bfa0357dc6be": {
      "model_module": "@jupyter-widgets/base",
      "model_module_version": "1.2.0",
      "model_name": "LayoutModel",
      "state": {}
     },
     "ea8e6f40543b49e2baabfacbbae8ece0": {
      "model_module": "@jupyter-widgets/controls",
      "model_module_version": "1.5.0",
      "model_name": "DescriptionStyleModel",
      "state": {
       "description_width": ""
      }
     },
     "eab1f75d863e4f46909697177205b1f0": {
      "model_module": "@jupyter-widgets/controls",
      "model_module_version": "1.5.0",
      "model_name": "HTMLModel",
      "state": {
       "layout": "IPY_MODEL_3981b31788f043d7a5d5b0bf3841f8ae",
       "style": "IPY_MODEL_7f2f8e0695454b22b968e7d4fae2ddb4",
       "value": " 1/1 [00:02&lt;00:00,  2.18s/ba]"
      }
     },
     "eac07d3bc15b4c18bc1e23263d5249a4": {
      "model_module": "@jupyter-widgets/controls",
      "model_module_version": "1.5.0",
      "model_name": "HTMLModel",
      "state": {
       "layout": "IPY_MODEL_1766c0b94d92412b96d314463dc0f4ed",
       "style": "IPY_MODEL_a37fd047450e48c3b5dc6dbcfc274c6d",
       "value": "100%"
      }
     },
     "eacefdf445d444f6bd29d52f4e75e205": {
      "model_module": "@jupyter-widgets/base",
      "model_module_version": "1.2.0",
      "model_name": "LayoutModel",
      "state": {}
     },
     "eaee08545fbb467ebe0fc736439e2ccc": {
      "model_module": "@jupyter-widgets/controls",
      "model_module_version": "1.5.0",
      "model_name": "DescriptionStyleModel",
      "state": {
       "description_width": ""
      }
     },
     "eb68b43133ec42fc86e896084f8dfc29": {
      "model_module": "@jupyter-widgets/base",
      "model_module_version": "1.2.0",
      "model_name": "LayoutModel",
      "state": {}
     },
     "eb8807a9f4a646549ff479fcdb2b9e92": {
      "model_module": "@jupyter-widgets/controls",
      "model_module_version": "1.5.0",
      "model_name": "HTMLModel",
      "state": {
       "layout": "IPY_MODEL_1ee261da2367483390b775244a03f436",
       "style": "IPY_MODEL_4bdca636f5444b83afea6609b0503366",
       "value": " 100/100 [10:52&lt;00:00,  4.98s/it]"
      }
     },
     "eb95be5dc79143598d92c97b2672dfb3": {
      "model_module": "@jupyter-widgets/controls",
      "model_module_version": "1.5.0",
      "model_name": "ProgressStyleModel",
      "state": {
       "description_width": ""
      }
     },
     "eb98988d8c6446ac9960db2acb39c23a": {
      "model_module": "@jupyter-widgets/base",
      "model_module_version": "1.2.0",
      "model_name": "LayoutModel",
      "state": {}
     },
     "ebc66483574342f1b3b1fa99aa830971": {
      "model_module": "@jupyter-widgets/controls",
      "model_module_version": "1.5.0",
      "model_name": "DescriptionStyleModel",
      "state": {
       "description_width": ""
      }
     },
     "ebc80835b4374672b132e1b763616434": {
      "model_module": "@jupyter-widgets/controls",
      "model_module_version": "1.5.0",
      "model_name": "FloatProgressModel",
      "state": {
       "bar_style": "success",
       "layout": "IPY_MODEL_154220f11b24444190ab7738cf4319f1",
       "style": "IPY_MODEL_96a43c4e8bf246b28d459031e01e7057",
       "value": 100
      }
     },
     "ebc84464672b46ceb912cf76b4bb7865": {
      "model_module": "@jupyter-widgets/base",
      "model_module_version": "1.2.0",
      "model_name": "LayoutModel",
      "state": {}
     },
     "ebc9b307bc664395879ed855d30c0305": {
      "model_module": "@jupyter-widgets/controls",
      "model_module_version": "1.5.0",
      "model_name": "DescriptionStyleModel",
      "state": {
       "description_width": ""
      }
     },
     "ebeb55ce171b4165b84dd9a37a137dad": {
      "model_module": "@jupyter-widgets/controls",
      "model_module_version": "1.5.0",
      "model_name": "HTMLModel",
      "state": {
       "layout": "IPY_MODEL_b0e6aa05f3b34a3b82791c43ce47e7ef",
       "style": "IPY_MODEL_ed4935d311e54b7aadbb097b7da1aade",
       "value": " 100/100 [03:46&lt;00:00,  2.34s/it]"
      }
     },
     "ec0da662adaf4e638bb1e3da06ecd2cf": {
      "model_module": "@jupyter-widgets/controls",
      "model_module_version": "1.5.0",
      "model_name": "HTMLModel",
      "state": {
       "layout": "IPY_MODEL_16ce9556f2e74964ab78894c7db641f5",
       "style": "IPY_MODEL_6432f036a8354e81a1201251689d2567",
       "value": "100%"
      }
     },
     "ec0f547d274e47a9a7b47cc79fd5d816": {
      "model_module": "@jupyter-widgets/controls",
      "model_module_version": "1.5.0",
      "model_name": "DescriptionStyleModel",
      "state": {
       "description_width": ""
      }
     },
     "ec20a00477664eb5a4c23b19e7dc0b0a": {
      "model_module": "@jupyter-widgets/base",
      "model_module_version": "1.2.0",
      "model_name": "LayoutModel",
      "state": {}
     },
     "ec2197f8973347df96bae183f869a557": {
      "model_module": "@jupyter-widgets/controls",
      "model_module_version": "1.5.0",
      "model_name": "DescriptionStyleModel",
      "state": {
       "description_width": ""
      }
     },
     "ec263284b47f402e814933edff9ac14b": {
      "model_module": "@jupyter-widgets/base",
      "model_module_version": "1.2.0",
      "model_name": "LayoutModel",
      "state": {}
     },
     "ec2c810505ef46eb8987b50c9c32c9fa": {
      "model_module": "@jupyter-widgets/base",
      "model_module_version": "1.2.0",
      "model_name": "LayoutModel",
      "state": {}
     },
     "ec3d466d02094152aeb69a2e69f90d92": {
      "model_module": "@jupyter-widgets/controls",
      "model_module_version": "1.5.0",
      "model_name": "HTMLModel",
      "state": {
       "layout": "IPY_MODEL_ceb51a1f65a74f76a9f25c514eb1fe05",
       "style": "IPY_MODEL_a2fc30cfd9e34471bf2f6ce3a1759d94",
       "value": "100%"
      }
     },
     "ec522ab174d94ad892a746e9d79c6159": {
      "model_module": "@jupyter-widgets/base",
      "model_module_version": "1.2.0",
      "model_name": "LayoutModel",
      "state": {}
     },
     "ec6d67bb561d40b7943e87c49b9cb6b4": {
      "model_module": "@jupyter-widgets/controls",
      "model_module_version": "1.5.0",
      "model_name": "DescriptionStyleModel",
      "state": {
       "description_width": ""
      }
     },
     "ec726ad600284265ba66ced0e587e0b1": {
      "model_module": "@jupyter-widgets/controls",
      "model_module_version": "1.5.0",
      "model_name": "FloatProgressModel",
      "state": {
       "bar_style": "danger",
       "layout": "IPY_MODEL_5c6b1272d8d04597a9652bb3c870a69f",
       "style": "IPY_MODEL_38b5d71d8e5245c8b97604edea10669a"
      }
     },
     "ec7f1af5f5404a0cb0192a85c968e04e": {
      "model_module": "@jupyter-widgets/base",
      "model_module_version": "1.2.0",
      "model_name": "LayoutModel",
      "state": {}
     },
     "ec84add95faa435dbffca837915c895e": {
      "model_module": "@jupyter-widgets/base",
      "model_module_version": "1.2.0",
      "model_name": "LayoutModel",
      "state": {}
     },
     "ecab70522abb404385c138461f9aaaf8": {
      "model_module": "@jupyter-widgets/controls",
      "model_module_version": "1.5.0",
      "model_name": "ProgressStyleModel",
      "state": {
       "description_width": ""
      }
     },
     "ece6cd264bea437dabc0721262d04599": {
      "model_module": "@jupyter-widgets/controls",
      "model_module_version": "1.5.0",
      "model_name": "HBoxModel",
      "state": {
       "children": [
        "IPY_MODEL_9cb8d51c63d242f39130e91a6e9b0086",
        "IPY_MODEL_8cee5950ea7640d4b6539a0049ea3c53",
        "IPY_MODEL_ebeb55ce171b4165b84dd9a37a137dad"
       ],
       "layout": "IPY_MODEL_028ac500fb7e43839f9737135b8eb39c"
      }
     },
     "ecef28006a3b4890a3b7b015dd3147d6": {
      "model_module": "@jupyter-widgets/base",
      "model_module_version": "1.2.0",
      "model_name": "LayoutModel",
      "state": {}
     },
     "ecf8be32b3c749b5a4a420640926c201": {
      "model_module": "@jupyter-widgets/controls",
      "model_module_version": "1.5.0",
      "model_name": "HTMLModel",
      "state": {
       "layout": "IPY_MODEL_bcb33ac4d74140508f66561ba15271ed",
       "style": "IPY_MODEL_d0f7fc93930442e19f65d947a6fdc957",
       "value": "100%"
      }
     },
     "ed1979c55ff14e11b6cc2310a97dde59": {
      "model_module": "@jupyter-widgets/base",
      "model_module_version": "1.2.0",
      "model_name": "LayoutModel",
      "state": {}
     },
     "ed2fd43bb8984dc7af094805858cb857": {
      "model_module": "@jupyter-widgets/controls",
      "model_module_version": "1.5.0",
      "model_name": "FloatProgressModel",
      "state": {
       "bar_style": "success",
       "layout": "IPY_MODEL_8ac2d21aacc744708b9ecc9086a4505b",
       "style": "IPY_MODEL_0c54a84cdb8d417eb6bcfa81e864ddd5",
       "value": 100
      }
     },
     "ed4935d311e54b7aadbb097b7da1aade": {
      "model_module": "@jupyter-widgets/controls",
      "model_module_version": "1.5.0",
      "model_name": "DescriptionStyleModel",
      "state": {
       "description_width": ""
      }
     },
     "ed5a295e12744b7db254dd658d27ed8a": {
      "model_module": "@jupyter-widgets/controls",
      "model_module_version": "1.5.0",
      "model_name": "FloatProgressModel",
      "state": {
       "bar_style": "success",
       "layout": "IPY_MODEL_8ae0e48aeee846a7acba46608003a66f",
       "style": "IPY_MODEL_2fb91f0372f443ea87cfbe3666efb679",
       "value": 100
      }
     },
     "ed60c55b230d44ff9e9eb9844c876a6a": {
      "model_module": "@jupyter-widgets/controls",
      "model_module_version": "1.5.0",
      "model_name": "FloatProgressModel",
      "state": {
       "bar_style": "success",
       "layout": "IPY_MODEL_e1f470b7af6541d6a6a1cc4cf031f5e3",
       "style": "IPY_MODEL_853233982a1648d38587de27d444f0ca",
       "value": 100
      }
     },
     "ed7466ada6d24eb7aa9c29ba8d94a6dc": {
      "model_module": "@jupyter-widgets/controls",
      "model_module_version": "1.5.0",
      "model_name": "HTMLModel",
      "state": {
       "layout": "IPY_MODEL_b519532fcf0643308cd5495e14a1ed53",
       "style": "IPY_MODEL_877ca9561e4e4fef8e068c3c06de30fa",
       "value": "100%"
      }
     },
     "edbfa9d822724589b15dbf9a2a65275e": {
      "model_module": "@jupyter-widgets/controls",
      "model_module_version": "1.5.0",
      "model_name": "ProgressStyleModel",
      "state": {
       "description_width": ""
      }
     },
     "edcdfed5fffc443292066ef393df6300": {
      "model_module": "@jupyter-widgets/controls",
      "model_module_version": "1.5.0",
      "model_name": "FloatProgressModel",
      "state": {
       "bar_style": "success",
       "layout": "IPY_MODEL_68b06e57724c461499b0ffc409d3ebcd",
       "style": "IPY_MODEL_835a441c281543f2a66d9045e5c439c9",
       "value": 100
      }
     },
     "edceff1294214c7b9cd439448ac47a45": {
      "model_module": "@jupyter-widgets/controls",
      "model_module_version": "1.5.0",
      "model_name": "ProgressStyleModel",
      "state": {
       "description_width": ""
      }
     },
     "edd51f35612a421389d16d1195817f9a": {
      "model_module": "@jupyter-widgets/controls",
      "model_module_version": "1.5.0",
      "model_name": "DescriptionStyleModel",
      "state": {
       "description_width": ""
      }
     },
     "ede33c6add164af2b0f5fe278f15a327": {
      "model_module": "@jupyter-widgets/controls",
      "model_module_version": "1.5.0",
      "model_name": "HBoxModel",
      "state": {
       "children": [
        "IPY_MODEL_fb875418e25c4460bde0381d6e7c9cdd",
        "IPY_MODEL_a47b80c2c08648f0a3e766b26edc3667",
        "IPY_MODEL_1510b82fad3240df81ed9084233f1a91"
       ],
       "layout": "IPY_MODEL_8263da3f18264516a8be2b0d3c9b17bc"
      }
     },
     "ede71a30f60945ea86913a92191f29dc": {
      "model_module": "@jupyter-widgets/controls",
      "model_module_version": "1.5.0",
      "model_name": "HTMLModel",
      "state": {
       "layout": "IPY_MODEL_18c78fb189e3463cadf6bd401b2535ff",
       "style": "IPY_MODEL_6b659436e85f4c80aa0ac2be61337332",
       "value": " 1/1 [00:00&lt;00:00, 83.25it/s]"
      }
     },
     "edf245f2d8cb481ba86cb231f359efd0": {
      "model_module": "@jupyter-widgets/base",
      "model_module_version": "1.2.0",
      "model_name": "LayoutModel",
      "state": {}
     },
     "edf4e2982466435b8c39d855dc161edb": {
      "model_module": "@jupyter-widgets/base",
      "model_module_version": "1.2.0",
      "model_name": "LayoutModel",
      "state": {}
     },
     "edf8d35ac4734b77ae71d1ed1d1ee094": {
      "model_module": "@jupyter-widgets/controls",
      "model_module_version": "1.5.0",
      "model_name": "HBoxModel",
      "state": {
       "children": [
        "IPY_MODEL_6308c216183c478fad9d2938836edf75",
        "IPY_MODEL_3d1a6bc3cdfe4d038577acaeffa77c53",
        "IPY_MODEL_6ddba101db3c4eb285affb2d0866d381"
       ],
       "layout": "IPY_MODEL_4fd442dcffd5457b884b77dd2fc34faf"
      }
     },
     "edff523432a1492b96f8711f7d122aa3": {
      "model_module": "@jupyter-widgets/base",
      "model_module_version": "1.2.0",
      "model_name": "LayoutModel",
      "state": {}
     },
     "ee0b3e21cc9149469cfbe699792d85a7": {
      "model_module": "@jupyter-widgets/controls",
      "model_module_version": "1.5.0",
      "model_name": "DescriptionStyleModel",
      "state": {
       "description_width": ""
      }
     },
     "ee926ef9622e43b79d0e77dc9b4630c5": {
      "model_module": "@jupyter-widgets/controls",
      "model_module_version": "1.5.0",
      "model_name": "HBoxModel",
      "state": {
       "children": [
        "IPY_MODEL_eac07d3bc15b4c18bc1e23263d5249a4",
        "IPY_MODEL_2bff3e3b434844e8aa10b165b6148121",
        "IPY_MODEL_a44fd3c0a28c40ea93bdd6e473e01f1f"
       ],
       "layout": "IPY_MODEL_126c5d2c50084ee3bb4caa42d3bf5125"
      }
     },
     "ee9307ea9c5943c0bf325d914716ddbf": {
      "model_module": "@jupyter-widgets/controls",
      "model_module_version": "1.5.0",
      "model_name": "HTMLModel",
      "state": {
       "layout": "IPY_MODEL_143fcb9ea8ad469d952d57940a8d3e7d",
       "style": "IPY_MODEL_fc9814ee144d4579923915d6802c66ea",
       "value": "100%"
      }
     },
     "ee9ce9e9c5a14c4881d663ad3b59a3a1": {
      "model_module": "@jupyter-widgets/controls",
      "model_module_version": "1.5.0",
      "model_name": "HTMLModel",
      "state": {
       "layout": "IPY_MODEL_f51dd18d5e7d4476a1081145d400d702",
       "style": "IPY_MODEL_102021600eac4d18ab0ccf882980dc66",
       "value": " 1/1 [00:00&lt;00:00, 111.01it/s]"
      }
     },
     "eecf7bf2098d4cb0b2291fd46c47c124": {
      "model_module": "@jupyter-widgets/controls",
      "model_module_version": "1.5.0",
      "model_name": "DescriptionStyleModel",
      "state": {
       "description_width": ""
      }
     },
     "ef081e34959a483fb2d49b4a8621cbec": {
      "model_module": "@jupyter-widgets/controls",
      "model_module_version": "1.5.0",
      "model_name": "HTMLModel",
      "state": {
       "layout": "IPY_MODEL_efd3b2de9aa842d0920a17fb9f14cecb",
       "style": "IPY_MODEL_3867f193d0f04dd6bb0bb83153ab6c69",
       "value": " 1/1 [00:02&lt;00:00,  2.08s/ba]"
      }
     },
     "ef0d70f9587c460d8028506f5ca292d6": {
      "model_module": "@jupyter-widgets/controls",
      "model_module_version": "1.5.0",
      "model_name": "HTMLModel",
      "state": {
       "layout": "IPY_MODEL_866efd8642ce47e3ae4a43f7d3496699",
       "style": "IPY_MODEL_db924ebb70d44caeb578e933edc874ba",
       "value": "100%"
      }
     },
     "ef0f13a186b8479fa6abae5337d2610c": {
      "model_module": "@jupyter-widgets/controls",
      "model_module_version": "1.5.0",
      "model_name": "DescriptionStyleModel",
      "state": {
       "description_width": ""
      }
     },
     "ef11c8ccaa3a4905990babfe966ae58e": {
      "model_module": "@jupyter-widgets/base",
      "model_module_version": "1.2.0",
      "model_name": "LayoutModel",
      "state": {}
     },
     "ef20b0be627a48148d7f0fa515189b6d": {
      "model_module": "@jupyter-widgets/controls",
      "model_module_version": "1.5.0",
      "model_name": "HTMLModel",
      "state": {
       "layout": "IPY_MODEL_09c613cec4704f12877fe5c0176b29a4",
       "style": "IPY_MODEL_af8586444d024f2ea5d94338c94808ec",
       "value": " 104/104 [1:06:33&lt;00:00, 30.40s/ba]"
      }
     },
     "ef4631ec49334f95a86bab1a92b905eb": {
      "model_module": "@jupyter-widgets/controls",
      "model_module_version": "1.5.0",
      "model_name": "HBoxModel",
      "state": {
       "children": [
        "IPY_MODEL_8d6a4cd0feee4ffdb6c0d91657c63e56",
        "IPY_MODEL_2bc74051844f4a0782b8976944212097",
        "IPY_MODEL_aa67810ad18b439b8803dbd50fac809d"
       ],
       "layout": "IPY_MODEL_4d9062fca8b4454abe1d096d93f61841"
      }
     },
     "ef6614193d0d42a2a8972e421331fb87": {
      "model_module": "@jupyter-widgets/base",
      "model_module_version": "1.2.0",
      "model_name": "LayoutModel",
      "state": {}
     },
     "ef76703d710b422eb470d22ea5908e19": {
      "model_module": "@jupyter-widgets/base",
      "model_module_version": "1.2.0",
      "model_name": "LayoutModel",
      "state": {}
     },
     "efc983d367c54351be4bce4dfdd21acf": {
      "model_module": "@jupyter-widgets/controls",
      "model_module_version": "1.5.0",
      "model_name": "DescriptionStyleModel",
      "state": {
       "description_width": ""
      }
     },
     "efd3b2de9aa842d0920a17fb9f14cecb": {
      "model_module": "@jupyter-widgets/base",
      "model_module_version": "1.2.0",
      "model_name": "LayoutModel",
      "state": {}
     },
     "efd9576f020f4e70bbe33537651f6819": {
      "model_module": "@jupyter-widgets/base",
      "model_module_version": "1.2.0",
      "model_name": "LayoutModel",
      "state": {}
     },
     "f05b86a4b2de4d95a4dc61bb97723b83": {
      "model_module": "@jupyter-widgets/base",
      "model_module_version": "1.2.0",
      "model_name": "LayoutModel",
      "state": {}
     },
     "f05c4f32186f49429fcc86d42eabc5bc": {
      "model_module": "@jupyter-widgets/controls",
      "model_module_version": "1.5.0",
      "model_name": "HTMLModel",
      "state": {
       "layout": "IPY_MODEL_f6d7af23db344902b99a6449665f4ed4",
       "style": "IPY_MODEL_7665a1d796534778b9368ec3e4de4a83",
       "value": " 100/100 [03:50&lt;00:00,  2.28s/it]"
      }
     },
     "f05c8d4dfc804c42b7489acb4c3f6304": {
      "model_module": "@jupyter-widgets/controls",
      "model_module_version": "1.5.0",
      "model_name": "HTMLModel",
      "state": {
       "layout": "IPY_MODEL_b1645681cfeb47b89e8e4a97113eec6d",
       "style": "IPY_MODEL_7d1e8b0c9e5647fa96a01e1e0fbb39a5",
       "value": "100%"
      }
     },
     "f05dcb32c58f407fa4f91aad501ac284": {
      "model_module": "@jupyter-widgets/base",
      "model_module_version": "1.2.0",
      "model_name": "LayoutModel",
      "state": {}
     },
     "f079e07a16734996b86a11cd9e79483b": {
      "model_module": "@jupyter-widgets/controls",
      "model_module_version": "1.5.0",
      "model_name": "DescriptionStyleModel",
      "state": {
       "description_width": ""
      }
     },
     "f08589ecd7b549329ac06ec30d0edadc": {
      "model_module": "@jupyter-widgets/base",
      "model_module_version": "1.2.0",
      "model_name": "LayoutModel",
      "state": {}
     },
     "f08835564359407eac854d5e95f29ae4": {
      "model_module": "@jupyter-widgets/controls",
      "model_module_version": "1.5.0",
      "model_name": "FloatProgressModel",
      "state": {
       "bar_style": "success",
       "layout": "IPY_MODEL_7e602c3498a74dd2a68e68fc3a92a283",
       "max": 1,
       "style": "IPY_MODEL_f7240fd84a2a487fa408b2a9c55cb890",
       "value": 1
      }
     },
     "f08ee2e676c14e6c80d6a716e7c45cf4": {
      "model_module": "@jupyter-widgets/base",
      "model_module_version": "1.2.0",
      "model_name": "LayoutModel",
      "state": {}
     },
     "f093a618af57473b87521e5e89f0bf70": {
      "model_module": "@jupyter-widgets/controls",
      "model_module_version": "1.5.0",
      "model_name": "HTMLModel",
      "state": {
       "layout": "IPY_MODEL_441286f5fe0544b48b0c046f49d16a8a",
       "style": "IPY_MODEL_14caa668cf7b42b48d6ffce57a0cefc7",
       "value": "100%"
      }
     },
     "f099fbf57a1a4154b346cdb4a314ad45": {
      "model_module": "@jupyter-widgets/controls",
      "model_module_version": "1.5.0",
      "model_name": "ProgressStyleModel",
      "state": {
       "description_width": ""
      }
     },
     "f0acfbf7b6054760af0fe260f2d27a6b": {
      "model_module": "@jupyter-widgets/controls",
      "model_module_version": "1.5.0",
      "model_name": "HTMLModel",
      "state": {
       "layout": "IPY_MODEL_b0ab24dd69b2445a8a572a51c84336e8",
       "style": "IPY_MODEL_818b41cd79974b90b03430311a1eb3e1",
       "value": " 1/1 [00:00&lt;00:00, 90.83it/s]"
      }
     },
     "f0b0572ff32e4b3fa5c40021c2f1408e": {
      "model_module": "@jupyter-widgets/controls",
      "model_module_version": "1.5.0",
      "model_name": "HTMLModel",
      "state": {
       "layout": "IPY_MODEL_bb3c053ac0e64bbab04f3c0e8159b23a",
       "style": "IPY_MODEL_2fe7ec6109844bfdb1ec5afbe3e55c85",
       "value": "100%"
      }
     },
     "f0ce1865ad104555a324b4bd12c0069d": {
      "model_module": "@jupyter-widgets/controls",
      "model_module_version": "1.5.0",
      "model_name": "HTMLModel",
      "state": {
       "layout": "IPY_MODEL_de2f0dd5d49d410982b4c4640b3fe8a5",
       "style": "IPY_MODEL_ebc66483574342f1b3b1fa99aa830971",
       "value": "100%"
      }
     },
     "f0d5b8a6d5604ef6857196916e735af8": {
      "model_module": "@jupyter-widgets/controls",
      "model_module_version": "1.5.0",
      "model_name": "HBoxModel",
      "state": {
       "children": [
        "IPY_MODEL_252427574c94454598cd6c5958296b07",
        "IPY_MODEL_305a3d3ad31a40ef8202b84fb2cca54e",
        "IPY_MODEL_fed77a7d74ca4c11bf7d2465fdbb6d8c"
       ],
       "layout": "IPY_MODEL_152197606cb343a2b0f0760ac4b1b952"
      }
     },
     "f0d82dc9f0654d5394597d1f97cea672": {
      "model_module": "@jupyter-widgets/controls",
      "model_module_version": "1.5.0",
      "model_name": "ProgressStyleModel",
      "state": {
       "description_width": ""
      }
     },
     "f0e2af43f38e45a2a45846f3f8d009ba": {
      "model_module": "@jupyter-widgets/controls",
      "model_module_version": "1.5.0",
      "model_name": "HTMLModel",
      "state": {
       "layout": "IPY_MODEL_9211abb26469491cbef5e8d32b7d457d",
       "style": "IPY_MODEL_e7d73783dfa24c5cafe1757b43bcd18f",
       "value": "100%"
      }
     },
     "f0ff443b16004f848537f595500e13c5": {
      "model_module": "@jupyter-widgets/controls",
      "model_module_version": "1.5.0",
      "model_name": "DescriptionStyleModel",
      "state": {
       "description_width": ""
      }
     },
     "f1118ef48e8c40c698a8f6ebb61e717a": {
      "model_module": "@jupyter-widgets/controls",
      "model_module_version": "1.5.0",
      "model_name": "HTMLModel",
      "state": {
       "layout": "IPY_MODEL_e9e9ea93f4934ae18da8b934d3d5bad8",
       "style": "IPY_MODEL_20253fc1b5204bbcb477f8daf88a8198",
       "value": "100%"
      }
     },
     "f143ef5d7f77431a849573a43edf1e2b": {
      "model_module": "@jupyter-widgets/controls",
      "model_module_version": "1.5.0",
      "model_name": "HTMLModel",
      "state": {
       "layout": "IPY_MODEL_a5c377f4ecb548c0bd28e17feb0f3bd5",
       "style": "IPY_MODEL_dbdaa931b26746439aaf56745cb622bb",
       "value": " 1/1 [00:02&lt;00:00,  2.08s/ba]"
      }
     },
     "f146b2f674d041cebb5f158fefe2abd3": {
      "model_module": "@jupyter-widgets/controls",
      "model_module_version": "1.5.0",
      "model_name": "FloatProgressModel",
      "state": {
       "bar_style": "success",
       "layout": "IPY_MODEL_531c741185124c51876ecee493b4e4da",
       "style": "IPY_MODEL_6aa371290ffc4762965ea47051bd6e5f",
       "value": 100
      }
     },
     "f15037f16f7349bfba1dfab048943cb4": {
      "model_module": "@jupyter-widgets/controls",
      "model_module_version": "1.5.0",
      "model_name": "ProgressStyleModel",
      "state": {
       "description_width": ""
      }
     },
     "f150ce9e03564b9ca5713eca919519af": {
      "model_module": "@jupyter-widgets/controls",
      "model_module_version": "1.5.0",
      "model_name": "HTMLModel",
      "state": {
       "layout": "IPY_MODEL_3a3e87254e8e4ff7adcfefeab3920c9a",
       "style": "IPY_MODEL_6554e7d098fa4f2b8d7831d4ac7bec7d",
       "value": " 1/1 [00:00&lt;00:00, 90.83it/s]"
      }
     },
     "f160b68b16dd4d8fb7f7ed190af3473e": {
      "model_module": "@jupyter-widgets/controls",
      "model_module_version": "1.5.0",
      "model_name": "HTMLModel",
      "state": {
       "layout": "IPY_MODEL_6ffd9654539641baaa15eb5d6f92ea03",
       "style": "IPY_MODEL_bc1d8874208c45f5b6bb2483d194258e",
       "value": "100%"
      }
     },
     "f167a797304f4bf1b73e9e0f807c6b67": {
      "model_module": "@jupyter-widgets/base",
      "model_module_version": "1.2.0",
      "model_name": "LayoutModel",
      "state": {}
     },
     "f19b3694d88d4417a56ea8b155bb5a5f": {
      "model_module": "@jupyter-widgets/base",
      "model_module_version": "1.2.0",
      "model_name": "LayoutModel",
      "state": {}
     },
     "f1a385db8c2f4a2aa8906beee1b1719f": {
      "model_module": "@jupyter-widgets/controls",
      "model_module_version": "1.5.0",
      "model_name": "HTMLModel",
      "state": {
       "layout": "IPY_MODEL_9f788ecebf21489e98c3aca54c6b2a84",
       "style": "IPY_MODEL_6c81d3ca527e439da686d6bafdbd3b60",
       "value": "100%"
      }
     },
     "f1c81f4513f545ff8372e97e0bc3ca56": {
      "model_module": "@jupyter-widgets/base",
      "model_module_version": "1.2.0",
      "model_name": "LayoutModel",
      "state": {}
     },
     "f204ec181d18463e9daddbcaa1b60dcc": {
      "model_module": "@jupyter-widgets/controls",
      "model_module_version": "1.5.0",
      "model_name": "FloatProgressModel",
      "state": {
       "bar_style": "success",
       "layout": "IPY_MODEL_516acc24509e4facbc5c00293688119b",
       "max": 1,
       "style": "IPY_MODEL_d9a37977a4e6413d90c3b17c7dad6a13",
       "value": 1
      }
     },
     "f2210d05cfab42c8b2a16d6ec646abbf": {
      "model_module": "@jupyter-widgets/controls",
      "model_module_version": "1.5.0",
      "model_name": "DescriptionStyleModel",
      "state": {
       "description_width": ""
      }
     },
     "f2719e05a2f547ceaa578f4f444092c7": {
      "model_module": "@jupyter-widgets/base",
      "model_module_version": "1.2.0",
      "model_name": "LayoutModel",
      "state": {}
     },
     "f2818afd04ad4098a9affc3e0f0391ad": {
      "model_module": "@jupyter-widgets/controls",
      "model_module_version": "1.5.0",
      "model_name": "DescriptionStyleModel",
      "state": {
       "description_width": ""
      }
     },
     "f2864f327d144d56a4b2428ee576ac21": {
      "model_module": "@jupyter-widgets/controls",
      "model_module_version": "1.5.0",
      "model_name": "DescriptionStyleModel",
      "state": {
       "description_width": ""
      }
     },
     "f2b244fce369453db0011f08a93547ff": {
      "model_module": "@jupyter-widgets/controls",
      "model_module_version": "1.5.0",
      "model_name": "DescriptionStyleModel",
      "state": {
       "description_width": ""
      }
     },
     "f2d486b362654163975911d6bf5e5513": {
      "model_module": "@jupyter-widgets/base",
      "model_module_version": "1.2.0",
      "model_name": "LayoutModel",
      "state": {}
     },
     "f2dd74faaa3d456189f7cee63fab6b21": {
      "model_module": "@jupyter-widgets/controls",
      "model_module_version": "1.5.0",
      "model_name": "DescriptionStyleModel",
      "state": {
       "description_width": ""
      }
     },
     "f3067b70b7cf43d69116ae4fd7db7f15": {
      "model_module": "@jupyter-widgets/controls",
      "model_module_version": "1.5.0",
      "model_name": "HTMLModel",
      "state": {
       "layout": "IPY_MODEL_44181d1ff19044d8a483689cfef160ab",
       "style": "IPY_MODEL_d8f04c5240ab4157bfc18a1b3c57d348",
       "value": " 1/1 [00:00&lt;00:00, 83.25it/s]"
      }
     },
     "f31050e42f0c4e3598507b398f87e8ee": {
      "model_module": "@jupyter-widgets/controls",
      "model_module_version": "1.5.0",
      "model_name": "HTMLModel",
      "state": {
       "layout": "IPY_MODEL_451abd48b1e0466cb9eac3a8788186b7",
       "style": "IPY_MODEL_fd54bea8f4b844b8983adc029e7efe04",
       "value": "  0%"
      }
     },
     "f3696b43e1ba42568b02d14469536559": {
      "model_module": "@jupyter-widgets/base",
      "model_module_version": "1.2.0",
      "model_name": "LayoutModel",
      "state": {}
     },
     "f394fbbe35494951b684ba77af5d0947": {
      "model_module": "@jupyter-widgets/controls",
      "model_module_version": "1.5.0",
      "model_name": "HTMLModel",
      "state": {
       "layout": "IPY_MODEL_3019492ca1f642859ed057f213c75e04",
       "style": "IPY_MODEL_ee0b3e21cc9149469cfbe699792d85a7",
       "value": "100%"
      }
     },
     "f39e379761d545b28d71511e8550f71b": {
      "model_module": "@jupyter-widgets/base",
      "model_module_version": "1.2.0",
      "model_name": "LayoutModel",
      "state": {}
     },
     "f3a437ca84ab4957b327c4475c5821e2": {
      "model_module": "@jupyter-widgets/controls",
      "model_module_version": "1.5.0",
      "model_name": "FloatProgressModel",
      "state": {
       "bar_style": "success",
       "layout": "IPY_MODEL_c1c7a67396794b739b6d3161e267c68b",
       "max": 1,
       "style": "IPY_MODEL_089af7f3e8584e188dd1f47626f7657f",
       "value": 1
      }
     },
     "f3a5530ca63540fbbdf59a40682015f5": {
      "model_module": "@jupyter-widgets/controls",
      "model_module_version": "1.5.0",
      "model_name": "DescriptionStyleModel",
      "state": {
       "description_width": ""
      }
     },
     "f3b789ed3b0740dda1479aed7bd5f442": {
      "model_module": "@jupyter-widgets/controls",
      "model_module_version": "1.5.0",
      "model_name": "HTMLModel",
      "state": {
       "layout": "IPY_MODEL_a085a98a3f3e44088d9f5bfc12468aa0",
       "style": "IPY_MODEL_d2d7d200f2a84ae5bd91a65923673187",
       "value": " 100/100 [04:01&lt;00:00,  2.00s/it]"
      }
     },
     "f3e876aa87eb40288bdcb405ef97e540": {
      "model_module": "@jupyter-widgets/controls",
      "model_module_version": "1.5.0",
      "model_name": "DescriptionStyleModel",
      "state": {
       "description_width": ""
      }
     },
     "f3ed71b1c1de442cb6ae9ea643cd4f76": {
      "model_module": "@jupyter-widgets/base",
      "model_module_version": "1.2.0",
      "model_name": "LayoutModel",
      "state": {}
     },
     "f3fc25d92b00489198a136e6d7de03f6": {
      "model_module": "@jupyter-widgets/base",
      "model_module_version": "1.2.0",
      "model_name": "LayoutModel",
      "state": {}
     },
     "f4162f0c3bad4b94a43eb474d0a8da9d": {
      "model_module": "@jupyter-widgets/base",
      "model_module_version": "1.2.0",
      "model_name": "LayoutModel",
      "state": {}
     },
     "f41f6147a5694c69abb7c1934ba76a9d": {
      "model_module": "@jupyter-widgets/base",
      "model_module_version": "1.2.0",
      "model_name": "LayoutModel",
      "state": {}
     },
     "f42dc7f32a1e4dbbaa1438beb1bda65e": {
      "model_module": "@jupyter-widgets/base",
      "model_module_version": "1.2.0",
      "model_name": "LayoutModel",
      "state": {}
     },
     "f42e42885d8c44368a86fea281774330": {
      "model_module": "@jupyter-widgets/controls",
      "model_module_version": "1.5.0",
      "model_name": "HTMLModel",
      "state": {
       "layout": "IPY_MODEL_cb63098c45a342e9b0b01805e32e8fc2",
       "style": "IPY_MODEL_4fc790be5696491fb7cdfb3c8c8c2e84",
       "value": " 1/1 [00:00&lt;00:00, 99.91it/s]"
      }
     },
     "f449aa3b131d4d73bd6bc604af71ef54": {
      "model_module": "@jupyter-widgets/controls",
      "model_module_version": "1.5.0",
      "model_name": "HTMLModel",
      "state": {
       "layout": "IPY_MODEL_490c55948fba42e7ae596cd007fd59d1",
       "style": "IPY_MODEL_873ae6c79c7445aea2574cf7de6af2a1",
       "value": "100%"
      }
     },
     "f44e9eedcab24bf6addc6ed1f4efa77a": {
      "model_module": "@jupyter-widgets/controls",
      "model_module_version": "1.5.0",
      "model_name": "FloatProgressModel",
      "state": {
       "bar_style": "success",
       "layout": "IPY_MODEL_69508fc2fd324c31aa5175ee80e3a40c",
       "max": 1,
       "style": "IPY_MODEL_3b0a31306af749ce9bfd663ff4b29a0f",
       "value": 1
      }
     },
     "f45be6e600d349abb80e81a25a01476e": {
      "model_module": "@jupyter-widgets/controls",
      "model_module_version": "1.5.0",
      "model_name": "DescriptionStyleModel",
      "state": {
       "description_width": ""
      }
     },
     "f460083ada7041e49499b3bfd0b1a2fc": {
      "model_module": "@jupyter-widgets/base",
      "model_module_version": "1.2.0",
      "model_name": "LayoutModel",
      "state": {}
     },
     "f4890e343557463a8408b401532aa525": {
      "model_module": "@jupyter-widgets/controls",
      "model_module_version": "1.5.0",
      "model_name": "ProgressStyleModel",
      "state": {
       "description_width": ""
      }
     },
     "f48e727f5d534e23858b9b0146050b1e": {
      "model_module": "@jupyter-widgets/controls",
      "model_module_version": "1.5.0",
      "model_name": "DescriptionStyleModel",
      "state": {
       "description_width": ""
      }
     },
     "f496aaf70fd047cfb0360eb3eca765fc": {
      "model_module": "@jupyter-widgets/controls",
      "model_module_version": "1.5.0",
      "model_name": "HTMLModel",
      "state": {
       "layout": "IPY_MODEL_60f1a5c5d9b04e6699d3a1328d7e2f9a",
       "style": "IPY_MODEL_0b78b3b50a7e481dad97d19e4bd7ee88",
       "value": "100%"
      }
     },
     "f4a6467fc3634287b3adc6d536cb05bc": {
      "model_module": "@jupyter-widgets/controls",
      "model_module_version": "1.5.0",
      "model_name": "FloatProgressModel",
      "state": {
       "bar_style": "success",
       "layout": "IPY_MODEL_d2641508f5c44348845f3194d1a8cb47",
       "max": 1,
       "style": "IPY_MODEL_3c994489b44f44a59795d93cedd04f01",
       "value": 1
      }
     },
     "f4b2e18246e34b2394418cf3a96dd186": {
      "model_module": "@jupyter-widgets/controls",
      "model_module_version": "1.5.0",
      "model_name": "HBoxModel",
      "state": {
       "children": [
        "IPY_MODEL_deac7c3e17cc4cd386e9d3d2ccc57fe1",
        "IPY_MODEL_4f23555dfe1b4f9a9e52c451a047cd35",
        "IPY_MODEL_dbe9625e97b74b1080048e682a4c454e"
       ],
       "layout": "IPY_MODEL_a3df8ba8ab6d42098fd27656396811ee"
      }
     },
     "f4e67d4b32264995ad5fac16e72464d4": {
      "model_module": "@jupyter-widgets/base",
      "model_module_version": "1.2.0",
      "model_name": "LayoutModel",
      "state": {}
     },
     "f51dd18d5e7d4476a1081145d400d702": {
      "model_module": "@jupyter-widgets/base",
      "model_module_version": "1.2.0",
      "model_name": "LayoutModel",
      "state": {}
     },
     "f558f111dd9046608c78b99cdbffe3c0": {
      "model_module": "@jupyter-widgets/controls",
      "model_module_version": "1.5.0",
      "model_name": "DescriptionStyleModel",
      "state": {
       "description_width": ""
      }
     },
     "f5611890f22f4207bda3a8ae4bed9291": {
      "model_module": "@jupyter-widgets/controls",
      "model_module_version": "1.5.0",
      "model_name": "ProgressStyleModel",
      "state": {
       "description_width": ""
      }
     },
     "f5772b9bb6be4afe9235c1d21e21e699": {
      "model_module": "@jupyter-widgets/base",
      "model_module_version": "1.2.0",
      "model_name": "LayoutModel",
      "state": {}
     },
     "f5783b71a0eb4d13b85e219f91b5c440": {
      "model_module": "@jupyter-widgets/controls",
      "model_module_version": "1.5.0",
      "model_name": "DescriptionStyleModel",
      "state": {
       "description_width": ""
      }
     },
     "f57f1b65d7cf4b2fa16d223b4442dd9d": {
      "model_module": "@jupyter-widgets/controls",
      "model_module_version": "1.5.0",
      "model_name": "FloatProgressModel",
      "state": {
       "bar_style": "success",
       "layout": "IPY_MODEL_8e7cdb68c7b54f6cb4f7f95a273564d4",
       "max": 1,
       "style": "IPY_MODEL_5fa942d5d85c4d58bd3dfeb655990f02",
       "value": 1
      }
     },
     "f5aeaf6370f4489180c63bbbee9f584d": {
      "model_module": "@jupyter-widgets/controls",
      "model_module_version": "1.5.0",
      "model_name": "FloatProgressModel",
      "state": {
       "bar_style": "success",
       "layout": "IPY_MODEL_7eca940ee73449db8af6d28b66d91e23",
       "max": 1,
       "style": "IPY_MODEL_2dced5fa9f84404aab239d1b58a74772",
       "value": 1
      }
     },
     "f5be7627e3f94bc0910109269466592a": {
      "model_module": "@jupyter-widgets/controls",
      "model_module_version": "1.5.0",
      "model_name": "HTMLModel",
      "state": {
       "layout": "IPY_MODEL_e159588aba674e96838cb4cf1733154e",
       "style": "IPY_MODEL_a83ca3b748b0498490650f4379175214",
       "value": " 1/1 [00:07&lt;00:00,  7.50s/ba]"
      }
     },
     "f5c9b090d6f542ff9c9a98200508bd53": {
      "model_module": "@jupyter-widgets/controls",
      "model_module_version": "1.5.0",
      "model_name": "DescriptionStyleModel",
      "state": {
       "description_width": ""
      }
     },
     "f5e8d239558f4b1886c152de026c9555": {
      "model_module": "@jupyter-widgets/controls",
      "model_module_version": "1.5.0",
      "model_name": "FloatProgressModel",
      "state": {
       "bar_style": "success",
       "layout": "IPY_MODEL_b5c532e7df4a4b789e6ff188ff2369c2",
       "max": 1,
       "style": "IPY_MODEL_c00551870c084a24861a6e1bfb54b73b",
       "value": 1
      }
     },
     "f5ef97647e814182932b9dadfd1a0e97": {
      "model_module": "@jupyter-widgets/base",
      "model_module_version": "1.2.0",
      "model_name": "LayoutModel",
      "state": {}
     },
     "f604c35082844d30aa9291e106f186bb": {
      "model_module": "@jupyter-widgets/controls",
      "model_module_version": "1.5.0",
      "model_name": "ProgressStyleModel",
      "state": {
       "description_width": ""
      }
     },
     "f60d090b816e4ef6bb8b198861d5ecea": {
      "model_module": "@jupyter-widgets/controls",
      "model_module_version": "1.5.0",
      "model_name": "HTMLModel",
      "state": {
       "layout": "IPY_MODEL_5ca7f69ce176454da3cbe5be7bf3bd76",
       "style": "IPY_MODEL_23172f5cfb4348b094870c0766154083",
       "value": "100%"
      }
     },
     "f62522c574f54e83a7d91be78477d5ce": {
      "model_module": "@jupyter-widgets/base",
      "model_module_version": "1.2.0",
      "model_name": "LayoutModel",
      "state": {}
     },
     "f62617992d8e40ed92ed8f424495316e": {
      "model_module": "@jupyter-widgets/controls",
      "model_module_version": "1.5.0",
      "model_name": "ProgressStyleModel",
      "state": {
       "description_width": ""
      }
     },
     "f637e44166db494182cb5244063fcce2": {
      "model_module": "@jupyter-widgets/controls",
      "model_module_version": "1.5.0",
      "model_name": "HTMLModel",
      "state": {
       "layout": "IPY_MODEL_f08589ecd7b549329ac06ec30d0edadc",
       "style": "IPY_MODEL_3daf35ebdd584f78ad388b10782f4f93",
       "value": "100%"
      }
     },
     "f6bb18e77afd41118ece91107457b444": {
      "model_module": "@jupyter-widgets/base",
      "model_module_version": "1.2.0",
      "model_name": "LayoutModel",
      "state": {}
     },
     "f6cae8a26aa54fef9d6456ef3a460c41": {
      "model_module": "@jupyter-widgets/controls",
      "model_module_version": "1.5.0",
      "model_name": "HTMLModel",
      "state": {
       "layout": "IPY_MODEL_b68e4bc6347d4c62891909f2f2841bdc",
       "style": "IPY_MODEL_adc4ae73fffd4622a6807aabad62653a",
       "value": "100%"
      }
     },
     "f6cb85bf48eb423686e054f38e1282a6": {
      "model_module": "@jupyter-widgets/controls",
      "model_module_version": "1.5.0",
      "model_name": "ProgressStyleModel",
      "state": {
       "description_width": ""
      }
     },
     "f6d7af23db344902b99a6449665f4ed4": {
      "model_module": "@jupyter-widgets/base",
      "model_module_version": "1.2.0",
      "model_name": "LayoutModel",
      "state": {}
     },
     "f7240fd84a2a487fa408b2a9c55cb890": {
      "model_module": "@jupyter-widgets/controls",
      "model_module_version": "1.5.0",
      "model_name": "ProgressStyleModel",
      "state": {
       "description_width": ""
      }
     },
     "f7393b6975114fdfb93d64f689352fb8": {
      "model_module": "@jupyter-widgets/base",
      "model_module_version": "1.2.0",
      "model_name": "LayoutModel",
      "state": {}
     },
     "f762124cc36746efb4636fca1bd51782": {
      "model_module": "@jupyter-widgets/base",
      "model_module_version": "1.2.0",
      "model_name": "LayoutModel",
      "state": {}
     },
     "f777e16a170841f1a979bd0f02c92457": {
      "model_module": "@jupyter-widgets/controls",
      "model_module_version": "1.5.0",
      "model_name": "ProgressStyleModel",
      "state": {
       "description_width": ""
      }
     },
     "f77a6758c83e4495ad393510af166cb4": {
      "model_module": "@jupyter-widgets/controls",
      "model_module_version": "1.5.0",
      "model_name": "HBoxModel",
      "state": {
       "children": [
        "IPY_MODEL_4476ad8052694861990f07580003fc94",
        "IPY_MODEL_ec726ad600284265ba66ced0e587e0b1",
        "IPY_MODEL_1513fd617ebf43f5933b3c9b7346d944"
       ],
       "layout": "IPY_MODEL_7d38fc1adc3d4d7cb9da0fff62d1a0a5"
      }
     },
     "f78e5a15d8dd43918727519770a38064": {
      "model_module": "@jupyter-widgets/controls",
      "model_module_version": "1.5.0",
      "model_name": "ProgressStyleModel",
      "state": {
       "description_width": ""
      }
     },
     "f793e9b0159044c2872d1a1eaffaaae1": {
      "model_module": "@jupyter-widgets/controls",
      "model_module_version": "1.5.0",
      "model_name": "FloatProgressModel",
      "state": {
       "bar_style": "success",
       "layout": "IPY_MODEL_5603edbe2c814419b547d47ec21efef9",
       "max": 1,
       "style": "IPY_MODEL_a899d0b572ff424cb69d3ccc00bd6d42",
       "value": 1
      }
     },
     "f79b6cb5c3a24b8ea40d53dad753dcb6": {
      "model_module": "@jupyter-widgets/base",
      "model_module_version": "1.2.0",
      "model_name": "LayoutModel",
      "state": {}
     },
     "f79d61d19f8e4772919aa1163d797eb9": {
      "model_module": "@jupyter-widgets/controls",
      "model_module_version": "1.5.0",
      "model_name": "HBoxModel",
      "state": {
       "children": [
        "IPY_MODEL_475c568c69554839be9f3c4b312c8ea4",
        "IPY_MODEL_b1ecebffb9d941c3b6b64027cdb0303d",
        "IPY_MODEL_90fac7d9387847f0991ab4283e767ad6"
       ],
       "layout": "IPY_MODEL_7a0580abe3c64b0790e1f4548aa89100"
      }
     },
     "f7a4b550a5354aa78553e5c10f80f1eb": {
      "model_module": "@jupyter-widgets/controls",
      "model_module_version": "1.5.0",
      "model_name": "HTMLModel",
      "state": {
       "layout": "IPY_MODEL_2a9776396d46405aa886a15576730d6e",
       "style": "IPY_MODEL_fab9562fd1ec43228220a68b05e0afda",
       "value": " 226k/226k [00:00&lt;00:00, 553kB/s]"
      }
     },
     "f7b7a46456c54e529bbdf0864339e687": {
      "model_module": "@jupyter-widgets/base",
      "model_module_version": "1.2.0",
      "model_name": "LayoutModel",
      "state": {}
     },
     "f7c390ef0c754601b504d2909e921207": {
      "model_module": "@jupyter-widgets/controls",
      "model_module_version": "1.5.0",
      "model_name": "DescriptionStyleModel",
      "state": {
       "description_width": ""
      }
     },
     "f7cabc60753347b5acf57f9af4523493": {
      "model_module": "@jupyter-widgets/controls",
      "model_module_version": "1.5.0",
      "model_name": "HTMLModel",
      "state": {
       "layout": "IPY_MODEL_bbd981c68fbd40ebab801d0e03402243",
       "style": "IPY_MODEL_2fd1c250483148928158788df69cd83c",
       "value": "100%"
      }
     },
     "f7d246ffa7334d59897bf1f50ec6332c": {
      "model_module": "@jupyter-widgets/controls",
      "model_module_version": "1.5.0",
      "model_name": "DescriptionStyleModel",
      "state": {
       "description_width": ""
      }
     },
     "f7d2b7bb49474741b1848aee2e4c63a3": {
      "model_module": "@jupyter-widgets/base",
      "model_module_version": "1.2.0",
      "model_name": "LayoutModel",
      "state": {}
     },
     "f7dd147a697c413c87adfea4bf14c7e6": {
      "model_module": "@jupyter-widgets/base",
      "model_module_version": "1.2.0",
      "model_name": "LayoutModel",
      "state": {}
     },
     "f7dd8e9d354d48af876af1db1c0cb402": {
      "model_module": "@jupyter-widgets/controls",
      "model_module_version": "1.5.0",
      "model_name": "HTMLModel",
      "state": {
       "layout": "IPY_MODEL_02b4b05f3c694b53bec4dea26867a60b",
       "style": "IPY_MODEL_ae9191afca3f46ddbb63434107caf3a1",
       "value": "100%"
      }
     },
     "f7f8e4f7a01443b0b6e903936a54652a": {
      "model_module": "@jupyter-widgets/base",
      "model_module_version": "1.2.0",
      "model_name": "LayoutModel",
      "state": {}
     },
     "f80c054639934ee088d26755170983f9": {
      "model_module": "@jupyter-widgets/controls",
      "model_module_version": "1.5.0",
      "model_name": "FloatProgressModel",
      "state": {
       "bar_style": "success",
       "layout": "IPY_MODEL_9a3fd34e82124b3c846496c8cf2d4be4",
       "max": 1,
       "style": "IPY_MODEL_5d4f98a34bf1490baf49b790fb55ab9e",
       "value": 1
      }
     },
     "f832576008b94555955e250667759720": {
      "model_module": "@jupyter-widgets/controls",
      "model_module_version": "1.5.0",
      "model_name": "HBoxModel",
      "state": {
       "children": [
        "IPY_MODEL_cc0b82c2c6164acca2363a9fff7c38dc",
        "IPY_MODEL_0d50bb6c37a7408584a68c34b7a87320",
        "IPY_MODEL_f9a95f4f0f274c81b30405333ee0d024"
       ],
       "layout": "IPY_MODEL_4ac2075c77b347f2abdd87d35e84a800"
      }
     },
     "f86e12c4d82b44629e6fbe7623dd03bc": {
      "model_module": "@jupyter-widgets/controls",
      "model_module_version": "1.5.0",
      "model_name": "HBoxModel",
      "state": {
       "children": [
        "IPY_MODEL_05dd2f1bc4de42ab929fe9c7f780f3c1",
        "IPY_MODEL_d81353e59e9a48afb7d81038a68ab0cc",
        "IPY_MODEL_3bc0bc1090a1470699a797afb5f13651"
       ],
       "layout": "IPY_MODEL_06151edfc9a14e8fad577b187ee1cab4"
      }
     },
     "f89b710210864ff4838505faa75d8155": {
      "model_module": "@jupyter-widgets/controls",
      "model_module_version": "1.5.0",
      "model_name": "ProgressStyleModel",
      "state": {
       "description_width": ""
      }
     },
     "f8a1d248189b407185612f7eee31639d": {
      "model_module": "@jupyter-widgets/controls",
      "model_module_version": "1.5.0",
      "model_name": "HTMLModel",
      "state": {
       "layout": "IPY_MODEL_49e8546f5ba940259526a3ea80a3052f",
       "style": "IPY_MODEL_3b6581621bcc4181954d8b68d7c4d32d",
       "value": "100%"
      }
     },
     "f8b19f0f2c7f40b78fddc379ea9e80ac": {
      "model_module": "@jupyter-widgets/base",
      "model_module_version": "1.2.0",
      "model_name": "LayoutModel",
      "state": {}
     },
     "f8be41acb1144c5b87c45a7071ee6aff": {
      "model_module": "@jupyter-widgets/controls",
      "model_module_version": "1.5.0",
      "model_name": "DescriptionStyleModel",
      "state": {
       "description_width": ""
      }
     },
     "f8cba93990b040d68affef46663554d2": {
      "model_module": "@jupyter-widgets/controls",
      "model_module_version": "1.5.0",
      "model_name": "ProgressStyleModel",
      "state": {
       "description_width": ""
      }
     },
     "f8dcf35aaff346abaea50bb4874aed21": {
      "model_module": "@jupyter-widgets/controls",
      "model_module_version": "1.5.0",
      "model_name": "HTMLModel",
      "state": {
       "layout": "IPY_MODEL_127e6c62bf6245a7ac3ef6daf77a4609",
       "style": "IPY_MODEL_2358d510e58349b0afecddbe2cc881a0",
       "value": "100%"
      }
     },
     "f8ded54fac5244cb8821901a789f4c13": {
      "model_module": "@jupyter-widgets/controls",
      "model_module_version": "1.5.0",
      "model_name": "DescriptionStyleModel",
      "state": {
       "description_width": ""
      }
     },
     "f90981caf14d4c4d973f68d693217684": {
      "model_module": "@jupyter-widgets/controls",
      "model_module_version": "1.5.0",
      "model_name": "ProgressStyleModel",
      "state": {
       "description_width": ""
      }
     },
     "f962359cd31842c39176c479ff16680d": {
      "model_module": "@jupyter-widgets/controls",
      "model_module_version": "1.5.0",
      "model_name": "FloatProgressModel",
      "state": {
       "bar_style": "success",
       "layout": "IPY_MODEL_cb8273adfa334cf0aa516319665c2beb",
       "max": 1,
       "style": "IPY_MODEL_7642a288e5fd4e678250d9ec13031d30",
       "value": 1
      }
     },
     "f969497047b94459b49545a0f4a0b048": {
      "model_module": "@jupyter-widgets/base",
      "model_module_version": "1.2.0",
      "model_name": "LayoutModel",
      "state": {}
     },
     "f96db525524841138173d5cf4252bfe0": {
      "model_module": "@jupyter-widgets/base",
      "model_module_version": "1.2.0",
      "model_name": "LayoutModel",
      "state": {}
     },
     "f96e510e7a0f4aeea9f4e1dfd62e0e58": {
      "model_module": "@jupyter-widgets/controls",
      "model_module_version": "1.5.0",
      "model_name": "HBoxModel",
      "state": {
       "children": [
        "IPY_MODEL_299557bcb1ff4850b78fac5b9effef15",
        "IPY_MODEL_4856fa6a964a47d48f9ff609cc32b675",
        "IPY_MODEL_4240d1a6f8ef4d82b0c59cc906f7205f"
       ],
       "layout": "IPY_MODEL_012a4e853e434abb9dadbf92bacbc1dd"
      }
     },
     "f984166fe01a44ec86a7e4cf7e2f5eaf": {
      "model_module": "@jupyter-widgets/base",
      "model_module_version": "1.2.0",
      "model_name": "LayoutModel",
      "state": {}
     },
     "f98fa549f1ee46bd8eb4eca2716a11fd": {
      "model_module": "@jupyter-widgets/base",
      "model_module_version": "1.2.0",
      "model_name": "LayoutModel",
      "state": {}
     },
     "f9916ae0f0054fbe8b99e0224a9b9d71": {
      "model_module": "@jupyter-widgets/controls",
      "model_module_version": "1.5.0",
      "model_name": "HTMLModel",
      "state": {
       "layout": "IPY_MODEL_1bb4ac9c8d2d42558ef693442c094767",
       "style": "IPY_MODEL_6c8e43e787744ecdadc617c13be79c04",
       "value": " 32/100 [03:29&lt;01:25,  1.25s/it]"
      }
     },
     "f99be59ab4934b07a5ccc32e3e5130b4": {
      "model_module": "@jupyter-widgets/controls",
      "model_module_version": "1.5.0",
      "model_name": "ProgressStyleModel",
      "state": {
       "description_width": ""
      }
     },
     "f9a5fb973602431cb9327f2a88ae1744": {
      "model_module": "@jupyter-widgets/controls",
      "model_module_version": "1.5.0",
      "model_name": "FloatProgressModel",
      "state": {
       "bar_style": "success",
       "layout": "IPY_MODEL_b1e1d7fe362447249ec4f506dfca427e",
       "max": 1,
       "style": "IPY_MODEL_207f6991680144bd8d13398eef942f38",
       "value": 1
      }
     },
     "f9a95f4f0f274c81b30405333ee0d024": {
      "model_module": "@jupyter-widgets/controls",
      "model_module_version": "1.5.0",
      "model_name": "HTMLModel",
      "state": {
       "layout": "IPY_MODEL_5335996e05b042b685a0cb7cf3118bc1",
       "style": "IPY_MODEL_45fac2dc70d64423b844f38bf63d5a7a",
       "value": " 1/1 [00:00&lt;00:00, 99.91it/s]"
      }
     },
     "f9cb75fa92e949699b6c3fd1ee1c7a84": {
      "model_module": "@jupyter-widgets/controls",
      "model_module_version": "1.5.0",
      "model_name": "HTMLModel",
      "state": {
       "layout": "IPY_MODEL_fc8ed0a4748d498db604bbcf0a19c7cd",
       "style": "IPY_MODEL_755b227e7c0247e2893ccca69786dde3",
       "value": "100%"
      }
     },
     "f9d4f249b57f4a6aa51936d5846fbab5": {
      "model_module": "@jupyter-widgets/controls",
      "model_module_version": "1.5.0",
      "model_name": "HTMLModel",
      "state": {
       "layout": "IPY_MODEL_5b3d085ca35a44aa82dd81ab29dc001b",
       "style": "IPY_MODEL_bd800c5c27c14b7caab0363e2457f796",
       "value": "100%"
      }
     },
     "f9e19511f72f4d0ca5d03c9910d5da14": {
      "model_module": "@jupyter-widgets/controls",
      "model_module_version": "1.5.0",
      "model_name": "HBoxModel",
      "state": {
       "children": [
        "IPY_MODEL_b1f55c12aeb840a39062f89f1ac8ffea",
        "IPY_MODEL_9415b2c40cc445829c1bcbe3fa4a18b5",
        "IPY_MODEL_bc784ab2e1d14825a7bc3a3a3289ccba"
       ],
       "layout": "IPY_MODEL_871e5bc1f4a143ff8882b3ded07dadae"
      }
     },
     "f9e50002edc240a68a76e48d4604692c": {
      "model_module": "@jupyter-widgets/controls",
      "model_module_version": "1.5.0",
      "model_name": "ProgressStyleModel",
      "state": {
       "description_width": ""
      }
     },
     "f9fa9709aa3a406b9a68416cf6474c1b": {
      "model_module": "@jupyter-widgets/controls",
      "model_module_version": "1.5.0",
      "model_name": "HBoxModel",
      "state": {
       "children": [
        "IPY_MODEL_3fda4b2f4ae04829a0a35d1106f8b489",
        "IPY_MODEL_4b3a9e2502464350aac4ddde6c1a186a",
        "IPY_MODEL_879072f5da9846079d8e96a0a7c1f3ea"
       ],
       "layout": "IPY_MODEL_147391c2c74146f28bf1c3e0f59b7e5e"
      }
     },
     "fa1d2db2d5514fd88049a69d0844065a": {
      "model_module": "@jupyter-widgets/controls",
      "model_module_version": "1.5.0",
      "model_name": "ProgressStyleModel",
      "state": {
       "description_width": ""
      }
     },
     "fa1d6a81bbd24a0b9dda41d8ac23622e": {
      "model_module": "@jupyter-widgets/controls",
      "model_module_version": "1.5.0",
      "model_name": "ProgressStyleModel",
      "state": {
       "description_width": ""
      }
     },
     "fa4890e2438f4b25b9382d262af94a16": {
      "model_module": "@jupyter-widgets/base",
      "model_module_version": "1.2.0",
      "model_name": "LayoutModel",
      "state": {}
     },
     "fa580c56170c4dcfa46b16813ebe5cdc": {
      "model_module": "@jupyter-widgets/base",
      "model_module_version": "1.2.0",
      "model_name": "LayoutModel",
      "state": {}
     },
     "fa5d7cf56ec44dd597818e4e6f347db2": {
      "model_module": "@jupyter-widgets/controls",
      "model_module_version": "1.5.0",
      "model_name": "HTMLModel",
      "state": {
       "layout": "IPY_MODEL_0e517173d9cf4856860eea585a9fd41c",
       "style": "IPY_MODEL_6ce2efa62fe940839115bd190c575012",
       "value": " 1/1 [00:02&lt;00:00,  2.10s/ba]"
      }
     },
     "fa6e3cc5e0dc497cb4007e10b00a8987": {
      "model_module": "@jupyter-widgets/controls",
      "model_module_version": "1.5.0",
      "model_name": "DescriptionStyleModel",
      "state": {
       "description_width": ""
      }
     },
     "fa702f277c7c4afdb7deba3a2b19e46b": {
      "model_module": "@jupyter-widgets/controls",
      "model_module_version": "1.5.0",
      "model_name": "HTMLModel",
      "state": {
       "layout": "IPY_MODEL_ea7d21f689a243679879bfa0357dc6be",
       "style": "IPY_MODEL_fbdb4230501b490a82603c50050cd156",
       "value": "100%"
      }
     },
     "fa751c9a5f054c789b7202a8deba1839": {
      "model_module": "@jupyter-widgets/base",
      "model_module_version": "1.2.0",
      "model_name": "LayoutModel",
      "state": {}
     },
     "fa8deb05bda6467ab8c865115d1cb757": {
      "model_module": "@jupyter-widgets/base",
      "model_module_version": "1.2.0",
      "model_name": "LayoutModel",
      "state": {}
     },
     "faa7f575c1894c6b8492dab03cdea5b0": {
      "model_module": "@jupyter-widgets/controls",
      "model_module_version": "1.5.0",
      "model_name": "DescriptionStyleModel",
      "state": {
       "description_width": ""
      }
     },
     "fab9562fd1ec43228220a68b05e0afda": {
      "model_module": "@jupyter-widgets/controls",
      "model_module_version": "1.5.0",
      "model_name": "DescriptionStyleModel",
      "state": {
       "description_width": ""
      }
     },
     "fac8b4820f274f109cfea81d6a6042b5": {
      "model_module": "@jupyter-widgets/base",
      "model_module_version": "1.2.0",
      "model_name": "LayoutModel",
      "state": {}
     },
     "fad06fed708048fc8958f0026636aa7c": {
      "model_module": "@jupyter-widgets/controls",
      "model_module_version": "1.5.0",
      "model_name": "FloatProgressModel",
      "state": {
       "bar_style": "success",
       "layout": "IPY_MODEL_c02fe3c891e145be8b8706f47fa5a600",
       "max": 1,
       "style": "IPY_MODEL_fcf111f13bd2475f96c00b105c3d886a",
       "value": 1
      }
     },
     "fae4a5640cc8440ca6527a3be02d0c32": {
      "model_module": "@jupyter-widgets/controls",
      "model_module_version": "1.5.0",
      "model_name": "FloatProgressModel",
      "state": {
       "bar_style": "success",
       "layout": "IPY_MODEL_5780a277faed4dc09df191f26cee1e4e",
       "max": 1,
       "style": "IPY_MODEL_2d1166b248fc491abf006e5ea015ae0a",
       "value": 1
      }
     },
     "faee10ad976c432c9b439cc82b4e0501": {
      "model_module": "@jupyter-widgets/base",
      "model_module_version": "1.2.0",
      "model_name": "LayoutModel",
      "state": {}
     },
     "fb000351d2754a73a92fbc8fd1203b78": {
      "model_module": "@jupyter-widgets/controls",
      "model_module_version": "1.5.0",
      "model_name": "DescriptionStyleModel",
      "state": {
       "description_width": ""
      }
     },
     "fb21b06500934a5fbd6a4fbafd8cacfd": {
      "model_module": "@jupyter-widgets/controls",
      "model_module_version": "1.5.0",
      "model_name": "ProgressStyleModel",
      "state": {
       "description_width": ""
      }
     },
     "fb22d1867fd5427d85b2cebbfbc1824e": {
      "model_module": "@jupyter-widgets/controls",
      "model_module_version": "1.5.0",
      "model_name": "HTMLModel",
      "state": {
       "layout": "IPY_MODEL_c0bf760b3c6a41ec901f23837faf36d5",
       "style": "IPY_MODEL_ebc9b307bc664395879ed855d30c0305",
       "value": " 1/1 [00:00&lt;00:00, 90.83it/s]"
      }
     },
     "fb875418e25c4460bde0381d6e7c9cdd": {
      "model_module": "@jupyter-widgets/controls",
      "model_module_version": "1.5.0",
      "model_name": "HTMLModel",
      "state": {
       "layout": "IPY_MODEL_88aa839cb46745c69eaca39b3519c2ca",
       "style": "IPY_MODEL_ccb3a15d06ee438eb0c83ce4e20b77f9",
       "value": "100%"
      }
     },
     "fb87be4cad384f3e9768f3eb85018bfb": {
      "model_module": "@jupyter-widgets/controls",
      "model_module_version": "1.5.0",
      "model_name": "DescriptionStyleModel",
      "state": {
       "description_width": ""
      }
     },
     "fb9dd57c9a064a53b56a52f0ed7e3d2a": {
      "model_module": "@jupyter-widgets/controls",
      "model_module_version": "1.5.0",
      "model_name": "HBoxModel",
      "state": {
       "children": [
        "IPY_MODEL_58a4d2eed3a04f72b2cbec63422154e7",
        "IPY_MODEL_3f68ab3c56a14065bfd792c59fe1e4ef",
        "IPY_MODEL_7dec94eb289347e2ac63d1e21c8d0997"
       ],
       "layout": "IPY_MODEL_8fd05a6d524c42a2b82087389fb22479"
      }
     },
     "fbc8feb3d47247afa9bc73e1e2a49276": {
      "model_module": "@jupyter-widgets/controls",
      "model_module_version": "1.5.0",
      "model_name": "HTMLModel",
      "state": {
       "layout": "IPY_MODEL_da3eebce99434345acad4725ef4c5217",
       "style": "IPY_MODEL_29de3b2a251949339c859dc0729c0eb7",
       "value": "100%"
      }
     },
     "fbdb4230501b490a82603c50050cd156": {
      "model_module": "@jupyter-widgets/controls",
      "model_module_version": "1.5.0",
      "model_name": "DescriptionStyleModel",
      "state": {
       "description_width": ""
      }
     },
     "fbf6e4984a6d4687b116546d0468f594": {
      "model_module": "@jupyter-widgets/base",
      "model_module_version": "1.2.0",
      "model_name": "LayoutModel",
      "state": {}
     },
     "fc05a2b705b84ace82d47241c2edd606": {
      "model_module": "@jupyter-widgets/base",
      "model_module_version": "1.2.0",
      "model_name": "LayoutModel",
      "state": {}
     },
     "fc22016860154466ad218186aa2f12fa": {
      "model_module": "@jupyter-widgets/base",
      "model_module_version": "1.2.0",
      "model_name": "LayoutModel",
      "state": {}
     },
     "fc4687ca0b62482c9326dbd5c08d8f03": {
      "model_module": "@jupyter-widgets/base",
      "model_module_version": "1.2.0",
      "model_name": "LayoutModel",
      "state": {}
     },
     "fc56f35f0a794758be2f77c1cf38101b": {
      "model_module": "@jupyter-widgets/controls",
      "model_module_version": "1.5.0",
      "model_name": "HTMLModel",
      "state": {
       "layout": "IPY_MODEL_ea5ef579a54f4dc0bda718592a380118",
       "style": "IPY_MODEL_dd9f129594e04d88988bb86d5a88e240",
       "value": " 1/1 [00:00&lt;00:00, 62.45it/s]"
      }
     },
     "fc8e66331ab24eb793389ab9527aa445": {
      "model_module": "@jupyter-widgets/controls",
      "model_module_version": "1.5.0",
      "model_name": "HTMLModel",
      "state": {
       "layout": "IPY_MODEL_e1fa5043fa5d4cbebeaf0b9c11a1c252",
       "style": "IPY_MODEL_bb686bd253df44739ec566ea464ee2d6",
       "value": "100%"
      }
     },
     "fc8ed0a4748d498db604bbcf0a19c7cd": {
      "model_module": "@jupyter-widgets/base",
      "model_module_version": "1.2.0",
      "model_name": "LayoutModel",
      "state": {}
     },
     "fc9814ee144d4579923915d6802c66ea": {
      "model_module": "@jupyter-widgets/controls",
      "model_module_version": "1.5.0",
      "model_name": "DescriptionStyleModel",
      "state": {
       "description_width": ""
      }
     },
     "fc9b184fd3774074b0abdd37b3611cf2": {
      "model_module": "@jupyter-widgets/controls",
      "model_module_version": "1.5.0",
      "model_name": "FloatProgressModel",
      "state": {
       "bar_style": "success",
       "layout": "IPY_MODEL_4bbff7c018b44e919c3648aac96b457c",
       "style": "IPY_MODEL_f4890e343557463a8408b401532aa525",
       "value": 100
      }
     },
     "fca5d5f735884cd8b24ff8737c6d277f": {
      "model_module": "@jupyter-widgets/base",
      "model_module_version": "1.2.0",
      "model_name": "LayoutModel",
      "state": {}
     },
     "fcabcefca773421f9c49ffc1d1c29319": {
      "model_module": "@jupyter-widgets/controls",
      "model_module_version": "1.5.0",
      "model_name": "DescriptionStyleModel",
      "state": {
       "description_width": ""
      }
     },
     "fcb0fbe8b1914b1d9ca248e019597b26": {
      "model_module": "@jupyter-widgets/controls",
      "model_module_version": "1.5.0",
      "model_name": "HTMLModel",
      "state": {
       "layout": "IPY_MODEL_2e998a42a6f44d0abcba64995a8e3727",
       "style": "IPY_MODEL_aff8165213b0412d949572eb75c512d7",
       "value": " 1/1 [00:00&lt;00:00, 99.90it/s]"
      }
     },
     "fcc718a6718d41ed901b5fb33d05e96c": {
      "model_module": "@jupyter-widgets/controls",
      "model_module_version": "1.5.0",
      "model_name": "HBoxModel",
      "state": {
       "children": [
        "IPY_MODEL_f05c8d4dfc804c42b7489acb4c3f6304",
        "IPY_MODEL_de46679ffabf4533a488af7f7f9490fb",
        "IPY_MODEL_0b748bc753bb45748f5106844249aeca"
       ],
       "layout": "IPY_MODEL_c751e713fdaf4b4c8e8e387cff9a0029"
      }
     },
     "fcef9606408647a5a05f68718814c48e": {
      "model_module": "@jupyter-widgets/base",
      "model_module_version": "1.2.0",
      "model_name": "LayoutModel",
      "state": {}
     },
     "fcf111f13bd2475f96c00b105c3d886a": {
      "model_module": "@jupyter-widgets/controls",
      "model_module_version": "1.5.0",
      "model_name": "ProgressStyleModel",
      "state": {
       "description_width": ""
      }
     },
     "fcf5df4a55034e8ab289be6abd4963cf": {
      "model_module": "@jupyter-widgets/base",
      "model_module_version": "1.2.0",
      "model_name": "LayoutModel",
      "state": {}
     },
     "fd04e77a20d947d1974d51c44999060e": {
      "model_module": "@jupyter-widgets/controls",
      "model_module_version": "1.5.0",
      "model_name": "FloatProgressModel",
      "state": {
       "bar_style": "success",
       "layout": "IPY_MODEL_a8f6c3dedc2b4c71b00091078a9ce663",
       "style": "IPY_MODEL_4fdd02cf8aeb4076af6aedb18a3e2b6c",
       "value": 100
      }
     },
     "fd21fafae924474ea88c120a3c2a385d": {
      "model_module": "@jupyter-widgets/controls",
      "model_module_version": "1.5.0",
      "model_name": "HTMLModel",
      "state": {
       "layout": "IPY_MODEL_a5aea3bff4624ae5ab2be0557e58be1b",
       "style": "IPY_MODEL_27175f8c5bb04c02b731ea07363a8c7b",
       "value": " 1/1 [00:02&lt;00:00,  2.24s/ba]"
      }
     },
     "fd26626f2df244cd8f46f8d063e60bf8": {
      "model_module": "@jupyter-widgets/base",
      "model_module_version": "1.2.0",
      "model_name": "LayoutModel",
      "state": {}
     },
     "fd287497931f4382a268d9da21c09f06": {
      "model_module": "@jupyter-widgets/controls",
      "model_module_version": "1.5.0",
      "model_name": "HTMLModel",
      "state": {
       "layout": "IPY_MODEL_092556fcddb94ec5b6b3f5c4c1ac43aa",
       "style": "IPY_MODEL_1088e2d947714d3a8b4679da946c3fc8",
       "value": "100%"
      }
     },
     "fd325f4d52144b25b3cc7619301ba17e": {
      "model_module": "@jupyter-widgets/base",
      "model_module_version": "1.2.0",
      "model_name": "LayoutModel",
      "state": {}
     },
     "fd3623ed27344f13a3a39b3756b40d89": {
      "model_module": "@jupyter-widgets/controls",
      "model_module_version": "1.5.0",
      "model_name": "HBoxModel",
      "state": {
       "children": [
        "IPY_MODEL_cf40e562651146b9829f6c170bb11d95",
        "IPY_MODEL_f5e8d239558f4b1886c152de026c9555",
        "IPY_MODEL_1adee6e54f0546c68446bee091a18692"
       ],
       "layout": "IPY_MODEL_e32266b90fe843e8ae04104d36d70ad1"
      }
     },
     "fd3c4b77b4e44f2dba7e565dd920517c": {
      "model_module": "@jupyter-widgets/controls",
      "model_module_version": "1.5.0",
      "model_name": "HTMLModel",
      "state": {
       "layout": "IPY_MODEL_968ba6cf6806410a88fbd4893d989d75",
       "style": "IPY_MODEL_0bba7169144f4b4ebf141e3d7dfba356",
       "value": "100%"
      }
     },
     "fd54bea8f4b844b8983adc029e7efe04": {
      "model_module": "@jupyter-widgets/controls",
      "model_module_version": "1.5.0",
      "model_name": "DescriptionStyleModel",
      "state": {
       "description_width": ""
      }
     },
     "fdacea6fea1b4624bee82bace3e1b46a": {
      "model_module": "@jupyter-widgets/base",
      "model_module_version": "1.2.0",
      "model_name": "LayoutModel",
      "state": {}
     },
     "fdb268dda0024550a6688d83cd8dde1c": {
      "model_module": "@jupyter-widgets/controls",
      "model_module_version": "1.5.0",
      "model_name": "HBoxModel",
      "state": {
       "children": [
        "IPY_MODEL_d9fcef7e802344d99443d47753fe0ba7",
        "IPY_MODEL_9a9ec752998f4d3fb457cdb2b87d909e",
        "IPY_MODEL_4fbb06445eaf4372bfec946d312debf5"
       ],
       "layout": "IPY_MODEL_dcf0b8e9ff574c76adefddb2d065e127"
      }
     },
     "fdb7f23284214a91821301d503a49083": {
      "model_module": "@jupyter-widgets/base",
      "model_module_version": "1.2.0",
      "model_name": "LayoutModel",
      "state": {}
     },
     "fdc4e78b8e8a487e96d65fe112e1ab99": {
      "model_module": "@jupyter-widgets/controls",
      "model_module_version": "1.5.0",
      "model_name": "DescriptionStyleModel",
      "state": {
       "description_width": ""
      }
     },
     "fde4e868019d4dc0be85c2e1daf49dd1": {
      "model_module": "@jupyter-widgets/base",
      "model_module_version": "1.2.0",
      "model_name": "LayoutModel",
      "state": {}
     },
     "fe1194de3fc64e4ca66de2ce826576b5": {
      "model_module": "@jupyter-widgets/controls",
      "model_module_version": "1.5.0",
      "model_name": "HTMLModel",
      "state": {
       "layout": "IPY_MODEL_7eee2b2dcb544c0bb7371e688208467c",
       "style": "IPY_MODEL_7f33f930f1354339bd48b485f9364de3",
       "value": "100%"
      }
     },
     "fe1868d23f9c46e2964c1ebb79379f08": {
      "model_module": "@jupyter-widgets/base",
      "model_module_version": "1.2.0",
      "model_name": "LayoutModel",
      "state": {}
     },
     "fe1e0682fd954575a1df10b0149f19e5": {
      "model_module": "@jupyter-widgets/controls",
      "model_module_version": "1.5.0",
      "model_name": "HTMLModel",
      "state": {
       "layout": "IPY_MODEL_416dc031aa0d4dd9a27504529071a5bf",
       "style": "IPY_MODEL_327781b232ab41b7a8ae9aef8366d44b",
       "value": " 100/100 [10:56&lt;00:00,  4.78s/it]"
      }
     },
     "fe3294d1fc384a6a9f426214d7fbc3ea": {
      "model_module": "@jupyter-widgets/controls",
      "model_module_version": "1.5.0",
      "model_name": "HTMLModel",
      "state": {
       "layout": "IPY_MODEL_e5b32e7a1cd34989908fec0eeac0226e",
       "style": "IPY_MODEL_3b49733a806f451e9e939b982d681f27",
       "value": "100%"
      }
     },
     "fe92418408ae41cc9b1cde8057e88b05": {
      "model_module": "@jupyter-widgets/base",
      "model_module_version": "1.2.0",
      "model_name": "LayoutModel",
      "state": {}
     },
     "fe99363e81394ee39fa33d5f31b190c4": {
      "model_module": "@jupyter-widgets/controls",
      "model_module_version": "1.5.0",
      "model_name": "DescriptionStyleModel",
      "state": {
       "description_width": ""
      }
     },
     "feb526a603284ee1be4780e96f7292b0": {
      "model_module": "@jupyter-widgets/base",
      "model_module_version": "1.2.0",
      "model_name": "LayoutModel",
      "state": {}
     },
     "feb58a9ddcef4bb2aa2f6131e0b00ac2": {
      "model_module": "@jupyter-widgets/base",
      "model_module_version": "1.2.0",
      "model_name": "LayoutModel",
      "state": {}
     },
     "febac991488646feb8d6c0e12f70e502": {
      "model_module": "@jupyter-widgets/base",
      "model_module_version": "1.2.0",
      "model_name": "LayoutModel",
      "state": {}
     },
     "fecf398deafd4363b4d6a0ea20ab8a23": {
      "model_module": "@jupyter-widgets/base",
      "model_module_version": "1.2.0",
      "model_name": "LayoutModel",
      "state": {}
     },
     "fed77a7d74ca4c11bf7d2465fdbb6d8c": {
      "model_module": "@jupyter-widgets/controls",
      "model_module_version": "1.5.0",
      "model_name": "HTMLModel",
      "state": {
       "layout": "IPY_MODEL_e3b3f969d5b948458a6e0475c26b8d77",
       "style": "IPY_MODEL_728eb130fcec408da5fa93eb3de89b8d",
       "value": " 256M/256M [05:52&lt;00:00, 1.11MB/s]"
      }
     },
     "fedbeb6ab6f946a78b5e0133ab8f5c7d": {
      "model_module": "@jupyter-widgets/base",
      "model_module_version": "1.2.0",
      "model_name": "LayoutModel",
      "state": {}
     },
     "fee22596442846d18e434cd9c99fb1e7": {
      "model_module": "@jupyter-widgets/base",
      "model_module_version": "1.2.0",
      "model_name": "LayoutModel",
      "state": {}
     },
     "ff687fe62fe54e02869513e76a19d741": {
      "model_module": "@jupyter-widgets/base",
      "model_module_version": "1.2.0",
      "model_name": "LayoutModel",
      "state": {}
     },
     "ff82f11fc1f342ceb49fddbdc6fc4aeb": {
      "model_module": "@jupyter-widgets/base",
      "model_module_version": "1.2.0",
      "model_name": "LayoutModel",
      "state": {}
     },
     "ffaa4de7fb974afc9a3c5c721172245d": {
      "model_module": "@jupyter-widgets/controls",
      "model_module_version": "1.5.0",
      "model_name": "DescriptionStyleModel",
      "state": {
       "description_width": ""
      }
     },
     "ffd6bab4689a45edab4980c0ce2ff5e1": {
      "model_module": "@jupyter-widgets/base",
      "model_module_version": "1.2.0",
      "model_name": "LayoutModel",
      "state": {}
     },
     "ffdc3bdae64b4e6ba92cd30eb593ca6a": {
      "model_module": "@jupyter-widgets/base",
      "model_module_version": "1.2.0",
      "model_name": "LayoutModel",
      "state": {}
     }
    },
    "version_major": 2,
    "version_minor": 0
   }
  }
 },
 "nbformat": 4,
 "nbformat_minor": 4
}
