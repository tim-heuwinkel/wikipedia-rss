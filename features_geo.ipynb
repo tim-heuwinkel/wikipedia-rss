{
 "cells": [
  {
   "cell_type": "markdown",
   "metadata": {},
   "source": [
    "# Feature Engineering for Geo Model"
   ]
  },
  {
   "cell_type": "markdown",
   "metadata": {},
   "source": [
    "This notebook creates geographic features from the Foursquare data and should therefore be run __after__ ``download_foursquare.ipynb``."
   ]
  },
  {
   "cell_type": "markdown",
   "metadata": {},
   "source": [
    "### Import packages"
   ]
  },
  {
   "cell_type": "code",
   "execution_count": 1,
   "metadata": {},
   "outputs": [],
   "source": [
    "%load_ext autoreload\n",
    "%autoreload 2"
   ]
  },
  {
   "cell_type": "code",
   "execution_count": 2,
   "metadata": {},
   "outputs": [],
   "source": [
    "import math\n",
    "from math import log2\n",
    "import warnings\n",
    "warnings.filterwarnings(action=\"ignore\")\n",
    "\n",
    "from tqdm.notebook import tqdm\n",
    "import pandas as pd\n",
    "\n",
    "import multiprocessor_wiki"
   ]
  },
  {
   "cell_type": "markdown",
   "metadata": {},
   "source": [
    "Definde constants.\n",
    "\n",
    "- ``PATH``: Path to the base data folder\n",
    "- ``MAX_DIST``: Maximum radius around each venue to consider\n",
    "- ``R_EARTH``: Approximate radius of the earth in m\n",
    "- ``CITY_CENTRE``: Coordinates of the city centre of the chosen city."
   ]
  },
  {
   "cell_type": "code",
   "execution_count": 3,
   "metadata": {},
   "outputs": [],
   "source": [
    "PATH = \"C:/Users/Tim/.keras/datasets/wikipedia_rss/\"\n",
    "MAX_DIST = 200\n",
    "R_EARTH = 6371000.0\n",
    "CITY_CENTER = (40.730610, -73.935242)"
   ]
  },
  {
   "cell_type": "markdown",
   "metadata": {},
   "source": [
    "Load venue and target category data."
   ]
  },
  {
   "cell_type": "code",
   "execution_count": 4,
   "metadata": {},
   "outputs": [
    {
     "name": "stdout",
     "output_type": "stream",
     "text": [
      "(2836, 7)\n"
     ]
    },
    {
     "data": {
      "text/html": [
       "<div>\n",
       "<style scoped>\n",
       "    .dataframe tbody tr th:only-of-type {\n",
       "        vertical-align: middle;\n",
       "    }\n",
       "\n",
       "    .dataframe tbody tr th {\n",
       "        vertical-align: top;\n",
       "    }\n",
       "\n",
       "    .dataframe thead th {\n",
       "        text-align: right;\n",
       "    }\n",
       "</style>\n",
       "<table border=\"1\" class=\"dataframe\">\n",
       "  <thead>\n",
       "    <tr style=\"text-align: right;\">\n",
       "      <th></th>\n",
       "      <th>venue_id</th>\n",
       "      <th>lat</th>\n",
       "      <th>long</th>\n",
       "      <th>borough</th>\n",
       "      <th>category</th>\n",
       "      <th>org_category</th>\n",
       "      <th>total_visits</th>\n",
       "    </tr>\n",
       "  </thead>\n",
       "  <tbody>\n",
       "    <tr>\n",
       "      <th>0</th>\n",
       "      <td>3fd66200f964a52001e51ee3</td>\n",
       "      <td>40.726961</td>\n",
       "      <td>-73.980039</td>\n",
       "      <td>Manhattan</td>\n",
       "      <td>Bar</td>\n",
       "      <td>Dive Bar</td>\n",
       "      <td>1</td>\n",
       "    </tr>\n",
       "    <tr>\n",
       "      <th>1</th>\n",
       "      <td>3fd66200f964a52003e51ee3</td>\n",
       "      <td>40.724822</td>\n",
       "      <td>-73.981456</td>\n",
       "      <td>Manhattan</td>\n",
       "      <td>Bar</td>\n",
       "      <td>Dive Bar</td>\n",
       "      <td>15</td>\n",
       "    </tr>\n",
       "    <tr>\n",
       "      <th>2</th>\n",
       "      <td>3fd66200f964a52010e51ee3</td>\n",
       "      <td>40.727027</td>\n",
       "      <td>-73.982702</td>\n",
       "      <td>Manhattan</td>\n",
       "      <td>Bar</td>\n",
       "      <td>Dive Bar</td>\n",
       "      <td>14</td>\n",
       "    </tr>\n",
       "    <tr>\n",
       "      <th>3</th>\n",
       "      <td>3fd66200f964a52011e81ee3</td>\n",
       "      <td>40.762812</td>\n",
       "      <td>-73.967519</td>\n",
       "      <td>Manhattan</td>\n",
       "      <td>Bar</td>\n",
       "      <td>Dive Bar</td>\n",
       "      <td>18</td>\n",
       "    </tr>\n",
       "    <tr>\n",
       "      <th>4</th>\n",
       "      <td>3fd66200f964a52018e51ee3</td>\n",
       "      <td>40.725112</td>\n",
       "      <td>-73.981278</td>\n",
       "      <td>Manhattan</td>\n",
       "      <td>Bar</td>\n",
       "      <td>Dive Bar</td>\n",
       "      <td>29</td>\n",
       "    </tr>\n",
       "  </tbody>\n",
       "</table>\n",
       "</div>"
      ],
      "text/plain": [
       "                   venue_id        lat       long    borough category  \\\n",
       "0  3fd66200f964a52001e51ee3  40.726961 -73.980039  Manhattan      Bar   \n",
       "1  3fd66200f964a52003e51ee3  40.724822 -73.981456  Manhattan      Bar   \n",
       "2  3fd66200f964a52010e51ee3  40.727027 -73.982702  Manhattan      Bar   \n",
       "3  3fd66200f964a52011e81ee3  40.762812 -73.967519  Manhattan      Bar   \n",
       "4  3fd66200f964a52018e51ee3  40.725112 -73.981278  Manhattan      Bar   \n",
       "\n",
       "  org_category  total_visits  \n",
       "0     Dive Bar             1  \n",
       "1     Dive Bar            15  \n",
       "2     Dive Bar            14  \n",
       "3     Dive Bar            18  \n",
       "4     Dive Bar            29  "
      ]
     },
     "execution_count": 4,
     "metadata": {},
     "output_type": "execute_result"
    }
   ],
   "source": [
    "structured = pd.read_csv(PATH + \"structured_preprocessed.csv\")\n",
    "print(structured.shape)\n",
    "structured.head()"
   ]
  },
  {
   "cell_type": "code",
   "execution_count": 5,
   "metadata": {},
   "outputs": [
    {
     "name": "stdout",
     "output_type": "stream",
     "text": [
      "(71554, 5)\n"
     ]
    },
    {
     "data": {
      "text/html": [
       "<div>\n",
       "<style scoped>\n",
       "    .dataframe tbody tr th:only-of-type {\n",
       "        vertical-align: middle;\n",
       "    }\n",
       "\n",
       "    .dataframe tbody tr th {\n",
       "        vertical-align: top;\n",
       "    }\n",
       "\n",
       "    .dataframe thead th {\n",
       "        text-align: right;\n",
       "    }\n",
       "</style>\n",
       "<table border=\"1\" class=\"dataframe\">\n",
       "  <thead>\n",
       "    <tr style=\"text-align: right;\">\n",
       "      <th></th>\n",
       "      <th>venue_id</th>\n",
       "      <th>lat</th>\n",
       "      <th>long</th>\n",
       "      <th>category</th>\n",
       "      <th>total_visits</th>\n",
       "    </tr>\n",
       "  </thead>\n",
       "  <tbody>\n",
       "    <tr>\n",
       "      <th>0</th>\n",
       "      <td>3fd66200f964a52000e71ee3</td>\n",
       "      <td>40.733596</td>\n",
       "      <td>-74.003139</td>\n",
       "      <td>Jazz Club</td>\n",
       "      <td>86</td>\n",
       "    </tr>\n",
       "    <tr>\n",
       "      <th>1</th>\n",
       "      <td>3fd66200f964a52000e81ee3</td>\n",
       "      <td>40.758102</td>\n",
       "      <td>-73.975734</td>\n",
       "      <td>Gym</td>\n",
       "      <td>14</td>\n",
       "    </tr>\n",
       "    <tr>\n",
       "      <th>2</th>\n",
       "      <td>3fd66200f964a52000ea1ee3</td>\n",
       "      <td>40.732456</td>\n",
       "      <td>-74.003755</td>\n",
       "      <td>Indian Restaurant</td>\n",
       "      <td>2</td>\n",
       "    </tr>\n",
       "    <tr>\n",
       "      <th>3</th>\n",
       "      <td>3fd66200f964a52000f11ee3</td>\n",
       "      <td>40.652766</td>\n",
       "      <td>-74.003092</td>\n",
       "      <td>Bowling Alley</td>\n",
       "      <td>9</td>\n",
       "    </tr>\n",
       "    <tr>\n",
       "      <th>4</th>\n",
       "      <td>3fd66200f964a52001e51ee3</td>\n",
       "      <td>40.726961</td>\n",
       "      <td>-73.980039</td>\n",
       "      <td>Dive Bar</td>\n",
       "      <td>1</td>\n",
       "    </tr>\n",
       "  </tbody>\n",
       "</table>\n",
       "</div>"
      ],
      "text/plain": [
       "                   venue_id        lat       long           category  \\\n",
       "0  3fd66200f964a52000e71ee3  40.733596 -74.003139          Jazz Club   \n",
       "1  3fd66200f964a52000e81ee3  40.758102 -73.975734                Gym   \n",
       "2  3fd66200f964a52000ea1ee3  40.732456 -74.003755  Indian Restaurant   \n",
       "3  3fd66200f964a52000f11ee3  40.652766 -74.003092      Bowling Alley   \n",
       "4  3fd66200f964a52001e51ee3  40.726961 -73.980039           Dive Bar   \n",
       "\n",
       "   total_visits  \n",
       "0            86  \n",
       "1            14  \n",
       "2             2  \n",
       "3             9  \n",
       "4             1  "
      ]
     },
     "execution_count": 5,
     "metadata": {},
     "output_type": "execute_result"
    }
   ],
   "source": [
    "venues = pd.read_csv(PATH + \"venue_visits_city.csv\")\n",
    "print(venues.shape)\n",
    "venues.head()"
   ]
  },
  {
   "cell_type": "markdown",
   "metadata": {},
   "source": [
    "Recode bus features for our accessibility feature later."
   ]
  },
  {
   "cell_type": "code",
   "execution_count": 6,
   "metadata": {
    "scrolled": false
   },
   "outputs": [
    {
     "name": "stdout",
     "output_type": "stream",
     "text": [
      "Bus Station\n",
      "Bus Line\n"
     ]
    }
   ],
   "source": [
    "print(*[x for x in pd.unique(venues[\"category\"]) if \"bus\" in x.lower()], sep=\"\\n\")"
   ]
  },
  {
   "cell_type": "code",
   "execution_count": 7,
   "metadata": {},
   "outputs": [
    {
     "name": "stdout",
     "output_type": "stream",
     "text": [
      "Subway\n"
     ]
    }
   ],
   "source": [
    "print(*[x for x in pd.unique(venues[\"category\"]) if \"sub\" in x.lower()], sep=\"\\n\")"
   ]
  },
  {
   "cell_type": "code",
   "execution_count": 8,
   "metadata": {},
   "outputs": [
    {
     "name": "stdout",
     "output_type": "stream",
     "text": [
      "Bus\n"
     ]
    }
   ],
   "source": [
    "venues.loc[venues[\"category\"].isin([\"Bus Station\", \"Bus Line\"]), \"category\"] = \"Bus\"\n",
    "print(*[x for x in pd.unique(venues[\"category\"]) if \"bus\" in x.lower()], sep=\"\\n\")"
   ]
  },
  {
   "cell_type": "markdown",
   "metadata": {},
   "source": [
    "Define all necessary geographic features."
   ]
  },
  {
   "cell_type": "code",
   "execution_count": 9,
   "metadata": {},
   "outputs": [],
   "source": [
    "def calc_rect_dist(lat, long, dy, dx):\n",
    "    lat_1  = lat  + (-dy / R_EARTH) * (180 / math.pi)\n",
    "    lat_2  = lat  + (dy / R_EARTH) * (180 / math.pi)\n",
    "    long_1 = long + (-dx / R_EARTH) * (180 / math.pi) / math.cos(lat * math.pi/180)\n",
    "    long_2 = long + (dx / R_EARTH) * (180 / math.pi) / math.cos(lat * math.pi/180)\n",
    "    return ((lat_1, lat_2), (long_1, long_2))\n",
    "\n",
    "def eucl_dist(vec_1, vec_2):\n",
    "    return math.sqrt(sum([(x-y)**2 for x,y in zip(vec_1, vec_2)]))\n",
    "\n",
    "def get_closest(lat, long, _df):\n",
    "    dists = _df.loc[:, \"lat\":\"long\"].apply(lambda x: eucl_dist((x[0], x[1]), (lat, long)), axis=1)\n",
    "    return min(dists)\n",
    "    \n",
    "\n",
    "def get_features(row, venues, categories, max_dist):\n",
    "    (lat_1, lat_2), (long_1, long_2) = calc_rect_dist(row[\"lat\"], row[\"long\"], max_dist, max_dist)\n",
    "    _df = venues[(lat_1 < venues[\"lat\"]) & (venues[\"lat\"] < lat_2)]\n",
    "    _df = _df[(long_1 < _df[\"long\"]) & (_df[\"long\"] < long_2)]\n",
    "    \n",
    "    # add number of venues for each category near\n",
    "    for cat in categories:\n",
    "        cat_form = cat.lower().replace(\" \", \"_\")\n",
    "        row[f\"{cat_form}_count\"] = _df[_df[\"category\"]==cat].shape[0]\n",
    "    \n",
    "    # area_density\n",
    "    row[\"area_density\"] = _df.shape[0]\n",
    "    \n",
    "    # area entropy\n",
    "    entropies = []\n",
    "    for cat in categories:\n",
    "        cat_form = cat.lower().replace(\" \", \"_\")\n",
    "        if row[\"area_density\"] > 0 and row[f\"{cat_form}_count\"] > 0:\n",
    "            frac = row[f\"{cat_form}_count\"] / row[\"area_density\"]\n",
    "            entropies.append(frac * log2(frac))\n",
    "        else:\n",
    "            entropies.append(0)\n",
    "    row[\"area_entropy\"] = -sum(entropies)\n",
    "    \n",
    "    # competition\n",
    "    row[\"competition\"] = -(_df[_df[\"category\"] == row[\"category\"]].shape[0] / row[\"area_density\"])\n",
    "    \n",
    "    # traffic accessibility\n",
    "    _df_bus = venues[venues[\"category\"]==\"Bus\"]\n",
    "    _df_sub = venues[venues[\"category\"]==\"Subway\"]\n",
    "    bus_frac = log2(_df_bus.shape[0]+1) / log2(get_closest(*row.loc[\"lat\":\"long\"], _df_bus))\n",
    "    sub_frac = log2(_df_sub.shape[0]+1) / log2(get_closest(*row.loc[\"lat\":\"long\"], _df_sub))\n",
    "    row[\"traffic_access\"] = bus_frac + sub_frac\n",
    "    \n",
    "    # distance to center\n",
    "    row[\"dist_center\"] = eucl_dist(row.loc[\"lat\":\"long\"], CITY_CENTER)\n",
    "    \n",
    "    return row"
   ]
  },
  {
   "cell_type": "markdown",
   "metadata": {},
   "source": [
    "Process all venues and calculate the features."
   ]
  },
  {
   "cell_type": "code",
   "execution_count": 10,
   "metadata": {
    "scrolled": false
   },
   "outputs": [
    {
     "data": {
      "application/vnd.jupyter.widget-view+json": {
       "model_id": "c7cac09edd55411ab69e68f22b0c385a",
       "version_major": 2,
       "version_minor": 0
      },
      "text/plain": [
       "  0%|          | 0/2836 [00:00<?, ?it/s]"
      ]
     },
     "metadata": {},
     "output_type": "display_data"
    }
   ],
   "source": [
    "tqdm.pandas()\n",
    "categories = pd.unique(venues[\"category\"])\n",
    "venues_added = structured.progress_apply(get_features, axis=1, result_type=\"expand\",\n",
    "                                         args=[venues, categories, MAX_DIST])"
   ]
  },
  {
   "cell_type": "markdown",
   "metadata": {},
   "source": [
    "Save structured + geo features."
   ]
  },
  {
   "cell_type": "code",
   "execution_count": 11,
   "metadata": {},
   "outputs": [
    {
     "name": "stdout",
     "output_type": "stream",
     "text": [
      "(2836, 434)\n"
     ]
    },
    {
     "data": {
      "text/html": [
       "<div>\n",
       "<style scoped>\n",
       "    .dataframe tbody tr th:only-of-type {\n",
       "        vertical-align: middle;\n",
       "    }\n",
       "\n",
       "    .dataframe tbody tr th {\n",
       "        vertical-align: top;\n",
       "    }\n",
       "\n",
       "    .dataframe thead th {\n",
       "        text-align: right;\n",
       "    }\n",
       "</style>\n",
       "<table border=\"1\" class=\"dataframe\">\n",
       "  <thead>\n",
       "    <tr style=\"text-align: right;\">\n",
       "      <th></th>\n",
       "      <th>venue_id</th>\n",
       "      <th>latitude</th>\n",
       "      <th>longitude</th>\n",
       "      <th>borough</th>\n",
       "      <th>category</th>\n",
       "      <th>org_category</th>\n",
       "      <th>total_visits</th>\n",
       "      <th>jazz_club_count</th>\n",
       "      <th>gym_count</th>\n",
       "      <th>indian_restaurant_count</th>\n",
       "      <th>...</th>\n",
       "      <th>cricket_ground_count</th>\n",
       "      <th>campaign_office_count</th>\n",
       "      <th>rock_climbing_spot_count</th>\n",
       "      <th>yogurt_count</th>\n",
       "      <th>volcano_count</th>\n",
       "      <th>area_density</th>\n",
       "      <th>area_entropy</th>\n",
       "      <th>competition</th>\n",
       "      <th>traffic_access</th>\n",
       "      <th>dist_center</th>\n",
       "    </tr>\n",
       "  </thead>\n",
       "  <tbody>\n",
       "    <tr>\n",
       "      <th>0</th>\n",
       "      <td>3fd66200f964a52001e51ee3</td>\n",
       "      <td>40.726961</td>\n",
       "      <td>-73.980039</td>\n",
       "      <td>Manhattan</td>\n",
       "      <td>Bar</td>\n",
       "      <td>Dive Bar</td>\n",
       "      <td>1</td>\n",
       "      <td>0</td>\n",
       "      <td>0</td>\n",
       "      <td>0</td>\n",
       "      <td>...</td>\n",
       "      <td>0</td>\n",
       "      <td>0</td>\n",
       "      <td>0</td>\n",
       "      <td>0</td>\n",
       "      <td>0</td>\n",
       "      <td>79</td>\n",
       "      <td>5.301005</td>\n",
       "      <td>-0.101266</td>\n",
       "      <td>-2.349061</td>\n",
       "      <td>0.044945</td>\n",
       "    </tr>\n",
       "    <tr>\n",
       "      <th>1</th>\n",
       "      <td>3fd66200f964a52003e51ee3</td>\n",
       "      <td>40.724822</td>\n",
       "      <td>-73.981456</td>\n",
       "      <td>Manhattan</td>\n",
       "      <td>Bar</td>\n",
       "      <td>Dive Bar</td>\n",
       "      <td>15</td>\n",
       "      <td>0</td>\n",
       "      <td>1</td>\n",
       "      <td>0</td>\n",
       "      <td>...</td>\n",
       "      <td>0</td>\n",
       "      <td>0</td>\n",
       "      <td>0</td>\n",
       "      <td>0</td>\n",
       "      <td>0</td>\n",
       "      <td>102</td>\n",
       "      <td>5.620873</td>\n",
       "      <td>-0.049020</td>\n",
       "      <td>-2.443636</td>\n",
       "      <td>0.046575</td>\n",
       "    </tr>\n",
       "    <tr>\n",
       "      <th>2</th>\n",
       "      <td>3fd66200f964a52010e51ee3</td>\n",
       "      <td>40.727027</td>\n",
       "      <td>-73.982702</td>\n",
       "      <td>Manhattan</td>\n",
       "      <td>Bar</td>\n",
       "      <td>Dive Bar</td>\n",
       "      <td>14</td>\n",
       "      <td>0</td>\n",
       "      <td>0</td>\n",
       "      <td>0</td>\n",
       "      <td>...</td>\n",
       "      <td>0</td>\n",
       "      <td>0</td>\n",
       "      <td>0</td>\n",
       "      <td>0</td>\n",
       "      <td>0</td>\n",
       "      <td>184</td>\n",
       "      <td>5.954679</td>\n",
       "      <td>-0.076087</td>\n",
       "      <td>-2.051850</td>\n",
       "      <td>0.047595</td>\n",
       "    </tr>\n",
       "    <tr>\n",
       "      <th>3</th>\n",
       "      <td>3fd66200f964a52011e81ee3</td>\n",
       "      <td>40.762812</td>\n",
       "      <td>-73.967519</td>\n",
       "      <td>Manhattan</td>\n",
       "      <td>Bar</td>\n",
       "      <td>Dive Bar</td>\n",
       "      <td>18</td>\n",
       "      <td>0</td>\n",
       "      <td>3</td>\n",
       "      <td>1</td>\n",
       "      <td>...</td>\n",
       "      <td>0</td>\n",
       "      <td>0</td>\n",
       "      <td>0</td>\n",
       "      <td>0</td>\n",
       "      <td>0</td>\n",
       "      <td>229</td>\n",
       "      <td>6.029996</td>\n",
       "      <td>-0.000000</td>\n",
       "      <td>-1.776750</td>\n",
       "      <td>0.045594</td>\n",
       "    </tr>\n",
       "    <tr>\n",
       "      <th>4</th>\n",
       "      <td>3fd66200f964a52018e51ee3</td>\n",
       "      <td>40.725112</td>\n",
       "      <td>-73.981278</td>\n",
       "      <td>Manhattan</td>\n",
       "      <td>Bar</td>\n",
       "      <td>Dive Bar</td>\n",
       "      <td>29</td>\n",
       "      <td>0</td>\n",
       "      <td>1</td>\n",
       "      <td>0</td>\n",
       "      <td>...</td>\n",
       "      <td>0</td>\n",
       "      <td>0</td>\n",
       "      <td>0</td>\n",
       "      <td>0</td>\n",
       "      <td>0</td>\n",
       "      <td>107</td>\n",
       "      <td>5.547164</td>\n",
       "      <td>-0.065421</td>\n",
       "      <td>-2.432629</td>\n",
       "      <td>0.046363</td>\n",
       "    </tr>\n",
       "  </tbody>\n",
       "</table>\n",
       "<p>5 rows × 434 columns</p>\n",
       "</div>"
      ],
      "text/plain": [
       "                   venue_id   latitude  longitude    borough category  \\\n",
       "0  3fd66200f964a52001e51ee3  40.726961 -73.980039  Manhattan      Bar   \n",
       "1  3fd66200f964a52003e51ee3  40.724822 -73.981456  Manhattan      Bar   \n",
       "2  3fd66200f964a52010e51ee3  40.727027 -73.982702  Manhattan      Bar   \n",
       "3  3fd66200f964a52011e81ee3  40.762812 -73.967519  Manhattan      Bar   \n",
       "4  3fd66200f964a52018e51ee3  40.725112 -73.981278  Manhattan      Bar   \n",
       "\n",
       "  org_category  total_visits  jazz_club_count  gym_count  \\\n",
       "0     Dive Bar             1                0          0   \n",
       "1     Dive Bar            15                0          1   \n",
       "2     Dive Bar            14                0          0   \n",
       "3     Dive Bar            18                0          3   \n",
       "4     Dive Bar            29                0          1   \n",
       "\n",
       "   indian_restaurant_count  ...  cricket_ground_count  campaign_office_count  \\\n",
       "0                        0  ...                     0                      0   \n",
       "1                        0  ...                     0                      0   \n",
       "2                        0  ...                     0                      0   \n",
       "3                        1  ...                     0                      0   \n",
       "4                        0  ...                     0                      0   \n",
       "\n",
       "   rock_climbing_spot_count  yogurt_count  volcano_count  area_density  \\\n",
       "0                         0             0              0            79   \n",
       "1                         0             0              0           102   \n",
       "2                         0             0              0           184   \n",
       "3                         0             0              0           229   \n",
       "4                         0             0              0           107   \n",
       "\n",
       "   area_entropy  competition  traffic_access  dist_center  \n",
       "0      5.301005    -0.101266       -2.349061     0.044945  \n",
       "1      5.620873    -0.049020       -2.443636     0.046575  \n",
       "2      5.954679    -0.076087       -2.051850     0.047595  \n",
       "3      6.029996    -0.000000       -1.776750     0.045594  \n",
       "4      5.547164    -0.065421       -2.432629     0.046363  \n",
       "\n",
       "[5 rows x 434 columns]"
      ]
     },
     "execution_count": 11,
     "metadata": {},
     "output_type": "execute_result"
    }
   ],
   "source": [
    "venues_added.rename({\"lat\":\"latitude\", \"long\":\"longitude\"}, axis=1, inplace=True)\n",
    "venues_added.to_csv(PATH + \"structured_geo_features.csv\", index=False)\n",
    "print(venues_added.shape)\n",
    "venues_added.head()"
   ]
  },
  {
   "cell_type": "code",
   "execution_count": null,
   "metadata": {},
   "outputs": [],
   "source": []
  }
 ],
 "metadata": {
  "kernelspec": {
   "display_name": "Python 3 (ipykernel)",
   "language": "python",
   "name": "python3"
  },
  "language_info": {
   "codemirror_mode": {
    "name": "ipython",
    "version": 3
   },
   "file_extension": ".py",
   "mimetype": "text/x-python",
   "name": "python",
   "nbconvert_exporter": "python",
   "pygments_lexer": "ipython3",
   "version": "3.9.7"
  },
  "widgets": {
   "application/vnd.jupyter.widget-state+json": {
    "state": {
     "001436c532f14578874047d900a61a78": {
      "model_module": "@jupyter-widgets/base",
      "model_module_version": "1.2.0",
      "model_name": "LayoutModel",
      "state": {}
     },
     "008313abfbf1470f8b627ab4d3268e4a": {
      "model_module": "@jupyter-widgets/controls",
      "model_module_version": "1.5.0",
      "model_name": "DescriptionStyleModel",
      "state": {
       "description_width": ""
      }
     },
     "0100cd8e35f947c79c25f9af08922109": {
      "model_module": "@jupyter-widgets/controls",
      "model_module_version": "1.5.0",
      "model_name": "DescriptionStyleModel",
      "state": {
       "description_width": ""
      }
     },
     "01be6ff911e14ea095fcad15664cb5ba": {
      "model_module": "@jupyter-widgets/base",
      "model_module_version": "1.2.0",
      "model_name": "LayoutModel",
      "state": {}
     },
     "02a6d17ee27f4b18ae08053ebd3a2bf1": {
      "model_module": "@jupyter-widgets/controls",
      "model_module_version": "1.5.0",
      "model_name": "HBoxModel",
      "state": {
       "children": [
        "IPY_MODEL_f44c5ef1f4c14c7f8c12d2d83b32d858",
        "IPY_MODEL_2d5a3d66f3034b22b29558a9c1695565",
        "IPY_MODEL_ae1a19d6644245d3acc8200a58de01dc"
       ],
       "layout": "IPY_MODEL_cd283895a8cd4b93bcbb1912d80923e8"
      }
     },
     "02b4b05f3c694b53bec4dea26867a60b": {
      "model_module": "@jupyter-widgets/base",
      "model_module_version": "1.2.0",
      "model_name": "LayoutModel",
      "state": {}
     },
     "02f02af896b24bf09a12923cafdabc24": {
      "model_module": "@jupyter-widgets/controls",
      "model_module_version": "1.5.0",
      "model_name": "ProgressStyleModel",
      "state": {
       "description_width": ""
      }
     },
     "030161a9e3d5424ab1aced2ee6dc8bfc": {
      "model_module": "@jupyter-widgets/base",
      "model_module_version": "1.2.0",
      "model_name": "LayoutModel",
      "state": {}
     },
     "03ad1c70f0a44f77ab16307d2fe9d233": {
      "model_module": "@jupyter-widgets/controls",
      "model_module_version": "1.5.0",
      "model_name": "HBoxModel",
      "state": {
       "children": [
        "IPY_MODEL_8cf265c2abf3412685acd1433398873c",
        "IPY_MODEL_ac51653a5c09441bb771bb9e96e3bb21",
        "IPY_MODEL_6643328ca0e24de093891d310ca9cf36"
       ],
       "layout": "IPY_MODEL_32893f38828043b894525aabc75d7c01"
      }
     },
     "03c08cde2a0e4832a6fd3d0f5f2667a3": {
      "model_module": "@jupyter-widgets/controls",
      "model_module_version": "1.5.0",
      "model_name": "FloatProgressModel",
      "state": {
       "bar_style": "success",
       "layout": "IPY_MODEL_ac1742a839924bd39d1b534454f75116",
       "style": "IPY_MODEL_5dad13696e9646f88e1b38b63899cbb4",
       "value": 100
      }
     },
     "03f50b97e8cf46b6b75070f0af161f40": {
      "model_module": "@jupyter-widgets/base",
      "model_module_version": "1.2.0",
      "model_name": "LayoutModel",
      "state": {}
     },
     "03f935bcab60485f9dbb0cde11d28f4e": {
      "model_module": "@jupyter-widgets/base",
      "model_module_version": "1.2.0",
      "model_name": "LayoutModel",
      "state": {}
     },
     "043db6d0dfaf482eae1a343eb80eae73": {
      "model_module": "@jupyter-widgets/controls",
      "model_module_version": "1.5.0",
      "model_name": "ProgressStyleModel",
      "state": {
       "description_width": ""
      }
     },
     "046b269240e5404cbd72bcef4037f087": {
      "model_module": "@jupyter-widgets/base",
      "model_module_version": "1.2.0",
      "model_name": "LayoutModel",
      "state": {}
     },
     "0473e0e27ae04d1895ab1c0d691cb428": {
      "model_module": "@jupyter-widgets/controls",
      "model_module_version": "1.5.0",
      "model_name": "HBoxModel",
      "state": {
       "children": [
        "IPY_MODEL_914c8aad76b74c5c85e091cf25207e4e",
        "IPY_MODEL_a7d1f33e01c8472188618f28454e8f6d",
        "IPY_MODEL_4ea937bf89bc477a899a210410703195"
       ],
       "layout": "IPY_MODEL_a02b9b95633c4fe7ab19ce624ce6604f"
      }
     },
     "04ae244468274e7285fff3aa469f125d": {
      "model_module": "@jupyter-widgets/controls",
      "model_module_version": "1.5.0",
      "model_name": "DescriptionStyleModel",
      "state": {
       "description_width": ""
      }
     },
     "0500823c8b3947f0bfd502b96ff97b06": {
      "model_module": "@jupyter-widgets/controls",
      "model_module_version": "1.5.0",
      "model_name": "FloatProgressModel",
      "state": {
       "bar_style": "success",
       "layout": "IPY_MODEL_a09e2026b5f943b29a33c4f5623c69db",
       "style": "IPY_MODEL_a5e4dba2b8fd433981dc329bf99511d4",
       "value": 100
      }
     },
     "051ee762a2d24ac5a3b71cd41657ed53": {
      "model_module": "@jupyter-widgets/controls",
      "model_module_version": "1.5.0",
      "model_name": "DescriptionStyleModel",
      "state": {
       "description_width": ""
      }
     },
     "0533bbdebc5e4bf0b351e931a3fc09d4": {
      "model_module": "@jupyter-widgets/controls",
      "model_module_version": "1.5.0",
      "model_name": "ProgressStyleModel",
      "state": {
       "description_width": ""
      }
     },
     "054f867280bc449c88c788be4d085ec7": {
      "model_module": "@jupyter-widgets/controls",
      "model_module_version": "1.5.0",
      "model_name": "DescriptionStyleModel",
      "state": {
       "description_width": ""
      }
     },
     "0573817e89384b919a0a5b389cea5ad1": {
      "model_module": "@jupyter-widgets/controls",
      "model_module_version": "1.5.0",
      "model_name": "DescriptionStyleModel",
      "state": {
       "description_width": ""
      }
     },
     "05a20c336def4463ba203b3b483efee6": {
      "model_module": "@jupyter-widgets/controls",
      "model_module_version": "1.5.0",
      "model_name": "HTMLModel",
      "state": {
       "layout": "IPY_MODEL_b282349c40c2445d9a0cb03fcfc74269",
       "style": "IPY_MODEL_a83b86010c5b47ac8029778ae98da313",
       "value": " 100/100 [10:41&lt;00:00,  4.76s/it]"
      }
     },
     "0722a76b78554bc7a5bdb89fa2cf29a8": {
      "model_module": "@jupyter-widgets/base",
      "model_module_version": "1.2.0",
      "model_name": "LayoutModel",
      "state": {}
     },
     "07a6626fc1504fae8f239e705ace45d3": {
      "model_module": "@jupyter-widgets/controls",
      "model_module_version": "1.5.0",
      "model_name": "HTMLModel",
      "state": {
       "layout": "IPY_MODEL_fa8deb05bda6467ab8c865115d1cb757",
       "style": "IPY_MODEL_e0207bd88f84401ab6c6dbd6acc86664",
       "value": " 100/100 [10:02&lt;00:00,  6.03s/it]"
      }
     },
     "08484a59f95e46d4a339fe2b705f7ed8": {
      "model_module": "@jupyter-widgets/controls",
      "model_module_version": "1.5.0",
      "model_name": "HBoxModel",
      "state": {
       "children": [
        "IPY_MODEL_8005796534474f8b96c7d9fa4e0d2d28",
        "IPY_MODEL_b8a324a772b14645bf1a3c7343551863",
        "IPY_MODEL_225dc77c7a5341fd9411c5955e463a2e"
       ],
       "layout": "IPY_MODEL_4577c87f364b48379a511d03bef66f3d"
      }
     },
     "08898eb8a01b4ef4bead12ad4baa4be4": {
      "model_module": "@jupyter-widgets/controls",
      "model_module_version": "1.5.0",
      "model_name": "HBoxModel",
      "state": {
       "children": [
        "IPY_MODEL_b3fa4d15912a44f28592977513b4b121",
        "IPY_MODEL_6fe736dae8334e52b33ad3fde4671a19",
        "IPY_MODEL_caecb179c129411e8c3f76a9fe10b020"
       ],
       "layout": "IPY_MODEL_0d0d53d3261842fb80ec5a8c4f84593d"
      }
     },
     "08a8f3ac49ef412eb0b264ee25943a0c": {
      "model_module": "@jupyter-widgets/controls",
      "model_module_version": "1.5.0",
      "model_name": "HTMLModel",
      "state": {
       "layout": "IPY_MODEL_22cd28eaf92a42a09bf8304a09b8a8a3",
       "style": "IPY_MODEL_1a2b9b4855d0427b9bf50602f2b2d9de",
       "value": " 100/100 [11:44&lt;00:00,  4.84s/it]"
      }
     },
     "08b64d46224e4b4eb2707a36768d3942": {
      "model_module": "@jupyter-widgets/base",
      "model_module_version": "1.2.0",
      "model_name": "LayoutModel",
      "state": {}
     },
     "091ecac5f2f24379be026d2a8ee686e4": {
      "model_module": "@jupyter-widgets/base",
      "model_module_version": "1.2.0",
      "model_name": "LayoutModel",
      "state": {}
     },
     "09310c4ac48c41418b0218a92b0e81a6": {
      "model_module": "@jupyter-widgets/base",
      "model_module_version": "1.2.0",
      "model_name": "LayoutModel",
      "state": {}
     },
     "09a8feda5a1d4bb2bfb70b7ca1fa9b73": {
      "model_module": "@jupyter-widgets/base",
      "model_module_version": "1.2.0",
      "model_name": "LayoutModel",
      "state": {}
     },
     "09c005526fc74c3982f217f375abc30f": {
      "model_module": "@jupyter-widgets/base",
      "model_module_version": "1.2.0",
      "model_name": "LayoutModel",
      "state": {}
     },
     "09c581553960420abe2796f8b0b70e65": {
      "model_module": "@jupyter-widgets/base",
      "model_module_version": "1.2.0",
      "model_name": "LayoutModel",
      "state": {}
     },
     "0a4783927e164841ac2bd72b92c4b40c": {
      "model_module": "@jupyter-widgets/base",
      "model_module_version": "1.2.0",
      "model_name": "LayoutModel",
      "state": {}
     },
     "0a6ff00061cb4b7c800b21a634330c5e": {
      "model_module": "@jupyter-widgets/base",
      "model_module_version": "1.2.0",
      "model_name": "LayoutModel",
      "state": {}
     },
     "0a94b681c4084390a361e35cec3d0b75": {
      "model_module": "@jupyter-widgets/controls",
      "model_module_version": "1.5.0",
      "model_name": "ProgressStyleModel",
      "state": {
       "description_width": ""
      }
     },
     "0abbf780dd744bd5a1604cf3f5189e61": {
      "model_module": "@jupyter-widgets/base",
      "model_module_version": "1.2.0",
      "model_name": "LayoutModel",
      "state": {}
     },
     "0b8d27cc4a6d4e79b356201ed2e47235": {
      "model_module": "@jupyter-widgets/controls",
      "model_module_version": "1.5.0",
      "model_name": "HTMLModel",
      "state": {
       "layout": "IPY_MODEL_f1c81f4513f545ff8372e97e0bc3ca56",
       "style": "IPY_MODEL_d40cb2c007b8429eb1fb8dd645d29818",
       "value": "100%"
      }
     },
     "0bedf5aa7f4d4c97baf30930bb8f338e": {
      "model_module": "@jupyter-widgets/base",
      "model_module_version": "1.2.0",
      "model_name": "LayoutModel",
      "state": {}
     },
     "0c54a84cdb8d417eb6bcfa81e864ddd5": {
      "model_module": "@jupyter-widgets/controls",
      "model_module_version": "1.5.0",
      "model_name": "ProgressStyleModel",
      "state": {
       "description_width": ""
      }
     },
     "0c8da169f3e744228a9166c6087d9b77": {
      "model_module": "@jupyter-widgets/base",
      "model_module_version": "1.2.0",
      "model_name": "LayoutModel",
      "state": {}
     },
     "0cbaea23e37a456e82bcb1760287fcfb": {
      "model_module": "@jupyter-widgets/controls",
      "model_module_version": "1.5.0",
      "model_name": "DescriptionStyleModel",
      "state": {
       "description_width": ""
      }
     },
     "0d0d53d3261842fb80ec5a8c4f84593d": {
      "model_module": "@jupyter-widgets/base",
      "model_module_version": "1.2.0",
      "model_name": "LayoutModel",
      "state": {}
     },
     "0d1641cfc28a41c5ba6270a7b3c5cb62": {
      "model_module": "@jupyter-widgets/controls",
      "model_module_version": "1.5.0",
      "model_name": "HBoxModel",
      "state": {
       "children": [
        "IPY_MODEL_161ea2ad83c74dcbb04008807c75b6a9",
        "IPY_MODEL_821e26a69c4c4f43850d152d7a3a9a65",
        "IPY_MODEL_05a20c336def4463ba203b3b483efee6"
       ],
       "layout": "IPY_MODEL_c4febbb70ec443f6bb93a574221397dd"
      }
     },
     "0d2bd122a7f44af0adbd2216d06f9c2e": {
      "model_module": "@jupyter-widgets/controls",
      "model_module_version": "1.5.0",
      "model_name": "HTMLModel",
      "state": {
       "layout": "IPY_MODEL_988e5b570c26435eb87ac2808b96f0da",
       "style": "IPY_MODEL_b1bb9ad4733045968e8b0cfb03c6b794",
       "value": "100%"
      }
     },
     "0da11b7125074a659867ef527bcdc782": {
      "model_module": "@jupyter-widgets/controls",
      "model_module_version": "1.5.0",
      "model_name": "HTMLModel",
      "state": {
       "layout": "IPY_MODEL_621f3e2b221c4e42a2190c11fa99622c",
       "style": "IPY_MODEL_d5381721ef684776bb478d3da43d756d",
       "value": " 100/100 [11:04&lt;00:00,  4.79s/it]"
      }
     },
     "0e0cf90493984194b5b78e0a4fe1521e": {
      "model_module": "@jupyter-widgets/controls",
      "model_module_version": "1.5.0",
      "model_name": "DescriptionStyleModel",
      "state": {
       "description_width": ""
      }
     },
     "0edf6957ccd7431490cb97dc2fd33ac8": {
      "model_module": "@jupyter-widgets/controls",
      "model_module_version": "1.5.0",
      "model_name": "HBoxModel",
      "state": {
       "children": [
        "IPY_MODEL_f1a385db8c2f4a2aa8906beee1b1719f",
        "IPY_MODEL_0500823c8b3947f0bfd502b96ff97b06",
        "IPY_MODEL_2790e85c3fff4e9cbf74b96ee4d87b2a"
       ],
       "layout": "IPY_MODEL_cd80b4e1ba754f808b020147b9c2af14"
      }
     },
     "1061a17227c44596be8f17b6a2177e60": {
      "model_module": "@jupyter-widgets/controls",
      "model_module_version": "1.5.0",
      "model_name": "DescriptionStyleModel",
      "state": {
       "description_width": ""
      }
     },
     "10b1e65dbd8647f1ad6a3e63312404c0": {
      "model_module": "@jupyter-widgets/controls",
      "model_module_version": "1.5.0",
      "model_name": "FloatProgressModel",
      "state": {
       "bar_style": "success",
       "layout": "IPY_MODEL_7c1cb50d76de4d8884b5ef7a306b1817",
       "style": "IPY_MODEL_e5db2320b6b44fc68c3fc41092675cf9",
       "value": 100
      }
     },
     "127e6c62bf6245a7ac3ef6daf77a4609": {
      "model_module": "@jupyter-widgets/base",
      "model_module_version": "1.2.0",
      "model_name": "LayoutModel",
      "state": {}
     },
     "1282c43391dd4f5ca5a1a83e7ee924e8": {
      "model_module": "@jupyter-widgets/controls",
      "model_module_version": "1.5.0",
      "model_name": "HBoxModel",
      "state": {
       "children": [
        "IPY_MODEL_73d2df588a3547a7a675dfd7166018e9",
        "IPY_MODEL_777b37251fb646beac4c428bed6c3529",
        "IPY_MODEL_1fec797f27b1442bac46ab15283b2c4f"
       ],
       "layout": "IPY_MODEL_9e37baac9ab8428bbddc309d3feb69a2"
      }
     },
     "128491d39aae43b18e11ee6eb1ae0364": {
      "model_module": "@jupyter-widgets/controls",
      "model_module_version": "1.5.0",
      "model_name": "DescriptionStyleModel",
      "state": {
       "description_width": ""
      }
     },
     "12885f3fea6e40fe8c7babc382a35856": {
      "model_module": "@jupyter-widgets/base",
      "model_module_version": "1.2.0",
      "model_name": "LayoutModel",
      "state": {}
     },
     "12cc4f245b9f4930a503da600cab781d": {
      "model_module": "@jupyter-widgets/controls",
      "model_module_version": "1.5.0",
      "model_name": "HTMLModel",
      "state": {
       "layout": "IPY_MODEL_c0011d617b9a4a3a9f5c9413a7dcd55f",
       "style": "IPY_MODEL_c80269da66814a39b84805ff4bb3b764",
       "value": "100%"
      }
     },
     "140b2343c42449bf8460b1b7d3294e73": {
      "model_module": "@jupyter-widgets/base",
      "model_module_version": "1.2.0",
      "model_name": "LayoutModel",
      "state": {}
     },
     "141f8cd9627748e19677c02dfb404618": {
      "model_module": "@jupyter-widgets/controls",
      "model_module_version": "1.5.0",
      "model_name": "HBoxModel",
      "state": {
       "children": [
        "IPY_MODEL_f637e44166db494182cb5244063fcce2",
        "IPY_MODEL_db8fb2f9361241f59b738008c99666e1",
        "IPY_MODEL_4c5f57848da445209be214bd8155ce77"
       ],
       "layout": "IPY_MODEL_af6d3d2280c942c394d2c4b30f371e61"
      }
     },
     "14435a9a183a46a1a835cf29f24c1aca": {
      "model_module": "@jupyter-widgets/controls",
      "model_module_version": "1.5.0",
      "model_name": "ProgressStyleModel",
      "state": {
       "description_width": ""
      }
     },
     "147391c2c74146f28bf1c3e0f59b7e5e": {
      "model_module": "@jupyter-widgets/base",
      "model_module_version": "1.2.0",
      "model_name": "LayoutModel",
      "state": {}
     },
     "148aa92cc6d6405f9917b4adeddf1e5d": {
      "model_module": "@jupyter-widgets/controls",
      "model_module_version": "1.5.0",
      "model_name": "HBoxModel",
      "state": {
       "children": [
        "IPY_MODEL_fe1194de3fc64e4ca66de2ce826576b5",
        "IPY_MODEL_4234894fe2934a089947bd3a19e0dfed",
        "IPY_MODEL_d608a8d6765a4b60bb49c9dbdd8b5f00"
       ],
       "layout": "IPY_MODEL_6f5ef98d8c1d480fa4d316f84cd18be9"
      }
     },
     "149c6c03c63742d392850452fd75ba38": {
      "model_module": "@jupyter-widgets/controls",
      "model_module_version": "1.5.0",
      "model_name": "DescriptionStyleModel",
      "state": {
       "description_width": ""
      }
     },
     "1513fd617ebf43f5933b3c9b7346d944": {
      "model_module": "@jupyter-widgets/controls",
      "model_module_version": "1.5.0",
      "model_name": "HTMLModel",
      "state": {
       "layout": "IPY_MODEL_91301e2ac741446a83feedd5da77f7a4",
       "style": "IPY_MODEL_492f0dc1fcce4e13afc3a68e7e4274d1",
       "value": " 0/100 [00:01&lt;?, ?it/s]"
      }
     },
     "157237e7cb384c3d8fbc7f4680001514": {
      "model_module": "@jupyter-widgets/base",
      "model_module_version": "1.2.0",
      "model_name": "LayoutModel",
      "state": {}
     },
     "15980e76363a41f29b5c801334ae27ca": {
      "model_module": "@jupyter-widgets/base",
      "model_module_version": "1.2.0",
      "model_name": "LayoutModel",
      "state": {}
     },
     "15b408d95db848459d9e4428f32d4ee5": {
      "model_module": "@jupyter-widgets/controls",
      "model_module_version": "1.5.0",
      "model_name": "DescriptionStyleModel",
      "state": {
       "description_width": ""
      }
     },
     "161ea2ad83c74dcbb04008807c75b6a9": {
      "model_module": "@jupyter-widgets/controls",
      "model_module_version": "1.5.0",
      "model_name": "HTMLModel",
      "state": {
       "layout": "IPY_MODEL_61721a1293964b31ad9df38fd553895a",
       "style": "IPY_MODEL_054f867280bc449c88c788be4d085ec7",
       "value": "100%"
      }
     },
     "166eb915582f42bebaed94a4ab47fd6f": {
      "model_module": "@jupyter-widgets/base",
      "model_module_version": "1.2.0",
      "model_name": "LayoutModel",
      "state": {}
     },
     "16a99d0e933642b3913b713efcdb2305": {
      "model_module": "@jupyter-widgets/controls",
      "model_module_version": "1.5.0",
      "model_name": "HTMLModel",
      "state": {
       "layout": "IPY_MODEL_d3f27fd4db384dd7a241beab217d28fd",
       "style": "IPY_MODEL_18e9ad45d7654c0a86fce313ab90ec0f",
       "value": "100%"
      }
     },
     "1718d85b7e354aeda8043d12a4e91c0a": {
      "model_module": "@jupyter-widgets/controls",
      "model_module_version": "1.5.0",
      "model_name": "DescriptionStyleModel",
      "state": {
       "description_width": ""
      }
     },
     "1759f32a923242b684e37f036eaa0037": {
      "model_module": "@jupyter-widgets/base",
      "model_module_version": "1.2.0",
      "model_name": "LayoutModel",
      "state": {}
     },
     "1843ba963fc24f939471415f68687197": {
      "model_module": "@jupyter-widgets/base",
      "model_module_version": "1.2.0",
      "model_name": "LayoutModel",
      "state": {}
     },
     "187200885d884ad6b5328d15978d05f1": {
      "model_module": "@jupyter-widgets/controls",
      "model_module_version": "1.5.0",
      "model_name": "HTMLModel",
      "state": {
       "layout": "IPY_MODEL_48b2a56ef37d4229870298833fbb703d",
       "style": "IPY_MODEL_15b408d95db848459d9e4428f32d4ee5",
       "value": "100%"
      }
     },
     "18804eec02104f9b8d6efc37f0fea5ed": {
      "model_module": "@jupyter-widgets/controls",
      "model_module_version": "1.5.0",
      "model_name": "HTMLModel",
      "state": {
       "layout": "IPY_MODEL_8fb3218e70cb45a7bb9601d3560ae2db",
       "style": "IPY_MODEL_bf757901bdeb410e82adae771f22d9da",
       "value": " 1/2836 [00:00&lt;00:31, 90.81it/s]"
      }
     },
     "18ab6267706b4acfbc9605c131077214": {
      "model_module": "@jupyter-widgets/base",
      "model_module_version": "1.2.0",
      "model_name": "LayoutModel",
      "state": {}
     },
     "18c409c52916497f98e1661bab3a4958": {
      "model_module": "@jupyter-widgets/controls",
      "model_module_version": "1.5.0",
      "model_name": "HTMLModel",
      "state": {
       "layout": "IPY_MODEL_aeee75be176747e9a272c6941967d124",
       "style": "IPY_MODEL_c5ad92cd5243497fb72679be59155485",
       "value": " 100/100 [10:26&lt;00:00,  6.26s/it]"
      }
     },
     "18e9ad45d7654c0a86fce313ab90ec0f": {
      "model_module": "@jupyter-widgets/controls",
      "model_module_version": "1.5.0",
      "model_name": "DescriptionStyleModel",
      "state": {
       "description_width": ""
      }
     },
     "190df68234454c84a8a4e98a225763e9": {
      "model_module": "@jupyter-widgets/controls",
      "model_module_version": "1.5.0",
      "model_name": "HTMLModel",
      "state": {
       "layout": "IPY_MODEL_2bb1ce5a7c284f91babb31c6c93be9c0",
       "style": "IPY_MODEL_6a07b6e6d23f4e54851af20414562744",
       "value": "100%"
      }
     },
     "194ed1434a4a4b8a8e3aa49e20169e30": {
      "model_module": "@jupyter-widgets/base",
      "model_module_version": "1.2.0",
      "model_name": "LayoutModel",
      "state": {}
     },
     "1966843106bb43a3a9152bd228397709": {
      "model_module": "@jupyter-widgets/controls",
      "model_module_version": "1.5.0",
      "model_name": "HTMLModel",
      "state": {
       "layout": "IPY_MODEL_5f854df0b31b4d048922c6ba7862f152",
       "style": "IPY_MODEL_755a1542d0714413af3b93f27551c4e6",
       "value": " 100/100 [06:21&lt;00:00,  2.90s/it]"
      }
     },
     "19ccfb088aad41a0846777ba93f76e06": {
      "model_module": "@jupyter-widgets/base",
      "model_module_version": "1.2.0",
      "model_name": "LayoutModel",
      "state": {}
     },
     "19f160158d934ea9a8e2b684a303d13e": {
      "model_module": "@jupyter-widgets/controls",
      "model_module_version": "1.5.0",
      "model_name": "ProgressStyleModel",
      "state": {
       "description_width": ""
      }
     },
     "1a2b9356cf69490ba02cfb34d8bc0a07": {
      "model_module": "@jupyter-widgets/controls",
      "model_module_version": "1.5.0",
      "model_name": "FloatProgressModel",
      "state": {
       "bar_style": "success",
       "layout": "IPY_MODEL_54d85a688b104d0e8ee79d75c5d76a06",
       "style": "IPY_MODEL_1d00902d67e248309f1acd94a1bd7b16",
       "value": 100
      }
     },
     "1a2b9b4855d0427b9bf50602f2b2d9de": {
      "model_module": "@jupyter-widgets/controls",
      "model_module_version": "1.5.0",
      "model_name": "DescriptionStyleModel",
      "state": {
       "description_width": ""
      }
     },
     "1a85a4aec1e1499f9de762fcad641f85": {
      "model_module": "@jupyter-widgets/controls",
      "model_module_version": "1.5.0",
      "model_name": "ProgressStyleModel",
      "state": {
       "description_width": ""
      }
     },
     "1ab5803c82e946b2b68ac7834c924d00": {
      "model_module": "@jupyter-widgets/controls",
      "model_module_version": "1.5.0",
      "model_name": "DescriptionStyleModel",
      "state": {
       "description_width": ""
      }
     },
     "1ae09a75add14ac48b75d41d0b755832": {
      "model_module": "@jupyter-widgets/base",
      "model_module_version": "1.2.0",
      "model_name": "LayoutModel",
      "state": {}
     },
     "1b03cd46d8e842c683bf5de31563119c": {
      "model_module": "@jupyter-widgets/controls",
      "model_module_version": "1.5.0",
      "model_name": "HTMLModel",
      "state": {
       "layout": "IPY_MODEL_a490e318fdc6459db088ca4fada61a65",
       "style": "IPY_MODEL_cebb92d4bb0048738d61e16c613848a9",
       "value": " 100/100 [06:39&lt;00:00,  3.32s/it]"
      }
     },
     "1b2522cc0eab44a2b0d1a5dd31c29964": {
      "model_module": "@jupyter-widgets/base",
      "model_module_version": "1.2.0",
      "model_name": "LayoutModel",
      "state": {}
     },
     "1b54d4141e264ae5826c721aebc90740": {
      "model_module": "@jupyter-widgets/base",
      "model_module_version": "1.2.0",
      "model_name": "LayoutModel",
      "state": {}
     },
     "1bb4ac9c8d2d42558ef693442c094767": {
      "model_module": "@jupyter-widgets/base",
      "model_module_version": "1.2.0",
      "model_name": "LayoutModel",
      "state": {}
     },
     "1bf020f9efab4d9385da704de9a0a9dc": {
      "model_module": "@jupyter-widgets/controls",
      "model_module_version": "1.5.0",
      "model_name": "DescriptionStyleModel",
      "state": {
       "description_width": ""
      }
     },
     "1c75d2355cba46afa4e1feb15317c977": {
      "model_module": "@jupyter-widgets/controls",
      "model_module_version": "1.5.0",
      "model_name": "ProgressStyleModel",
      "state": {
       "description_width": ""
      }
     },
     "1d00902d67e248309f1acd94a1bd7b16": {
      "model_module": "@jupyter-widgets/controls",
      "model_module_version": "1.5.0",
      "model_name": "ProgressStyleModel",
      "state": {
       "description_width": ""
      }
     },
     "1d1354a5ea4841769c120e8aebe47619": {
      "model_module": "@jupyter-widgets/base",
      "model_module_version": "1.2.0",
      "model_name": "LayoutModel",
      "state": {}
     },
     "1d31513ad2844b768be7cd87f8b952c9": {
      "model_module": "@jupyter-widgets/controls",
      "model_module_version": "1.5.0",
      "model_name": "FloatProgressModel",
      "state": {
       "bar_style": "success",
       "layout": "IPY_MODEL_a693d1ff1709452b8670108f49428f2e",
       "style": "IPY_MODEL_8f2dcbd57fe14d388126fc00960aadb1",
       "value": 100
      }
     },
     "1d3534135f514205a5accec0a94fde16": {
      "model_module": "@jupyter-widgets/base",
      "model_module_version": "1.2.0",
      "model_name": "LayoutModel",
      "state": {}
     },
     "1e2850e78b184dbdadc16f4ec7ab24a4": {
      "model_module": "@jupyter-widgets/controls",
      "model_module_version": "1.5.0",
      "model_name": "ProgressStyleModel",
      "state": {
       "description_width": ""
      }
     },
     "1e734b53e02a44b4a292654693c0765f": {
      "model_module": "@jupyter-widgets/base",
      "model_module_version": "1.2.0",
      "model_name": "LayoutModel",
      "state": {}
     },
     "1e964a3f4a734948ac9d4613cb2673b6": {
      "model_module": "@jupyter-widgets/controls",
      "model_module_version": "1.5.0",
      "model_name": "FloatProgressModel",
      "state": {
       "bar_style": "success",
       "layout": "IPY_MODEL_046b269240e5404cbd72bcef4037f087",
       "style": "IPY_MODEL_c82affaf6e4f452b971b9ccb38c93693",
       "value": 100
      }
     },
     "1ea96639a4fd4165af62b2fee2e94285": {
      "model_module": "@jupyter-widgets/controls",
      "model_module_version": "1.5.0",
      "model_name": "DescriptionStyleModel",
      "state": {
       "description_width": ""
      }
     },
     "1ed0cabffcf644e9bf34c59ecd3d30ce": {
      "model_module": "@jupyter-widgets/base",
      "model_module_version": "1.2.0",
      "model_name": "LayoutModel",
      "state": {}
     },
     "1ee261da2367483390b775244a03f436": {
      "model_module": "@jupyter-widgets/base",
      "model_module_version": "1.2.0",
      "model_name": "LayoutModel",
      "state": {}
     },
     "1f2728a91c254a47b7a59ffdf3f041ae": {
      "model_module": "@jupyter-widgets/base",
      "model_module_version": "1.2.0",
      "model_name": "LayoutModel",
      "state": {}
     },
     "1f5e5a6aa00047ce9b8910605e3ada8f": {
      "model_module": "@jupyter-widgets/controls",
      "model_module_version": "1.5.0",
      "model_name": "HTMLModel",
      "state": {
       "layout": "IPY_MODEL_2e729457f7ea446ab59abbbfe773577a",
       "style": "IPY_MODEL_86d718576a354db99f4fad57c24bbd92",
       "value": "100%"
      }
     },
     "1fb767e8c6ff49eeaded89a3659498ed": {
      "model_module": "@jupyter-widgets/controls",
      "model_module_version": "1.5.0",
      "model_name": "FloatProgressModel",
      "state": {
       "bar_style": "success",
       "layout": "IPY_MODEL_23099e0952014e418064f27a2519aead",
       "max": 2838,
       "style": "IPY_MODEL_3dae98db627b4fb58cd4186bdc37e702",
       "value": 2838
      }
     },
     "1fec797f27b1442bac46ab15283b2c4f": {
      "model_module": "@jupyter-widgets/controls",
      "model_module_version": "1.5.0",
      "model_name": "HTMLModel",
      "state": {
       "layout": "IPY_MODEL_8641ebcd310f4b958ccd83fb1f3fcfd4",
       "style": "IPY_MODEL_04ae244468274e7285fff3aa469f125d",
       "value": " 100/100 [11:20&lt;00:00,  5.31s/it]"
      }
     },
     "201cdb580c824d339db2261fee0c324f": {
      "model_module": "@jupyter-widgets/base",
      "model_module_version": "1.2.0",
      "model_name": "LayoutModel",
      "state": {}
     },
     "20fd480d80314ad783a08ae6e7cb1b0c": {
      "model_module": "@jupyter-widgets/controls",
      "model_module_version": "1.5.0",
      "model_name": "HBoxModel",
      "state": {
       "children": [
        "IPY_MODEL_547b5b25303744c3be2c7809e3ee954a",
        "IPY_MODEL_b7ab349c4baa40979ae484cdecbb6805",
        "IPY_MODEL_1b03cd46d8e842c683bf5de31563119c"
       ],
       "layout": "IPY_MODEL_a4d51e7ae6c34f83acdea92c52e1c0fd"
      }
     },
     "21f13603779e43ce986218a8e7006cfa": {
      "model_module": "@jupyter-widgets/base",
      "model_module_version": "1.2.0",
      "model_name": "LayoutModel",
      "state": {}
     },
     "224b12134b2a47e38fe7f6981cf9e2b0": {
      "model_module": "@jupyter-widgets/controls",
      "model_module_version": "1.5.0",
      "model_name": "DescriptionStyleModel",
      "state": {
       "description_width": ""
      }
     },
     "225dc77c7a5341fd9411c5955e463a2e": {
      "model_module": "@jupyter-widgets/controls",
      "model_module_version": "1.5.0",
      "model_name": "HTMLModel",
      "state": {
       "layout": "IPY_MODEL_b2519fb2f3cb4b4c80a49365c0913770",
       "style": "IPY_MODEL_cf24d9349424442ab69af64d70f1d13a",
       "value": " 100/100 [10:18&lt;00:00,  6.19s/it]"
      }
     },
     "226d2e5ecfda4555945c8903ddf1a38f": {
      "model_module": "@jupyter-widgets/controls",
      "model_module_version": "1.5.0",
      "model_name": "FloatProgressModel",
      "state": {
       "bar_style": "success",
       "layout": "IPY_MODEL_3c4d88c1eaa74e70bec855a4338424e8",
       "style": "IPY_MODEL_9c86979e5b024b578ff590c7261e36cf",
       "value": 100
      }
     },
     "22cd28eaf92a42a09bf8304a09b8a8a3": {
      "model_module": "@jupyter-widgets/base",
      "model_module_version": "1.2.0",
      "model_name": "LayoutModel",
      "state": {}
     },
     "23099e0952014e418064f27a2519aead": {
      "model_module": "@jupyter-widgets/base",
      "model_module_version": "1.2.0",
      "model_name": "LayoutModel",
      "state": {}
     },
     "234d754aceb24fc687b6074d62274be0": {
      "model_module": "@jupyter-widgets/controls",
      "model_module_version": "1.5.0",
      "model_name": "DescriptionStyleModel",
      "state": {
       "description_width": ""
      }
     },
     "2358d510e58349b0afecddbe2cc881a0": {
      "model_module": "@jupyter-widgets/controls",
      "model_module_version": "1.5.0",
      "model_name": "DescriptionStyleModel",
      "state": {
       "description_width": ""
      }
     },
     "236cdac0d97542749e5a44ccfc9973ce": {
      "model_module": "@jupyter-widgets/controls",
      "model_module_version": "1.5.0",
      "model_name": "HTMLModel",
      "state": {
       "layout": "IPY_MODEL_eb171c688a5d4916b0b151bf28cbef16",
       "style": "IPY_MODEL_4cb90b5ff7004ebea779e0e1a68b9c04",
       "value": "100%"
      }
     },
     "23cd048dc208472d9f193252e529466d": {
      "model_module": "@jupyter-widgets/controls",
      "model_module_version": "1.5.0",
      "model_name": "HTMLModel",
      "state": {
       "layout": "IPY_MODEL_0bedf5aa7f4d4c97baf30930bb8f338e",
       "style": "IPY_MODEL_c07d48c52392433a86f9939e11009f78",
       "value": "100%"
      }
     },
     "2581492e6f1b449dbe780bc2ef5a1da5": {
      "model_module": "@jupyter-widgets/controls",
      "model_module_version": "1.5.0",
      "model_name": "HBoxModel",
      "state": {
       "children": [
        "IPY_MODEL_7d0739f186f3460888603f9903f08e2b",
        "IPY_MODEL_bed4b9b37b10436f8a42ffe111e0a89b",
        "IPY_MODEL_5992187157294216bc11d4cee2843f8a"
       ],
       "layout": "IPY_MODEL_87ff7f2bf8a4402d825f08a5ad54d920"
      }
     },
     "25ab53205e864c21bf2e5590dad7eb10": {
      "model_module": "@jupyter-widgets/controls",
      "model_module_version": "1.5.0",
      "model_name": "FloatProgressModel",
      "state": {
       "bar_style": "success",
       "layout": "IPY_MODEL_ce0160feeb024032b577021e8e0b0c09",
       "style": "IPY_MODEL_1c75d2355cba46afa4e1feb15317c977",
       "value": 100
      }
     },
     "25ba2a7050c34198b28b19179c7577de": {
      "model_module": "@jupyter-widgets/controls",
      "model_module_version": "1.5.0",
      "model_name": "FloatProgressModel",
      "state": {
       "bar_style": "success",
       "layout": "IPY_MODEL_030161a9e3d5424ab1aced2ee6dc8bfc",
       "style": "IPY_MODEL_4a399b3a7c504607946d0538960f52a9",
       "value": 100
      }
     },
     "25d56f8c696640f9ab63a1d25845966c": {
      "model_module": "@jupyter-widgets/controls",
      "model_module_version": "1.5.0",
      "model_name": "ProgressStyleModel",
      "state": {
       "description_width": ""
      }
     },
     "263348ad3fba43d793e7f4726ea6a458": {
      "model_module": "@jupyter-widgets/controls",
      "model_module_version": "1.5.0",
      "model_name": "HTMLModel",
      "state": {
       "layout": "IPY_MODEL_4eb0242efc304b1cb7bff14c8de6dacc",
       "style": "IPY_MODEL_609ca9a0736243f78d91712387aa0fc7",
       "value": "100%"
      }
     },
     "267ca60af8224746a590f5d20dc22caa": {
      "model_module": "@jupyter-widgets/controls",
      "model_module_version": "1.5.0",
      "model_name": "DescriptionStyleModel",
      "state": {
       "description_width": ""
      }
     },
     "26a691b10a0b4c8381fff99fa6b2be5b": {
      "model_module": "@jupyter-widgets/controls",
      "model_module_version": "1.5.0",
      "model_name": "FloatProgressModel",
      "state": {
       "bar_style": "success",
       "layout": "IPY_MODEL_166eb915582f42bebaed94a4ab47fd6f",
       "style": "IPY_MODEL_4fac3f3703c04b2989551a89fd78fae1",
       "value": 100
      }
     },
     "26cb557907e045f39abe81e9eee827a8": {
      "model_module": "@jupyter-widgets/controls",
      "model_module_version": "1.5.0",
      "model_name": "ProgressStyleModel",
      "state": {
       "description_width": ""
      }
     },
     "277b8e493c7a44a5a83bbe960623c8e9": {
      "model_module": "@jupyter-widgets/controls",
      "model_module_version": "1.5.0",
      "model_name": "DescriptionStyleModel",
      "state": {
       "description_width": ""
      }
     },
     "2790e85c3fff4e9cbf74b96ee4d87b2a": {
      "model_module": "@jupyter-widgets/controls",
      "model_module_version": "1.5.0",
      "model_name": "HTMLModel",
      "state": {
       "layout": "IPY_MODEL_789d070c3d2844bca056bd649c8c5c9a",
       "style": "IPY_MODEL_4f725a3cc46c4925a3e18f8bf8e8c0aa",
       "value": " 100/100 [06:25&lt;00:00,  2.71s/it]"
      }
     },
     "27ad7bedf2d4454daa8a29db2c68c77d": {
      "model_module": "@jupyter-widgets/base",
      "model_module_version": "1.2.0",
      "model_name": "LayoutModel",
      "state": {}
     },
     "27d92e05080f438e8f27d127c3e71ae9": {
      "model_module": "@jupyter-widgets/base",
      "model_module_version": "1.2.0",
      "model_name": "LayoutModel",
      "state": {}
     },
     "27dfe2b0c69042a5ab54b078542b1c9c": {
      "model_module": "@jupyter-widgets/controls",
      "model_module_version": "1.5.0",
      "model_name": "DescriptionStyleModel",
      "state": {
       "description_width": ""
      }
     },
     "27faae7403be405495905aedb1a05eef": {
      "model_module": "@jupyter-widgets/base",
      "model_module_version": "1.2.0",
      "model_name": "LayoutModel",
      "state": {}
     },
     "28989574cb4149feacf376acae944cf2": {
      "model_module": "@jupyter-widgets/controls",
      "model_module_version": "1.5.0",
      "model_name": "FloatProgressModel",
      "state": {
       "bar_style": "success",
       "layout": "IPY_MODEL_773367324a8c4b838b2a90c69eb0ac82",
       "style": "IPY_MODEL_e896be7ee4ec4b858ddc39810c179d9b",
       "value": 100
      }
     },
     "291d319a29a946d1a6cdad393398f92e": {
      "model_module": "@jupyter-widgets/base",
      "model_module_version": "1.2.0",
      "model_name": "LayoutModel",
      "state": {}
     },
     "2a4bac4b180e4d7b9c2d44439507083f": {
      "model_module": "@jupyter-widgets/controls",
      "model_module_version": "1.5.0",
      "model_name": "DescriptionStyleModel",
      "state": {
       "description_width": ""
      }
     },
     "2afa7efd8bc64ac7bcef191ac8255970": {
      "model_module": "@jupyter-widgets/controls",
      "model_module_version": "1.5.0",
      "model_name": "FloatProgressModel",
      "state": {
       "bar_style": "danger",
       "layout": "IPY_MODEL_834e38770668474ca26d3daac5ed7d6f",
       "style": "IPY_MODEL_0a94b681c4084390a361e35cec3d0b75"
      }
     },
     "2b4c6e717b524baea9c8578a3061aa05": {
      "model_module": "@jupyter-widgets/base",
      "model_module_version": "1.2.0",
      "model_name": "LayoutModel",
      "state": {}
     },
     "2bb1ce5a7c284f91babb31c6c93be9c0": {
      "model_module": "@jupyter-widgets/base",
      "model_module_version": "1.2.0",
      "model_name": "LayoutModel",
      "state": {}
     },
     "2bda7446d32949799ee929e01aac791c": {
      "model_module": "@jupyter-widgets/controls",
      "model_module_version": "1.5.0",
      "model_name": "DescriptionStyleModel",
      "state": {
       "description_width": ""
      }
     },
     "2c981ca0539c4414b7d27aaf853016a3": {
      "model_module": "@jupyter-widgets/controls",
      "model_module_version": "1.5.0",
      "model_name": "ProgressStyleModel",
      "state": {
       "description_width": ""
      }
     },
     "2d5a3d66f3034b22b29558a9c1695565": {
      "model_module": "@jupyter-widgets/controls",
      "model_module_version": "1.5.0",
      "model_name": "FloatProgressModel",
      "state": {
       "bar_style": "success",
       "layout": "IPY_MODEL_e0fe0e8edbd4497db02e42e6ed8801a0",
       "max": 2838,
       "style": "IPY_MODEL_41bd7f660f9e410fb5eb1c8886b200c2",
       "value": 2838
      }
     },
     "2db3e2f9dc2a41bcafc737a6e5e22209": {
      "model_module": "@jupyter-widgets/controls",
      "model_module_version": "1.5.0",
      "model_name": "ProgressStyleModel",
      "state": {
       "description_width": ""
      }
     },
     "2e729457f7ea446ab59abbbfe773577a": {
      "model_module": "@jupyter-widgets/base",
      "model_module_version": "1.2.0",
      "model_name": "LayoutModel",
      "state": {}
     },
     "2e7b5487d79042d3872fdc18d41700fe": {
      "model_module": "@jupyter-widgets/base",
      "model_module_version": "1.2.0",
      "model_name": "LayoutModel",
      "state": {}
     },
     "2f0d4fd4a9e74ec9b3e0e57d376706e8": {
      "model_module": "@jupyter-widgets/controls",
      "model_module_version": "1.5.0",
      "model_name": "HBoxModel",
      "state": {
       "children": [
        "IPY_MODEL_23cd048dc208472d9f193252e529466d",
        "IPY_MODEL_25ab53205e864c21bf2e5590dad7eb10",
        "IPY_MODEL_6d8fee05dfb14042a1a281d36c31b168"
       ],
       "layout": "IPY_MODEL_c905e08250a2448484d1824604975c82"
      }
     },
     "2f7d7ac7b92e4e34b78e901968e7fc87": {
      "model_module": "@jupyter-widgets/base",
      "model_module_version": "1.2.0",
      "model_name": "LayoutModel",
      "state": {}
     },
     "2fb91f0372f443ea87cfbe3666efb679": {
      "model_module": "@jupyter-widgets/controls",
      "model_module_version": "1.5.0",
      "model_name": "ProgressStyleModel",
      "state": {
       "description_width": ""
      }
     },
     "2fe7ec6109844bfdb1ec5afbe3e55c85": {
      "model_module": "@jupyter-widgets/controls",
      "model_module_version": "1.5.0",
      "model_name": "DescriptionStyleModel",
      "state": {
       "description_width": ""
      }
     },
     "2fecb75c745844c293b0f85e81e00e70": {
      "model_module": "@jupyter-widgets/base",
      "model_module_version": "1.2.0",
      "model_name": "LayoutModel",
      "state": {}
     },
     "308677ba68d241fa92beca0c32862a6c": {
      "model_module": "@jupyter-widgets/controls",
      "model_module_version": "1.5.0",
      "model_name": "HBoxModel",
      "state": {
       "children": [
        "IPY_MODEL_190df68234454c84a8a4e98a225763e9",
        "IPY_MODEL_699faa91e3c443f8ba540d1dfe1345f1",
        "IPY_MODEL_9fd8b5535ed54f9980b49e7ca0523e58"
       ],
       "layout": "IPY_MODEL_c3e20cf859ec4459b74fd463c311ecaa"
      }
     },
     "30e46013daab40de849952970afa2fde": {
      "model_module": "@jupyter-widgets/base",
      "model_module_version": "1.2.0",
      "model_name": "LayoutModel",
      "state": {}
     },
     "3183179180804dbc8271e0a483fcda3a": {
      "model_module": "@jupyter-widgets/controls",
      "model_module_version": "1.5.0",
      "model_name": "HTMLModel",
      "state": {
       "layout": "IPY_MODEL_1d1354a5ea4841769c120e8aebe47619",
       "style": "IPY_MODEL_1ea96639a4fd4165af62b2fee2e94285",
       "value": " 100/100 [11:35&lt;00:00,  5.07s/it]"
      }
     },
     "31e87fe3426a42479e3ccfc64026258e": {
      "model_module": "@jupyter-widgets/controls",
      "model_module_version": "1.5.0",
      "model_name": "DescriptionStyleModel",
      "state": {
       "description_width": ""
      }
     },
     "327781b232ab41b7a8ae9aef8366d44b": {
      "model_module": "@jupyter-widgets/controls",
      "model_module_version": "1.5.0",
      "model_name": "DescriptionStyleModel",
      "state": {
       "description_width": ""
      }
     },
     "32893f38828043b894525aabc75d7c01": {
      "model_module": "@jupyter-widgets/base",
      "model_module_version": "1.2.0",
      "model_name": "LayoutModel",
      "state": {}
     },
     "32f58ced9780411eaac309884bc5f794": {
      "model_module": "@jupyter-widgets/controls",
      "model_module_version": "1.5.0",
      "model_name": "HBoxModel",
      "state": {
       "children": [
        "IPY_MODEL_8c2eafca51584f21a6bbb2aa9a293e5d",
        "IPY_MODEL_fd04e77a20d947d1974d51c44999060e",
        "IPY_MODEL_ac39de213808420eae2685f62915f7eb"
       ],
       "layout": "IPY_MODEL_c4331298799c44e0b3bc397aef895144"
      }
     },
     "331dce97fd904f128a50a01daa7d990a": {
      "model_module": "@jupyter-widgets/controls",
      "model_module_version": "1.5.0",
      "model_name": "DescriptionStyleModel",
      "state": {
       "description_width": ""
      }
     },
     "33304d23e71e4057bcf6bacafe851592": {
      "model_module": "@jupyter-widgets/base",
      "model_module_version": "1.2.0",
      "model_name": "LayoutModel",
      "state": {}
     },
     "342a3e632a0f449e87ca62b3a61a21a3": {
      "model_module": "@jupyter-widgets/controls",
      "model_module_version": "1.5.0",
      "model_name": "HBoxModel",
      "state": {
       "children": [
        "IPY_MODEL_7bf19d6fb43447fdb14eac1b2601a071",
        "IPY_MODEL_1a2b9356cf69490ba02cfb34d8bc0a07",
        "IPY_MODEL_38b809aa35194ecdb7bdcef8284391df"
       ],
       "layout": "IPY_MODEL_35f4f9e7664c4c378a65fb9cc6b7371e"
      }
     },
     "34b5a1695b964b588a5b741ecefb17c3": {
      "model_module": "@jupyter-widgets/controls",
      "model_module_version": "1.5.0",
      "model_name": "ProgressStyleModel",
      "state": {
       "description_width": ""
      }
     },
     "34ff9d31eb7b4e8698089e6ed4212ecd": {
      "model_module": "@jupyter-widgets/controls",
      "model_module_version": "1.5.0",
      "model_name": "HTMLModel",
      "state": {
       "layout": "IPY_MODEL_74462d3311a14544a942e1c4929da493",
       "style": "IPY_MODEL_6acd373b148648fd814293ff27250ccf",
       "value": " 100/100 [11:01&lt;00:00,  8.70s/it]"
      }
     },
     "35087185d62848c1932c596aea5af8c2": {
      "model_module": "@jupyter-widgets/controls",
      "model_module_version": "1.5.0",
      "model_name": "HBoxModel",
      "state": {
       "children": [
        "IPY_MODEL_669fca933504490e9919f113f270a0ba",
        "IPY_MODEL_3bdaa6a93c9e4970bd6aaa2f631a3d2c",
        "IPY_MODEL_aeb97777243a4258b453ff5ffa5c0f37"
       ],
       "layout": "IPY_MODEL_6d0e69737b8246328d295d5b1a8835b4"
      }
     },
     "35608781b9f945c185466d6a56127462": {
      "model_module": "@jupyter-widgets/controls",
      "model_module_version": "1.5.0",
      "model_name": "HTMLModel",
      "state": {
       "layout": "IPY_MODEL_b0dcfcf1d09a4b029c1c5e4aa9b8c57a",
       "style": "IPY_MODEL_a6b0902de50f4bc5992a75c4e0fdf7a7",
       "value": " 2836/2836 [08:33&lt;00:00,  5.58it/s]"
      }
     },
     "35971871ee314714b0f67f2a0c770a97": {
      "model_module": "@jupyter-widgets/controls",
      "model_module_version": "1.5.0",
      "model_name": "HTMLModel",
      "state": {
       "layout": "IPY_MODEL_19ccfb088aad41a0846777ba93f76e06",
       "style": "IPY_MODEL_994eef47ca4a45f98c50cbf503cb9529",
       "value": "  0%"
      }
     },
     "35f4f9e7664c4c378a65fb9cc6b7371e": {
      "model_module": "@jupyter-widgets/base",
      "model_module_version": "1.2.0",
      "model_name": "LayoutModel",
      "state": {}
     },
     "36111ebe1ffd40b08137ccd7ca80b407": {
      "model_module": "@jupyter-widgets/controls",
      "model_module_version": "1.5.0",
      "model_name": "DescriptionStyleModel",
      "state": {
       "description_width": ""
      }
     },
     "363967f4f37141d4881711b3bb6c986c": {
      "model_module": "@jupyter-widgets/base",
      "model_module_version": "1.2.0",
      "model_name": "LayoutModel",
      "state": {}
     },
     "37794efd70424d81b8bc376c31957f84": {
      "model_module": "@jupyter-widgets/controls",
      "model_module_version": "1.5.0",
      "model_name": "HTMLModel",
      "state": {
       "layout": "IPY_MODEL_c2ef468241cb455196513a955e20b668",
       "style": "IPY_MODEL_3dc6ed59b3114d48aeda9c09bacc0aae",
       "value": "100%"
      }
     },
     "37c1ae5cd09b4be3bced50edb92ee999": {
      "model_module": "@jupyter-widgets/base",
      "model_module_version": "1.2.0",
      "model_name": "LayoutModel",
      "state": {}
     },
     "38b0e1064fec422a9d85ce269b571503": {
      "model_module": "@jupyter-widgets/controls",
      "model_module_version": "1.5.0",
      "model_name": "HTMLModel",
      "state": {
       "layout": "IPY_MODEL_58f473c958164ff2a9bb229078f2b2a6",
       "style": "IPY_MODEL_eaee08545fbb467ebe0fc736439e2ccc",
       "value": "100%"
      }
     },
     "38b5d71d8e5245c8b97604edea10669a": {
      "model_module": "@jupyter-widgets/controls",
      "model_module_version": "1.5.0",
      "model_name": "ProgressStyleModel",
      "state": {
       "description_width": ""
      }
     },
     "38b809aa35194ecdb7bdcef8284391df": {
      "model_module": "@jupyter-widgets/controls",
      "model_module_version": "1.5.0",
      "model_name": "HTMLModel",
      "state": {
       "layout": "IPY_MODEL_49d5183947a94f44863fac1767586f41",
       "style": "IPY_MODEL_128491d39aae43b18e11ee6eb1ae0364",
       "value": " 100/100 [14:28&lt;00:00,  6.45s/it]"
      }
     },
     "3a5bb007b908447aac102424f346bff6": {
      "model_module": "@jupyter-widgets/controls",
      "model_module_version": "1.5.0",
      "model_name": "DescriptionStyleModel",
      "state": {
       "description_width": ""
      }
     },
     "3b3ef1ecc5104a11869b006d00594f22": {
      "model_module": "@jupyter-widgets/controls",
      "model_module_version": "1.5.0",
      "model_name": "HBoxModel",
      "state": {
       "children": [
        "IPY_MODEL_a3db10406d634cf297353031f9f2bb8a",
        "IPY_MODEL_03c08cde2a0e4832a6fd3d0f5f2667a3",
        "IPY_MODEL_d373d7d6a9274f9db54a328587e7b2aa"
       ],
       "layout": "IPY_MODEL_c3783f5f40bc47608955dbf8989982f4"
      }
     },
     "3b6581621bcc4181954d8b68d7c4d32d": {
      "model_module": "@jupyter-widgets/controls",
      "model_module_version": "1.5.0",
      "model_name": "DescriptionStyleModel",
      "state": {
       "description_width": ""
      }
     },
     "3bdaa6a93c9e4970bd6aaa2f631a3d2c": {
      "model_module": "@jupyter-widgets/controls",
      "model_module_version": "1.5.0",
      "model_name": "FloatProgressModel",
      "state": {
       "bar_style": "success",
       "layout": "IPY_MODEL_ddf44913422d4c2b891badaa2537ab4c",
       "style": "IPY_MODEL_d2269d3d30ea461bb31d56ba10b6e15a",
       "value": 100
      }
     },
     "3c1aa03149aa400fb45f335bc9fe0db2": {
      "model_module": "@jupyter-widgets/controls",
      "model_module_version": "1.5.0",
      "model_name": "HTMLModel",
      "state": {
       "layout": "IPY_MODEL_f3b62e66389c450395bb1c31e898839d",
       "style": "IPY_MODEL_331dce97fd904f128a50a01daa7d990a",
       "value": " 7/2836 [00:01&lt;08:14,  5.72it/s]"
      }
     },
     "3c4d88c1eaa74e70bec855a4338424e8": {
      "model_module": "@jupyter-widgets/base",
      "model_module_version": "1.2.0",
      "model_name": "LayoutModel",
      "state": {}
     },
     "3ce5a197a25143b792365343c37ede5f": {
      "model_module": "@jupyter-widgets/base",
      "model_module_version": "1.2.0",
      "model_name": "LayoutModel",
      "state": {}
     },
     "3d080e3aab304741a44fdb6af1740978": {
      "model_module": "@jupyter-widgets/base",
      "model_module_version": "1.2.0",
      "model_name": "LayoutModel",
      "state": {}
     },
     "3d1a6bc3cdfe4d038577acaeffa77c53": {
      "model_module": "@jupyter-widgets/controls",
      "model_module_version": "1.5.0",
      "model_name": "FloatProgressModel",
      "state": {
       "bar_style": "success",
       "layout": "IPY_MODEL_d420a164ef08455eb5d64ace9af20f7f",
       "style": "IPY_MODEL_da5e1536263f43519771548968f772d2",
       "value": 100
      }
     },
     "3d56f942ca074cd9b666f120a4ea291d": {
      "model_module": "@jupyter-widgets/controls",
      "model_module_version": "1.5.0",
      "model_name": "HTMLModel",
      "state": {
       "layout": "IPY_MODEL_0a4783927e164841ac2bd72b92c4b40c",
       "style": "IPY_MODEL_ccee27ba01b849e8938f36c90a5f94ec",
       "value": " 100/100 [13:13&lt;00:00,  5.56s/it]"
      }
     },
     "3d5ea9245f6e4024bd5de9508825da22": {
      "model_module": "@jupyter-widgets/base",
      "model_module_version": "1.2.0",
      "model_name": "LayoutModel",
      "state": {}
     },
     "3d9585b8373041ab96f97deb9454e355": {
      "model_module": "@jupyter-widgets/controls",
      "model_module_version": "1.5.0",
      "model_name": "HTMLModel",
      "state": {
       "layout": "IPY_MODEL_d4303454f649401fb71730068dffe3a9",
       "style": "IPY_MODEL_3dc415dec8a241fbb9e34f4f0ae1bc1c",
       "value": "100%"
      }
     },
     "3dae98db627b4fb58cd4186bdc37e702": {
      "model_module": "@jupyter-widgets/controls",
      "model_module_version": "1.5.0",
      "model_name": "ProgressStyleModel",
      "state": {
       "description_width": ""
      }
     },
     "3daf35ebdd584f78ad388b10782f4f93": {
      "model_module": "@jupyter-widgets/controls",
      "model_module_version": "1.5.0",
      "model_name": "DescriptionStyleModel",
      "state": {
       "description_width": ""
      }
     },
     "3db2480cdbd74587b87e694ab99871f7": {
      "model_module": "@jupyter-widgets/controls",
      "model_module_version": "1.5.0",
      "model_name": "HTMLModel",
      "state": {
       "layout": "IPY_MODEL_f096b95112744f8598a62999b7cded3a",
       "style": "IPY_MODEL_8b12ca4f965c4e2d93cbbe0e2128edf6",
       "value": " 2836/2836 [08:24&lt;00:00,  5.66it/s]"
      }
     },
     "3dc415dec8a241fbb9e34f4f0ae1bc1c": {
      "model_module": "@jupyter-widgets/controls",
      "model_module_version": "1.5.0",
      "model_name": "DescriptionStyleModel",
      "state": {
       "description_width": ""
      }
     },
     "3dc6ed59b3114d48aeda9c09bacc0aae": {
      "model_module": "@jupyter-widgets/controls",
      "model_module_version": "1.5.0",
      "model_name": "DescriptionStyleModel",
      "state": {
       "description_width": ""
      }
     },
     "3ddced85a9ef44478775ca53661ca5d4": {
      "model_module": "@jupyter-widgets/base",
      "model_module_version": "1.2.0",
      "model_name": "LayoutModel",
      "state": {}
     },
     "3e483667b78c4ae1a60567afd1f2c0a0": {
      "model_module": "@jupyter-widgets/controls",
      "model_module_version": "1.5.0",
      "model_name": "HBoxModel",
      "state": {
       "children": [
        "IPY_MODEL_f7dd8e9d354d48af876af1db1c0cb402",
        "IPY_MODEL_b86158f1881b4c4d8d64da81d0275c7e",
        "IPY_MODEL_999b4f652bd64068919a1538cf956bd0"
       ],
       "layout": "IPY_MODEL_bacbb86cc47642e3ad196fc5c17778f5"
      }
     },
     "3e63076b861c4193a25cd81dd7d5ac0f": {
      "model_module": "@jupyter-widgets/base",
      "model_module_version": "1.2.0",
      "model_name": "LayoutModel",
      "state": {}
     },
     "3e7a6f45f7714c90b28836b5d6c3ee0c": {
      "model_module": "@jupyter-widgets/base",
      "model_module_version": "1.2.0",
      "model_name": "LayoutModel",
      "state": {}
     },
     "3e846b5740a04f3b9d9d0be128c086bb": {
      "model_module": "@jupyter-widgets/controls",
      "model_module_version": "1.5.0",
      "model_name": "ProgressStyleModel",
      "state": {
       "description_width": ""
      }
     },
     "3ef88b4703ba485d8785ec0ead08baab": {
      "model_module": "@jupyter-widgets/controls",
      "model_module_version": "1.5.0",
      "model_name": "FloatProgressModel",
      "state": {
       "bar_style": "success",
       "layout": "IPY_MODEL_f8b19f0f2c7f40b78fddc379ea9e80ac",
       "style": "IPY_MODEL_4c3ffd5eab6c461188de51192e5eb422",
       "value": 100
      }
     },
     "3f3880e84d934759ba3a2ceaf192ea05": {
      "model_module": "@jupyter-widgets/controls",
      "model_module_version": "1.5.0",
      "model_name": "DescriptionStyleModel",
      "state": {
       "description_width": ""
      }
     },
     "3f483c0152ec455991a696328530017d": {
      "model_module": "@jupyter-widgets/controls",
      "model_module_version": "1.5.0",
      "model_name": "HTMLModel",
      "state": {
       "layout": "IPY_MODEL_a24d5dca866b4b78b8852b9931cbd9a2",
       "style": "IPY_MODEL_84abdd34bf844e688e6ca8c23d738467",
       "value": " 100/100 [1:09:21&lt;00:00, 41.62s/it]"
      }
     },
     "3f5a60fb26e54452b25efbb1e5fa67fe": {
      "model_module": "@jupyter-widgets/base",
      "model_module_version": "1.2.0",
      "model_name": "LayoutModel",
      "state": {}
     },
     "3fda4b2f4ae04829a0a35d1106f8b489": {
      "model_module": "@jupyter-widgets/controls",
      "model_module_version": "1.5.0",
      "model_name": "HTMLModel",
      "state": {
       "layout": "IPY_MODEL_bf046793d5cf48f0a65bc2fc6e0d1cb0",
       "style": "IPY_MODEL_890b4f6471134e5e89dcca32e19fd881",
       "value": "100%"
      }
     },
     "3fe35d0a95aa4f7d80a4fff9810e09ea": {
      "model_module": "@jupyter-widgets/controls",
      "model_module_version": "1.5.0",
      "model_name": "HBoxModel",
      "state": {
       "children": [
        "IPY_MODEL_af8b627053c44ae0952ceaba888896f2",
        "IPY_MODEL_226d2e5ecfda4555945c8903ddf1a38f",
        "IPY_MODEL_6835dfacccee44d88e8a6c8a6af4aabc"
       ],
       "layout": "IPY_MODEL_03f935bcab60485f9dbb0cde11d28f4e"
      }
     },
     "407f93d9a0b84ca8bda51465d0c09301": {
      "model_module": "@jupyter-widgets/base",
      "model_module_version": "1.2.0",
      "model_name": "LayoutModel",
      "state": {}
     },
     "4081eee1b9604dcfb25078cf64ea5e68": {
      "model_module": "@jupyter-widgets/controls",
      "model_module_version": "1.5.0",
      "model_name": "DescriptionStyleModel",
      "state": {
       "description_width": ""
      }
     },
     "40c82e260f1945e7b8e64c005247ad99": {
      "model_module": "@jupyter-widgets/controls",
      "model_module_version": "1.5.0",
      "model_name": "DescriptionStyleModel",
      "state": {
       "description_width": ""
      }
     },
     "41298b348a734044b2fac1d7dda456d0": {
      "model_module": "@jupyter-widgets/controls",
      "model_module_version": "1.5.0",
      "model_name": "HBoxModel",
      "state": {
       "children": [
        "IPY_MODEL_e0d34ba21a414d6a9b5c46be250c5a79",
        "IPY_MODEL_ed2fd43bb8984dc7af094805858cb857",
        "IPY_MODEL_8b3ee791561443819389246dec87ebe5"
       ],
       "layout": "IPY_MODEL_c75a64325b804dd6827174ef74650922"
      }
     },
     "412d247df6fb4c82972f2566a1178b51": {
      "model_module": "@jupyter-widgets/base",
      "model_module_version": "1.2.0",
      "model_name": "LayoutModel",
      "state": {}
     },
     "416dc031aa0d4dd9a27504529071a5bf": {
      "model_module": "@jupyter-widgets/base",
      "model_module_version": "1.2.0",
      "model_name": "LayoutModel",
      "state": {}
     },
     "417c7e15253e448e8f23af280968e0c6": {
      "model_module": "@jupyter-widgets/controls",
      "model_module_version": "1.5.0",
      "model_name": "HTMLModel",
      "state": {
       "layout": "IPY_MODEL_988177e446a642f39584875a98936237",
       "style": "IPY_MODEL_31e87fe3426a42479e3ccfc64026258e",
       "value": " 100/100 [06:14&lt;00:00,  2.49s/it]"
      }
     },
     "41bd7f660f9e410fb5eb1c8886b200c2": {
      "model_module": "@jupyter-widgets/controls",
      "model_module_version": "1.5.0",
      "model_name": "ProgressStyleModel",
      "state": {
       "description_width": ""
      }
     },
     "4234894fe2934a089947bd3a19e0dfed": {
      "model_module": "@jupyter-widgets/controls",
      "model_module_version": "1.5.0",
      "model_name": "FloatProgressModel",
      "state": {
       "bar_style": "success",
       "layout": "IPY_MODEL_656be739dc68473caaf8f159b025f1de",
       "style": "IPY_MODEL_f62617992d8e40ed92ed8f424495316e",
       "value": 100
      }
     },
     "42729324760c41bbadf555068fd8649b": {
      "model_module": "@jupyter-widgets/controls",
      "model_module_version": "1.5.0",
      "model_name": "ProgressStyleModel",
      "state": {
       "description_width": ""
      }
     },
     "427ae22b76a04578ae4a3c5feafed729": {
      "model_module": "@jupyter-widgets/controls",
      "model_module_version": "1.5.0",
      "model_name": "HTMLModel",
      "state": {
       "layout": "IPY_MODEL_e9783627dd7540ed9e3a9defcfea8e0f",
       "style": "IPY_MODEL_80f05566b5794140927e8f71f5f5eb4a",
       "value": " 100/100 [06:09&lt;00:00,  2.58s/it]"
      }
     },
     "42f0374c91c348af8e8135977996e8b4": {
      "model_module": "@jupyter-widgets/controls",
      "model_module_version": "1.5.0",
      "model_name": "FloatProgressModel",
      "state": {
       "bar_style": "success",
       "layout": "IPY_MODEL_d3fd2821892c4e248f7dfc735f4c088e",
       "style": "IPY_MODEL_f78e5a15d8dd43918727519770a38064",
       "value": 100
      }
     },
     "4325c3cde3fc40349f4a6fd61505a71d": {
      "model_module": "@jupyter-widgets/controls",
      "model_module_version": "1.5.0",
      "model_name": "HTMLModel",
      "state": {
       "layout": "IPY_MODEL_2b4c6e717b524baea9c8578a3061aa05",
       "style": "IPY_MODEL_1718d85b7e354aeda8043d12a4e91c0a",
       "value": "100%"
      }
     },
     "436cd65d75374ead844f9e4ccbaa1738": {
      "model_module": "@jupyter-widgets/controls",
      "model_module_version": "1.5.0",
      "model_name": "FloatProgressModel",
      "state": {
       "bar_style": "success",
       "layout": "IPY_MODEL_a5a1a83ad9ca4e5eb434d3644f0b2358",
       "style": "IPY_MODEL_1a85a4aec1e1499f9de762fcad641f85",
       "value": 100
      }
     },
     "440adf5993fa4323b1f1beb2ed49a890": {
      "model_module": "@jupyter-widgets/base",
      "model_module_version": "1.2.0",
      "model_name": "LayoutModel",
      "state": {}
     },
     "4476ad8052694861990f07580003fc94": {
      "model_module": "@jupyter-widgets/controls",
      "model_module_version": "1.5.0",
      "model_name": "HTMLModel",
      "state": {
       "layout": "IPY_MODEL_8e8e91170bc747a8a123ad45d6934fbc",
       "style": "IPY_MODEL_8aa143bae0da46faa64cc1b2edbf7c62",
       "value": "  0%"
      }
     },
     "44c14f75c5f7455e88d8d6a8ffc285a9": {
      "model_module": "@jupyter-widgets/controls",
      "model_module_version": "1.5.0",
      "model_name": "DescriptionStyleModel",
      "state": {
       "description_width": ""
      }
     },
     "44f6a2656615462c90e106d66a9fe05f": {
      "model_module": "@jupyter-widgets/base",
      "model_module_version": "1.2.0",
      "model_name": "LayoutModel",
      "state": {}
     },
     "451abd48b1e0466cb9eac3a8788186b7": {
      "model_module": "@jupyter-widgets/base",
      "model_module_version": "1.2.0",
      "model_name": "LayoutModel",
      "state": {}
     },
     "4569be520aae413aa4d0b9c3802e6aad": {
      "model_module": "@jupyter-widgets/base",
      "model_module_version": "1.2.0",
      "model_name": "LayoutModel",
      "state": {}
     },
     "4577c87f364b48379a511d03bef66f3d": {
      "model_module": "@jupyter-widgets/base",
      "model_module_version": "1.2.0",
      "model_name": "LayoutModel",
      "state": {}
     },
     "45a6f6495d514ad9bf599bc8b8feb245": {
      "model_module": "@jupyter-widgets/controls",
      "model_module_version": "1.5.0",
      "model_name": "HBoxModel",
      "state": {
       "children": [
        "IPY_MODEL_6c44cd5859e545aaa0aee7cec2db5d2d",
        "IPY_MODEL_a12ac67a9e69409bbc585dd84ec686a3",
        "IPY_MODEL_0da11b7125074a659867ef527bcdc782"
       ],
       "layout": "IPY_MODEL_2fecb75c745844c293b0f85e81e00e70"
      }
     },
     "461d89b8529c40c7aa06373baf2e2a70": {
      "model_module": "@jupyter-widgets/controls",
      "model_module_version": "1.5.0",
      "model_name": "HBoxModel",
      "state": {
       "children": [
        "IPY_MODEL_86393900cb8348488501597cc9feabf4",
        "IPY_MODEL_82ad3a8ac4954cc6a636f7b2a877ded3",
        "IPY_MODEL_35608781b9f945c185466d6a56127462"
       ],
       "layout": "IPY_MODEL_4f600e3d1c1c451ca8cd6fc360c7f38e"
      }
     },
     "468bdad7986747c79078afd5026826c2": {
      "model_module": "@jupyter-widgets/controls",
      "model_module_version": "1.5.0",
      "model_name": "DescriptionStyleModel",
      "state": {
       "description_width": ""
      }
     },
     "4693272798514375bf0e093fc75312ae": {
      "model_module": "@jupyter-widgets/controls",
      "model_module_version": "1.5.0",
      "model_name": "DescriptionStyleModel",
      "state": {
       "description_width": ""
      }
     },
     "488c10c18b884294ab4bdb73970e40c1": {
      "model_module": "@jupyter-widgets/base",
      "model_module_version": "1.2.0",
      "model_name": "LayoutModel",
      "state": {}
     },
     "488ec28a06744588a30f35f47e30c4a3": {
      "model_module": "@jupyter-widgets/base",
      "model_module_version": "1.2.0",
      "model_name": "LayoutModel",
      "state": {}
     },
     "48b2a56ef37d4229870298833fbb703d": {
      "model_module": "@jupyter-widgets/base",
      "model_module_version": "1.2.0",
      "model_name": "LayoutModel",
      "state": {}
     },
     "48d6137d8d37483684f24ce8042c94c6": {
      "model_module": "@jupyter-widgets/controls",
      "model_module_version": "1.5.0",
      "model_name": "HTMLModel",
      "state": {
       "layout": "IPY_MODEL_ffd6bab4689a45edab4980c0ce2ff5e1",
       "style": "IPY_MODEL_afd5f686e3094d489e871336a88d7ef5",
       "value": "100%"
      }
     },
     "49021f1844d04aeaa84b2f798bd0bc2e": {
      "model_module": "@jupyter-widgets/controls",
      "model_module_version": "1.5.0",
      "model_name": "DescriptionStyleModel",
      "state": {
       "description_width": ""
      }
     },
     "492f0dc1fcce4e13afc3a68e7e4274d1": {
      "model_module": "@jupyter-widgets/controls",
      "model_module_version": "1.5.0",
      "model_name": "DescriptionStyleModel",
      "state": {
       "description_width": ""
      }
     },
     "4938ff651ded47b0bf3126dd8d869b97": {
      "model_module": "@jupyter-widgets/controls",
      "model_module_version": "1.5.0",
      "model_name": "DescriptionStyleModel",
      "state": {
       "description_width": ""
      }
     },
     "4978aa49747c462f908fe0a7a72c337e": {
      "model_module": "@jupyter-widgets/controls",
      "model_module_version": "1.5.0",
      "model_name": "FloatProgressModel",
      "state": {
       "bar_style": "danger",
       "layout": "IPY_MODEL_8d1b97296044492eb9a13e7ac2329fb2",
       "style": "IPY_MODEL_42729324760c41bbadf555068fd8649b"
      }
     },
     "49d5183947a94f44863fac1767586f41": {
      "model_module": "@jupyter-widgets/base",
      "model_module_version": "1.2.0",
      "model_name": "LayoutModel",
      "state": {}
     },
     "49e8546f5ba940259526a3ea80a3052f": {
      "model_module": "@jupyter-widgets/base",
      "model_module_version": "1.2.0",
      "model_name": "LayoutModel",
      "state": {}
     },
     "4a399b3a7c504607946d0538960f52a9": {
      "model_module": "@jupyter-widgets/controls",
      "model_module_version": "1.5.0",
      "model_name": "ProgressStyleModel",
      "state": {
       "description_width": ""
      }
     },
     "4a90e5c38cfb46e4bebae1400825f99d": {
      "model_module": "@jupyter-widgets/controls",
      "model_module_version": "1.5.0",
      "model_name": "ProgressStyleModel",
      "state": {
       "description_width": ""
      }
     },
     "4b3a9e2502464350aac4ddde6c1a186a": {
      "model_module": "@jupyter-widgets/controls",
      "model_module_version": "1.5.0",
      "model_name": "FloatProgressModel",
      "state": {
       "bar_style": "success",
       "layout": "IPY_MODEL_aa2e4d83f2b740bbad40605b7b9cf31b",
       "style": "IPY_MODEL_edbfa9d822724589b15dbf9a2a65275e",
       "value": 100
      }
     },
     "4b3ccdba70134deb91b3ae6f3dd6dc08": {
      "model_module": "@jupyter-widgets/base",
      "model_module_version": "1.2.0",
      "model_name": "LayoutModel",
      "state": {}
     },
     "4bbff7c018b44e919c3648aac96b457c": {
      "model_module": "@jupyter-widgets/base",
      "model_module_version": "1.2.0",
      "model_name": "LayoutModel",
      "state": {}
     },
     "4bdca636f5444b83afea6609b0503366": {
      "model_module": "@jupyter-widgets/controls",
      "model_module_version": "1.5.0",
      "model_name": "DescriptionStyleModel",
      "state": {
       "description_width": ""
      }
     },
     "4c1c265bfd2a407a8bfed97350827cf5": {
      "model_module": "@jupyter-widgets/base",
      "model_module_version": "1.2.0",
      "model_name": "LayoutModel",
      "state": {}
     },
     "4c2a1009e7c84b0fab8262f2fea936c8": {
      "model_module": "@jupyter-widgets/controls",
      "model_module_version": "1.5.0",
      "model_name": "DescriptionStyleModel",
      "state": {
       "description_width": ""
      }
     },
     "4c3ffd5eab6c461188de51192e5eb422": {
      "model_module": "@jupyter-widgets/controls",
      "model_module_version": "1.5.0",
      "model_name": "ProgressStyleModel",
      "state": {
       "description_width": ""
      }
     },
     "4c5f57848da445209be214bd8155ce77": {
      "model_module": "@jupyter-widgets/controls",
      "model_module_version": "1.5.0",
      "model_name": "HTMLModel",
      "state": {
       "layout": "IPY_MODEL_b64b61a424af4815b0dd9b576a6fdce2",
       "style": "IPY_MODEL_a220097764654f04bd78a7d2366b17b4",
       "value": " 100/100 [10:26&lt;00:00,  6.27s/it]"
      }
     },
     "4c6195a7a4ec4ef4bb3c5da3805f990c": {
      "model_module": "@jupyter-widgets/controls",
      "model_module_version": "1.5.0",
      "model_name": "HBoxModel",
      "state": {
       "children": [
        "IPY_MODEL_a4337c6ad486433787c4c7b39f868c2e",
        "IPY_MODEL_b4eb8ded48334be2b44a0ae3d55e57b2",
        "IPY_MODEL_fe1e0682fd954575a1df10b0149f19e5"
       ],
       "layout": "IPY_MODEL_b302f9c1998e40399195e153665e9942"
      }
     },
     "4cb90b5ff7004ebea779e0e1a68b9c04": {
      "model_module": "@jupyter-widgets/controls",
      "model_module_version": "1.5.0",
      "model_name": "DescriptionStyleModel",
      "state": {
       "description_width": ""
      }
     },
     "4cf6c32d0f2b480586ed0e0d65cbba01": {
      "model_module": "@jupyter-widgets/controls",
      "model_module_version": "1.5.0",
      "model_name": "HTMLModel",
      "state": {
       "layout": "IPY_MODEL_97722d050e9c42cfbea4558f5829f3c2",
       "style": "IPY_MODEL_7ede590b3dc64ffa9529f3497c31da74",
       "value": " 100/100 [11:59:04&lt;00:00, 431.44s/it]"
      }
     },
     "4d7ab252492445f282d99ea7416da346": {
      "model_module": "@jupyter-widgets/controls",
      "model_module_version": "1.5.0",
      "model_name": "ProgressStyleModel",
      "state": {
       "description_width": ""
      }
     },
     "4ea937bf89bc477a899a210410703195": {
      "model_module": "@jupyter-widgets/controls",
      "model_module_version": "1.5.0",
      "model_name": "HTMLModel",
      "state": {
       "layout": "IPY_MODEL_08b64d46224e4b4eb2707a36768d3942",
       "style": "IPY_MODEL_0e0cf90493984194b5b78e0a4fe1521e",
       "value": " 0/100 [00:01&lt;?, ?it/s]"
      }
     },
     "4eb0242efc304b1cb7bff14c8de6dacc": {
      "model_module": "@jupyter-widgets/base",
      "model_module_version": "1.2.0",
      "model_name": "LayoutModel",
      "state": {}
     },
     "4ee6e8523ef74f19ad406f240ca39fa2": {
      "model_module": "@jupyter-widgets/controls",
      "model_module_version": "1.5.0",
      "model_name": "DescriptionStyleModel",
      "state": {
       "description_width": ""
      }
     },
     "4f112605ebb44b2ab702acd56910db85": {
      "model_module": "@jupyter-widgets/base",
      "model_module_version": "1.2.0",
      "model_name": "LayoutModel",
      "state": {}
     },
     "4f23555dfe1b4f9a9e52c451a047cd35": {
      "model_module": "@jupyter-widgets/controls",
      "model_module_version": "1.5.0",
      "model_name": "FloatProgressModel",
      "state": {
       "bar_style": "danger",
       "layout": "IPY_MODEL_09a8feda5a1d4bb2bfb70b7ca1fa9b73",
       "style": "IPY_MODEL_8cc100ae90c344628745ac1e5420bc06"
      }
     },
     "4f394b12555d4062b96b7631a2d61216": {
      "model_module": "@jupyter-widgets/base",
      "model_module_version": "1.2.0",
      "model_name": "LayoutModel",
      "state": {}
     },
     "4f55ca3adacc47f3851c1a561574f5f2": {
      "model_module": "@jupyter-widgets/controls",
      "model_module_version": "1.5.0",
      "model_name": "HBoxModel",
      "state": {
       "children": [
        "IPY_MODEL_263348ad3fba43d793e7f4726ea6a458",
        "IPY_MODEL_a635485883fc44d186532bc818cc4d59",
        "IPY_MODEL_18c409c52916497f98e1661bab3a4958"
       ],
       "layout": "IPY_MODEL_69f6c93000c2468383473b8a6eb0acb7"
      }
     },
     "4f600e3d1c1c451ca8cd6fc360c7f38e": {
      "model_module": "@jupyter-widgets/base",
      "model_module_version": "1.2.0",
      "model_name": "LayoutModel",
      "state": {}
     },
     "4f725a3cc46c4925a3e18f8bf8e8c0aa": {
      "model_module": "@jupyter-widgets/controls",
      "model_module_version": "1.5.0",
      "model_name": "DescriptionStyleModel",
      "state": {
       "description_width": ""
      }
     },
     "4fac3f3703c04b2989551a89fd78fae1": {
      "model_module": "@jupyter-widgets/controls",
      "model_module_version": "1.5.0",
      "model_name": "ProgressStyleModel",
      "state": {
       "description_width": ""
      }
     },
     "4fd442dcffd5457b884b77dd2fc34faf": {
      "model_module": "@jupyter-widgets/base",
      "model_module_version": "1.2.0",
      "model_name": "LayoutModel",
      "state": {}
     },
     "4fdd02cf8aeb4076af6aedb18a3e2b6c": {
      "model_module": "@jupyter-widgets/controls",
      "model_module_version": "1.5.0",
      "model_name": "ProgressStyleModel",
      "state": {
       "description_width": ""
      }
     },
     "504c1cd031b945f08c661d142e774d4b": {
      "model_module": "@jupyter-widgets/base",
      "model_module_version": "1.2.0",
      "model_name": "LayoutModel",
      "state": {}
     },
     "50a747d39d6142fe84265c78c47f7ccd": {
      "model_module": "@jupyter-widgets/base",
      "model_module_version": "1.2.0",
      "model_name": "LayoutModel",
      "state": {}
     },
     "53e3d9e32a3548c8b32a1e9e17230934": {
      "model_module": "@jupyter-widgets/controls",
      "model_module_version": "1.5.0",
      "model_name": "HTMLModel",
      "state": {
       "layout": "IPY_MODEL_3ce5a197a25143b792365343c37ede5f",
       "style": "IPY_MODEL_ae66264cd2634dc59da56172a8bc8a79",
       "value": " 100/100 [13:48&lt;00:00, 24.87s/it]"
      }
     },
     "542835c046c94e3486e74f1d23549208": {
      "model_module": "@jupyter-widgets/controls",
      "model_module_version": "1.5.0",
      "model_name": "HBoxModel",
      "state": {
       "children": [
        "IPY_MODEL_16a99d0e933642b3913b713efcdb2305",
        "IPY_MODEL_7aa5086bf94147a8979114e07df4c7a5",
        "IPY_MODEL_3183179180804dbc8271e0a483fcda3a"
       ],
       "layout": "IPY_MODEL_74f8ef90b92d4417b65869fea4abaa32"
      }
     },
     "5465c9abec5b481ca61229bb4f1cfb7f": {
      "model_module": "@jupyter-widgets/controls",
      "model_module_version": "1.5.0",
      "model_name": "HBoxModel",
      "state": {
       "children": [
        "IPY_MODEL_94a9504403414adeb671450b64691e40",
        "IPY_MODEL_82c2f1db3b744ef793a0ddc5bd0e346e",
        "IPY_MODEL_86c48da6c8ef483b847384dc1c081770"
       ],
       "layout": "IPY_MODEL_37c1ae5cd09b4be3bced50edb92ee999"
      }
     },
     "547b5b25303744c3be2c7809e3ee954a": {
      "model_module": "@jupyter-widgets/controls",
      "model_module_version": "1.5.0",
      "model_name": "HTMLModel",
      "state": {
       "layout": "IPY_MODEL_b32ad195f4c64f07adb644555ac1ae66",
       "style": "IPY_MODEL_7d4f538be5a94bd0951c147bdb3ab4bc",
       "value": "100%"
      }
     },
     "54d85a688b104d0e8ee79d75c5d76a06": {
      "model_module": "@jupyter-widgets/base",
      "model_module_version": "1.2.0",
      "model_name": "LayoutModel",
      "state": {}
     },
     "54ef084c2c7e4ab39025c0d0ebe93f77": {
      "model_module": "@jupyter-widgets/controls",
      "model_module_version": "1.5.0",
      "model_name": "DescriptionStyleModel",
      "state": {
       "description_width": ""
      }
     },
     "551de4631faa4bb2911457e2dcf899eb": {
      "model_module": "@jupyter-widgets/base",
      "model_module_version": "1.2.0",
      "model_name": "LayoutModel",
      "state": {}
     },
     "5593e90a580f498ca5c9dac59cd4fe71": {
      "model_module": "@jupyter-widgets/base",
      "model_module_version": "1.2.0",
      "model_name": "LayoutModel",
      "state": {}
     },
     "5703b03062654054be6bbdd70b12dbd5": {
      "model_module": "@jupyter-widgets/controls",
      "model_module_version": "1.5.0",
      "model_name": "HTMLModel",
      "state": {
       "layout": "IPY_MODEL_faee10ad976c432c9b439cc82b4e0501",
       "style": "IPY_MODEL_e8408aee32f044f8a4922157639c9c31",
       "value": " 100/100 [1:15:06&lt;00:00, 45.06s/it]"
      }
     },
     "585eeb848ef5442fb3fe4c40b8b688b6": {
      "model_module": "@jupyter-widgets/controls",
      "model_module_version": "1.5.0",
      "model_name": "HBoxModel",
      "state": {
       "children": [
        "IPY_MODEL_1f5e5a6aa00047ce9b8910605e3ada8f",
        "IPY_MODEL_5eca6d638c70480fa3f2f9150cde03e3",
        "IPY_MODEL_4cf6c32d0f2b480586ed0e0d65cbba01"
       ],
       "layout": "IPY_MODEL_b98a7e678ab546fe909316d34ce23c85"
      }
     },
     "58f473c958164ff2a9bb229078f2b2a6": {
      "model_module": "@jupyter-widgets/base",
      "model_module_version": "1.2.0",
      "model_name": "LayoutModel",
      "state": {}
     },
     "595abbed5a3c453f9e9db5f848660567": {
      "model_module": "@jupyter-widgets/controls",
      "model_module_version": "1.5.0",
      "model_name": "HBoxModel",
      "state": {
       "children": [
        "IPY_MODEL_12cc4f245b9f4930a503da600cab781d",
        "IPY_MODEL_1fb767e8c6ff49eeaded89a3659498ed",
        "IPY_MODEL_c24a4f39f4884019802bbe55ebac49d8"
       ],
       "layout": "IPY_MODEL_da9233eaaf904223bac5eb5ad13a658f"
      }
     },
     "596e6ba6e0674b28ada0a491283d20e9": {
      "model_module": "@jupyter-widgets/controls",
      "model_module_version": "1.5.0",
      "model_name": "DescriptionStyleModel",
      "state": {
       "description_width": ""
      }
     },
     "5989c85be8cb460496219c26d821c9e3": {
      "model_module": "@jupyter-widgets/controls",
      "model_module_version": "1.5.0",
      "model_name": "HTMLModel",
      "state": {
       "layout": "IPY_MODEL_1ed0cabffcf644e9bf34c59ecd3d30ce",
       "style": "IPY_MODEL_ba3107ba68c04ad7b70fc1f4fd95d48e",
       "value": "100%"
      }
     },
     "5992187157294216bc11d4cee2843f8a": {
      "model_module": "@jupyter-widgets/controls",
      "model_module_version": "1.5.0",
      "model_name": "HTMLModel",
      "state": {
       "layout": "IPY_MODEL_a58b5e49c89248eeace68df4439b5700",
       "style": "IPY_MODEL_60ff5e197a1243dd8eb71581e1934b11",
       "value": " 100/100 [06:41&lt;00:00,  3.02s/it]"
      }
     },
     "59e05fc0ef3d4ffcb0f1863d10eaa746": {
      "model_module": "@jupyter-widgets/controls",
      "model_module_version": "1.5.0",
      "model_name": "HBoxModel",
      "state": {
       "children": [
        "IPY_MODEL_4325c3cde3fc40349f4a6fd61505a71d",
        "IPY_MODEL_fc9b184fd3774074b0abdd37b3611cf2",
        "IPY_MODEL_3d56f942ca074cd9b666f120a4ea291d"
       ],
       "layout": "IPY_MODEL_d75daaf45b2a4572926807fcc5134f5f"
      }
     },
     "5a201f409c684b37be9348f7a2e58aa7": {
      "model_module": "@jupyter-widgets/base",
      "model_module_version": "1.2.0",
      "model_name": "LayoutModel",
      "state": {}
     },
     "5a2ff924f24d4f08bed344f00f6b9587": {
      "model_module": "@jupyter-widgets/controls",
      "model_module_version": "1.5.0",
      "model_name": "DescriptionStyleModel",
      "state": {
       "description_width": ""
      }
     },
     "5a320390fd0d44978ac1ddb5487ca6a0": {
      "model_module": "@jupyter-widgets/controls",
      "model_module_version": "1.5.0",
      "model_name": "HTMLModel",
      "state": {
       "layout": "IPY_MODEL_90dbcc125cf144d0b9eb3d9176970783",
       "style": "IPY_MODEL_27dfe2b0c69042a5ab54b078542b1c9c",
       "value": "  0%"
      }
     },
     "5af6432142814ce09c84e764d9519389": {
      "model_module": "@jupyter-widgets/base",
      "model_module_version": "1.2.0",
      "model_name": "LayoutModel",
      "state": {}
     },
     "5b16e9f910cc4062bcea8e44893c911a": {
      "model_module": "@jupyter-widgets/controls",
      "model_module_version": "1.5.0",
      "model_name": "DescriptionStyleModel",
      "state": {
       "description_width": ""
      }
     },
     "5bbec04657674400ab112fd289f3b8be": {
      "model_module": "@jupyter-widgets/controls",
      "model_module_version": "1.5.0",
      "model_name": "FloatProgressModel",
      "state": {
       "bar_style": "success",
       "layout": "IPY_MODEL_5d86cbe850d44e698786aef08a4829df",
       "style": "IPY_MODEL_02f02af896b24bf09a12923cafdabc24",
       "value": 100
      }
     },
     "5c1ab3c8b485426c95d0151ee80a4d1b": {
      "model_module": "@jupyter-widgets/controls",
      "model_module_version": "1.5.0",
      "model_name": "FloatProgressModel",
      "state": {
       "bar_style": "danger",
       "layout": "IPY_MODEL_ef5eb7c53c2047ff97ff7ea2c3eddb67",
       "max": 2838,
       "style": "IPY_MODEL_a407913081a94228be061677445a53d9",
       "value": 1
      }
     },
     "5c6b1272d8d04597a9652bb3c870a69f": {
      "model_module": "@jupyter-widgets/base",
      "model_module_version": "1.2.0",
      "model_name": "LayoutModel",
      "state": {}
     },
     "5d54356ff2ad4061a4ac8a4812c9a292": {
      "model_module": "@jupyter-widgets/base",
      "model_module_version": "1.2.0",
      "model_name": "LayoutModel",
      "state": {}
     },
     "5d86cbe850d44e698786aef08a4829df": {
      "model_module": "@jupyter-widgets/base",
      "model_module_version": "1.2.0",
      "model_name": "LayoutModel",
      "state": {}
     },
     "5dad13696e9646f88e1b38b63899cbb4": {
      "model_module": "@jupyter-widgets/controls",
      "model_module_version": "1.5.0",
      "model_name": "ProgressStyleModel",
      "state": {
       "description_width": ""
      }
     },
     "5ddb72d005bd44b8a11e705ddc0cdc10": {
      "model_module": "@jupyter-widgets/controls",
      "model_module_version": "1.5.0",
      "model_name": "HTMLModel",
      "state": {
       "layout": "IPY_MODEL_a188a7195fda4d4e97d81d3a1c9a7321",
       "style": "IPY_MODEL_7a8d3606778f4573bdd73204eb14120d",
       "value": "100%"
      }
     },
     "5dfe7e88001143eba00419f55a090e25": {
      "model_module": "@jupyter-widgets/controls",
      "model_module_version": "1.5.0",
      "model_name": "HTMLModel",
      "state": {
       "layout": "IPY_MODEL_1b54d4141e264ae5826c721aebc90740",
       "style": "IPY_MODEL_4938ff651ded47b0bf3126dd8d869b97",
       "value": " 100/100 [06:47&lt;00:00,  2.81s/it]"
      }
     },
     "5eca6d638c70480fa3f2f9150cde03e3": {
      "model_module": "@jupyter-widgets/controls",
      "model_module_version": "1.5.0",
      "model_name": "FloatProgressModel",
      "state": {
       "bar_style": "success",
       "layout": "IPY_MODEL_ec84add95faa435dbffca837915c895e",
       "style": "IPY_MODEL_2db3e2f9dc2a41bcafc737a6e5e22209",
       "value": 100
      }
     },
     "5f02c86413294f9a91013f264407cf5a": {
      "model_module": "@jupyter-widgets/controls",
      "model_module_version": "1.5.0",
      "model_name": "DescriptionStyleModel",
      "state": {
       "description_width": ""
      }
     },
     "5f854df0b31b4d048922c6ba7862f152": {
      "model_module": "@jupyter-widgets/base",
      "model_module_version": "1.2.0",
      "model_name": "LayoutModel",
      "state": {}
     },
     "5fddd43f0dde4543a602bd18ab91d6d6": {
      "model_module": "@jupyter-widgets/base",
      "model_module_version": "1.2.0",
      "model_name": "LayoutModel",
      "state": {}
     },
     "6044703805d14b499206c5935b368663": {
      "model_module": "@jupyter-widgets/base",
      "model_module_version": "1.2.0",
      "model_name": "LayoutModel",
      "state": {}
     },
     "609ca9a0736243f78d91712387aa0fc7": {
      "model_module": "@jupyter-widgets/controls",
      "model_module_version": "1.5.0",
      "model_name": "DescriptionStyleModel",
      "state": {
       "description_width": ""
      }
     },
     "60ff5e197a1243dd8eb71581e1934b11": {
      "model_module": "@jupyter-widgets/controls",
      "model_module_version": "1.5.0",
      "model_name": "DescriptionStyleModel",
      "state": {
       "description_width": ""
      }
     },
     "614bbda104954ebfa92d2c38ce26a454": {
      "model_module": "@jupyter-widgets/base",
      "model_module_version": "1.2.0",
      "model_name": "LayoutModel",
      "state": {}
     },
     "61721a1293964b31ad9df38fd553895a": {
      "model_module": "@jupyter-widgets/base",
      "model_module_version": "1.2.0",
      "model_name": "LayoutModel",
      "state": {}
     },
     "61b89bcb9b1a4feba0b650c9eb574ccb": {
      "model_module": "@jupyter-widgets/controls",
      "model_module_version": "1.5.0",
      "model_name": "HTMLModel",
      "state": {
       "layout": "IPY_MODEL_ec20a00477664eb5a4c23b19e7dc0b0a",
       "style": "IPY_MODEL_267ca60af8224746a590f5d20dc22caa",
       "value": " 100/100 [11:28&lt;00:00,  6.88s/it]"
      }
     },
     "621f3e2b221c4e42a2190c11fa99622c": {
      "model_module": "@jupyter-widgets/base",
      "model_module_version": "1.2.0",
      "model_name": "LayoutModel",
      "state": {}
     },
     "622230b49b854fc895da1743865ad34a": {
      "model_module": "@jupyter-widgets/base",
      "model_module_version": "1.2.0",
      "model_name": "LayoutModel",
      "state": {}
     },
     "6226c354b11c4cad89a939fe2ffd781c": {
      "model_module": "@jupyter-widgets/base",
      "model_module_version": "1.2.0",
      "model_name": "LayoutModel",
      "state": {}
     },
     "628e6130642847f19c0ad4b4bb5a75ac": {
      "model_module": "@jupyter-widgets/controls",
      "model_module_version": "1.5.0",
      "model_name": "FloatProgressModel",
      "state": {
       "bar_style": "success",
       "layout": "IPY_MODEL_e4fc8eb7e63a4629a47201b42319e583",
       "max": 2836,
       "style": "IPY_MODEL_e29589ba9c244049a83843668375b5ee",
       "value": 2836
      }
     },
     "6308c216183c478fad9d2938836edf75": {
      "model_module": "@jupyter-widgets/controls",
      "model_module_version": "1.5.0",
      "model_name": "HTMLModel",
      "state": {
       "layout": "IPY_MODEL_363967f4f37141d4881711b3bb6c986c",
       "style": "IPY_MODEL_44c14f75c5f7455e88d8d6a8ffc285a9",
       "value": "100%"
      }
     },
     "656be739dc68473caaf8f159b025f1de": {
      "model_module": "@jupyter-widgets/base",
      "model_module_version": "1.2.0",
      "model_name": "LayoutModel",
      "state": {}
     },
     "65d765af0cc34646b1cee16e842157cb": {
      "model_module": "@jupyter-widgets/base",
      "model_module_version": "1.2.0",
      "model_name": "LayoutModel",
      "state": {}
     },
     "65e1745a53e54ef6a1890d781d6dbb52": {
      "model_module": "@jupyter-widgets/base",
      "model_module_version": "1.2.0",
      "model_name": "LayoutModel",
      "state": {}
     },
     "65ef0dca8a39436f9a128a7694c25e79": {
      "model_module": "@jupyter-widgets/base",
      "model_module_version": "1.2.0",
      "model_name": "LayoutModel",
      "state": {}
     },
     "6643328ca0e24de093891d310ca9cf36": {
      "model_module": "@jupyter-widgets/controls",
      "model_module_version": "1.5.0",
      "model_name": "HTMLModel",
      "state": {
       "layout": "IPY_MODEL_ef76703d710b422eb470d22ea5908e19",
       "style": "IPY_MODEL_234d754aceb24fc687b6074d62274be0",
       "value": " 100/100 [11:19&lt;00:00,  5.18s/it]"
      }
     },
     "6677f775eb754fc384d1d955f2dd3b06": {
      "model_module": "@jupyter-widgets/controls",
      "model_module_version": "1.5.0",
      "model_name": "ProgressStyleModel",
      "state": {
       "description_width": ""
      }
     },
     "669fca933504490e9919f113f270a0ba": {
      "model_module": "@jupyter-widgets/controls",
      "model_module_version": "1.5.0",
      "model_name": "HTMLModel",
      "state": {
       "layout": "IPY_MODEL_c6fdcbfff1d942e095ef40ab81fc992d",
       "style": "IPY_MODEL_af292f25b45d42739ab41f5680e7fa28",
       "value": "100%"
      }
     },
     "66f7e11f92494f6699d9cb07daf433f2": {
      "model_module": "@jupyter-widgets/controls",
      "model_module_version": "1.5.0",
      "model_name": "ProgressStyleModel",
      "state": {
       "description_width": ""
      }
     },
     "674f21e8792e4436a00dd0bdf2e13c0c": {
      "model_module": "@jupyter-widgets/base",
      "model_module_version": "1.2.0",
      "model_name": "LayoutModel",
      "state": {}
     },
     "67c84f4131104b3b8268b8aa5777c4b6": {
      "model_module": "@jupyter-widgets/controls",
      "model_module_version": "1.5.0",
      "model_name": "HTMLModel",
      "state": {
       "layout": "IPY_MODEL_d7e7d45953604a4386cb58a7302fc692",
       "style": "IPY_MODEL_73f201c4758247aaaa6677b755abc3d5",
       "value": "100%"
      }
     },
     "6835dfacccee44d88e8a6c8a6af4aabc": {
      "model_module": "@jupyter-widgets/controls",
      "model_module_version": "1.5.0",
      "model_name": "HTMLModel",
      "state": {
       "layout": "IPY_MODEL_b7ca3fbd8e1741939cbc8eca8d79680b",
       "style": "IPY_MODEL_8437e21169914f2e9f7e3c3eca2acf90",
       "value": " 100/100 [00:01&lt;00:00,  1.01s/it]"
      }
     },
     "68903ff1c8114d179fbd53a9cb902baf": {
      "model_module": "@jupyter-widgets/controls",
      "model_module_version": "1.5.0",
      "model_name": "HBoxModel",
      "state": {
       "children": [
        "IPY_MODEL_fad56f4d2b33435184a32fe15b2aea67",
        "IPY_MODEL_8eba792a93d34183854a25cc3fcc1e64",
        "IPY_MODEL_3c1aa03149aa400fb45f335bc9fe0db2"
       ],
       "layout": "IPY_MODEL_3d5ea9245f6e4024bd5de9508825da22"
      }
     },
     "68b06e57724c461499b0ffc409d3ebcd": {
      "model_module": "@jupyter-widgets/base",
      "model_module_version": "1.2.0",
      "model_name": "LayoutModel",
      "state": {}
     },
     "69537a5c55b74f74b08e9e5e2c52bec2": {
      "model_module": "@jupyter-widgets/controls",
      "model_module_version": "1.5.0",
      "model_name": "DescriptionStyleModel",
      "state": {
       "description_width": ""
      }
     },
     "698aaf4c94e744b9967cc26045fa71c2": {
      "model_module": "@jupyter-widgets/controls",
      "model_module_version": "1.5.0",
      "model_name": "DescriptionStyleModel",
      "state": {
       "description_width": ""
      }
     },
     "699faa91e3c443f8ba540d1dfe1345f1": {
      "model_module": "@jupyter-widgets/controls",
      "model_module_version": "1.5.0",
      "model_name": "FloatProgressModel",
      "state": {
       "bar_style": "success",
       "layout": "IPY_MODEL_0abbf780dd744bd5a1604cf3f5189e61",
       "style": "IPY_MODEL_25d56f8c696640f9ab63a1d25845966c",
       "value": 100
      }
     },
     "69b932bce5944f5fbee9359c6554154a": {
      "model_module": "@jupyter-widgets/controls",
      "model_module_version": "1.5.0",
      "model_name": "HTMLModel",
      "state": {
       "layout": "IPY_MODEL_0c8da169f3e744228a9166c6087d9b77",
       "style": "IPY_MODEL_0cbaea23e37a456e82bcb1760287fcfb",
       "value": " 0/100 [00:01&lt;?, ?it/s]"
      }
     },
     "69f6c93000c2468383473b8a6eb0acb7": {
      "model_module": "@jupyter-widgets/base",
      "model_module_version": "1.2.0",
      "model_name": "LayoutModel",
      "state": {}
     },
     "6a07b6e6d23f4e54851af20414562744": {
      "model_module": "@jupyter-widgets/controls",
      "model_module_version": "1.5.0",
      "model_name": "DescriptionStyleModel",
      "state": {
       "description_width": ""
      }
     },
     "6a92a1ea4df24403ba75d1465968c37e": {
      "model_module": "@jupyter-widgets/controls",
      "model_module_version": "1.5.0",
      "model_name": "DescriptionStyleModel",
      "state": {
       "description_width": ""
      }
     },
     "6acd373b148648fd814293ff27250ccf": {
      "model_module": "@jupyter-widgets/controls",
      "model_module_version": "1.5.0",
      "model_name": "DescriptionStyleModel",
      "state": {
       "description_width": ""
      }
     },
     "6c44cd5859e545aaa0aee7cec2db5d2d": {
      "model_module": "@jupyter-widgets/controls",
      "model_module_version": "1.5.0",
      "model_name": "HTMLModel",
      "state": {
       "layout": "IPY_MODEL_03f50b97e8cf46b6b75070f0af161f40",
       "style": "IPY_MODEL_54ef084c2c7e4ab39025c0d0ebe93f77",
       "value": "100%"
      }
     },
     "6c81d3ca527e439da686d6bafdbd3b60": {
      "model_module": "@jupyter-widgets/controls",
      "model_module_version": "1.5.0",
      "model_name": "DescriptionStyleModel",
      "state": {
       "description_width": ""
      }
     },
     "6c8e43e787744ecdadc617c13be79c04": {
      "model_module": "@jupyter-widgets/controls",
      "model_module_version": "1.5.0",
      "model_name": "DescriptionStyleModel",
      "state": {
       "description_width": ""
      }
     },
     "6cfae29c9f824a5b8c1be6dcaf8845ef": {
      "model_module": "@jupyter-widgets/base",
      "model_module_version": "1.2.0",
      "model_name": "LayoutModel",
      "state": {}
     },
     "6d0e69737b8246328d295d5b1a8835b4": {
      "model_module": "@jupyter-widgets/base",
      "model_module_version": "1.2.0",
      "model_name": "LayoutModel",
      "state": {}
     },
     "6d47ef7495194803b4fc9de5bc606408": {
      "model_module": "@jupyter-widgets/base",
      "model_module_version": "1.2.0",
      "model_name": "LayoutModel",
      "state": {}
     },
     "6d8fee05dfb14042a1a281d36c31b168": {
      "model_module": "@jupyter-widgets/controls",
      "model_module_version": "1.5.0",
      "model_name": "HTMLModel",
      "state": {
       "layout": "IPY_MODEL_01be6ff911e14ea095fcad15664cb5ba",
       "style": "IPY_MODEL_8e33b3506f554b76bb36c296675e2e1e",
       "value": " 100/100 [10:34&lt;00:00,  6.34s/it]"
      }
     },
     "6dd8fbd78a9d49869ba7bb97907c058e": {
      "model_module": "@jupyter-widgets/controls",
      "model_module_version": "1.5.0",
      "model_name": "HTMLModel",
      "state": {
       "layout": "IPY_MODEL_edf4e2982466435b8c39d855dc161edb",
       "style": "IPY_MODEL_842c66a0cbd14ce9bb5279c5c0250db9",
       "value": " 100/100 [00:01&lt;00:00,  1.00it/s]"
      }
     },
     "6ddba101db3c4eb285affb2d0866d381": {
      "model_module": "@jupyter-widgets/controls",
      "model_module_version": "1.5.0",
      "model_name": "HTMLModel",
      "state": {
       "layout": "IPY_MODEL_140b2343c42449bf8460b1b7d3294e73",
       "style": "IPY_MODEL_7b91bdb2512d455eb00474fb97b8da3c",
       "value": " 100/100 [12:10&lt;00:00,  5.17s/it]"
      }
     },
     "6e63f70ae2dd43db81a9e921ad26a05c": {
      "model_module": "@jupyter-widgets/base",
      "model_module_version": "1.2.0",
      "model_name": "LayoutModel",
      "state": {}
     },
     "6e6e1b6a4fa449e9b1be2213d5df7af8": {
      "model_module": "@jupyter-widgets/controls",
      "model_module_version": "1.5.0",
      "model_name": "ProgressStyleModel",
      "state": {
       "description_width": ""
      }
     },
     "6ecaedebeb7b4afd83b1e230e03664d6": {
      "model_module": "@jupyter-widgets/base",
      "model_module_version": "1.2.0",
      "model_name": "LayoutModel",
      "state": {}
     },
     "6ecdea1ca3b544069efcd0efd8b7824f": {
      "model_module": "@jupyter-widgets/base",
      "model_module_version": "1.2.0",
      "model_name": "LayoutModel",
      "state": {}
     },
     "6efc512c63ce4a409b43764101777b47": {
      "model_module": "@jupyter-widgets/controls",
      "model_module_version": "1.5.0",
      "model_name": "ProgressStyleModel",
      "state": {
       "description_width": ""
      }
     },
     "6f5ef98d8c1d480fa4d316f84cd18be9": {
      "model_module": "@jupyter-widgets/base",
      "model_module_version": "1.2.0",
      "model_name": "LayoutModel",
      "state": {}
     },
     "6fda593a7648472da0fef06f61451d2e": {
      "model_module": "@jupyter-widgets/controls",
      "model_module_version": "1.5.0",
      "model_name": "DescriptionStyleModel",
      "state": {
       "description_width": ""
      }
     },
     "6fe736dae8334e52b33ad3fde4671a19": {
      "model_module": "@jupyter-widgets/controls",
      "model_module_version": "1.5.0",
      "model_name": "FloatProgressModel",
      "state": {
       "bar_style": "success",
       "layout": "IPY_MODEL_83907f8af9f94034b7e5e6c6bb1b119e",
       "style": "IPY_MODEL_34b5a1695b964b588a5b741ecefb17c3",
       "value": 100
      }
     },
     "70059544b42e4c50b6a5d94d05e83d65": {
      "model_module": "@jupyter-widgets/controls",
      "model_module_version": "1.5.0",
      "model_name": "FloatProgressModel",
      "state": {
       "bar_style": "success",
       "layout": "IPY_MODEL_ea5e16505e9e4a5582ace4ef1c3b66eb",
       "style": "IPY_MODEL_fb21b06500934a5fbd6a4fbafd8cacfd",
       "value": 100
      }
     },
     "7102dcc087874fff84d4ec49dd38cdd2": {
      "model_module": "@jupyter-widgets/base",
      "model_module_version": "1.2.0",
      "model_name": "LayoutModel",
      "state": {}
     },
     "7149879db6b0441b9fa5be308c83bbd4": {
      "model_module": "@jupyter-widgets/base",
      "model_module_version": "1.2.0",
      "model_name": "LayoutModel",
      "state": {}
     },
     "71746b8255194558a7ff4cfb99e62d87": {
      "model_module": "@jupyter-widgets/controls",
      "model_module_version": "1.5.0",
      "model_name": "FloatProgressModel",
      "state": {
       "bar_style": "success",
       "layout": "IPY_MODEL_7b32d950d59745108ec2ec6a48b11da9",
       "style": "IPY_MODEL_c54460bc86fd4cd5b6a3b78ac6cfe2e5",
       "value": 100
      }
     },
     "71ac2b0ca9fc48e1afa41a19b6377eb8": {
      "model_module": "@jupyter-widgets/base",
      "model_module_version": "1.2.0",
      "model_name": "LayoutModel",
      "state": {}
     },
     "72b68b5cd4e94e8b98360a20510faf2d": {
      "model_module": "@jupyter-widgets/controls",
      "model_module_version": "1.5.0",
      "model_name": "HTMLModel",
      "state": {
       "layout": "IPY_MODEL_4f112605ebb44b2ab702acd56910db85",
       "style": "IPY_MODEL_89d70b867ce74c53ae873564888337db",
       "value": "100%"
      }
     },
     "73a812a081674d49b84d71dde5bd1bb6": {
      "model_module": "@jupyter-widgets/base",
      "model_module_version": "1.2.0",
      "model_name": "LayoutModel",
      "state": {}
     },
     "73d2df588a3547a7a675dfd7166018e9": {
      "model_module": "@jupyter-widgets/controls",
      "model_module_version": "1.5.0",
      "model_name": "HTMLModel",
      "state": {
       "layout": "IPY_MODEL_488ec28a06744588a30f35f47e30c4a3",
       "style": "IPY_MODEL_8288d5361f8a4b558e7a72b98d8145a0",
       "value": "100%"
      }
     },
     "73f201c4758247aaaa6677b755abc3d5": {
      "model_module": "@jupyter-widgets/controls",
      "model_module_version": "1.5.0",
      "model_name": "DescriptionStyleModel",
      "state": {
       "description_width": ""
      }
     },
     "74462d3311a14544a942e1c4929da493": {
      "model_module": "@jupyter-widgets/base",
      "model_module_version": "1.2.0",
      "model_name": "LayoutModel",
      "state": {}
     },
     "74686eb038ad406da3fb249edaf8fd52": {
      "model_module": "@jupyter-widgets/controls",
      "model_module_version": "1.5.0",
      "model_name": "HTMLModel",
      "state": {
       "layout": "IPY_MODEL_71ac2b0ca9fc48e1afa41a19b6377eb8",
       "style": "IPY_MODEL_b6dc7b7b5a644f938641b0f4fb8089ef",
       "value": "100%"
      }
     },
     "748bc93b269d4d2398cd6d8cea950fd0": {
      "model_module": "@jupyter-widgets/controls",
      "model_module_version": "1.5.0",
      "model_name": "HBoxModel",
      "state": {
       "children": [
        "IPY_MODEL_db9c624cb34847c0b03a4eef2b5c81ae",
        "IPY_MODEL_42f0374c91c348af8e8135977996e8b4",
        "IPY_MODEL_8befbf0b751144ef9f8b628634a782fd"
       ],
       "layout": "IPY_MODEL_09c005526fc74c3982f217f375abc30f"
      }
     },
     "74f8ef90b92d4417b65869fea4abaa32": {
      "model_module": "@jupyter-widgets/base",
      "model_module_version": "1.2.0",
      "model_name": "LayoutModel",
      "state": {}
     },
     "755a1542d0714413af3b93f27551c4e6": {
      "model_module": "@jupyter-widgets/controls",
      "model_module_version": "1.5.0",
      "model_name": "DescriptionStyleModel",
      "state": {
       "description_width": ""
      }
     },
     "75632185230e491ab0e66c36c12c9b3c": {
      "model_module": "@jupyter-widgets/controls",
      "model_module_version": "1.5.0",
      "model_name": "HTMLModel",
      "state": {
       "layout": "IPY_MODEL_65d765af0cc34646b1cee16e842157cb",
       "style": "IPY_MODEL_f7d246ffa7334d59897bf1f50ec6332c",
       "value": "100%"
      }
     },
     "759724d0f23944e58a71c48adb77956d": {
      "model_module": "@jupyter-widgets/controls",
      "model_module_version": "1.5.0",
      "model_name": "HTMLModel",
      "state": {
       "layout": "IPY_MODEL_9f50cfdc1237416a83d5507a2db113f1",
       "style": "IPY_MODEL_3a5bb007b908447aac102424f346bff6",
       "value": " 100/100 [11:57&lt;00:00,  5.28s/it]"
      }
     },
     "773367324a8c4b838b2a90c69eb0ac82": {
      "model_module": "@jupyter-widgets/base",
      "model_module_version": "1.2.0",
      "model_name": "LayoutModel",
      "state": {}
     },
     "777b37251fb646beac4c428bed6c3529": {
      "model_module": "@jupyter-widgets/controls",
      "model_module_version": "1.5.0",
      "model_name": "FloatProgressModel",
      "state": {
       "bar_style": "success",
       "layout": "IPY_MODEL_412d247df6fb4c82972f2566a1178b51",
       "style": "IPY_MODEL_b164ac09a1d0461399d4fd023b7d5259",
       "value": 100
      }
     },
     "78510e9fd37b41399f84dd1e5e8093e1": {
      "model_module": "@jupyter-widgets/controls",
      "model_module_version": "1.5.0",
      "model_name": "FloatProgressModel",
      "state": {
       "layout": "IPY_MODEL_65ef0dca8a39436f9a128a7694c25e79",
       "style": "IPY_MODEL_f6cb85bf48eb423686e054f38e1282a6",
       "value": 32
      }
     },
     "789d070c3d2844bca056bd649c8c5c9a": {
      "model_module": "@jupyter-widgets/base",
      "model_module_version": "1.2.0",
      "model_name": "LayoutModel",
      "state": {}
     },
     "78cf577d783a4de892a9df46d5ed40c9": {
      "model_module": "@jupyter-widgets/base",
      "model_module_version": "1.2.0",
      "model_name": "LayoutModel",
      "state": {}
     },
     "78d55f0794714ddc81f78d70d771c0a8": {
      "model_module": "@jupyter-widgets/controls",
      "model_module_version": "1.5.0",
      "model_name": "ProgressStyleModel",
      "state": {
       "description_width": ""
      }
     },
     "7917518a43084849befb8a4d1324097f": {
      "model_module": "@jupyter-widgets/controls",
      "model_module_version": "1.5.0",
      "model_name": "FloatProgressModel",
      "state": {
       "bar_style": "success",
       "layout": "IPY_MODEL_95c200c7d03b4eb7bde2cf0b556b9cbe",
       "style": "IPY_MODEL_c0633a2c5c6b4b0ca69902bb921d15ee",
       "value": 100
      }
     },
     "79218cd52e794dd988e0ad7ee73ac53a": {
      "model_module": "@jupyter-widgets/controls",
      "model_module_version": "1.5.0",
      "model_name": "HBoxModel",
      "state": {
       "children": [
        "IPY_MODEL_35971871ee314714b0f67f2a0c770a97",
        "IPY_MODEL_f0385d8ca0ff48bd9116821aaea136f0",
        "IPY_MODEL_18804eec02104f9b8d6efc37f0fea5ed"
       ],
       "layout": "IPY_MODEL_bb4f71d1a38441f4a20b7f2d74677b04"
      }
     },
     "797d4f38493542b1b83ba943566555bc": {
      "model_module": "@jupyter-widgets/base",
      "model_module_version": "1.2.0",
      "model_name": "LayoutModel",
      "state": {}
     },
     "79c3c0228f904aa2afc63b6d3ed9427f": {
      "model_module": "@jupyter-widgets/controls",
      "model_module_version": "1.5.0",
      "model_name": "HBoxModel",
      "state": {
       "children": [
        "IPY_MODEL_d478052867254cf58dcd760f5aaedfbc",
        "IPY_MODEL_28989574cb4149feacf376acae944cf2",
        "IPY_MODEL_ce559e0e06934eb1b4903d0f8ddacd99"
       ],
       "layout": "IPY_MODEL_a676e7c0bcb84534b9aeb41541365806"
      }
     },
     "7a8d3606778f4573bdd73204eb14120d": {
      "model_module": "@jupyter-widgets/controls",
      "model_module_version": "1.5.0",
      "model_name": "DescriptionStyleModel",
      "state": {
       "description_width": ""
      }
     },
     "7aa5086bf94147a8979114e07df4c7a5": {
      "model_module": "@jupyter-widgets/controls",
      "model_module_version": "1.5.0",
      "model_name": "FloatProgressModel",
      "state": {
       "bar_style": "success",
       "layout": "IPY_MODEL_887dfa556c114f6dad2516e418424fd1",
       "style": "IPY_MODEL_e352590940ec49069fe1df684bc504dd",
       "value": 100
      }
     },
     "7b1cba46fbb2477c9c1cf722701cc360": {
      "model_module": "@jupyter-widgets/controls",
      "model_module_version": "1.5.0",
      "model_name": "ProgressStyleModel",
      "state": {
       "description_width": ""
      }
     },
     "7b32d950d59745108ec2ec6a48b11da9": {
      "model_module": "@jupyter-widgets/base",
      "model_module_version": "1.2.0",
      "model_name": "LayoutModel",
      "state": {}
     },
     "7b7c060bc4014a2aad995790e244114b": {
      "model_module": "@jupyter-widgets/controls",
      "model_module_version": "1.5.0",
      "model_name": "DescriptionStyleModel",
      "state": {
       "description_width": ""
      }
     },
     "7b91bdb2512d455eb00474fb97b8da3c": {
      "model_module": "@jupyter-widgets/controls",
      "model_module_version": "1.5.0",
      "model_name": "DescriptionStyleModel",
      "state": {
       "description_width": ""
      }
     },
     "7ba08315af1d4258998e81a55da7abd2": {
      "model_module": "@jupyter-widgets/controls",
      "model_module_version": "1.5.0",
      "model_name": "DescriptionStyleModel",
      "state": {
       "description_width": ""
      }
     },
     "7bcc194d50d642a9adf3d209f1c0376d": {
      "model_module": "@jupyter-widgets/base",
      "model_module_version": "1.2.0",
      "model_name": "LayoutModel",
      "state": {}
     },
     "7bf19d6fb43447fdb14eac1b2601a071": {
      "model_module": "@jupyter-widgets/controls",
      "model_module_version": "1.5.0",
      "model_name": "HTMLModel",
      "state": {
       "layout": "IPY_MODEL_504c1cd031b945f08c661d142e774d4b",
       "style": "IPY_MODEL_e4fbf0d87cbb4303a41082e2d2e093c4",
       "value": "100%"
      }
     },
     "7bfb97b5077b429da53e92a71711856b": {
      "model_module": "@jupyter-widgets/controls",
      "model_module_version": "1.5.0",
      "model_name": "DescriptionStyleModel",
      "state": {
       "description_width": ""
      }
     },
     "7c1cb50d76de4d8884b5ef7a306b1817": {
      "model_module": "@jupyter-widgets/base",
      "model_module_version": "1.2.0",
      "model_name": "LayoutModel",
      "state": {}
     },
     "7c7bf678f9db49cf9dce4de40aca1f2c": {
      "model_module": "@jupyter-widgets/controls",
      "model_module_version": "1.5.0",
      "model_name": "HTMLModel",
      "state": {
       "layout": "IPY_MODEL_db5708508a3b480d8f8fb534f4b5b148",
       "style": "IPY_MODEL_c331b52d546e4fc9ab6077091546df30",
       "value": " 100/100 [10:44&lt;00:00,  6.44s/it]"
      }
     },
     "7c859a12ef6b44bcbe108f7f66fccb1a": {
      "model_module": "@jupyter-widgets/base",
      "model_module_version": "1.2.0",
      "model_name": "LayoutModel",
      "state": {}
     },
     "7d0739f186f3460888603f9903f08e2b": {
      "model_module": "@jupyter-widgets/controls",
      "model_module_version": "1.5.0",
      "model_name": "HTMLModel",
      "state": {
       "layout": "IPY_MODEL_d16374fe48f147458f61b73c638e6ede",
       "style": "IPY_MODEL_d6a0a4cce0e1421a997283777d06041a",
       "value": "100%"
      }
     },
     "7d38fc1adc3d4d7cb9da0fff62d1a0a5": {
      "model_module": "@jupyter-widgets/base",
      "model_module_version": "1.2.0",
      "model_name": "LayoutModel",
      "state": {}
     },
     "7d4f538be5a94bd0951c147bdb3ab4bc": {
      "model_module": "@jupyter-widgets/controls",
      "model_module_version": "1.5.0",
      "model_name": "DescriptionStyleModel",
      "state": {
       "description_width": ""
      }
     },
     "7d4f9e319e9849d2b3fcee07e10cbbb9": {
      "model_module": "@jupyter-widgets/controls",
      "model_module_version": "1.5.0",
      "model_name": "FloatProgressModel",
      "state": {
       "bar_style": "success",
       "layout": "IPY_MODEL_9f39c48c482441d2af7f821d3b079314",
       "style": "IPY_MODEL_a6e999bb8ff74462ae69b2b3df469132",
       "value": 100
      }
     },
     "7d5ba3547570482b991e8258d9789a35": {
      "model_module": "@jupyter-widgets/base",
      "model_module_version": "1.2.0",
      "model_name": "LayoutModel",
      "state": {}
     },
     "7d6a563266ba49e58f6f42f1cdb3c26e": {
      "model_module": "@jupyter-widgets/controls",
      "model_module_version": "1.5.0",
      "model_name": "HTMLModel",
      "state": {
       "layout": "IPY_MODEL_4f394b12555d4062b96b7631a2d61216",
       "style": "IPY_MODEL_698aaf4c94e744b9967cc26045fa71c2",
       "value": " 0/100 [00:01&lt;?, ?it/s]"
      }
     },
     "7ded20eacae54049bb5208feec1708c6": {
      "model_module": "@jupyter-widgets/controls",
      "model_module_version": "1.5.0",
      "model_name": "HBoxModel",
      "state": {
       "children": [
        "IPY_MODEL_c1ed991ea06a40879d139c99149a3a24",
        "IPY_MODEL_10b1e65dbd8647f1ad6a3e63312404c0",
        "IPY_MODEL_d1afb37eb1ad4af888454709f62e39e9"
       ],
       "layout": "IPY_MODEL_fa4890e2438f4b25b9382d262af94a16"
      }
     },
     "7e67c49db1ab44089b8cf600cc1e85af": {
      "model_module": "@jupyter-widgets/base",
      "model_module_version": "1.2.0",
      "model_name": "LayoutModel",
      "state": {}
     },
     "7e968da2512e47a19e9806e5a7506e3d": {
      "model_module": "@jupyter-widgets/controls",
      "model_module_version": "1.5.0",
      "model_name": "HTMLModel",
      "state": {
       "layout": "IPY_MODEL_fc4687ca0b62482c9326dbd5c08d8f03",
       "style": "IPY_MODEL_d145af4f994c4953a5a07989c05e3ba4",
       "value": "100%"
      }
     },
     "7ede590b3dc64ffa9529f3497c31da74": {
      "model_module": "@jupyter-widgets/controls",
      "model_module_version": "1.5.0",
      "model_name": "DescriptionStyleModel",
      "state": {
       "description_width": ""
      }
     },
     "7eee2b2dcb544c0bb7371e688208467c": {
      "model_module": "@jupyter-widgets/base",
      "model_module_version": "1.2.0",
      "model_name": "LayoutModel",
      "state": {}
     },
     "7f33f930f1354339bd48b485f9364de3": {
      "model_module": "@jupyter-widgets/controls",
      "model_module_version": "1.5.0",
      "model_name": "DescriptionStyleModel",
      "state": {
       "description_width": ""
      }
     },
     "7ff188cf6e094954aec7ed1bb75778fa": {
      "model_module": "@jupyter-widgets/controls",
      "model_module_version": "1.5.0",
      "model_name": "ProgressStyleModel",
      "state": {
       "description_width": ""
      }
     },
     "8005796534474f8b96c7d9fa4e0d2d28": {
      "model_module": "@jupyter-widgets/controls",
      "model_module_version": "1.5.0",
      "model_name": "HTMLModel",
      "state": {
       "layout": "IPY_MODEL_88dfab6b4ddd4cc9966139a02233670b",
       "style": "IPY_MODEL_dc5014b0d9f243cba264da492fe6b290",
       "value": "100%"
      }
     },
     "800b6c3c6c9c4a12853913dad7b7e2ac": {
      "model_module": "@jupyter-widgets/controls",
      "model_module_version": "1.5.0",
      "model_name": "HTMLModel",
      "state": {
       "layout": "IPY_MODEL_1b2522cc0eab44a2b0d1a5dd31c29964",
       "style": "IPY_MODEL_d9bd83647cec49fe8147234b8440708c",
       "value": "100%"
      }
     },
     "801f95b2d3074662ab6db071eaa602c4": {
      "model_module": "@jupyter-widgets/controls",
      "model_module_version": "1.5.0",
      "model_name": "HBoxModel",
      "state": {
       "children": [
        "IPY_MODEL_a4d31ba1768b4373a473f27cd7278702",
        "IPY_MODEL_bce3ef5be84d40768e2d5e88e2b2405e",
        "IPY_MODEL_d2a89051542547158a467278af208e5d"
       ],
       "layout": "IPY_MODEL_d993df03b26a4c56851cbb20987ecc27"
      }
     },
     "80f05566b5794140927e8f71f5f5eb4a": {
      "model_module": "@jupyter-widgets/controls",
      "model_module_version": "1.5.0",
      "model_name": "DescriptionStyleModel",
      "state": {
       "description_width": ""
      }
     },
     "81cbe98e0cea423db3f5a281d4556783": {
      "model_module": "@jupyter-widgets/controls",
      "model_module_version": "1.5.0",
      "model_name": "HBoxModel",
      "state": {
       "children": [
        "IPY_MODEL_5989c85be8cb460496219c26d821c9e3",
        "IPY_MODEL_a15351908b9b40598d5413c177be4801",
        "IPY_MODEL_b9e8808b97794603932168741f554a4a"
       ],
       "layout": "IPY_MODEL_44f6a2656615462c90e106d66a9fe05f"
      }
     },
     "821e26a69c4c4f43850d152d7a3a9a65": {
      "model_module": "@jupyter-widgets/controls",
      "model_module_version": "1.5.0",
      "model_name": "FloatProgressModel",
      "state": {
       "bar_style": "success",
       "layout": "IPY_MODEL_7149879db6b0441b9fa5be308c83bbd4",
       "style": "IPY_MODEL_4a90e5c38cfb46e4bebae1400825f99d",
       "value": 100
      }
     },
     "8288d5361f8a4b558e7a72b98d8145a0": {
      "model_module": "@jupyter-widgets/controls",
      "model_module_version": "1.5.0",
      "model_name": "DescriptionStyleModel",
      "state": {
       "description_width": ""
      }
     },
     "82ad3a8ac4954cc6a636f7b2a877ded3": {
      "model_module": "@jupyter-widgets/controls",
      "model_module_version": "1.5.0",
      "model_name": "FloatProgressModel",
      "state": {
       "bar_style": "success",
       "layout": "IPY_MODEL_9c98348dbfdd491f804b8800bb071277",
       "max": 2836,
       "style": "IPY_MODEL_4d7ab252492445f282d99ea7416da346",
       "value": 2836
      }
     },
     "82c2f1db3b744ef793a0ddc5bd0e346e": {
      "model_module": "@jupyter-widgets/controls",
      "model_module_version": "1.5.0",
      "model_name": "FloatProgressModel",
      "state": {
       "bar_style": "success",
       "layout": "IPY_MODEL_d3a2c7b01eda448ca349ec3dcf8ecb75",
       "style": "IPY_MODEL_043db6d0dfaf482eae1a343eb80eae73",
       "value": 100
      }
     },
     "832da797bdf04e148487f860adb748ba": {
      "model_module": "@jupyter-widgets/controls",
      "model_module_version": "1.5.0",
      "model_name": "HTMLModel",
      "state": {
       "layout": "IPY_MODEL_440adf5993fa4323b1f1beb2ed49a890",
       "style": "IPY_MODEL_91fe592ab8f14b2da849465371449096",
       "value": " 100/100 [12:05&lt;00:00,  5.28s/it]"
      }
     },
     "834e38770668474ca26d3daac5ed7d6f": {
      "model_module": "@jupyter-widgets/base",
      "model_module_version": "1.2.0",
      "model_name": "LayoutModel",
      "state": {}
     },
     "835a441c281543f2a66d9045e5c439c9": {
      "model_module": "@jupyter-widgets/controls",
      "model_module_version": "1.5.0",
      "model_name": "ProgressStyleModel",
      "state": {
       "description_width": ""
      }
     },
     "83907f8af9f94034b7e5e6c6bb1b119e": {
      "model_module": "@jupyter-widgets/base",
      "model_module_version": "1.2.0",
      "model_name": "LayoutModel",
      "state": {}
     },
     "842c66a0cbd14ce9bb5279c5c0250db9": {
      "model_module": "@jupyter-widgets/controls",
      "model_module_version": "1.5.0",
      "model_name": "DescriptionStyleModel",
      "state": {
       "description_width": ""
      }
     },
     "8437e21169914f2e9f7e3c3eca2acf90": {
      "model_module": "@jupyter-widgets/controls",
      "model_module_version": "1.5.0",
      "model_name": "DescriptionStyleModel",
      "state": {
       "description_width": ""
      }
     },
     "847d09dcdd6446468d6decd3fa141eef": {
      "model_module": "@jupyter-widgets/controls",
      "model_module_version": "1.5.0",
      "model_name": "HBoxModel",
      "state": {
       "children": [
        "IPY_MODEL_74686eb038ad406da3fb249edaf8fd52",
        "IPY_MODEL_d1135640c3ee4a4fa427a74eed4f6291",
        "IPY_MODEL_61b89bcb9b1a4feba0b650c9eb574ccb"
       ],
       "layout": "IPY_MODEL_da26eac93bf140ed8c9560b5f9e98a1e"
      }
     },
     "84857c3e849e44ea9985a6735c0ea817": {
      "model_module": "@jupyter-widgets/controls",
      "model_module_version": "1.5.0",
      "model_name": "ProgressStyleModel",
      "state": {
       "description_width": ""
      }
     },
     "84a7c286885d4df7a0688aa4641c5bc4": {
      "model_module": "@jupyter-widgets/base",
      "model_module_version": "1.2.0",
      "model_name": "LayoutModel",
      "state": {}
     },
     "84abdd34bf844e688e6ca8c23d738467": {
      "model_module": "@jupyter-widgets/controls",
      "model_module_version": "1.5.0",
      "model_name": "DescriptionStyleModel",
      "state": {
       "description_width": ""
      }
     },
     "86393900cb8348488501597cc9feabf4": {
      "model_module": "@jupyter-widgets/controls",
      "model_module_version": "1.5.0",
      "model_name": "HTMLModel",
      "state": {
       "layout": "IPY_MODEL_ad8e242b685841c1bb424582806f84ee",
       "style": "IPY_MODEL_7ba08315af1d4258998e81a55da7abd2",
       "value": "100%"
      }
     },
     "8641ebcd310f4b958ccd83fb1f3fcfd4": {
      "model_module": "@jupyter-widgets/base",
      "model_module_version": "1.2.0",
      "model_name": "LayoutModel",
      "state": {}
     },
     "8685990f3dd14f7d8bff461a4b7fed3e": {
      "model_module": "@jupyter-widgets/controls",
      "model_module_version": "1.5.0",
      "model_name": "DescriptionStyleModel",
      "state": {
       "description_width": ""
      }
     },
     "86c48da6c8ef483b847384dc1c081770": {
      "model_module": "@jupyter-widgets/controls",
      "model_module_version": "1.5.0",
      "model_name": "HTMLModel",
      "state": {
       "layout": "IPY_MODEL_001436c532f14578874047d900a61a78",
       "style": "IPY_MODEL_2a4bac4b180e4d7b9c2d44439507083f",
       "value": " 100/100 [10:50&lt;00:00,  9.19s/it]"
      }
     },
     "86d718576a354db99f4fad57c24bbd92": {
      "model_module": "@jupyter-widgets/controls",
      "model_module_version": "1.5.0",
      "model_name": "DescriptionStyleModel",
      "state": {
       "description_width": ""
      }
     },
     "879072f5da9846079d8e96a0a7c1f3ea": {
      "model_module": "@jupyter-widgets/controls",
      "model_module_version": "1.5.0",
      "model_name": "HTMLModel",
      "state": {
       "layout": "IPY_MODEL_a78f64d8c1cb40d188fecbc4fa88bdfe",
       "style": "IPY_MODEL_c8ae496256b14c9f9e7de578ef53eb35",
       "value": " 100/100 [06:49&lt;00:00,  4.33s/it]"
      }
     },
     "87ff7f2bf8a4402d825f08a5ad54d920": {
      "model_module": "@jupyter-widgets/base",
      "model_module_version": "1.2.0",
      "model_name": "LayoutModel",
      "state": {}
     },
     "887dfa556c114f6dad2516e418424fd1": {
      "model_module": "@jupyter-widgets/base",
      "model_module_version": "1.2.0",
      "model_name": "LayoutModel",
      "state": {}
     },
     "88dfab6b4ddd4cc9966139a02233670b": {
      "model_module": "@jupyter-widgets/base",
      "model_module_version": "1.2.0",
      "model_name": "LayoutModel",
      "state": {}
     },
     "890b4f6471134e5e89dcca32e19fd881": {
      "model_module": "@jupyter-widgets/controls",
      "model_module_version": "1.5.0",
      "model_name": "DescriptionStyleModel",
      "state": {
       "description_width": ""
      }
     },
     "8952fc5ac8bd4d6d8bc7318e90c88ab1": {
      "model_module": "@jupyter-widgets/base",
      "model_module_version": "1.2.0",
      "model_name": "LayoutModel",
      "state": {}
     },
     "896e630093e845f9a821685b93988a84": {
      "model_module": "@jupyter-widgets/controls",
      "model_module_version": "1.5.0",
      "model_name": "ProgressStyleModel",
      "state": {
       "description_width": ""
      }
     },
     "89722bd0964f479c9b783f7747c33c27": {
      "model_module": "@jupyter-widgets/base",
      "model_module_version": "1.2.0",
      "model_name": "LayoutModel",
      "state": {}
     },
     "89d70b867ce74c53ae873564888337db": {
      "model_module": "@jupyter-widgets/controls",
      "model_module_version": "1.5.0",
      "model_name": "DescriptionStyleModel",
      "state": {
       "description_width": ""
      }
     },
     "8a54badd0fe3471bad27ba61710d7675": {
      "model_module": "@jupyter-widgets/base",
      "model_module_version": "1.2.0",
      "model_name": "LayoutModel",
      "state": {}
     },
     "8aa143bae0da46faa64cc1b2edbf7c62": {
      "model_module": "@jupyter-widgets/controls",
      "model_module_version": "1.5.0",
      "model_name": "DescriptionStyleModel",
      "state": {
       "description_width": ""
      }
     },
     "8ac2d21aacc744708b9ecc9086a4505b": {
      "model_module": "@jupyter-widgets/base",
      "model_module_version": "1.2.0",
      "model_name": "LayoutModel",
      "state": {}
     },
     "8ae0e48aeee846a7acba46608003a66f": {
      "model_module": "@jupyter-widgets/base",
      "model_module_version": "1.2.0",
      "model_name": "LayoutModel",
      "state": {}
     },
     "8b12ca4f965c4e2d93cbbe0e2128edf6": {
      "model_module": "@jupyter-widgets/controls",
      "model_module_version": "1.5.0",
      "model_name": "DescriptionStyleModel",
      "state": {
       "description_width": ""
      }
     },
     "8b3ee791561443819389246dec87ebe5": {
      "model_module": "@jupyter-widgets/controls",
      "model_module_version": "1.5.0",
      "model_name": "HTMLModel",
      "state": {
       "layout": "IPY_MODEL_6ecaedebeb7b4afd83b1e230e03664d6",
       "style": "IPY_MODEL_e4a1015502bb4b46918f284a10ed3391",
       "value": " 100/100 [12:22&lt;00:00, 12.97s/it]"
      }
     },
     "8befbf0b751144ef9f8b628634a782fd": {
      "model_module": "@jupyter-widgets/controls",
      "model_module_version": "1.5.0",
      "model_name": "HTMLModel",
      "state": {
       "layout": "IPY_MODEL_15980e76363a41f29b5c801334ae27ca",
       "style": "IPY_MODEL_c6183d1ed7a542b4aae80a944adfee4f",
       "value": " 100/100 [10:26&lt;00:00,  6.88s/it]"
      }
     },
     "8c2eafca51584f21a6bbb2aa9a293e5d": {
      "model_module": "@jupyter-widgets/controls",
      "model_module_version": "1.5.0",
      "model_name": "HTMLModel",
      "state": {
       "layout": "IPY_MODEL_b724bfd2ca174817870f10434b947a33",
       "style": "IPY_MODEL_4081eee1b9604dcfb25078cf64ea5e68",
       "value": "100%"
      }
     },
     "8cc100ae90c344628745ac1e5420bc06": {
      "model_module": "@jupyter-widgets/controls",
      "model_module_version": "1.5.0",
      "model_name": "ProgressStyleModel",
      "state": {
       "description_width": ""
      }
     },
     "8cf265c2abf3412685acd1433398873c": {
      "model_module": "@jupyter-widgets/controls",
      "model_module_version": "1.5.0",
      "model_name": "HTMLModel",
      "state": {
       "layout": "IPY_MODEL_91dd48d0070a41e691085c3a3de9c3d7",
       "style": "IPY_MODEL_051ee762a2d24ac5a3b71cd41657ed53",
       "value": "100%"
      }
     },
     "8d1b97296044492eb9a13e7ac2329fb2": {
      "model_module": "@jupyter-widgets/base",
      "model_module_version": "1.2.0",
      "model_name": "LayoutModel",
      "state": {}
     },
     "8d31e1ec18a4446a80a0f9617e07e140": {
      "model_module": "@jupyter-widgets/controls",
      "model_module_version": "1.5.0",
      "model_name": "HBoxModel",
      "state": {
       "children": [
        "IPY_MODEL_0d2bd122a7f44af0adbd2216d06f9c2e",
        "IPY_MODEL_d814d35359ea4a7b9d1f5d449482eda2",
        "IPY_MODEL_3f483c0152ec455991a696328530017d"
       ],
       "layout": "IPY_MODEL_9d4a39e8c1914fb1942e808ab22eaf71"
      }
     },
     "8df95a0d642e43019791e183ba56980c": {
      "model_module": "@jupyter-widgets/base",
      "model_module_version": "1.2.0",
      "model_name": "LayoutModel",
      "state": {}
     },
     "8e1fd3438138445ba562216ecc5bb882": {
      "model_module": "@jupyter-widgets/controls",
      "model_module_version": "1.5.0",
      "model_name": "DescriptionStyleModel",
      "state": {
       "description_width": ""
      }
     },
     "8e33b3506f554b76bb36c296675e2e1e": {
      "model_module": "@jupyter-widgets/controls",
      "model_module_version": "1.5.0",
      "model_name": "DescriptionStyleModel",
      "state": {
       "description_width": ""
      }
     },
     "8e372306b66a47f1915357787539895f": {
      "model_module": "@jupyter-widgets/base",
      "model_module_version": "1.2.0",
      "model_name": "LayoutModel",
      "state": {}
     },
     "8e8e91170bc747a8a123ad45d6934fbc": {
      "model_module": "@jupyter-widgets/base",
      "model_module_version": "1.2.0",
      "model_name": "LayoutModel",
      "state": {}
     },
     "8eba1977075f4cea98717acb1d7fd766": {
      "model_module": "@jupyter-widgets/controls",
      "model_module_version": "1.5.0",
      "model_name": "HBoxModel",
      "state": {
       "children": [
        "IPY_MODEL_f8dcf35aaff346abaea50bb4874aed21",
        "IPY_MODEL_aa6df95632fb49fca4a63769ad3e9453",
        "IPY_MODEL_53e3d9e32a3548c8b32a1e9e17230934"
       ],
       "layout": "IPY_MODEL_6cfae29c9f824a5b8c1be6dcaf8845ef"
      }
     },
     "8eba792a93d34183854a25cc3fcc1e64": {
      "model_module": "@jupyter-widgets/controls",
      "model_module_version": "1.5.0",
      "model_name": "FloatProgressModel",
      "state": {
       "bar_style": "danger",
       "layout": "IPY_MODEL_2e7b5487d79042d3872fdc18d41700fe",
       "max": 2836,
       "style": "IPY_MODEL_e83c27530e2f4255952be471e67c0041",
       "value": 7
      }
     },
     "8f2dcbd57fe14d388126fc00960aadb1": {
      "model_module": "@jupyter-widgets/controls",
      "model_module_version": "1.5.0",
      "model_name": "ProgressStyleModel",
      "state": {
       "description_width": ""
      }
     },
     "8fb3218e70cb45a7bb9601d3560ae2db": {
      "model_module": "@jupyter-widgets/base",
      "model_module_version": "1.2.0",
      "model_name": "LayoutModel",
      "state": {}
     },
     "90b54801b5b34c21a03db371f1b9ac94": {
      "model_module": "@jupyter-widgets/controls",
      "model_module_version": "1.5.0",
      "model_name": "DescriptionStyleModel",
      "state": {
       "description_width": ""
      }
     },
     "90dbcc125cf144d0b9eb3d9176970783": {
      "model_module": "@jupyter-widgets/base",
      "model_module_version": "1.2.0",
      "model_name": "LayoutModel",
      "state": {}
     },
     "90ef782f08cf4b2f937cc13c044d84c9": {
      "model_module": "@jupyter-widgets/controls",
      "model_module_version": "1.5.0",
      "model_name": "FloatProgressModel",
      "state": {
       "bar_style": "success",
       "layout": "IPY_MODEL_09c581553960420abe2796f8b0b70e65",
       "style": "IPY_MODEL_f777e16a170841f1a979bd0f02c92457",
       "value": 100
      }
     },
     "912932c14a3242568ce247c5a4ff0a70": {
      "model_module": "@jupyter-widgets/base",
      "model_module_version": "1.2.0",
      "model_name": "LayoutModel",
      "state": {}
     },
     "91301e2ac741446a83feedd5da77f7a4": {
      "model_module": "@jupyter-widgets/base",
      "model_module_version": "1.2.0",
      "model_name": "LayoutModel",
      "state": {}
     },
     "914c8aad76b74c5c85e091cf25207e4e": {
      "model_module": "@jupyter-widgets/controls",
      "model_module_version": "1.5.0",
      "model_name": "HTMLModel",
      "state": {
       "layout": "IPY_MODEL_622230b49b854fc895da1743865ad34a",
       "style": "IPY_MODEL_36111ebe1ffd40b08137ccd7ca80b407",
       "value": "  0%"
      }
     },
     "91927f156ca44ce680c9d0752ff7d8c1": {
      "model_module": "@jupyter-widgets/controls",
      "model_module_version": "1.5.0",
      "model_name": "ProgressStyleModel",
      "state": {
       "description_width": ""
      }
     },
     "91dd48d0070a41e691085c3a3de9c3d7": {
      "model_module": "@jupyter-widgets/base",
      "model_module_version": "1.2.0",
      "model_name": "LayoutModel",
      "state": {}
     },
     "91fe592ab8f14b2da849465371449096": {
      "model_module": "@jupyter-widgets/controls",
      "model_module_version": "1.5.0",
      "model_name": "DescriptionStyleModel",
      "state": {
       "description_width": ""
      }
     },
     "921cad98beab4d9aace09b2fd2fddcb3": {
      "model_module": "@jupyter-widgets/controls",
      "model_module_version": "1.5.0",
      "model_name": "HBoxModel",
      "state": {
       "children": [
        "IPY_MODEL_b4ca90c6acdc4e8aa505ab1782bab89a",
        "IPY_MODEL_93bd15ce7aa64f5b81202137fe9ec988",
        "IPY_MODEL_ba07012e7a114e41a4c9f5e9a1d89462"
       ],
       "layout": "IPY_MODEL_a43c7062b13846ceaeb733edb2d2e4a7"
      }
     },
     "926b26938c45479fa57c4a633483999e": {
      "model_module": "@jupyter-widgets/controls",
      "model_module_version": "1.5.0",
      "model_name": "DescriptionStyleModel",
      "state": {
       "description_width": ""
      }
     },
     "9289c66bfcb34a47a69113d6f55b1fd8": {
      "model_module": "@jupyter-widgets/controls",
      "model_module_version": "1.5.0",
      "model_name": "ProgressStyleModel",
      "state": {
       "description_width": ""
      }
     },
     "93bd15ce7aa64f5b81202137fe9ec988": {
      "model_module": "@jupyter-widgets/controls",
      "model_module_version": "1.5.0",
      "model_name": "FloatProgressModel",
      "state": {
       "bar_style": "success",
       "layout": "IPY_MODEL_ad13ccacfe32463788786f17c3040552",
       "max": 2836,
       "style": "IPY_MODEL_6efc512c63ce4a409b43764101777b47",
       "value": 2836
      }
     },
     "9454ca93993249c48c80469784f7dacc": {
      "model_module": "@jupyter-widgets/base",
      "model_module_version": "1.2.0",
      "model_name": "LayoutModel",
      "state": {}
     },
     "94a9504403414adeb671450b64691e40": {
      "model_module": "@jupyter-widgets/controls",
      "model_module_version": "1.5.0",
      "model_name": "HTMLModel",
      "state": {
       "layout": "IPY_MODEL_f62522c574f54e83a7d91be78477d5ce",
       "style": "IPY_MODEL_f2210d05cfab42c8b2a16d6ec646abbf",
       "value": "100%"
      }
     },
     "95b12a105e014be9846a489ea696a004": {
      "model_module": "@jupyter-widgets/base",
      "model_module_version": "1.2.0",
      "model_name": "LayoutModel",
      "state": {}
     },
     "95c200c7d03b4eb7bde2cf0b556b9cbe": {
      "model_module": "@jupyter-widgets/base",
      "model_module_version": "1.2.0",
      "model_name": "LayoutModel",
      "state": {}
     },
     "96aa755c10844250b1c5aa9c3c9f4a72": {
      "model_module": "@jupyter-widgets/controls",
      "model_module_version": "1.5.0",
      "model_name": "DescriptionStyleModel",
      "state": {
       "description_width": ""
      }
     },
     "97722d050e9c42cfbea4558f5829f3c2": {
      "model_module": "@jupyter-widgets/base",
      "model_module_version": "1.2.0",
      "model_name": "LayoutModel",
      "state": {}
     },
     "97d7fbb39ffe47f19ddbdb4fb83e3f91": {
      "model_module": "@jupyter-widgets/base",
      "model_module_version": "1.2.0",
      "model_name": "LayoutModel",
      "state": {}
     },
     "986cef2690334c86a2a011f8419567bb": {
      "model_module": "@jupyter-widgets/controls",
      "model_module_version": "1.5.0",
      "model_name": "DescriptionStyleModel",
      "state": {
       "description_width": ""
      }
     },
     "988177e446a642f39584875a98936237": {
      "model_module": "@jupyter-widgets/base",
      "model_module_version": "1.2.0",
      "model_name": "LayoutModel",
      "state": {}
     },
     "988e5b570c26435eb87ac2808b96f0da": {
      "model_module": "@jupyter-widgets/base",
      "model_module_version": "1.2.0",
      "model_name": "LayoutModel",
      "state": {}
     },
     "98a4af74edb546ce8232fd81bb26ab4b": {
      "model_module": "@jupyter-widgets/base",
      "model_module_version": "1.2.0",
      "model_name": "LayoutModel",
      "state": {}
     },
     "994eef47ca4a45f98c50cbf503cb9529": {
      "model_module": "@jupyter-widgets/controls",
      "model_module_version": "1.5.0",
      "model_name": "DescriptionStyleModel",
      "state": {
       "description_width": ""
      }
     },
     "999b4f652bd64068919a1538cf956bd0": {
      "model_module": "@jupyter-widgets/controls",
      "model_module_version": "1.5.0",
      "model_name": "HTMLModel",
      "state": {
       "layout": "IPY_MODEL_18ab6267706b4acfbc9605c131077214",
       "style": "IPY_MODEL_0100cd8e35f947c79c25f9af08922109",
       "value": " 100/100 [10:41&lt;00:00,  6.42s/it]"
      }
     },
     "9a0e8ecbbd4f4d16b34520d47c3184c2": {
      "model_module": "@jupyter-widgets/controls",
      "model_module_version": "1.5.0",
      "model_name": "HTMLModel",
      "state": {
       "layout": "IPY_MODEL_d75ad1aa4eca46d2a425e68ed667d37e",
       "style": "IPY_MODEL_a3a4dbf9c0dc4f0ba669ac353c820ed5",
       "value": " 100/100 [10:07&lt;00:00,  6.08s/it]"
      }
     },
     "9a381346e03046cdbde7d27029848e2a": {
      "model_module": "@jupyter-widgets/base",
      "model_module_version": "1.2.0",
      "model_name": "LayoutModel",
      "state": {}
     },
     "9a56e8de3114477caadafeaa4898b564": {
      "model_module": "@jupyter-widgets/controls",
      "model_module_version": "1.5.0",
      "model_name": "DescriptionStyleModel",
      "state": {
       "description_width": ""
      }
     },
     "9b4180c6d332488ca371f9c434daeb11": {
      "model_module": "@jupyter-widgets/controls",
      "model_module_version": "1.5.0",
      "model_name": "HBoxModel",
      "state": {
       "children": [
        "IPY_MODEL_b6e4f13e56e44137b2536c7ad39dfb42",
        "IPY_MODEL_1e964a3f4a734948ac9d4613cb2673b6",
        "IPY_MODEL_bf8e4a5fd6df4482a2c77e5e408b58cf"
       ],
       "layout": "IPY_MODEL_a07f20e0fc2746c3b4c4563cde37fbce"
      }
     },
     "9c86979e5b024b578ff590c7261e36cf": {
      "model_module": "@jupyter-widgets/controls",
      "model_module_version": "1.5.0",
      "model_name": "ProgressStyleModel",
      "state": {
       "description_width": ""
      }
     },
     "9c98348dbfdd491f804b8800bb071277": {
      "model_module": "@jupyter-widgets/base",
      "model_module_version": "1.2.0",
      "model_name": "LayoutModel",
      "state": {}
     },
     "9d2fff66fad7412cb49c8b87d6a2f227": {
      "model_module": "@jupyter-widgets/controls",
      "model_module_version": "1.5.0",
      "model_name": "HBoxModel",
      "state": {
       "children": [
        "IPY_MODEL_e55bd8987c5f4f838497c07ccbb13f27",
        "IPY_MODEL_71746b8255194558a7ff4cfb99e62d87",
        "IPY_MODEL_7c7bf678f9db49cf9dce4de40aca1f2c"
       ],
       "layout": "IPY_MODEL_50a747d39d6142fe84265c78c47f7ccd"
      }
     },
     "9d4a39e8c1914fb1942e808ab22eaf71": {
      "model_module": "@jupyter-widgets/base",
      "model_module_version": "1.2.0",
      "model_name": "LayoutModel",
      "state": {}
     },
     "9d5c605cb6bc43a7bb58fdeb69e4fd34": {
      "model_module": "@jupyter-widgets/base",
      "model_module_version": "1.2.0",
      "model_name": "LayoutModel",
      "state": {}
     },
     "9df1121f9172448c88c08b7ffb72ab0b": {
      "model_module": "@jupyter-widgets/controls",
      "model_module_version": "1.5.0",
      "model_name": "HTMLModel",
      "state": {
       "layout": "IPY_MODEL_6e63f70ae2dd43db81a9e921ad26a05c",
       "style": "IPY_MODEL_4693272798514375bf0e093fc75312ae",
       "value": " 0/100 [00:01&lt;?, ?it/s]"
      }
     },
     "9e37baac9ab8428bbddc309d3feb69a2": {
      "model_module": "@jupyter-widgets/base",
      "model_module_version": "1.2.0",
      "model_name": "LayoutModel",
      "state": {}
     },
     "9f39c48c482441d2af7f821d3b079314": {
      "model_module": "@jupyter-widgets/base",
      "model_module_version": "1.2.0",
      "model_name": "LayoutModel",
      "state": {}
     },
     "9f50cfdc1237416a83d5507a2db113f1": {
      "model_module": "@jupyter-widgets/base",
      "model_module_version": "1.2.0",
      "model_name": "LayoutModel",
      "state": {}
     },
     "9f788ecebf21489e98c3aca54c6b2a84": {
      "model_module": "@jupyter-widgets/base",
      "model_module_version": "1.2.0",
      "model_name": "LayoutModel",
      "state": {}
     },
     "9fd8b5535ed54f9980b49e7ca0523e58": {
      "model_module": "@jupyter-widgets/controls",
      "model_module_version": "1.5.0",
      "model_name": "HTMLModel",
      "state": {
       "layout": "IPY_MODEL_21f13603779e43ce986218a8e7006cfa",
       "style": "IPY_MODEL_8e1fd3438138445ba562216ecc5bb882",
       "value": " 100/100 [07:25&lt;00:00,  3.89s/it]"
      }
     },
     "a02b9b95633c4fe7ab19ce624ce6604f": {
      "model_module": "@jupyter-widgets/base",
      "model_module_version": "1.2.0",
      "model_name": "LayoutModel",
      "state": {}
     },
     "a07f20e0fc2746c3b4c4563cde37fbce": {
      "model_module": "@jupyter-widgets/base",
      "model_module_version": "1.2.0",
      "model_name": "LayoutModel",
      "state": {}
     },
     "a09e2026b5f943b29a33c4f5623c69db": {
      "model_module": "@jupyter-widgets/base",
      "model_module_version": "1.2.0",
      "model_name": "LayoutModel",
      "state": {}
     },
     "a12ac67a9e69409bbc585dd84ec686a3": {
      "model_module": "@jupyter-widgets/controls",
      "model_module_version": "1.5.0",
      "model_name": "FloatProgressModel",
      "state": {
       "bar_style": "success",
       "layout": "IPY_MODEL_f7dd147a697c413c87adfea4bf14c7e6",
       "style": "IPY_MODEL_1e2850e78b184dbdadc16f4ec7ab24a4",
       "value": 100
      }
     },
     "a15351908b9b40598d5413c177be4801": {
      "model_module": "@jupyter-widgets/controls",
      "model_module_version": "1.5.0",
      "model_name": "FloatProgressModel",
      "state": {
       "bar_style": "success",
       "layout": "IPY_MODEL_4569be520aae413aa4d0b9c3802e6aad",
       "style": "IPY_MODEL_e61375f715114b46b1a3107ba98b9ddc",
       "value": 100
      }
     },
     "a188a7195fda4d4e97d81d3a1c9a7321": {
      "model_module": "@jupyter-widgets/base",
      "model_module_version": "1.2.0",
      "model_name": "LayoutModel",
      "state": {}
     },
     "a220097764654f04bd78a7d2366b17b4": {
      "model_module": "@jupyter-widgets/controls",
      "model_module_version": "1.5.0",
      "model_name": "DescriptionStyleModel",
      "state": {
       "description_width": ""
      }
     },
     "a228d1e17906425cbc4120d2d1730f2e": {
      "model_module": "@jupyter-widgets/controls",
      "model_module_version": "1.5.0",
      "model_name": "HTMLModel",
      "state": {
       "layout": "IPY_MODEL_5a201f409c684b37be9348f7a2e58aa7",
       "style": "IPY_MODEL_1ab5803c82e946b2b68ac7834c924d00",
       "value": " 100/100 [11:49&lt;00:00, 11.14s/it]"
      }
     },
     "a24d5dca866b4b78b8852b9931cbd9a2": {
      "model_module": "@jupyter-widgets/base",
      "model_module_version": "1.2.0",
      "model_name": "LayoutModel",
      "state": {}
     },
     "a2636dd32afb4fa683a711166978a06d": {
      "model_module": "@jupyter-widgets/base",
      "model_module_version": "1.2.0",
      "model_name": "LayoutModel",
      "state": {}
     },
     "a3a4dbf9c0dc4f0ba669ac353c820ed5": {
      "model_module": "@jupyter-widgets/controls",
      "model_module_version": "1.5.0",
      "model_name": "DescriptionStyleModel",
      "state": {
       "description_width": ""
      }
     },
     "a3cc3ca0d9944182a71274169f00388d": {
      "model_module": "@jupyter-widgets/controls",
      "model_module_version": "1.5.0",
      "model_name": "DescriptionStyleModel",
      "state": {
       "description_width": ""
      }
     },
     "a3db10406d634cf297353031f9f2bb8a": {
      "model_module": "@jupyter-widgets/controls",
      "model_module_version": "1.5.0",
      "model_name": "HTMLModel",
      "state": {
       "layout": "IPY_MODEL_7bcc194d50d642a9adf3d209f1c0376d",
       "style": "IPY_MODEL_96aa755c10844250b1c5aa9c3c9f4a72",
       "value": "100%"
      }
     },
     "a3df8ba8ab6d42098fd27656396811ee": {
      "model_module": "@jupyter-widgets/base",
      "model_module_version": "1.2.0",
      "model_name": "LayoutModel",
      "state": {}
     },
     "a407913081a94228be061677445a53d9": {
      "model_module": "@jupyter-widgets/controls",
      "model_module_version": "1.5.0",
      "model_name": "ProgressStyleModel",
      "state": {
       "description_width": ""
      }
     },
     "a431fbeaeff44838af489318c3f3ddb0": {
      "model_module": "@jupyter-widgets/controls",
      "model_module_version": "1.5.0",
      "model_name": "HTMLModel",
      "state": {
       "layout": "IPY_MODEL_7c859a12ef6b44bcbe108f7f66fccb1a",
       "style": "IPY_MODEL_b9bafc04a8934b36a51566688239b70a",
       "value": " 100/100 [10:14&lt;00:00,  4.41s/it]"
      }
     },
     "a4337c6ad486433787c4c7b39f868c2e": {
      "model_module": "@jupyter-widgets/controls",
      "model_module_version": "1.5.0",
      "model_name": "HTMLModel",
      "state": {
       "layout": "IPY_MODEL_f2d486b362654163975911d6bf5e5513",
       "style": "IPY_MODEL_ca1e1ceac0184e33b51777f383cba35c",
       "value": "100%"
      }
     },
     "a43c7062b13846ceaeb733edb2d2e4a7": {
      "model_module": "@jupyter-widgets/base",
      "model_module_version": "1.2.0",
      "model_name": "LayoutModel",
      "state": {}
     },
     "a490e318fdc6459db088ca4fada61a65": {
      "model_module": "@jupyter-widgets/base",
      "model_module_version": "1.2.0",
      "model_name": "LayoutModel",
      "state": {}
     },
     "a4d31ba1768b4373a473f27cd7278702": {
      "model_module": "@jupyter-widgets/controls",
      "model_module_version": "1.5.0",
      "model_name": "HTMLModel",
      "state": {
       "layout": "IPY_MODEL_b84eb22462ef4118addf7f8b6bf9392d",
       "style": "IPY_MODEL_4ee6e8523ef74f19ad406f240ca39fa2",
       "value": "100%"
      }
     },
     "a4d51e7ae6c34f83acdea92c52e1c0fd": {
      "model_module": "@jupyter-widgets/base",
      "model_module_version": "1.2.0",
      "model_name": "LayoutModel",
      "state": {}
     },
     "a52dd1df882c4edca6cc35a40b0b2c7c": {
      "model_module": "@jupyter-widgets/controls",
      "model_module_version": "1.5.0",
      "model_name": "HTMLModel",
      "state": {
       "layout": "IPY_MODEL_8e372306b66a47f1915357787539895f",
       "style": "IPY_MODEL_1061a17227c44596be8f17b6a2177e60",
       "value": "100%"
      }
     },
     "a58b5e49c89248eeace68df4439b5700": {
      "model_module": "@jupyter-widgets/base",
      "model_module_version": "1.2.0",
      "model_name": "LayoutModel",
      "state": {}
     },
     "a5a1a83ad9ca4e5eb434d3644f0b2358": {
      "model_module": "@jupyter-widgets/base",
      "model_module_version": "1.2.0",
      "model_name": "LayoutModel",
      "state": {}
     },
     "a5e4dba2b8fd433981dc329bf99511d4": {
      "model_module": "@jupyter-widgets/controls",
      "model_module_version": "1.5.0",
      "model_name": "ProgressStyleModel",
      "state": {
       "description_width": ""
      }
     },
     "a61cfcd1c4894533ab563d2bd2b2c9c8": {
      "model_module": "@jupyter-widgets/controls",
      "model_module_version": "1.5.0",
      "model_name": "FloatProgressModel",
      "state": {
       "bar_style": "danger",
       "layout": "IPY_MODEL_7e67c49db1ab44089b8cf600cc1e85af",
       "style": "IPY_MODEL_19f160158d934ea9a8e2b684a303d13e"
      }
     },
     "a635485883fc44d186532bc818cc4d59": {
      "model_module": "@jupyter-widgets/controls",
      "model_module_version": "1.5.0",
      "model_name": "FloatProgressModel",
      "state": {
       "bar_style": "success",
       "layout": "IPY_MODEL_0a6ff00061cb4b7c800b21a634330c5e",
       "style": "IPY_MODEL_e2fb6082680a4ebd83f9ee997acb5f3f",
       "value": 100
      }
     },
     "a676e7c0bcb84534b9aeb41541365806": {
      "model_module": "@jupyter-widgets/base",
      "model_module_version": "1.2.0",
      "model_name": "LayoutModel",
      "state": {}
     },
     "a693d1ff1709452b8670108f49428f2e": {
      "model_module": "@jupyter-widgets/base",
      "model_module_version": "1.2.0",
      "model_name": "LayoutModel",
      "state": {}
     },
     "a6b0902de50f4bc5992a75c4e0fdf7a7": {
      "model_module": "@jupyter-widgets/controls",
      "model_module_version": "1.5.0",
      "model_name": "DescriptionStyleModel",
      "state": {
       "description_width": ""
      }
     },
     "a6e999bb8ff74462ae69b2b3df469132": {
      "model_module": "@jupyter-widgets/controls",
      "model_module_version": "1.5.0",
      "model_name": "ProgressStyleModel",
      "state": {
       "description_width": ""
      }
     },
     "a740f7a2e454422b8d6dfe08743cbb6d": {
      "model_module": "@jupyter-widgets/controls",
      "model_module_version": "1.5.0",
      "model_name": "HBoxModel",
      "state": {
       "children": [
        "IPY_MODEL_e7feeaa30d6c47eea8716aea430eecc7",
        "IPY_MODEL_a61cfcd1c4894533ab563d2bd2b2c9c8",
        "IPY_MODEL_69b932bce5944f5fbee9359c6554154a"
       ],
       "layout": "IPY_MODEL_df0923a3548e47178ba95617574a0fc6"
      }
     },
     "a78f64d8c1cb40d188fecbc4fa88bdfe": {
      "model_module": "@jupyter-widgets/base",
      "model_module_version": "1.2.0",
      "model_name": "LayoutModel",
      "state": {}
     },
     "a7d1f33e01c8472188618f28454e8f6d": {
      "model_module": "@jupyter-widgets/controls",
      "model_module_version": "1.5.0",
      "model_name": "FloatProgressModel",
      "state": {
       "bar_style": "danger",
       "layout": "IPY_MODEL_4b3ccdba70134deb91b3ae6f3dd6dc08",
       "style": "IPY_MODEL_3e846b5740a04f3b9d9d0be128c086bb"
      }
     },
     "a83b86010c5b47ac8029778ae98da313": {
      "model_module": "@jupyter-widgets/controls",
      "model_module_version": "1.5.0",
      "model_name": "DescriptionStyleModel",
      "state": {
       "description_width": ""
      }
     },
     "a8d2473bd0614b81bc33f30ae8c5fd26": {
      "model_module": "@jupyter-widgets/controls",
      "model_module_version": "1.5.0",
      "model_name": "HBoxModel",
      "state": {
       "children": [
        "IPY_MODEL_75632185230e491ab0e66c36c12c9b3c",
        "IPY_MODEL_3ef88b4703ba485d8785ec0ead08baab",
        "IPY_MODEL_759724d0f23944e58a71c48adb77956d"
       ],
       "layout": "IPY_MODEL_eb68b43133ec42fc86e896084f8dfc29"
      }
     },
     "a8f6c3dedc2b4c71b00091078a9ce663": {
      "model_module": "@jupyter-widgets/base",
      "model_module_version": "1.2.0",
      "model_name": "LayoutModel",
      "state": {}
     },
     "a99131df95324cc4b00ee77b9eb35773": {
      "model_module": "@jupyter-widgets/controls",
      "model_module_version": "1.5.0",
      "model_name": "ProgressStyleModel",
      "state": {
       "description_width": ""
      }
     },
     "aa2e4d83f2b740bbad40605b7b9cf31b": {
      "model_module": "@jupyter-widgets/base",
      "model_module_version": "1.2.0",
      "model_name": "LayoutModel",
      "state": {}
     },
     "aa6df95632fb49fca4a63769ad3e9453": {
      "model_module": "@jupyter-widgets/controls",
      "model_module_version": "1.5.0",
      "model_name": "FloatProgressModel",
      "state": {
       "bar_style": "success",
       "layout": "IPY_MODEL_abc14467eebb49ca930e6d652dbff4c0",
       "style": "IPY_MODEL_0533bbdebc5e4bf0b351e931a3fc09d4",
       "value": 100
      }
     },
     "aafcab0bf051483a80123f17fc352eba": {
      "model_module": "@jupyter-widgets/controls",
      "model_module_version": "1.5.0",
      "model_name": "HBoxModel",
      "state": {
       "children": [
        "IPY_MODEL_f31050e42f0c4e3598507b398f87e8ee",
        "IPY_MODEL_2afa7efd8bc64ac7bcef191ac8255970",
        "IPY_MODEL_9df1121f9172448c88c08b7ffb72ab0b"
       ],
       "layout": "IPY_MODEL_84a7c286885d4df7a0688aa4641c5bc4"
      }
     },
     "ab654840cb2d43408daf2258cccd7159": {
      "model_module": "@jupyter-widgets/controls",
      "model_module_version": "1.5.0",
      "model_name": "HTMLModel",
      "state": {
       "layout": "IPY_MODEL_b8100500343544eeb9e12da00550c2b7",
       "style": "IPY_MODEL_5a2ff924f24d4f08bed344f00f6b9587",
       "value": " 32%"
      }
     },
     "abbac4ade6fa424d995e1e353fc09bc1": {
      "model_module": "@jupyter-widgets/controls",
      "model_module_version": "1.5.0",
      "model_name": "HTMLModel",
      "state": {
       "layout": "IPY_MODEL_30e46013daab40de849952970afa2fde",
       "style": "IPY_MODEL_926b26938c45479fa57c4a633483999e",
       "value": " 100/100 [21:12:41&lt;00:00, 763.61s/it]"
      }
     },
     "abc14467eebb49ca930e6d652dbff4c0": {
      "model_module": "@jupyter-widgets/base",
      "model_module_version": "1.2.0",
      "model_name": "LayoutModel",
      "state": {}
     },
     "ac1742a839924bd39d1b534454f75116": {
      "model_module": "@jupyter-widgets/base",
      "model_module_version": "1.2.0",
      "model_name": "LayoutModel",
      "state": {}
     },
     "ac2a4328a1314f47aa29118822c1b10e": {
      "model_module": "@jupyter-widgets/base",
      "model_module_version": "1.2.0",
      "model_name": "LayoutModel",
      "state": {}
     },
     "ac39de213808420eae2685f62915f7eb": {
      "model_module": "@jupyter-widgets/controls",
      "model_module_version": "1.5.0",
      "model_name": "HTMLModel",
      "state": {
       "layout": "IPY_MODEL_614bbda104954ebfa92d2c38ce26a454",
       "style": "IPY_MODEL_dbbee555aefd45fe942ab684ae6f6bd4",
       "value": " 100/100 [06:20&lt;00:00,  2.78s/it]"
      }
     },
     "ac51653a5c09441bb771bb9e96e3bb21": {
      "model_module": "@jupyter-widgets/controls",
      "model_module_version": "1.5.0",
      "model_name": "FloatProgressModel",
      "state": {
       "bar_style": "success",
       "layout": "IPY_MODEL_3e63076b861c4193a25cd81dd7d5ac0f",
       "style": "IPY_MODEL_d0e977601c7b4a3aaadc81221ea1850c",
       "value": 100
      }
     },
     "ace33766470c40f3962de39a26a87088": {
      "model_module": "@jupyter-widgets/controls",
      "model_module_version": "1.5.0",
      "model_name": "HBoxModel",
      "state": {
       "children": [
        "IPY_MODEL_c1df0319204c4701a5613a201d40aea4",
        "IPY_MODEL_5c1ab3c8b485426c95d0151ee80a4d1b",
        "IPY_MODEL_f9c688f2e1044248addf81b6c578b325"
       ],
       "layout": "IPY_MODEL_551de4631faa4bb2911457e2dcf899eb"
      }
     },
     "ad13ccacfe32463788786f17c3040552": {
      "model_module": "@jupyter-widgets/base",
      "model_module_version": "1.2.0",
      "model_name": "LayoutModel",
      "state": {}
     },
     "ad8e242b685841c1bb424582806f84ee": {
      "model_module": "@jupyter-widgets/base",
      "model_module_version": "1.2.0",
      "model_name": "LayoutModel",
      "state": {}
     },
     "adb8ccb56ceb4d2f8b7400e203643bc3": {
      "model_module": "@jupyter-widgets/controls",
      "model_module_version": "1.5.0",
      "model_name": "HTMLModel",
      "state": {
       "layout": "IPY_MODEL_cec87f7a88eb4843a3c21a653d86efa9",
       "style": "IPY_MODEL_4c2a1009e7c84b0fab8262f2fea936c8",
       "value": " 100/100 [06:20&lt;00:00,  3.65s/it]"
      }
     },
     "ae1a19d6644245d3acc8200a58de01dc": {
      "model_module": "@jupyter-widgets/controls",
      "model_module_version": "1.5.0",
      "model_name": "HTMLModel",
      "state": {
       "layout": "IPY_MODEL_65e1745a53e54ef6a1890d781d6dbb52",
       "style": "IPY_MODEL_90b54801b5b34c21a03db371f1b9ac94",
       "value": " 2838/2838 [10:28&lt;00:00,  3.09it/s]"
      }
     },
     "ae3bc81104a24959888c0246ae77a662": {
      "model_module": "@jupyter-widgets/controls",
      "model_module_version": "1.5.0",
      "model_name": "HBoxModel",
      "state": {
       "children": [
        "IPY_MODEL_800b6c3c6c9c4a12853913dad7b7e2ac",
        "IPY_MODEL_90ef782f08cf4b2f937cc13c044d84c9",
        "IPY_MODEL_1966843106bb43a3a9152bd228397709"
       ],
       "layout": "IPY_MODEL_1f2728a91c254a47b7a59ffdf3f041ae"
      }
     },
     "ae66264cd2634dc59da56172a8bc8a79": {
      "model_module": "@jupyter-widgets/controls",
      "model_module_version": "1.5.0",
      "model_name": "DescriptionStyleModel",
      "state": {
       "description_width": ""
      }
     },
     "ae9191afca3f46ddbb63434107caf3a1": {
      "model_module": "@jupyter-widgets/controls",
      "model_module_version": "1.5.0",
      "model_name": "DescriptionStyleModel",
      "state": {
       "description_width": ""
      }
     },
     "aeb97777243a4258b453ff5ffa5c0f37": {
      "model_module": "@jupyter-widgets/controls",
      "model_module_version": "1.5.0",
      "model_name": "HTMLModel",
      "state": {
       "layout": "IPY_MODEL_5af6432142814ce09c84e764d9519389",
       "style": "IPY_MODEL_596e6ba6e0674b28ada0a491283d20e9",
       "value": " 100/100 [11:33&lt;00:00,  5.15s/it]"
      }
     },
     "aeee75be176747e9a272c6941967d124": {
      "model_module": "@jupyter-widgets/base",
      "model_module_version": "1.2.0",
      "model_name": "LayoutModel",
      "state": {}
     },
     "af292f25b45d42739ab41f5680e7fa28": {
      "model_module": "@jupyter-widgets/controls",
      "model_module_version": "1.5.0",
      "model_name": "DescriptionStyleModel",
      "state": {
       "description_width": ""
      }
     },
     "af6d3d2280c942c394d2c4b30f371e61": {
      "model_module": "@jupyter-widgets/base",
      "model_module_version": "1.2.0",
      "model_name": "LayoutModel",
      "state": {}
     },
     "af8b627053c44ae0952ceaba888896f2": {
      "model_module": "@jupyter-widgets/controls",
      "model_module_version": "1.5.0",
      "model_name": "HTMLModel",
      "state": {
       "layout": "IPY_MODEL_baa9cfb21cbd4395beb830ed94b38715",
       "style": "IPY_MODEL_6a92a1ea4df24403ba75d1465968c37e",
       "value": "100%"
      }
     },
     "afd5f686e3094d489e871336a88d7ef5": {
      "model_module": "@jupyter-widgets/controls",
      "model_module_version": "1.5.0",
      "model_name": "DescriptionStyleModel",
      "state": {
       "description_width": ""
      }
     },
     "b05810c4aa6a4418a86b7b8caee24f51": {
      "model_module": "@jupyter-widgets/controls",
      "model_module_version": "1.5.0",
      "model_name": "HBoxModel",
      "state": {
       "children": [
        "IPY_MODEL_cac3b404379c46839f910b60871e218b",
        "IPY_MODEL_5bbec04657674400ab112fd289f3b8be",
        "IPY_MODEL_832da797bdf04e148487f860adb748ba"
       ],
       "layout": "IPY_MODEL_9a381346e03046cdbde7d27029848e2a"
      }
     },
     "b0a124dbb9aa4eb1bc980a3e1d3bfe8e": {
      "model_module": "@jupyter-widgets/controls",
      "model_module_version": "1.5.0",
      "model_name": "FloatProgressModel",
      "state": {
       "bar_style": "success",
       "layout": "IPY_MODEL_1d3534135f514205a5accec0a94fde16",
       "style": "IPY_MODEL_78d55f0794714ddc81f78d70d771c0a8",
       "value": 100
      }
     },
     "b0c07aabdd6c4be7ab15389998b9058d": {
      "model_module": "@jupyter-widgets/base",
      "model_module_version": "1.2.0",
      "model_name": "LayoutModel",
      "state": {}
     },
     "b0dcfcf1d09a4b029c1c5e4aa9b8c57a": {
      "model_module": "@jupyter-widgets/base",
      "model_module_version": "1.2.0",
      "model_name": "LayoutModel",
      "state": {}
     },
     "b164ac09a1d0461399d4fd023b7d5259": {
      "model_module": "@jupyter-widgets/controls",
      "model_module_version": "1.5.0",
      "model_name": "ProgressStyleModel",
      "state": {
       "description_width": ""
      }
     },
     "b1bb9ad4733045968e8b0cfb03c6b794": {
      "model_module": "@jupyter-widgets/controls",
      "model_module_version": "1.5.0",
      "model_name": "DescriptionStyleModel",
      "state": {
       "description_width": ""
      }
     },
     "b2519fb2f3cb4b4c80a49365c0913770": {
      "model_module": "@jupyter-widgets/base",
      "model_module_version": "1.2.0",
      "model_name": "LayoutModel",
      "state": {}
     },
     "b261309593aa4d34b6cbb9959d1d0f2a": {
      "model_module": "@jupyter-widgets/controls",
      "model_module_version": "1.5.0",
      "model_name": "DescriptionStyleModel",
      "state": {
       "description_width": ""
      }
     },
     "b282349c40c2445d9a0cb03fcfc74269": {
      "model_module": "@jupyter-widgets/base",
      "model_module_version": "1.2.0",
      "model_name": "LayoutModel",
      "state": {}
     },
     "b302f9c1998e40399195e153665e9942": {
      "model_module": "@jupyter-widgets/base",
      "model_module_version": "1.2.0",
      "model_name": "LayoutModel",
      "state": {}
     },
     "b31683ec1cc743e2800269f2880be787": {
      "model_module": "@jupyter-widgets/controls",
      "model_module_version": "1.5.0",
      "model_name": "DescriptionStyleModel",
      "state": {
       "description_width": ""
      }
     },
     "b32ad195f4c64f07adb644555ac1ae66": {
      "model_module": "@jupyter-widgets/base",
      "model_module_version": "1.2.0",
      "model_name": "LayoutModel",
      "state": {}
     },
     "b3d99930448d4ffe8af68e4dc4b3560e": {
      "model_module": "@jupyter-widgets/controls",
      "model_module_version": "1.5.0",
      "model_name": "FloatProgressModel",
      "state": {
       "bar_style": "success",
       "layout": "IPY_MODEL_89722bd0964f479c9b783f7747c33c27",
       "style": "IPY_MODEL_84857c3e849e44ea9985a6735c0ea817",
       "value": 100
      }
     },
     "b3fa4d15912a44f28592977513b4b121": {
      "model_module": "@jupyter-widgets/controls",
      "model_module_version": "1.5.0",
      "model_name": "HTMLModel",
      "state": {
       "layout": "IPY_MODEL_6226c354b11c4cad89a939fe2ffd781c",
       "style": "IPY_MODEL_7bfb97b5077b429da53e92a71711856b",
       "value": "100%"
      }
     },
     "b433e1b42c074a428c4878fa0514d8f1": {
      "model_module": "@jupyter-widgets/controls",
      "model_module_version": "1.5.0",
      "model_name": "HBoxModel",
      "state": {
       "children": [
        "IPY_MODEL_cb4c6c0ae4ae4c2ea01004831d35edea",
        "IPY_MODEL_7d4f9e319e9849d2b3fcee07e10cbbb9",
        "IPY_MODEL_34ff9d31eb7b4e8698089e6ed4212ecd"
       ],
       "layout": "IPY_MODEL_8a54badd0fe3471bad27ba61710d7675"
      }
     },
     "b4ca90c6acdc4e8aa505ab1782bab89a": {
      "model_module": "@jupyter-widgets/controls",
      "model_module_version": "1.5.0",
      "model_name": "HTMLModel",
      "state": {
       "layout": "IPY_MODEL_f5eb30c6eb7740679a9a23909b109d63",
       "style": "IPY_MODEL_7b7c060bc4014a2aad995790e244114b",
       "value": "100%"
      }
     },
     "b4eb8ded48334be2b44a0ae3d55e57b2": {
      "model_module": "@jupyter-widgets/controls",
      "model_module_version": "1.5.0",
      "model_name": "FloatProgressModel",
      "state": {
       "bar_style": "success",
       "layout": "IPY_MODEL_ff687fe62fe54e02869513e76a19d741",
       "style": "IPY_MODEL_6677f775eb754fc384d1d955f2dd3b06",
       "value": 100
      }
     },
     "b578b1e5442848a5ad8524a05ec77f57": {
      "model_module": "@jupyter-widgets/controls",
      "model_module_version": "1.5.0",
      "model_name": "HBoxModel",
      "state": {
       "children": [
        "IPY_MODEL_187200885d884ad6b5328d15978d05f1",
        "IPY_MODEL_436cd65d75374ead844f9e4ccbaa1738",
        "IPY_MODEL_abbac4ade6fa424d995e1e353fc09bc1"
       ],
       "layout": "IPY_MODEL_5d54356ff2ad4061a4ac8a4812c9a292"
      }
     },
     "b5dcfc7ce3b7495690275f84311eb6a1": {
      "model_module": "@jupyter-widgets/controls",
      "model_module_version": "1.5.0",
      "model_name": "HTMLModel",
      "state": {
       "layout": "IPY_MODEL_6044703805d14b499206c5935b368663",
       "style": "IPY_MODEL_1bf020f9efab4d9385da704de9a0a9dc",
       "value": " 100/100 [12:41&lt;00:00, 10.61s/it]"
      }
     },
     "b63ae01e5c154be095d833eee709e7c5": {
      "model_module": "@jupyter-widgets/controls",
      "model_module_version": "1.5.0",
      "model_name": "HTMLModel",
      "state": {
       "layout": "IPY_MODEL_97d7fbb39ffe47f19ddbdb4fb83e3f91",
       "style": "IPY_MODEL_c9942ede7e254ac7ace296ad408c6f34",
       "value": " 100/100 [12:21&lt;00:00,  7.42s/it]"
      }
     },
     "b64b61a424af4815b0dd9b576a6fdce2": {
      "model_module": "@jupyter-widgets/base",
      "model_module_version": "1.2.0",
      "model_name": "LayoutModel",
      "state": {}
     },
     "b6dc7b7b5a644f938641b0f4fb8089ef": {
      "model_module": "@jupyter-widgets/controls",
      "model_module_version": "1.5.0",
      "model_name": "DescriptionStyleModel",
      "state": {
       "description_width": ""
      }
     },
     "b6e4f13e56e44137b2536c7ad39dfb42": {
      "model_module": "@jupyter-widgets/controls",
      "model_module_version": "1.5.0",
      "model_name": "HTMLModel",
      "state": {
       "layout": "IPY_MODEL_e4cba76ab8bf4765bd84b4e7c5564050",
       "style": "IPY_MODEL_fdc4e78b8e8a487e96d65fe112e1ab99",
       "value": "100%"
      }
     },
     "b724bfd2ca174817870f10434b947a33": {
      "model_module": "@jupyter-widgets/base",
      "model_module_version": "1.2.0",
      "model_name": "LayoutModel",
      "state": {}
     },
     "b7ab349c4baa40979ae484cdecbb6805": {
      "model_module": "@jupyter-widgets/controls",
      "model_module_version": "1.5.0",
      "model_name": "FloatProgressModel",
      "state": {
       "bar_style": "success",
       "layout": "IPY_MODEL_4c1c265bfd2a407a8bfed97350827cf5",
       "style": "IPY_MODEL_2c981ca0539c4414b7d27aaf853016a3",
       "value": 100
      }
     },
     "b7ca3fbd8e1741939cbc8eca8d79680b": {
      "model_module": "@jupyter-widgets/base",
      "model_module_version": "1.2.0",
      "model_name": "LayoutModel",
      "state": {}
     },
     "b8100500343544eeb9e12da00550c2b7": {
      "model_module": "@jupyter-widgets/base",
      "model_module_version": "1.2.0",
      "model_name": "LayoutModel",
      "state": {}
     },
     "b84eb22462ef4118addf7f8b6bf9392d": {
      "model_module": "@jupyter-widgets/base",
      "model_module_version": "1.2.0",
      "model_name": "LayoutModel",
      "state": {}
     },
     "b86158f1881b4c4d8d64da81d0275c7e": {
      "model_module": "@jupyter-widgets/controls",
      "model_module_version": "1.5.0",
      "model_name": "FloatProgressModel",
      "state": {
       "bar_style": "success",
       "layout": "IPY_MODEL_c5328f4de6264d95b9074955843238d3",
       "style": "IPY_MODEL_dae30f78887a478c8a2f75094f6047e4",
       "value": 100
      }
     },
     "b8a324a772b14645bf1a3c7343551863": {
      "model_module": "@jupyter-widgets/controls",
      "model_module_version": "1.5.0",
      "model_name": "FloatProgressModel",
      "state": {
       "bar_style": "success",
       "layout": "IPY_MODEL_912932c14a3242568ce247c5a4ff0a70",
       "style": "IPY_MODEL_91927f156ca44ce680c9d0752ff7d8c1",
       "value": 100
      }
     },
     "b98a7e678ab546fe909316d34ce23c85": {
      "model_module": "@jupyter-widgets/base",
      "model_module_version": "1.2.0",
      "model_name": "LayoutModel",
      "state": {}
     },
     "b9bafc04a8934b36a51566688239b70a": {
      "model_module": "@jupyter-widgets/controls",
      "model_module_version": "1.5.0",
      "model_name": "DescriptionStyleModel",
      "state": {
       "description_width": ""
      }
     },
     "b9cdb0ea27534a59a91b18791ecb2936": {
      "model_module": "@jupyter-widgets/controls",
      "model_module_version": "1.5.0",
      "model_name": "HBoxModel",
      "state": {
       "children": [
        "IPY_MODEL_37794efd70424d81b8bc376c31957f84",
        "IPY_MODEL_7917518a43084849befb8a4d1324097f",
        "IPY_MODEL_5703b03062654054be6bbdd70b12dbd5"
       ],
       "layout": "IPY_MODEL_9454ca93993249c48c80469784f7dacc"
      }
     },
     "b9e8808b97794603932168741f554a4a": {
      "model_module": "@jupyter-widgets/controls",
      "model_module_version": "1.5.0",
      "model_name": "HTMLModel",
      "state": {
       "layout": "IPY_MODEL_8952fc5ac8bd4d6d8bc7318e90c88ab1",
       "style": "IPY_MODEL_277b8e493c7a44a5a83bbe960623c8e9",
       "value": " 100/100 [14:30&lt;00:00,  8.70s/it]"
      }
     },
     "ba07012e7a114e41a4c9f5e9a1d89462": {
      "model_module": "@jupyter-widgets/controls",
      "model_module_version": "1.5.0",
      "model_name": "HTMLModel",
      "state": {
       "layout": "IPY_MODEL_6d47ef7495194803b4fc9de5bc606408",
       "style": "IPY_MODEL_0573817e89384b919a0a5b389cea5ad1",
       "value": " 2836/2836 [08:36&lt;00:00,  5.54it/s]"
      }
     },
     "ba3107ba68c04ad7b70fc1f4fd95d48e": {
      "model_module": "@jupyter-widgets/controls",
      "model_module_version": "1.5.0",
      "model_name": "DescriptionStyleModel",
      "state": {
       "description_width": ""
      }
     },
     "baa9cfb21cbd4395beb830ed94b38715": {
      "model_module": "@jupyter-widgets/base",
      "model_module_version": "1.2.0",
      "model_name": "LayoutModel",
      "state": {}
     },
     "bacbb86cc47642e3ad196fc5c17778f5": {
      "model_module": "@jupyter-widgets/base",
      "model_module_version": "1.2.0",
      "model_name": "LayoutModel",
      "state": {}
     },
     "bb3c053ac0e64bbab04f3c0e8159b23a": {
      "model_module": "@jupyter-widgets/base",
      "model_module_version": "1.2.0",
      "model_name": "LayoutModel",
      "state": {}
     },
     "bb4f71d1a38441f4a20b7f2d74677b04": {
      "model_module": "@jupyter-widgets/base",
      "model_module_version": "1.2.0",
      "model_name": "LayoutModel",
      "state": {}
     },
     "bce3ef5be84d40768e2d5e88e2b2405e": {
      "model_module": "@jupyter-widgets/controls",
      "model_module_version": "1.5.0",
      "model_name": "FloatProgressModel",
      "state": {
       "bar_style": "success",
       "layout": "IPY_MODEL_7102dcc087874fff84d4ec49dd38cdd2",
       "style": "IPY_MODEL_a99131df95324cc4b00ee77b9eb35773",
       "value": 100
      }
     },
     "bd4b9c6d3b0f4c009333fe145a97df6b": {
      "model_module": "@jupyter-widgets/base",
      "model_module_version": "1.2.0",
      "model_name": "LayoutModel",
      "state": {}
     },
     "bed4b9b37b10436f8a42ffe111e0a89b": {
      "model_module": "@jupyter-widgets/controls",
      "model_module_version": "1.5.0",
      "model_name": "FloatProgressModel",
      "state": {
       "bar_style": "success",
       "layout": "IPY_MODEL_1e734b53e02a44b4a292654693c0765f",
       "style": "IPY_MODEL_e5044224a5034347bcc3d2b1b1b7b71e",
       "value": 100
      }
     },
     "bf046793d5cf48f0a65bc2fc6e0d1cb0": {
      "model_module": "@jupyter-widgets/base",
      "model_module_version": "1.2.0",
      "model_name": "LayoutModel",
      "state": {}
     },
     "bf757901bdeb410e82adae771f22d9da": {
      "model_module": "@jupyter-widgets/controls",
      "model_module_version": "1.5.0",
      "model_name": "DescriptionStyleModel",
      "state": {
       "description_width": ""
      }
     },
     "bf8e4a5fd6df4482a2c77e5e408b58cf": {
      "model_module": "@jupyter-widgets/controls",
      "model_module_version": "1.5.0",
      "model_name": "HTMLModel",
      "state": {
       "layout": "IPY_MODEL_157237e7cb384c3d8fbc7f4680001514",
       "style": "IPY_MODEL_8685990f3dd14f7d8bff461a4b7fed3e",
       "value": " 100/100 [06:32&lt;00:00,  6.13s/it]"
      }
     },
     "c0011d617b9a4a3a9f5c9413a7dcd55f": {
      "model_module": "@jupyter-widgets/base",
      "model_module_version": "1.2.0",
      "model_name": "LayoutModel",
      "state": {}
     },
     "c0633a2c5c6b4b0ca69902bb921d15ee": {
      "model_module": "@jupyter-widgets/controls",
      "model_module_version": "1.5.0",
      "model_name": "ProgressStyleModel",
      "state": {
       "description_width": ""
      }
     },
     "c07d48c52392433a86f9939e11009f78": {
      "model_module": "@jupyter-widgets/controls",
      "model_module_version": "1.5.0",
      "model_name": "DescriptionStyleModel",
      "state": {
       "description_width": ""
      }
     },
     "c0ab87d99b04470faf98e26dd3c6b3e2": {
      "model_module": "@jupyter-widgets/controls",
      "model_module_version": "1.5.0",
      "model_name": "HBoxModel",
      "state": {
       "children": [
        "IPY_MODEL_48d6137d8d37483684f24ce8042c94c6",
        "IPY_MODEL_c2df2d6e28414a23adceafd938f061ef",
        "IPY_MODEL_a228d1e17906425cbc4120d2d1730f2e"
       ],
       "layout": "IPY_MODEL_dd44c0bae8e04cd88c5e246f6bb4fda7"
      }
     },
     "c0d827316a8b41c5a3a7fe50bddee775": {
      "model_module": "@jupyter-widgets/base",
      "model_module_version": "1.2.0",
      "model_name": "LayoutModel",
      "state": {}
     },
     "c1a1d21902884ec99e6fe4f6d33d9c8f": {
      "model_module": "@jupyter-widgets/controls",
      "model_module_version": "1.5.0",
      "model_name": "DescriptionStyleModel",
      "state": {
       "description_width": ""
      }
     },
     "c1df0319204c4701a5613a201d40aea4": {
      "model_module": "@jupyter-widgets/controls",
      "model_module_version": "1.5.0",
      "model_name": "HTMLModel",
      "state": {
       "layout": "IPY_MODEL_98a4af74edb546ce8232fd81bb26ab4b",
       "style": "IPY_MODEL_d1af5a34136c425a9fd5ecf8e1715b2f",
       "value": "  0%"
      }
     },
     "c1ed991ea06a40879d139c99149a3a24": {
      "model_module": "@jupyter-widgets/controls",
      "model_module_version": "1.5.0",
      "model_name": "HTMLModel",
      "state": {
       "layout": "IPY_MODEL_674f21e8792e4436a00dd0bdf2e13c0c",
       "style": "IPY_MODEL_224b12134b2a47e38fe7f6981cf9e2b0",
       "value": "100%"
      }
     },
     "c226793f5d2c47ee9babeb5f64ee0cbe": {
      "model_module": "@jupyter-widgets/controls",
      "model_module_version": "1.5.0",
      "model_name": "FloatProgressModel",
      "state": {
       "bar_style": "success",
       "layout": "IPY_MODEL_09310c4ac48c41418b0218a92b0e81a6",
       "style": "IPY_MODEL_896e630093e845f9a821685b93988a84",
       "value": 100
      }
     },
     "c24a4f39f4884019802bbe55ebac49d8": {
      "model_module": "@jupyter-widgets/controls",
      "model_module_version": "1.5.0",
      "model_name": "HTMLModel",
      "state": {
       "layout": "IPY_MODEL_cc022a12d1e24af0874daee7e2fe3cef",
       "style": "IPY_MODEL_e2f36ccb197242fc98430dd00dcfd7f2",
       "value": " 2838/2838 [08:31&lt;00:00,  5.55it/s]"
      }
     },
     "c2df2d6e28414a23adceafd938f061ef": {
      "model_module": "@jupyter-widgets/controls",
      "model_module_version": "1.5.0",
      "model_name": "FloatProgressModel",
      "state": {
       "bar_style": "success",
       "layout": "IPY_MODEL_3e7a6f45f7714c90b28836b5d6c3ee0c",
       "style": "IPY_MODEL_f99be59ab4934b07a5ccc32e3e5130b4",
       "value": 100
      }
     },
     "c2ef468241cb455196513a955e20b668": {
      "model_module": "@jupyter-widgets/base",
      "model_module_version": "1.2.0",
      "model_name": "LayoutModel",
      "state": {}
     },
     "c2f445d8ab5c45efa81aee0079f4373b": {
      "model_module": "@jupyter-widgets/controls",
      "model_module_version": "1.5.0",
      "model_name": "HBoxModel",
      "state": {
       "children": [
        "IPY_MODEL_5a320390fd0d44978ac1ddb5487ca6a0",
        "IPY_MODEL_4978aa49747c462f908fe0a7a72c337e",
        "IPY_MODEL_7d6a563266ba49e58f6f42f1cdb3c26e"
       ],
       "layout": "IPY_MODEL_c0d827316a8b41c5a3a7fe50bddee775"
      }
     },
     "c331b52d546e4fc9ab6077091546df30": {
      "model_module": "@jupyter-widgets/controls",
      "model_module_version": "1.5.0",
      "model_name": "DescriptionStyleModel",
      "state": {
       "description_width": ""
      }
     },
     "c3783f5f40bc47608955dbf8989982f4": {
      "model_module": "@jupyter-widgets/base",
      "model_module_version": "1.2.0",
      "model_name": "LayoutModel",
      "state": {}
     },
     "c3abb16e1da4433d8ff43f40a352f68f": {
      "model_module": "@jupyter-widgets/controls",
      "model_module_version": "1.5.0",
      "model_name": "HBoxModel",
      "state": {
       "children": [
        "IPY_MODEL_67c84f4131104b3b8268b8aa5777c4b6",
        "IPY_MODEL_b3d99930448d4ffe8af68e4dc4b3560e",
        "IPY_MODEL_417c7e15253e448e8f23af280968e0c6"
       ],
       "layout": "IPY_MODEL_5593e90a580f498ca5c9dac59cd4fe71"
      }
     },
     "c3b5bfe81b4c4cada8f905bb9783d677": {
      "model_module": "@jupyter-widgets/base",
      "model_module_version": "1.2.0",
      "model_name": "LayoutModel",
      "state": {}
     },
     "c3e20cf859ec4459b74fd463c311ecaa": {
      "model_module": "@jupyter-widgets/base",
      "model_module_version": "1.2.0",
      "model_name": "LayoutModel",
      "state": {}
     },
     "c4331298799c44e0b3bc397aef895144": {
      "model_module": "@jupyter-widgets/base",
      "model_module_version": "1.2.0",
      "model_name": "LayoutModel",
      "state": {}
     },
     "c440c039ae3e4e1da9030fba61279efd": {
      "model_module": "@jupyter-widgets/controls",
      "model_module_version": "1.5.0",
      "model_name": "FloatProgressModel",
      "state": {
       "bar_style": "success",
       "layout": "IPY_MODEL_c3b5bfe81b4c4cada8f905bb9783d677",
       "style": "IPY_MODEL_7b1cba46fbb2477c9c1cf722701cc360",
       "value": 100
      }
     },
     "c4983a6db9234c56ac837edaeed5e0db": {
      "model_module": "@jupyter-widgets/controls",
      "model_module_version": "1.5.0",
      "model_name": "HBoxModel",
      "state": {
       "children": [
        "IPY_MODEL_f8a1d248189b407185612f7eee31639d",
        "IPY_MODEL_c67a35e132254c55b1fa7ec4b257cb16",
        "IPY_MODEL_6dd8fbd78a9d49869ba7bb97907c058e"
       ],
       "layout": "IPY_MODEL_797d4f38493542b1b83ba943566555bc"
      }
     },
     "c4febbb70ec443f6bb93a574221397dd": {
      "model_module": "@jupyter-widgets/base",
      "model_module_version": "1.2.0",
      "model_name": "LayoutModel",
      "state": {}
     },
     "c5328f4de6264d95b9074955843238d3": {
      "model_module": "@jupyter-widgets/base",
      "model_module_version": "1.2.0",
      "model_name": "LayoutModel",
      "state": {}
     },
     "c54460bc86fd4cd5b6a3b78ac6cfe2e5": {
      "model_module": "@jupyter-widgets/controls",
      "model_module_version": "1.5.0",
      "model_name": "ProgressStyleModel",
      "state": {
       "description_width": ""
      }
     },
     "c5ad92cd5243497fb72679be59155485": {
      "model_module": "@jupyter-widgets/controls",
      "model_module_version": "1.5.0",
      "model_name": "DescriptionStyleModel",
      "state": {
       "description_width": ""
      }
     },
     "c6183d1ed7a542b4aae80a944adfee4f": {
      "model_module": "@jupyter-widgets/controls",
      "model_module_version": "1.5.0",
      "model_name": "DescriptionStyleModel",
      "state": {
       "description_width": ""
      }
     },
     "c67a35e132254c55b1fa7ec4b257cb16": {
      "model_module": "@jupyter-widgets/controls",
      "model_module_version": "1.5.0",
      "model_name": "FloatProgressModel",
      "state": {
       "bar_style": "success",
       "layout": "IPY_MODEL_d9b0567c0ee04eadae1a9b845614d93e",
       "style": "IPY_MODEL_7ff188cf6e094954aec7ed1bb75778fa",
       "value": 100
      }
     },
     "c6abd231a139484498c879d3251a0da5": {
      "model_module": "@jupyter-widgets/controls",
      "model_module_version": "1.5.0",
      "model_name": "DescriptionStyleModel",
      "state": {
       "description_width": ""
      }
     },
     "c6e3facdb8ed493485f1931cbbd47900": {
      "model_module": "@jupyter-widgets/base",
      "model_module_version": "1.2.0",
      "model_name": "LayoutModel",
      "state": {}
     },
     "c6fdcbfff1d942e095ef40ab81fc992d": {
      "model_module": "@jupyter-widgets/base",
      "model_module_version": "1.2.0",
      "model_name": "LayoutModel",
      "state": {}
     },
     "c70995378ca04e8d9f202014fed227c9": {
      "model_module": "@jupyter-widgets/base",
      "model_module_version": "1.2.0",
      "model_name": "LayoutModel",
      "state": {}
     },
     "c75a64325b804dd6827174ef74650922": {
      "model_module": "@jupyter-widgets/base",
      "model_module_version": "1.2.0",
      "model_name": "LayoutModel",
      "state": {}
     },
     "c7cac09edd55411ab69e68f22b0c385a": {
      "model_module": "@jupyter-widgets/controls",
      "model_module_version": "1.5.0",
      "model_name": "HBoxModel",
      "state": {
       "children": [
        "IPY_MODEL_236cdac0d97542749e5a44ccfc9973ce",
        "IPY_MODEL_628e6130642847f19c0ad4b4bb5a75ac",
        "IPY_MODEL_3db2480cdbd74587b87e694ab99871f7"
       ],
       "layout": "IPY_MODEL_27ad7bedf2d4454daa8a29db2c68c77d"
      }
     },
     "c80269da66814a39b84805ff4bb3b764": {
      "model_module": "@jupyter-widgets/controls",
      "model_module_version": "1.5.0",
      "model_name": "DescriptionStyleModel",
      "state": {
       "description_width": ""
      }
     },
     "c82affaf6e4f452b971b9ccb38c93693": {
      "model_module": "@jupyter-widgets/controls",
      "model_module_version": "1.5.0",
      "model_name": "ProgressStyleModel",
      "state": {
       "description_width": ""
      }
     },
     "c8ae496256b14c9f9e7de578ef53eb35": {
      "model_module": "@jupyter-widgets/controls",
      "model_module_version": "1.5.0",
      "model_name": "DescriptionStyleModel",
      "state": {
       "description_width": ""
      }
     },
     "c905e08250a2448484d1824604975c82": {
      "model_module": "@jupyter-widgets/base",
      "model_module_version": "1.2.0",
      "model_name": "LayoutModel",
      "state": {}
     },
     "c9942ede7e254ac7ace296ad408c6f34": {
      "model_module": "@jupyter-widgets/controls",
      "model_module_version": "1.5.0",
      "model_name": "DescriptionStyleModel",
      "state": {
       "description_width": ""
      }
     },
     "c9d49d19888a4ac39e87062ba3d9e4dd": {
      "model_module": "@jupyter-widgets/controls",
      "model_module_version": "1.5.0",
      "model_name": "FloatProgressModel",
      "state": {
       "bar_style": "success",
       "layout": "IPY_MODEL_2f7d7ac7b92e4e34b78e901968e7fc87",
       "style": "IPY_MODEL_66f7e11f92494f6699d9cb07daf433f2",
       "value": 100
      }
     },
     "ca1e1ceac0184e33b51777f383cba35c": {
      "model_module": "@jupyter-widgets/controls",
      "model_module_version": "1.5.0",
      "model_name": "DescriptionStyleModel",
      "state": {
       "description_width": ""
      }
     },
     "ca3e555284a2488583d21e666bcc0a00": {
      "model_module": "@jupyter-widgets/controls",
      "model_module_version": "1.5.0",
      "model_name": "ProgressStyleModel",
      "state": {
       "description_width": ""
      }
     },
     "cac3b404379c46839f910b60871e218b": {
      "model_module": "@jupyter-widgets/controls",
      "model_module_version": "1.5.0",
      "model_name": "HTMLModel",
      "state": {
       "layout": "IPY_MODEL_a2636dd32afb4fa683a711166978a06d",
       "style": "IPY_MODEL_5b16e9f910cc4062bcea8e44893c911a",
       "value": "100%"
      }
     },
     "cadf01c74c184bfcb8b686b45c107f3a": {
      "model_module": "@jupyter-widgets/controls",
      "model_module_version": "1.5.0",
      "model_name": "DescriptionStyleModel",
      "state": {
       "description_width": ""
      }
     },
     "caecb179c129411e8c3f76a9fe10b020": {
      "model_module": "@jupyter-widgets/controls",
      "model_module_version": "1.5.0",
      "model_name": "HTMLModel",
      "state": {
       "layout": "IPY_MODEL_0722a76b78554bc7a5bdb89fa2cf29a8",
       "style": "IPY_MODEL_986cef2690334c86a2a011f8419567bb",
       "value": " 100/100 [12:19&lt;00:00,  7.40s/it]"
      }
     },
     "cb4c6c0ae4ae4c2ea01004831d35edea": {
      "model_module": "@jupyter-widgets/controls",
      "model_module_version": "1.5.0",
      "model_name": "HTMLModel",
      "state": {
       "layout": "IPY_MODEL_e5a5312a1de44bde834415cbaa9307ba",
       "style": "IPY_MODEL_008313abfbf1470f8b627ab4d3268e4a",
       "value": "100%"
      }
     },
     "cb795fd9a15f4c64a9fe59d3554c4da0": {
      "model_module": "@jupyter-widgets/controls",
      "model_module_version": "1.5.0",
      "model_name": "HBoxModel",
      "state": {
       "children": [
        "IPY_MODEL_5ddb72d005bd44b8a11e705ddc0cdc10",
        "IPY_MODEL_1d31513ad2844b768be7cd87f8b952c9",
        "IPY_MODEL_07a6626fc1504fae8f239e705ace45d3"
       ],
       "layout": "IPY_MODEL_cf4d63d3f5aa4a7aade7425c9b9fc6ee"
      }
     },
     "cbac0f3edf214670a1206dab8d92cbb2": {
      "model_module": "@jupyter-widgets/controls",
      "model_module_version": "1.5.0",
      "model_name": "HBoxModel",
      "state": {
       "children": [
        "IPY_MODEL_7e968da2512e47a19e9806e5a7506e3d",
        "IPY_MODEL_edcdfed5fffc443292066ef393df6300",
        "IPY_MODEL_a431fbeaeff44838af489318c3f3ddb0"
       ],
       "layout": "IPY_MODEL_12885f3fea6e40fe8c7babc382a35856"
      }
     },
     "cc022a12d1e24af0874daee7e2fe3cef": {
      "model_module": "@jupyter-widgets/base",
      "model_module_version": "1.2.0",
      "model_name": "LayoutModel",
      "state": {}
     },
     "ccee27ba01b849e8938f36c90a5f94ec": {
      "model_module": "@jupyter-widgets/controls",
      "model_module_version": "1.5.0",
      "model_name": "DescriptionStyleModel",
      "state": {
       "description_width": ""
      }
     },
     "cd283895a8cd4b93bcbb1912d80923e8": {
      "model_module": "@jupyter-widgets/base",
      "model_module_version": "1.2.0",
      "model_name": "LayoutModel",
      "state": {}
     },
     "cd5bec3e4241433195bfb500b6ec71f3": {
      "model_module": "@jupyter-widgets/controls",
      "model_module_version": "1.5.0",
      "model_name": "DescriptionStyleModel",
      "state": {
       "description_width": ""
      }
     },
     "cd80b4e1ba754f808b020147b9c2af14": {
      "model_module": "@jupyter-widgets/base",
      "model_module_version": "1.2.0",
      "model_name": "LayoutModel",
      "state": {}
     },
     "cdccc7e526f9494e8c11a9875872913f": {
      "model_module": "@jupyter-widgets/controls",
      "model_module_version": "1.5.0",
      "model_name": "HBoxModel",
      "state": {
       "children": [
        "IPY_MODEL_f0b0572ff32e4b3fa5c40021c2f1408e",
        "IPY_MODEL_ed5a295e12744b7db254dd658d27ed8a",
        "IPY_MODEL_d2d827e1aa2a4f6da3a85ec575154625"
       ],
       "layout": "IPY_MODEL_407f93d9a0b84ca8bda51465d0c09301"
      }
     },
     "ce0160feeb024032b577021e8e0b0c09": {
      "model_module": "@jupyter-widgets/base",
      "model_module_version": "1.2.0",
      "model_name": "LayoutModel",
      "state": {}
     },
     "ce559e0e06934eb1b4903d0f8ddacd99": {
      "model_module": "@jupyter-widgets/controls",
      "model_module_version": "1.5.0",
      "model_name": "HTMLModel",
      "state": {
       "layout": "IPY_MODEL_f05dcb32c58f407fa4f91aad501ac284",
       "style": "IPY_MODEL_b261309593aa4d34b6cbb9959d1d0f2a",
       "value": " 100/100 [12:24&lt;00:00,  7.45s/it]"
      }
     },
     "cebb92d4bb0048738d61e16c613848a9": {
      "model_module": "@jupyter-widgets/controls",
      "model_module_version": "1.5.0",
      "model_name": "DescriptionStyleModel",
      "state": {
       "description_width": ""
      }
     },
     "cec87f7a88eb4843a3c21a653d86efa9": {
      "model_module": "@jupyter-widgets/base",
      "model_module_version": "1.2.0",
      "model_name": "LayoutModel",
      "state": {}
     },
     "cf24d9349424442ab69af64d70f1d13a": {
      "model_module": "@jupyter-widgets/controls",
      "model_module_version": "1.5.0",
      "model_name": "DescriptionStyleModel",
      "state": {
       "description_width": ""
      }
     },
     "cf4d63d3f5aa4a7aade7425c9b9fc6ee": {
      "model_module": "@jupyter-widgets/base",
      "model_module_version": "1.2.0",
      "model_name": "LayoutModel",
      "state": {}
     },
     "d005b214a7fe41e19f64f0db560f16e1": {
      "model_module": "@jupyter-widgets/controls",
      "model_module_version": "1.5.0",
      "model_name": "DescriptionStyleModel",
      "state": {
       "description_width": ""
      }
     },
     "d0e977601c7b4a3aaadc81221ea1850c": {
      "model_module": "@jupyter-widgets/controls",
      "model_module_version": "1.5.0",
      "model_name": "ProgressStyleModel",
      "state": {
       "description_width": ""
      }
     },
     "d1135640c3ee4a4fa427a74eed4f6291": {
      "model_module": "@jupyter-widgets/controls",
      "model_module_version": "1.5.0",
      "model_name": "FloatProgressModel",
      "state": {
       "bar_style": "success",
       "layout": "IPY_MODEL_488c10c18b884294ab4bdb73970e40c1",
       "style": "IPY_MODEL_9289c66bfcb34a47a69113d6f55b1fd8",
       "value": 100
      }
     },
     "d145af4f994c4953a5a07989c05e3ba4": {
      "model_module": "@jupyter-widgets/controls",
      "model_module_version": "1.5.0",
      "model_name": "DescriptionStyleModel",
      "state": {
       "description_width": ""
      }
     },
     "d16374fe48f147458f61b73c638e6ede": {
      "model_module": "@jupyter-widgets/base",
      "model_module_version": "1.2.0",
      "model_name": "LayoutModel",
      "state": {}
     },
     "d18b6c3b01624340bda69e116426caeb": {
      "model_module": "@jupyter-widgets/controls",
      "model_module_version": "1.5.0",
      "model_name": "HBoxModel",
      "state": {
       "children": [
        "IPY_MODEL_d5f2b2dbd00f4d63b47201c924259bd1",
        "IPY_MODEL_c226793f5d2c47ee9babeb5f64ee0cbe",
        "IPY_MODEL_adb8ccb56ceb4d2f8b7400e203643bc3"
       ],
       "layout": "IPY_MODEL_bd4b9c6d3b0f4c009333fe145a97df6b"
      }
     },
     "d1af5a34136c425a9fd5ecf8e1715b2f": {
      "model_module": "@jupyter-widgets/controls",
      "model_module_version": "1.5.0",
      "model_name": "DescriptionStyleModel",
      "state": {
       "description_width": ""
      }
     },
     "d1afb37eb1ad4af888454709f62e39e9": {
      "model_module": "@jupyter-widgets/controls",
      "model_module_version": "1.5.0",
      "model_name": "HTMLModel",
      "state": {
       "layout": "IPY_MODEL_194ed1434a4a4b8a8e3aa49e20169e30",
       "style": "IPY_MODEL_b31683ec1cc743e2800269f2880be787",
       "value": " 100/100 [10:25&lt;00:00,  6.25s/it]"
      }
     },
     "d2269d3d30ea461bb31d56ba10b6e15a": {
      "model_module": "@jupyter-widgets/controls",
      "model_module_version": "1.5.0",
      "model_name": "ProgressStyleModel",
      "state": {
       "description_width": ""
      }
     },
     "d2a89051542547158a467278af208e5d": {
      "model_module": "@jupyter-widgets/controls",
      "model_module_version": "1.5.0",
      "model_name": "HTMLModel",
      "state": {
       "layout": "IPY_MODEL_1843ba963fc24f939471415f68687197",
       "style": "IPY_MODEL_69537a5c55b74f74b08e9e5e2c52bec2",
       "value": " 100/100 [06:03&lt;00:00,  2.72s/it]"
      }
     },
     "d2d827e1aa2a4f6da3a85ec575154625": {
      "model_module": "@jupyter-widgets/controls",
      "model_module_version": "1.5.0",
      "model_name": "HTMLModel",
      "state": {
       "layout": "IPY_MODEL_95b12a105e014be9846a489ea696a004",
       "style": "IPY_MODEL_6fda593a7648472da0fef06f61451d2e",
       "value": " 100/100 [11:33&lt;00:00,  5.20s/it]"
      }
     },
     "d373d7d6a9274f9db54a328587e7b2aa": {
      "model_module": "@jupyter-widgets/controls",
      "model_module_version": "1.5.0",
      "model_name": "HTMLModel",
      "state": {
       "layout": "IPY_MODEL_3ddced85a9ef44478775ca53661ca5d4",
       "style": "IPY_MODEL_d005b214a7fe41e19f64f0db560f16e1",
       "value": " 100/100 [11:56&lt;00:00,  7.17s/it]"
      }
     },
     "d3a2c7b01eda448ca349ec3dcf8ecb75": {
      "model_module": "@jupyter-widgets/base",
      "model_module_version": "1.2.0",
      "model_name": "LayoutModel",
      "state": {}
     },
     "d3f27fd4db384dd7a241beab217d28fd": {
      "model_module": "@jupyter-widgets/base",
      "model_module_version": "1.2.0",
      "model_name": "LayoutModel",
      "state": {}
     },
     "d3fd2821892c4e248f7dfc735f4c088e": {
      "model_module": "@jupyter-widgets/base",
      "model_module_version": "1.2.0",
      "model_name": "LayoutModel",
      "state": {}
     },
     "d40cb2c007b8429eb1fb8dd645d29818": {
      "model_module": "@jupyter-widgets/controls",
      "model_module_version": "1.5.0",
      "model_name": "DescriptionStyleModel",
      "state": {
       "description_width": ""
      }
     },
     "d420a164ef08455eb5d64ace9af20f7f": {
      "model_module": "@jupyter-widgets/base",
      "model_module_version": "1.2.0",
      "model_name": "LayoutModel",
      "state": {}
     },
     "d4303454f649401fb71730068dffe3a9": {
      "model_module": "@jupyter-widgets/base",
      "model_module_version": "1.2.0",
      "model_name": "LayoutModel",
      "state": {}
     },
     "d478052867254cf58dcd760f5aaedfbc": {
      "model_module": "@jupyter-widgets/controls",
      "model_module_version": "1.5.0",
      "model_name": "HTMLModel",
      "state": {
       "layout": "IPY_MODEL_8df95a0d642e43019791e183ba56980c",
       "style": "IPY_MODEL_3f3880e84d934759ba3a2ceaf192ea05",
       "value": "100%"
      }
     },
     "d5381721ef684776bb478d3da43d756d": {
      "model_module": "@jupyter-widgets/controls",
      "model_module_version": "1.5.0",
      "model_name": "DescriptionStyleModel",
      "state": {
       "description_width": ""
      }
     },
     "d5f2b2dbd00f4d63b47201c924259bd1": {
      "model_module": "@jupyter-widgets/controls",
      "model_module_version": "1.5.0",
      "model_name": "HTMLModel",
      "state": {
       "layout": "IPY_MODEL_c6e3facdb8ed493485f1931cbbd47900",
       "style": "IPY_MODEL_149c6c03c63742d392850452fd75ba38",
       "value": "100%"
      }
     },
     "d608a8d6765a4b60bb49c9dbdd8b5f00": {
      "model_module": "@jupyter-widgets/controls",
      "model_module_version": "1.5.0",
      "model_name": "HTMLModel",
      "state": {
       "layout": "IPY_MODEL_73a812a081674d49b84d71dde5bd1bb6",
       "style": "IPY_MODEL_5f02c86413294f9a91013f264407cf5a",
       "value": " 100/100 [11:04&lt;00:00,  4.79s/it]"
      }
     },
     "d6a0a4cce0e1421a997283777d06041a": {
      "model_module": "@jupyter-widgets/controls",
      "model_module_version": "1.5.0",
      "model_name": "DescriptionStyleModel",
      "state": {
       "description_width": ""
      }
     },
     "d6d9999b01364511923362e2b4efb7f8": {
      "model_module": "@jupyter-widgets/controls",
      "model_module_version": "1.5.0",
      "model_name": "HBoxModel",
      "state": {
       "children": [
        "IPY_MODEL_e59ec814425c457a9a0e1e7706bf8177",
        "IPY_MODEL_70059544b42e4c50b6a5d94d05e83d65",
        "IPY_MODEL_9a0e8ecbbd4f4d16b34520d47c3184c2"
       ],
       "layout": "IPY_MODEL_1759f32a923242b684e37f036eaa0037"
      }
     },
     "d75ad1aa4eca46d2a425e68ed667d37e": {
      "model_module": "@jupyter-widgets/base",
      "model_module_version": "1.2.0",
      "model_name": "LayoutModel",
      "state": {}
     },
     "d75daaf45b2a4572926807fcc5134f5f": {
      "model_module": "@jupyter-widgets/base",
      "model_module_version": "1.2.0",
      "model_name": "LayoutModel",
      "state": {}
     },
     "d79ed9b7813f45fb90ded2d01dcf031c": {
      "model_module": "@jupyter-widgets/controls",
      "model_module_version": "1.5.0",
      "model_name": "HBoxModel",
      "state": {
       "children": [
        "IPY_MODEL_0b8d27cc4a6d4e79b356201ed2e47235",
        "IPY_MODEL_26a691b10a0b4c8381fff99fa6b2be5b",
        "IPY_MODEL_08a8f3ac49ef412eb0b264ee25943a0c"
       ],
       "layout": "IPY_MODEL_e5812cb2075b41178a51993b5ce9730e"
      }
     },
     "d7e7d45953604a4386cb58a7302fc692": {
      "model_module": "@jupyter-widgets/base",
      "model_module_version": "1.2.0",
      "model_name": "LayoutModel",
      "state": {}
     },
     "d814d35359ea4a7b9d1f5d449482eda2": {
      "model_module": "@jupyter-widgets/controls",
      "model_module_version": "1.5.0",
      "model_name": "FloatProgressModel",
      "state": {
       "bar_style": "success",
       "layout": "IPY_MODEL_27d92e05080f438e8f27d127c3e71ae9",
       "style": "IPY_MODEL_ca3e555284a2488583d21e666bcc0a00",
       "value": 100
      }
     },
     "d993df03b26a4c56851cbb20987ecc27": {
      "model_module": "@jupyter-widgets/base",
      "model_module_version": "1.2.0",
      "model_name": "LayoutModel",
      "state": {}
     },
     "d9b0567c0ee04eadae1a9b845614d93e": {
      "model_module": "@jupyter-widgets/base",
      "model_module_version": "1.2.0",
      "model_name": "LayoutModel",
      "state": {}
     },
     "d9bd83647cec49fe8147234b8440708c": {
      "model_module": "@jupyter-widgets/controls",
      "model_module_version": "1.5.0",
      "model_name": "DescriptionStyleModel",
      "state": {
       "description_width": ""
      }
     },
     "da26eac93bf140ed8c9560b5f9e98a1e": {
      "model_module": "@jupyter-widgets/base",
      "model_module_version": "1.2.0",
      "model_name": "LayoutModel",
      "state": {}
     },
     "da5e1536263f43519771548968f772d2": {
      "model_module": "@jupyter-widgets/controls",
      "model_module_version": "1.5.0",
      "model_name": "ProgressStyleModel",
      "state": {
       "description_width": ""
      }
     },
     "da9233eaaf904223bac5eb5ad13a658f": {
      "model_module": "@jupyter-widgets/base",
      "model_module_version": "1.2.0",
      "model_name": "LayoutModel",
      "state": {}
     },
     "dae30f78887a478c8a2f75094f6047e4": {
      "model_module": "@jupyter-widgets/controls",
      "model_module_version": "1.5.0",
      "model_name": "ProgressStyleModel",
      "state": {
       "description_width": ""
      }
     },
     "db5708508a3b480d8f8fb534f4b5b148": {
      "model_module": "@jupyter-widgets/base",
      "model_module_version": "1.2.0",
      "model_name": "LayoutModel",
      "state": {}
     },
     "db8fb2f9361241f59b738008c99666e1": {
      "model_module": "@jupyter-widgets/controls",
      "model_module_version": "1.5.0",
      "model_name": "FloatProgressModel",
      "state": {
       "bar_style": "success",
       "layout": "IPY_MODEL_e6a3fe4a5ab44a7a9e55f35feb12af83",
       "style": "IPY_MODEL_14435a9a183a46a1a835cf29f24c1aca",
       "value": 100
      }
     },
     "db9c624cb34847c0b03a4eef2b5c81ae": {
      "model_module": "@jupyter-widgets/controls",
      "model_module_version": "1.5.0",
      "model_name": "HTMLModel",
      "state": {
       "layout": "IPY_MODEL_3f5a60fb26e54452b25efbb1e5fa67fe",
       "style": "IPY_MODEL_c1a1d21902884ec99e6fe4f6d33d9c8f",
       "value": "100%"
      }
     },
     "dbbee555aefd45fe942ab684ae6f6bd4": {
      "model_module": "@jupyter-widgets/controls",
      "model_module_version": "1.5.0",
      "model_name": "DescriptionStyleModel",
      "state": {
       "description_width": ""
      }
     },
     "dbe50d06a464485190c08575aff07e82": {
      "model_module": "@jupyter-widgets/base",
      "model_module_version": "1.2.0",
      "model_name": "LayoutModel",
      "state": {}
     },
     "dbe9625e97b74b1080048e682a4c454e": {
      "model_module": "@jupyter-widgets/controls",
      "model_module_version": "1.5.0",
      "model_name": "HTMLModel",
      "state": {
       "layout": "IPY_MODEL_201cdb580c824d339db2261fee0c324f",
       "style": "IPY_MODEL_9a56e8de3114477caadafeaa4898b564",
       "value": " 0/100 [00:01&lt;?, ?it/s]"
      }
     },
     "dc32d42f442f41919fd3a5f7863c3d98": {
      "model_module": "@jupyter-widgets/base",
      "model_module_version": "1.2.0",
      "model_name": "LayoutModel",
      "state": {}
     },
     "dc5014b0d9f243cba264da492fe6b290": {
      "model_module": "@jupyter-widgets/controls",
      "model_module_version": "1.5.0",
      "model_name": "DescriptionStyleModel",
      "state": {
       "description_width": ""
      }
     },
     "dc5f2cfc35eb4943a9906d17d8ecfda7": {
      "model_module": "@jupyter-widgets/controls",
      "model_module_version": "1.5.0",
      "model_name": "HBoxModel",
      "state": {
       "children": [
        "IPY_MODEL_dd0e838fa48c46a39ec5b0bbc4e54f6f",
        "IPY_MODEL_c440c039ae3e4e1da9030fba61279efd",
        "IPY_MODEL_b5dcfc7ce3b7495690275f84311eb6a1"
       ],
       "layout": "IPY_MODEL_78cf577d783a4de892a9df46d5ed40c9"
      }
     },
     "dd0e838fa48c46a39ec5b0bbc4e54f6f": {
      "model_module": "@jupyter-widgets/controls",
      "model_module_version": "1.5.0",
      "model_name": "HTMLModel",
      "state": {
       "layout": "IPY_MODEL_c70995378ca04e8d9f202014fed227c9",
       "style": "IPY_MODEL_e97cc21009324c45a7dcc8cf3752009c",
       "value": "100%"
      }
     },
     "dd44c0bae8e04cd88c5e246f6bb4fda7": {
      "model_module": "@jupyter-widgets/base",
      "model_module_version": "1.2.0",
      "model_name": "LayoutModel",
      "state": {}
     },
     "ddf44913422d4c2b891badaa2537ab4c": {
      "model_module": "@jupyter-widgets/base",
      "model_module_version": "1.2.0",
      "model_name": "LayoutModel",
      "state": {}
     },
     "de60ac2a41cd4cb1b57a0ee1fe0b596e": {
      "model_module": "@jupyter-widgets/controls",
      "model_module_version": "1.5.0",
      "model_name": "HBoxModel",
      "state": {
       "children": [
        "IPY_MODEL_a52dd1df882c4edca6cc35a40b0b2c7c",
        "IPY_MODEL_dfc5b40a906946b181fab58735948806",
        "IPY_MODEL_5dfe7e88001143eba00419f55a090e25"
       ],
       "layout": "IPY_MODEL_dc32d42f442f41919fd3a5f7863c3d98"
      }
     },
     "deac7c3e17cc4cd386e9d3d2ccc57fe1": {
      "model_module": "@jupyter-widgets/controls",
      "model_module_version": "1.5.0",
      "model_name": "HTMLModel",
      "state": {
       "layout": "IPY_MODEL_b0c07aabdd6c4be7ab15389998b9058d",
       "style": "IPY_MODEL_c6abd231a139484498c879d3251a0da5",
       "value": "  0%"
      }
     },
     "dedeae100e384582aeecbaaddf18ee21": {
      "model_module": "@jupyter-widgets/controls",
      "model_module_version": "1.5.0",
      "model_name": "HBoxModel",
      "state": {
       "children": [
        "IPY_MODEL_3d9585b8373041ab96f97deb9454e355",
        "IPY_MODEL_c9d49d19888a4ac39e87062ba3d9e4dd",
        "IPY_MODEL_eb8807a9f4a646549ff479fcdb2b9e92"
       ],
       "layout": "IPY_MODEL_6ecdea1ca3b544069efcd0efd8b7824f"
      }
     },
     "df0923a3548e47178ba95617574a0fc6": {
      "model_module": "@jupyter-widgets/base",
      "model_module_version": "1.2.0",
      "model_name": "LayoutModel",
      "state": {}
     },
     "df6b65bfb86640e6a30d72caa9df79b6": {
      "model_module": "@jupyter-widgets/controls",
      "model_module_version": "1.5.0",
      "model_name": "HBoxModel",
      "state": {
       "children": [
        "IPY_MODEL_ab654840cb2d43408daf2258cccd7159",
        "IPY_MODEL_78510e9fd37b41399f84dd1e5e8093e1",
        "IPY_MODEL_f9916ae0f0054fbe8b99e0224a9b9d71"
       ],
       "layout": "IPY_MODEL_7d5ba3547570482b991e8258d9789a35"
      }
     },
     "dfc5b40a906946b181fab58735948806": {
      "model_module": "@jupyter-widgets/controls",
      "model_module_version": "1.5.0",
      "model_name": "FloatProgressModel",
      "state": {
       "bar_style": "success",
       "layout": "IPY_MODEL_ac2a4328a1314f47aa29118822c1b10e",
       "style": "IPY_MODEL_6e6e1b6a4fa449e9b1be2213d5df7af8",
       "value": 100
      }
     },
     "e0207bd88f84401ab6c6dbd6acc86664": {
      "model_module": "@jupyter-widgets/controls",
      "model_module_version": "1.5.0",
      "model_name": "DescriptionStyleModel",
      "state": {
       "description_width": ""
      }
     },
     "e0d34ba21a414d6a9b5c46be250c5a79": {
      "model_module": "@jupyter-widgets/controls",
      "model_module_version": "1.5.0",
      "model_name": "HTMLModel",
      "state": {
       "layout": "IPY_MODEL_091ecac5f2f24379be026d2a8ee686e4",
       "style": "IPY_MODEL_cd5bec3e4241433195bfb500b6ec71f3",
       "value": "100%"
      }
     },
     "e0fe0e8edbd4497db02e42e6ed8801a0": {
      "model_module": "@jupyter-widgets/base",
      "model_module_version": "1.2.0",
      "model_name": "LayoutModel",
      "state": {}
     },
     "e21dab2838ed440daa5b3788e2da67a9": {
      "model_module": "@jupyter-widgets/controls",
      "model_module_version": "1.5.0",
      "model_name": "HBoxModel",
      "state": {
       "children": [
        "IPY_MODEL_38b0e1064fec422a9d85ce269b571503",
        "IPY_MODEL_25ba2a7050c34198b28b19179c7577de",
        "IPY_MODEL_427ae22b76a04578ae4a3c5feafed729"
       ],
       "layout": "IPY_MODEL_feb58a9ddcef4bb2aa2f6131e0b00ac2"
      }
     },
     "e29589ba9c244049a83843668375b5ee": {
      "model_module": "@jupyter-widgets/controls",
      "model_module_version": "1.5.0",
      "model_name": "ProgressStyleModel",
      "state": {
       "description_width": ""
      }
     },
     "e2f36ccb197242fc98430dd00dcfd7f2": {
      "model_module": "@jupyter-widgets/controls",
      "model_module_version": "1.5.0",
      "model_name": "DescriptionStyleModel",
      "state": {
       "description_width": ""
      }
     },
     "e2fb6082680a4ebd83f9ee997acb5f3f": {
      "model_module": "@jupyter-widgets/controls",
      "model_module_version": "1.5.0",
      "model_name": "ProgressStyleModel",
      "state": {
       "description_width": ""
      }
     },
     "e352590940ec49069fe1df684bc504dd": {
      "model_module": "@jupyter-widgets/controls",
      "model_module_version": "1.5.0",
      "model_name": "ProgressStyleModel",
      "state": {
       "description_width": ""
      }
     },
     "e4a1015502bb4b46918f284a10ed3391": {
      "model_module": "@jupyter-widgets/controls",
      "model_module_version": "1.5.0",
      "model_name": "DescriptionStyleModel",
      "state": {
       "description_width": ""
      }
     },
     "e4cba76ab8bf4765bd84b4e7c5564050": {
      "model_module": "@jupyter-widgets/base",
      "model_module_version": "1.2.0",
      "model_name": "LayoutModel",
      "state": {}
     },
     "e4fbf0d87cbb4303a41082e2d2e093c4": {
      "model_module": "@jupyter-widgets/controls",
      "model_module_version": "1.5.0",
      "model_name": "DescriptionStyleModel",
      "state": {
       "description_width": ""
      }
     },
     "e4fc8eb7e63a4629a47201b42319e583": {
      "model_module": "@jupyter-widgets/base",
      "model_module_version": "1.2.0",
      "model_name": "LayoutModel",
      "state": {}
     },
     "e5044224a5034347bcc3d2b1b1b7b71e": {
      "model_module": "@jupyter-widgets/controls",
      "model_module_version": "1.5.0",
      "model_name": "ProgressStyleModel",
      "state": {
       "description_width": ""
      }
     },
     "e55bd8987c5f4f838497c07ccbb13f27": {
      "model_module": "@jupyter-widgets/controls",
      "model_module_version": "1.5.0",
      "model_name": "HTMLModel",
      "state": {
       "layout": "IPY_MODEL_3d080e3aab304741a44fdb6af1740978",
       "style": "IPY_MODEL_cadf01c74c184bfcb8b686b45c107f3a",
       "value": "100%"
      }
     },
     "e5812cb2075b41178a51993b5ce9730e": {
      "model_module": "@jupyter-widgets/base",
      "model_module_version": "1.2.0",
      "model_name": "LayoutModel",
      "state": {}
     },
     "e59ec814425c457a9a0e1e7706bf8177": {
      "model_module": "@jupyter-widgets/controls",
      "model_module_version": "1.5.0",
      "model_name": "HTMLModel",
      "state": {
       "layout": "IPY_MODEL_1ae09a75add14ac48b75d41d0b755832",
       "style": "IPY_MODEL_49021f1844d04aeaa84b2f798bd0bc2e",
       "value": "100%"
      }
     },
     "e5a5312a1de44bde834415cbaa9307ba": {
      "model_module": "@jupyter-widgets/base",
      "model_module_version": "1.2.0",
      "model_name": "LayoutModel",
      "state": {}
     },
     "e5db2320b6b44fc68c3fc41092675cf9": {
      "model_module": "@jupyter-widgets/controls",
      "model_module_version": "1.5.0",
      "model_name": "ProgressStyleModel",
      "state": {
       "description_width": ""
      }
     },
     "e61375f715114b46b1a3107ba98b9ddc": {
      "model_module": "@jupyter-widgets/controls",
      "model_module_version": "1.5.0",
      "model_name": "ProgressStyleModel",
      "state": {
       "description_width": ""
      }
     },
     "e6a3fe4a5ab44a7a9e55f35feb12af83": {
      "model_module": "@jupyter-widgets/base",
      "model_module_version": "1.2.0",
      "model_name": "LayoutModel",
      "state": {}
     },
     "e7feeaa30d6c47eea8716aea430eecc7": {
      "model_module": "@jupyter-widgets/controls",
      "model_module_version": "1.5.0",
      "model_name": "HTMLModel",
      "state": {
       "layout": "IPY_MODEL_27faae7403be405495905aedb1a05eef",
       "style": "IPY_MODEL_a3cc3ca0d9944182a71274169f00388d",
       "value": "  0%"
      }
     },
     "e83c27530e2f4255952be471e67c0041": {
      "model_module": "@jupyter-widgets/controls",
      "model_module_version": "1.5.0",
      "model_name": "ProgressStyleModel",
      "state": {
       "description_width": ""
      }
     },
     "e8408aee32f044f8a4922157639c9c31": {
      "model_module": "@jupyter-widgets/controls",
      "model_module_version": "1.5.0",
      "model_name": "DescriptionStyleModel",
      "state": {
       "description_width": ""
      }
     },
     "e896be7ee4ec4b858ddc39810c179d9b": {
      "model_module": "@jupyter-widgets/controls",
      "model_module_version": "1.5.0",
      "model_name": "ProgressStyleModel",
      "state": {
       "description_width": ""
      }
     },
     "e910ba3ccfc34dcfb589f2c7f44628d3": {
      "model_module": "@jupyter-widgets/controls",
      "model_module_version": "1.5.0",
      "model_name": "HBoxModel",
      "state": {
       "children": [
        "IPY_MODEL_72b68b5cd4e94e8b98360a20510faf2d",
        "IPY_MODEL_b0a124dbb9aa4eb1bc980a3e1d3bfe8e",
        "IPY_MODEL_b63ae01e5c154be095d833eee709e7c5"
       ],
       "layout": "IPY_MODEL_291d319a29a946d1a6cdad393398f92e"
      }
     },
     "e9783627dd7540ed9e3a9defcfea8e0f": {
      "model_module": "@jupyter-widgets/base",
      "model_module_version": "1.2.0",
      "model_name": "LayoutModel",
      "state": {}
     },
     "e97cc21009324c45a7dcc8cf3752009c": {
      "model_module": "@jupyter-widgets/controls",
      "model_module_version": "1.5.0",
      "model_name": "DescriptionStyleModel",
      "state": {
       "description_width": ""
      }
     },
     "ea5e16505e9e4a5582ace4ef1c3b66eb": {
      "model_module": "@jupyter-widgets/base",
      "model_module_version": "1.2.0",
      "model_name": "LayoutModel",
      "state": {}
     },
     "eaee08545fbb467ebe0fc736439e2ccc": {
      "model_module": "@jupyter-widgets/controls",
      "model_module_version": "1.5.0",
      "model_name": "DescriptionStyleModel",
      "state": {
       "description_width": ""
      }
     },
     "eb171c688a5d4916b0b151bf28cbef16": {
      "model_module": "@jupyter-widgets/base",
      "model_module_version": "1.2.0",
      "model_name": "LayoutModel",
      "state": {}
     },
     "eb68b43133ec42fc86e896084f8dfc29": {
      "model_module": "@jupyter-widgets/base",
      "model_module_version": "1.2.0",
      "model_name": "LayoutModel",
      "state": {}
     },
     "eb8807a9f4a646549ff479fcdb2b9e92": {
      "model_module": "@jupyter-widgets/controls",
      "model_module_version": "1.5.0",
      "model_name": "HTMLModel",
      "state": {
       "layout": "IPY_MODEL_1ee261da2367483390b775244a03f436",
       "style": "IPY_MODEL_4bdca636f5444b83afea6609b0503366",
       "value": " 100/100 [10:52&lt;00:00,  4.98s/it]"
      }
     },
     "ec20a00477664eb5a4c23b19e7dc0b0a": {
      "model_module": "@jupyter-widgets/base",
      "model_module_version": "1.2.0",
      "model_name": "LayoutModel",
      "state": {}
     },
     "ec726ad600284265ba66ced0e587e0b1": {
      "model_module": "@jupyter-widgets/controls",
      "model_module_version": "1.5.0",
      "model_name": "FloatProgressModel",
      "state": {
       "bar_style": "danger",
       "layout": "IPY_MODEL_5c6b1272d8d04597a9652bb3c870a69f",
       "style": "IPY_MODEL_38b5d71d8e5245c8b97604edea10669a"
      }
     },
     "ec84add95faa435dbffca837915c895e": {
      "model_module": "@jupyter-widgets/base",
      "model_module_version": "1.2.0",
      "model_name": "LayoutModel",
      "state": {}
     },
     "ed2fd43bb8984dc7af094805858cb857": {
      "model_module": "@jupyter-widgets/controls",
      "model_module_version": "1.5.0",
      "model_name": "FloatProgressModel",
      "state": {
       "bar_style": "success",
       "layout": "IPY_MODEL_8ac2d21aacc744708b9ecc9086a4505b",
       "style": "IPY_MODEL_0c54a84cdb8d417eb6bcfa81e864ddd5",
       "value": 100
      }
     },
     "ed5a295e12744b7db254dd658d27ed8a": {
      "model_module": "@jupyter-widgets/controls",
      "model_module_version": "1.5.0",
      "model_name": "FloatProgressModel",
      "state": {
       "bar_style": "success",
       "layout": "IPY_MODEL_8ae0e48aeee846a7acba46608003a66f",
       "style": "IPY_MODEL_2fb91f0372f443ea87cfbe3666efb679",
       "value": 100
      }
     },
     "edbfa9d822724589b15dbf9a2a65275e": {
      "model_module": "@jupyter-widgets/controls",
      "model_module_version": "1.5.0",
      "model_name": "ProgressStyleModel",
      "state": {
       "description_width": ""
      }
     },
     "edcdfed5fffc443292066ef393df6300": {
      "model_module": "@jupyter-widgets/controls",
      "model_module_version": "1.5.0",
      "model_name": "FloatProgressModel",
      "state": {
       "bar_style": "success",
       "layout": "IPY_MODEL_68b06e57724c461499b0ffc409d3ebcd",
       "style": "IPY_MODEL_835a441c281543f2a66d9045e5c439c9",
       "value": 100
      }
     },
     "edf4e2982466435b8c39d855dc161edb": {
      "model_module": "@jupyter-widgets/base",
      "model_module_version": "1.2.0",
      "model_name": "LayoutModel",
      "state": {}
     },
     "edf8d35ac4734b77ae71d1ed1d1ee094": {
      "model_module": "@jupyter-widgets/controls",
      "model_module_version": "1.5.0",
      "model_name": "HBoxModel",
      "state": {
       "children": [
        "IPY_MODEL_6308c216183c478fad9d2938836edf75",
        "IPY_MODEL_3d1a6bc3cdfe4d038577acaeffa77c53",
        "IPY_MODEL_6ddba101db3c4eb285affb2d0866d381"
       ],
       "layout": "IPY_MODEL_4fd442dcffd5457b884b77dd2fc34faf"
      }
     },
     "ef5eb7c53c2047ff97ff7ea2c3eddb67": {
      "model_module": "@jupyter-widgets/base",
      "model_module_version": "1.2.0",
      "model_name": "LayoutModel",
      "state": {}
     },
     "ef76703d710b422eb470d22ea5908e19": {
      "model_module": "@jupyter-widgets/base",
      "model_module_version": "1.2.0",
      "model_name": "LayoutModel",
      "state": {}
     },
     "f0385d8ca0ff48bd9116821aaea136f0": {
      "model_module": "@jupyter-widgets/controls",
      "model_module_version": "1.5.0",
      "model_name": "FloatProgressModel",
      "state": {
       "bar_style": "danger",
       "layout": "IPY_MODEL_dbe50d06a464485190c08575aff07e82",
       "max": 2836,
       "style": "IPY_MODEL_26cb557907e045f39abe81e9eee827a8",
       "value": 1
      }
     },
     "f05dcb32c58f407fa4f91aad501ac284": {
      "model_module": "@jupyter-widgets/base",
      "model_module_version": "1.2.0",
      "model_name": "LayoutModel",
      "state": {}
     },
     "f08589ecd7b549329ac06ec30d0edadc": {
      "model_module": "@jupyter-widgets/base",
      "model_module_version": "1.2.0",
      "model_name": "LayoutModel",
      "state": {}
     },
     "f096b95112744f8598a62999b7cded3a": {
      "model_module": "@jupyter-widgets/base",
      "model_module_version": "1.2.0",
      "model_name": "LayoutModel",
      "state": {}
     },
     "f0b0572ff32e4b3fa5c40021c2f1408e": {
      "model_module": "@jupyter-widgets/controls",
      "model_module_version": "1.5.0",
      "model_name": "HTMLModel",
      "state": {
       "layout": "IPY_MODEL_bb3c053ac0e64bbab04f3c0e8159b23a",
       "style": "IPY_MODEL_2fe7ec6109844bfdb1ec5afbe3e55c85",
       "value": "100%"
      }
     },
     "f1a385db8c2f4a2aa8906beee1b1719f": {
      "model_module": "@jupyter-widgets/controls",
      "model_module_version": "1.5.0",
      "model_name": "HTMLModel",
      "state": {
       "layout": "IPY_MODEL_9f788ecebf21489e98c3aca54c6b2a84",
       "style": "IPY_MODEL_6c81d3ca527e439da686d6bafdbd3b60",
       "value": "100%"
      }
     },
     "f1c81f4513f545ff8372e97e0bc3ca56": {
      "model_module": "@jupyter-widgets/base",
      "model_module_version": "1.2.0",
      "model_name": "LayoutModel",
      "state": {}
     },
     "f2210d05cfab42c8b2a16d6ec646abbf": {
      "model_module": "@jupyter-widgets/controls",
      "model_module_version": "1.5.0",
      "model_name": "DescriptionStyleModel",
      "state": {
       "description_width": ""
      }
     },
     "f2d486b362654163975911d6bf5e5513": {
      "model_module": "@jupyter-widgets/base",
      "model_module_version": "1.2.0",
      "model_name": "LayoutModel",
      "state": {}
     },
     "f31050e42f0c4e3598507b398f87e8ee": {
      "model_module": "@jupyter-widgets/controls",
      "model_module_version": "1.5.0",
      "model_name": "HTMLModel",
      "state": {
       "layout": "IPY_MODEL_451abd48b1e0466cb9eac3a8788186b7",
       "style": "IPY_MODEL_fd54bea8f4b844b8983adc029e7efe04",
       "value": "  0%"
      }
     },
     "f3b62e66389c450395bb1c31e898839d": {
      "model_module": "@jupyter-widgets/base",
      "model_module_version": "1.2.0",
      "model_name": "LayoutModel",
      "state": {}
     },
     "f44c5ef1f4c14c7f8c12d2d83b32d858": {
      "model_module": "@jupyter-widgets/controls",
      "model_module_version": "1.5.0",
      "model_name": "HTMLModel",
      "state": {
       "layout": "IPY_MODEL_33304d23e71e4057bcf6bacafe851592",
       "style": "IPY_MODEL_468bdad7986747c79078afd5026826c2",
       "value": "100%"
      }
     },
     "f4890e343557463a8408b401532aa525": {
      "model_module": "@jupyter-widgets/controls",
      "model_module_version": "1.5.0",
      "model_name": "ProgressStyleModel",
      "state": {
       "description_width": ""
      }
     },
     "f4b2e18246e34b2394418cf3a96dd186": {
      "model_module": "@jupyter-widgets/controls",
      "model_module_version": "1.5.0",
      "model_name": "HBoxModel",
      "state": {
       "children": [
        "IPY_MODEL_deac7c3e17cc4cd386e9d3d2ccc57fe1",
        "IPY_MODEL_4f23555dfe1b4f9a9e52c451a047cd35",
        "IPY_MODEL_dbe9625e97b74b1080048e682a4c454e"
       ],
       "layout": "IPY_MODEL_a3df8ba8ab6d42098fd27656396811ee"
      }
     },
     "f5eb30c6eb7740679a9a23909b109d63": {
      "model_module": "@jupyter-widgets/base",
      "model_module_version": "1.2.0",
      "model_name": "LayoutModel",
      "state": {}
     },
     "f62522c574f54e83a7d91be78477d5ce": {
      "model_module": "@jupyter-widgets/base",
      "model_module_version": "1.2.0",
      "model_name": "LayoutModel",
      "state": {}
     },
     "f62617992d8e40ed92ed8f424495316e": {
      "model_module": "@jupyter-widgets/controls",
      "model_module_version": "1.5.0",
      "model_name": "ProgressStyleModel",
      "state": {
       "description_width": ""
      }
     },
     "f637e44166db494182cb5244063fcce2": {
      "model_module": "@jupyter-widgets/controls",
      "model_module_version": "1.5.0",
      "model_name": "HTMLModel",
      "state": {
       "layout": "IPY_MODEL_f08589ecd7b549329ac06ec30d0edadc",
       "style": "IPY_MODEL_3daf35ebdd584f78ad388b10782f4f93",
       "value": "100%"
      }
     },
     "f6cb85bf48eb423686e054f38e1282a6": {
      "model_module": "@jupyter-widgets/controls",
      "model_module_version": "1.5.0",
      "model_name": "ProgressStyleModel",
      "state": {
       "description_width": ""
      }
     },
     "f777e16a170841f1a979bd0f02c92457": {
      "model_module": "@jupyter-widgets/controls",
      "model_module_version": "1.5.0",
      "model_name": "ProgressStyleModel",
      "state": {
       "description_width": ""
      }
     },
     "f77a6758c83e4495ad393510af166cb4": {
      "model_module": "@jupyter-widgets/controls",
      "model_module_version": "1.5.0",
      "model_name": "HBoxModel",
      "state": {
       "children": [
        "IPY_MODEL_4476ad8052694861990f07580003fc94",
        "IPY_MODEL_ec726ad600284265ba66ced0e587e0b1",
        "IPY_MODEL_1513fd617ebf43f5933b3c9b7346d944"
       ],
       "layout": "IPY_MODEL_7d38fc1adc3d4d7cb9da0fff62d1a0a5"
      }
     },
     "f78e5a15d8dd43918727519770a38064": {
      "model_module": "@jupyter-widgets/controls",
      "model_module_version": "1.5.0",
      "model_name": "ProgressStyleModel",
      "state": {
       "description_width": ""
      }
     },
     "f7d246ffa7334d59897bf1f50ec6332c": {
      "model_module": "@jupyter-widgets/controls",
      "model_module_version": "1.5.0",
      "model_name": "DescriptionStyleModel",
      "state": {
       "description_width": ""
      }
     },
     "f7dd147a697c413c87adfea4bf14c7e6": {
      "model_module": "@jupyter-widgets/base",
      "model_module_version": "1.2.0",
      "model_name": "LayoutModel",
      "state": {}
     },
     "f7dd8e9d354d48af876af1db1c0cb402": {
      "model_module": "@jupyter-widgets/controls",
      "model_module_version": "1.5.0",
      "model_name": "HTMLModel",
      "state": {
       "layout": "IPY_MODEL_02b4b05f3c694b53bec4dea26867a60b",
       "style": "IPY_MODEL_ae9191afca3f46ddbb63434107caf3a1",
       "value": "100%"
      }
     },
     "f8a1d248189b407185612f7eee31639d": {
      "model_module": "@jupyter-widgets/controls",
      "model_module_version": "1.5.0",
      "model_name": "HTMLModel",
      "state": {
       "layout": "IPY_MODEL_49e8546f5ba940259526a3ea80a3052f",
       "style": "IPY_MODEL_3b6581621bcc4181954d8b68d7c4d32d",
       "value": "100%"
      }
     },
     "f8b19f0f2c7f40b78fddc379ea9e80ac": {
      "model_module": "@jupyter-widgets/base",
      "model_module_version": "1.2.0",
      "model_name": "LayoutModel",
      "state": {}
     },
     "f8dcf35aaff346abaea50bb4874aed21": {
      "model_module": "@jupyter-widgets/controls",
      "model_module_version": "1.5.0",
      "model_name": "HTMLModel",
      "state": {
       "layout": "IPY_MODEL_127e6c62bf6245a7ac3ef6daf77a4609",
       "style": "IPY_MODEL_2358d510e58349b0afecddbe2cc881a0",
       "value": "100%"
      }
     },
     "f9916ae0f0054fbe8b99e0224a9b9d71": {
      "model_module": "@jupyter-widgets/controls",
      "model_module_version": "1.5.0",
      "model_name": "HTMLModel",
      "state": {
       "layout": "IPY_MODEL_1bb4ac9c8d2d42558ef693442c094767",
       "style": "IPY_MODEL_6c8e43e787744ecdadc617c13be79c04",
       "value": " 32/100 [03:29&lt;01:25,  1.25s/it]"
      }
     },
     "f99be59ab4934b07a5ccc32e3e5130b4": {
      "model_module": "@jupyter-widgets/controls",
      "model_module_version": "1.5.0",
      "model_name": "ProgressStyleModel",
      "state": {
       "description_width": ""
      }
     },
     "f9c688f2e1044248addf81b6c578b325": {
      "model_module": "@jupyter-widgets/controls",
      "model_module_version": "1.5.0",
      "model_name": "HTMLModel",
      "state": {
       "layout": "IPY_MODEL_5fddd43f0dde4543a602bd18ab91d6d6",
       "style": "IPY_MODEL_40c82e260f1945e7b8e64c005247ad99",
       "value": " 1/2838 [00:00&lt;09:39,  4.90it/s]"
      }
     },
     "f9fa9709aa3a406b9a68416cf6474c1b": {
      "model_module": "@jupyter-widgets/controls",
      "model_module_version": "1.5.0",
      "model_name": "HBoxModel",
      "state": {
       "children": [
        "IPY_MODEL_3fda4b2f4ae04829a0a35d1106f8b489",
        "IPY_MODEL_4b3a9e2502464350aac4ddde6c1a186a",
        "IPY_MODEL_879072f5da9846079d8e96a0a7c1f3ea"
       ],
       "layout": "IPY_MODEL_147391c2c74146f28bf1c3e0f59b7e5e"
      }
     },
     "fa4890e2438f4b25b9382d262af94a16": {
      "model_module": "@jupyter-widgets/base",
      "model_module_version": "1.2.0",
      "model_name": "LayoutModel",
      "state": {}
     },
     "fa8deb05bda6467ab8c865115d1cb757": {
      "model_module": "@jupyter-widgets/base",
      "model_module_version": "1.2.0",
      "model_name": "LayoutModel",
      "state": {}
     },
     "fad56f4d2b33435184a32fe15b2aea67": {
      "model_module": "@jupyter-widgets/controls",
      "model_module_version": "1.5.0",
      "model_name": "HTMLModel",
      "state": {
       "layout": "IPY_MODEL_9d5c605cb6bc43a7bb58fdeb69e4fd34",
       "style": "IPY_MODEL_2bda7446d32949799ee929e01aac791c",
       "value": "  0%"
      }
     },
     "faee10ad976c432c9b439cc82b4e0501": {
      "model_module": "@jupyter-widgets/base",
      "model_module_version": "1.2.0",
      "model_name": "LayoutModel",
      "state": {}
     },
     "fb21b06500934a5fbd6a4fbafd8cacfd": {
      "model_module": "@jupyter-widgets/controls",
      "model_module_version": "1.5.0",
      "model_name": "ProgressStyleModel",
      "state": {
       "description_width": ""
      }
     },
     "fc4687ca0b62482c9326dbd5c08d8f03": {
      "model_module": "@jupyter-widgets/base",
      "model_module_version": "1.2.0",
      "model_name": "LayoutModel",
      "state": {}
     },
     "fc9b184fd3774074b0abdd37b3611cf2": {
      "model_module": "@jupyter-widgets/controls",
      "model_module_version": "1.5.0",
      "model_name": "FloatProgressModel",
      "state": {
       "bar_style": "success",
       "layout": "IPY_MODEL_4bbff7c018b44e919c3648aac96b457c",
       "style": "IPY_MODEL_f4890e343557463a8408b401532aa525",
       "value": 100
      }
     },
     "fd04e77a20d947d1974d51c44999060e": {
      "model_module": "@jupyter-widgets/controls",
      "model_module_version": "1.5.0",
      "model_name": "FloatProgressModel",
      "state": {
       "bar_style": "success",
       "layout": "IPY_MODEL_a8f6c3dedc2b4c71b00091078a9ce663",
       "style": "IPY_MODEL_4fdd02cf8aeb4076af6aedb18a3e2b6c",
       "value": 100
      }
     },
     "fd54bea8f4b844b8983adc029e7efe04": {
      "model_module": "@jupyter-widgets/controls",
      "model_module_version": "1.5.0",
      "model_name": "DescriptionStyleModel",
      "state": {
       "description_width": ""
      }
     },
     "fdc4e78b8e8a487e96d65fe112e1ab99": {
      "model_module": "@jupyter-widgets/controls",
      "model_module_version": "1.5.0",
      "model_name": "DescriptionStyleModel",
      "state": {
       "description_width": ""
      }
     },
     "fe1194de3fc64e4ca66de2ce826576b5": {
      "model_module": "@jupyter-widgets/controls",
      "model_module_version": "1.5.0",
      "model_name": "HTMLModel",
      "state": {
       "layout": "IPY_MODEL_7eee2b2dcb544c0bb7371e688208467c",
       "style": "IPY_MODEL_7f33f930f1354339bd48b485f9364de3",
       "value": "100%"
      }
     },
     "fe1e0682fd954575a1df10b0149f19e5": {
      "model_module": "@jupyter-widgets/controls",
      "model_module_version": "1.5.0",
      "model_name": "HTMLModel",
      "state": {
       "layout": "IPY_MODEL_416dc031aa0d4dd9a27504529071a5bf",
       "style": "IPY_MODEL_327781b232ab41b7a8ae9aef8366d44b",
       "value": " 100/100 [10:56&lt;00:00,  4.78s/it]"
      }
     },
     "feb58a9ddcef4bb2aa2f6131e0b00ac2": {
      "model_module": "@jupyter-widgets/base",
      "model_module_version": "1.2.0",
      "model_name": "LayoutModel",
      "state": {}
     },
     "ff687fe62fe54e02869513e76a19d741": {
      "model_module": "@jupyter-widgets/base",
      "model_module_version": "1.2.0",
      "model_name": "LayoutModel",
      "state": {}
     },
     "ffd6bab4689a45edab4980c0ce2ff5e1": {
      "model_module": "@jupyter-widgets/base",
      "model_module_version": "1.2.0",
      "model_name": "LayoutModel",
      "state": {}
     }
    },
    "version_major": 2,
    "version_minor": 0
   }
  }
 },
 "nbformat": 4,
 "nbformat_minor": 4
}
